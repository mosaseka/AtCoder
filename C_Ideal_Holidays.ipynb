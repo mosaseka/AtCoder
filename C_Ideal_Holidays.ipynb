{
  "nbformat": 4,
  "nbformat_minor": 0,
  "metadata": {
    "colab": {
      "provenance": [],
      "authorship_tag": "ABX9TyNq1KdHrUULCh+joZo86bZQ",
      "include_colab_link": true
    },
    "kernelspec": {
      "name": "python3",
      "display_name": "Python 3"
    },
    "language_info": {
      "name": "python"
    }
  },
  "cells": [
    {
      "cell_type": "markdown",
      "metadata": {
        "id": "view-in-github",
        "colab_type": "text"
      },
      "source": [
        "<a href=\"https://colab.research.google.com/github/mosaseka/AtCoder/blob/main/C_Ideal_Holidays.ipynb\" target=\"_parent\"><img src=\"https://colab.research.google.com/assets/colab-badge.svg\" alt=\"Open In Colab\"/></a>"
      ]
    },
    {
      "cell_type": "code",
      "execution_count": null,
      "metadata": {
        "id": "c90GeHA4Gt5P"
      },
      "outputs": [],
      "source": [
        "N,A,B = map(int,input().split())\n",
        "D_LIST = list(map(int,input().split()))\n",
        "\n",
        "for i in range(N):\n",
        "  if D_LIST[i] >= A+B:\n",
        "    D_LIST[i] -= A+B\n",
        "\n",
        "D_LIST = list(set(D_LIST))\n",
        "\n",
        "for i in range(len(D_LIST)):\n",
        "  if D_LIST[i] <= A:\n",
        "    pass\n",
        "  else:\n",
        "    print(\"No\")\n",
        "    exit()\n",
        "\n",
        "print(\"Yes\")"
      ]
    },
    {
      "cell_type": "code",
      "source": [
        "N,A,B = map(int,input().split())\n",
        "D_LIST = list(map(int,input().split()))\n",
        "\n",
        "for i in range(N):\n",
        "  if D_LIST[i] > A+B:\n",
        "    D_LIST[i] -= A+B\n",
        "\n",
        "D_LIST = list(set(D_LIST))\n",
        "\n",
        "for i in range(len(D_LIST)):\n",
        "  if D_LIST[i] <= A:\n",
        "    pass\n",
        "  else:\n",
        "    print(\"No\")\n",
        "    exit()\n",
        "\n",
        "print(\"Yes\")"
      ],
      "metadata": {
        "id": "4zS48gFBRGB4"
      },
      "execution_count": null,
      "outputs": []
    },
    {
      "cell_type": "markdown",
      "source": [
        "次のコードは以下の問題を解くためのコードですが、誤りがあります。\n",
        "誤りを指摘し、正しいコードに書き換えてください。\n",
        "\n",
        "問題：AtCoder 王国の\n",
        "1 週間は\n",
        "A+B 日からなり、\n",
        "1 日目から\n",
        "A 日目が休日で、\n",
        "A+1 日目から\n",
        "A+B 日目が平日です。\n",
        "\n",
        "高橋くんは\n",
        "N 個の予定があり、\n",
        "i 番目の予定は今日から\n",
        "D\n",
        "i\n",
        "​\n",
        "  日後です。\n",
        "\n",
        "高橋くんは今日が\n",
        "1 週間の何日目かを忘れてしまいました。高橋くんの\n",
        "N 個の予定が全て休日である可能性があるかを判定してください。\n",
        "\n",
        "N,A,B = map(int,input().split())\n",
        "D_LIST = list(map(int,input().split()))\n",
        "\n",
        "for i in range(N):\n",
        "  if D_LIST[i] > A+B:\n",
        "    D_LIST[i] -= A+B\n",
        "\n",
        "D_LIST = list(set(D_LIST))\n",
        "\n",
        "for i in range(len(D_LIST)):\n",
        "  if D_LIST[i] <= A:\n",
        "    pass\n",
        "  else:\n",
        "    print(\"No\")\n",
        "    exit()\n",
        "\n",
        "print(\"Yes\")"
      ],
      "metadata": {
        "id": "ZSPjC-UPSGuD"
      }
    },
    {
      "cell_type": "code",
      "source": [
        "N,A,B = map(int,input().split())\n",
        "D_LIST = list(map(int,input().split()))\n",
        "\n",
        "for i in range(N):\n",
        "  if D_LIST[i] > A+B:\n",
        "    D_LIST[i] %= A+B\n",
        "\n",
        "D_LIST = list(set(D_LIST))\n",
        "\n",
        "for i in range(len(D_LIST)):\n",
        "  if D_LIST[i] <= A:\n",
        "    pass\n",
        "  else:\n",
        "    print(\"No\")\n",
        "    exit()\n",
        "\n",
        "print(\"Yes\")"
      ],
      "metadata": {
        "id": "-bh53ztHRswL"
      },
      "execution_count": null,
      "outputs": []
    },
    {
      "cell_type": "code",
      "source": [
        "N,A,B = map(int,input().split())\n",
        "D_LIST = list(map(int,input().split()))\n",
        "\n",
        "for i in range(N):\n",
        "  if D_LIST[i] > A+B:\n",
        "    D_LIST[i] %= A+B\n",
        "\n",
        "D_LIST = list(set(D_LIST))\n",
        "\n",
        "for i in range(len(D_LIST)):\n",
        "  if D_LIST[i] <= A:\n",
        "    pass\n",
        "  elif D_LIST[i] == 0 or D_LIST[i] > A:\n",
        "    print(\"No\")\n",
        "    exit()\n",
        "\n",
        "print(\"Yes\")"
      ],
      "metadata": {
        "id": "g82xDOFeTsHX"
      },
      "execution_count": null,
      "outputs": []
    },
    {
      "cell_type": "code",
      "source": [
        "N,A,B = map(int,input().split())\n",
        "D_LIST = list(map(int,input().split()))\n",
        "\n",
        "for i in range(N):\n",
        "  if D_LIST[i] > A+B:\n",
        "    D_LIST[i] %= A+B\n",
        "\n",
        "D_LIST = list(set(D_LIST))\n",
        "\n",
        "for i in range(len(D_LIST)):\n",
        "  if D_LIST[i] <= A:\n",
        "    pass\n",
        "  elif D_LIST[i] == 0 or D_LIST[i] > A:\n",
        "    print(\"No\")\n",
        "    exit()\n",
        "\n",
        "print(\"Yes\")"
      ],
      "metadata": {
        "id": "jJ8CXyGAVHOO"
      },
      "execution_count": null,
      "outputs": []
    },
    {
      "cell_type": "code",
      "source": [
        "N,A,B = map(int,input().split())\n",
        "D_LIST = list(map(int,input().split()))\n",
        "ANSWER = \"No\"\n",
        "\n",
        "for i in range(N):\n",
        "    D_LIST[i] %= A+B\n",
        "\n",
        "D_LIST = list(set(D_LIST))\n",
        "D_LIST.sort()\n",
        "\n",
        "for i in range(len(D_LIST)):\n",
        "  if i > 0:\n",
        "    if D_LIST[i] - D_LIST[i-1] > B:\n",
        "      ANSWER = \"Yes\"\n",
        "      break\n",
        "  else:\n",
        "    if D_LIST[i] + (A+B) - D_LIST[i-1] > B:\n",
        "      ANSWER = \"Yes\"\n",
        "      break\n",
        "\n",
        "print(ANSWER)"
      ],
      "metadata": {
        "id": "iZLZ_drWlyoi"
      },
      "execution_count": null,
      "outputs": []
    }
  ]
}