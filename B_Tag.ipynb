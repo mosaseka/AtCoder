{
  "nbformat": 4,
  "nbformat_minor": 0,
  "metadata": {
    "colab": {
      "provenance": [],
      "authorship_tag": "ABX9TyOVrbxczwJUlaTzgJrxwGZc",
      "include_colab_link": true
    },
    "kernelspec": {
      "name": "python3",
      "display_name": "Python 3"
    },
    "language_info": {
      "name": "python"
    }
  },
  "cells": [
    {
      "cell_type": "markdown",
      "metadata": {
        "id": "view-in-github",
        "colab_type": "text"
      },
      "source": [
        "<a href=\"https://colab.research.google.com/github/mosaseka/AtCoder/blob/main/B_Tag.ipynb\" target=\"_parent\"><img src=\"https://colab.research.google.com/assets/colab-badge.svg\" alt=\"Open In Colab\"/></a>"
      ]
    },
    {
      "cell_type": "code",
      "execution_count": null,
      "metadata": {
        "id": "wev2UWLpUdqK"
      },
      "outputs": [],
      "source": [
        "A,V = map(int,input().split())\n",
        "B,W = map(int,input().split())\n",
        "T = int(input())\n",
        "\n",
        "for i in range(T):\n",
        "  if A+(V*(i+1)) == B+(W*(i+1)):\n",
        "    print(\"YES\")\n",
        "    exit()\n",
        "\n",
        "print(\"NO\")"
      ]
    },
    {
      "cell_type": "code",
      "source": [
        "A,V = map(int,input().split())\n",
        "B,W = map(int,input().split())\n",
        "T = int(input())\n",
        "\n",
        "if V <= W:\n",
        "  print(\"NO\")\n",
        "else:\n",
        "  if abs(A-B) / (V-W) <= T:\n",
        "    print(\"YES\")\n",
        "  else:\n",
        "    print(\"NO\")"
      ],
      "metadata": {
        "id": "wOxbiWtIVN_a"
      },
      "execution_count": null,
      "outputs": []
    }
  ]
}