{
  "nbformat": 4,
  "nbformat_minor": 0,
  "metadata": {
    "colab": {
      "provenance": [],
      "authorship_tag": "ABX9TyPg7uQTvG/EP9blQ7kH9788",
      "include_colab_link": true
    },
    "kernelspec": {
      "name": "python3",
      "display_name": "Python 3"
    },
    "language_info": {
      "name": "python"
    }
  },
  "cells": [
    {
      "cell_type": "markdown",
      "metadata": {
        "id": "view-in-github",
        "colab_type": "text"
      },
      "source": [
        "<a href=\"https://colab.research.google.com/github/mosaseka/AtCoder/blob/main/C_Takahashi_Gets_Lost.ipynb\" target=\"_parent\"><img src=\"https://colab.research.google.com/assets/colab-badge.svg\" alt=\"Open In Colab\"/></a>"
      ]
    },
    {
      "cell_type": "code",
      "execution_count": null,
      "metadata": {
        "id": "1qZMiJdZ_gp_"
      },
      "outputs": [],
      "source": [
        "H,W,N = map(int,input().split())\n",
        "T = str(input())\n",
        "S_LIST = []\n",
        "X = 0\n",
        "Y = 0\n",
        "COUNT = 0\n",
        "\n",
        "for i in range(H):\n",
        "  S_LIST.append(list(map(str,input())))\n",
        "\n",
        "for i in range(H):\n",
        "  for j in range(W):\n",
        "    for k in range(N):\n",
        "      X = j\n",
        "      Y = i\n",
        "      if T[k] == \"U\":\n",
        "        Y -= 1\n",
        "      elif T[k] == \"R\":\n",
        "        X += 1\n",
        "      elif T[k] == \"D\":\n",
        "        Y += 1\n",
        "      elif T[k] == \"L\":\n",
        "        X -= 1\n",
        "      if S_LIST[Y][X] == \"#\":\n",
        "        break\n",
        "      else:\n",
        "        if k+1 == N:\n",
        "          COUNT += 1\n",
        "\n",
        "print(COUNT)"
      ]
    },
    {
      "cell_type": "code",
      "source": [
        "H,W,N = map(int,input().split())\n",
        "T = str(input())\n",
        "S_LIST = []\n",
        "X = 0\n",
        "Y = 0\n",
        "COUNT = 0\n",
        "FLAG = True\n",
        "\n",
        "for i in range(H):\n",
        "  S_LIST.append(list(map(str,input())))\n",
        "\n",
        "for i in range(H):\n",
        "  for j in range(W):\n",
        "    for k in range(N):\n",
        "      X = j\n",
        "      Y = i\n",
        "      FLAG = True\n",
        "      if T[k] == \"U\":\n",
        "        Y -= 1\n",
        "        if Y < 0:\n",
        "          FLAG = False\n",
        "          break\n",
        "      elif T[k] == \"R\":\n",
        "        X += 1\n",
        "        if X+1 > W:\n",
        "          FLAG = False\n",
        "          break\n",
        "      elif T[k] == \"D\":\n",
        "        Y += 1\n",
        "        if Y+1 > H:\n",
        "          FLAG = False\n",
        "          break\n",
        "      elif T[k] == \"L\":\n",
        "        X -= 1\n",
        "        if X < 0:\n",
        "          FLAG = False\n",
        "          break\n",
        "      if S_LIST[Y][X] == \"#\":\n",
        "        FLAG = False\n",
        "        break\n",
        "    if FLAG:\n",
        "      COUNT += 1\n",
        "\n",
        "print(COUNT)"
      ],
      "metadata": {
        "id": "RRx5u4nIHzHc"
      },
      "execution_count": null,
      "outputs": []
    },
    {
      "cell_type": "code",
      "source": [
        "H,W,N = map(int,input().split())\n",
        "T = str(input())\n",
        "S_LIST = []\n",
        "X = 0\n",
        "Y = 0\n",
        "COUNT = 0\n",
        "FLAG = True\n",
        "\n",
        "for i in range(H):\n",
        "  S_LIST.append(list(map(str,input())))\n",
        "\n",
        "for i in range(H):\n",
        "  for j in range(W):\n",
        "    Y,X = i,j\n",
        "    FLAG = (S_LIST[Y][X] == \".\")\n",
        "    for k in range(N):\n",
        "      if not FLAG:\n",
        "        break\n",
        "      if T[k] == \"L\":\n",
        "        X -= 1\n",
        "      elif T[k] == \"R\":\n",
        "        X += 1\n",
        "      elif T[k] == \"U\":\n",
        "        Y -= 1\n",
        "      elif T[k] == \"D\":\n",
        "        Y += 1\n",
        "      FLAG &= (S_LIST[Y][X] == \".\")\n",
        "    if FLAG:\n",
        "      COUNT += 1\n",
        "\n",
        "print(COUNT)"
      ],
      "metadata": {
        "id": "OdXsmGrFMaGd"
      },
      "execution_count": null,
      "outputs": []
    }
  ]
}