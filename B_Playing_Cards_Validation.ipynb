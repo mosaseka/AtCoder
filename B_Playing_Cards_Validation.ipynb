{
  "nbformat": 4,
  "nbformat_minor": 0,
  "metadata": {
    "colab": {
      "provenance": [],
      "authorship_tag": "ABX9TyPv1ATT1OTA9mfdk3Vh+P7A",
      "include_colab_link": true
    },
    "kernelspec": {
      "name": "python3",
      "display_name": "Python 3"
    },
    "language_info": {
      "name": "python"
    }
  },
  "cells": [
    {
      "cell_type": "markdown",
      "metadata": {
        "id": "view-in-github",
        "colab_type": "text"
      },
      "source": [
        "<a href=\"https://colab.research.google.com/github/mosaseka/AtCoder/blob/main/B_Playing_Cards_Validation.ipynb\" target=\"_parent\"><img src=\"https://colab.research.google.com/assets/colab-badge.svg\" alt=\"Open In Colab\"/></a>"
      ]
    },
    {
      "cell_type": "code",
      "execution_count": null,
      "metadata": {
        "colab": {
          "base_uri": "https://localhost:8080/"
        },
        "id": "TJQJ_gx2Yq7D",
        "outputId": "daaf5adb-09f5-47a9-a390-f9ef2c793964"
      },
      "outputs": [
        {
          "output_type": "stream",
          "name": "stdout",
          "text": [
            "5\n",
            "00\n",
            "AA\n",
            "XX\n",
            "YY\n",
            "ZZ\n",
            "No\n"
          ]
        }
      ],
      "source": [
        "N = int(input())\n",
        "S_LIST = []\n",
        "HEADER_LIST = [\"H\",\"D\",\"C\",\"S\"]\n",
        "FOOTER_LIST = [\"A\",\"2\",\"3\",\"4\",\"5\",\"6\",\"7\",\"8\",\"9\",\"T\",\"J\",\"Q\",\"K\"]\n",
        "FLAG = True\n",
        "\n",
        "for i in range(N):\n",
        "  S_LIST.append(str(input()))\n",
        "\n",
        "for i in range(N):\n",
        "  if str(S_LIST[i][0]) in HEADER_LIST and str(S_LIST[i][1]) in FOOTER_LIST:\n",
        "    pass\n",
        "  else:\n",
        "    FLAG = False\n",
        "    break\n",
        "\n",
        "if len(S_LIST) != len(set(S_LIST)):\n",
        "  FLAG = False\n",
        "else:\n",
        "  pass\n",
        "\n",
        "if FLAG == True:\n",
        "  print(\"Yes\")\n",
        "else:\n",
        "  print(\"No\")"
      ]
    }
  ]
}