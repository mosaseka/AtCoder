{
  "nbformat": 4,
  "nbformat_minor": 0,
  "metadata": {
    "colab": {
      "provenance": [],
      "authorship_tag": "ABX9TyOCkDKy8MnF5L+B0KU7/MOx",
      "include_colab_link": true
    },
    "kernelspec": {
      "name": "python3",
      "display_name": "Python 3"
    },
    "language_info": {
      "name": "python"
    }
  },
  "cells": [
    {
      "cell_type": "markdown",
      "metadata": {
        "id": "view-in-github",
        "colab_type": "text"
      },
      "source": [
        "<a href=\"https://colab.research.google.com/github/mosaseka/AtCoder/blob/main/B_Better_Students_Are_Needed!.ipynb\" target=\"_parent\"><img src=\"https://colab.research.google.com/assets/colab-badge.svg\" alt=\"Open In Colab\"/></a>"
      ]
    },
    {
      "cell_type": "code",
      "execution_count": null,
      "metadata": {
        "id": "kFlrTsI9FsZm"
      },
      "outputs": [],
      "source": [
        "from collections import deque\n",
        "\n",
        "N,X,Y,Z = map(int,input().split())\n",
        "A_LIST = list(map(int,input().split()))\n",
        "B_LIST = list(map(int,input().split()))\n",
        "SUM_LIST = [A_LIST[i] + B_LIST[i] for i in range(N)]\n",
        "PASS_LIST = [False for i in range(N)]\n",
        "COUNT = 0\n",
        "\n",
        "A_LIST = [[A_LIST[i],i] for i in range(N)]\n",
        "B_LIST = [[B_LIST[i],i] for i in range(N)]\n",
        "SUM_LIST = [[SUM_LIST[i],i] for i in range(N)]\n",
        "\n",
        "A_LIST.sort(reverse=True, key=lambda x:x[0])\n",
        "B_LIST.sort(reverse=True, key=lambda x:x[0])\n",
        "SUM_LIST.sort(reverse=True, key=lambda x:x[0])\n",
        "\n",
        "#print(A_LIST)\n",
        "\n",
        "#数学\n",
        "COUNT = 0\n",
        "for i in range(N):\n",
        "  if COUNT >= X:\n",
        "    break\n",
        "  else:\n",
        "    if PASS_LIST[A_LIST[i][1]] == False:\n",
        "      PASS_LIST[A_LIST[i][1]] = True\n",
        "      COUNT += 1\n",
        "\n",
        "#英語\n",
        "COUNT = 0\n",
        "for i in range(N):\n",
        "  if COUNT >= Y:\n",
        "    break\n",
        "  else:\n",
        "    if PASS_LIST[B_LIST[i][1]] == False:\n",
        "      PASS_LIST[B_LIST[i][1]] = True\n",
        "      COUNT += 1\n",
        "\n",
        "#合計\n",
        "COUNT = 0\n",
        "for i in range(N):\n",
        "  if COUNT >= Z:\n",
        "    break\n",
        "  else:\n",
        "    if PASS_LIST[SUM_LIST[i][1]] == False:\n",
        "      PASS_LIST[SUM_LIST[i][1]] = True\n",
        "      COUNT += 1\n",
        "\n",
        "for i in range(N):\n",
        "  if PASS_LIST[i]:\n",
        "    print(i+1)"
      ]
    }
  ]
}