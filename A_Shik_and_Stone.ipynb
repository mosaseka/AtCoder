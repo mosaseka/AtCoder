{
  "nbformat": 4,
  "nbformat_minor": 0,
  "metadata": {
    "colab": {
      "provenance": [],
      "authorship_tag": "ABX9TyO17unTrjbx6ZcpblBByfjH",
      "include_colab_link": true
    },
    "kernelspec": {
      "name": "python3",
      "display_name": "Python 3"
    },
    "language_info": {
      "name": "python"
    }
  },
  "cells": [
    {
      "cell_type": "markdown",
      "metadata": {
        "id": "view-in-github",
        "colab_type": "text"
      },
      "source": [
        "<a href=\"https://colab.research.google.com/github/mosaseka/AtCoder/blob/main/A_Shik_and_Stone.ipynb\" target=\"_parent\"><img src=\"https://colab.research.google.com/assets/colab-badge.svg\" alt=\"Open In Colab\"/></a>"
      ]
    },
    {
      "cell_type": "code",
      "execution_count": null,
      "metadata": {
        "id": "9GFmE6FZ8JIT"
      },
      "outputs": [],
      "source": [
        "H,W = map(int,input().split())\n",
        "SHORTEST = H + W - 1\n",
        "CHECK = \"\"\n",
        "COUNT = 0\n",
        "\n",
        "for i in range(H):\n",
        "  CHECK = str(input())\n",
        "  COUNT += CHECK.count(\"#\")\n",
        "\n",
        "if SHORTEST != COUNT:\n",
        "  print(\"Impossible\")\n",
        "else:\n",
        "  print(\"Possible\")"
      ]
    }
  ]
}