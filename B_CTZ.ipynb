{
  "nbformat": 4,
  "nbformat_minor": 0,
  "metadata": {
    "colab": {
      "provenance": [],
      "authorship_tag": "ABX9TyOYzoU+OUg1/jo0gNuF7ejP",
      "include_colab_link": true
    },
    "kernelspec": {
      "name": "python3",
      "display_name": "Python 3"
    },
    "language_info": {
      "name": "python"
    }
  },
  "cells": [
    {
      "cell_type": "markdown",
      "metadata": {
        "id": "view-in-github",
        "colab_type": "text"
      },
      "source": [
        "<a href=\"https://colab.research.google.com/github/mosaseka/AtCoder/blob/main/B_CTZ.ipynb\" target=\"_parent\"><img src=\"https://colab.research.google.com/assets/colab-badge.svg\" alt=\"Open In Colab\"/></a>"
      ]
    },
    {
      "cell_type": "code",
      "execution_count": null,
      "metadata": {
        "id": "yi9XM-RU7z0l"
      },
      "outputs": [],
      "source": [
        "N = int(input())\n",
        "N_LIST = []\n",
        "COUNT = 0\n",
        "\n",
        "N = bin(N)\n",
        "N = str(N)\n",
        "N_LIST = list(map(str,N))\n",
        "#print(N_LIST)\n",
        "\n",
        "for i in range(len(N_LIST)):\n",
        "  if N_LIST[-(i+1)] == \"0\":\n",
        "    COUNT += 1\n",
        "  else:\n",
        "    print(COUNT)\n",
        "    exit()"
      ]
    }
  ]
}