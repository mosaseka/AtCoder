{
  "nbformat": 4,
  "nbformat_minor": 0,
  "metadata": {
    "colab": {
      "provenance": [],
      "authorship_tag": "ABX9TyOBRq1QzY1sdL9/XX4x9YBl",
      "include_colab_link": true
    },
    "kernelspec": {
      "name": "python3",
      "display_name": "Python 3"
    },
    "language_info": {
      "name": "python"
    }
  },
  "cells": [
    {
      "cell_type": "markdown",
      "metadata": {
        "id": "view-in-github",
        "colab_type": "text"
      },
      "source": [
        "<a href=\"https://colab.research.google.com/github/mosaseka/AtCoder/blob/main/C_Yamanote_Line_Game.ipynb\" target=\"_parent\"><img src=\"https://colab.research.google.com/assets/colab-badge.svg\" alt=\"Open In Colab\"/></a>"
      ]
    },
    {
      "cell_type": "code",
      "execution_count": null,
      "metadata": {
        "id": "fklRe0V6Cufw"
      },
      "outputs": [],
      "source": [
        "N = int(input())\n",
        "NUM_LIST = [i+1 for i in range(2*N + 1)]\n",
        "CHECK = 0\n",
        "\n",
        "while True:\n",
        "  print(NUM_LIST.pop(0))\n",
        "  CHECK = int(input())\n",
        "  if CHECK == 0:\n",
        "    exit()\n",
        "  else:\n",
        "    NUM_LIST.remove(CHECK)"
      ]
    }
  ]
}