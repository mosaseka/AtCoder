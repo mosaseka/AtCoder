{
  "nbformat": 4,
  "nbformat_minor": 0,
  "metadata": {
    "colab": {
      "provenance": [],
      "authorship_tag": "ABX9TyMICR9llsREXTX4M1WnFvfY",
      "include_colab_link": true
    },
    "kernelspec": {
      "name": "python3",
      "display_name": "Python 3"
    },
    "language_info": {
      "name": "python"
    }
  },
  "cells": [
    {
      "cell_type": "markdown",
      "metadata": {
        "id": "view-in-github",
        "colab_type": "text"
      },
      "source": [
        "<a href=\"https://colab.research.google.com/github/mosaseka/AtCoder/blob/main/PracticeA_Welcome_to_AtCoder.ipynb\" target=\"_parent\"><img src=\"https://colab.research.google.com/assets/colab-badge.svg\" alt=\"Open In Colab\"/></a>"
      ]
    },
    {
      "cell_type": "code",
      "execution_count": null,
      "metadata": {
        "id": "0M9xI4ddHRuX"
      },
      "outputs": [],
      "source": [
        "A = int(input())\n",
        "B_C = list(map(int,input().split()))\n",
        "S = str(input())\n",
        "\n",
        "ANSWER = str(A + B_C[0] + B_C[1])\n",
        "print(ANSWER + \" \" + S)"
      ]
    }
  ]
}