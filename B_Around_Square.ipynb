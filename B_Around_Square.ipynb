{
  "nbformat": 4,
  "nbformat_minor": 0,
  "metadata": {
    "colab": {
      "provenance": [],
      "authorship_tag": "ABX9TyOBZgEGHSgYSbbA8lHUHCeV",
      "include_colab_link": true
    },
    "kernelspec": {
      "name": "python3",
      "display_name": "Python 3"
    },
    "language_info": {
      "name": "python"
    }
  },
  "cells": [
    {
      "cell_type": "markdown",
      "metadata": {
        "id": "view-in-github",
        "colab_type": "text"
      },
      "source": [
        "<a href=\"https://colab.research.google.com/github/mosaseka/AtCoder/blob/main/B_Around_Square.ipynb\" target=\"_parent\"><img src=\"https://colab.research.google.com/assets/colab-badge.svg\" alt=\"Open In Colab\"/></a>"
      ]
    },
    {
      "cell_type": "code",
      "execution_count": null,
      "metadata": {
        "id": "QFTDJkayI9Eh"
      },
      "outputs": [],
      "source": [
        "from collections import deque\n",
        "\n",
        "N = int(input())\n",
        "ANSWER_LIST = deque()\n",
        "\n",
        "ANSWER_LIST.append(0)\n",
        "\n",
        "if N == 1:\n",
        "  print(1)\n",
        "  exit()\n",
        "\n",
        "for i in range(N):\n",
        "  if ANSWER_LIST[-1] > N:\n",
        "    break\n",
        "  else:\n",
        "    ANSWER_LIST.append((i+1)**2)\n",
        "\n",
        "ANSWER_LIST.pop()\n",
        "\n",
        "print(ANSWER_LIST[-1])"
      ]
    }
  ]
}