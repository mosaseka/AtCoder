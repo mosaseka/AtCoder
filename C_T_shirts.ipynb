{
  "nbformat": 4,
  "nbformat_minor": 0,
  "metadata": {
    "colab": {
      "provenance": [],
      "authorship_tag": "ABX9TyPMluxnRE5O1cvrrhqtmilJ",
      "include_colab_link": true
    },
    "kernelspec": {
      "name": "python3",
      "display_name": "Python 3"
    },
    "language_info": {
      "name": "python"
    }
  },
  "cells": [
    {
      "cell_type": "markdown",
      "metadata": {
        "id": "view-in-github",
        "colab_type": "text"
      },
      "source": [
        "<a href=\"https://colab.research.google.com/github/mosaseka/AtCoder/blob/main/C_T_shirts.ipynb\" target=\"_parent\"><img src=\"https://colab.research.google.com/assets/colab-badge.svg\" alt=\"Open In Colab\"/></a>"
      ]
    },
    {
      "cell_type": "code",
      "execution_count": null,
      "metadata": {
        "id": "nIZrQa_YQozD"
      },
      "outputs": [],
      "source": [
        "from collections import deque\n",
        "\n",
        "N,M = map(int,input().split())\n",
        "S = str(input())\n",
        "MUJI_DEQ = deque()\n",
        "ROGO_DEQ = deque()\n",
        "MUJI = 0\n",
        "ROGO = 0\n",
        "\n",
        "for i in range(N):\n",
        "  if S[i] == \"0\":\n",
        "   MUJI_DEQ.append(MUJI)\n",
        "   ROGO_DEQ.append(ROGO)\n",
        "   MUJI = 0\n",
        "   ROGO = 0\n",
        "  elif S[i] == \"1\":\n",
        "    if MUJI < M:\n",
        "      pass\n",
        "    else:\n",
        "      ROGO += 1\n",
        "  elif S[i] == \"2\":\n",
        "    ROGO += 1\n",
        "\n",
        "MUJI_DEQ.append(MUJI)\n",
        "ROGO_DEQ.append(ROGO)\n",
        "\n",
        "print(max(ROGO_DEQ))"
      ]
    },
    {
      "cell_type": "code",
      "source": [
        "from collections import deque\n",
        "\n",
        "N,M = map(int,input().split())\n",
        "S = str(input())\n",
        "MUJI_DEQ = deque()\n",
        "ROGO_DEQ = deque()\n",
        "MUJI = 0\n",
        "ROGO = 0\n",
        "\n",
        "for i in range(N):\n",
        "  if S[i] == \"0\":\n",
        "   MUJI_DEQ.append(MUJI)\n",
        "   ROGO_DEQ.append(ROGO)\n",
        "   MUJI = 0\n",
        "   ROGO = 0\n",
        "  elif S[i] == \"1\":\n",
        "    if MUJI < M:\n",
        "      MUJI += 1\n",
        "    else:\n",
        "      ROGO += 1\n",
        "  elif S[i] == \"2\":\n",
        "    ROGO += 1\n",
        "\n",
        "MUJI_DEQ.append(MUJI)\n",
        "ROGO_DEQ.append(ROGO)\n",
        "\n",
        "print(max(ROGO_DEQ))"
      ],
      "metadata": {
        "id": "Z5wDBE1xrRtD"
      },
      "execution_count": null,
      "outputs": []
    }
  ]
}