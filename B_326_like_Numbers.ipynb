{
  "nbformat": 4,
  "nbformat_minor": 0,
  "metadata": {
    "colab": {
      "provenance": [],
      "authorship_tag": "ABX9TyPzDzezdNaKMfRC9LyPyA7+",
      "include_colab_link": true
    },
    "kernelspec": {
      "name": "python3",
      "display_name": "Python 3"
    },
    "language_info": {
      "name": "python"
    }
  },
  "cells": [
    {
      "cell_type": "markdown",
      "metadata": {
        "id": "view-in-github",
        "colab_type": "text"
      },
      "source": [
        "<a href=\"https://colab.research.google.com/github/mosaseka/AtCoder/blob/main/B_326_like_Numbers.ipynb\" target=\"_parent\"><img src=\"https://colab.research.google.com/assets/colab-badge.svg\" alt=\"Open In Colab\"/></a>"
      ]
    },
    {
      "cell_type": "code",
      "execution_count": null,
      "metadata": {
        "id": "Z2xfS4HkE9iT"
      },
      "outputs": [],
      "source": [
        "N = int(input())\n",
        "CHECK = \"\"\n",
        "A = 0\n",
        "B = 0\n",
        "C = 0\n",
        "\n",
        "while True:\n",
        "  CHECK = str(N)\n",
        "  A = int(CHECK[0])\n",
        "  B = int(CHECK[1])\n",
        "  C = int(CHECK[2])\n",
        "  if A*B == C:\n",
        "    print(N)\n",
        "    exit()\n",
        "  else:\n",
        "    N += 1"
      ]
    }
  ]
}