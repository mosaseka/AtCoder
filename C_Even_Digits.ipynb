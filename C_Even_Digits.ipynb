{
  "nbformat": 4,
  "nbformat_minor": 0,
  "metadata": {
    "colab": {
      "provenance": [],
      "authorship_tag": "ABX9TyPwOIP3/ocIDSYuw1ynUBnv",
      "include_colab_link": true
    },
    "kernelspec": {
      "name": "python3",
      "display_name": "Python 3"
    },
    "language_info": {
      "name": "python"
    }
  },
  "cells": [
    {
      "cell_type": "markdown",
      "metadata": {
        "id": "view-in-github",
        "colab_type": "text"
      },
      "source": [
        "<a href=\"https://colab.research.google.com/github/mosaseka/AtCoder/blob/main/C_Even_Digits.ipynb\" target=\"_parent\"><img src=\"https://colab.research.google.com/assets/colab-badge.svg\" alt=\"Open In Colab\"/></a>"
      ]
    },
    {
      "cell_type": "code",
      "source": [
        "def base10int(value, base):\n",
        "    if (int(value / base)):\n",
        "        return base10int(int(value / base), base) + str(value % base)\n",
        "    return str(value % base)\n",
        "\n",
        "N = int(input())\n",
        "N_LIST = list(map(str,base10int(N-1,5)))\n",
        "#print(N_LIST)\n",
        "\n",
        "for i in range(len(N_LIST)):\n",
        "  N_LIST[i] = str(int(N_LIST[i]) * 2)\n",
        "\n",
        "print(\"\".join(N_LIST))"
      ],
      "metadata": {
        "id": "Ii_jq_vuBmej"
      },
      "execution_count": null,
      "outputs": []
    }
  ]
}