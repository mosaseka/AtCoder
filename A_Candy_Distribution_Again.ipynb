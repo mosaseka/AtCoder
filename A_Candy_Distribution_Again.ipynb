{
  "nbformat": 4,
  "nbformat_minor": 0,
  "metadata": {
    "colab": {
      "provenance": [],
      "authorship_tag": "ABX9TyOgkpb8z4WdFpyl7lk7y8Fo",
      "include_colab_link": true
    },
    "kernelspec": {
      "name": "python3",
      "display_name": "Python 3"
    },
    "language_info": {
      "name": "python"
    }
  },
  "cells": [
    {
      "cell_type": "markdown",
      "metadata": {
        "id": "view-in-github",
        "colab_type": "text"
      },
      "source": [
        "<a href=\"https://colab.research.google.com/github/mosaseka/AtCoder/blob/main/A_Candy_Distribution_Again.ipynb\" target=\"_parent\"><img src=\"https://colab.research.google.com/assets/colab-badge.svg\" alt=\"Open In Colab\"/></a>"
      ]
    },
    {
      "cell_type": "code",
      "execution_count": null,
      "metadata": {
        "colab": {
          "base_uri": "https://localhost:8080/"
        },
        "id": "vuANk-90_Ypz",
        "outputId": "beba94e3-6b0c-41e3-b1ca-ac5ba5cc9e4e"
      },
      "outputs": [
        {
          "output_type": "stream",
          "name": "stdout",
          "text": [
            "3 70\n",
            "20 30 10\n",
            "2\n"
          ]
        }
      ],
      "source": [
        "N,X = map(int,input().split())\n",
        "A_LIST = list(map(int,input().split()))\n",
        "COUNT = 0\n",
        "\n",
        "A_LIST.sort()\n",
        "\n",
        "for i in range(N):\n",
        "  X = X - A_LIST[i]\n",
        "  if X < 0:\n",
        "    break\n",
        "  elif i == N-1 and X > 0:\n",
        "    break\n",
        "  else:\n",
        "    COUNT += 1\n",
        "\n",
        "print(COUNT)"
      ]
    }
  ]
}