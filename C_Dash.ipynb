{
  "nbformat": 4,
  "nbformat_minor": 0,
  "metadata": {
    "colab": {
      "provenance": [],
      "authorship_tag": "ABX9TyNFxnZV9hnmfsPORti0AjhP",
      "include_colab_link": true
    },
    "kernelspec": {
      "name": "python3",
      "display_name": "Python 3"
    },
    "language_info": {
      "name": "python"
    }
  },
  "cells": [
    {
      "cell_type": "markdown",
      "metadata": {
        "id": "view-in-github",
        "colab_type": "text"
      },
      "source": [
        "<a href=\"https://colab.research.google.com/github/mosaseka/AtCoder/blob/main/C_Dash.ipynb\" target=\"_parent\"><img src=\"https://colab.research.google.com/assets/colab-badge.svg\" alt=\"Open In Colab\"/></a>"
      ]
    },
    {
      "cell_type": "code",
      "execution_count": null,
      "metadata": {
        "id": "7AvdCO0aNOnp"
      },
      "outputs": [],
      "source": [
        "N,M,H,K = map(int,input().split())\n",
        "S = str(input())\n",
        "VECTOR = (0,0)\n",
        "ITEM_SET = set()\n",
        "X = 0\n",
        "Y = 0\n",
        "\n",
        "for i in range(M):\n",
        "  X,Y = map(int,input().split())\n",
        "  ITEM_SET.add((X,Y))\n",
        "#print(ITEM_SET)\n",
        "\n",
        "for i in range(N):\n",
        "  if S[i] == \"R\":\n",
        "    LIST = list(VECTOR)\n",
        "    LIST[0] += 1\n",
        "    VECTOR = tuple(LIST)\n",
        "  elif S[i] == \"L\":\n",
        "    LIST = list(VECTOR)\n",
        "    LIST[0] -= 1\n",
        "    VECTOR = tuple(LIST)\n",
        "  elif S[i] == \"U\":\n",
        "    LIST = list(VECTOR)\n",
        "    LIST[1] += 1\n",
        "    VECTOR = tuple(LIST)\n",
        "  elif S[i] == \"D\":\n",
        "    LIST = list(VECTOR)\n",
        "    LIST[1] -= 1\n",
        "    VECTOR = tuple(LIST)\n",
        "  H -= 1\n",
        "  #print(VECTOR)\n",
        "  #print(VECTOR in ITEM_SET)\n",
        "  #print(H)\n",
        "  if H < 0:\n",
        "    print(\"No\")\n",
        "    exit()\n",
        "  elif VECTOR in ITEM_SET and H < K:\n",
        "    H = K\n",
        "    ITEM_SET.remove(VECTOR)\n",
        "\n",
        "print(\"Yes\")"
      ]
    }
  ]
}