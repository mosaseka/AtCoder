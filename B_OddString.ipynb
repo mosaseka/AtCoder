{
  "nbformat": 4,
  "nbformat_minor": 0,
  "metadata": {
    "colab": {
      "provenance": [],
      "authorship_tag": "ABX9TyO6nTNvHXImlEkzlVWXBapU",
      "include_colab_link": true
    },
    "kernelspec": {
      "name": "python3",
      "display_name": "Python 3"
    },
    "language_info": {
      "name": "python"
    }
  },
  "cells": [
    {
      "cell_type": "markdown",
      "metadata": {
        "id": "view-in-github",
        "colab_type": "text"
      },
      "source": [
        "<a href=\"https://colab.research.google.com/github/mosaseka/AtCoder/blob/main/B_OddString.ipynb\" target=\"_parent\"><img src=\"https://colab.research.google.com/assets/colab-badge.svg\" alt=\"Open In Colab\"/></a>"
      ]
    },
    {
      "cell_type": "code",
      "execution_count": null,
      "metadata": {
        "id": "h8WvL8GywEqP"
      },
      "outputs": [],
      "source": [
        "S = str(input())\n",
        "ANSWER = \"\"\n",
        "\n",
        "for i in range(len(S)):\n",
        "  if (i+1) % 2 == 1:\n",
        "    ANSWER += S[i]\n",
        "\n",
        "print(ANSWER)"
      ]
    }
  ]
}