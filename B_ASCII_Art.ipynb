{
  "nbformat": 4,
  "nbformat_minor": 0,
  "metadata": {
    "colab": {
      "provenance": [],
      "authorship_tag": "ABX9TyPGXt41SRb5L6rm+k5PqJ4S",
      "include_colab_link": true
    },
    "kernelspec": {
      "name": "python3",
      "display_name": "Python 3"
    },
    "language_info": {
      "name": "python"
    }
  },
  "cells": [
    {
      "cell_type": "markdown",
      "metadata": {
        "id": "view-in-github",
        "colab_type": "text"
      },
      "source": [
        "<a href=\"https://colab.research.google.com/github/mosaseka/AtCoder/blob/main/B_ASCII_Art.ipynb\" target=\"_parent\"><img src=\"https://colab.research.google.com/assets/colab-badge.svg\" alt=\"Open In Colab\"/></a>"
      ]
    },
    {
      "cell_type": "code",
      "execution_count": null,
      "metadata": {
        "colab": {
          "base_uri": "https://localhost:8080/"
        },
        "id": "C7C-oGw0v3Vw",
        "outputId": "09b8c58c-2a69-4ac2-9c28-448b430a7ba0"
      },
      "outputs": [
        {
          "output_type": "stream",
          "name": "stdout",
          "text": [
            "2 3\n",
            "0 1 2\n",
            ".AB\n",
            "0 0 3\n",
            "..C\n"
          ]
        }
      ],
      "source": [
        "import string\n",
        "\n",
        "H,W = map(int,input().split())\n",
        "A_LIST = []\n",
        "ALPHA_LIST = list(string.ascii_uppercase)\n",
        "ANSWER = \"\"\n",
        "\n",
        "\n",
        "for i in range(H):\n",
        "  A_LIST = list(map(int,input().split()))\n",
        "  ANSWER = \"\"\n",
        "  for j in range(W):\n",
        "    if A_LIST[j] == 0:\n",
        "      ANSWER += \".\"\n",
        "    else:\n",
        "      ANSWER += ALPHA_LIST[A_LIST[j]-1]\n",
        "  print(ANSWER)"
      ]
    }
  ]
}