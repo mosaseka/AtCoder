{
  "nbformat": 4,
  "nbformat_minor": 0,
  "metadata": {
    "colab": {
      "provenance": [],
      "authorship_tag": "ABX9TyPIEEWuQ0NyXMFYmoYULJfQ",
      "include_colab_link": true
    },
    "kernelspec": {
      "name": "python3",
      "display_name": "Python 3"
    },
    "language_info": {
      "name": "python"
    }
  },
  "cells": [
    {
      "cell_type": "markdown",
      "metadata": {
        "id": "view-in-github",
        "colab_type": "text"
      },
      "source": [
        "<a href=\"https://colab.research.google.com/github/mosaseka/AtCoder/blob/main/C_Cat_Snuke_and_a_Voyage.ipynb\" target=\"_parent\"><img src=\"https://colab.research.google.com/assets/colab-badge.svg\" alt=\"Open In Colab\"/></a>"
      ]
    },
    {
      "cell_type": "code",
      "execution_count": null,
      "metadata": {
        "id": "8xt22kS6vfuN"
      },
      "outputs": [],
      "source": [
        "N,M = map(int,input().split())\n",
        "AB_LIST = [tuple(map(int,input().split())) for i in range(M)]\n",
        "CHECK_LIST = []\n",
        "TARGET_LIST = []\n",
        "AB_SET = set(AB_LIST)\n",
        "\n",
        "for i in range(N):\n",
        "  CHECK_LIST = [1,(i+1)]\n",
        "  CHECK_LIST = tuple(CHECK_LIST)\n",
        "  TARGET_LIST = [(i+1),N]\n",
        "  TARGET_LIST = tuple(TARGET_LIST)\n",
        "  if CHECK_LIST in AB_SET and TARGET_LIST in AB_SET:\n",
        "    print(\"POSSIBLE\")\n",
        "    exit()\n",
        "\n",
        "print(\"IMPOSSIBLE\")"
      ]
    }
  ]
}