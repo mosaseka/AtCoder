{
  "nbformat": 4,
  "nbformat_minor": 0,
  "metadata": {
    "colab": {
      "provenance": [],
      "authorship_tag": "ABX9TyMq1+O4OCIzvh32NTzRI+pm",
      "include_colab_link": true
    },
    "kernelspec": {
      "name": "python3",
      "display_name": "Python 3"
    },
    "language_info": {
      "name": "python"
    }
  },
  "cells": [
    {
      "cell_type": "markdown",
      "metadata": {
        "id": "view-in-github",
        "colab_type": "text"
      },
      "source": [
        "<a href=\"https://colab.research.google.com/github/mosaseka/AtCoder/blob/main/B_Touitsu.ipynb\" target=\"_parent\"><img src=\"https://colab.research.google.com/assets/colab-badge.svg\" alt=\"Open In Colab\"/></a>"
      ]
    },
    {
      "cell_type": "code",
      "execution_count": null,
      "metadata": {
        "id": "U3-RdReYHdRY"
      },
      "outputs": [],
      "source": [
        "N = int(input())\n",
        "A = str(input())\n",
        "B = str(input())\n",
        "C = str(input())\n",
        "ANSWER = 0\n",
        "\n",
        "for i in range(N):\n",
        "  if A[i] != B[i] and B[i] != C[i] and C[i] != A[i]:\n",
        "    ANSWER += 2\n",
        "  elif A[i] != B[i] or B[i] != C[i] or C[i] != A[i]:\n",
        "    ANSWER += 1\n",
        "\n",
        "print(ANSWER)"
      ]
    }
  ]
}