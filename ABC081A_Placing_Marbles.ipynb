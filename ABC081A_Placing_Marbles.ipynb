{
  "nbformat": 4,
  "nbformat_minor": 0,
  "metadata": {
    "colab": {
      "provenance": [],
      "authorship_tag": "ABX9TyN7GUWPhnChP3ODjJgioK2b",
      "include_colab_link": true
    },
    "kernelspec": {
      "name": "python3",
      "display_name": "Python 3"
    },
    "language_info": {
      "name": "python"
    }
  },
  "cells": [
    {
      "cell_type": "markdown",
      "metadata": {
        "id": "view-in-github",
        "colab_type": "text"
      },
      "source": [
        "<a href=\"https://colab.research.google.com/github/mosaseka/AtCoder/blob/main/ABC081A_Placing_Marbles.ipynb\" target=\"_parent\"><img src=\"https://colab.research.google.com/assets/colab-badge.svg\" alt=\"Open In Colab\"/></a>"
      ]
    },
    {
      "cell_type": "code",
      "execution_count": null,
      "metadata": {
        "id": "m-eXnuBdHxww"
      },
      "outputs": [],
      "source": [
        "NUM = str(input())\n",
        "NUM_list = list(NUM)\n",
        "Count = 0\n",
        "for i in range(len(NUM_list)):\n",
        "  if int(NUM_list[i]) == 1:\n",
        "    Count = Count + 1\n",
        "  else:\n",
        "    pass\n",
        "print(Count)"
      ]
    }
  ]
}