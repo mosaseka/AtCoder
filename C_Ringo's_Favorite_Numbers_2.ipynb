{
  "nbformat": 4,
  "nbformat_minor": 0,
  "metadata": {
    "colab": {
      "provenance": [],
      "authorship_tag": "ABX9TyO0ZbJEQE88Q6AEaFPkAzRA",
      "include_colab_link": true
    },
    "kernelspec": {
      "name": "python3",
      "display_name": "Python 3"
    },
    "language_info": {
      "name": "python"
    }
  },
  "cells": [
    {
      "cell_type": "markdown",
      "metadata": {
        "id": "view-in-github",
        "colab_type": "text"
      },
      "source": [
        "<a href=\"https://colab.research.google.com/github/mosaseka/AtCoder/blob/main/C_Ringo's_Favorite_Numbers_2.ipynb\" target=\"_parent\"><img src=\"https://colab.research.google.com/assets/colab-badge.svg\" alt=\"Open In Colab\"/></a>"
      ]
    },
    {
      "cell_type": "code",
      "execution_count": null,
      "metadata": {
        "id": "J93p6R8oF88g"
      },
      "outputs": [],
      "source": [
        "from collections import deque\n",
        "from collections import Counter\n",
        "import math\n",
        "\n",
        "N = int(input())\n",
        "A_LIST = list(map(int,input().split()))\n",
        "A_DEQ = deque()\n",
        "A_COUNT = []\n",
        "ANSWER = 0\n",
        "\n",
        "for i in range(N):\n",
        "  A_DEQ.append(A_LIST[i] % 200)\n",
        "\n",
        "A_COUNT = list(Counter(A_DEQ).items())\n",
        "\n",
        "#print(A_COUNT)\n",
        "\n",
        "for i in range(len(A_COUNT)):\n",
        "  ANSWER += math.comb(A_COUNT[i][1],2)\n",
        "\n",
        "print(ANSWER)"
      ]
    }
  ]
}