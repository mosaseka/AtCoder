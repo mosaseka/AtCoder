{
  "nbformat": 4,
  "nbformat_minor": 0,
  "metadata": {
    "colab": {
      "provenance": [],
      "authorship_tag": "ABX9TyNgApEUjMGjttuVp6QTxQqt",
      "include_colab_link": true
    },
    "kernelspec": {
      "name": "python3",
      "display_name": "Python 3"
    },
    "language_info": {
      "name": "python"
    }
  },
  "cells": [
    {
      "cell_type": "markdown",
      "metadata": {
        "id": "view-in-github",
        "colab_type": "text"
      },
      "source": [
        "<a href=\"https://colab.research.google.com/github/mosaseka/AtCoder/blob/main/A_Full_House.ipynb\" target=\"_parent\"><img src=\"https://colab.research.google.com/assets/colab-badge.svg\" alt=\"Open In Colab\"/></a>"
      ]
    },
    {
      "cell_type": "code",
      "execution_count": null,
      "metadata": {
        "id": "z222O3xUTDdW"
      },
      "outputs": [],
      "source": [
        "from collections import Counter\n",
        "\n",
        "LIST = list(map(int,input().split()))\n",
        "COUNT_LIST = list((Counter(LIST)).items())\n",
        "\n",
        "if COUNT_LIST[0][1] == 3 and COUNT_LIST[1][1] == 2:\n",
        "  print(\"Yes\")\n",
        "elif COUNT_LIST[0][1] == 2 and COUNT_LIST[1][1] == 3:\n",
        "  print(\"Yes\")\n",
        "else:\n",
        "  print(\"No\")"
      ]
    }
  ]
}