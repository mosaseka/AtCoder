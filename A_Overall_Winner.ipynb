{
  "nbformat": 4,
  "nbformat_minor": 0,
  "metadata": {
    "colab": {
      "provenance": [],
      "authorship_tag": "ABX9TyN3EwoeD4ngFPZ2M7aTLc++",
      "include_colab_link": true
    },
    "kernelspec": {
      "name": "python3",
      "display_name": "Python 3"
    },
    "language_info": {
      "name": "python"
    }
  },
  "cells": [
    {
      "cell_type": "markdown",
      "metadata": {
        "id": "view-in-github",
        "colab_type": "text"
      },
      "source": [
        "<a href=\"https://colab.research.google.com/github/mosaseka/AtCoder/blob/main/A_Overall_Winner.ipynb\" target=\"_parent\"><img src=\"https://colab.research.google.com/assets/colab-badge.svg\" alt=\"Open In Colab\"/></a>"
      ]
    },
    {
      "cell_type": "code",
      "execution_count": null,
      "metadata": {
        "id": "_01mUz_Y39SY"
      },
      "outputs": [],
      "source": [
        "N = int(input())\n",
        "S = str(input())\n",
        "TAKAHASHI = 0\n",
        "AOKI = 0\n",
        "ALPHA = 0\n",
        "BETA = 0\n",
        "\n",
        "for i in range(N):\n",
        "  if S[i] == \"T\":\n",
        "    TAKAHASHI += 1\n",
        "  else:\n",
        "    AOKI += 1\n",
        "\n",
        "if TAKAHASHI < AOKI:\n",
        "  print(\"A\")\n",
        "elif TAKAHASHI > AOKI:\n",
        "  print(\"T\")\n",
        "else:\n",
        "  for i in range(N):\n",
        "    if S[i] == \"T\":\n",
        "      ALPHA += 1\n",
        "    else:\n",
        "      BETA += 1\n",
        "    if TAKAHASHI == ALPHA:\n",
        "      print(\"T\")\n",
        "      break\n",
        "    elif AOKI == BETA:\n",
        "      print(\"A\")\n",
        "      break"
      ]
    }
  ]
}