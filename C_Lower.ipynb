{
  "nbformat": 4,
  "nbformat_minor": 0,
  "metadata": {
    "colab": {
      "provenance": [],
      "authorship_tag": "ABX9TyPUhAbt+TZSr6bNW0560yPc",
      "include_colab_link": true
    },
    "kernelspec": {
      "name": "python3",
      "display_name": "Python 3"
    },
    "language_info": {
      "name": "python"
    }
  },
  "cells": [
    {
      "cell_type": "markdown",
      "metadata": {
        "id": "view-in-github",
        "colab_type": "text"
      },
      "source": [
        "<a href=\"https://colab.research.google.com/github/mosaseka/AtCoder/blob/main/C_Lower.ipynb\" target=\"_parent\"><img src=\"https://colab.research.google.com/assets/colab-badge.svg\" alt=\"Open In Colab\"/></a>"
      ]
    },
    {
      "cell_type": "code",
      "execution_count": null,
      "metadata": {
        "colab": {
          "base_uri": "https://localhost:8080/"
        },
        "id": "SRk3XZUqYsyo",
        "outputId": "a89abe80-acfa-43de-88e7-a4f80ca321c1"
      },
      "outputs": [
        {
          "output_type": "stream",
          "name": "stdout",
          "text": [
            "5\n",
            "10 4 8 7 3\n",
            "2\n"
          ]
        }
      ],
      "source": [
        "N = int(input())\n",
        "H_LIST = list(map(int,input().split()))\n",
        "COUNT = 0\n",
        "COUNT_LIST = []\n",
        "\n",
        "while len(H_LIST) > 1:\n",
        "  if H_LIST[0] >= H_LIST[1]:\n",
        "    COUNT += 1\n",
        "    H_LIST.pop(0)\n",
        "  else:\n",
        "    H_LIST.pop(0)\n",
        "    COUNT_LIST.append(COUNT)\n",
        "    COUNT = 0\n",
        "  #print(H_LIST)\n",
        "  #print(COUNT)\n",
        "\n",
        "COUNT_LIST.append(COUNT)\n",
        "\n",
        "print(max(COUNT_LIST))"
      ]
    }
  ]
}