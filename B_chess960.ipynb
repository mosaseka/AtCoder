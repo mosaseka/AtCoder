{
  "nbformat": 4,
  "nbformat_minor": 0,
  "metadata": {
    "colab": {
      "provenance": [],
      "authorship_tag": "ABX9TyMFyup8BWakKV2ZtpxvmtKf",
      "include_colab_link": true
    },
    "kernelspec": {
      "name": "python3",
      "display_name": "Python 3"
    },
    "language_info": {
      "name": "python"
    }
  },
  "cells": [
    {
      "cell_type": "markdown",
      "metadata": {
        "id": "view-in-github",
        "colab_type": "text"
      },
      "source": [
        "<a href=\"https://colab.research.google.com/github/mosaseka/AtCoder/blob/main/B_chess960.ipynb\" target=\"_parent\"><img src=\"https://colab.research.google.com/assets/colab-badge.svg\" alt=\"Open In Colab\"/></a>"
      ]
    },
    {
      "cell_type": "code",
      "execution_count": null,
      "metadata": {
        "id": "8wjih5035Z4s"
      },
      "outputs": [],
      "source": [
        "S_LIST = list(str(input()))\n",
        "B_INDEX = []\n",
        "R_INDEX = []\n",
        "CHECK_LIST = []\n",
        "FLAG = True\n",
        "\n",
        "B_INDEX = [i for i, x in enumerate(S_LIST) if x == \"B\"]\n",
        "if B_INDEX[0] % 2 == B_INDEX[1] % 2:\n",
        "  print(\"No\")\n",
        "  exit()\n",
        "\n",
        "R_INDEX = [i for i, x in enumerate(S_LIST) if x == \"R\"]\n",
        "CHECK_LIST = S_LIST[R_INDEX[0]:R_INDEX[1]]\n",
        "if not \"K\" in CHECK_LIST:\n",
        "  print(\"No\")\n",
        "  exit()\n",
        "\n",
        "print(\"Yes\")"
      ]
    }
  ]
}