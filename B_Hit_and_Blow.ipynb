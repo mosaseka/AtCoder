{
  "nbformat": 4,
  "nbformat_minor": 0,
  "metadata": {
    "colab": {
      "provenance": [],
      "authorship_tag": "ABX9TyPWGEQc22ZTnWOkgZuYrogh",
      "include_colab_link": true
    },
    "kernelspec": {
      "name": "python3",
      "display_name": "Python 3"
    },
    "language_info": {
      "name": "python"
    }
  },
  "cells": [
    {
      "cell_type": "markdown",
      "metadata": {
        "id": "view-in-github",
        "colab_type": "text"
      },
      "source": [
        "<a href=\"https://colab.research.google.com/github/mosaseka/AtCoder/blob/main/B_Hit_and_Blow.ipynb\" target=\"_parent\"><img src=\"https://colab.research.google.com/assets/colab-badge.svg\" alt=\"Open In Colab\"/></a>"
      ]
    },
    {
      "cell_type": "code",
      "execution_count": null,
      "metadata": {
        "id": "CXGGc3wfIYCJ"
      },
      "outputs": [],
      "source": [
        "N = int(input())\n",
        "A_LIST = list(map(int,input().split()))\n",
        "B_LIST = list(map(int,input().split()))\n",
        "B_SET = set(B_LIST)\n",
        "HIT = 0\n",
        "BLOW = 0\n",
        "\n",
        "for i in range(N):\n",
        "  if A_LIST[i] == B_LIST[i]:\n",
        "    HIT += 1\n",
        "  elif A_LIST[i] in B_SET and A_LIST[i] != B_LIST[i]:\n",
        "    BLOW += 1\n",
        "\n",
        "print(HIT)\n",
        "print(BLOW)"
      ]
    }
  ]
}