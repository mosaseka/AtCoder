{
  "nbformat": 4,
  "nbformat_minor": 0,
  "metadata": {
    "colab": {
      "provenance": [],
      "authorship_tag": "ABX9TyM4OvVs06LVAju1SZOCBcUc",
      "include_colab_link": true
    },
    "kernelspec": {
      "name": "python3",
      "display_name": "Python 3"
    },
    "language_info": {
      "name": "python"
    }
  },
  "cells": [
    {
      "cell_type": "markdown",
      "metadata": {
        "id": "view-in-github",
        "colab_type": "text"
      },
      "source": [
        "<a href=\"https://colab.research.google.com/github/mosaseka/AtCoder/blob/main/A_Order_Something_Else.ipynb\" target=\"_parent\"><img src=\"https://colab.research.google.com/assets/colab-badge.svg\" alt=\"Open In Colab\"/></a>"
      ]
    },
    {
      "cell_type": "code",
      "execution_count": null,
      "metadata": {
        "id": "3QlL5XbC77v8"
      },
      "outputs": [],
      "source": [
        "from collections import deque\n",
        "\n",
        "N,P,Q = map(int,input().split())\n",
        "D_LIST = list(map(int,input().split()))\n",
        "ANSWER_LIST = deque()\n",
        "\n",
        "for i in range(N):\n",
        "  ANSWER_LIST.append(D_LIST[i] + Q)\n",
        "\n",
        "print(min(P,min(ANSWER_LIST)))"
      ]
    }
  ]
}