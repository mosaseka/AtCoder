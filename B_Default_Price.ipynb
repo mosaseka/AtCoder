{
  "nbformat": 4,
  "nbformat_minor": 0,
  "metadata": {
    "colab": {
      "provenance": [],
      "authorship_tag": "ABX9TyNAB2svc5qyUDNCoPuS+02B",
      "include_colab_link": true
    },
    "kernelspec": {
      "name": "python3",
      "display_name": "Python 3"
    },
    "language_info": {
      "name": "python"
    }
  },
  "cells": [
    {
      "cell_type": "markdown",
      "metadata": {
        "id": "view-in-github",
        "colab_type": "text"
      },
      "source": [
        "<a href=\"https://colab.research.google.com/github/mosaseka/AtCoder/blob/main/B_Default_Price.ipynb\" target=\"_parent\"><img src=\"https://colab.research.google.com/assets/colab-badge.svg\" alt=\"Open In Colab\"/></a>"
      ]
    },
    {
      "cell_type": "code",
      "execution_count": null,
      "metadata": {
        "id": "lZFFmc-0SkTG"
      },
      "outputs": [],
      "source": [
        "N,M = map(int,input().split())\n",
        "C_LIST = list(map(str,input().split()))\n",
        "D_LIST = list(map(str,input().split()))\n",
        "ANSWER = 0\n",
        "P_LIST = list(map(int,input().split()))\n",
        "D_SET = set(D_LIST)\n",
        "\n",
        "for i in range(N):\n",
        "  if C_LIST[i] in D_SET:\n",
        "    ANSWER += P_LIST[D_LIST.index(C_LIST[i])+1]\n",
        "  else:\n",
        "    ANSWER += P_LIST[0]\n",
        "\n",
        "print(ANSWER)"
      ]
    }
  ]
}