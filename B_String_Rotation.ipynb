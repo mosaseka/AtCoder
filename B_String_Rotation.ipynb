{
  "nbformat": 4,
  "nbformat_minor": 0,
  "metadata": {
    "colab": {
      "provenance": [],
      "authorship_tag": "ABX9TyPPhkQaenEqg7KyqiG36Izm",
      "include_colab_link": true
    },
    "kernelspec": {
      "name": "python3",
      "display_name": "Python 3"
    },
    "language_info": {
      "name": "python"
    }
  },
  "cells": [
    {
      "cell_type": "markdown",
      "metadata": {
        "id": "view-in-github",
        "colab_type": "text"
      },
      "source": [
        "<a href=\"https://colab.research.google.com/github/mosaseka/AtCoder/blob/main/B_String_Rotation.ipynb\" target=\"_parent\"><img src=\"https://colab.research.google.com/assets/colab-badge.svg\" alt=\"Open In Colab\"/></a>"
      ]
    },
    {
      "cell_type": "code",
      "execution_count": null,
      "metadata": {
        "colab": {
          "base_uri": "https://localhost:8080/"
        },
        "id": "8TolhUGXqZrL",
        "outputId": "e1b38b76-e72e-43c1-9a75-f70a57d89a40"
      },
      "outputs": [
        {
          "output_type": "stream",
          "name": "stdout",
          "text": [
            "kyoto\n",
            "tokyo\n",
            "Yes\n"
          ]
        }
      ],
      "source": [
        "S_LIST = list(map(str,input()))\n",
        "T_LIST = list(map(str,input()))\n",
        "FLAG = False\n",
        "\n",
        "for i in range(len(S_LIST)):\n",
        "  S_LIST.insert(0,S_LIST[-1])\n",
        "  S_LIST.pop(-1)\n",
        "  if S_LIST == T_LIST:\n",
        "    FLAG = True\n",
        "    break\n",
        "\n",
        "if FLAG:\n",
        "  print(\"Yes\")\n",
        "else:\n",
        "  print(\"No\")"
      ]
    }
  ]
}