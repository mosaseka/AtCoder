{
  "nbformat": 4,
  "nbformat_minor": 0,
  "metadata": {
    "colab": {
      "provenance": [],
      "authorship_tag": "ABX9TyPhxke1r+AeD4+9Usm8rsfW",
      "include_colab_link": true
    },
    "kernelspec": {
      "name": "python3",
      "display_name": "Python 3"
    },
    "language_info": {
      "name": "python"
    }
  },
  "cells": [
    {
      "cell_type": "markdown",
      "metadata": {
        "id": "view-in-github",
        "colab_type": "text"
      },
      "source": [
        "<a href=\"https://colab.research.google.com/github/mosaseka/AtCoder/blob/main/B_AtCoder_Condominium.ipynb\" target=\"_parent\"><img src=\"https://colab.research.google.com/assets/colab-badge.svg\" alt=\"Open In Colab\"/></a>"
      ]
    },
    {
      "cell_type": "code",
      "execution_count": null,
      "metadata": {
        "id": "tyqC0tPoX7t7"
      },
      "outputs": [],
      "source": [
        "N,K = map(int,input().split())\n",
        "ANSWER = 0\n",
        "\n",
        "for i in range(N):\n",
        "  for k in range(K):\n",
        "    ANSWER += int(str(i+1) + \"0\" + str(k+1))\n",
        "\n",
        "print(ANSWER)"
      ]
    }
  ]
}