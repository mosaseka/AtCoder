{
  "nbformat": 4,
  "nbformat_minor": 0,
  "metadata": {
    "colab": {
      "provenance": [],
      "authorship_tag": "ABX9TyO85GyDIzKnh7f2aoRUEwBq",
      "include_colab_link": true
    },
    "kernelspec": {
      "name": "python3",
      "display_name": "Python 3"
    },
    "language_info": {
      "name": "python"
    }
  },
  "cells": [
    {
      "cell_type": "markdown",
      "metadata": {
        "id": "view-in-github",
        "colab_type": "text"
      },
      "source": [
        "<a href=\"https://colab.research.google.com/github/mosaseka/AtCoder/blob/main/B_Box_and_Ball.ipynb\" target=\"_parent\"><img src=\"https://colab.research.google.com/assets/colab-badge.svg\" alt=\"Open In Colab\"/></a>"
      ]
    },
    {
      "cell_type": "code",
      "execution_count": null,
      "metadata": {
        "id": "tuhVfmoM2ENF"
      },
      "outputs": [],
      "source": [
        "N,M = map(int,input().split())\n",
        "A = 0\n",
        "B = 0\n",
        "COUNT_LIST = [1 for i in range(N+1)]\n",
        "RED_LIST = [False for i in range(N+1)]\n",
        "\n",
        "RED_LIST[1] = True\n",
        "\n",
        "for i in range(M):\n",
        "  A,B = map(int,input().split())\n",
        "  COUNT_LIST[B] += 1\n",
        "  if RED_LIST[A]:\n",
        "    RED_LIST[B] = True\n",
        "  COUNT_LIST[A] -= 1\n",
        "  if RED_LIST[A] and COUNT_LIST[A] == 0:\n",
        "    RED_LIST[A] = 0\n",
        "\n",
        "print(RED_LIST.count(True))"
      ]
    }
  ]
}