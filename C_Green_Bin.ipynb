{
  "nbformat": 4,
  "nbformat_minor": 0,
  "metadata": {
    "colab": {
      "provenance": [],
      "authorship_tag": "ABX9TyMAauO1+r1RT+ucfJ1ECsed",
      "include_colab_link": true
    },
    "kernelspec": {
      "name": "python3",
      "display_name": "Python 3"
    },
    "language_info": {
      "name": "python"
    }
  },
  "cells": [
    {
      "cell_type": "markdown",
      "metadata": {
        "id": "view-in-github",
        "colab_type": "text"
      },
      "source": [
        "<a href=\"https://colab.research.google.com/github/mosaseka/AtCoder/blob/main/C_Green_Bin.ipynb\" target=\"_parent\"><img src=\"https://colab.research.google.com/assets/colab-badge.svg\" alt=\"Open In Colab\"/></a>"
      ]
    },
    {
      "cell_type": "code",
      "execution_count": null,
      "metadata": {
        "id": "HkOzpsa31c4M"
      },
      "outputs": [],
      "source": [
        "N = int(input())\n",
        "S = \"\"\n",
        "COUNT = {}\n",
        "ANSWER = 0\n",
        "\n",
        "for i in range(N):\n",
        "  S = \"\".join(sorted(str(input())))\n",
        "  if S not in COUNT: COUNT[S] = 0\n",
        "  COUNT[S] += 1\n",
        "\n",
        "for i in COUNT.values():\n",
        "  ANSWER += i*(i-1)//2\n",
        "\n",
        "print(ANSWER)"
      ]
    }
  ]
}