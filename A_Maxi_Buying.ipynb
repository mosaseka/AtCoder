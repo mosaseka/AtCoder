{
  "nbformat": 4,
  "nbformat_minor": 0,
  "metadata": {
    "colab": {
      "provenance": [],
      "authorship_tag": "ABX9TyMJFuugrdAlsw497f25VBFo",
      "include_colab_link": true
    },
    "kernelspec": {
      "name": "python3",
      "display_name": "Python 3"
    },
    "language_info": {
      "name": "python"
    }
  },
  "cells": [
    {
      "cell_type": "markdown",
      "metadata": {
        "id": "view-in-github",
        "colab_type": "text"
      },
      "source": [
        "<a href=\"https://colab.research.google.com/github/mosaseka/AtCoder/blob/main/A_Maxi_Buying.ipynb\" target=\"_parent\"><img src=\"https://colab.research.google.com/assets/colab-badge.svg\" alt=\"Open In Colab\"/></a>"
      ]
    },
    {
      "cell_type": "code",
      "execution_count": null,
      "metadata": {
        "id": "TaLfJdc-iHQb"
      },
      "outputs": [],
      "source": [
        "from math import floor\n",
        "\n",
        "N = int(input())\n",
        "CHECK = floor(1.08*N)\n",
        "\n",
        "if CHECK < 206:\n",
        "  print(\"Yay!\")\n",
        "elif CHECK == 206:\n",
        "  print(\"so-so\")\n",
        "else:\n",
        "  print(\":(\")"
      ]
    }
  ]
}