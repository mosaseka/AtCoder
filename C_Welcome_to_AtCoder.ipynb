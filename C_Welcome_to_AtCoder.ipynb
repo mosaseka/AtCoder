{
  "nbformat": 4,
  "nbformat_minor": 0,
  "metadata": {
    "colab": {
      "provenance": [],
      "authorship_tag": "ABX9TyOZDxWHJ6cVOsdSasIPr2qW",
      "include_colab_link": true
    },
    "kernelspec": {
      "name": "python3",
      "display_name": "Python 3"
    },
    "language_info": {
      "name": "python"
    }
  },
  "cells": [
    {
      "cell_type": "markdown",
      "metadata": {
        "id": "view-in-github",
        "colab_type": "text"
      },
      "source": [
        "<a href=\"https://colab.research.google.com/github/mosaseka/AtCoder/blob/main/C_Welcome_to_AtCoder.ipynb\" target=\"_parent\"><img src=\"https://colab.research.google.com/assets/colab-badge.svg\" alt=\"Open In Colab\"/></a>"
      ]
    },
    {
      "cell_type": "code",
      "source": [
        "N,M = map(int,input().split())\n",
        "RESULT_LIST = []\n",
        "COUNT = 0\n",
        "PENALTY = 0\n",
        "NUM = 0\n",
        "RESULT = \"\"\n",
        "QUE_LIST = []\n",
        "\n",
        "for i in range(N):\n",
        "  RESULT_LIST.append(False)\n",
        "  QUE_LIST.append(0)\n",
        "\n",
        "for i in range(M):\n",
        "  LIST = list(map(str,input().split()))\n",
        "  NUM = int(LIST[0])\n",
        "  RESULT = LIST[1]\n",
        "  if RESULT_LIST[NUM-1] == True:\n",
        "    continue\n",
        "  elif RESULT == \"WA\":\n",
        "    QUE_LIST[NUM-1] += 1\n",
        "  elif RESULT == \"AC\":\n",
        "    COUNT += 1\n",
        "    PENALTY += QUE_LIST[NUM-1]\n",
        "    RESULT_LIST[NUM-1] = True\n",
        "\n",
        "print(COUNT,PENALTY)"
      ],
      "metadata": {
        "colab": {
          "base_uri": "https://localhost:8080/"
        },
        "id": "zlyAbN9QXVvx",
        "outputId": "8e4c1c1a-b8b1-46de-e209-19fc24041200"
      },
      "execution_count": null,
      "outputs": [
        {
          "output_type": "stream",
          "name": "stdout",
          "text": [
            "2 5\n",
            "1 WA\n",
            "1 AC\n",
            "2 WA\n",
            "2 WA\n",
            "2 WA\n",
            "1 4\n"
          ]
        }
      ]
    }
  ]
}