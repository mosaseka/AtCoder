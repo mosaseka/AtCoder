{
  "nbformat": 4,
  "nbformat_minor": 0,
  "metadata": {
    "colab": {
      "provenance": [],
      "authorship_tag": "ABX9TyNvEaO3mB4ybyftLvkR90t6",
      "include_colab_link": true
    },
    "kernelspec": {
      "name": "python3",
      "display_name": "Python 3"
    },
    "language_info": {
      "name": "python"
    }
  },
  "cells": [
    {
      "cell_type": "markdown",
      "metadata": {
        "id": "view-in-github",
        "colab_type": "text"
      },
      "source": [
        "<a href=\"https://colab.research.google.com/github/mosaseka/AtCoder/blob/main/C_Go_to_School.ipynb\" target=\"_parent\"><img src=\"https://colab.research.google.com/assets/colab-badge.svg\" alt=\"Open In Colab\"/></a>"
      ]
    },
    {
      "cell_type": "code",
      "execution_count": null,
      "metadata": {
        "colab": {
          "base_uri": "https://localhost:8080/"
        },
        "id": "j63ep_ZJNGmQ",
        "outputId": "4949dfb4-7918-4914-f475-bb18fd019455"
      },
      "outputs": [
        {
          "output_type": "stream",
          "name": "stdout",
          "text": [
            "8\n",
            "8 2 7 3 4 5 6 1\n",
            "8 2 4 5 6 7 3 1\n"
          ]
        }
      ],
      "source": [
        "N = int(input())\n",
        "A_LIST = list(map(int,input().split()))\n",
        "ANSWER_LIST = []\n",
        "\n",
        "for i in range(N):\n",
        "  ANSWER_LIST.append(A_LIST.index(i+1) + 1)\n",
        "\n",
        "print(*ANSWER_LIST)"
      ]
    },
    {
      "cell_type": "code",
      "source": [
        "N = int(input())\n",
        "A_LIST = list(map(int,input().split()))\n",
        "CHECK_VECTOR = []\n",
        "ANSWER_LIST = []\n",
        "\n",
        "for i in range(N):\n",
        "  CHECK_VECTOR.append([A_LIST[i],i+1])\n",
        "\n",
        "CHECK_VECTOR.sort()\n",
        "\n",
        "for i in range(N):\n",
        "  ANSWER_LIST.append(CHECK_VECTOR[i][1])\n",
        "\n",
        "print(*ANSWER_LIST)"
      ],
      "metadata": {
        "colab": {
          "base_uri": "https://localhost:8080/"
        },
        "id": "h1XaCuWqOL5w",
        "outputId": "1b219f71-24fe-4a01-abd8-cee3dbf96240"
      },
      "execution_count": null,
      "outputs": [
        {
          "output_type": "stream",
          "name": "stdout",
          "text": [
            "8\n",
            "8 2 7 3 4 5 6 1\n",
            "8 2 4 5 6 7 3 1\n"
          ]
        }
      ]
    }
  ]
}