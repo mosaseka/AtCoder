{
  "nbformat": 4,
  "nbformat_minor": 0,
  "metadata": {
    "colab": {
      "provenance": [],
      "authorship_tag": "ABX9TyOqg9AFRqY50Yof5wKyz6R+",
      "include_colab_link": true
    },
    "kernelspec": {
      "name": "python3",
      "display_name": "Python 3"
    },
    "language_info": {
      "name": "python"
    }
  },
  "cells": [
    {
      "cell_type": "markdown",
      "metadata": {
        "id": "view-in-github",
        "colab_type": "text"
      },
      "source": [
        "<a href=\"https://colab.research.google.com/github/mosaseka/AtCoder/blob/main/A_Digit_Sum_2.ipynb\" target=\"_parent\"><img src=\"https://colab.research.google.com/assets/colab-badge.svg\" alt=\"Open In Colab\"/></a>"
      ]
    },
    {
      "cell_type": "code",
      "execution_count": null,
      "metadata": {
        "id": "N9eJsuGI7ORl"
      },
      "outputs": [],
      "source": [
        "def digitSum(n):\n",
        "    # 数値を文字列に変換\n",
        "    s = str(n)\n",
        "    # １文字ずつ数値化し配列にする。\n",
        "    array = list(map(int, s))\n",
        "    # 合計値を返す\n",
        "    return sum(array)\n",
        "\n",
        "N = int(input())\n",
        "CHECK_LIST = []\n",
        "ANSWER = 0\n",
        "\n",
        "for i in range(int(N)):\n",
        "  if digitSum(N-i) > ANSWER:\n",
        "    ANSWER = digitSum(N-i)\n",
        "\n",
        "print(ANSWER)"
      ]
    },
    {
      "cell_type": "code",
      "source": [
        "N_LIST = list(map(str,input()))\n",
        "ANSWER_LIST = []\n",
        "CHECK_LIST = []\n",
        "\n",
        "for i in range(len(N_LIST)):\n",
        "  CHECK_LIST.append(int(N_LIST[i]))\n",
        "\n",
        "if len(N_LIST) == 1:\n",
        "  ANSWER_LIST.append(int(N_LIST[0]))\n",
        "elif len(set(list(N_LIST))) == 1 and \"9\" in N_LIST:\n",
        "  for i in range(len(N_LIST)):\n",
        "    ANSWER_LIST.append(9)\n",
        "else:\n",
        "  for i in range(len(N_LIST)-1):\n",
        "    ANSWER_LIST.append(9)\n",
        "  ANSWER_LIST.append(int(N_LIST[0]) - 1)\n",
        "\n",
        "#print(ANSWER_LIST)\n",
        "\n",
        "print(sum(ANSWER_LIST))"
      ],
      "metadata": {
        "colab": {
          "base_uri": "https://localhost:8080/"
        },
        "id": "86i_qnolDuKH",
        "outputId": "30a25803-5f1a-4eb5-8806-92cff0d5f7d4"
      },
      "execution_count": null,
      "outputs": [
        {
          "output_type": "stream",
          "name": "stdout",
          "text": [
            "19\n",
            "9\n"
          ]
        }
      ]
    },
    {
      "cell_type": "code",
      "source": [
        "N = input()\n",
        "N_LIST = list(N)\n",
        "ANSWER = 0\n",
        "NUM = 0\n",
        "\n",
        "for i in range(len(N)):\n",
        "  N_LIST[i] = int(N_LIST[i])\n",
        "\n",
        "for i in range(1,len(N)):\n",
        "  if N_LIST[i] != 9:\n",
        "    N_LIST[i-1] = N_LIST[i-1] - 1\n",
        "    NUM = i\n",
        "    break\n",
        "\n",
        "if NUM == 0:\n",
        "  print(sum(N_LIST))\n",
        "else:\n",
        "  for i in range(NUM):\n",
        "    ANSWER += N_LIST[i]\n",
        "  ANSWER += 9*(len(N_LIST) - NUM)\n",
        "  print(ANSWER)"
      ],
      "metadata": {
        "colab": {
          "base_uri": "https://localhost:8080/"
        },
        "id": "qQaXupDIgckz",
        "outputId": "3c0f9c79-fa6c-4d15-d9bb-6bd35bc6532c"
      },
      "execution_count": null,
      "outputs": [
        {
          "output_type": "stream",
          "name": "stdout",
          "text": [
            "100\n",
            "18\n"
          ]
        }
      ]
    }
  ]
}