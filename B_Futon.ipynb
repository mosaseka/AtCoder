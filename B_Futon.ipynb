{
  "nbformat": 4,
  "nbformat_minor": 0,
  "metadata": {
    "colab": {
      "provenance": [],
      "authorship_tag": "ABX9TyOtLkhgZyyhpb3tswN0KD5Z",
      "include_colab_link": true
    },
    "kernelspec": {
      "name": "python3",
      "display_name": "Python 3"
    },
    "language_info": {
      "name": "python"
    }
  },
  "cells": [
    {
      "cell_type": "markdown",
      "metadata": {
        "id": "view-in-github",
        "colab_type": "text"
      },
      "source": [
        "<a href=\"https://colab.research.google.com/github/mosaseka/AtCoder/blob/main/B_Futon.ipynb\" target=\"_parent\"><img src=\"https://colab.research.google.com/assets/colab-badge.svg\" alt=\"Open In Colab\"/></a>"
      ]
    },
    {
      "cell_type": "code",
      "execution_count": null,
      "metadata": {
        "id": "_COiL_427oSr"
      },
      "outputs": [],
      "source": [
        "H,W = map(int,input().split())\n",
        "S_LIST = [list(map(str,input())) for i in range(H)]\n",
        "COUNT = 0\n",
        "\n",
        "for i in range(H):\n",
        "  for j in range(W-1):\n",
        "    if S_LIST[i][j] == \".\" and S_LIST[i][j+1] == \".\":\n",
        "      COUNT += 1\n",
        "\n",
        "for i in range(W):\n",
        "  for j in range(H-1):\n",
        "    if S_LIST[j][i] == \".\" and S_LIST[j+1][i] == \".\":\n",
        "      COUNT += 1\n",
        "\n",
        "print(COUNT)"
      ]
    }
  ]
}