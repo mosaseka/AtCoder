{
  "nbformat": 4,
  "nbformat_minor": 0,
  "metadata": {
    "colab": {
      "provenance": [],
      "authorship_tag": "ABX9TyM8jV8pyun6/Rz3xGOkj0GO",
      "include_colab_link": true
    },
    "kernelspec": {
      "name": "python3",
      "display_name": "Python 3"
    },
    "language_info": {
      "name": "python"
    }
  },
  "cells": [
    {
      "cell_type": "markdown",
      "metadata": {
        "id": "view-in-github",
        "colab_type": "text"
      },
      "source": [
        "<a href=\"https://colab.research.google.com/github/mosaseka/AtCoder/blob/main/A_Leap_Year.ipynb\" target=\"_parent\"><img src=\"https://colab.research.google.com/assets/colab-badge.svg\" alt=\"Open In Colab\"/></a>"
      ]
    },
    {
      "cell_type": "code",
      "execution_count": null,
      "metadata": {
        "id": "_YQcF6JQlj_E"
      },
      "outputs": [],
      "source": [
        "Y = int(input())\n",
        "\n",
        "if Y % 4 != 0:\n",
        "  print(365)\n",
        "elif Y % 100 != 0:\n",
        "  print(366)\n",
        "elif Y % 400 != 0:\n",
        "  print(365)\n",
        "else:\n",
        "  print(366)"
      ]
    }
  ]
}