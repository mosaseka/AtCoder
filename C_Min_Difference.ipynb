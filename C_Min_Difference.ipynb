{
  "nbformat": 4,
  "nbformat_minor": 0,
  "metadata": {
    "colab": {
      "provenance": [],
      "authorship_tag": "ABX9TyMgRl6muzUi5JnZyqROJj8W",
      "include_colab_link": true
    },
    "kernelspec": {
      "name": "python3",
      "display_name": "Python 3"
    },
    "language_info": {
      "name": "python"
    }
  },
  "cells": [
    {
      "cell_type": "markdown",
      "metadata": {
        "id": "view-in-github",
        "colab_type": "text"
      },
      "source": [
        "<a href=\"https://colab.research.google.com/github/mosaseka/AtCoder/blob/main/C_Min_Difference.ipynb\" target=\"_parent\"><img src=\"https://colab.research.google.com/assets/colab-badge.svg\" alt=\"Open In Colab\"/></a>"
      ]
    },
    {
      "cell_type": "code",
      "execution_count": null,
      "metadata": {
        "id": "Tz71MnMd4NvC"
      },
      "outputs": [],
      "source": [
        "import numpy as np\n",
        "from collections import deque\n",
        "\n",
        "def getNearestValue(list, num):\n",
        "    \"\"\"\n",
        "    概要: リストからある値に最も近い値を返却する関数\n",
        "    @param list: データ配列\n",
        "    @param num: 対象値\n",
        "    @return 対象値に最も近い値\n",
        "    \"\"\"\n",
        "\n",
        "    # リスト要素と対象値の差分を計算し最小値のインデックスを取得\n",
        "    idx = np.abs(np.asarray(list) - num).argmin()\n",
        "    return list[idx]\n",
        "\n",
        "\n",
        "N,M = map(int,input().split())\n",
        "A_LIST = list(map(int,input().split()))\n",
        "B_LIST = list(map(int,input().split()))\n",
        "ANSWER_DEQ = deque()\n",
        "A = 0\n",
        "B = 0\n",
        "\n",
        "for i in range(N):\n",
        "  A = A_LIST[i]\n",
        "  B = getNearestValue(B_LIST,A)\n",
        "  ANSWER_DEQ.append(abs(A-B))\n",
        "\n",
        "print(min(ANSWER_DEQ))"
      ]
    },
    {
      "cell_type": "code",
      "source": [
        "import bisect\n",
        "\n",
        "N,M = map(int,input().split())\n",
        "A_LIST = list(map(int,input().split()))\n",
        "B_LIST = list(map(int,input().split()))\n",
        "ANSWER = 10**9\n",
        "NUM = 0\n",
        "ALPHA = 0\n",
        "BETA = 0\n",
        "\n",
        "B_LIST.sort()\n",
        "\n",
        "for i in range(N):\n",
        "  NUM = bisect.bisect_left(B_LIST,A_LIST[i])\n",
        "  if NUM != 0:\n",
        "    ALPHA = abs(A_LIST[i] - B_LIST[NUM-1])\n",
        "  else:\n",
        "    ALPHA = abs(A_LIST[i] - B_LIST[NUM])\n",
        "  if NUM != len(B_LIST):\n",
        "    BETA = abs(A_LIST[i] - B_LIST[NUM])\n",
        "  else:\n",
        "    BETA = abs(A_LIST[i] - B_LIST[NUM-1])\n",
        "  ANSWER = min(ANSWER,ALPHA)\n",
        "  ANSWER = min(ANSWER,BETA)\n",
        "\n",
        "print(ANSWER)"
      ],
      "metadata": {
        "id": "Tk8z-qbb8XZ-"
      },
      "execution_count": null,
      "outputs": []
    }
  ]
}