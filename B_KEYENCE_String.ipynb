{
  "nbformat": 4,
  "nbformat_minor": 0,
  "metadata": {
    "colab": {
      "provenance": [],
      "authorship_tag": "ABX9TyPda0KWznJl9OLLTOLEuTKz",
      "include_colab_link": true
    },
    "kernelspec": {
      "name": "python3",
      "display_name": "Python 3"
    },
    "language_info": {
      "name": "python"
    }
  },
  "cells": [
    {
      "cell_type": "markdown",
      "metadata": {
        "id": "view-in-github",
        "colab_type": "text"
      },
      "source": [
        "<a href=\"https://colab.research.google.com/github/mosaseka/AtCoder/blob/main/B_KEYENCE_String.ipynb\" target=\"_parent\"><img src=\"https://colab.research.google.com/assets/colab-badge.svg\" alt=\"Open In Colab\"/></a>"
      ]
    },
    {
      "cell_type": "code",
      "execution_count": null,
      "metadata": {
        "id": "JGtN7yq3LdwH"
      },
      "outputs": [],
      "source": [
        "S = str(input())\n",
        "CHECK = \"\"\n",
        "\n",
        "for i in range(len(S)):\n",
        "  CHECK = \"\"\n",
        "  for j in range(len(S)-i):\n",
        "    CHECK = S[:i]+S[j:]\n",
        "    if CHECK == \"keyence\":\n",
        "      print(\"YES\")\n",
        "      exit()\n",
        "\n",
        "print(\"NO\")"
      ]
    },
    {
      "cell_type": "code",
      "source": [
        "S = str(input())\n",
        "CHECK = \"\"\n",
        "DELTA = len(S) - 7\n",
        "\n",
        "for i in range(8):\n",
        "  CHECK = S[0:i] + S[DELTA+i:]\n",
        "  if CHECK == \"keyence\":\n",
        "    print(\"YES\")\n",
        "    exit()\n",
        "\n",
        "print(\"NO\")"
      ],
      "metadata": {
        "id": "LhBoapnvRg-K"
      },
      "execution_count": null,
      "outputs": []
    }
  ]
}