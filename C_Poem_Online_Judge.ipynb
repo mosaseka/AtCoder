{
  "nbformat": 4,
  "nbformat_minor": 0,
  "metadata": {
    "colab": {
      "provenance": [],
      "authorship_tag": "ABX9TyM7iq3Jg8p/rB8YN81u6Ycb",
      "include_colab_link": true
    },
    "kernelspec": {
      "name": "python3",
      "display_name": "Python 3"
    },
    "language_info": {
      "name": "python"
    }
  },
  "cells": [
    {
      "cell_type": "markdown",
      "metadata": {
        "id": "view-in-github",
        "colab_type": "text"
      },
      "source": [
        "<a href=\"https://colab.research.google.com/github/mosaseka/AtCoder/blob/main/C_Poem_Online_Judge.ipynb\" target=\"_parent\"><img src=\"https://colab.research.google.com/assets/colab-badge.svg\" alt=\"Open In Colab\"/></a>"
      ]
    },
    {
      "cell_type": "code",
      "execution_count": null,
      "metadata": {
        "id": "2wU-G4TgBiwC"
      },
      "outputs": [],
      "source": [
        "from collections import deque\n",
        "\n",
        "N = int(input())\n",
        "S = \"\"\n",
        "T = 0\n",
        "S_SET = set()\n",
        "POINT_DEQ = deque()\n",
        "INDEX = 0\n",
        "MAX = 0\n",
        "\n",
        "\n",
        "for i in range(N):\n",
        "  S,T = map(str,input().split())\n",
        "  T = int(T)\n",
        "  if S not in S_SET and MAX < T:\n",
        "    S_SET.add(S)\n",
        "    INDEX = i+1\n",
        "    MAX = T\n",
        "\n",
        "  elif S not in S_SET:\n",
        "    S_SET.add(S)\n",
        "\n",
        "print(INDEX)"
      ]
    }
  ]
}