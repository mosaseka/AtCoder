{
  "nbformat": 4,
  "nbformat_minor": 0,
  "metadata": {
    "colab": {
      "provenance": [],
      "authorship_tag": "ABX9TyNlB20Gludjo46EqPKVqn7J",
      "include_colab_link": true
    },
    "kernelspec": {
      "name": "python3",
      "display_name": "Python 3"
    },
    "language_info": {
      "name": "python"
    }
  },
  "cells": [
    {
      "cell_type": "markdown",
      "metadata": {
        "id": "view-in-github",
        "colab_type": "text"
      },
      "source": [
        "<a href=\"https://colab.research.google.com/github/mosaseka/AtCoder/blob/main/A_Past_ABCs.ipynb\" target=\"_parent\"><img src=\"https://colab.research.google.com/assets/colab-badge.svg\" alt=\"Open In Colab\"/></a>"
      ]
    },
    {
      "cell_type": "code",
      "execution_count": null,
      "metadata": {
        "id": "iveYHDhFsQp4"
      },
      "outputs": [],
      "source": [
        "S = str(input())\n",
        "ABC = S[:3]\n",
        "NUM = int(S[3:])\n",
        "#print(ABC,NUM)\n",
        "\n",
        "if NUM == 316 or NUM >= 350 or NUM == 0:\n",
        "  print(\"No\")\n",
        "else:\n",
        "  print(\"Yes\")"
      ]
    }
  ]
}