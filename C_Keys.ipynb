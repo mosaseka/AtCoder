{
  "nbformat": 4,
  "nbformat_minor": 0,
  "metadata": {
    "colab": {
      "provenance": [],
      "authorship_tag": "ABX9TyMbjkCN7wsH0L6HVHK1g6Ay",
      "include_colab_link": true
    },
    "kernelspec": {
      "name": "python3",
      "display_name": "Python 3"
    },
    "language_info": {
      "name": "python"
    }
  },
  "cells": [
    {
      "cell_type": "markdown",
      "metadata": {
        "id": "view-in-github",
        "colab_type": "text"
      },
      "source": [
        "<a href=\"https://colab.research.google.com/github/mosaseka/AtCoder/blob/main/C_Keys.ipynb\" target=\"_parent\"><img src=\"https://colab.research.google.com/assets/colab-badge.svg\" alt=\"Open In Colab\"/></a>"
      ]
    },
    {
      "cell_type": "code",
      "execution_count": null,
      "metadata": {
        "id": "NaPXB_7qy2P7"
      },
      "outputs": [],
      "source": [
        "from collections import deque\n",
        "\n",
        "N,M,K = map(int,input().split())\n",
        "DEQ = deque()\n",
        "OK = set()\n",
        "NG = set()\n",
        "C = \"\"\n",
        "R = \"\"\n",
        "ANSWER = 0\n",
        "LIST = []\n",
        "\n",
        "for i in range(M):\n",
        "  DEQ = deque(map(str,input().split()))\n",
        "  C = DEQ.popleft()\n",
        "  R = DEQ.pop()\n",
        "  LIST = [list(DEQ),R]\n",
        "\n"
      ]
    },
    {
      "cell_type": "markdown",
      "source": [
        "あなたは\n",
        "N 本の鍵\n",
        "1,2,…,N を持っています。\n",
        "このうち何本かの鍵は正しい鍵で、それ以外はダミーの鍵です。\n",
        "\n",
        "また、鍵を何本でも挿し込める ドアX があり、この ドアX は正しい鍵を\n",
        "K 本以上挿し込んだ時、またその時に限って開きます。\n",
        "\n",
        "あなたはこれらの鍵に対して\n",
        "M 回のテストを行いました。このうち\n",
        "i 回目のテストの内容は次の通りです。\n",
        "\n",
        "C\n",
        "i\n",
        "​\n",
        "  本の鍵\n",
        "A\n",
        "i,1\n",
        "​\n",
        " ,A\n",
        "i,2\n",
        "​\n",
        " ,…,A\n",
        "i,C\n",
        "i\n",
        "​\n",
        "\n",
        "​\n",
        "  を ドアX に挿し込む。\n",
        "テスト結果はひとつの英文字\n",
        "R\n",
        "i\n",
        "​\n",
        "  で表現される。\n",
        "R\n",
        "i\n",
        "​\n",
        " = o のとき\n",
        "i 回目のテストでドアが開いたことを表す。\n",
        "R\n",
        "i\n",
        "​\n",
        " = x のとき\n",
        "i 回目のテストでドアが開かなかったことを表す。\n",
        "各鍵が正しいかダミーかの組み合わせは\n",
        "2\n",
        "N\n",
        "  通り考えられますが、このうちどのテスト結果にも矛盾しない組み合わせの個数を求めてください。\n",
        "ただし、与えられるテスト結果が誤っており上記の条件を満たす組み合わせが存在しない場合もあります。その場合は\n",
        "0 通りと解答してください。"
      ],
      "metadata": {
        "id": "f2CRFVjL0nvG"
      }
    },
    {
      "cell_type": "code",
      "source": [
        "from collections import deque\n",
        "\n",
        "def count_valid_combinations(N, K, M, tests):\n",
        "    valid_count = 0\n",
        "\n",
        "    # 2^N 通りの鍵の組み合わせをチェック\n",
        "    for mask in range(1 << N):\n",
        "        is_valid = True\n",
        "\n",
        "        for test in tests:\n",
        "            C = test[0]\n",
        "            keys_used = test[1]\n",
        "            result = test[2]\n",
        "\n",
        "            # keys_used に対して、mask 上の対応するビットをチェック\n",
        "            correct_keys_count = sum((mask >> (key - 1)) & 1 for key in keys_used)\n",
        "\n",
        "            if result == 'o':\n",
        "                if correct_keys_count < K:\n",
        "                    is_valid = False\n",
        "                    break\n",
        "            else:  # result == 'x'\n",
        "                if correct_keys_count >= K:\n",
        "                    is_valid = False\n",
        "                    break\n",
        "\n",
        "        if is_valid:\n",
        "            valid_count += 1\n",
        "\n",
        "    return valid_count\n",
        "\n",
        "N,M,K = map(int,input().split())\n",
        "LIST = []\n",
        "CHECK = []\n",
        "DEQ = deque()\n",
        "C = \"\"\n",
        "R = \"\"\n",
        "\n",
        "for i in range(M):\n",
        "  CHECK = []\n",
        "  DEQ = deque(map(str,input().split()))\n",
        "  C = int(DEQ.popleft())\n",
        "  R = DEQ.pop()\n",
        "  #print(DEQ)\n",
        "  for j in range(len(DEQ)):\n",
        "    CHECK.append(int(DEQ[j]))\n",
        "  LIST.append((C,CHECK,R))\n",
        "\n",
        "#print(LIST)\n",
        "result = count_valid_combinations(N, K, M, LIST)\n",
        "print(result)"
      ],
      "metadata": {
        "id": "nva1sthA0tte"
      },
      "execution_count": null,
      "outputs": []
    }
  ]
}