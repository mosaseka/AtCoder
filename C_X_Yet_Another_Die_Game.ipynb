{
  "nbformat": 4,
  "nbformat_minor": 0,
  "metadata": {
    "colab": {
      "provenance": [],
      "authorship_tag": "ABX9TyO57+L6gJQooKWDuBDViO5+",
      "include_colab_link": true
    },
    "kernelspec": {
      "name": "python3",
      "display_name": "Python 3"
    },
    "language_info": {
      "name": "python"
    }
  },
  "cells": [
    {
      "cell_type": "markdown",
      "metadata": {
        "id": "view-in-github",
        "colab_type": "text"
      },
      "source": [
        "<a href=\"https://colab.research.google.com/github/mosaseka/AtCoder/blob/main/C_X_Yet_Another_Die_Game.ipynb\" target=\"_parent\"><img src=\"https://colab.research.google.com/assets/colab-badge.svg\" alt=\"Open In Colab\"/></a>"
      ]
    },
    {
      "cell_type": "code",
      "execution_count": null,
      "metadata": {
        "colab": {
          "base_uri": "https://localhost:8080/"
        },
        "id": "Z7bUBiGlOJkp",
        "outputId": "e3614762-9111-4c58-a3f1-641ea20b5562"
      },
      "outputs": [
        {
          "output_type": "stream",
          "name": "stdout",
          "text": [
            "7\n",
            "1\n"
          ]
        }
      ],
      "source": [
        "import math\n",
        "\n",
        "X = int(input())\n",
        "ANSWER = 0\n",
        "\n",
        "ANSWER = X // 11 * 2\n",
        "\n",
        "if X % 11 == 0:\n",
        "  print(ANSWER)\n",
        "elif X % 11 <= 6:\n",
        "  print(ANSWER + 1)\n",
        "else:\n",
        "  print(ANSWER+2)"
      ]
    }
  ]
}