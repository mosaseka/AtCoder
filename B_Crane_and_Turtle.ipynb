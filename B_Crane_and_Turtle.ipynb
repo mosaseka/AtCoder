{
  "nbformat": 4,
  "nbformat_minor": 0,
  "metadata": {
    "colab": {
      "provenance": [],
      "authorship_tag": "ABX9TyNijVkcBm2dIde/0Qmi7TRc",
      "include_colab_link": true
    },
    "kernelspec": {
      "name": "python3",
      "display_name": "Python 3"
    },
    "language_info": {
      "name": "python"
    }
  },
  "cells": [
    {
      "cell_type": "markdown",
      "metadata": {
        "id": "view-in-github",
        "colab_type": "text"
      },
      "source": [
        "<a href=\"https://colab.research.google.com/github/mosaseka/AtCoder/blob/main/B_Crane_and_Turtle.ipynb\" target=\"_parent\"><img src=\"https://colab.research.google.com/assets/colab-badge.svg\" alt=\"Open In Colab\"/></a>"
      ]
    },
    {
      "cell_type": "code",
      "execution_count": null,
      "metadata": {
        "id": "-pYLEAU6tdXh"
      },
      "outputs": [],
      "source": [
        "X,Y = map(int,input().split())\n",
        "\n",
        "for i in range(100):\n",
        "  for j in range(100):\n",
        "    if (i+1) + (j+1) == X and 2*(i+1) + 4*(j+1) == Y:\n",
        "      print(\"Yes\")\n",
        "      exit()\n",
        "\n",
        "print(\"No\")"
      ]
    },
    {
      "cell_type": "code",
      "source": [
        "X,Y = map(int,input().split())\n",
        "\n",
        "for i in range(0,100):\n",
        "  for j in range(0,100):\n",
        "    if i + j == X and 2*i + 4*j == Y:\n",
        "      print(\"Yes\")\n",
        "      exit()\n",
        "\n",
        "print(\"No\")"
      ],
      "metadata": {
        "id": "E8vR_kwxu4Iz"
      },
      "execution_count": null,
      "outputs": []
    }
  ]
}