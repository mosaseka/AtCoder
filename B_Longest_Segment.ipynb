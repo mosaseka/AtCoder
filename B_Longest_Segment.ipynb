{
  "nbformat": 4,
  "nbformat_minor": 0,
  "metadata": {
    "colab": {
      "provenance": [],
      "authorship_tag": "ABX9TyOhGoNBGaUBuPAzESBwJ76J",
      "include_colab_link": true
    },
    "kernelspec": {
      "name": "python3",
      "display_name": "Python 3"
    },
    "language_info": {
      "name": "python"
    }
  },
  "cells": [
    {
      "cell_type": "markdown",
      "metadata": {
        "id": "view-in-github",
        "colab_type": "text"
      },
      "source": [
        "<a href=\"https://colab.research.google.com/github/mosaseka/AtCoder/blob/main/B_Longest_Segment.ipynb\" target=\"_parent\"><img src=\"https://colab.research.google.com/assets/colab-badge.svg\" alt=\"Open In Colab\"/></a>"
      ]
    },
    {
      "cell_type": "code",
      "execution_count": null,
      "metadata": {
        "id": "HFTVEUoi7phi"
      },
      "outputs": [],
      "source": [
        "import itertools\n",
        "from collections import deque\n",
        "\n",
        "N = int(input())\n",
        "XY_LIST = [list(map(int,input().split())) for i in range(N)]\n",
        "NUM_LIST = [i+1 for i in range(N)]\n",
        "ANSWER_DEQ = deque()\n",
        "CHECK = 0\n",
        "\n",
        "for i in itertools.combinations(NUM_LIST,2):\n",
        "  CHECK = 0\n",
        "  CHECK += ((XY_LIST[i[0]-1][0]-XY_LIST[i[1]-1][0])**2)\n",
        "  CHECK += ((XY_LIST[i[0]-1][1]-XY_LIST[i[1]-1][1])**2)\n",
        "  ANSWER_DEQ.append(CHECK)\n",
        "\n",
        "print((max(ANSWER_DEQ))**0.5)"
      ]
    }
  ]
}