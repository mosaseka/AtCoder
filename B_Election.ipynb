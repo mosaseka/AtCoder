{
  "nbformat": 4,
  "nbformat_minor": 0,
  "metadata": {
    "colab": {
      "provenance": [],
      "authorship_tag": "ABX9TyOrr4iIca94mZ0D3Uzv4y9B",
      "include_colab_link": true
    },
    "kernelspec": {
      "name": "python3",
      "display_name": "Python 3"
    },
    "language_info": {
      "name": "python"
    }
  },
  "cells": [
    {
      "cell_type": "markdown",
      "metadata": {
        "id": "view-in-github",
        "colab_type": "text"
      },
      "source": [
        "<a href=\"https://colab.research.google.com/github/mosaseka/AtCoder/blob/main/B_Election.ipynb\" target=\"_parent\"><img src=\"https://colab.research.google.com/assets/colab-badge.svg\" alt=\"Open In Colab\"/></a>"
      ]
    },
    {
      "cell_type": "code",
      "execution_count": null,
      "metadata": {
        "id": "5DBu2JOdsVww"
      },
      "outputs": [],
      "source": [
        "from collections import Counter\n",
        "\n",
        "N = int(input())\n",
        "S_LIST = [str(input()) for i in range(N)]\n",
        "S_COUNT = []\n",
        "\n",
        "S_COUNT = list((Counter(S_LIST)).items())\n",
        "S_COUNT.sort(key=lambda x:x[1],reverse=True)\n",
        "#print(S_COUNT)\n",
        "\n",
        "print(S_COUNT[0][0])"
      ]
    }
  ]
}