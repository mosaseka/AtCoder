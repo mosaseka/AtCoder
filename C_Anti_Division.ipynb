{
  "nbformat": 4,
  "nbformat_minor": 0,
  "metadata": {
    "colab": {
      "provenance": [],
      "authorship_tag": "ABX9TyMsj/NQuBwk7KzXRBonRT6s",
      "include_colab_link": true
    },
    "kernelspec": {
      "name": "python3",
      "display_name": "Python 3"
    },
    "language_info": {
      "name": "python"
    }
  },
  "cells": [
    {
      "cell_type": "markdown",
      "metadata": {
        "id": "view-in-github",
        "colab_type": "text"
      },
      "source": [
        "<a href=\"https://colab.research.google.com/github/mosaseka/AtCoder/blob/main/C_Anti_Division.ipynb\" target=\"_parent\"><img src=\"https://colab.research.google.com/assets/colab-badge.svg\" alt=\"Open In Colab\"/></a>"
      ]
    },
    {
      "cell_type": "code",
      "execution_count": null,
      "metadata": {
        "id": "1_t_FCaSoaar"
      },
      "outputs": [],
      "source": [
        "A,B,C,D = map(int,input().split())\n",
        "ANSWER = 0\n",
        "\n",
        "for i in range(A,B):\n",
        "  if i%C != 0 and i%D != 0:\n",
        "    ANSWER += 1\n",
        "\n",
        "print(ANSWER)"
      ]
    },
    {
      "cell_type": "code",
      "source": [
        "import math\n",
        "\n",
        "def lcm(a, b):\n",
        "    y = a*b // math.gcd(a, b)\n",
        "    return y\n",
        "\n",
        "A,B,C,D = map(int,input().split())\n",
        "ANSWER = 0\n",
        "\n",
        "ANSWER += (B-A+1)\n",
        "ANSWER -= (B//C - (A-1)//C)\n",
        "ANSWER -= (B//D - (A-1)//D)\n",
        "ANSWER += (B//lcm(C,D) - (A-1)//lcm(C,D))\n",
        "\n",
        "print(ANSWER)"
      ],
      "metadata": {
        "colab": {
          "base_uri": "https://localhost:8080/"
        },
        "id": "Ytbfe7HHo5EL",
        "outputId": "a6f681f1-8765-45c1-80e9-2da9e35e553d"
      },
      "execution_count": null,
      "outputs": [
        {
          "output_type": "stream",
          "name": "stdout",
          "text": [
            "314159265358979323 846264338327950288 419716939 937510582\n",
            "532105071133627368\n"
          ]
        }
      ]
    }
  ]
}