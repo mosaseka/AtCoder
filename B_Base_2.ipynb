{
  "nbformat": 4,
  "nbformat_minor": 0,
  "metadata": {
    "colab": {
      "provenance": [],
      "authorship_tag": "ABX9TyOZ3cWhuuuAfiLCYMlhhR+T",
      "include_colab_link": true
    },
    "kernelspec": {
      "name": "python3",
      "display_name": "Python 3"
    },
    "language_info": {
      "name": "python"
    }
  },
  "cells": [
    {
      "cell_type": "markdown",
      "metadata": {
        "id": "view-in-github",
        "colab_type": "text"
      },
      "source": [
        "<a href=\"https://colab.research.google.com/github/mosaseka/AtCoder/blob/main/B_Base_2.ipynb\" target=\"_parent\"><img src=\"https://colab.research.google.com/assets/colab-badge.svg\" alt=\"Open In Colab\"/></a>"
      ]
    },
    {
      "cell_type": "code",
      "execution_count": null,
      "metadata": {
        "id": "HesDNBKjO90o"
      },
      "outputs": [],
      "source": [
        "A_LIST = list(map(int,input().split()))\n",
        "ANSWER = 0\n",
        "\n",
        "for i in range(64):\n",
        "  ANSWER += A_LIST[i] * (2**i)\n",
        "\n",
        "print(ANSWER)"
      ]
    }
  ]
}