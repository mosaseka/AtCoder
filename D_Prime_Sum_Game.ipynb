{
  "nbformat": 4,
  "nbformat_minor": 0,
  "metadata": {
    "colab": {
      "provenance": [],
      "authorship_tag": "ABX9TyMwGutwl4D9zNQjAQKBai3U",
      "include_colab_link": true
    },
    "kernelspec": {
      "name": "python3",
      "display_name": "Python 3"
    },
    "language_info": {
      "name": "python"
    }
  },
  "cells": [
    {
      "cell_type": "markdown",
      "metadata": {
        "id": "view-in-github",
        "colab_type": "text"
      },
      "source": [
        "<a href=\"https://colab.research.google.com/github/mosaseka/AtCoder/blob/main/D_Prime_Sum_Game.ipynb\" target=\"_parent\"><img src=\"https://colab.research.google.com/assets/colab-badge.svg\" alt=\"Open In Colab\"/></a>"
      ]
    },
    {
      "cell_type": "code",
      "execution_count": null,
      "metadata": {
        "id": "pPYlrPwVYJ97"
      },
      "outputs": [],
      "source": [
        "import math\n",
        "\n",
        "def is_prime(i):\n",
        "    if i <= 1:\n",
        "        return False\n",
        "    for j in range(2, int(i**0.5) + 1):\n",
        "        if i % j == 0:\n",
        "            return False\n",
        "    return True\n",
        "\n",
        "A,B,C,D = map(int,input().split())\n",
        "COUNT = 0\n",
        "\n",
        "for i in range(A,B+1):\n",
        "  for j in range(C,D+1):\n",
        "    if (is_prime(i+j)):\n",
        "      COUNT += 1\n",
        "\n",
        "if COUNT >= 1:\n",
        "  print(\"Aoki\")\n",
        "else:\n",
        "  print(\"Takahashi\")"
      ]
    },
    {
      "cell_type": "code",
      "source": [
        "def sieve_of_eratosthenes(n): #エラトステネスのふるい\n",
        "    candidate = list(range(2, n+1)) #候補\n",
        "    prime = []\n",
        "    limit = n**0.5 + 1 #+1がないと平方数を素数にしてしまう\n",
        "\n",
        "    while True:\n",
        "        p = candidate[0]\n",
        "        if limit <= p:\n",
        "            prime.extend(candidate) #この時点での残っているのは素数\n",
        "            break\n",
        "        prime.append(p) #pを素数リストに登録\n",
        "\n",
        "        candidate = [i for i in candidate if i % p != 0]\n",
        "\n",
        "        # i = 0\n",
        "        # while True:\n",
        "            # if i >= len(candidate): #iはcandidateの長さ分\n",
        "                # break\n",
        "            # elif candidate[i] % p == 0: #余りがゼロなら\n",
        "                # candidate.pop(i) #素数ではないのでpop(取り除く)する\n",
        "            # i += 1\n",
        "\n",
        "    return prime\n",
        "\n",
        "A,B,C,D = map(int,input().split())\n",
        "PRIME = set(sieve_of_eratosthenes(200))\n",
        "COUNT = 0\n",
        "\n",
        "#print(PRIME)\n",
        "\n",
        "for i in range(A,B+1):\n",
        "  if all(not i+j in PRIME for j in range(C,D+1)):\n",
        "    print(\"Takahashi\")\n",
        "    exit()\n",
        "\n",
        "print(\"Aoki\")"
      ],
      "metadata": {
        "id": "vu20sldv5TRc"
      },
      "execution_count": null,
      "outputs": []
    }
  ]
}