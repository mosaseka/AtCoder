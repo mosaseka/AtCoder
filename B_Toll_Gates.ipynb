{
  "nbformat": 4,
  "nbformat_minor": 0,
  "metadata": {
    "colab": {
      "provenance": [],
      "authorship_tag": "ABX9TyODMeavHVcB3ZQeZ3hgxNT9",
      "include_colab_link": true
    },
    "kernelspec": {
      "name": "python3",
      "display_name": "Python 3"
    },
    "language_info": {
      "name": "python"
    }
  },
  "cells": [
    {
      "cell_type": "markdown",
      "metadata": {
        "id": "view-in-github",
        "colab_type": "text"
      },
      "source": [
        "<a href=\"https://colab.research.google.com/github/mosaseka/AtCoder/blob/main/B_Toll_Gates.ipynb\" target=\"_parent\"><img src=\"https://colab.research.google.com/assets/colab-badge.svg\" alt=\"Open In Colab\"/></a>"
      ]
    },
    {
      "cell_type": "code",
      "execution_count": null,
      "metadata": {
        "colab": {
          "base_uri": "https://localhost:8080/"
        },
        "id": "Ny1RJCzKWFxT",
        "outputId": "3a49de39-cfcf-45c9-9770-55967b2eca7c"
      },
      "outputs": [
        {
          "output_type": "stream",
          "name": "stdout",
          "text": [
            "5 3 3\n",
            "1 2 4\n",
            "[1, 2]\n",
            "1\n"
          ]
        }
      ],
      "source": [
        "N,M,X = map(int,input().split())\n",
        "A_LIST = list(map(int,input().split()))\n",
        "RIGHT = X\n",
        "LEFT = X\n",
        "RIGHT_COST = 0\n",
        "LEFT_COST = 0\n",
        "COST_LIST = []\n",
        "\n",
        "while RIGHT != N:\n",
        "  RIGHT += 1\n",
        "  if RIGHT in A_LIST:\n",
        "    RIGHT_COST += 1\n",
        "  else:\n",
        "    pass\n",
        "\n",
        "COST_LIST.append(RIGHT_COST)\n",
        "\n",
        "while LEFT != 0:\n",
        "  LEFT = LEFT - 1\n",
        "  if LEFT in A_LIST:\n",
        "    LEFT_COST += 1\n",
        "  else:\n",
        "    pass\n",
        "\n",
        "COST_LIST.append(LEFT_COST)\n",
        "\n",
        "#print(COST_LIST)\n",
        "\n",
        "print(min(COST_LIST))"
      ]
    }
  ]
}