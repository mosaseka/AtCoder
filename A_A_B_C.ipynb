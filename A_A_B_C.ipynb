{
  "nbformat": 4,
  "nbformat_minor": 0,
  "metadata": {
    "colab": {
      "provenance": [],
      "authorship_tag": "ABX9TyOPNKAdTfwhTLuusM0gfvh4",
      "include_colab_link": true
    },
    "kernelspec": {
      "name": "python3",
      "display_name": "Python 3"
    },
    "language_info": {
      "name": "python"
    }
  },
  "cells": [
    {
      "cell_type": "markdown",
      "metadata": {
        "id": "view-in-github",
        "colab_type": "text"
      },
      "source": [
        "<a href=\"https://colab.research.google.com/github/mosaseka/AtCoder/blob/main/A_A_B_C.ipynb\" target=\"_parent\"><img src=\"https://colab.research.google.com/assets/colab-badge.svg\" alt=\"Open In Colab\"/></a>"
      ]
    },
    {
      "cell_type": "code",
      "execution_count": null,
      "metadata": {
        "id": "e_Ok0R_5s9VV"
      },
      "outputs": [],
      "source": [
        "K = int(input())\n",
        "COUNT = 0\n",
        "\n",
        "for i in range(1,K+1):\n",
        "  for j in range(1,(K//i)+1):\n",
        "    for k in range(1,(K//(i*j))+1):\n",
        "      if i*j*k <= K:\n",
        "        COUNT += 1\n",
        "\n",
        "print(COUNT)"
      ]
    }
  ]
}