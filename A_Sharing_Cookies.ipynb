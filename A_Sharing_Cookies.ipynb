{
  "nbformat": 4,
  "nbformat_minor": 0,
  "metadata": {
    "colab": {
      "provenance": [],
      "authorship_tag": "ABX9TyOWiHmWnJ9SLOMtuyCaFK/i",
      "include_colab_link": true
    },
    "kernelspec": {
      "name": "python3",
      "display_name": "Python 3"
    },
    "language_info": {
      "name": "python"
    }
  },
  "cells": [
    {
      "cell_type": "markdown",
      "metadata": {
        "id": "view-in-github",
        "colab_type": "text"
      },
      "source": [
        "<a href=\"https://colab.research.google.com/github/mosaseka/AtCoder/blob/main/A_Sharing_Cookies.ipynb\" target=\"_parent\"><img src=\"https://colab.research.google.com/assets/colab-badge.svg\" alt=\"Open In Colab\"/></a>"
      ]
    },
    {
      "cell_type": "code",
      "execution_count": null,
      "metadata": {
        "id": "nOr9ZBCygr0U"
      },
      "outputs": [],
      "source": [
        "A,B = map(int,input().split())\n",
        "\n",
        "if A%3 == 0:\n",
        "  print(\"Possible\")\n",
        "elif B%3 == 0:\n",
        "  print(\"Possible\")\n",
        "elif (A+B)%3 == 0:\n",
        "  print(\"Possible\")\n",
        "else:\n",
        "  print(\"Impossible\")"
      ]
    }
  ]
}