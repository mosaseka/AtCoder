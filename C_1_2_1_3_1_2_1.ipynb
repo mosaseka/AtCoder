{
  "nbformat": 4,
  "nbformat_minor": 0,
  "metadata": {
    "colab": {
      "provenance": [],
      "authorship_tag": "ABX9TyPltKcI/EhPsqE0sM9dOiYy",
      "include_colab_link": true
    },
    "kernelspec": {
      "name": "python3",
      "display_name": "Python 3"
    },
    "language_info": {
      "name": "python"
    }
  },
  "cells": [
    {
      "cell_type": "markdown",
      "metadata": {
        "id": "view-in-github",
        "colab_type": "text"
      },
      "source": [
        "<a href=\"https://colab.research.google.com/github/mosaseka/AtCoder/blob/main/C_1_2_1_3_1_2_1.ipynb\" target=\"_parent\"><img src=\"https://colab.research.google.com/assets/colab-badge.svg\" alt=\"Open In Colab\"/></a>"
      ]
    },
    {
      "cell_type": "code",
      "execution_count": null,
      "metadata": {
        "id": "Ij9R-AUF4S9q"
      },
      "outputs": [],
      "source": [
        "N = int(input())\n",
        "S_LIST = [1]\n",
        "\n",
        "for i in range(N-1):\n",
        "  S_LIST = S_LIST + [i+2] + S_LIST\n",
        "\n",
        "print(*S_LIST)"
      ]
    }
  ]
}