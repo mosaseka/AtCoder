{
  "nbformat": 4,
  "nbformat_minor": 0,
  "metadata": {
    "colab": {
      "provenance": [],
      "authorship_tag": "ABX9TyNmaxU/FU9ggNQAmb8R6IFH",
      "include_colab_link": true
    },
    "kernelspec": {
      "name": "python3",
      "display_name": "Python 3"
    },
    "language_info": {
      "name": "python"
    }
  },
  "cells": [
    {
      "cell_type": "markdown",
      "metadata": {
        "id": "view-in-github",
        "colab_type": "text"
      },
      "source": [
        "<a href=\"https://colab.research.google.com/github/mosaseka/AtCoder/blob/main/A_Coprime_Pair.ipynb\" target=\"_parent\"><img src=\"https://colab.research.google.com/assets/colab-badge.svg\" alt=\"Open In Colab\"/></a>"
      ]
    },
    {
      "cell_type": "code",
      "execution_count": null,
      "metadata": {
        "id": "8CIFQlvNNp_T"
      },
      "outputs": [],
      "source": [
        "import math\n",
        "from collections import deque\n",
        "\n",
        "L,R = map(int,input().split())\n",
        "ANSWER_DEQ = deque()\n",
        "\n",
        "for i in range(R-L+1):\n",
        "  if math.gcd(L,R-i) == 1:\n",
        "    ANSWER_DEQ.append(R-L-i)\n",
        "\n",
        "print(max(ANSWER_DEQ))"
      ]
    },
    {
      "cell_type": "code",
      "source": [
        "import math\n",
        "\n",
        "L,R = map(int,input().split())\n",
        "\n",
        "for i in range(R-1,-1,-1):\n",
        "  for j in range(L,R+1):\n",
        "    if i+j > R:\n",
        "      break\n",
        "    if math.gcd(i,i+j) == 1:\n",
        "      print(i)\n",
        "      exit()"
      ],
      "metadata": {
        "id": "FnFlhvE9OKvD"
      },
      "execution_count": null,
      "outputs": []
    },
    {
      "cell_type": "code",
      "source": [
        "import math\n",
        "\n",
        "L,R = map(int,input().split())\n",
        "\n",
        "for i in range(R-L):\n",
        "  for j in range(i+1):\n",
        "    if math.gcd(L+i-j,R-j) == 1:\n",
        "      print(R-L-i)\n",
        "      exit()"
      ],
      "metadata": {
        "id": "6IrT9fqLTF4B"
      },
      "execution_count": null,
      "outputs": []
    }
  ]
}