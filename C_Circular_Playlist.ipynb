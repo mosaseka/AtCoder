{
  "nbformat": 4,
  "nbformat_minor": 0,
  "metadata": {
    "colab": {
      "provenance": [],
      "authorship_tag": "ABX9TyP1dYgkaTv+rPFbyOY7nkyO",
      "include_colab_link": true
    },
    "kernelspec": {
      "name": "python3",
      "display_name": "Python 3"
    },
    "language_info": {
      "name": "python"
    }
  },
  "cells": [
    {
      "cell_type": "markdown",
      "metadata": {
        "id": "view-in-github",
        "colab_type": "text"
      },
      "source": [
        "<a href=\"https://colab.research.google.com/github/mosaseka/AtCoder/blob/main/C_Circular_Playlist.ipynb\" target=\"_parent\"><img src=\"https://colab.research.google.com/assets/colab-badge.svg\" alt=\"Open In Colab\"/></a>"
      ]
    },
    {
      "cell_type": "code",
      "execution_count": null,
      "metadata": {
        "colab": {
          "base_uri": "https://localhost:8080/"
        },
        "id": "80AnWLU6OqbU",
        "outputId": "f9afeca4-dd16-4220-d465-387a13727929"
      },
      "outputs": [
        {
          "output_type": "stream",
          "name": "stdout",
          "text": [
            "3 600\n",
            "180 240 120\n",
            "1 60\n"
          ]
        }
      ],
      "source": [
        "N,T = map(int,input().split())\n",
        "A_LIST = list(map(int,input().split()))\n",
        "A_SUM = 0\n",
        "COUNT = 0\n",
        "ANSWER_TIME = 0\n",
        "A_SUM_MOD = T % sum(A_LIST)\n",
        "\n",
        "for i in range(N):\n",
        "  if A_LIST[i] > A_SUM_MOD:\n",
        "    break\n",
        "  else:\n",
        "    A_SUM_MOD = A_SUM_MOD - A_LIST[i]\n",
        "\n",
        "print(i+1,A_SUM_MOD)"
      ]
    }
  ]
}