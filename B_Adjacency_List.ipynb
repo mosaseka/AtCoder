{
  "nbformat": 4,
  "nbformat_minor": 0,
  "metadata": {
    "colab": {
      "provenance": [],
      "authorship_tag": "ABX9TyPRL/yOG+7P6Mpv97IA2lan",
      "include_colab_link": true
    },
    "kernelspec": {
      "name": "python3",
      "display_name": "Python 3"
    },
    "language_info": {
      "name": "python"
    }
  },
  "cells": [
    {
      "cell_type": "markdown",
      "metadata": {
        "id": "view-in-github",
        "colab_type": "text"
      },
      "source": [
        "<a href=\"https://colab.research.google.com/github/mosaseka/AtCoder/blob/main/B_Adjacency_List.ipynb\" target=\"_parent\"><img src=\"https://colab.research.google.com/assets/colab-badge.svg\" alt=\"Open In Colab\"/></a>"
      ]
    },
    {
      "cell_type": "code",
      "execution_count": null,
      "metadata": {
        "id": "Jik33F7CTvPX"
      },
      "outputs": [],
      "source": [
        "N,M = map(int,input().split())\n",
        "WAY_LIST = [[] for i in range(N)]\n",
        "A = 0\n",
        "B = 0\n",
        "\n",
        "for i in range(M):\n",
        "  A,B = map(int,input().split())\n",
        "  WAY_LIST[A-1].append(B)\n",
        "  WAY_LIST[B-1].append(A)\n",
        "\n",
        "for i in range(N):\n",
        "  print(len(WAY_LIST[i]), *sorted(list(set(WAY_LIST[i]))))"
      ]
    }
  ]
}