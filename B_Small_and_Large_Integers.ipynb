{
  "nbformat": 4,
  "nbformat_minor": 0,
  "metadata": {
    "colab": {
      "provenance": [],
      "authorship_tag": "ABX9TyPBxhrb8pjmDRTyqzudztx5",
      "include_colab_link": true
    },
    "kernelspec": {
      "name": "python3",
      "display_name": "Python 3"
    },
    "language_info": {
      "name": "python"
    }
  },
  "cells": [
    {
      "cell_type": "markdown",
      "metadata": {
        "id": "view-in-github",
        "colab_type": "text"
      },
      "source": [
        "<a href=\"https://colab.research.google.com/github/mosaseka/AtCoder/blob/main/B_Small_and_Large_Integers.ipynb\" target=\"_parent\"><img src=\"https://colab.research.google.com/assets/colab-badge.svg\" alt=\"Open In Colab\"/></a>"
      ]
    },
    {
      "cell_type": "code",
      "execution_count": null,
      "metadata": {
        "colab": {
          "base_uri": "https://localhost:8080/"
        },
        "id": "U_0LIV39a3iw",
        "outputId": "04bd955e-92e1-4e9b-f8f4-9680302d78d4"
      },
      "outputs": [
        {
          "output_type": "stream",
          "name": "stdout",
          "text": [
            "2 9 100\n",
            "2\n",
            "3\n",
            "4\n",
            "5\n",
            "6\n",
            "7\n",
            "8\n",
            "9\n"
          ]
        }
      ],
      "source": [
        "A,B,K = map(int,input().split())\n",
        "NUM_LIST = []\n",
        "SMALL_LIST = []\n",
        "LARGE_LIST = []\n",
        "ANSWER_LIST = []\n",
        "\n",
        "for i in range(A,B+1):\n",
        "  NUM_LIST.append(i)\n",
        "\n",
        "SMALL_LIST = NUM_LIST[:K]\n",
        "LARGE_LIST = NUM_LIST[-K:]\n",
        "\n",
        "SMALL_LIST.sort()\n",
        "LARGE_LIST.sort()\n",
        "\n",
        "for i in range(len(SMALL_LIST)):\n",
        "  ANSWER_LIST.append(SMALL_LIST[i])\n",
        "  ANSWER_LIST.append(LARGE_LIST[i])\n",
        "\n",
        "ANSWER_LIST = sorted(list(set(ANSWER_LIST)))\n",
        "\n",
        "for i in range(len(ANSWER_LIST)):\n",
        "  print(ANSWER_LIST[i])"
      ]
    },
    {
      "cell_type": "code",
      "source": [
        "A,B,K = map(int,input().split())\n",
        "ANSWER_LIST = []\n",
        "\n",
        "if B - A >= 2*K:\n",
        "  ANSWER_LIST = [i for i in range(A,A+K)] + [i for i in range(B-K+1,B+1)]\n",
        "else:\n",
        "  ANSWER_LIST = [i for i in range(A,B+1)]\n",
        "\n",
        "for i in range(len(ANSWER_LIST)):\n",
        "  print(ANSWER_LIST[i])"
      ],
      "metadata": {
        "colab": {
          "base_uri": "https://localhost:8080/"
        },
        "id": "v_LXmAHQX020",
        "outputId": "3ec0b9f7-24d1-4575-a42d-5a62d8ea9caa"
      },
      "execution_count": null,
      "outputs": [
        {
          "output_type": "stream",
          "name": "stdout",
          "text": [
            "2 9 100\n",
            "2\n",
            "3\n",
            "4\n",
            "5\n",
            "6\n",
            "7\n",
            "8\n",
            "9\n"
          ]
        }
      ]
    }
  ]
}