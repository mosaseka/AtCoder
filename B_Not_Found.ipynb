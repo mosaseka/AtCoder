{
  "nbformat": 4,
  "nbformat_minor": 0,
  "metadata": {
    "colab": {
      "provenance": [],
      "authorship_tag": "ABX9TyPtWVXprzrpl9QSP9VH5kbx",
      "include_colab_link": true
    },
    "kernelspec": {
      "name": "python3",
      "display_name": "Python 3"
    },
    "language_info": {
      "name": "python"
    }
  },
  "cells": [
    {
      "cell_type": "markdown",
      "metadata": {
        "id": "view-in-github",
        "colab_type": "text"
      },
      "source": [
        "<a href=\"https://colab.research.google.com/github/mosaseka/AtCoder/blob/main/B_Not_Found.ipynb\" target=\"_parent\"><img src=\"https://colab.research.google.com/assets/colab-badge.svg\" alt=\"Open In Colab\"/></a>"
      ]
    },
    {
      "cell_type": "code",
      "execution_count": null,
      "metadata": {
        "colab": {
          "base_uri": "https://localhost:8080/"
        },
        "id": "YiIE9kTXiU7a",
        "outputId": "41885c3b-5d83-4d3e-bf62-9822360b282d"
      },
      "outputs": [
        {
          "output_type": "stream",
          "name": "stdout",
          "text": [
            "fajsonlslfepbjtsaayxbymeskptcumtwrmkkinjxnnucagfrg\n",
            "d\n"
          ]
        }
      ],
      "source": [
        "import string\n",
        "\n",
        "S = str(input())\n",
        "ALPHABET_LIST = list(string.ascii_lowercase)\n",
        "ANSWER = \"None\"\n",
        "\n",
        "for i in range(26):\n",
        "  if ALPHABET_LIST[i] in S:\n",
        "    pass\n",
        "  else:\n",
        "    ANSWER = ALPHABET_LIST[i]\n",
        "    break\n",
        "\n",
        "print(ANSWER)"
      ]
    }
  ]
}