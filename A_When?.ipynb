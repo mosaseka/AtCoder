{
  "nbformat": 4,
  "nbformat_minor": 0,
  "metadata": {
    "colab": {
      "provenance": [],
      "authorship_tag": "ABX9TyNqPzzh9G3YVtaqinQ6p9YE",
      "include_colab_link": true
    },
    "kernelspec": {
      "name": "python3",
      "display_name": "Python 3"
    },
    "language_info": {
      "name": "python"
    }
  },
  "cells": [
    {
      "cell_type": "markdown",
      "metadata": {
        "id": "view-in-github",
        "colab_type": "text"
      },
      "source": [
        "<a href=\"https://colab.research.google.com/github/mosaseka/AtCoder/blob/main/A_When%3F.ipynb\" target=\"_parent\"><img src=\"https://colab.research.google.com/assets/colab-badge.svg\" alt=\"Open In Colab\"/></a>"
      ]
    },
    {
      "cell_type": "code",
      "execution_count": null,
      "metadata": {
        "colab": {
          "base_uri": "https://localhost:8080/"
        },
        "id": "ieSNGro8ShhF",
        "outputId": "feb1df86-8c46-46cd-c394-da96940a32a0"
      },
      "outputs": [
        {
          "output_type": "stream",
          "name": "stdout",
          "text": [
            "60\n",
            "21:60\n"
          ]
        }
      ],
      "source": [
        "K = int(input())\n",
        "HOUR = \"21\"\n",
        "MIN = \"00\"\n",
        "\n",
        "if K >= 60:\n",
        "  HOUR = str(int(HOUR) + 1)\n",
        "  K -= 60\n",
        "\n",
        "MIN = str(int(MIN)+K)\n",
        "if len(MIN) < 2:\n",
        "  MIN = \"0\" + MIN\n",
        "\n",
        "print(HOUR + \":\" + MIN)"
      ]
    }
  ]
}