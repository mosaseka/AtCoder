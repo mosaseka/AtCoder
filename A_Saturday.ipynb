{
  "nbformat": 4,
  "nbformat_minor": 0,
  "metadata": {
    "colab": {
      "provenance": [],
      "authorship_tag": "ABX9TyNog3ItzXxZdVFSWfgXC9d1",
      "include_colab_link": true
    },
    "kernelspec": {
      "name": "python3",
      "display_name": "Python 3"
    },
    "language_info": {
      "name": "python"
    }
  },
  "cells": [
    {
      "cell_type": "markdown",
      "metadata": {
        "id": "view-in-github",
        "colab_type": "text"
      },
      "source": [
        "<a href=\"https://colab.research.google.com/github/mosaseka/AtCoder/blob/main/A_Saturday.ipynb\" target=\"_parent\"><img src=\"https://colab.research.google.com/assets/colab-badge.svg\" alt=\"Open In Colab\"/></a>"
      ]
    },
    {
      "cell_type": "code",
      "execution_count": null,
      "metadata": {
        "id": "H91mUAJoeVnM"
      },
      "outputs": [],
      "source": [
        "S = str(input())\n",
        "\n",
        "if S == \"Monday\":\n",
        "  print(5)\n",
        "elif S == \"Tuesday\":\n",
        "  print(4)\n",
        "elif S == \"Wednesday\":\n",
        "  print(3)\n",
        "elif S == \"Thursday\":\n",
        "  print(2)\n",
        "elif S == \"Friday\":\n",
        "  print(1)"
      ]
    }
  ]
}