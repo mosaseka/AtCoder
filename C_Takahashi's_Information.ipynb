{
  "nbformat": 4,
  "nbformat_minor": 0,
  "metadata": {
    "colab": {
      "provenance": [],
      "authorship_tag": "ABX9TyPfmn9FG4Ha1w0wWWDrQk9Q",
      "include_colab_link": true
    },
    "kernelspec": {
      "name": "python3",
      "display_name": "Python 3"
    },
    "language_info": {
      "name": "python"
    }
  },
  "cells": [
    {
      "cell_type": "markdown",
      "metadata": {
        "id": "view-in-github",
        "colab_type": "text"
      },
      "source": [
        "<a href=\"https://colab.research.google.com/github/mosaseka/AtCoder/blob/main/C_Takahashi's_Information.ipynb\" target=\"_parent\"><img src=\"https://colab.research.google.com/assets/colab-badge.svg\" alt=\"Open In Colab\"/></a>"
      ]
    },
    {
      "cell_type": "code",
      "execution_count": null,
      "metadata": {
        "id": "HtQ9_djdIOT2"
      },
      "outputs": [],
      "source": [
        "C_LIST = [list(map(int,input().split())) for i in range(3)]\n",
        "A_LIST = [0,0,0]\n",
        "B_LIST = [0,0,0]\n",
        "FLAG = True\n",
        "\n",
        "B_LIST[0] = C_LIST[0][0]\n",
        "B_LIST[1] = C_LIST[0][1]\n",
        "B_LIST[2] = C_LIST[0][2]\n",
        "\n",
        "A_LIST[0] = C_LIST[0][0] - B_LIST[0]\n",
        "A_LIST[1] = C_LIST[1][0] - B_LIST[0]\n",
        "A_LIST[2] = C_LIST[2][0] - B_LIST[0]\n",
        "\n",
        "#print(A_LIST,B_LIST)\n",
        "\n",
        "for i in range(3):\n",
        "  for j in range(3):\n",
        "    if A_LIST[i] + B_LIST[j] != C_LIST[i][j]:\n",
        "      FLAG = False\n",
        "\n",
        "if FLAG:\n",
        "  print(\"Yes\")\n",
        "else:\n",
        "  print(\"No\")"
      ]
    }
  ]
}