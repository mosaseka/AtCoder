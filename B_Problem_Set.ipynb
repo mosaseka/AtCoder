{
  "nbformat": 4,
  "nbformat_minor": 0,
  "metadata": {
    "colab": {
      "provenance": [],
      "authorship_tag": "ABX9TyM5yDYdp+RMe4dZW1LuCLzR",
      "include_colab_link": true
    },
    "kernelspec": {
      "name": "python3",
      "display_name": "Python 3"
    },
    "language_info": {
      "name": "python"
    }
  },
  "cells": [
    {
      "cell_type": "markdown",
      "metadata": {
        "id": "view-in-github",
        "colab_type": "text"
      },
      "source": [
        "<a href=\"https://colab.research.google.com/github/mosaseka/AtCoder/blob/main/B_Problem_Set.ipynb\" target=\"_parent\"><img src=\"https://colab.research.google.com/assets/colab-badge.svg\" alt=\"Open In Colab\"/></a>"
      ]
    },
    {
      "cell_type": "code",
      "execution_count": null,
      "metadata": {
        "id": "TZld2fga2kNo"
      },
      "outputs": [],
      "source": [
        "N = int(input())\n",
        "D_LIST = list(map(int,input().split()))\n",
        "M = int(input())\n",
        "T_LIST = list(map(int,input().split()))\n",
        "\n",
        "for i in range(M):\n",
        "  if T_LIST[i] in D_LIST:\n",
        "    D_LIST.remove(T_LIST[i])\n",
        "  else:\n",
        "    print(\"NO\")\n",
        "    exit()\n",
        "\n",
        "print(\"YES\")"
      ]
    },
    {
      "cell_type": "code",
      "source": [
        "import collections\n",
        "\n",
        "N = int(input())\n",
        "D_LIST = list(map(int,input().split()))\n",
        "M = int(input())\n",
        "T_LIST = list(map(int,input().split()))\n",
        "D_COLLECT = collections.Counter(D_LIST)\n",
        "T_COLLECT = collections.Counter(T_LIST)\n",
        "\n",
        "for i in range(len(T_COLLECT)):\n",
        "  if D_COLLECT[T_LIST[i]] >= T_COLLECT[T_LIST[i]]:\n",
        "    pass\n",
        "  else:\n",
        "    print(\"NO\")\n",
        "    exit()\n",
        "\n",
        "print(\"YES\")"
      ],
      "metadata": {
        "id": "e3Pp5qsq5H3P"
      },
      "execution_count": null,
      "outputs": []
    }
  ]
}