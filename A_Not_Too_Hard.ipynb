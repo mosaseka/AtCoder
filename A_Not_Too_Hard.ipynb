{
  "nbformat": 4,
  "nbformat_minor": 0,
  "metadata": {
    "colab": {
      "provenance": [],
      "authorship_tag": "ABX9TyNCWaKjjBXb9lavbyUJzBMo",
      "include_colab_link": true
    },
    "kernelspec": {
      "name": "python3",
      "display_name": "Python 3"
    },
    "language_info": {
      "name": "python"
    }
  },
  "cells": [
    {
      "cell_type": "markdown",
      "metadata": {
        "id": "view-in-github",
        "colab_type": "text"
      },
      "source": [
        "<a href=\"https://colab.research.google.com/github/mosaseka/AtCoder/blob/main/A_Not_Too_Hard.ipynb\" target=\"_parent\"><img src=\"https://colab.research.google.com/assets/colab-badge.svg\" alt=\"Open In Colab\"/></a>"
      ]
    },
    {
      "cell_type": "code",
      "source": [
        "N,X = map(int,input().split())\n",
        "S_LIST = list(map(int,input().split()))\n",
        "ANSWER = 0\n",
        "\n",
        "for i in range(N):\n",
        "  if S_LIST[i] <= X:\n",
        "    ANSWER += S_LIST[i]\n",
        "\n",
        "print(ANSWER)"
      ],
      "metadata": {
        "id": "Ybtm6-143yd_"
      },
      "execution_count": null,
      "outputs": []
    }
  ]
}