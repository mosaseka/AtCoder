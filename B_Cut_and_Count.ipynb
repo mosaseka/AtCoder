{
  "nbformat": 4,
  "nbformat_minor": 0,
  "metadata": {
    "colab": {
      "provenance": [],
      "authorship_tag": "ABX9TyOyEEWs+KxjhhhQQB2PWuel",
      "include_colab_link": true
    },
    "kernelspec": {
      "name": "python3",
      "display_name": "Python 3"
    },
    "language_info": {
      "name": "python"
    }
  },
  "cells": [
    {
      "cell_type": "markdown",
      "metadata": {
        "id": "view-in-github",
        "colab_type": "text"
      },
      "source": [
        "<a href=\"https://colab.research.google.com/github/mosaseka/AtCoder/blob/main/B_Cut_and_Count.ipynb\" target=\"_parent\"><img src=\"https://colab.research.google.com/assets/colab-badge.svg\" alt=\"Open In Colab\"/></a>"
      ]
    },
    {
      "cell_type": "code",
      "execution_count": null,
      "metadata": {
        "id": "cesqTXB5oUn-"
      },
      "outputs": [],
      "source": [
        "N = int(input())\n",
        "S_LIST = list(str(input()))\n",
        "CHECK_ALPHA = []\n",
        "CHECK_BETA = []\n",
        "ANSWER_LIST = []\n",
        "COUNT = 0\n",
        "\n",
        "for i in range(N):\n",
        "  COUNT = 0\n",
        "  CHECK_ALPHA,CHECK_BETA = list(set(S_LIST[:i])),list(set(S_LIST[i:]))\n",
        "  for j in range(len(CHECK_ALPHA)):\n",
        "    if CHECK_ALPHA[j] in CHECK_BETA:\n",
        "      COUNT += 1\n",
        "  ANSWER_LIST.append(COUNT)\n",
        "\n",
        "print(max(ANSWER_LIST))"
      ]
    }
  ]
}