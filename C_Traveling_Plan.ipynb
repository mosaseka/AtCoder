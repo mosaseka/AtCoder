{
  "nbformat": 4,
  "nbformat_minor": 0,
  "metadata": {
    "colab": {
      "provenance": [],
      "authorship_tag": "ABX9TyOx9esO19B4e/+Y2++p5xMY",
      "include_colab_link": true
    },
    "kernelspec": {
      "name": "python3",
      "display_name": "Python 3"
    },
    "language_info": {
      "name": "python"
    }
  },
  "cells": [
    {
      "cell_type": "markdown",
      "metadata": {
        "id": "view-in-github",
        "colab_type": "text"
      },
      "source": [
        "<a href=\"https://colab.research.google.com/github/mosaseka/AtCoder/blob/main/C_Traveling_Plan.ipynb\" target=\"_parent\"><img src=\"https://colab.research.google.com/assets/colab-badge.svg\" alt=\"Open In Colab\"/></a>"
      ]
    },
    {
      "cell_type": "code",
      "execution_count": null,
      "metadata": {
        "colab": {
          "base_uri": "https://localhost:8080/"
        },
        "id": "52LoqnjHxZbH",
        "outputId": "11955d28-13e5-4c02-a955-b989d44c7244"
      },
      "outputs": [
        {
          "output_type": "stream",
          "name": "stdout",
          "text": [
            "3\n",
            "3 5 -1\n",
            "12\n",
            "12\n",
            "8\n",
            "10\n"
          ]
        }
      ],
      "source": [
        "N = int(input())\n",
        "A_LIST = list(map(int,input().split()))\n",
        "SUM = 0\n",
        "ANSWER = 0\n",
        "\n",
        "A_LIST.insert(0,0)\n",
        "A_LIST.append(0)\n",
        "#print(A_LIST)\n",
        "\n",
        "for i in range(N+1):\n",
        "  SUM += abs(A_LIST[i] - A_LIST[i+1])\n",
        "\n",
        "#print(SUM)\n",
        "\n",
        "#print(range(1,N+1))\n",
        "\n",
        "for i in range(1,N+1):\n",
        "  ANSWER += (SUM + abs(A_LIST[i-1] - A_LIST[i+1]))\n",
        "  ANSWER -= (abs(A_LIST[i-1] - A_LIST[i]) + abs(A_LIST[i] - A_LIST[i+1]))\n",
        "  print(ANSWER)\n",
        "  ANSWER = 0"
      ]
    }
  ]
}