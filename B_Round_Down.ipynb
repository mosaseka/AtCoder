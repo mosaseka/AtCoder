{
  "nbformat": 4,
  "nbformat_minor": 0,
  "metadata": {
    "colab": {
      "provenance": [],
      "authorship_tag": "ABX9TyMW3RccpFDiWB5xWC+4cFLK",
      "include_colab_link": true
    },
    "kernelspec": {
      "name": "python3",
      "display_name": "Python 3"
    },
    "language_info": {
      "name": "python"
    }
  },
  "cells": [
    {
      "cell_type": "markdown",
      "metadata": {
        "id": "view-in-github",
        "colab_type": "text"
      },
      "source": [
        "<a href=\"https://colab.research.google.com/github/mosaseka/AtCoder/blob/main/B_Round_Down.ipynb\" target=\"_parent\"><img src=\"https://colab.research.google.com/assets/colab-badge.svg\" alt=\"Open In Colab\"/></a>"
      ]
    },
    {
      "cell_type": "code",
      "execution_count": null,
      "metadata": {
        "id": "e65NeIqOs9yq"
      },
      "outputs": [],
      "source": [
        "X = str(input())\n",
        "ANSWER = \"\"\n",
        "\n",
        "for i in range(len(X)):\n",
        "  if X[i] == \".\":\n",
        "    break\n",
        "  else:\n",
        "    ANSWER += X[i]\n",
        "\n",
        "print(int(ANSWER))"
      ]
    }
  ]
}