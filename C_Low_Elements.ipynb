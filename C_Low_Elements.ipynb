{
  "nbformat": 4,
  "nbformat_minor": 0,
  "metadata": {
    "colab": {
      "provenance": [],
      "authorship_tag": "ABX9TyM+MbsHox5WSDfg/fU6AvKw",
      "include_colab_link": true
    },
    "kernelspec": {
      "name": "python3",
      "display_name": "Python 3"
    },
    "language_info": {
      "name": "python"
    }
  },
  "cells": [
    {
      "cell_type": "markdown",
      "metadata": {
        "id": "view-in-github",
        "colab_type": "text"
      },
      "source": [
        "<a href=\"https://colab.research.google.com/github/mosaseka/AtCoder/blob/main/C_Low_Elements.ipynb\" target=\"_parent\"><img src=\"https://colab.research.google.com/assets/colab-badge.svg\" alt=\"Open In Colab\"/></a>"
      ]
    },
    {
      "cell_type": "code",
      "execution_count": null,
      "metadata": {
        "colab": {
          "base_uri": "https://localhost:8080/"
        },
        "id": "e2EsZ0lABDLV",
        "outputId": "2ab6989a-40db-4184-9fbc-c780b5c482e5"
      },
      "outputs": [
        {
          "output_type": "stream",
          "name": "stdout",
          "text": [
            "8\n",
            "5 7 4 2 6 8 1 3\n",
            "4\n"
          ]
        }
      ],
      "source": [
        "N = int(input())\n",
        "P_LIST = list(map(int,input().split()))\n",
        "COUNT = 0\n",
        "CHECK_LIST = []\n",
        "\n",
        "for i in range(N):\n",
        "  CHECK_LIST.append(P_LIST[i])\n",
        "  if min(CHECK_LIST) == CHECK_LIST[-1]:\n",
        "    COUNT += 1\n",
        "  else:\n",
        "    pass\n",
        "\n",
        "print(COUNT)"
      ]
    },
    {
      "cell_type": "code",
      "source": [
        "N = int(input())\n",
        "P_LIST = list(map(int,input().split()))\n",
        "COUNT = 1\n",
        "CHECK_NUM = P_LIST[0]\n",
        "\n",
        "for i in range(N-1):\n",
        "  if CHECK_NUM >= P_LIST[i+1]:\n",
        "    COUNT += 1\n",
        "    CHECK_NUM = P_LIST[i+1]\n",
        "\n",
        "print(COUNT)"
      ],
      "metadata": {
        "colab": {
          "base_uri": "https://localhost:8080/"
        },
        "id": "iyggJbWnVbES",
        "outputId": "31d2a6e3-5aa4-454a-97dc-421748718cfb"
      },
      "execution_count": null,
      "outputs": [
        {
          "output_type": "stream",
          "name": "stdout",
          "text": [
            "5\n",
            "4 2 5 1 3\n",
            "3\n"
          ]
        }
      ]
    }
  ]
}