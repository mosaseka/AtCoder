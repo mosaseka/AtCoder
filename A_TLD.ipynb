{
  "nbformat": 4,
  "nbformat_minor": 0,
  "metadata": {
    "colab": {
      "provenance": [],
      "authorship_tag": "ABX9TyOhs6jP7iyC5bzWFtck0Yb4",
      "include_colab_link": true
    },
    "kernelspec": {
      "name": "python3",
      "display_name": "Python 3"
    },
    "language_info": {
      "name": "python"
    }
  },
  "cells": [
    {
      "cell_type": "markdown",
      "metadata": {
        "id": "view-in-github",
        "colab_type": "text"
      },
      "source": [
        "<a href=\"https://colab.research.google.com/github/mosaseka/AtCoder/blob/main/A_TLD.ipynb\" target=\"_parent\"><img src=\"https://colab.research.google.com/assets/colab-badge.svg\" alt=\"Open In Colab\"/></a>"
      ]
    },
    {
      "cell_type": "code",
      "execution_count": null,
      "metadata": {
        "id": "lXzR0vN4tfht"
      },
      "outputs": [],
      "source": [
        "S = list(map(str,input()))\n",
        "ANSWER = \"\"\n",
        "\n",
        "S.reverse()\n",
        "\n",
        "for i in range(len(S)):\n",
        "  if S[i] == \".\":\n",
        "    print(ANSWER[::-1])\n",
        "    exit()\n",
        "  else:\n",
        "    ANSWER += S[i]"
      ]
    }
  ]
}