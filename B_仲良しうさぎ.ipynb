{
  "nbformat": 4,
  "nbformat_minor": 0,
  "metadata": {
    "colab": {
      "provenance": [],
      "authorship_tag": "ABX9TyPQJN6j/hOfddStBxyJGyt7",
      "include_colab_link": true
    },
    "kernelspec": {
      "name": "python3",
      "display_name": "Python 3"
    },
    "language_info": {
      "name": "python"
    }
  },
  "cells": [
    {
      "cell_type": "markdown",
      "metadata": {
        "id": "view-in-github",
        "colab_type": "text"
      },
      "source": [
        "<a href=\"https://colab.research.google.com/github/mosaseka/AtCoder/blob/main/B_%E4%BB%B2%E8%89%AF%E3%81%97%E3%81%86%E3%81%95%E3%81%8E.ipynb\" target=\"_parent\"><img src=\"https://colab.research.google.com/assets/colab-badge.svg\" alt=\"Open In Colab\"/></a>"
      ]
    },
    {
      "cell_type": "code",
      "execution_count": null,
      "metadata": {
        "colab": {
          "base_uri": "https://localhost:8080/"
        },
        "id": "DHyjEQWfVEtV",
        "outputId": "ad6ad109-d6c7-4e70-d2fd-0070d36927dd"
      },
      "outputs": [
        {
          "output_type": "stream",
          "name": "stdout",
          "text": [
            "5\n",
            "5 5 5 5 1\n",
            "1\n"
          ]
        }
      ],
      "source": [
        "N = int(input())\n",
        "A_LIST = list(map(int,input().split()))\n",
        "CHECK_LIST = [0 for i in range(N)]\n",
        "COUNT = 0\n",
        "\n",
        "#print(CHECK_LIST)\n",
        "\n",
        "for i in range(N):\n",
        "  if A_LIST[A_LIST[i]-1] == (i+1):\n",
        "    COUNT += 1\n",
        "\n",
        "print(COUNT//2)"
      ]
    }
  ]
}