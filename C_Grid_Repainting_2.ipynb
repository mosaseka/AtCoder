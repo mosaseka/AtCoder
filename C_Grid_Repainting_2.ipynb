{
  "nbformat": 4,
  "nbformat_minor": 0,
  "metadata": {
    "colab": {
      "provenance": [],
      "authorship_tag": "ABX9TyMTISLnM4R3c8YNQNOImsU0",
      "include_colab_link": true
    },
    "kernelspec": {
      "name": "python3",
      "display_name": "Python 3"
    },
    "language_info": {
      "name": "python"
    }
  },
  "cells": [
    {
      "cell_type": "markdown",
      "metadata": {
        "id": "view-in-github",
        "colab_type": "text"
      },
      "source": [
        "<a href=\"https://colab.research.google.com/github/mosaseka/AtCoder/blob/main/C_Grid_Repainting_2.ipynb\" target=\"_parent\"><img src=\"https://colab.research.google.com/assets/colab-badge.svg\" alt=\"Open In Colab\"/></a>"
      ]
    },
    {
      "cell_type": "code",
      "execution_count": null,
      "metadata": {
        "id": "UN-Gik_gzls3"
      },
      "outputs": [],
      "source": [
        "H,W = map(int,input().split())\n",
        "S_LIST = [list(str(input())) for i in range(H)]\n",
        "DELTA_LIST = [[0,-1],[0,1],[-1,0],[1,0]]\n",
        "X = 0\n",
        "Y = 0\n",
        "\n",
        "for i in range(H):\n",
        "  for j in range(W):\n",
        "    if S_LIST[i][j] == \"#\":\n",
        "      for k,l in DELTA_LIST:\n",
        "        X,Y = i+k,j+l\n",
        "        if H>X>=0 and W>Y>=0:\n",
        "          if S_LIST[X][Y] == \"#\":\n",
        "            break\n",
        "      else:\n",
        "        print(\"No\")\n",
        "        exit()\n",
        "\n",
        "print(\"Yes\")"
      ]
    }
  ]
}