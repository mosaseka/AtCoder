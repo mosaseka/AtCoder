{
  "nbformat": 4,
  "nbformat_minor": 0,
  "metadata": {
    "colab": {
      "provenance": [],
      "authorship_tag": "ABX9TyPSSnM+DhF9AmU2EuWt+Zrg",
      "include_colab_link": true
    },
    "kernelspec": {
      "name": "python3",
      "display_name": "Python 3"
    },
    "language_info": {
      "name": "python"
    }
  },
  "cells": [
    {
      "cell_type": "markdown",
      "metadata": {
        "id": "view-in-github",
        "colab_type": "text"
      },
      "source": [
        "<a href=\"https://colab.research.google.com/github/mosaseka/AtCoder/blob/main/C_When_I_hit_my_pocket_.ipynb\" target=\"_parent\"><img src=\"https://colab.research.google.com/assets/colab-badge.svg\" alt=\"Open In Colab\"/></a>"
      ]
    },
    {
      "cell_type": "code",
      "execution_count": null,
      "metadata": {
        "colab": {
          "base_uri": "https://localhost:8080/"
        },
        "id": "WlmxpRbC95cr",
        "outputId": "6708939a-e480-4f10-acd6-9267ae7081b2"
      },
      "outputs": [
        {
          "output_type": "stream",
          "name": "stdout",
          "text": [
            "314159265 35897932 384626433\n",
            "5638833948121026\n"
          ]
        }
      ],
      "source": [
        "K,A,B = map(int,input().split())\n",
        "NUM = 0\n",
        "\n",
        "if B - A <= 2:\n",
        "  print(K+1)\n",
        "else:\n",
        "  K -= (A-1)\n",
        "  NUM += (A-1)\n",
        "  NUM += (K//2 * (B-A)) + (K % 2)\n",
        "  print(NUM+1)"
      ]
    }
  ]
}