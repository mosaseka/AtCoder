{
  "nbformat": 4,
  "nbformat_minor": 0,
  "metadata": {
    "colab": {
      "provenance": [],
      "authorship_tag": "ABX9TyNxG+sv7caFfWexRM3Y41iQ",
      "include_colab_link": true
    },
    "kernelspec": {
      "name": "python3",
      "display_name": "Python 3"
    },
    "language_info": {
      "name": "python"
    }
  },
  "cells": [
    {
      "cell_type": "markdown",
      "metadata": {
        "id": "view-in-github",
        "colab_type": "text"
      },
      "source": [
        "<a href=\"https://colab.research.google.com/github/mosaseka/AtCoder/blob/main/A_Print_341.ipynb\" target=\"_parent\"><img src=\"https://colab.research.google.com/assets/colab-badge.svg\" alt=\"Open In Colab\"/></a>"
      ]
    },
    {
      "cell_type": "code",
      "execution_count": null,
      "metadata": {
        "id": "yLfapL9Kyw0w"
      },
      "outputs": [],
      "source": [
        "N = int(input())\n",
        "ANSWER = \"\"\n",
        "\n",
        "for i in range(N+N+1):\n",
        "  if (i+1)%2 == 0:\n",
        "    ANSWER += \"0\"\n",
        "  else:\n",
        "    ANSWER += \"1\"\n",
        "\n",
        "print(ANSWER)"
      ]
    }
  ]
}