{
  "nbformat": 4,
  "nbformat_minor": 0,
  "metadata": {
    "colab": {
      "provenance": [],
      "authorship_tag": "ABX9TyPdCdPjsgX0S8cTMVq4G/Fn",
      "include_colab_link": true
    },
    "kernelspec": {
      "name": "python3",
      "display_name": "Python 3"
    },
    "language_info": {
      "name": "python"
    }
  },
  "cells": [
    {
      "cell_type": "markdown",
      "metadata": {
        "id": "view-in-github",
        "colab_type": "text"
      },
      "source": [
        "<a href=\"https://colab.research.google.com/github/mosaseka/AtCoder/blob/main/C_To_Infinity.ipynb\" target=\"_parent\"><img src=\"https://colab.research.google.com/assets/colab-badge.svg\" alt=\"Open In Colab\"/></a>"
      ]
    },
    {
      "cell_type": "code",
      "execution_count": null,
      "metadata": {
        "colab": {
          "base_uri": "https://localhost:8080/"
        },
        "id": "8nqImBF0SfD6",
        "outputId": "7c6c9f66-bfd2-4595-9d3e-81235ae9869f"
      },
      "outputs": [
        {
          "output_type": "stream",
          "name": "stdout",
          "text": [
            "1113456789\n",
            "3\n",
            "3\n",
            "3\n",
            "3\n",
            "1\n"
          ]
        }
      ],
      "source": [
        "S = str(input())\n",
        "K = int(input())\n",
        "ANSWER = 0\n",
        "\n",
        "#print(S_LIST)\n",
        "\n",
        "for i in range(len(S)):\n",
        "  if S[i] != \"1\":\n",
        "    ANSWER = int(S[i])\n",
        "    break\n",
        "\n",
        "for i in range(K):\n",
        "  if S[i] != \"1\":\n",
        "    print(ANSWER)\n",
        "    exit()\n",
        "\n",
        "print(1)"
      ]
    }
  ]
}