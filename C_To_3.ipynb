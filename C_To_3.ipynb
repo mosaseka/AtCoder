{
  "nbformat": 4,
  "nbformat_minor": 0,
  "metadata": {
    "colab": {
      "provenance": [],
      "authorship_tag": "ABX9TyOWdQ2re+4a/sre8whjNbYy",
      "include_colab_link": true
    },
    "kernelspec": {
      "name": "python3",
      "display_name": "Python 3"
    },
    "language_info": {
      "name": "python"
    }
  },
  "cells": [
    {
      "cell_type": "markdown",
      "metadata": {
        "id": "view-in-github",
        "colab_type": "text"
      },
      "source": [
        "<a href=\"https://colab.research.google.com/github/mosaseka/AtCoder/blob/main/C_To_3.ipynb\" target=\"_parent\"><img src=\"https://colab.research.google.com/assets/colab-badge.svg\" alt=\"Open In Colab\"/></a>"
      ]
    },
    {
      "cell_type": "code",
      "execution_count": null,
      "metadata": {
        "id": "OX3IkQk5Pnnn"
      },
      "outputs": [],
      "source": [
        "from itertools import combinations\n",
        "\n",
        "N = list(map(int,input()))\n",
        "CHECK = []\n",
        "\n",
        "#print(N)\n",
        "\n",
        "for i in range(len(N)):\n",
        "  CHECK = list(combinations(N,len(N)-i))\n",
        "  for j in range(len(CHECK)):\n",
        "    if sum(CHECK[j]) % 3 == 0:\n",
        "      print(i)\n",
        "      exit()\n",
        "\n",
        "print(-1)"
      ]
    }
  ]
}