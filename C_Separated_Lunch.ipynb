{
  "nbformat": 4,
  "nbformat_minor": 0,
  "metadata": {
    "colab": {
      "provenance": [],
      "authorship_tag": "ABX9TyNdmGkWcYMAK8qgMRshaVp7",
      "include_colab_link": true
    },
    "kernelspec": {
      "name": "python3",
      "display_name": "Python 3"
    },
    "language_info": {
      "name": "python"
    }
  },
  "cells": [
    {
      "cell_type": "markdown",
      "metadata": {
        "id": "view-in-github",
        "colab_type": "text"
      },
      "source": [
        "<a href=\"https://colab.research.google.com/github/mosaseka/AtCoder/blob/main/C_Separated_Lunch.ipynb\" target=\"_parent\"><img src=\"https://colab.research.google.com/assets/colab-badge.svg\" alt=\"Open In Colab\"/></a>"
      ]
    },
    {
      "cell_type": "code",
      "execution_count": null,
      "metadata": {
        "id": "zMrAEGcwd3yB"
      },
      "outputs": [],
      "source": [
        "N = int(input())\n",
        "K_LIST = list(map(int,input().split()))\n",
        "SUM = sum(K_LIST)\n",
        "HALF_SUM = SUM // 2\n",
        "DP = [False for i  in range(HALF_SUM + 1)]\n",
        "DP[0] = True\n",
        "A = 0\n",
        "B = 0\n",
        "\n",
        "for i in K_LIST:\n",
        "  for j in range(HALF_SUM, i-1, -1):\n",
        "    if DP[j - i]:\n",
        "      DP[j] = True\n",
        "\n",
        "for i in range(HALF_SUM, -1, -1):\n",
        "  if DP[i]:\n",
        "    A = i\n",
        "    B = SUM - A\n",
        "    print(max(A, B))\n",
        "    exit()"
      ]
    },
    {
      "cell_type": "code",
      "source": [
        "N = int(input())\n",
        "K_LIST = list(map(int,input().split()))\n",
        "SUM = sum(K_LIST)\n",
        "HALF_SUM = SUM / 2\n",
        "A = 0\n",
        "B = 0\n",
        "\n",
        "#print(SUM)\n",
        "\n",
        "K_LIST.sort(reverse=True)\n",
        "\n",
        "for i in K_LIST:\n",
        "  if A < B:\n",
        "    A += i\n",
        "  else:\n",
        "    B += i\n",
        "\n",
        "#print(A)\n",
        "#print(B)\n",
        "\n",
        "print(max(A, B))"
      ],
      "metadata": {
        "id": "zO4g7G3Fmj5w"
      },
      "execution_count": null,
      "outputs": []
    },
    {
      "cell_type": "code",
      "source": [
        "N = int(input())\n",
        "K_LIST = list(map(int,input().split()))\n",
        "BIT = \"\"\n",
        "LIST = []\n",
        "A = []\n",
        "B = []\n",
        "ANSWER = 0\n",
        "DELTA = 1000000000000000000000000000\n",
        "\n",
        "for i in range(N**2 + 1):\n",
        "  BIT = format(i, 'b')\n",
        "  BIT = BIT.zfill(N)\n",
        "  A = []\n",
        "  B = []\n",
        "  for j in range(N):\n",
        "    if BIT[j] == \"1\":\n",
        "      A.append(K_LIST[j])\n",
        "    else:\n",
        "      B.append(K_LIST[j])\n",
        "  LIST.append([sum(A), sum(B)])\n",
        "\n",
        "LIST.sort(reverse=True)\n",
        "\n",
        "for i in range(len(LIST)):\n",
        "  if abs(LIST[i][0] - LIST[i][1]) < DELTA:\n",
        "    DELTA = abs(LIST[i][0] - LIST[i][1])\n",
        "    ANSWER = max(LIST[i][0], LIST[i][1])\n",
        "\n",
        "print(ANSWER)"
      ],
      "metadata": {
        "id": "Ou3LZf4Ds8e1"
      },
      "execution_count": null,
      "outputs": []
    },
    {
      "cell_type": "code",
      "source": [
        "N = int(input())\n",
        "K_LIST = list(map(int, input().split()))\n",
        "TOTAL = sum(K_LIST)\n",
        "HALF = TOTAL // 2\n",
        "DP = [0] * (HALF + 1)\n",
        "\n",
        "for i in K_LIST:\n",
        "  for j in range(HALF, i - 1, -1):\n",
        "    DP[j] = max(DP[j], DP[j - i] + i)\n",
        "\n",
        "MAX = DP[HALF]\n",
        "\n",
        "print(max(MAX, TOTAL - MAX))"
      ],
      "metadata": {
        "id": "Z74HRvkby3VS"
      },
      "execution_count": null,
      "outputs": []
    },
    {
      "cell_type": "code",
      "source": [
        "def SMALLEST(LIST, i, A, B):\n",
        "  if i == N:\n",
        "    return max(A, B)\n",
        "  return min(SMALLEST(LIST, i+1, A + LIST[i] , B), SMALLEST(LIST, i+1, A, B + LIST[i]))\n",
        "\n",
        "N = int(input())\n",
        "K_LIST = list(map(int, input().split()))\n",
        "\n",
        "K_LIST.sort(reverse=True)\n",
        "\n",
        "print(SMALLEST(K_LIST, 0, 0, 0))"
      ],
      "metadata": {
        "id": "tN0xx4vj72lI"
      },
      "execution_count": null,
      "outputs": []
    }
  ]
}