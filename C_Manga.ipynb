{
  "nbformat": 4,
  "nbformat_minor": 0,
  "metadata": {
    "colab": {
      "provenance": [],
      "authorship_tag": "ABX9TyMyF9Nshex42he5bmmSjZTq",
      "include_colab_link": true
    },
    "kernelspec": {
      "name": "python3",
      "display_name": "Python 3"
    },
    "language_info": {
      "name": "python"
    }
  },
  "cells": [
    {
      "cell_type": "markdown",
      "metadata": {
        "id": "view-in-github",
        "colab_type": "text"
      },
      "source": [
        "<a href=\"https://colab.research.google.com/github/mosaseka/AtCoder/blob/main/C_Manga.ipynb\" target=\"_parent\"><img src=\"https://colab.research.google.com/assets/colab-badge.svg\" alt=\"Open In Colab\"/></a>"
      ]
    },
    {
      "cell_type": "code",
      "execution_count": null,
      "metadata": {
        "id": "llpU9vBYgd7r"
      },
      "outputs": [],
      "source": [
        "from collections import deque\n",
        "from itertools import islice\n",
        "\n",
        "N = int(input())\n",
        "A_LIST = deque(map(int,input().split()))\n",
        "COUNT = 0\n",
        "\n",
        "while len(A_LIST) > 0:\n",
        "  if (COUNT+1) != A_LIST[0]:\n",
        "    if len(A_LIST) > 2:\n",
        "      A_LIST.pop()\n",
        "      A_LIST.pop()\n",
        "      COUNT += 1\n",
        "    else:\n",
        "      print(COUNT)\n",
        "      exit()\n",
        "  else:\n",
        "    A_LIST.popleft()\n",
        "    COUNT += 1\n",
        "\n",
        "print(COUNT)"
      ]
    },
    {
      "cell_type": "code",
      "source": [
        "N = int(input())\n",
        "A_LIST = [False for i in range(N+2)]\n",
        "CHECK = 0\n",
        "\n",
        "for i in map(int,input().split()):\n",
        "  A_LIST[min(N+1,i)] = True\n",
        "\n",
        "while N >= 0:\n",
        "  CHECK += 1\n",
        "  if A_LIST[CHECK]:\n",
        "    N -= 1\n",
        "  else:\n",
        "    N -= 2\n",
        "\n",
        "print(CHECK-1)"
      ],
      "metadata": {
        "id": "9mSUchMSldt2"
      },
      "execution_count": null,
      "outputs": []
    }
  ]
}