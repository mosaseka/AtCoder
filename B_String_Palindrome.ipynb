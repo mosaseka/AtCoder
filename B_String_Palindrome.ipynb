{
  "nbformat": 4,
  "nbformat_minor": 0,
  "metadata": {
    "colab": {
      "provenance": [],
      "authorship_tag": "ABX9TyOroNjefbVL3/4qv7OnEWMF",
      "include_colab_link": true
    },
    "kernelspec": {
      "name": "python3",
      "display_name": "Python 3"
    },
    "language_info": {
      "name": "python"
    }
  },
  "cells": [
    {
      "cell_type": "markdown",
      "metadata": {
        "id": "view-in-github",
        "colab_type": "text"
      },
      "source": [
        "<a href=\"https://colab.research.google.com/github/mosaseka/AtCoder/blob/main/B_String_Palindrome.ipynb\" target=\"_parent\"><img src=\"https://colab.research.google.com/assets/colab-badge.svg\" alt=\"Open In Colab\"/></a>"
      ]
    },
    {
      "cell_type": "code",
      "execution_count": null,
      "metadata": {
        "id": "fpKXfMNQKlzJ"
      },
      "outputs": [],
      "source": [
        "S = str(input())\n",
        "ALPHA = \"\"\n",
        "BETA = \"\"\n",
        "\n",
        "if S == S[::-1]:\n",
        "  ALPHA = S[:((len(S)-1)//2)]\n",
        "  if ALPHA == ALPHA[::-1]:\n",
        "    BETA = S[(len(S)+2)//2:]\n",
        "    if BETA == BETA[::-1]:\n",
        "      print(\"Yes\")\n",
        "      exit()\n",
        "\n",
        "print(\"No\")"
      ]
    }
  ]
}