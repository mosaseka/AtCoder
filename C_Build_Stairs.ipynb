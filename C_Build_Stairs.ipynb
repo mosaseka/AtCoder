{
  "nbformat": 4,
  "nbformat_minor": 0,
  "metadata": {
    "colab": {
      "provenance": [],
      "authorship_tag": "ABX9TyPRIIJ2fSupyYfDmc3H9aUG",
      "include_colab_link": true
    },
    "kernelspec": {
      "name": "python3",
      "display_name": "Python 3"
    },
    "language_info": {
      "name": "python"
    }
  },
  "cells": [
    {
      "cell_type": "markdown",
      "metadata": {
        "id": "view-in-github",
        "colab_type": "text"
      },
      "source": [
        "<a href=\"https://colab.research.google.com/github/mosaseka/AtCoder/blob/main/C_Build_Stairs.ipynb\" target=\"_parent\"><img src=\"https://colab.research.google.com/assets/colab-badge.svg\" alt=\"Open In Colab\"/></a>"
      ]
    },
    {
      "cell_type": "code",
      "execution_count": null,
      "metadata": {
        "id": "AOcd-rkZq_E7"
      },
      "outputs": [],
      "source": [
        "N = int(input())\n",
        "H_LIST = list(map(int,input().split()))\n",
        "FLAG = True\n",
        "\n",
        "if N == 1:\n",
        "  print(\"Yes\")\n",
        "  exit()\n",
        "\n",
        "for i in range(N-1):\n",
        "  if H_LIST[i] == H_LIST[i+1] or H_LIST[i] + 1 == H_LIST[i+1]:\n",
        "    pass\n",
        "  else:\n",
        "    FLAG = False\n",
        "    break\n",
        "\n",
        "if FLAG:\n",
        "  print(\"Yes\")\n",
        "else:\n",
        "  print(\"No\")"
      ]
    },
    {
      "cell_type": "code",
      "source": [
        "N = int(input())\n",
        "H_LIST = list(map(int,input().split()))\n",
        "FLAG = True\n",
        "MIN = 0\n",
        "\n",
        "if N == 1:\n",
        "  print(\"Yes\")\n",
        "  exit()\n",
        "\n",
        "for i in range(N):\n",
        "  if MIN <= H_LIST[i]:\n",
        "    MIN = H_LIST[i]\n",
        "  else:\n",
        "     if abs(MIN - H_LIST[i]) != 1:\n",
        "       FLAG = False\n",
        "       break\n",
        "\n",
        "if FLAG:\n",
        "  print(\"Yes\")\n",
        "else:\n",
        "  print(\"No\")"
      ],
      "metadata": {
        "id": "zxqNYYIjtxz4"
      },
      "execution_count": null,
      "outputs": []
    }
  ]
}