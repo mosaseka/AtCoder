{
  "nbformat": 4,
  "nbformat_minor": 0,
  "metadata": {
    "colab": {
      "provenance": [],
      "authorship_tag": "ABX9TyOsetsxA/tg1rV1P3deyXly",
      "include_colab_link": true
    },
    "kernelspec": {
      "name": "python3",
      "display_name": "Python 3"
    },
    "language_info": {
      "name": "python"
    }
  },
  "cells": [
    {
      "cell_type": "markdown",
      "metadata": {
        "id": "view-in-github",
        "colab_type": "text"
      },
      "source": [
        "<a href=\"https://colab.research.google.com/github/mosaseka/AtCoder/blob/main/A_Diverse_Word.ipynb\" target=\"_parent\"><img src=\"https://colab.research.google.com/assets/colab-badge.svg\" alt=\"Open In Colab\"/></a>"
      ]
    },
    {
      "cell_type": "code",
      "execution_count": null,
      "metadata": {
        "id": "UDqRlHOc2zmJ"
      },
      "outputs": [],
      "source": [
        "import string\n",
        "\n",
        "S = str(input())\n",
        "S_LIST = sorted(S)\n",
        "ALPHABET = list(string.ascii_lowercase)\n",
        "ANSWER = \"\"\n",
        "\n",
        "if len(S) == 26:\n",
        "  if S == \"zyxwvutsrqponmlkjihgfedcba\":\n",
        "    print(-1)\n",
        "    exit()\n",
        "  else:\n",
        "    for j in range(len(S)-1):\n",
        "      if abs(ord(S[j])-ord(S[j+1])) > 1:\n",
        "        print(S[:j] + ALPHABET[1])\n",
        "        exit()\n",
        "      else:\n",
        "        ALPHABET.remove(S[j])\n",
        "\n",
        "\n",
        "\n",
        "for i in range(len(S)):\n",
        "  ALPHABET.remove(S[i])\n",
        "\n",
        "ANSWER = S + ALPHABET[0]\n",
        "\n",
        "print(ANSWER)"
      ]
    },
    {
      "cell_type": "code",
      "source": [
        "import string\n",
        "\n",
        "S = str(input())\n",
        "S_SET = set(S)\n",
        "LIST = []\n",
        "\n",
        "if S == \"zyxwvutsrqponmlkjihgfedcba\":\n",
        "  print(-1)\n",
        "  exit()\n",
        "elif len(S) != 26:\n",
        "  for i in string.ascii_lowercase:\n",
        "    if i not in S_SET:\n",
        "      print(S+i)\n",
        "      exit()\n",
        "\n",
        "for i in range(len(S)-1,-1,-1):\n",
        "  LIST.append(S[i])\n",
        "  if S[i] < max(LIST):\n",
        "    LIST.sort()\n",
        "    for j in range(len(S)):\n",
        "      if LIST[j] > S[i]:\n",
        "        print(S[:i] + LIST[j])\n",
        "        exit()"
      ],
      "metadata": {
        "id": "1AjrCP-wPX9s"
      },
      "execution_count": null,
      "outputs": []
    }
  ]
}