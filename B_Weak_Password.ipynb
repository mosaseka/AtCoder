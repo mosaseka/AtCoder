{
  "nbformat": 4,
  "nbformat_minor": 0,
  "metadata": {
    "colab": {
      "provenance": [],
      "authorship_tag": "ABX9TyOl7LBexi++121q2i9bvp/q",
      "include_colab_link": true
    },
    "kernelspec": {
      "name": "python3",
      "display_name": "Python 3"
    },
    "language_info": {
      "name": "python"
    }
  },
  "cells": [
    {
      "cell_type": "markdown",
      "metadata": {
        "id": "view-in-github",
        "colab_type": "text"
      },
      "source": [
        "<a href=\"https://colab.research.google.com/github/mosaseka/AtCoder/blob/main/B_Weak_Password.ipynb\" target=\"_parent\"><img src=\"https://colab.research.google.com/assets/colab-badge.svg\" alt=\"Open In Colab\"/></a>"
      ]
    },
    {
      "cell_type": "code",
      "execution_count": null,
      "metadata": {
        "id": "BhW7VVlJmB7x"
      },
      "outputs": [],
      "source": [
        "X1,X2,X3,X4 = map(int,input())\n",
        "FLAG = False\n",
        "\n",
        "if len(set([X1,X2,X3,X4])) == 1:\n",
        "  print(\"Weak\")\n",
        "  exit()\n",
        "\n",
        "if X2 == (X1%9) + 1:\n",
        "  FLAG = True\n",
        "  if X3 == (X2%9) + 1:\n",
        "    FLAG = True\n",
        "    if X4 == (X3%9) + 1:\n",
        "      FLAG = True\n",
        "\n",
        "if not FLAG:\n",
        "  print(\"Weak\")\n",
        "else:\n",
        "  print(\"Strong\")"
      ]
    },
    {
      "cell_type": "code",
      "source": [
        "X = str(input())\n",
        "ALPHA = True\n",
        "BETA = True\n",
        "\n",
        "for i in range(3):\n",
        "  if X[i] != X[i+1]:\n",
        "    ALPHA = False\n",
        "  if (int(X[i])+1)%10 != int(X[i+1]):\n",
        "    BETA = False\n",
        "\n",
        "if ALPHA or BETA:\n",
        "  print(\"Weak\")\n",
        "else:\n",
        "  print(\"Strong\")"
      ],
      "metadata": {
        "id": "6nSg8RGnpupM"
      },
      "execution_count": null,
      "outputs": []
    }
  ]
}