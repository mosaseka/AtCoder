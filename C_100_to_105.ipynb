{
  "nbformat": 4,
  "nbformat_minor": 0,
  "metadata": {
    "colab": {
      "provenance": [],
      "authorship_tag": "ABX9TyPKjxs+BoUgOP1w5LbL6Mb6",
      "include_colab_link": true
    },
    "kernelspec": {
      "name": "python3",
      "display_name": "Python 3"
    },
    "language_info": {
      "name": "python"
    }
  },
  "cells": [
    {
      "cell_type": "markdown",
      "metadata": {
        "id": "view-in-github",
        "colab_type": "text"
      },
      "source": [
        "<a href=\"https://colab.research.google.com/github/mosaseka/AtCoder/blob/main/C_100_to_105.ipynb\" target=\"_parent\"><img src=\"https://colab.research.google.com/assets/colab-badge.svg\" alt=\"Open In Colab\"/></a>"
      ]
    },
    {
      "cell_type": "code",
      "execution_count": null,
      "metadata": {
        "colab": {
          "base_uri": "https://localhost:8080/"
        },
        "id": "MVO6Uckrynda",
        "outputId": "d96eb731-0c77-4ca4-d7ec-65b36def6568"
      },
      "outputs": [
        {
          "output_type": "stream",
          "name": "stdout",
          "text": [
            "1234567\n",
            "0\n"
          ]
        }
      ],
      "source": [
        "X = int(input())\n",
        "FLAG = False\n",
        "VALUE_LIST = []\n",
        "\n",
        "for i in range(X//100):\n",
        "  VALUE_LIST.append(100)\n",
        "\n",
        "if sum(VALUE_LIST) != X:\n",
        "  for i in range(len(VALUE_LIST)):\n",
        "    if sum(VALUE_LIST) >= X:\n",
        "      break\n",
        "    else:\n",
        "      VALUE_LIST[i] = 105\n",
        "else:\n",
        "  FLAG = True\n",
        "\n",
        "if sum(VALUE_LIST) != X:\n",
        "  if sum(VALUE_LIST) - X == 1:\n",
        "    VALUE_LIST[0] = 104\n",
        "    FLAG = True\n",
        "  elif sum(VALUE_LIST) - X == 2:\n",
        "    VALUE_LIST[0] = 103\n",
        "    FLAG = True\n",
        "  elif sum(VALUE_LIST) - X == 3:\n",
        "    VALUE_LIST[0] = 102\n",
        "    FLAG = True\n",
        "  elif sum(VALUE_LIST) - X == 4:\n",
        "    VALUE_LIST[0] = 101\n",
        "    FLAG = True\n",
        "else:\n",
        "  FLAG = True\n",
        "\n",
        "if FLAG:\n",
        "  print(1)\n",
        "else:\n",
        "  print(0)"
      ]
    }
  ]
}