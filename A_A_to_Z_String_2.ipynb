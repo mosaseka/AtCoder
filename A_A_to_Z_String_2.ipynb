{
  "nbformat": 4,
  "nbformat_minor": 0,
  "metadata": {
    "colab": {
      "provenance": [],
      "authorship_tag": "ABX9TyMH4xPNVIuboeCBLE/bv15C",
      "include_colab_link": true
    },
    "kernelspec": {
      "name": "python3",
      "display_name": "Python 3"
    },
    "language_info": {
      "name": "python"
    }
  },
  "cells": [
    {
      "cell_type": "markdown",
      "metadata": {
        "id": "view-in-github",
        "colab_type": "text"
      },
      "source": [
        "<a href=\"https://colab.research.google.com/github/mosaseka/AtCoder/blob/main/A_A_to_Z_String_2.ipynb\" target=\"_parent\"><img src=\"https://colab.research.google.com/assets/colab-badge.svg\" alt=\"Open In Colab\"/></a>"
      ]
    },
    {
      "cell_type": "code",
      "execution_count": null,
      "metadata": {
        "id": "8lhhBn7heEUI"
      },
      "outputs": [],
      "source": [
        "from collections import deque\n",
        "\n",
        "N,X = map(int,input().split())\n",
        "LIST = deque()\n",
        "\n",
        "for i in range(65,91):\n",
        "  for j in range(N):\n",
        "    LIST.append(chr(i))\n",
        "\n",
        "print(LIST[X-1])"
      ]
    }
  ]
}