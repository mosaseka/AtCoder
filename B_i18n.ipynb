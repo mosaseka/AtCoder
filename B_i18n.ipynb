{
  "nbformat": 4,
  "nbformat_minor": 0,
  "metadata": {
    "colab": {
      "provenance": [],
      "authorship_tag": "ABX9TyMjbmpGtPlYEcLKSZmCllPv",
      "include_colab_link": true
    },
    "kernelspec": {
      "name": "python3",
      "display_name": "Python 3"
    },
    "language_info": {
      "name": "python"
    }
  },
  "cells": [
    {
      "cell_type": "markdown",
      "metadata": {
        "id": "view-in-github",
        "colab_type": "text"
      },
      "source": [
        "<a href=\"https://colab.research.google.com/github/mosaseka/AtCoder/blob/main/B_i18n.ipynb\" target=\"_parent\"><img src=\"https://colab.research.google.com/assets/colab-badge.svg\" alt=\"Open In Colab\"/></a>"
      ]
    },
    {
      "cell_type": "code",
      "execution_count": null,
      "metadata": {
        "id": "WeOgwLtE6KyK"
      },
      "outputs": [],
      "source": [
        "S = str(input())\n",
        "S_LEN = len(S)\n",
        "COUNT = 0\n",
        "ANSWER = \"\"\n",
        "\n",
        "for i in range(S_LEN):\n",
        "  if i == 0:\n",
        "    ANSWER += S[i]\n",
        "  elif i == S_LEN-1:\n",
        "    ANSWER += str(COUNT)\n",
        "    ANSWER += S[i]\n",
        "  else:\n",
        "    COUNT += 1\n",
        "\n",
        "print(ANSWER)"
      ]
    }
  ]
}