{
  "nbformat": 4,
  "nbformat_minor": 0,
  "metadata": {
    "colab": {
      "provenance": [],
      "authorship_tag": "ABX9TyMF1B8Z7ByvL0W0jIIhtByN",
      "include_colab_link": true
    },
    "kernelspec": {
      "name": "python3",
      "display_name": "Python 3"
    },
    "language_info": {
      "name": "python"
    }
  },
  "cells": [
    {
      "cell_type": "markdown",
      "metadata": {
        "id": "view-in-github",
        "colab_type": "text"
      },
      "source": [
        "<a href=\"https://colab.research.google.com/github/mosaseka/AtCoder/blob/main/A_Intersection.ipynb\" target=\"_parent\"><img src=\"https://colab.research.google.com/assets/colab-badge.svg\" alt=\"Open In Colab\"/></a>"
      ]
    },
    {
      "cell_type": "code",
      "execution_count": null,
      "metadata": {
        "id": "8SO3FgwYPcHm"
      },
      "outputs": [],
      "source": [
        "L1,R1,L2,R2 = map(int,input().split())\n",
        "LIST = [[] for i in range(100)]\n",
        "COUNT = 0\n",
        "\n",
        "for i in range(L1,R1):\n",
        "  LIST[i].append(\"RED\")\n",
        "\n",
        "for i in range(L2,R2):\n",
        "  LIST[i].append(\"BLUE\")\n",
        "\n",
        "for i in range(100):\n",
        "  if len(LIST[i]) == 2:\n",
        "    COUNT += 1\n",
        "\n",
        "print(COUNT)"
      ]
    }
  ]
}