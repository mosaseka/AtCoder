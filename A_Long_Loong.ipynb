{
  "nbformat": 4,
  "nbformat_minor": 0,
  "metadata": {
    "colab": {
      "provenance": [],
      "authorship_tag": "ABX9TyOFaSt7YY2NUWwgg/58WE2Q",
      "include_colab_link": true
    },
    "kernelspec": {
      "name": "python3",
      "display_name": "Python 3"
    },
    "language_info": {
      "name": "python"
    }
  },
  "cells": [
    {
      "cell_type": "markdown",
      "metadata": {
        "id": "view-in-github",
        "colab_type": "text"
      },
      "source": [
        "<a href=\"https://colab.research.google.com/github/mosaseka/AtCoder/blob/main/A_Long_Loong.ipynb\" target=\"_parent\"><img src=\"https://colab.research.google.com/assets/colab-badge.svg\" alt=\"Open In Colab\"/></a>"
      ]
    },
    {
      "cell_type": "code",
      "execution_count": null,
      "metadata": {
        "id": "ZHTr3ZE77RN0"
      },
      "outputs": [],
      "source": [
        "N = int(input())\n",
        "ANSWER = \"\"\n",
        "\n",
        "ANSWER += \"L\"\n",
        "\n",
        "for i in range(N):\n",
        "  ANSWER += \"o\"\n",
        "\n",
        "ANSWER += \"ng\"\n",
        "\n",
        "print(ANSWER)"
      ]
    }
  ]
}