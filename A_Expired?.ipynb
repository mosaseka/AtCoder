{
  "nbformat": 4,
  "nbformat_minor": 0,
  "metadata": {
    "colab": {
      "provenance": [],
      "authorship_tag": "ABX9TyP98q3HLdweQCmsYKsrhmOY",
      "include_colab_link": true
    },
    "kernelspec": {
      "name": "python3",
      "display_name": "Python 3"
    },
    "language_info": {
      "name": "python"
    }
  },
  "cells": [
    {
      "cell_type": "markdown",
      "metadata": {
        "id": "view-in-github",
        "colab_type": "text"
      },
      "source": [
        "<a href=\"https://colab.research.google.com/github/mosaseka/AtCoder/blob/main/A_Expired%3F.ipynb\" target=\"_parent\"><img src=\"https://colab.research.google.com/assets/colab-badge.svg\" alt=\"Open In Colab\"/></a>"
      ]
    },
    {
      "cell_type": "code",
      "execution_count": null,
      "metadata": {
        "id": "iH6vZVmsXqdD"
      },
      "outputs": [],
      "source": [
        "X,A,B = map(int,input().split())\n",
        "DELTA = A - B\n",
        "\n",
        "if A - B >= 0:\n",
        "  print(\"delicious\")\n",
        "else:\n",
        "  if abs(DELTA) <= X:\n",
        "    print(\"safe\")\n",
        "  else:\n",
        "    print(\"dangerous\")"
      ]
    }
  ]
}