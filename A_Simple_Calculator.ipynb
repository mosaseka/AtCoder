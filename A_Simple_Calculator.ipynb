{
  "nbformat": 4,
  "nbformat_minor": 0,
  "metadata": {
    "colab": {
      "provenance": [],
      "authorship_tag": "ABX9TyOsDkmDLiisKO8B2tVQIff8",
      "include_colab_link": true
    },
    "kernelspec": {
      "name": "python3",
      "display_name": "Python 3"
    },
    "language_info": {
      "name": "python"
    }
  },
  "cells": [
    {
      "cell_type": "markdown",
      "metadata": {
        "id": "view-in-github",
        "colab_type": "text"
      },
      "source": [
        "<a href=\"https://colab.research.google.com/github/mosaseka/AtCoder/blob/main/A_Simple_Calculator.ipynb\" target=\"_parent\"><img src=\"https://colab.research.google.com/assets/colab-badge.svg\" alt=\"Open In Colab\"/></a>"
      ]
    },
    {
      "cell_type": "code",
      "execution_count": null,
      "metadata": {
        "id": "6t2tCkw_EvDu"
      },
      "outputs": [],
      "source": [
        "X,Y = map(int,input().split())\n",
        "COUNT_LIST = []\n",
        "CHECK_X = 0\n",
        "CHECK_Y = 0\n",
        "COUNT = 0\n",
        "\n",
        "CHECK_X = X\n",
        "CHECK_Y = Y\n",
        "if CHECK_X <= CHECK_Y:\n",
        "  COUNT += (CHECK_Y-CHECK_X)\n",
        "  COUNT_LIST.append(COUNT)\n",
        "  COUNT = 0\n",
        "else:\n",
        "  pass\n",
        "\n",
        "COUNT = 0\n",
        "\n",
        "CHECK_X = X * (-1)\n",
        "CHECK_Y = Y\n",
        "COUNT += 1\n",
        "#print(CHECK_X)\n",
        "#print(CHECK_Y)\n",
        "if CHECK_X <= CHECK_Y:\n",
        "  COUNT += (CHECK_Y-CHECK_X)\n",
        "  COUNT_LIST.append(COUNT)\n",
        "  COUNT = 0\n",
        "else:\n",
        "  pass\n",
        "\n",
        "COUNT = 0\n",
        "\n",
        "CHECK_X = X\n",
        "CHECK_Y = Y * (-1)\n",
        "COUNT += 1\n",
        "if CHECK_X <= CHECK_Y:\n",
        "  COUNT += (CHECK_Y-CHECK_X)\n",
        "  COUNT_LIST.append(COUNT)\n",
        "  COUNT = 0\n",
        "else:\n",
        "  pass\n",
        "\n",
        "COUNT = 0\n",
        "\n",
        "CHECK_X = X * (-1)\n",
        "CHECK_Y = Y * (-1)\n",
        "COUNT += 2\n",
        "if CHECK_X <= CHECK_Y:\n",
        "  COUNT += (CHECK_Y-CHECK_X)\n",
        "  COUNT_LIST.append(COUNT)\n",
        "  COUNT = 0\n",
        "else:\n",
        "  pass\n",
        "\n",
        "print(min(COUNT_LIST))"
      ]
    }
  ]
}