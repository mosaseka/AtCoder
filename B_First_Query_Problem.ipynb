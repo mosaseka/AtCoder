{
  "nbformat": 4,
  "nbformat_minor": 0,
  "metadata": {
    "colab": {
      "provenance": [],
      "authorship_tag": "ABX9TyM8RaAnWr6jr5LCnHlQimyM",
      "include_colab_link": true
    },
    "kernelspec": {
      "name": "python3",
      "display_name": "Python 3"
    },
    "language_info": {
      "name": "python"
    }
  },
  "cells": [
    {
      "cell_type": "markdown",
      "metadata": {
        "id": "view-in-github",
        "colab_type": "text"
      },
      "source": [
        "<a href=\"https://colab.research.google.com/github/mosaseka/AtCoder/blob/main/B_First_Query_Problem.ipynb\" target=\"_parent\"><img src=\"https://colab.research.google.com/assets/colab-badge.svg\" alt=\"Open In Colab\"/></a>"
      ]
    },
    {
      "cell_type": "code",
      "execution_count": null,
      "metadata": {
        "colab": {
          "base_uri": "https://localhost:8080/"
        },
        "id": "dLGD-tQyBFgL",
        "outputId": "1bea3159-58b0-42db-e54f-b064ac6df5c9"
      },
      "outputs": [
        {
          "output_type": "stream",
          "name": "stdout",
          "text": [
            "3\n",
            "1 3 5\n",
            "7\n",
            "2 2\n",
            "3\n",
            "2 3\n",
            "5\n",
            "1 3 0\n",
            "2 3\n",
            "0\n",
            "1 2 8\n",
            "2 2\n",
            "8\n",
            "2 1\n",
            "1\n"
          ]
        }
      ],
      "source": [
        "N = int(input())\n",
        "A_LIST = list(map(int,input().split()))\n",
        "Q = int(input())\n",
        "\n",
        "for i in range(Q):\n",
        "  QUERY_LIST = list(map(int,input().split()))\n",
        "  if QUERY_LIST[0] == 1:\n",
        "    A_LIST[QUERY_LIST[1]-1] = QUERY_LIST[2]\n",
        "    QUERY_LIST = []\n",
        "  elif QUERY_LIST[0] == 2:\n",
        "    print(A_LIST[QUERY_LIST[1]-1])\n",
        "    QUERY_LIST = []"
      ]
    }
  ]
}