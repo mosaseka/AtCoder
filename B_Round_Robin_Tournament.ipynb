{
  "nbformat": 4,
  "nbformat_minor": 0,
  "metadata": {
    "colab": {
      "provenance": [],
      "authorship_tag": "ABX9TyNpflAOWxWzwk1CzZkOyiqK",
      "include_colab_link": true
    },
    "kernelspec": {
      "name": "python3",
      "display_name": "Python 3"
    },
    "language_info": {
      "name": "python"
    }
  },
  "cells": [
    {
      "cell_type": "markdown",
      "metadata": {
        "id": "view-in-github",
        "colab_type": "text"
      },
      "source": [
        "<a href=\"https://colab.research.google.com/github/mosaseka/AtCoder/blob/main/B_Round_Robin_Tournament.ipynb\" target=\"_parent\"><img src=\"https://colab.research.google.com/assets/colab-badge.svg\" alt=\"Open In Colab\"/></a>"
      ]
    },
    {
      "cell_type": "code",
      "execution_count": null,
      "metadata": {
        "id": "iyXMs8HlAksu"
      },
      "outputs": [],
      "source": [
        "N = int(input())\n",
        "S_LIST = [str(input()) for i in range(N)]\n",
        "PLAYER = [[0,(i+1)] for i in range(N)]\n",
        "ANSWER = [0 for i in range(N)]\n",
        "FLAG = False\n",
        "\n",
        "#print(PLAYER)\n",
        "\n",
        "for i in range(N):\n",
        "  for j in range(N):\n",
        "    if S_LIST[i][j] == \"o\":\n",
        "      PLAYER[i][0] += 1\n",
        "\n",
        "#print(PLAYER)\n",
        "\n",
        "PLAYER.sort(key=lambda x:x[0],reverse=True)\n",
        "\n",
        "for i in range(N):\n",
        "  ANSWER[i] = PLAYER[i][1]\n",
        "\n",
        "print(*ANSWER)"
      ]
    }
  ]
}