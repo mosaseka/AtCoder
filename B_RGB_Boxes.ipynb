{
  "nbformat": 4,
  "nbformat_minor": 0,
  "metadata": {
    "colab": {
      "provenance": [],
      "authorship_tag": "ABX9TyMrvCvp11i8z7b0S0GSOcBZ",
      "include_colab_link": true
    },
    "kernelspec": {
      "name": "python3",
      "display_name": "Python 3"
    },
    "language_info": {
      "name": "python"
    }
  },
  "cells": [
    {
      "cell_type": "markdown",
      "metadata": {
        "id": "view-in-github",
        "colab_type": "text"
      },
      "source": [
        "<a href=\"https://colab.research.google.com/github/mosaseka/AtCoder/blob/main/B_RGB_Boxes.ipynb\" target=\"_parent\"><img src=\"https://colab.research.google.com/assets/colab-badge.svg\" alt=\"Open In Colab\"/></a>"
      ]
    },
    {
      "cell_type": "code",
      "execution_count": null,
      "metadata": {
        "id": "XTq5Y_JEhFM2"
      },
      "outputs": [],
      "source": [
        "R,G,B,N = map(int,input().split())\n",
        "COUNT = 0\n",
        "CHECK = 0\n",
        "\n",
        "for i in range(N+1):\n",
        "  if i*R > N:\n",
        "    break\n",
        "  else:\n",
        "    for j in range(N+1):\n",
        "      if i*R + j*G > N:\n",
        "        break\n",
        "      else:\n",
        "        if (N-(i*R + j*G)) % B == 0:\n",
        "          COUNT += 1\n",
        "\n",
        "print(COUNT)"
      ]
    }
  ]
}