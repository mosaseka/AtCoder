{
  "nbformat": 4,
  "nbformat_minor": 0,
  "metadata": {
    "colab": {
      "provenance": [],
      "authorship_tag": "ABX9TyMDrNWM6YHSiVkp4MhY8P41",
      "include_colab_link": true
    },
    "kernelspec": {
      "name": "python3",
      "display_name": "Python 3"
    },
    "language_info": {
      "name": "python"
    }
  },
  "cells": [
    {
      "cell_type": "markdown",
      "metadata": {
        "id": "view-in-github",
        "colab_type": "text"
      },
      "source": [
        "<a href=\"https://colab.research.google.com/github/mosaseka/AtCoder/blob/main/A_Attack.ipynb\" target=\"_parent\"><img src=\"https://colab.research.google.com/assets/colab-badge.svg\" alt=\"Open In Colab\"/></a>"
      ]
    },
    {
      "cell_type": "code",
      "execution_count": null,
      "metadata": {
        "id": "ej8CqE7QH0Dm"
      },
      "outputs": [],
      "source": [
        "A,B = map(int,input().split())\n",
        "ANSWER = A//B\n",
        "\n",
        "if A % B == 0:\n",
        "  pass\n",
        "else:\n",
        "  ANSWER += 1\n",
        "\n",
        "print(ANSWER)"
      ]
    }
  ]
}