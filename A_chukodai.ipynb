{
  "nbformat": 4,
  "nbformat_minor": 0,
  "metadata": {
    "colab": {
      "provenance": [],
      "authorship_tag": "ABX9TyPPwL5ZVaJCCyYoSWRhwTyi",
      "include_colab_link": true
    },
    "kernelspec": {
      "name": "python3",
      "display_name": "Python 3"
    },
    "language_info": {
      "name": "python"
    }
  },
  "cells": [
    {
      "cell_type": "markdown",
      "metadata": {
        "id": "view-in-github",
        "colab_type": "text"
      },
      "source": [
        "<a href=\"https://colab.research.google.com/github/mosaseka/AtCoder/blob/main/A_chukodai.ipynb\" target=\"_parent\"><img src=\"https://colab.research.google.com/assets/colab-badge.svg\" alt=\"Open In Colab\"/></a>"
      ]
    },
    {
      "cell_type": "code",
      "execution_count": null,
      "metadata": {
        "id": "xls4LiTM19Cv"
      },
      "outputs": [],
      "source": [
        "S = str(input())\n",
        "A,B = map(int,input().split())\n",
        "ANSWER = \"\"\n",
        "\n",
        "for i in range(len(S)):\n",
        "  if (i+1) == A:\n",
        "    ANSWER += S[B-1]\n",
        "  elif (i+1) == B:\n",
        "    ANSWER += S[A-1]\n",
        "  else:\n",
        "    ANSWER += S[i]\n",
        "\n",
        "print(ANSWER)"
      ]
    }
  ]
}