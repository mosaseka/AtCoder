{
  "nbformat": 4,
  "nbformat_minor": 0,
  "metadata": {
    "colab": {
      "provenance": [],
      "authorship_tag": "ABX9TyN2hzR/0Y1aYzdyP1+kbKV0",
      "include_colab_link": true
    },
    "kernelspec": {
      "name": "python3",
      "display_name": "Python 3"
    },
    "language_info": {
      "name": "python"
    }
  },
  "cells": [
    {
      "cell_type": "markdown",
      "metadata": {
        "id": "view-in-github",
        "colab_type": "text"
      },
      "source": [
        "<a href=\"https://colab.research.google.com/github/mosaseka/AtCoder/blob/main/B_Bitter_Alchemy.ipynb\" target=\"_parent\"><img src=\"https://colab.research.google.com/assets/colab-badge.svg\" alt=\"Open In Colab\"/></a>"
      ]
    },
    {
      "cell_type": "code",
      "execution_count": null,
      "metadata": {
        "id": "5hvNgmK4feiC"
      },
      "outputs": [],
      "source": [
        "N,X = map(int,input().split())\n",
        "M_LIST = [int(input()) for i in range(N)]\n",
        "COUNT = 0\n",
        "\n",
        "M_LIST.sort()\n",
        "\n",
        "X -= sum(M_LIST)\n",
        "COUNT += N\n",
        "\n",
        "COUNT += X // M_LIST[0]\n",
        "\n",
        "print(COUNT)"
      ]
    }
  ]
}