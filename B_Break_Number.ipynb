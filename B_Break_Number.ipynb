{
  "nbformat": 4,
  "nbformat_minor": 0,
  "metadata": {
    "colab": {
      "provenance": [],
      "authorship_tag": "ABX9TyOSVotJ6YGT/o0MYnqWHNYt",
      "include_colab_link": true
    },
    "kernelspec": {
      "name": "python3",
      "display_name": "Python 3"
    },
    "language_info": {
      "name": "python"
    }
  },
  "cells": [
    {
      "cell_type": "markdown",
      "metadata": {
        "id": "view-in-github",
        "colab_type": "text"
      },
      "source": [
        "<a href=\"https://colab.research.google.com/github/mosaseka/AtCoder/blob/main/B_Break_Number.ipynb\" target=\"_parent\"><img src=\"https://colab.research.google.com/assets/colab-badge.svg\" alt=\"Open In Colab\"/></a>"
      ]
    },
    {
      "cell_type": "code",
      "execution_count": null,
      "metadata": {
        "id": "-BhXuXG4RmpW",
        "colab": {
          "base_uri": "https://localhost:8080/"
        },
        "outputId": "b4833400-5f7b-4e98-ada3-9ea07f99bcec"
      },
      "outputs": [
        {
          "output_type": "stream",
          "name": "stdout",
          "text": [
            "7\n",
            "4\n"
          ]
        }
      ],
      "source": [
        "N = int(input())\n",
        "\n",
        "CHECK_NUM = 0\n",
        "DIV_COUNT = 0\n",
        "DIV_LIST = []\n",
        "\n",
        "for i in range(N):\n",
        "  CHECK_NUM = N - i\n",
        "  DIV_COUNT = 0\n",
        "  while CHECK_NUM % 2 == 0:\n",
        "    CHECK_NUM = CHECK_NUM // 2\n",
        "    DIV_COUNT = DIV_COUNT + 1\n",
        "  DIV_LIST.append(DIV_COUNT)\n",
        "\n",
        "print(N - DIV_LIST.index(max(DIV_LIST)))"
      ]
    }
  ]
}