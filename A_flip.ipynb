{
  "nbformat": 4,
  "nbformat_minor": 0,
  "metadata": {
    "colab": {
      "provenance": [],
      "authorship_tag": "ABX9TyPS2dct014DsORCV+LVQKcF",
      "include_colab_link": true
    },
    "kernelspec": {
      "name": "python3",
      "display_name": "Python 3"
    },
    "language_info": {
      "name": "python"
    }
  },
  "cells": [
    {
      "cell_type": "markdown",
      "metadata": {
        "id": "view-in-github",
        "colab_type": "text"
      },
      "source": [
        "<a href=\"https://colab.research.google.com/github/mosaseka/AtCoder/blob/main/A_flip.ipynb\" target=\"_parent\"><img src=\"https://colab.research.google.com/assets/colab-badge.svg\" alt=\"Open In Colab\"/></a>"
      ]
    },
    {
      "cell_type": "code",
      "execution_count": null,
      "metadata": {
        "id": "7SxZesbdjkqG",
        "colab": {
          "base_uri": "https://localhost:8080/"
        },
        "outputId": "48c7765c-1be7-4335-87af-24c30aa8002c"
      },
      "outputs": [
        {
          "output_type": "stream",
          "name": "stdout",
          "text": [
            "01\n",
            "10\n"
          ]
        }
      ],
      "source": [
        "S_LIST = list(map(str,input()))\n",
        "ANSWER = \"\"\n",
        "\n",
        "for i in range(len(S_LIST)):\n",
        "  if S_LIST[i] == \"0\":\n",
        "    ANSWER = ANSWER + \"1\"\n",
        "  else:\n",
        "    ANSWER = ANSWER + \"0\"\n",
        "\n",
        "print(ANSWER)"
      ]
    }
  ]
}