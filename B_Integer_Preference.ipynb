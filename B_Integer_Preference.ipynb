{
  "nbformat": 4,
  "nbformat_minor": 0,
  "metadata": {
    "colab": {
      "provenance": [],
      "authorship_tag": "ABX9TyOuBN0trhoLclJIYEHvBHGz",
      "include_colab_link": true
    },
    "kernelspec": {
      "name": "python3",
      "display_name": "Python 3"
    },
    "language_info": {
      "name": "python"
    }
  },
  "cells": [
    {
      "cell_type": "markdown",
      "metadata": {
        "id": "view-in-github",
        "colab_type": "text"
      },
      "source": [
        "<a href=\"https://colab.research.google.com/github/mosaseka/AtCoder/blob/main/B_Integer_Preference.ipynb\" target=\"_parent\"><img src=\"https://colab.research.google.com/assets/colab-badge.svg\" alt=\"Open In Colab\"/></a>"
      ]
    },
    {
      "cell_type": "code",
      "execution_count": null,
      "metadata": {
        "id": "W72uEFR5CwXE"
      },
      "outputs": [],
      "source": [
        "A,B,C,D = map(int,input().split())\n",
        "\n",
        "if (A <= C and C <= B) or (A <= D and D <= B):\n",
        "  print(\"Yes\")\n",
        "else:\n",
        "  print(\"No\")"
      ]
    },
    {
      "cell_type": "code",
      "source": [
        "A,B,C,D = map(int,input().split())\n",
        "\n",
        "if A > C:\n",
        "  A,B,C,D = C,D,A,B\n",
        "\n",
        "if C <= B:\n",
        "  print(\"Yes\")\n",
        "else:\n",
        "  print(\"No\")"
      ],
      "metadata": {
        "id": "hgusZWtZDZ8H"
      },
      "execution_count": null,
      "outputs": []
    }
  ]
}