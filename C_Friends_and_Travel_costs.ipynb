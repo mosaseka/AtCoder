{
  "nbformat": 4,
  "nbformat_minor": 0,
  "metadata": {
    "colab": {
      "provenance": [],
      "authorship_tag": "ABX9TyOLmNec6zxkj0px47Kyb6zr",
      "include_colab_link": true
    },
    "kernelspec": {
      "name": "python3",
      "display_name": "Python 3"
    },
    "language_info": {
      "name": "python"
    }
  },
  "cells": [
    {
      "cell_type": "markdown",
      "metadata": {
        "id": "view-in-github",
        "colab_type": "text"
      },
      "source": [
        "<a href=\"https://colab.research.google.com/github/mosaseka/AtCoder/blob/main/C_Friends_and_Travel_costs.ipynb\" target=\"_parent\"><img src=\"https://colab.research.google.com/assets/colab-badge.svg\" alt=\"Open In Colab\"/></a>"
      ]
    },
    {
      "cell_type": "code",
      "execution_count": null,
      "metadata": {
        "id": "eHbOwtRcHvVr"
      },
      "outputs": [],
      "source": [
        "from collections import deque\n",
        "\n",
        "N,K = map(int,input().split())\n",
        "A_LIST = deque()\n",
        "B_LIST = deque()\n",
        "A = 0\n",
        "B = 0\n",
        "A_SET = set()\n",
        "COUNT = 0\n",
        "\n",
        "for i in range(N):\n",
        "  A,B = map(int,input().split())\n",
        "  A_LIST.append(A)\n",
        "  B_LIST.append(B)\n",
        "\n",
        "A_SET = set(A_LIST)\n",
        "\n",
        "while K > 0:\n",
        "  K -= 1\n",
        "  COUNT += 1\n",
        "  if COUNT in A_SET:\n",
        "    K += B_LIST[A_LIST.index(COUNT)]\n",
        "\n",
        "print(COUNT)"
      ]
    },
    {
      "cell_type": "code",
      "source": [
        "N,K = map(int,input().split())\n",
        "AB_LIST = [list(map(int,input().split())) for i in range(N)]\n",
        "CHECK = K\n",
        "\n",
        "AB_LIST.sort()\n",
        "\n",
        "for i in range(N):\n",
        "  if AB_LIST[i][0] <= CHECK:\n",
        "    CHECK += AB_LIST[i][1]\n",
        "  else:\n",
        "    break\n",
        "\n",
        "print(CHECK)"
      ],
      "metadata": {
        "id": "G8Iy80XlLPAD"
      },
      "execution_count": null,
      "outputs": []
    }
  ]
}