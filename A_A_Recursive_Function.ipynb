{
  "nbformat": 4,
  "nbformat_minor": 0,
  "metadata": {
    "colab": {
      "provenance": [],
      "authorship_tag": "ABX9TyON81Ke5t6uXY5TO79FT0WW",
      "include_colab_link": true
    },
    "kernelspec": {
      "name": "python3",
      "display_name": "Python 3"
    },
    "language_info": {
      "name": "python"
    }
  },
  "cells": [
    {
      "cell_type": "markdown",
      "metadata": {
        "id": "view-in-github",
        "colab_type": "text"
      },
      "source": [
        "<a href=\"https://colab.research.google.com/github/mosaseka/AtCoder/blob/main/A_A_Recursive_Function.ipynb\" target=\"_parent\"><img src=\"https://colab.research.google.com/assets/colab-badge.svg\" alt=\"Open In Colab\"/></a>"
      ]
    },
    {
      "cell_type": "code",
      "execution_count": null,
      "metadata": {
        "id": "o2PjGSSvMQfp"
      },
      "outputs": [],
      "source": [
        "N = int(input())\n",
        "LIST = [1] + [0 for i in range(N)]\n",
        "\n",
        "for i in range(N):\n",
        "  LIST[i+1] = (i+1) * LIST[i]\n",
        "\n",
        "print(LIST[-1])"
      ]
    }
  ]
}