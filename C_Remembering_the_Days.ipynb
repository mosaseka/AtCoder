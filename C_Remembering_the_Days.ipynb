{
  "nbformat": 4,
  "nbformat_minor": 0,
  "metadata": {
    "colab": {
      "provenance": [],
      "authorship_tag": "ABX9TyMlayeITna2b3Ry0Qh7S3L1",
      "include_colab_link": true
    },
    "kernelspec": {
      "name": "python3",
      "display_name": "Python 3"
    },
    "language_info": {
      "name": "python"
    }
  },
  "cells": [
    {
      "cell_type": "markdown",
      "metadata": {
        "id": "view-in-github",
        "colab_type": "text"
      },
      "source": [
        "<a href=\"https://colab.research.google.com/github/mosaseka/AtCoder/blob/main/C_Remembering_the_Days.ipynb\" target=\"_parent\"><img src=\"https://colab.research.google.com/assets/colab-badge.svg\" alt=\"Open In Colab\"/></a>"
      ]
    },
    {
      "cell_type": "code",
      "execution_count": null,
      "metadata": {
        "id": "TBIj5Fbws3Wu"
      },
      "outputs": [],
      "source": [
        "import itertools\n",
        "from collections import deque\n",
        "\n",
        "N,M = map(int,input().split())\n",
        "LIST = [[0 for i in range(N)] for j in range(N)]\n",
        "NUM = [i+1 for i in range(N)]\n",
        "ANSWER = deque()\n",
        "CHECK = 0\n",
        "A = 0\n",
        "B = 0\n",
        "C = 0\n",
        "#print(LIST)\n",
        "\n",
        "for i in range(M):\n",
        "  A,B,C = map(int,input().split())\n",
        "  LIST[A-1][B-1] = C\n",
        "  LIST[B-1][A-1] = C\n",
        "#print(LIST)\n",
        "\n",
        "for i in itertools.permutations(NUM,N):\n",
        "  CHECK = 0\n",
        "  #print(i)\n",
        "  for j in range(N-1):\n",
        "    if LIST[i[j]-1][i[j+1]-1] == 0:\n",
        "      break\n",
        "    else:\n",
        "      CHECK += LIST[i[j]-1][i[j+1]-1]\n",
        "  ANSWER.append(CHECK)\n",
        "\n",
        "#print(ANSWER)\n",
        "print(max(ANSWER))"
      ]
    }
  ]
}