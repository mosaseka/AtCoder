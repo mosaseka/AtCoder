{
  "nbformat": 4,
  "nbformat_minor": 0,
  "metadata": {
    "colab": {
      "provenance": [],
      "authorship_tag": "ABX9TyNniEkHQw+TFw99LoJ7+4OI",
      "include_colab_link": true
    },
    "kernelspec": {
      "name": "python3",
      "display_name": "Python 3"
    },
    "language_info": {
      "name": "python"
    }
  },
  "cells": [
    {
      "cell_type": "markdown",
      "metadata": {
        "id": "view-in-github",
        "colab_type": "text"
      },
      "source": [
        "<a href=\"https://colab.research.google.com/github/mosaseka/AtCoder/blob/main/C_Streamline.ipynb\" target=\"_parent\"><img src=\"https://colab.research.google.com/assets/colab-badge.svg\" alt=\"Open In Colab\"/></a>"
      ]
    },
    {
      "cell_type": "code",
      "execution_count": null,
      "metadata": {
        "id": "PMaMbGMuOG-I"
      },
      "outputs": [],
      "source": [
        "N,M = map(int,input().split())\n",
        "X_LIST = list(map(int,input().split()))\n",
        "DELTA_LIST = []\n",
        "ANSWER = 0\n",
        "\n",
        "if N >= M:\n",
        "  print(0)\n",
        "  exit()\n",
        "\n",
        "X_LIST.sort()\n",
        "\n",
        "for i in range(M-1):\n",
        "  DELTA_LIST.append(abs(X_LIST[i] - X_LIST[i+1]))\n",
        "\n",
        "DELTA_LIST.sort()\n",
        "#print(DELTA_LIST)\n",
        "\n",
        "print(sum(DELTA_LIST[:M-N]))"
      ]
    }
  ]
}