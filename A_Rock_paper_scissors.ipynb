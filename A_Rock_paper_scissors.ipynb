{
  "nbformat": 4,
  "nbformat_minor": 0,
  "metadata": {
    "colab": {
      "provenance": [],
      "authorship_tag": "ABX9TyPScps4uGsfRqylVCxG1Ent",
      "include_colab_link": true
    },
    "kernelspec": {
      "name": "python3",
      "display_name": "Python 3"
    },
    "language_info": {
      "name": "python"
    }
  },
  "cells": [
    {
      "cell_type": "markdown",
      "metadata": {
        "id": "view-in-github",
        "colab_type": "text"
      },
      "source": [
        "<a href=\"https://colab.research.google.com/github/mosaseka/AtCoder/blob/main/A_Rock_paper_scissors.ipynb\" target=\"_parent\"><img src=\"https://colab.research.google.com/assets/colab-badge.svg\" alt=\"Open In Colab\"/></a>"
      ]
    },
    {
      "cell_type": "code",
      "execution_count": null,
      "metadata": {
        "id": "OfqSEPxmMgyL"
      },
      "outputs": [],
      "source": [
        "X,Y = map(int,input().split())\n",
        "LIST = [0,1,2]\n",
        "\n",
        "if X == Y:\n",
        "  print(X)\n",
        "else:\n",
        "  LIST.remove(X)\n",
        "  LIST.remove(Y)\n",
        "  print(LIST[0])"
      ]
    }
  ]
}