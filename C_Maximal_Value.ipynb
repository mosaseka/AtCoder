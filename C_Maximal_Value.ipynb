{
  "nbformat": 4,
  "nbformat_minor": 0,
  "metadata": {
    "colab": {
      "provenance": [],
      "authorship_tag": "ABX9TyO9bAglZWj8SkHPPIwKvO8S",
      "include_colab_link": true
    },
    "kernelspec": {
      "name": "python3",
      "display_name": "Python 3"
    },
    "language_info": {
      "name": "python"
    }
  },
  "cells": [
    {
      "cell_type": "markdown",
      "metadata": {
        "id": "view-in-github",
        "colab_type": "text"
      },
      "source": [
        "<a href=\"https://colab.research.google.com/github/mosaseka/AtCoder/blob/main/C_Maximal_Value.ipynb\" target=\"_parent\"><img src=\"https://colab.research.google.com/assets/colab-badge.svg\" alt=\"Open In Colab\"/></a>"
      ]
    },
    {
      "cell_type": "code",
      "execution_count": null,
      "metadata": {
        "colab": {
          "base_uri": "https://localhost:8080/"
        },
        "id": "BfW23ctcfZXj",
        "outputId": "547dfa02-3c7f-41bf-d6e8-32af33580e80"
      },
      "outputs": [
        {
          "output_type": "stream",
          "name": "stdout",
          "text": [
            "3\n",
            "2 5\n",
            "9\n"
          ]
        }
      ],
      "source": [
        "N = int(input())\n",
        "A_LIST = []\n",
        "B_LIST = list(map(int,input().split()))\n",
        "\n",
        "for i in range(N-2):\n",
        "  A_LIST.append(min(B_LIST[i],B_LIST[i+1]))\n",
        "\n",
        "print(sum(A_LIST) + B_LIST[N-2] + B_LIST[0])"
      ]
    }
  ]
}