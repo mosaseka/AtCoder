{
  "nbformat": 4,
  "nbformat_minor": 0,
  "metadata": {
    "colab": {
      "provenance": [],
      "authorship_tag": "ABX9TyMxYzXJlQ/Nx4sBn7vDHt1j",
      "include_colab_link": true
    },
    "kernelspec": {
      "name": "python3",
      "display_name": "Python 3"
    },
    "language_info": {
      "name": "python"
    }
  },
  "cells": [
    {
      "cell_type": "markdown",
      "metadata": {
        "id": "view-in-github",
        "colab_type": "text"
      },
      "source": [
        "<a href=\"https://colab.research.google.com/github/mosaseka/AtCoder/blob/main/B_AcCepted.ipynb\" target=\"_parent\"><img src=\"https://colab.research.google.com/assets/colab-badge.svg\" alt=\"Open In Colab\"/></a>"
      ]
    },
    {
      "cell_type": "code",
      "execution_count": null,
      "metadata": {
        "colab": {
          "base_uri": "https://localhost:8080/"
        },
        "id": "hrJGhbMveLkY",
        "outputId": "a9c2b4d7-ad56-46e9-b077-883eb09fa019"
      },
      "outputs": [
        {
          "output_type": "stream",
          "name": "stdout",
          "text": [
            "Atcoder\n",
            "WA\n"
          ]
        }
      ],
      "source": [
        "S_LIST = list(map(str,input()))\n",
        "FLAG = True\n",
        "CHECK_LIST = []\n",
        "INDEX = 0\n",
        "\n",
        "if S_LIST[0] != \"A\":\n",
        "  FLAG = False\n",
        "\n",
        "CHECK_LIST = S_LIST[2:-1]\n",
        "if CHECK_LIST.count(\"C\") == 1:\n",
        "  INDEX = CHECK_LIST.index(\"C\")\n",
        "else:\n",
        "  FLAG = False\n",
        "\n",
        "CHECK_LIST.pop(INDEX)\n",
        "CHECK_LIST.pop(0)\n",
        "\n",
        "for i in range(len(CHECK_LIST)):\n",
        "  if FLAG == False:\n",
        "    break\n",
        "  else:\n",
        "    if CHECK_LIST[i] == CHECK_LIST[i].lower():\n",
        "      pass\n",
        "    else:\n",
        "      FLAG = False\n",
        "      break\n",
        "\n",
        "if FLAG:\n",
        "  print(\"AC\")\n",
        "else:\n",
        "  print(\"WA\")"
      ]
    },
    {
      "cell_type": "code",
      "source": [
        "import string\n",
        "\n",
        "S_LIST = list(map(str,input()))\n",
        "FLAG = True\n",
        "ALPHA_LIST = list(string.ascii_lowercase)\n",
        "\n",
        "if S_LIST[0] != \"A\":\n",
        "  print(\"WA\")\n",
        "  exit()\n",
        "elif \"C\" not in S_LIST[2:-1]:\n",
        "  print(\"WA\")\n",
        "  exit()\n",
        "else:\n",
        "  pass\n",
        "\n",
        "S_LIST.remove(\"A\")\n",
        "S_LIST.remove(\"C\")\n",
        "\n",
        "for i in range(len(S_LIST)):\n",
        "  if S_LIST[i] not in ALPHA_LIST:\n",
        "    FLAG = False\n",
        "    break\n",
        "\n",
        "if FLAG:\n",
        "  print(\"AC\")\n",
        "else:\n",
        "  print(\"WA\")"
      ],
      "metadata": {
        "colab": {
          "base_uri": "https://localhost:8080/"
        },
        "id": "4j-xK7efV30K",
        "outputId": "938bc110-53e3-4390-91df-f857b2d6826d"
      },
      "execution_count": null,
      "outputs": [
        {
          "output_type": "stream",
          "name": "stdout",
          "text": [
            "AtCoder\n",
            "AC\n"
          ]
        }
      ]
    }
  ]
}