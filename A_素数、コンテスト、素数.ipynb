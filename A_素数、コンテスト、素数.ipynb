{
  "nbformat": 4,
  "nbformat_minor": 0,
  "metadata": {
    "colab": {
      "provenance": [],
      "authorship_tag": "ABX9TyPLt8urung6dTycOfYkAbhK",
      "include_colab_link": true
    },
    "kernelspec": {
      "name": "python3",
      "display_name": "Python 3"
    },
    "language_info": {
      "name": "python"
    }
  },
  "cells": [
    {
      "cell_type": "markdown",
      "metadata": {
        "id": "view-in-github",
        "colab_type": "text"
      },
      "source": [
        "<a href=\"https://colab.research.google.com/github/mosaseka/AtCoder/blob/main/A_%E7%B4%A0%E6%95%B0%E3%80%81%E3%82%B3%E3%83%B3%E3%83%86%E3%82%B9%E3%83%88%E3%80%81%E7%B4%A0%E6%95%B0.ipynb\" target=\"_parent\"><img src=\"https://colab.research.google.com/assets/colab-badge.svg\" alt=\"Open In Colab\"/></a>"
      ]
    },
    {
      "cell_type": "code",
      "execution_count": null,
      "metadata": {
        "id": "P7isosePwieO"
      },
      "outputs": [],
      "source": [
        "# 素数判定\n",
        "def is_prime(n):\n",
        "    if n < 2:\n",
        "        return False\n",
        "\n",
        "    for i in range(2, int(n**0.5) + 1):\n",
        "        if n % i == 0:\n",
        "            return False\n",
        "\n",
        "    return True\n",
        "\n",
        "N = int(input())\n",
        "\n",
        "if is_prime(N):\n",
        "  print(\"YES\")\n",
        "else:\n",
        "  print(\"NO\")"
      ]
    }
  ]
}