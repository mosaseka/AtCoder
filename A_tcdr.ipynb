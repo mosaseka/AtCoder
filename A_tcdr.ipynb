{
  "nbformat": 4,
  "nbformat_minor": 0,
  "metadata": {
    "colab": {
      "provenance": [],
      "authorship_tag": "ABX9TyOz1R9ejvn3eshmpCIPngrh",
      "include_colab_link": true
    },
    "kernelspec": {
      "name": "python3",
      "display_name": "Python 3"
    },
    "language_info": {
      "name": "python"
    }
  },
  "cells": [
    {
      "cell_type": "markdown",
      "metadata": {
        "id": "view-in-github",
        "colab_type": "text"
      },
      "source": [
        "<a href=\"https://colab.research.google.com/github/mosaseka/AtCoder/blob/main/A_tcdr.ipynb\" target=\"_parent\"><img src=\"https://colab.research.google.com/assets/colab-badge.svg\" alt=\"Open In Colab\"/></a>"
      ]
    },
    {
      "cell_type": "code",
      "execution_count": null,
      "metadata": {
        "id": "CLquhTutpzWO"
      },
      "outputs": [],
      "source": [
        "S = str(input())\n",
        "ANSWER = \"\"\n",
        "SET = set([\"a\",\"e\",\"i\",\"o\",\"u\"])\n",
        "\n",
        "for i in range(len(S)):\n",
        "  if S[i] in SET:\n",
        "    pass\n",
        "  else:\n",
        "    ANSWER += S[i]\n",
        "\n",
        "print(ANSWER)"
      ]
    }
  ]
}