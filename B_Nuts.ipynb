{
  "nbformat": 4,
  "nbformat_minor": 0,
  "metadata": {
    "colab": {
      "provenance": [],
      "authorship_tag": "ABX9TyNOLVHpVJYG/tDblsEouiCE",
      "include_colab_link": true
    },
    "kernelspec": {
      "name": "python3",
      "display_name": "Python 3"
    },
    "language_info": {
      "name": "python"
    }
  },
  "cells": [
    {
      "cell_type": "markdown",
      "metadata": {
        "id": "view-in-github",
        "colab_type": "text"
      },
      "source": [
        "<a href=\"https://colab.research.google.com/github/mosaseka/AtCoder/blob/main/B_Nuts.ipynb\" target=\"_parent\"><img src=\"https://colab.research.google.com/assets/colab-badge.svg\" alt=\"Open In Colab\"/></a>"
      ]
    },
    {
      "cell_type": "code",
      "execution_count": null,
      "metadata": {
        "id": "VEbkQuFrNFVg"
      },
      "outputs": [],
      "source": [
        "N = int(input())\n",
        "A_LIST = list(map(int,input().split()))\n",
        "COUNT = 0\n",
        "\n",
        "for i in range(N):\n",
        "  if A_LIST[i] <= 10:\n",
        "    pass\n",
        "  else:\n",
        "    COUNT += A_LIST[i] - 10\n",
        "\n",
        "print(COUNT)"
      ]
    }
  ]
}