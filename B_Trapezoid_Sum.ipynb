{
  "nbformat": 4,
  "nbformat_minor": 0,
  "metadata": {
    "colab": {
      "provenance": [],
      "authorship_tag": "ABX9TyML01/5GA8W1rG9Av7wId5O",
      "include_colab_link": true
    },
    "kernelspec": {
      "name": "python3",
      "display_name": "Python 3"
    },
    "language_info": {
      "name": "python"
    }
  },
  "cells": [
    {
      "cell_type": "markdown",
      "metadata": {
        "id": "view-in-github",
        "colab_type": "text"
      },
      "source": [
        "<a href=\"https://colab.research.google.com/github/mosaseka/AtCoder/blob/main/B_Trapezoid_Sum.ipynb\" target=\"_parent\"><img src=\"https://colab.research.google.com/assets/colab-badge.svg\" alt=\"Open In Colab\"/></a>"
      ]
    },
    {
      "cell_type": "code",
      "execution_count": null,
      "metadata": {
        "id": "N4UqL_0MBLLX"
      },
      "outputs": [],
      "source": [
        "N = int(input())\n",
        "A = 0\n",
        "B = 0\n",
        "ANSWER = 0\n",
        "\n",
        "for i in range(N):\n",
        "  A,B = map(int,input().split())\n",
        "  ANSWER += B*(B+1)//2 - A*(A-1)//2\n",
        "\n",
        "print(ANSWER)"
      ]
    }
  ]
}