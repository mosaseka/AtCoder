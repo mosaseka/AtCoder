{
  "nbformat": 4,
  "nbformat_minor": 0,
  "metadata": {
    "colab": {
      "provenance": [],
      "authorship_tag": "ABX9TyPZRv/vujj6n9BIo1N7zxtm",
      "include_colab_link": true
    },
    "kernelspec": {
      "name": "python3",
      "display_name": "Python 3"
    },
    "language_info": {
      "name": "python"
    }
  },
  "cells": [
    {
      "cell_type": "markdown",
      "metadata": {
        "id": "view-in-github",
        "colab_type": "text"
      },
      "source": [
        "<a href=\"https://colab.research.google.com/github/mosaseka/AtCoder/blob/main/004_Cross_Sum%EF%BC%88%E2%98%852%EF%BC%89.ipynb\" target=\"_parent\"><img src=\"https://colab.research.google.com/assets/colab-badge.svg\" alt=\"Open In Colab\"/></a>"
      ]
    },
    {
      "cell_type": "code",
      "execution_count": null,
      "metadata": {
        "colab": {
          "base_uri": "https://localhost:8080/"
        },
        "id": "ybF2If18LD9z",
        "outputId": "a705b791-c513-401d-a2fc-7b34cca6f027"
      },
      "outputs": [
        {
          "output_type": "stream",
          "name": "stdout",
          "text": [
            "2 10\n",
            "31 41 59 26 53 58 97 93 23 84\n",
            "62 64 33 83 27 95 2 88 41 97\n",
            "627 629 598 648 592 660 567 653 606 662\n",
            "623 633 651 618 645 650 689 685 615 676\n"
          ]
        }
      ],
      "source": [
        "H,W = map(int,input().split())\n",
        "A_VECTOR = []\n",
        "ANSWER_LIST = []\n",
        "SUM_WIDE_LIST = []\n",
        "SUM_HIGH_LIST = []\n",
        "SUM_HIGH = 0\n",
        "QUE_LIST = []\n",
        "\n",
        "for i in range(H):\n",
        "  A_VECTOR.append(list(map(int,input().split())))\n",
        "\n",
        "for i in range(H):\n",
        "  SUM_WIDE_LIST.append(sum(A_VECTOR[i]))\n",
        "\n",
        "for i in range(W):\n",
        "  for j in range(H):\n",
        "    SUM_HIGH += A_VECTOR[j][i]\n",
        "  SUM_HIGH_LIST.append(SUM_HIGH)\n",
        "  SUM_HIGH = 0\n",
        "\n",
        "#print(SUM_WIDE_LIST)\n",
        "#print(SUM_HIGH_LIST)\n",
        "\n",
        "for i in range(H):\n",
        "  for j in range(W):\n",
        "    QUE_LIST.append(SUM_WIDE_LIST[i] + SUM_HIGH_LIST[j] - A_VECTOR[i][j])\n",
        "  ANSWER_LIST.append(QUE_LIST)\n",
        "  QUE_LIST = []\n",
        "\n",
        "for i in range(H):\n",
        "  print(*ANSWER_LIST[i])"
      ]
    }
  ]
}