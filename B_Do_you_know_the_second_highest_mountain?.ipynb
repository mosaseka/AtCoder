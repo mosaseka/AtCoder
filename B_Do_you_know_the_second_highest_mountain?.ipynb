{
  "nbformat": 4,
  "nbformat_minor": 0,
  "metadata": {
    "colab": {
      "provenance": [],
      "authorship_tag": "ABX9TyOSW7692tUi5C3rccgeF7VA",
      "include_colab_link": true
    },
    "kernelspec": {
      "name": "python3",
      "display_name": "Python 3"
    },
    "language_info": {
      "name": "python"
    }
  },
  "cells": [
    {
      "cell_type": "markdown",
      "metadata": {
        "id": "view-in-github",
        "colab_type": "text"
      },
      "source": [
        "<a href=\"https://colab.research.google.com/github/mosaseka/AtCoder/blob/main/B_Do_you_know_the_second_highest_mountain%3F.ipynb\" target=\"_parent\"><img src=\"https://colab.research.google.com/assets/colab-badge.svg\" alt=\"Open In Colab\"/></a>"
      ]
    },
    {
      "cell_type": "code",
      "execution_count": null,
      "metadata": {
        "id": "SAmioaHXZFXE"
      },
      "outputs": [],
      "source": [
        "N = int(input())\n",
        "ST = tuple()\n",
        "ST_LIST = []\n",
        "\n",
        "for i in range(N):\n",
        "  ST = tuple(map(str,input().split()))\n",
        "  ST_LIST.append(ST)\n",
        "\n",
        "ST_LIST.sort(reverse=True,key=lambda x: x[1])\n",
        "\n",
        "print(ST_LIST[1][0])"
      ]
    },
    {
      "cell_type": "code",
      "source": [
        "N = int(input())\n",
        "S = \"\"\n",
        "T = \"\"\n",
        "ST_LIST = []\n",
        "\n",
        "for i in range(N):\n",
        "  S,T = map(str,input().split())\n",
        "  T = int(T)\n",
        "  ST_LIST.append([S,T])\n",
        "\n",
        "ST_LIST.sort(reverse=True,key=lambda x: x[1])\n",
        "\n",
        "print(ST_LIST[1][0])"
      ],
      "metadata": {
        "id": "yyqq8w12Z7GM"
      },
      "execution_count": null,
      "outputs": []
    }
  ]
}