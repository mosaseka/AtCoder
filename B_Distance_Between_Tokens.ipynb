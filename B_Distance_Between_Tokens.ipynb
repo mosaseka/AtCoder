{
  "nbformat": 4,
  "nbformat_minor": 0,
  "metadata": {
    "colab": {
      "provenance": [],
      "authorship_tag": "ABX9TyNLmunIWo+dZpLjlsmbF4cx",
      "include_colab_link": true
    },
    "kernelspec": {
      "name": "python3",
      "display_name": "Python 3"
    },
    "language_info": {
      "name": "python"
    }
  },
  "cells": [
    {
      "cell_type": "markdown",
      "metadata": {
        "id": "view-in-github",
        "colab_type": "text"
      },
      "source": [
        "<a href=\"https://colab.research.google.com/github/mosaseka/AtCoder/blob/main/B_Distance_Between_Tokens.ipynb\" target=\"_parent\"><img src=\"https://colab.research.google.com/assets/colab-badge.svg\" alt=\"Open In Colab\"/></a>"
      ]
    },
    {
      "cell_type": "code",
      "execution_count": null,
      "metadata": {
        "id": "pMZlHVPxHoEc"
      },
      "outputs": [],
      "source": [
        "import math\n",
        "\n",
        "H,W = map(int,input().split())\n",
        "S_LIST = [list(map(str,input())) for i in range(H)]\n",
        "POINT = []\n",
        "XA = 0\n",
        "YA = 0\n",
        "XB = 0\n",
        "YB = 0\n",
        "\n",
        "for i in range(H):\n",
        "  for j in range(W):\n",
        "    if S_LIST[i][j] == \"o\":\n",
        "      POINT.append([j,i])\n",
        "\n",
        "#print(POINT)\n",
        "\n",
        "XA = POINT[0][0]\n",
        "YA = POINT[0][1]\n",
        "XB = POINT[1][0]\n",
        "YB = POINT[1][1]\n",
        "\n",
        "print(abs(XA-XB) + abs(YA-YB))"
      ]
    }
  ]
}