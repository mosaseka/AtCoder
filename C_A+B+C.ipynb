{
  "nbformat": 4,
  "nbformat_minor": 0,
  "metadata": {
    "colab": {
      "provenance": [],
      "authorship_tag": "ABX9TyMOR6VISDlvU9EhLG0mkmAd",
      "include_colab_link": true
    },
    "kernelspec": {
      "name": "python3",
      "display_name": "Python 3"
    },
    "language_info": {
      "name": "python"
    }
  },
  "cells": [
    {
      "cell_type": "markdown",
      "metadata": {
        "id": "view-in-github",
        "colab_type": "text"
      },
      "source": [
        "<a href=\"https://colab.research.google.com/github/mosaseka/AtCoder/blob/main/C_A%2BB%2BC.ipynb\" target=\"_parent\"><img src=\"https://colab.research.google.com/assets/colab-badge.svg\" alt=\"Open In Colab\"/></a>"
      ]
    },
    {
      "cell_type": "code",
      "execution_count": null,
      "metadata": {
        "id": "estKDCESKrV7"
      },
      "outputs": [],
      "source": [
        "N = int(input())\n",
        "A_LIST = list(map(int,input().split()))\n",
        "M = int(input())\n",
        "B_LIST = list(map(int,input().split()))\n",
        "L = int(input())\n",
        "C_LIST = list(map(int,input().split()))\n",
        "Q = int(input())\n",
        "X_LIST = list(map(int,input().split()))\n",
        "SET = set()\n",
        "\n",
        "for i in range(N):\n",
        "  for j in range(M):\n",
        "    for k in range(L):\n",
        "      SET.add(A_LIST[i] + B_LIST[j] + C_LIST[k])\n",
        "\n",
        "for i in range(Q):\n",
        "  if X_LIST[i] in SET:\n",
        "    print(\"Yes\")\n",
        "  else:\n",
        "    print(\"No\")"
      ]
    }
  ]
}