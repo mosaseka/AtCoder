{
  "nbformat": 4,
  "nbformat_minor": 0,
  "metadata": {
    "colab": {
      "provenance": [],
      "authorship_tag": "ABX9TyOqxflY0silz61szrFASmYp",
      "include_colab_link": true
    },
    "kernelspec": {
      "name": "python3",
      "display_name": "Python 3"
    },
    "language_info": {
      "name": "python"
    }
  },
  "cells": [
    {
      "cell_type": "markdown",
      "metadata": {
        "id": "view-in-github",
        "colab_type": "text"
      },
      "source": [
        "<a href=\"https://colab.research.google.com/github/mosaseka/AtCoder/blob/main/B_%E3%83%AC.ipynb\" target=\"_parent\"><img src=\"https://colab.research.google.com/assets/colab-badge.svg\" alt=\"Open In Colab\"/></a>"
      ]
    },
    {
      "cell_type": "code",
      "execution_count": null,
      "metadata": {
        "colab": {
          "base_uri": "https://localhost:8080/"
        },
        "id": "HyE7XBkNXWff",
        "outputId": "3983bcc7-b8f4-40d3-d36e-f5258f43f485"
      },
      "outputs": [
        {
          "output_type": "stream",
          "name": "stdout",
          "text": [
            "5 3\n",
            "1 3 4\n",
            "2 1 5 4 3\n"
          ]
        }
      ],
      "source": [
        "N,M = map(int,input().split())\n",
        "A_LIST = list(map(int,input().split()))\n",
        "READING_LIST = []\n",
        "QUE_LIST = []\n",
        "\n",
        "for i in range(N):\n",
        "  QUE_LIST.append(i+1)\n",
        "  if i+1 in A_LIST:\n",
        "    pass\n",
        "  else:\n",
        "    READING_LIST.extend(reversed(QUE_LIST))\n",
        "    QUE_LIST = []\n",
        "\n",
        "print(*READING_LIST)"
      ]
    }
  ]
}