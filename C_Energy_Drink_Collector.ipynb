{
  "nbformat": 4,
  "nbformat_minor": 0,
  "metadata": {
    "colab": {
      "provenance": [],
      "authorship_tag": "ABX9TyPRPvpFYdCXb8KNXbtTSeeH",
      "include_colab_link": true
    },
    "kernelspec": {
      "name": "python3",
      "display_name": "Python 3"
    },
    "language_info": {
      "name": "python"
    }
  },
  "cells": [
    {
      "cell_type": "markdown",
      "metadata": {
        "id": "view-in-github",
        "colab_type": "text"
      },
      "source": [
        "<a href=\"https://colab.research.google.com/github/mosaseka/AtCoder/blob/main/C_Energy_Drink_Collector.ipynb\" target=\"_parent\"><img src=\"https://colab.research.google.com/assets/colab-badge.svg\" alt=\"Open In Colab\"/></a>"
      ]
    },
    {
      "cell_type": "code",
      "execution_count": null,
      "metadata": {
        "colab": {
          "base_uri": "https://localhost:8080/"
        },
        "id": "Q64iMCd04ojd",
        "outputId": "d45ea832-cd43-4649-9e1f-023e286fe5bd"
      },
      "outputs": [
        {
          "output_type": "stream",
          "name": "stdout",
          "text": [
            "2 5\n",
            "4 9\n",
            "2 4\n",
            "12\n"
          ]
        }
      ],
      "source": [
        "N,M = map(int,input().split())\n",
        "AB_LIST = []\n",
        "A = 0\n",
        "B = 0\n",
        "ANSWER = 0\n",
        "\n",
        "for i in range(N):\n",
        "  AB_LIST.append(list(map(int,input().split())))\n",
        "\n",
        "AB_LIST.sort(key=lambda x:x[1])\n",
        "#print(AB_LIST)\n",
        "\n",
        "while M > 0:\n",
        "  if M - AB_LIST[0][1] >= 0:\n",
        "    ANSWER += AB_LIST[0][0] * AB_LIST[0][1]\n",
        "    M -= AB_LIST[0][1]\n",
        "    AB_LIST.pop(0)\n",
        "  else:\n",
        "    while M != 0:\n",
        "      ANSWER += AB_LIST[0][0]\n",
        "      AB_LIST[0][1] -= 1\n",
        "      M -= 1\n",
        "\n",
        "print(ANSWER)"
      ]
    },
    {
      "cell_type": "code",
      "source": [
        "N,M = map(int,input().split())\n",
        "AB_LIST = []\n",
        "A = 0\n",
        "B = 0\n",
        "ANSWER = 0\n",
        "\n",
        "for i in range(N):\n",
        "  AB_LIST.append(list(map(int,input().split())))\n",
        "\n",
        "AB_LIST.sort(key=lambda x:x[0])\n",
        "#print(AB_LIST)\n",
        "\n",
        "for i in range(N):\n",
        "  ANSWER += AB_LIST[0][0] * AB_LIST[0][1]\n",
        "  M -= AB_LIST[0][1]\n",
        "  if M < 0:\n",
        "    break\n",
        "  else:\n",
        "    AB_LIST.pop(0)\n",
        "\n",
        "while M < 0:\n",
        "  M += 1\n",
        "  ANSWER -= AB_LIST[0][0]\n",
        "\n",
        "print(ANSWER)"
      ],
      "metadata": {
        "colab": {
          "base_uri": "https://localhost:8080/"
        },
        "id": "ZSgUQuII8m-V",
        "outputId": "ef841959-ecfd-419c-8933-3d27a071977d"
      },
      "execution_count": null,
      "outputs": [
        {
          "output_type": "stream",
          "name": "stdout",
          "text": [
            "2 5\n",
            "4 9\n",
            "2 4\n",
            "12\n"
          ]
        }
      ]
    }
  ]
}