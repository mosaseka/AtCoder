{
  "nbformat": 4,
  "nbformat_minor": 0,
  "metadata": {
    "colab": {
      "provenance": [],
      "authorship_tag": "ABX9TyOW1vZlX3jh9FNiW7Y/U/D+",
      "include_colab_link": true
    },
    "kernelspec": {
      "name": "python3",
      "display_name": "Python 3"
    },
    "language_info": {
      "name": "python"
    }
  },
  "cells": [
    {
      "cell_type": "markdown",
      "metadata": {
        "id": "view-in-github",
        "colab_type": "text"
      },
      "source": [
        "<a href=\"https://colab.research.google.com/github/mosaseka/AtCoder/blob/main/C_Together.ipynb\" target=\"_parent\"><img src=\"https://colab.research.google.com/assets/colab-badge.svg\" alt=\"Open In Colab\"/></a>"
      ]
    },
    {
      "cell_type": "code",
      "execution_count": null,
      "metadata": {
        "id": "Atx3lN68Wdr6"
      },
      "outputs": [],
      "source": [
        "N = int(input())\n",
        "A_LIST = list(map(int,input().split()))\n",
        "ANSWER_LIST = []\n",
        "COUNT = 0\n",
        "\n",
        "for i in range(min(A_LIST)-1,max(A_LIST)+1):\n",
        "  COUNT = 0\n",
        "  COUNT += A_LIST.count(i-1)\n",
        "  COUNT += A_LIST.count(i)\n",
        "  COUNT += A_LIST.count(i+1)\n",
        "  ANSWER_LIST.append(COUNT)\n",
        "\n",
        "print(max(ANSWER_LIST))"
      ]
    },
    {
      "cell_type": "code",
      "source": [
        "N = int(input())\n",
        "A_LIST = list(map(int,input().split()))\n",
        "ANSWER_SET = set()\n",
        "COUNT = 0\n",
        "\n",
        "A_LIST.sort()\n",
        "\n",
        "for i in range(min(A_LIST)-1,max(A_LIST)+1):\n",
        "  COUNT = 0\n",
        "  COUNT += A_LIST.count(i-1)\n",
        "  COUNT += A_LIST.count(i)\n",
        "  COUNT += A_LIST.count(i+1)\n",
        "  if COUNT not in ANSWER_SET:\n",
        "    ANSWER_SET.add(COUNT)\n",
        "\n",
        "print(max(ANSWER_SET))"
      ],
      "metadata": {
        "id": "vKWRcAw-ZhxQ"
      },
      "execution_count": null,
      "outputs": []
    },
    {
      "cell_type": "code",
      "source": [
        "N = int(input())\n",
        "A_LIST = list(map(int,input().split()))\n",
        "ANSWER_LIST = [0 for i in range((2*10)**5 + 1)]\n",
        "COUNT = 0\n",
        "\n",
        "for i in range(N):\n",
        "  ANSWER_LIST[A_LIST[i]-1] += 1\n",
        "  ANSWER_LIST[A_LIST[i]] += 1\n",
        "  ANSWER_LIST[A_LIST[i]+1] += 1\n",
        "\n",
        "print(max(ANSWER_LIST))"
      ],
      "metadata": {
        "id": "588dieOLd8U4"
      },
      "execution_count": null,
      "outputs": []
    }
  ]
}