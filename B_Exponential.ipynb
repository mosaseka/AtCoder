{
  "nbformat": 4,
  "nbformat_minor": 0,
  "metadata": {
    "colab": {
      "provenance": [],
      "authorship_tag": "ABX9TyN8Jzk95ZpAqiTSSZKnnW0M",
      "include_colab_link": true
    },
    "kernelspec": {
      "name": "python3",
      "display_name": "Python 3"
    },
    "language_info": {
      "name": "python"
    }
  },
  "cells": [
    {
      "cell_type": "markdown",
      "metadata": {
        "id": "view-in-github",
        "colab_type": "text"
      },
      "source": [
        "<a href=\"https://colab.research.google.com/github/mosaseka/AtCoder/blob/main/B_Exponential.ipynb\" target=\"_parent\"><img src=\"https://colab.research.google.com/assets/colab-badge.svg\" alt=\"Open In Colab\"/></a>"
      ]
    },
    {
      "cell_type": "code",
      "execution_count": null,
      "metadata": {
        "colab": {
          "base_uri": "https://localhost:8080/"
        },
        "id": "auz12kIC4EEY",
        "outputId": "c200fc00-2d97-49fd-8cc3-54d90bf737a8"
      },
      "outputs": [
        {
          "output_type": "stream",
          "name": "stdout",
          "text": [
            "999\n",
            "961\n"
          ]
        }
      ],
      "source": [
        "import math\n",
        "\n",
        "X = int(input())\n",
        "\n",
        "while X != 1:\n",
        "  if math.sqrt(X) == int(math.sqrt(X)):\n",
        "    break\n",
        "  else:\n",
        "    X -= 1\n",
        "\n",
        "print(X)"
      ]
    },
    {
      "cell_type": "code",
      "source": [
        "X = int(input())\n",
        "ANSWER = 1\n",
        "\n",
        "for i in range(X):\n",
        "  for j in range(2,11):\n",
        "    if (i+1) ** j <= X and ANSWER < (i+1) ** j:\n",
        "      ANSWER = (i+1) ** j\n",
        "\n",
        "print(ANSWER)"
      ],
      "metadata": {
        "colab": {
          "base_uri": "https://localhost:8080/"
        },
        "id": "IAcLpoBn57X7",
        "outputId": "871a80c3-3e6f-4ad9-a3ae-a48ca1347fea"
      },
      "execution_count": null,
      "outputs": [
        {
          "output_type": "stream",
          "name": "stdout",
          "text": [
            "999\n",
            "961\n"
          ]
        }
      ]
    }
  ]
}