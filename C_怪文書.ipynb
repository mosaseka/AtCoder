{
  "nbformat": 4,
  "nbformat_minor": 0,
  "metadata": {
    "colab": {
      "provenance": [],
      "authorship_tag": "ABX9TyMOyWe5Lu0b2abCSlEfmHek",
      "include_colab_link": true
    },
    "kernelspec": {
      "name": "python3",
      "display_name": "Python 3"
    },
    "language_info": {
      "name": "python"
    }
  },
  "cells": [
    {
      "cell_type": "markdown",
      "metadata": {
        "id": "view-in-github",
        "colab_type": "text"
      },
      "source": [
        "<a href=\"https://colab.research.google.com/github/mosaseka/AtCoder/blob/main/C_%E6%80%AA%E6%96%87%E6%9B%B8.ipynb\" target=\"_parent\"><img src=\"https://colab.research.google.com/assets/colab-badge.svg\" alt=\"Open In Colab\"/></a>"
      ]
    },
    {
      "cell_type": "code",
      "execution_count": null,
      "metadata": {
        "id": "ASrImEtjjctV"
      },
      "outputs": [],
      "source": [
        "import collections\n",
        "\n",
        "N = int(input())\n",
        "COUNT_LIST = [[] for i in range(26)]\n",
        "S = \"\"\n",
        "S_COUNT = []\n",
        "INDEX = 0\n",
        "ANSWER = \"\"\n",
        "\n",
        "for i in range(N):\n",
        "  S = str(input()) + \"qwertyuiopasdfghjklzxcvbnm\"\n",
        "  S_COUNT = list(collections.Counter(S).items())\n",
        "  #print(S_COUNT)\n",
        "  for j in range(len(S_COUNT)):\n",
        "    INDEX = ord(S_COUNT[j][0]) - 97\n",
        "    COUNT_LIST[INDEX].append(S_COUNT[j][1]-1)\n",
        "\n",
        "#print(COUNT_LIST)\n",
        "\n",
        "for i in range(len(COUNT_LIST)):\n",
        "  for j in range(min(COUNT_LIST[i])):\n",
        "    ANSWER += chr(i+97)\n",
        "\n",
        "print(ANSWER)"
      ]
    }
  ]
}