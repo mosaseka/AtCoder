{
  "nbformat": 4,
  "nbformat_minor": 0,
  "metadata": {
    "colab": {
      "provenance": [],
      "authorship_tag": "ABX9TyNzQ+Li64PzaVL4hgHSjyOO",
      "include_colab_link": true
    },
    "kernelspec": {
      "name": "python3",
      "display_name": "Python 3"
    },
    "language_info": {
      "name": "python"
    }
  },
  "cells": [
    {
      "cell_type": "markdown",
      "metadata": {
        "id": "view-in-github",
        "colab_type": "text"
      },
      "source": [
        "<a href=\"https://colab.research.google.com/github/mosaseka/AtCoder/blob/main/C_GeT_AC.ipynb\" target=\"_parent\"><img src=\"https://colab.research.google.com/assets/colab-badge.svg\" alt=\"Open In Colab\"/></a>"
      ]
    },
    {
      "cell_type": "code",
      "execution_count": null,
      "metadata": {
        "id": "Ps3PE1hI4W83"
      },
      "outputs": [],
      "source": [
        "N,Q = map(int,input().split())\n",
        "S = str(input())\n",
        "L = 0\n",
        "R = 0\n",
        "CHECK = \"\"\n",
        "\n",
        "for i in range(Q):\n",
        "  L,R = map(int,input().split())\n",
        "  CHECK = S[L-1:R]\n",
        "  #print(CHECK)\n",
        "  print(CHECK.count(\"AC\"))"
      ]
    },
    {
      "cell_type": "code",
      "source": [
        "N,Q = map(int,input().split())\n",
        "S = str(input())\n",
        "L = 0\n",
        "R = 0\n",
        "CHECK_LIST = [0 for i in range(N+1)]\n",
        "\n",
        "for i in range(N):\n",
        "  if S[i:i+2] == \"AC\":\n",
        "    CHECK_LIST[i+1] = CHECK_LIST[i] + 1\n",
        "  else:\n",
        "    CHECK_LIST[i+1] = CHECK_LIST[i]\n",
        "\n",
        "for i in range(Q):\n",
        "  L,R = map(int,input().split())\n",
        "  print(CHECK_LIST[R-1] - CHECK_LIST[L-1])"
      ],
      "metadata": {
        "id": "5lz3RAvF6vPB"
      },
      "execution_count": null,
      "outputs": []
    }
  ]
}