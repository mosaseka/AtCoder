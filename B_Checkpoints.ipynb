{
  "nbformat": 4,
  "nbformat_minor": 0,
  "metadata": {
    "colab": {
      "provenance": [],
      "authorship_tag": "ABX9TyMok02EPVPH31sh3rjdlOdj",
      "include_colab_link": true
    },
    "kernelspec": {
      "name": "python3",
      "display_name": "Python 3"
    },
    "language_info": {
      "name": "python"
    }
  },
  "cells": [
    {
      "cell_type": "markdown",
      "metadata": {
        "id": "view-in-github",
        "colab_type": "text"
      },
      "source": [
        "<a href=\"https://colab.research.google.com/github/mosaseka/AtCoder/blob/main/B_Checkpoints.ipynb\" target=\"_parent\"><img src=\"https://colab.research.google.com/assets/colab-badge.svg\" alt=\"Open In Colab\"/></a>"
      ]
    },
    {
      "cell_type": "code",
      "execution_count": null,
      "metadata": {
        "id": "MWQ9gVSyfw0O"
      },
      "outputs": [],
      "source": [
        "N,M = map(int,input().split())\n",
        "STUDENT_LIST = [list(map(int,input().split())) for i in range(N)]\n",
        "CHECKPOINT_LIST = [list(map(int,input().split())) for i in range(M)]\n",
        "ANSWER_LIST = []\n",
        "DISTANCE = 0\n",
        "\n",
        "for i in range(N):\n",
        "  ANSWER_LIST = []\n",
        "  for j in range(M):\n",
        "    DISTANCE = 0\n",
        "    DISTANCE += abs(STUDENT_LIST[i][0] - CHECKPOINT_LIST[j][0])\n",
        "    DISTANCE += abs(STUDENT_LIST[i][1] - CHECKPOINT_LIST[j][1])\n",
        "    ANSWER_LIST.append(DISTANCE)\n",
        "  print(ANSWER_LIST.index(min(ANSWER_LIST))+1)"
      ]
    }
  ]
}