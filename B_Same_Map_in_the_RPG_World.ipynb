{
  "nbformat": 4,
  "nbformat_minor": 0,
  "metadata": {
    "colab": {
      "provenance": [],
      "authorship_tag": "ABX9TyMypwDql41i8082/12pVjpD",
      "include_colab_link": true
    },
    "kernelspec": {
      "name": "python3",
      "display_name": "Python 3"
    },
    "language_info": {
      "name": "python"
    }
  },
  "cells": [
    {
      "cell_type": "markdown",
      "metadata": {
        "id": "view-in-github",
        "colab_type": "text"
      },
      "source": [
        "<a href=\"https://colab.research.google.com/github/mosaseka/AtCoder/blob/main/B_Same_Map_in_the_RPG_World.ipynb\" target=\"_parent\"><img src=\"https://colab.research.google.com/assets/colab-badge.svg\" alt=\"Open In Colab\"/></a>"
      ]
    },
    {
      "cell_type": "code",
      "execution_count": null,
      "metadata": {
        "id": "Iyt_j0Fx5Kza"
      },
      "outputs": [],
      "source": [
        "H,W = map(int,input().split())\n",
        "A_LIST = [list(map(str,input())) for i in range(H)]\n",
        "B_LIST = [list(map(str,input())) for i in range(H)]\n",
        "CHECK_LIST = []\n",
        "\n",
        "CHECK_LIST = A_LIST.copy()\n",
        "#print(CHECK_LIST)\n",
        "\n",
        "for i in range(H):\n",
        "  CHECK_LIST.append(CHECK_LIST[0])\n",
        "  CHECK_LIST.pop(0)\n",
        "  if CHECK_LIST == B_LIST:\n",
        "    print(\"Yes\")\n",
        "    exit()\n",
        "  for j in range(W):\n",
        "    for k in range(H):\n",
        "      CHECK_LIST[k].append(CHECK_LIST[k][0])\n",
        "      CHECK_LIST[k].pop(0)\n",
        "    if CHECK_LIST == B_LIST:\n",
        "      print(\"Yes\")\n",
        "      exit()\n",
        "\n",
        "print(\"No\")"
      ]
    }
  ]
}