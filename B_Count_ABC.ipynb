{
  "nbformat": 4,
  "nbformat_minor": 0,
  "metadata": {
    "colab": {
      "provenance": [],
      "authorship_tag": "ABX9TyMGVvwtrnH+XcIwjv0FZx0q",
      "include_colab_link": true
    },
    "kernelspec": {
      "name": "python3",
      "display_name": "Python 3"
    },
    "language_info": {
      "name": "python"
    }
  },
  "cells": [
    {
      "cell_type": "markdown",
      "metadata": {
        "id": "view-in-github",
        "colab_type": "text"
      },
      "source": [
        "<a href=\"https://colab.research.google.com/github/mosaseka/AtCoder/blob/main/B_Count_ABC.ipynb\" target=\"_parent\"><img src=\"https://colab.research.google.com/assets/colab-badge.svg\" alt=\"Open In Colab\"/></a>"
      ]
    },
    {
      "cell_type": "code",
      "execution_count": null,
      "metadata": {
        "id": "Tua8jXH23LO1"
      },
      "outputs": [],
      "source": [
        "N = int(input())\n",
        "S = str(input())\n",
        "Box_list = list(S)\n",
        "ABC = [\"A\",\"B\",\"C\"]\n",
        "Checker_list = []\n",
        "count = 0\n",
        "for i in range(N-2):\n",
        "  Checker_list.append(Box_list[i])\n",
        "  Checker_list.append(Box_list[i + 1])\n",
        "  Checker_list.append(Box_list[i + 2])\n",
        "  if Checker_list == ABC:\n",
        "    count += 1\n",
        "  Checker_list = []\n",
        "print(count)"
      ]
    }
  ]
}