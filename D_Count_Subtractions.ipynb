{
  "nbformat": 4,
  "nbformat_minor": 0,
  "metadata": {
    "colab": {
      "provenance": [],
      "authorship_tag": "ABX9TyMUWN0AFaY5msmd7KYgGded",
      "include_colab_link": true
    },
    "kernelspec": {
      "name": "python3",
      "display_name": "Python 3"
    },
    "language_info": {
      "name": "python"
    }
  },
  "cells": [
    {
      "cell_type": "markdown",
      "metadata": {
        "id": "view-in-github",
        "colab_type": "text"
      },
      "source": [
        "<a href=\"https://colab.research.google.com/github/mosaseka/AtCoder/blob/main/D_Count_Subtractions.ipynb\" target=\"_parent\"><img src=\"https://colab.research.google.com/assets/colab-badge.svg\" alt=\"Open In Colab\"/></a>"
      ]
    },
    {
      "cell_type": "code",
      "execution_count": null,
      "metadata": {
        "colab": {
          "base_uri": "https://localhost:8080/"
        },
        "id": "fWNgDvlM972z",
        "outputId": "56553273-6930-4adb-a9a3-18e0f58ffe3e"
      },
      "outputs": [
        {
          "output_type": "stream",
          "name": "stdout",
          "text": [
            "1234567890 1234567890\n",
            "0\n"
          ]
        }
      ],
      "source": [
        "A,B = map(int,input().split())\n",
        "COUNT = 0\n",
        "\n",
        "while A != B:\n",
        "  COUNT += 1\n",
        "  if A > B:\n",
        "    A = A - B\n",
        "  else:\n",
        "    B = B - A\n",
        "\n",
        "print(COUNT)"
      ]
    },
    {
      "cell_type": "markdown",
      "source": [
        "次のコードを高速化してください。\n",
        "\n",
        "A,B = map(int,input().split())\n",
        "COUNT = 0\n",
        "\n",
        "while A != B:\n",
        "  COUNT += 1\n",
        "  if A > B:\n",
        "    A = A - B\n",
        "  else:\n",
        "    B = B - A\n",
        "\n",
        "print(COUNT)"
      ],
      "metadata": {
        "id": "YTbEishmM5Jm"
      }
    },
    {
      "cell_type": "code",
      "source": [
        "def gcd_count(a, b):\n",
        "    count = 0\n",
        "    while b != 0:\n",
        "        a, b = b, a % b\n",
        "        count += 1\n",
        "    return count\n",
        "\n",
        "A,B = map(int,input().split())\n",
        "print(gcd_count(A,B))"
      ],
      "metadata": {
        "colab": {
          "base_uri": "https://localhost:8080/"
        },
        "id": "z6qbIXNe_-Ts",
        "outputId": "9e5c9926-a872-4eec-c214-ebef0a333623"
      },
      "execution_count": null,
      "outputs": [
        {
          "output_type": "stream",
          "name": "stdout",
          "text": [
            "1597 987\n",
            "15\n"
          ]
        }
      ]
    },
    {
      "cell_type": "code",
      "source": [
        "A,B = map(int,input().split())\n",
        "COUNT = 0\n",
        "\n",
        "while A != 0 and B != 0:\n",
        "  COUNT += abs(A//B)\n",
        "  A,B = B,A%B\n",
        "\n",
        "print(COUNT-1)"
      ],
      "metadata": {
        "id": "52iV5dJzNGF9"
      },
      "execution_count": null,
      "outputs": []
    }
  ]
}