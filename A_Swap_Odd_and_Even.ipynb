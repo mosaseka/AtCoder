{
  "nbformat": 4,
  "nbformat_minor": 0,
  "metadata": {
    "colab": {
      "provenance": [],
      "authorship_tag": "ABX9TyNtN/JNhg76OScg2nuV7LK+",
      "include_colab_link": true
    },
    "kernelspec": {
      "name": "python3",
      "display_name": "Python 3"
    },
    "language_info": {
      "name": "python"
    }
  },
  "cells": [
    {
      "cell_type": "markdown",
      "metadata": {
        "id": "view-in-github",
        "colab_type": "text"
      },
      "source": [
        "<a href=\"https://colab.research.google.com/github/mosaseka/AtCoder/blob/main/A_Swap_Odd_and_Even.ipynb\" target=\"_parent\"><img src=\"https://colab.research.google.com/assets/colab-badge.svg\" alt=\"Open In Colab\"/></a>"
      ]
    },
    {
      "cell_type": "code",
      "execution_count": null,
      "metadata": {
        "colab": {
          "base_uri": "https://localhost:8080/"
        },
        "id": "Lf5ync9KYPuh",
        "outputId": "27703d7d-fb7c-4cc3-80c3-28327aab64ee"
      },
      "outputs": [
        {
          "output_type": "stream",
          "name": "stdout",
          "text": [
            "abcdef\n",
            "badcfe\n"
          ]
        }
      ],
      "source": [
        "S = list(map(str,input()))\n",
        "ANSWER_LIST = \"\"\n",
        "\n",
        "for i in range(len(S)//2):\n",
        "  ANSWER_LIST += S[1]\n",
        "  ANSWER_LIST += S[0]\n",
        "  S.pop(0)\n",
        "  S.pop(0)\n",
        "\n",
        "print(ANSWER_LIST)"
      ]
    }
  ]
}