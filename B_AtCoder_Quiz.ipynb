{
  "nbformat": 4,
  "nbformat_minor": 0,
  "metadata": {
    "colab": {
      "provenance": [],
      "authorship_tag": "ABX9TyOgTlGmx+4Bnqj3Ly6FzNN+",
      "include_colab_link": true
    },
    "kernelspec": {
      "name": "python3",
      "display_name": "Python 3"
    },
    "language_info": {
      "name": "python"
    }
  },
  "cells": [
    {
      "cell_type": "markdown",
      "metadata": {
        "id": "view-in-github",
        "colab_type": "text"
      },
      "source": [
        "<a href=\"https://colab.research.google.com/github/mosaseka/AtCoder/blob/main/B_AtCoder_Quiz.ipynb\" target=\"_parent\"><img src=\"https://colab.research.google.com/assets/colab-badge.svg\" alt=\"Open In Colab\"/></a>"
      ]
    },
    {
      "cell_type": "code",
      "execution_count": null,
      "metadata": {
        "id": "DAwAfiKVSvXg"
      },
      "outputs": [],
      "source": [
        "LIST = [\"ABC\",\"ARC\",\"AGC\",\"AHC\"]\n",
        "S = \"\"\n",
        "\n",
        "for i in range(3):\n",
        "  S = str(input())\n",
        "  LIST.remove(S)\n",
        "\n",
        "print(LIST[0])"
      ]
    }
  ]
}