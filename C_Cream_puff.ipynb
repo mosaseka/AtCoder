{
  "nbformat": 4,
  "nbformat_minor": 0,
  "metadata": {
    "colab": {
      "provenance": [],
      "authorship_tag": "ABX9TyM4N6YeZcPolPnkIq3mpAu1",
      "include_colab_link": true
    },
    "kernelspec": {
      "name": "python3",
      "display_name": "Python 3"
    },
    "language_info": {
      "name": "python"
    }
  },
  "cells": [
    {
      "cell_type": "markdown",
      "metadata": {
        "id": "view-in-github",
        "colab_type": "text"
      },
      "source": [
        "<a href=\"https://colab.research.google.com/github/mosaseka/AtCoder/blob/main/C_Cream_puff.ipynb\" target=\"_parent\"><img src=\"https://colab.research.google.com/assets/colab-badge.svg\" alt=\"Open In Colab\"/></a>"
      ]
    },
    {
      "cell_type": "code",
      "execution_count": null,
      "metadata": {
        "id": "RXdhYFU8TSSr"
      },
      "outputs": [],
      "source": [
        "def make_divisors(n):\n",
        "    lower_divisors , upper_divisors = [], []\n",
        "    i = 1\n",
        "    while i*i <= n:\n",
        "        if n % i == 0:\n",
        "            lower_divisors.append(i)\n",
        "            if i != n // i:\n",
        "                upper_divisors.append(n//i)\n",
        "        i += 1\n",
        "    return lower_divisors + upper_divisors[::-1]\n",
        "\n",
        "N = int(input())\n",
        "\n",
        "ANSWER = make_divisors(N)\n",
        "\n",
        "for i in range(len(ANSWER)):\n",
        "  print(ANSWER[i])"
      ]
    }
  ]
}