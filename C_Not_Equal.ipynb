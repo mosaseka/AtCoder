{
  "nbformat": 4,
  "nbformat_minor": 0,
  "metadata": {
    "colab": {
      "provenance": [],
      "authorship_tag": "ABX9TyM4dhrAz2mfBZ4Ws9bQhKcO",
      "include_colab_link": true
    },
    "kernelspec": {
      "name": "python3",
      "display_name": "Python 3"
    },
    "language_info": {
      "name": "python"
    }
  },
  "cells": [
    {
      "cell_type": "markdown",
      "metadata": {
        "id": "view-in-github",
        "colab_type": "text"
      },
      "source": [
        "<a href=\"https://colab.research.google.com/github/mosaseka/AtCoder/blob/main/C_Not_Equal.ipynb\" target=\"_parent\"><img src=\"https://colab.research.google.com/assets/colab-badge.svg\" alt=\"Open In Colab\"/></a>"
      ]
    },
    {
      "cell_type": "code",
      "execution_count": null,
      "metadata": {
        "id": "vfT95BYDGMcN"
      },
      "outputs": [],
      "source": [
        "N = int(input())\n",
        "C_LIST = list(map(int,input().split()))\n",
        "NEW_LIST = list(set(C_LIST))\n",
        "DELTA = len(C_LIST) - len(NEW_LIST)\n",
        "ANSWER = 0\n",
        "\n",
        "for i in range(len(NEW_LIST)):\n",
        "  ANSWER += NEW_LIST[i] - 1\n",
        "\n",
        "ANSWER *= DELTA\n",
        "\n",
        "print(ANSWER % ((10**9)+7))"
      ]
    },
    {
      "cell_type": "code",
      "source": [
        "from collections import Counter\n",
        "import math\n",
        "\n",
        "N = int(input())\n",
        "C_LIST = list(map(int,input().split()))\n",
        "C_COUNT = list(Counter(C_LIST).items())\n",
        "DELTA = N - len(C_COUNT)\n",
        "ANSWER = 0\n",
        "\n",
        "print(C_COUNT)\n",
        "\n",
        "for i in range(len(C_COUNT)):\n",
        "  ANSWER += math.perm(C_COUNT[i][0]-1,C_COUNT[i][1]+1)\n",
        "\n",
        "ANSWER *= DELTA\n",
        "\n",
        "print(ANSWER % ((10**9)+7))"
      ],
      "metadata": {
        "id": "PxogRCkEHSBR"
      },
      "execution_count": null,
      "outputs": []
    },
    {
      "cell_type": "code",
      "source": [
        "N = int(input())\n",
        "C_LIST = list(map(int,input().split()))\n",
        "ANSWER = 1\n",
        "CHECK = 0\n",
        "\n",
        "C_LIST.sort()\n",
        "\n",
        "for i in range(N):\n",
        "  ANSWER = (ANSWER * max(0,C_LIST[i]-i)) % 1000000007\n",
        "\n",
        "print(ANSWER)"
      ],
      "metadata": {
        "id": "DCj46MDIIp8M"
      },
      "execution_count": null,
      "outputs": []
    }
  ]
}