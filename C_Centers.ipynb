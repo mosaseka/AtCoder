{
  "nbformat": 4,
  "nbformat_minor": 0,
  "metadata": {
    "colab": {
      "provenance": [],
      "authorship_tag": "ABX9TyMeTyK+vHQfYbrYXE6OR2Yv",
      "include_colab_link": true
    },
    "kernelspec": {
      "name": "python3",
      "display_name": "Python 3"
    },
    "language_info": {
      "name": "python"
    }
  },
  "cells": [
    {
      "cell_type": "markdown",
      "metadata": {
        "id": "view-in-github",
        "colab_type": "text"
      },
      "source": [
        "<a href=\"https://colab.research.google.com/github/mosaseka/AtCoder/blob/main/C_Centers.ipynb\" target=\"_parent\"><img src=\"https://colab.research.google.com/assets/colab-badge.svg\" alt=\"Open In Colab\"/></a>"
      ]
    },
    {
      "cell_type": "code",
      "execution_count": null,
      "metadata": {
        "id": "zJtM8YMBPju1"
      },
      "outputs": [],
      "source": [
        "from collections import deque\n",
        "\n",
        "N = int(input())\n",
        "A_LIST = list(map(int,input().split()))\n",
        "CHECK_LIST = deque()\n",
        "ANSWER_LIST = [0 for i in range(N)]\n",
        "\n",
        "for i in range(len(A_LIST)):\n",
        "  A_LIST[i] = [A_LIST[i],i+1]\n",
        "\n",
        "A_LIST.sort()\n",
        "#print(A_LIST)\n",
        "\n",
        "for i in range(N):\n",
        "  CHECK_LIST.append(A_LIST[(3*(i+1))-2][1])\n",
        "#print(ANSWER_LIST)\n",
        "\n",
        "for i in range(len(CHECK_LIST)):\n",
        "  CHECK_LIST[i] = [CHECK_LIST[i],i+1]\n",
        "\n",
        "CHECK_LIST = sorted(CHECK_LIST)\n",
        "#print(CHECK_LIST)\n",
        "\n",
        "for i in range(len(CHECK_LIST)):\n",
        "  ANSWER_LIST[i] = CHECK_LIST[i][1]\n",
        "\n",
        "print(*ANSWER_LIST)"
      ]
    }
  ]
}