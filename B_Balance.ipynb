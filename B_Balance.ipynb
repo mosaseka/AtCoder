{
  "nbformat": 4,
  "nbformat_minor": 0,
  "metadata": {
    "colab": {
      "provenance": [],
      "authorship_tag": "ABX9TyNGGe7LhiUzCPxN65Vk7Tiq",
      "include_colab_link": true
    },
    "kernelspec": {
      "name": "python3",
      "display_name": "Python 3"
    },
    "language_info": {
      "name": "python"
    }
  },
  "cells": [
    {
      "cell_type": "markdown",
      "metadata": {
        "id": "view-in-github",
        "colab_type": "text"
      },
      "source": [
        "<a href=\"https://colab.research.google.com/github/mosaseka/AtCoder/blob/main/B_Balance.ipynb\" target=\"_parent\"><img src=\"https://colab.research.google.com/assets/colab-badge.svg\" alt=\"Open In Colab\"/></a>"
      ]
    },
    {
      "cell_type": "code",
      "execution_count": null,
      "metadata": {
        "id": "gpRChSqcGG3t"
      },
      "outputs": [],
      "source": [
        "N = int(input())\n",
        "W_LIST = list(map(int,input().split()))\n",
        "ANSWER_LIST = []\n",
        "CHECK = 0\n",
        "\n",
        "for i in range(N-1):\n",
        "  ANSWER_LIST.append(abs(sum(W_LIST[:i+1]) - sum(W_LIST[i+1:])))\n",
        "\n",
        "print(min(ANSWER_LIST))"
      ]
    }
  ]
}