{
  "nbformat": 4,
  "nbformat_minor": 0,
  "metadata": {
    "colab": {
      "provenance": [],
      "authorship_tag": "ABX9TyMzIDr/g5Ku0qEKzS7f3h2s",
      "include_colab_link": true
    },
    "kernelspec": {
      "name": "python3",
      "display_name": "Python 3"
    },
    "language_info": {
      "name": "python"
    }
  },
  "cells": [
    {
      "cell_type": "markdown",
      "metadata": {
        "id": "view-in-github",
        "colab_type": "text"
      },
      "source": [
        "<a href=\"https://colab.research.google.com/github/mosaseka/AtCoder/blob/main/A_Grouping.ipynb\" target=\"_parent\"><img src=\"https://colab.research.google.com/assets/colab-badge.svg\" alt=\"Open In Colab\"/></a>"
      ]
    },
    {
      "cell_type": "code",
      "execution_count": null,
      "metadata": {
        "id": "wT1wP287ZRmb"
      },
      "outputs": [],
      "source": [
        "X,Y = map(int,input().split())\n",
        "A_LIST = [1,3,5,7,8,10,12]\n",
        "B_LIST = [4,6,9,11]\n",
        "C_LIST = [2]\n",
        "\n",
        "if X in A_LIST and Y in A_LIST:\n",
        "  print(\"Yes\")\n",
        "elif X in B_LIST and Y in B_LIST:\n",
        "  print(\"Yes\")\n",
        "elif X in C_LIST and Y in C_LIST:\n",
        "  print(\"Yes\")\n",
        "else:\n",
        "  print(\"No\")"
      ]
    }
  ]
}