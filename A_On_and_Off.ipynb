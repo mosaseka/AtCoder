{
  "nbformat": 4,
  "nbformat_minor": 0,
  "metadata": {
    "colab": {
      "provenance": [],
      "authorship_tag": "ABX9TyNH1ojQafmGiVY0CxJFUWdA",
      "include_colab_link": true
    },
    "kernelspec": {
      "name": "python3",
      "display_name": "Python 3"
    },
    "language_info": {
      "name": "python"
    }
  },
  "cells": [
    {
      "cell_type": "markdown",
      "metadata": {
        "id": "view-in-github",
        "colab_type": "text"
      },
      "source": [
        "<a href=\"https://colab.research.google.com/github/mosaseka/AtCoder/blob/main/A_On_and_Off.ipynb\" target=\"_parent\"><img src=\"https://colab.research.google.com/assets/colab-badge.svg\" alt=\"Open In Colab\"/></a>"
      ]
    },
    {
      "cell_type": "code",
      "execution_count": null,
      "metadata": {
        "id": "Xir-_hliIY_-"
      },
      "outputs": [],
      "source": [
        "S,T,X = map(int,input().split())\n",
        "\n",
        "if S > T:\n",
        "  T += 24\n",
        "\n",
        "if S <= X and X < T:\n",
        "  print(\"Yes\")\n",
        "else:\n",
        "  print(\"No\")"
      ]
    },
    {
      "cell_type": "code",
      "source": [
        "S,T,X = map(int,input().split())\n",
        "\n",
        "if S < T:\n",
        "  if S <= X and X < T:\n",
        "    print(\"Yes\")\n",
        "  else:\n",
        "    print(\"No\")\n",
        "else:\n",
        "  if X < T or S <= X:\n",
        "    print(\"Yes\")\n",
        "  else:\n",
        "    print(\"No\")"
      ],
      "metadata": {
        "id": "dcUGnWWNJB_T"
      },
      "execution_count": null,
      "outputs": []
    }
  ]
}