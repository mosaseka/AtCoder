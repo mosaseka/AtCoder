{
  "nbformat": 4,
  "nbformat_minor": 0,
  "metadata": {
    "colab": {
      "provenance": [],
      "authorship_tag": "ABX9TyPy6xNLhC6VhqmMAqbRLw+V",
      "include_colab_link": true
    },
    "kernelspec": {
      "name": "python3",
      "display_name": "Python 3"
    },
    "language_info": {
      "name": "python"
    }
  },
  "cells": [
    {
      "cell_type": "markdown",
      "metadata": {
        "id": "view-in-github",
        "colab_type": "text"
      },
      "source": [
        "<a href=\"https://colab.research.google.com/github/mosaseka/AtCoder/blob/main/A_Double_Click.ipynb\" target=\"_parent\"><img src=\"https://colab.research.google.com/assets/colab-badge.svg\" alt=\"Open In Colab\"/></a>"
      ]
    },
    {
      "cell_type": "code",
      "execution_count": null,
      "metadata": {
        "id": "LB_XODRMj-2n"
      },
      "outputs": [],
      "source": [
        "N,D = map(int,input().split())\n",
        "T_LIST = list(map(int,input().split()))\n",
        "ANSWER = -1\n",
        "\n",
        "for i in range(N-1):\n",
        "  if T_LIST[i+1] - T_LIST[i] <= D:\n",
        "    ANSWER = T_LIST[i+1]\n",
        "    break\n",
        "\n",
        "print(ANSWER)"
      ]
    }
  ]
}