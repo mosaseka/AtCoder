{
  "nbformat": 4,
  "nbformat_minor": 0,
  "metadata": {
    "colab": {
      "provenance": [],
      "authorship_tag": "ABX9TyPV6EdFPzv/5q0OJ50qYHKe",
      "include_colab_link": true
    },
    "kernelspec": {
      "name": "python3",
      "display_name": "Python 3"
    },
    "language_info": {
      "name": "python"
    }
  },
  "cells": [
    {
      "cell_type": "markdown",
      "metadata": {
        "id": "view-in-github",
        "colab_type": "text"
      },
      "source": [
        "<a href=\"https://colab.research.google.com/github/mosaseka/AtCoder/blob/main/C_Made_Up.ipynb\" target=\"_parent\"><img src=\"https://colab.research.google.com/assets/colab-badge.svg\" alt=\"Open In Colab\"/></a>"
      ]
    },
    {
      "cell_type": "code",
      "execution_count": null,
      "metadata": {
        "id": "1LPr6FGEvT4_"
      },
      "outputs": [],
      "source": [
        "from collections import defaultdict\n",
        "\n",
        "N = int(input())\n",
        "A_LIST = list(map(int,input().split()))\n",
        "B_LIST = list(map(int,input().split()))\n",
        "C_LIST = list(map(int,input().split()))\n",
        "COUNT = defaultdict(lambda:0)\n",
        "ANSWER = 0\n",
        "\n",
        "for i in range(N):\n",
        "  COUNT[A_LIST[i]] += 1\n",
        "\n",
        "#print(COUNT)\n",
        "\n",
        "for i in range(N):\n",
        "  ANSWER += COUNT[B_LIST[C_LIST[i]-1]]\n",
        "\n",
        "print(ANSWER)"
      ]
    }
  ]
}