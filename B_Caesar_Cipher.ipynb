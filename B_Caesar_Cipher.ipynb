{
  "nbformat": 4,
  "nbformat_minor": 0,
  "metadata": {
    "colab": {
      "provenance": [],
      "authorship_tag": "ABX9TyOBv7ld9BIrrJtYgznL4TUA",
      "include_colab_link": true
    },
    "kernelspec": {
      "name": "python3",
      "display_name": "Python 3"
    },
    "language_info": {
      "name": "python"
    }
  },
  "cells": [
    {
      "cell_type": "markdown",
      "metadata": {
        "id": "view-in-github",
        "colab_type": "text"
      },
      "source": [
        "<a href=\"https://colab.research.google.com/github/mosaseka/AtCoder/blob/main/B_Caesar_Cipher.ipynb\" target=\"_parent\"><img src=\"https://colab.research.google.com/assets/colab-badge.svg\" alt=\"Open In Colab\"/></a>"
      ]
    },
    {
      "cell_type": "code",
      "execution_count": null,
      "metadata": {
        "id": "IgfsGxiq9IKc"
      },
      "outputs": [],
      "source": [
        "def caesar(strInputText, intKey):\n",
        "    strResultList = []\n",
        "    for char in strInputText:\n",
        "        if (ord(char) + intKey) <= ord('z'):\n",
        "            strResultList.append(chr(ord(char) + intKey))\n",
        "        else:\n",
        "            strResultList.append(chr((ord('a') - 1) + (ord(char) + intKey - ord('z'))))\n",
        "\n",
        "    return(''.join(strResultList))\n",
        "\n",
        "S = str(input())\n",
        "T = str(input())\n",
        "\n",
        "for i in range(1,27):\n",
        "  if caesar(S,i) == T:\n",
        "    print(\"Yes\")\n",
        "    exit()\n",
        "\n",
        "print(\"No\")"
      ]
    }
  ]
}