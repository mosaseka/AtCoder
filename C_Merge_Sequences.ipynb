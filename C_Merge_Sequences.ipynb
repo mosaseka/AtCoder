{
  "nbformat": 4,
  "nbformat_minor": 0,
  "metadata": {
    "colab": {
      "provenance": [],
      "authorship_tag": "ABX9TyNDKWOhvMqtdcoBBv6ubNO/",
      "include_colab_link": true
    },
    "kernelspec": {
      "name": "python3",
      "display_name": "Python 3"
    },
    "language_info": {
      "name": "python"
    }
  },
  "cells": [
    {
      "cell_type": "markdown",
      "metadata": {
        "id": "view-in-github",
        "colab_type": "text"
      },
      "source": [
        "<a href=\"https://colab.research.google.com/github/mosaseka/AtCoder/blob/main/C_Merge_Sequences.ipynb\" target=\"_parent\"><img src=\"https://colab.research.google.com/assets/colab-badge.svg\" alt=\"Open In Colab\"/></a>"
      ]
    },
    {
      "cell_type": "code",
      "execution_count": null,
      "metadata": {
        "id": "rJ3wrcQjxWxh"
      },
      "outputs": [],
      "source": [
        "N,M = map(int,input().split())\n",
        "A_LIST = list(map(int,input().split()))\n",
        "B_LIST = list(map(int,input().split()))\n",
        "C_LIST = []\n",
        "ANSWER_LIST = []\n",
        "\n",
        "C_LIST = A_LIST + B_LIST\n",
        "C_LIST.sort()\n",
        "\n",
        "for i in range(N):\n",
        "  ANSWER_LIST.append(C_LIST.index(A_LIST[i])+1)\n",
        "\n",
        "print(*ANSWER_LIST)\n",
        "ANSWER_LIST = []\n",
        "\n",
        "for i in range(M):\n",
        "  ANSWER_LIST.append(C_LIST.index(B_LIST[i])+1)\n",
        "\n",
        "print(*ANSWER_LIST)"
      ]
    },
    {
      "cell_type": "code",
      "source": [
        "N,M = map(int,input().split())\n",
        "A_LIST = list(map(int,input().split()))\n",
        "B_LIST = list(map(int,input().split()))\n",
        "C_LIST = []\n",
        "INDEX_A  = []\n",
        "INDEX_B = []\n",
        "\n",
        "C_LIST = A_LIST + B_LIST\n",
        "C_LIST.sort()\n",
        "\n",
        "INDEX_A = [0] * N\n",
        "INDEX_B = [0] * M\n",
        "\n",
        "for i in range(N):\n",
        "  INDEX_A[i] = C_LIST.index(A_LIST[i])\n",
        "  INDEX_A[i] += 1\n",
        "\n",
        "for i in range(M):\n",
        "  INDEX_B[i] = C_LIST.index(B_LIST[i])\n",
        "  INDEX_B[i] += 1\n",
        "\n",
        "print(*INDEX_A)\n",
        "print(*INDEX_B)"
      ],
      "metadata": {
        "id": "OuzStFjuz3GG"
      },
      "execution_count": null,
      "outputs": []
    },
    {
      "cell_type": "code",
      "source": [
        "from bisect import bisect_left\n",
        "\n",
        "N,M = map(int,input().split())\n",
        "A_LIST = list(map(int,input().split()))\n",
        "B_LIST = list(map(int,input().split()))\n",
        "C_LIST = []\n",
        "INDEX_A = []\n",
        "INDEX_B = []\n",
        "\n",
        "C_LIST = sorted(A_LIST + B_LIST)\n",
        "\n",
        "for i in range(N):\n",
        "  INDEX_A.append(bisect_left(C_LIST,A_LIST[i]) + 1)\n",
        "\n",
        "for i in range(M):\n",
        "  INDEX_B.append(bisect_left(C_LIST,B_LIST[i]) + 1)\n",
        "\n",
        "print(*INDEX_A)\n",
        "print(*INDEX_B)"
      ],
      "metadata": {
        "id": "0fvCwoNo5Kj0"
      },
      "execution_count": null,
      "outputs": []
    }
  ]
}