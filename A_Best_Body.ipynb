{
  "nbformat": 4,
  "nbformat_minor": 0,
  "metadata": {
    "colab": {
      "provenance": [],
      "authorship_tag": "ABX9TyMGFhZ3TopTHTutjvAWWj/d",
      "include_colab_link": true
    },
    "kernelspec": {
      "name": "python3",
      "display_name": "Python 3"
    },
    "language_info": {
      "name": "python"
    }
  },
  "cells": [
    {
      "cell_type": "markdown",
      "metadata": {
        "id": "view-in-github",
        "colab_type": "text"
      },
      "source": [
        "<a href=\"https://colab.research.google.com/github/mosaseka/AtCoder/blob/main/A_Best_Body.ipynb\" target=\"_parent\"><img src=\"https://colab.research.google.com/assets/colab-badge.svg\" alt=\"Open In Colab\"/></a>"
      ]
    },
    {
      "cell_type": "code",
      "execution_count": null,
      "metadata": {
        "id": "QcGqL5aP8_LI"
      },
      "outputs": [],
      "source": [
        "N,S,T = map(int,input().split())\n",
        "W = int(input())\n",
        "COUNT = 0\n",
        "\n",
        "for i in range(N):\n",
        "  if i == 0:\n",
        "    A = 0\n",
        "  else:\n",
        "    A = int(input())\n",
        "  W = W + A\n",
        "  if S <= W and W <= T:\n",
        "    COUNT = COUNT + 1\n",
        "\n",
        "print(COUNT)"
      ]
    }
  ]
}