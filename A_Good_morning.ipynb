{
  "nbformat": 4,
  "nbformat_minor": 0,
  "metadata": {
    "colab": {
      "provenance": [],
      "authorship_tag": "ABX9TyOhfJUhfRqucHB5TTXAmLgL",
      "include_colab_link": true
    },
    "kernelspec": {
      "name": "python3",
      "display_name": "Python 3"
    },
    "language_info": {
      "name": "python"
    }
  },
  "cells": [
    {
      "cell_type": "markdown",
      "metadata": {
        "id": "view-in-github",
        "colab_type": "text"
      },
      "source": [
        "<a href=\"https://colab.research.google.com/github/mosaseka/AtCoder/blob/main/A_Good_morning.ipynb\" target=\"_parent\"><img src=\"https://colab.research.google.com/assets/colab-badge.svg\" alt=\"Open In Colab\"/></a>"
      ]
    },
    {
      "cell_type": "code",
      "execution_count": null,
      "metadata": {
        "id": "Iv4xSFyln8MB"
      },
      "outputs": [],
      "source": [
        "A,B,C,D = map(int,input().split())\n",
        "\n",
        "if A == C:\n",
        "  if C > D:\n",
        "    print(\"Aoki\")\n",
        "  else:\n",
        "    print(\"Takahashi\")\n",
        "else:\n",
        "  if A > C:\n",
        "    print(\"Aoki\")\n",
        "  else:\n",
        "    print(\"Takahashi\")"
      ]
    },
    {
      "cell_type": "code",
      "source": [
        "A,B,C,D = map(int,input().split())\n",
        "\n",
        "if A < C:\n",
        "  print(\"Takahashi\")\n",
        "elif A > C:\n",
        "  print(\"Aoki\")\n",
        "else:\n",
        "  if B <= D:\n",
        "    print(\"Takahashi\")\n",
        "  else:\n",
        "    print(\"Aoki\")"
      ],
      "metadata": {
        "id": "hL8jmoKio0cZ"
      },
      "execution_count": null,
      "outputs": []
    }
  ]
}