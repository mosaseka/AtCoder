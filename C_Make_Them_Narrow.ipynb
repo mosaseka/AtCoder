{
  "nbformat": 4,
  "nbformat_minor": 0,
  "metadata": {
    "colab": {
      "provenance": [],
      "authorship_tag": "ABX9TyN+gLf4XnOtFzlaBHOVIFCl",
      "include_colab_link": true
    },
    "kernelspec": {
      "name": "python3",
      "display_name": "Python 3"
    },
    "language_info": {
      "name": "python"
    }
  },
  "cells": [
    {
      "cell_type": "markdown",
      "metadata": {
        "id": "view-in-github",
        "colab_type": "text"
      },
      "source": [
        "<a href=\"https://colab.research.google.com/github/mosaseka/AtCoder/blob/main/C_Make_Them_Narrow.ipynb\" target=\"_parent\"><img src=\"https://colab.research.google.com/assets/colab-badge.svg\" alt=\"Open In Colab\"/></a>"
      ]
    },
    {
      "cell_type": "code",
      "execution_count": null,
      "metadata": {
        "id": "9zJUZArJfEC2"
      },
      "outputs": [],
      "source": [
        "N,K = map(int,input().split())\n",
        "A_LIST = list(map(int,input().split()))\n",
        "ANSWER = 10**9\n",
        "\n",
        "A_LIST.sort()\n",
        "\n",
        "for i in range(K+1):\n",
        "  ANSWER = min(ANSWER,A_LIST[i+N-K-1] - A_LIST[i])\n",
        "\n",
        "print(ANSWER)"
      ]
    }
  ]
}