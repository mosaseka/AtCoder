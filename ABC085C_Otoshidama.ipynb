{
  "nbformat": 4,
  "nbformat_minor": 0,
  "metadata": {
    "colab": {
      "provenance": [],
      "authorship_tag": "ABX9TyN+qvJuu0itWg5pst+yX5OX",
      "include_colab_link": true
    },
    "kernelspec": {
      "name": "python3",
      "display_name": "Python 3"
    },
    "language_info": {
      "name": "python"
    }
  },
  "cells": [
    {
      "cell_type": "markdown",
      "metadata": {
        "id": "view-in-github",
        "colab_type": "text"
      },
      "source": [
        "<a href=\"https://colab.research.google.com/github/mosaseka/AtCoder/blob/main/ABC085C_Otoshidama.ipynb\" target=\"_parent\"><img src=\"https://colab.research.google.com/assets/colab-badge.svg\" alt=\"Open In Colab\"/></a>"
      ]
    },
    {
      "cell_type": "code",
      "execution_count": null,
      "metadata": {
        "id": "2tDwxVS2I5Xb"
      },
      "outputs": [],
      "source": [
        "LIST = list(map(int,input().split()))\n",
        "N = LIST[0]\n",
        "Y = LIST[1]\n",
        "FLAG  = False\n",
        "\n",
        "for i in range(N + 1):\n",
        "  if FLAG == True:\n",
        "    break\n",
        "  for j in range(N - i + 1):\n",
        "    k = (Y - 10000*i - 5000*j)//1000\n",
        "    if k >= 0 and i + j + k == N:\n",
        "      print(i,j,k)\n",
        "      FLAG = True\n",
        "      break\n",
        "\n",
        "if FLAG == False:\n",
        "  print(-1,-1,-1)"
      ]
    }
  ]
}