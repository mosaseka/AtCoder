{
  "nbformat": 4,
  "nbformat_minor": 0,
  "metadata": {
    "colab": {
      "provenance": [],
      "authorship_tag": "ABX9TyP97l8gni47Jbv6/xHZ0cyt",
      "include_colab_link": true
    },
    "kernelspec": {
      "name": "python3",
      "display_name": "Python 3"
    },
    "language_info": {
      "name": "python"
    }
  },
  "cells": [
    {
      "cell_type": "markdown",
      "metadata": {
        "id": "view-in-github",
        "colab_type": "text"
      },
      "source": [
        "<a href=\"https://colab.research.google.com/github/mosaseka/AtCoder/blob/main/C_abc285_brutmhyhiizp.ipynb\" target=\"_parent\"><img src=\"https://colab.research.google.com/assets/colab-badge.svg\" alt=\"Open In Colab\"/></a>"
      ]
    },
    {
      "cell_type": "code",
      "execution_count": null,
      "metadata": {
        "colab": {
          "base_uri": "https://localhost:8080/"
        },
        "id": "yQStccS2DT3R",
        "outputId": "10bac3ff-3f5e-4dca-ed94-86f783860828"
      },
      "outputs": [
        {
          "output_type": "stream",
          "name": "stdout",
          "text": [
            "AB\n",
            "28\n"
          ]
        }
      ],
      "source": [
        "S = str(input())\n",
        "S_LENGTH = len(S)\n",
        "ANSWER = 0\n",
        "\n",
        "for i in range(len(S)):\n",
        "  ANSWER = ANSWER + (26**i) * (ord(S[-(i+1)])-64)\n",
        "\n",
        "print(ANSWER)"
      ]
    }
  ]
}