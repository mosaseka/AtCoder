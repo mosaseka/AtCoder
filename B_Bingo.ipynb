{
  "nbformat": 4,
  "nbformat_minor": 0,
  "metadata": {
    "colab": {
      "provenance": [],
      "authorship_tag": "ABX9TyPBOuvnne4BxBFdFcNnWtk+",
      "include_colab_link": true
    },
    "kernelspec": {
      "name": "python3",
      "display_name": "Python 3"
    },
    "language_info": {
      "name": "python"
    }
  },
  "cells": [
    {
      "cell_type": "markdown",
      "metadata": {
        "id": "view-in-github",
        "colab_type": "text"
      },
      "source": [
        "<a href=\"https://colab.research.google.com/github/mosaseka/AtCoder/blob/main/B_Bingo.ipynb\" target=\"_parent\"><img src=\"https://colab.research.google.com/assets/colab-badge.svg\" alt=\"Open In Colab\"/></a>"
      ]
    },
    {
      "cell_type": "code",
      "execution_count": null,
      "metadata": {
        "colab": {
          "base_uri": "https://localhost:8080/"
        },
        "id": "Sde-69ehPneE",
        "outputId": "e9ae051a-2cdb-4108-d362-3cbbe4a4f17a"
      },
      "outputs": [
        {
          "output_type": "stream",
          "name": "stdout",
          "text": [
            "84 97 66\n",
            "79 89 11\n",
            "61 59 7\n",
            "7\n",
            "89\n",
            "7\n",
            "87\n",
            "79\n",
            "24\n",
            "84\n",
            "30\n",
            "Yes\n"
          ]
        }
      ],
      "source": [
        "BINGO_A = list(map(int,input().split()))\n",
        "BINGO_B = list(map(int,input().split()))\n",
        "BINGO_C = list(map(int,input().split()))\n",
        "\n",
        "B_LIST = []\n",
        "FLAG = False\n",
        "\n",
        "N = int(input())\n",
        "for i in range(N):\n",
        "  B_LIST.append(int(input()))\n",
        "\n",
        "for i in range(3):\n",
        "  if BINGO_A[i] in B_LIST:\n",
        "    BINGO_A[i] = 0\n",
        "  if BINGO_B[i] in B_LIST:\n",
        "    BINGO_B[i] = 0\n",
        "  if BINGO_C[i] in B_LIST:\n",
        "   BINGO_C[i] = 0\n",
        "\n",
        "if sum(BINGO_A) == 0 or sum(BINGO_B) == 0 or sum(BINGO_C) == 0:\n",
        "  FLAG = True\n",
        "\n",
        "elif BINGO_A[0] + BINGO_B[1] + BINGO_C[2] == 0:\n",
        "  FLAG = True\n",
        "\n",
        "elif BINGO_A[2] + BINGO_B[1] + BINGO_C[0] == 0:\n",
        "  FLAG = True\n",
        "\n",
        "else:\n",
        "  for i in range(3):\n",
        "    if BINGO_A[i] + BINGO_B[i] + BINGO_C[i] == 0:\n",
        "      FLAG = True\n",
        "      break\n",
        "\n",
        "if FLAG:\n",
        "  print(\"Yes\")\n",
        "else:\n",
        "  print(\"No\")"
      ]
    }
  ]
}