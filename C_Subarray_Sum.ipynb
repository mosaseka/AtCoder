{
  "nbformat": 4,
  "nbformat_minor": 0,
  "metadata": {
    "colab": {
      "provenance": [],
      "authorship_tag": "ABX9TyNb2QXgxOd/b37djXs3hk+a",
      "include_colab_link": true
    },
    "kernelspec": {
      "name": "python3",
      "display_name": "Python 3"
    },
    "language_info": {
      "name": "python"
    }
  },
  "cells": [
    {
      "cell_type": "markdown",
      "metadata": {
        "id": "view-in-github",
        "colab_type": "text"
      },
      "source": [
        "<a href=\"https://colab.research.google.com/github/mosaseka/AtCoder/blob/main/C_Subarray_Sum.ipynb\" target=\"_parent\"><img src=\"https://colab.research.google.com/assets/colab-badge.svg\" alt=\"Open In Colab\"/></a>"
      ]
    },
    {
      "cell_type": "code",
      "execution_count": null,
      "metadata": {
        "colab": {
          "base_uri": "https://localhost:8080/"
        },
        "id": "6jdpGZmxy1Za",
        "outputId": "6f62affa-0698-4e41-faa7-d3da7a204647"
      },
      "outputs": [
        {
          "output_type": "stream",
          "name": "stdout",
          "text": [
            "4 2 1000000000\n",
            "1000000000 1000000000 1 1\n"
          ]
        }
      ],
      "source": [
        "N,K,S = map(int,input().split())\n",
        "ANSWER_LIST = []\n",
        "\n",
        "if S == 10**9:\n",
        "  ANSWER_LIST = [S for i in range(K)] + [1 for i in range(N-K)]\n",
        "else:\n",
        "  ANSWER_LIST = [S for i in range(K)] + [S + 1 for i in range(N-K)]\n",
        "\n",
        "print(*ANSWER_LIST)"
      ]
    }
  ]
}