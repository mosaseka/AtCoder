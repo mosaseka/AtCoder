{
  "nbformat": 4,
  "nbformat_minor": 0,
  "metadata": {
    "colab": {
      "provenance": [],
      "authorship_tag": "ABX9TyNDTNgBRhSc0189nMxgabjv",
      "include_colab_link": true
    },
    "kernelspec": {
      "name": "python3",
      "display_name": "Python 3"
    },
    "language_info": {
      "name": "python"
    }
  },
  "cells": [
    {
      "cell_type": "markdown",
      "metadata": {
        "id": "view-in-github",
        "colab_type": "text"
      },
      "source": [
        "<a href=\"https://colab.research.google.com/github/mosaseka/AtCoder/blob/main/C_One_More_aab_aba_baa.ipynb\" target=\"_parent\"><img src=\"https://colab.research.google.com/assets/colab-badge.svg\" alt=\"Open In Colab\"/></a>"
      ]
    },
    {
      "cell_type": "code",
      "execution_count": null,
      "metadata": {
        "id": "UQMEE-Qa9QF9"
      },
      "outputs": [],
      "source": [
        "import itertools\n",
        "\n",
        "S,K = map(str,input().split())\n",
        "S = list(map(str,S))\n",
        "K = int(K)\n",
        "S_PERM = list(itertools.permutations(S))\n",
        "ANSWER = \"\"\n",
        "CHECK = ()\n",
        "\n",
        "S_PERM = list(set(S_PERM))\n",
        "S_PERM.sort()\n",
        "CHECK = S_PERM[K-1]\n",
        "#print(S_PERM)\n",
        "\n",
        "for i in range(len(CHECK)):\n",
        "  ANSWER += CHECK[i]\n",
        "\n",
        "print(ANSWER)"
      ]
    }
  ]
}