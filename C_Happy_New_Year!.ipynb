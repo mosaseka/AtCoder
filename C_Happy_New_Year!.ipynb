{
  "nbformat": 4,
  "nbformat_minor": 0,
  "metadata": {
    "colab": {
      "provenance": [],
      "authorship_tag": "ABX9TyOE+/2usirN+LYE/nvlgvmE",
      "include_colab_link": true
    },
    "kernelspec": {
      "name": "python3",
      "display_name": "Python 3"
    },
    "language_info": {
      "name": "python"
    }
  },
  "cells": [
    {
      "cell_type": "markdown",
      "metadata": {
        "id": "view-in-github",
        "colab_type": "text"
      },
      "source": [
        "<a href=\"https://colab.research.google.com/github/mosaseka/AtCoder/blob/main/C_Happy_New_Year!.ipynb\" target=\"_parent\"><img src=\"https://colab.research.google.com/assets/colab-badge.svg\" alt=\"Open In Colab\"/></a>"
      ]
    },
    {
      "cell_type": "code",
      "execution_count": null,
      "metadata": {
        "id": "xz8FKo2l6-7I"
      },
      "outputs": [],
      "source": [
        "K = int(input())\n",
        "CHECK = str(bin(K))\n",
        "ANSWER = \"\"\n",
        "\n",
        "for i in range(len(CHECK)):\n",
        "  if CHECK[i] == \"1\":\n",
        "    ANSWER += \"2\"\n",
        "  else:\n",
        "    ANSWER += \"0\"\n",
        "\n",
        "print(int(ANSWER))"
      ]
    }
  ]
}