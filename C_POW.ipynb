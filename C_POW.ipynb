{
  "nbformat": 4,
  "nbformat_minor": 0,
  "metadata": {
    "colab": {
      "provenance": [],
      "authorship_tag": "ABX9TyPaqam89YBxdlJOmQVwJrLE",
      "include_colab_link": true
    },
    "kernelspec": {
      "name": "python3",
      "display_name": "Python 3"
    },
    "language_info": {
      "name": "python"
    }
  },
  "cells": [
    {
      "cell_type": "markdown",
      "metadata": {
        "id": "view-in-github",
        "colab_type": "text"
      },
      "source": [
        "<a href=\"https://colab.research.google.com/github/mosaseka/AtCoder/blob/main/C_POW.ipynb\" target=\"_parent\"><img src=\"https://colab.research.google.com/assets/colab-badge.svg\" alt=\"Open In Colab\"/></a>"
      ]
    },
    {
      "cell_type": "code",
      "execution_count": null,
      "metadata": {
        "id": "QxBzus5xt_HR"
      },
      "outputs": [],
      "source": [
        "A,B,C = map(int,input().split())\n",
        "\n",
        "if A**C < B**C:\n",
        "  print(\"<\")\n",
        "elif A**C == B**C:\n",
        "  print(\"=\")\n",
        "else:\n",
        "  print(\">\")"
      ]
    },
    {
      "cell_type": "code",
      "source": [
        "A,B,C = map(int,input().split())\n",
        "\n",
        "if C%2 == 0:\n",
        "  if abs(A) > abs(B):\n",
        "    print(\">\")\n",
        "  elif abs(A) == abs(B):\n",
        "    print(\"=\")\n",
        "  else:\n",
        "    print(\"<\")\n",
        "else:\n",
        "  if A > B:\n",
        "    print(\">\")\n",
        "  elif A == B:\n",
        "    print(\"=\")\n",
        "  else:\n",
        "    print(\"<\")"
      ],
      "metadata": {
        "id": "O4H959bHvIvH"
      },
      "execution_count": null,
      "outputs": []
    }
  ]
}