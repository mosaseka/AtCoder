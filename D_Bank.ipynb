{
  "nbformat": 4,
  "nbformat_minor": 0,
  "metadata": {
    "colab": {
      "provenance": [],
      "authorship_tag": "ABX9TyNr+vpJRP3R+yxVogRO2wxD",
      "include_colab_link": true
    },
    "kernelspec": {
      "name": "python3",
      "display_name": "Python 3"
    },
    "language_info": {
      "name": "python"
    }
  },
  "cells": [
    {
      "cell_type": "markdown",
      "metadata": {
        "id": "view-in-github",
        "colab_type": "text"
      },
      "source": [
        "<a href=\"https://colab.research.google.com/github/mosaseka/AtCoder/blob/main/D_Bank.ipynb\" target=\"_parent\"><img src=\"https://colab.research.google.com/assets/colab-badge.svg\" alt=\"Open In Colab\"/></a>"
      ]
    },
    {
      "cell_type": "code",
      "execution_count": null,
      "metadata": {
        "id": "jB8-71-m1XWW"
      },
      "outputs": [],
      "source": [
        "N,Q = map(int,input().split())\n",
        "EVENT_LIST = []\n",
        "CALL_LIST = []\n",
        "COUNT = 1\n",
        "\n",
        "for i in range(Q):\n",
        "  EVENT_LIST = list(map(str,input().split()))\n",
        "  if EVENT_LIST[0] == \"1\":\n",
        "    CALL_LIST.append(COUNT)\n",
        "    COUNT += 1\n",
        "  elif EVENT_LIST[0] == \"2\":\n",
        "    CALL_LIST.remove(int(EVENT_LIST[1]))\n",
        "  elif EVENT_LIST[0] == \"3\":\n",
        "    print(min(CALL_LIST))"
      ]
    },
    {
      "cell_type": "code",
      "source": [
        "N,Q = map(int,input().split())\n",
        "EVENT_LIST = []\n",
        "CALL_LIST = []\n",
        "COUNT = 1\n",
        "\n",
        "for i in range(Q):\n",
        "  EVENT_LIST = list(map(str,input().split()))\n",
        "  if EVENT_LIST[0] == \"1\":\n",
        "    CALL_LIST.append(COUNT)\n",
        "    COUNT += 1\n",
        "  elif EVENT_LIST[0] == \"2\":\n",
        "    CALL_LIST.remove(int(EVENT_LIST[1]))\n",
        "  elif EVENT_LIST[0] == \"3\":\n",
        "    print(CALL_LIST[0])"
      ],
      "metadata": {
        "id": "07vGR8PV70kB"
      },
      "execution_count": null,
      "outputs": []
    },
    {
      "cell_type": "code",
      "source": [
        "import numpy as np\n",
        "\n",
        "N,Q = map(int,input().split())\n",
        "EVENT_LIST = []\n",
        "CALL_LIST = []\n",
        "COUNT = 1\n",
        "REMOVE = 0\n",
        "NP_LIST = []\n",
        "\n",
        "for i in range(Q):\n",
        "  EVENT_LIST = list(map(str,input().split()))\n",
        "  if EVENT_LIST[0] == \"1\":\n",
        "    CALL_LIST.append(COUNT)\n",
        "    COUNT += 1\n",
        "  elif EVENT_LIST[0] == \"2\":\n",
        "    REMOVE = int(EVENT_LIST[1])\n",
        "    NP_LIST = np.array(CALL_LIST)\n",
        "    NP_LIST = NP_LIST[NP_LIST != REMOVE]\n",
        "    CALL_LIST = list(NP_LIST)\n",
        "  elif EVENT_LIST[0] == \"3\":\n",
        "    print(CALL_LIST[0])"
      ],
      "metadata": {
        "id": "Vt0txP6I9qcu"
      },
      "execution_count": null,
      "outputs": []
    },
    {
      "cell_type": "code",
      "source": [
        "N,Q = map(int,input().split())\n",
        "EVENT_LIST = []\n",
        "CALL_LIST = []\n",
        "COUNT = 1\n",
        "\n",
        "for i in range(Q):\n",
        "  EVENT_LIST = list(map(str,input().split()))\n",
        "  if EVENT_LIST[0] == \"1\":\n",
        "    CALL_LIST.append(COUNT)\n",
        "    COUNT += 1\n",
        "  elif EVENT_LIST[0] == \"2\":\n",
        "    CALL_LIST.pop(CALL_LIST.index(int(EVENT_LIST[1])))\n",
        "  elif EVENT_LIST[0] == \"3\":\n",
        "    print(CALL_LIST[0])"
      ],
      "metadata": {
        "id": "DpvhGlgRFj6l"
      },
      "execution_count": null,
      "outputs": []
    },
    {
      "cell_type": "code",
      "source": [
        "N,Q = map(int,input().split())\n",
        "EVENT_LIST = []\n",
        "GONE_SET = set()\n",
        "COUNT = 1\n",
        "\n",
        "for i in range(Q):\n",
        "  EVENT_LIST = list(map(str,input().split()))\n",
        "  if EVENT_LIST[0] == \"1\":\n",
        "    continue\n",
        "  elif EVENT_LIST[0] == \"2\":\n",
        "    GONE_SET.add(int(EVENT_LIST[1]))\n",
        "  elif EVENT_LIST[0] == \"3\":\n",
        "    while True:\n",
        "      if COUNT not in GONE_SET:\n",
        "        print(COUNT)\n",
        "        break\n",
        "      else:\n",
        "        COUNT += 1"
      ],
      "metadata": {
        "id": "rlF-UZ07f5o5"
      },
      "execution_count": null,
      "outputs": []
    }
  ]
}