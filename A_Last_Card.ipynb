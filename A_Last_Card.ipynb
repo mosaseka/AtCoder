{
  "nbformat": 4,
  "nbformat_minor": 0,
  "metadata": {
    "colab": {
      "provenance": [],
      "authorship_tag": "ABX9TyN/u99CiZQ9y+VJtFto6H+F",
      "include_colab_link": true
    },
    "kernelspec": {
      "name": "python3",
      "display_name": "Python 3"
    },
    "language_info": {
      "name": "python"
    }
  },
  "cells": [
    {
      "cell_type": "markdown",
      "metadata": {
        "id": "view-in-github",
        "colab_type": "text"
      },
      "source": [
        "<a href=\"https://colab.research.google.com/github/mosaseka/AtCoder/blob/main/A_Last_Card.ipynb\" target=\"_parent\"><img src=\"https://colab.research.google.com/assets/colab-badge.svg\" alt=\"Open In Colab\"/></a>"
      ]
    },
    {
      "cell_type": "code",
      "execution_count": null,
      "metadata": {
        "id": "hdCYFzwyUSaL"
      },
      "outputs": [],
      "source": [
        "N,K,A = map(int,input().split())\n",
        "ANSWER = 0\n",
        "\n",
        "ANSWER = (A+K-1) % N\n",
        "\n",
        "if ANSWER == 0:\n",
        "  print(N)\n",
        "else:\n",
        "  print(ANSWER)"
      ]
    }
  ]
}