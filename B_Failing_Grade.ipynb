{
  "nbformat": 4,
  "nbformat_minor": 0,
  "metadata": {
    "colab": {
      "provenance": [],
      "authorship_tag": "ABX9TyMGNqg1vSwkX+rVBsErfq2d",
      "include_colab_link": true
    },
    "kernelspec": {
      "name": "python3",
      "display_name": "Python 3"
    },
    "language_info": {
      "name": "python"
    }
  },
  "cells": [
    {
      "cell_type": "markdown",
      "metadata": {
        "id": "view-in-github",
        "colab_type": "text"
      },
      "source": [
        "<a href=\"https://colab.research.google.com/github/mosaseka/AtCoder/blob/main/B_Failing_Grade.ipynb\" target=\"_parent\"><img src=\"https://colab.research.google.com/assets/colab-badge.svg\" alt=\"Open In Colab\"/></a>"
      ]
    },
    {
      "cell_type": "code",
      "execution_count": null,
      "metadata": {
        "id": "i90Bb8hEKPVL"
      },
      "outputs": [],
      "source": [
        "N,P = map(int,input().split())\n",
        "A_LIST = list(map(int,input().split()))\n",
        "COUNT = 0\n",
        "\n",
        "for i in range(N):\n",
        "  if A_LIST[i] < P:\n",
        "    COUNT += 1\n",
        "\n",
        "print(COUNT)"
      ]
    }
  ]
}