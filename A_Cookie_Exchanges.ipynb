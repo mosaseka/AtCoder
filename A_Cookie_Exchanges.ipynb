{
  "nbformat": 4,
  "nbformat_minor": 0,
  "metadata": {
    "colab": {
      "provenance": [],
      "authorship_tag": "ABX9TyPuBvsoDHDjdvn+Oh2KZIw1",
      "include_colab_link": true
    },
    "kernelspec": {
      "name": "python3",
      "display_name": "Python 3"
    },
    "language_info": {
      "name": "python"
    }
  },
  "cells": [
    {
      "cell_type": "markdown",
      "metadata": {
        "id": "view-in-github",
        "colab_type": "text"
      },
      "source": [
        "<a href=\"https://colab.research.google.com/github/mosaseka/AtCoder/blob/main/A_Cookie_Exchanges.ipynb\" target=\"_parent\"><img src=\"https://colab.research.google.com/assets/colab-badge.svg\" alt=\"Open In Colab\"/></a>"
      ]
    },
    {
      "cell_type": "code",
      "execution_count": null,
      "metadata": {
        "colab": {
          "base_uri": "https://localhost:8080/"
        },
        "id": "Pb5kycvb-rtK",
        "outputId": "6c8ccf1d-7ecc-4945-9dd5-92d5460ba530"
      },
      "outputs": [
        {
          "output_type": "stream",
          "name": "stdout",
          "text": [
            "454 414 444\n",
            "1\n"
          ]
        }
      ],
      "source": [
        "A,B,C = map(int,input().split())\n",
        "COUNT = 0\n",
        "FLAG = False\n",
        "\n",
        "if A % 2 != 0 or B % 2 != 0 or C % 2 != 0:\n",
        "  FLAG = True\n",
        "  COUNT = 0\n",
        "elif A == B and B == C and C == A:\n",
        "  FLAG = True\n",
        "  COUNT = -1\n",
        "\n",
        "while A % 2 == 0 and B % 2 == 0 and C % 2 == 0:\n",
        "  if FLAG:\n",
        "    break\n",
        "  A,B,C = B//2 + C//2,C//2 + A//2,A//2 + B//2\n",
        "  COUNT = COUNT + 1\n",
        "\n",
        "print(COUNT)"
      ]
    }
  ]
}