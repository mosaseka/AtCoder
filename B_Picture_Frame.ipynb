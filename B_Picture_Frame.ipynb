{
  "nbformat": 4,
  "nbformat_minor": 0,
  "metadata": {
    "colab": {
      "provenance": [],
      "authorship_tag": "ABX9TyO/uW7/J47DTMdaSaPbKKRY",
      "include_colab_link": true
    },
    "kernelspec": {
      "name": "python3",
      "display_name": "Python 3"
    },
    "language_info": {
      "name": "python"
    }
  },
  "cells": [
    {
      "cell_type": "markdown",
      "metadata": {
        "id": "view-in-github",
        "colab_type": "text"
      },
      "source": [
        "<a href=\"https://colab.research.google.com/github/mosaseka/AtCoder/blob/main/B_Picture_Frame.ipynb\" target=\"_parent\"><img src=\"https://colab.research.google.com/assets/colab-badge.svg\" alt=\"Open In Colab\"/></a>"
      ]
    },
    {
      "cell_type": "code",
      "execution_count": null,
      "metadata": {
        "id": "J0RQn5EHc6d3"
      },
      "outputs": [],
      "source": [
        "H,W = map(int,input().split())\n",
        "PIXEL_LIST = []\n",
        "\n",
        "for i in range(H):\n",
        "  PIXEL_LIST.append(str(input()))\n",
        "\n",
        "print(\"#\" * (W + 2))\n",
        "\n",
        "for i in range(H):\n",
        "  print(\"#\" + PIXEL_LIST[i] + \"#\")\n",
        "\n",
        "print(\"#\" * (W + 2))"
      ]
    }
  ]
}