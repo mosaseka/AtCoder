{
  "nbformat": 4,
  "nbformat_minor": 0,
  "metadata": {
    "colab": {
      "provenance": [],
      "authorship_tag": "ABX9TyPityFUxvLsciMPnr0sxVtM",
      "include_colab_link": true
    },
    "kernelspec": {
      "name": "python3",
      "display_name": "Python 3"
    },
    "language_info": {
      "name": "python"
    }
  },
  "cells": [
    {
      "cell_type": "markdown",
      "metadata": {
        "id": "view-in-github",
        "colab_type": "text"
      },
      "source": [
        "<a href=\"https://colab.research.google.com/github/mosaseka/AtCoder/blob/main/A_Divide_a_Cuboid.ipynb\" target=\"_parent\"><img src=\"https://colab.research.google.com/assets/colab-badge.svg\" alt=\"Open In Colab\"/></a>"
      ]
    },
    {
      "cell_type": "code",
      "execution_count": null,
      "metadata": {
        "id": "cPV-Ah4R-A9X"
      },
      "outputs": [],
      "source": [
        "A,B,C = map(int,input().split())\n",
        "ANSWER = 0\n",
        "\n",
        "if A%2 == 0 or B%2 == 0 or C%2 == 0:\n",
        "  print(ANSWER)\n",
        "else:\n",
        "  ANSWER = min(A*B,B*C,C*A)\n",
        "  print(ANSWER)"
      ]
    }
  ]
}