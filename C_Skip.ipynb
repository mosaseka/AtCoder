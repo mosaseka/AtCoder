{
  "nbformat": 4,
  "nbformat_minor": 0,
  "metadata": {
    "colab": {
      "provenance": [],
      "authorship_tag": "ABX9TyPM5LPNzunN/KRl44iuQqxr",
      "include_colab_link": true
    },
    "kernelspec": {
      "name": "python3",
      "display_name": "Python 3"
    },
    "language_info": {
      "name": "python"
    }
  },
  "cells": [
    {
      "cell_type": "markdown",
      "metadata": {
        "id": "view-in-github",
        "colab_type": "text"
      },
      "source": [
        "<a href=\"https://colab.research.google.com/github/mosaseka/AtCoder/blob/main/C_Skip.ipynb\" target=\"_parent\"><img src=\"https://colab.research.google.com/assets/colab-badge.svg\" alt=\"Open In Colab\"/></a>"
      ]
    },
    {
      "cell_type": "code",
      "execution_count": null,
      "metadata": {
        "id": "9tbw8Gwd1dXC"
      },
      "outputs": [],
      "source": [
        "import math\n",
        "\n",
        "N,X = map(int,input().split())\n",
        "X_LIST = list(map(int,input().split()))\n",
        "GCD = 0\n",
        "\n",
        "for i in range(N):\n",
        "  if i == 0:\n",
        "    GCD = abs(X_LIST[i]-X)\n",
        "  else:\n",
        "    GCD = math.gcd(GCD,X_LIST[i]-X)\n",
        "\n",
        "print(GCD)"
      ]
    }
  ]
}