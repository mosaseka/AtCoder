{
  "nbformat": 4,
  "nbformat_minor": 0,
  "metadata": {
    "colab": {
      "provenance": [],
      "authorship_tag": "ABX9TyNpKnGLCu/JMYOGSVBGoSEK",
      "include_colab_link": true
    },
    "kernelspec": {
      "name": "python3",
      "display_name": "Python 3"
    },
    "language_info": {
      "name": "python"
    }
  },
  "cells": [
    {
      "cell_type": "markdown",
      "metadata": {
        "id": "view-in-github",
        "colab_type": "text"
      },
      "source": [
        "<a href=\"https://colab.research.google.com/github/mosaseka/AtCoder/blob/main/B_Pasta.ipynb\" target=\"_parent\"><img src=\"https://colab.research.google.com/assets/colab-badge.svg\" alt=\"Open In Colab\"/></a>"
      ]
    },
    {
      "cell_type": "code",
      "execution_count": null,
      "metadata": {
        "id": "ZKXiWsaC3j9R"
      },
      "outputs": [],
      "source": [
        "N,M = map(int,input().split())\n",
        "A_LIST = list(map(int,input().split()))\n",
        "B_LIST = list(map(int,input().split()))\n",
        "\n",
        "for i in range(M):\n",
        "  if B_LIST[i] in set(A_LIST):\n",
        "    A_LIST.remove(B_LIST[i])\n",
        "  else:\n",
        "    print(\"No\")\n",
        "    exit()\n",
        "\n",
        "print(\"Yes\")"
      ]
    }
  ]
}