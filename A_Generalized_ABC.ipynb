{
  "nbformat": 4,
  "nbformat_minor": 0,
  "metadata": {
    "colab": {
      "provenance": [],
      "authorship_tag": "ABX9TyNECpOyQ57YrJKg6hkkHBR6",
      "include_colab_link": true
    },
    "kernelspec": {
      "name": "python3",
      "display_name": "Python 3"
    },
    "language_info": {
      "name": "python"
    }
  },
  "cells": [
    {
      "cell_type": "markdown",
      "metadata": {
        "id": "view-in-github",
        "colab_type": "text"
      },
      "source": [
        "<a href=\"https://colab.research.google.com/github/mosaseka/AtCoder/blob/main/A_Generalized_ABC.ipynb\" target=\"_parent\"><img src=\"https://colab.research.google.com/assets/colab-badge.svg\" alt=\"Open In Colab\"/></a>"
      ]
    },
    {
      "cell_type": "code",
      "execution_count": null,
      "metadata": {
        "id": "BgdQEOnKg9yF"
      },
      "outputs": [],
      "source": [
        "K = int(input())\n",
        "LIST = []\n",
        "ANSWER = \"\"\n",
        "\n",
        "for i in range(65,91):\n",
        "  LIST.append(chr(i))\n",
        "\n",
        "for i in range(K):\n",
        "  ANSWER = ANSWER + LIST[i]\n",
        "\n",
        "print(ANSWER)"
      ]
    }
  ]
}