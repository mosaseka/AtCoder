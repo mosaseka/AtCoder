{
  "nbformat": 4,
  "nbformat_minor": 0,
  "metadata": {
    "colab": {
      "provenance": [],
      "authorship_tag": "ABX9TyMUF9wemsauUBQJaVnhOv1V",
      "include_colab_link": true
    },
    "kernelspec": {
      "name": "python3",
      "display_name": "Python 3"
    },
    "language_info": {
      "name": "python"
    }
  },
  "cells": [
    {
      "cell_type": "markdown",
      "metadata": {
        "id": "view-in-github",
        "colab_type": "text"
      },
      "source": [
        "<a href=\"https://colab.research.google.com/github/mosaseka/AtCoder/blob/main/A_Range_Product.ipynb\" target=\"_parent\"><img src=\"https://colab.research.google.com/assets/colab-badge.svg\" alt=\"Open In Colab\"/></a>"
      ]
    },
    {
      "cell_type": "code",
      "execution_count": null,
      "metadata": {
        "colab": {
          "base_uri": "https://localhost:8080/"
        },
        "id": "s2ndCc679_F7",
        "outputId": "23c050ea-1b0b-4f28-d42c-caa735f5248d"
      },
      "outputs": [
        {
          "output_type": "stream",
          "name": "stdout",
          "text": [
            "-1 1\n",
            "Zero\n"
          ]
        }
      ],
      "source": [
        "import math\n",
        "\n",
        "A,B = map(int,input().split())\n",
        "LIST = [A]\n",
        "COUNT = A\n",
        "\n",
        "while COUNT != B:\n",
        "  COUNT += 1\n",
        "  LIST.append(COUNT)\n",
        "\n",
        "#print(math.prod(LIST))\n",
        "CHECK = math.prod(LIST)\n",
        "\n",
        "if CHECK == 0:\n",
        "  print(\"Zero\")\n",
        "elif CHECK < 0:\n",
        "  print(\"Negative\")\n",
        "else:\n",
        "  print(\"Positive\")"
      ]
    },
    {
      "cell_type": "code",
      "source": [
        "A,B = map(int,input().split())\n",
        "\n",
        "if A > 0:\n",
        "  print(\"Positive\")\n",
        "elif A <= 0 and 0 <= B:\n",
        "  print(\"Zero\")\n",
        "elif (B - A) % 2 == 0:\n",
        "  print(\"Negative\")\n",
        "else:\n",
        "  print(\"Positive\")"
      ],
      "metadata": {
        "colab": {
          "base_uri": "https://localhost:8080/"
        },
        "id": "vbDksmie_3ZW",
        "outputId": "682b974f-04db-41f5-b766-4dace262ab98"
      },
      "execution_count": null,
      "outputs": [
        {
          "output_type": "stream",
          "name": "stdout",
          "text": [
            "-1 1\n",
            "Zero\n"
          ]
        }
      ]
    }
  ]
}