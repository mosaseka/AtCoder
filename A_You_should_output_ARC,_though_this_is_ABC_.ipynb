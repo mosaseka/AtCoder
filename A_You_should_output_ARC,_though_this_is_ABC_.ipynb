{
  "nbformat": 4,
  "nbformat_minor": 0,
  "metadata": {
    "colab": {
      "provenance": [],
      "authorship_tag": "ABX9TyMaSfJbWmJ+G38OIv0JSBaq",
      "include_colab_link": true
    },
    "kernelspec": {
      "name": "python3",
      "display_name": "Python 3"
    },
    "language_info": {
      "name": "python"
    }
  },
  "cells": [
    {
      "cell_type": "markdown",
      "metadata": {
        "id": "view-in-github",
        "colab_type": "text"
      },
      "source": [
        "<a href=\"https://colab.research.google.com/github/mosaseka/AtCoder/blob/main/A_You_should_output_ARC%2C_though_this_is_ABC_.ipynb\" target=\"_parent\"><img src=\"https://colab.research.google.com/assets/colab-badge.svg\" alt=\"Open In Colab\"/></a>"
      ]
    },
    {
      "cell_type": "code",
      "execution_count": null,
      "metadata": {
        "id": "hqnGwV4jXZ4F"
      },
      "outputs": [],
      "source": [
        "R,C = map(int,input().split())\n",
        "A_LIST = [list(map(int,input().split())) for i in range(2)]\n",
        "\n",
        "print(A_LIST[R-1][C-1])"
      ]
    }
  ]
}