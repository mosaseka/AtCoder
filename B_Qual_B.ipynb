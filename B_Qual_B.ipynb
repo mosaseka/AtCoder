{
  "nbformat": 4,
  "nbformat_minor": 0,
  "metadata": {
    "colab": {
      "provenance": [],
      "authorship_tag": "ABX9TyOlnlQx/Hw9OHSEaWnlHdJq",
      "include_colab_link": true
    },
    "kernelspec": {
      "name": "python3",
      "display_name": "Python 3"
    },
    "language_info": {
      "name": "python"
    }
  },
  "cells": [
    {
      "cell_type": "markdown",
      "metadata": {
        "id": "view-in-github",
        "colab_type": "text"
      },
      "source": [
        "<a href=\"https://colab.research.google.com/github/mosaseka/AtCoder/blob/main/B_Qual_B.ipynb\" target=\"_parent\"><img src=\"https://colab.research.google.com/assets/colab-badge.svg\" alt=\"Open In Colab\"/></a>"
      ]
    },
    {
      "cell_type": "code",
      "execution_count": null,
      "metadata": {
        "colab": {
          "base_uri": "https://localhost:8080/"
        },
        "id": "OkQ4sSnOkIgf",
        "outputId": "25e3db48-1aa3-4a8d-f0ef-e08cbed824ef"
      },
      "outputs": [
        {
          "output_type": "stream",
          "name": "stdout",
          "text": [
            "10 3\n",
            "oxxoxooxox\n",
            "oxxoxoxxxx\n"
          ]
        }
      ],
      "source": [
        "N,K = map(int,input().split())\n",
        "S_LIST = list(str(input()))\n",
        "COUNT = 0\n",
        "ANSWER_LIST = []\n",
        "\n",
        "for i in range(N):\n",
        "  if S_LIST[i] == \"o\" and COUNT < K:\n",
        "    ANSWER_LIST.append(\"o\")\n",
        "    COUNT += 1\n",
        "  else:\n",
        "    ANSWER_LIST.append(\"x\")\n",
        "\n",
        "print(*ANSWER_LIST,sep=\"\")"
      ]
    }
  ]
}