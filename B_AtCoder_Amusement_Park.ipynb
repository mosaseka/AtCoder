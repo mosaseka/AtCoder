{
  "nbformat": 4,
  "nbformat_minor": 0,
  "metadata": {
    "colab": {
      "provenance": [],
      "authorship_tag": "ABX9TyN+q9S/NT61RFF6ZD9LAvVJ",
      "include_colab_link": true
    },
    "kernelspec": {
      "name": "python3",
      "display_name": "Python 3"
    },
    "language_info": {
      "name": "python"
    }
  },
  "cells": [
    {
      "cell_type": "markdown",
      "metadata": {
        "id": "view-in-github",
        "colab_type": "text"
      },
      "source": [
        "<a href=\"https://colab.research.google.com/github/mosaseka/AtCoder/blob/main/B_AtCoder_Amusement_Park.ipynb\" target=\"_parent\"><img src=\"https://colab.research.google.com/assets/colab-badge.svg\" alt=\"Open In Colab\"/></a>"
      ]
    },
    {
      "cell_type": "code",
      "execution_count": null,
      "metadata": {
        "id": "692bPqmweqJq"
      },
      "outputs": [],
      "source": [
        "from collections import deque\n",
        "\n",
        "N,K = map(int,input().split())\n",
        "A_DEQ = deque(map(int,input().split()))\n",
        "ANSWER = 0\n",
        "EMPTY = K\n",
        "\n",
        "while len(A_DEQ) != 0:\n",
        "  if A_DEQ[0] > EMPTY:\n",
        "    ANSWER += 1\n",
        "    EMPTY = K\n",
        "  else:\n",
        "    EMPTY -= A_DEQ[0]\n",
        "    A_DEQ.popleft()\n",
        "\n",
        "print(ANSWER+1)"
      ]
    }
  ]
}