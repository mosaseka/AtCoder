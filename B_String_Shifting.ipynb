{
  "nbformat": 4,
  "nbformat_minor": 0,
  "metadata": {
    "colab": {
      "provenance": [],
      "authorship_tag": "ABX9TyNTygHxmta51OUIRZqhm6Bh",
      "include_colab_link": true
    },
    "kernelspec": {
      "name": "python3",
      "display_name": "Python 3"
    },
    "language_info": {
      "name": "python"
    }
  },
  "cells": [
    {
      "cell_type": "markdown",
      "metadata": {
        "id": "view-in-github",
        "colab_type": "text"
      },
      "source": [
        "<a href=\"https://colab.research.google.com/github/mosaseka/AtCoder/blob/main/B_String_Shifting.ipynb\" target=\"_parent\"><img src=\"https://colab.research.google.com/assets/colab-badge.svg\" alt=\"Open In Colab\"/></a>"
      ]
    },
    {
      "cell_type": "code",
      "execution_count": null,
      "metadata": {
        "id": "foYJEAU840ub"
      },
      "outputs": [],
      "source": [
        "from collections import deque\n",
        "\n",
        "S = str(input())\n",
        "LIST = deque()\n",
        "\n",
        "for i in range(len(S)):\n",
        "  LIST.append(S[i:] + S[:i])\n",
        "\n",
        "#print(LIST)\n",
        "\n",
        "LIST = list(LIST)\n",
        "LIST.sort()\n",
        "\n",
        "print(LIST[0])\n",
        "print(LIST[-1])"
      ]
    }
  ]
}