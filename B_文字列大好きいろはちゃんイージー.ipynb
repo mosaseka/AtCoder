{
  "nbformat": 4,
  "nbformat_minor": 0,
  "metadata": {
    "colab": {
      "provenance": [],
      "authorship_tag": "ABX9TyOFeesWD7XTqMNQpfOLnbIE",
      "include_colab_link": true
    },
    "kernelspec": {
      "name": "python3",
      "display_name": "Python 3"
    },
    "language_info": {
      "name": "python"
    }
  },
  "cells": [
    {
      "cell_type": "markdown",
      "metadata": {
        "id": "view-in-github",
        "colab_type": "text"
      },
      "source": [
        "<a href=\"https://colab.research.google.com/github/mosaseka/AtCoder/blob/main/B_%E6%96%87%E5%AD%97%E5%88%97%E5%A4%A7%E5%A5%BD%E3%81%8D%E3%81%84%E3%82%8D%E3%81%AF%E3%81%A1%E3%82%83%E3%82%93%E3%82%A4%E3%83%BC%E3%82%B8%E3%83%BC.ipynb\" target=\"_parent\"><img src=\"https://colab.research.google.com/assets/colab-badge.svg\" alt=\"Open In Colab\"/></a>"
      ]
    },
    {
      "cell_type": "code",
      "execution_count": null,
      "metadata": {
        "id": "Tp7jDpl02zWj"
      },
      "outputs": [],
      "source": [
        "N,L = map(int,input().split())\n",
        "ANSWER_LIST = []\n",
        "ANSWER = \"\"\n",
        "\n",
        "for i in range(N):\n",
        "  ANSWER_LIST.append(str(input()))\n",
        "\n",
        "ANSWER_LIST.sort()\n",
        "\n",
        "for i in range(N):\n",
        "  ANSWER += ANSWER_LIST[i]\n",
        "\n",
        "print(ANSWER)"
      ]
    }
  ]
}