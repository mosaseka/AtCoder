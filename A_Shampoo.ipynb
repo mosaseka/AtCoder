{
  "nbformat": 4,
  "nbformat_minor": 0,
  "metadata": {
    "colab": {
      "provenance": [],
      "authorship_tag": "ABX9TyOJJskjUL/wzl9ws80S2vDN",
      "include_colab_link": true
    },
    "kernelspec": {
      "name": "python3",
      "display_name": "Python 3"
    },
    "language_info": {
      "name": "python"
    }
  },
  "cells": [
    {
      "cell_type": "markdown",
      "metadata": {
        "id": "view-in-github",
        "colab_type": "text"
      },
      "source": [
        "<a href=\"https://colab.research.google.com/github/mosaseka/AtCoder/blob/main/A_Shampoo.ipynb\" target=\"_parent\"><img src=\"https://colab.research.google.com/assets/colab-badge.svg\" alt=\"Open In Colab\"/></a>"
      ]
    },
    {
      "cell_type": "code",
      "execution_count": null,
      "metadata": {
        "id": "qLze1KwrX36v"
      },
      "outputs": [],
      "source": [
        "V,A,B,C = map(int,input().split())\n",
        "\n",
        "while True:\n",
        "  if V - A < 0:\n",
        "    print(\"F\")\n",
        "    exit()\n",
        "  else:\n",
        "    V -= A\n",
        "  if V - B < 0:\n",
        "    print(\"M\")\n",
        "    exit()\n",
        "  else:\n",
        "    V -= B\n",
        "  if V - C < 0:\n",
        "    print(\"T\")\n",
        "    exit()\n",
        "  else:\n",
        "    V -= C"
      ]
    }
  ]
}