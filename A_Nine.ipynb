{
  "nbformat": 4,
  "nbformat_minor": 0,
  "metadata": {
    "colab": {
      "provenance": [],
      "authorship_tag": "ABX9TyO7yrC5tdj8aW8fhm+hSauE",
      "include_colab_link": true
    },
    "kernelspec": {
      "name": "python3",
      "display_name": "Python 3"
    },
    "language_info": {
      "name": "python"
    }
  },
  "cells": [
    {
      "cell_type": "markdown",
      "metadata": {
        "id": "view-in-github",
        "colab_type": "text"
      },
      "source": [
        "<a href=\"https://colab.research.google.com/github/mosaseka/AtCoder/blob/main/A_Nine.ipynb\" target=\"_parent\"><img src=\"https://colab.research.google.com/assets/colab-badge.svg\" alt=\"Open In Colab\"/></a>"
      ]
    },
    {
      "cell_type": "code",
      "execution_count": null,
      "metadata": {
        "id": "1nBWW_BoO-pi"
      },
      "outputs": [],
      "source": [
        "A,B = map(int,input().split())\n",
        "\n",
        "if A == 1:\n",
        "  if B == 2:\n",
        "    print(\"Yes\")\n",
        "    exit()\n",
        "elif A == 2:\n",
        "  if B == 3:\n",
        "    print(\"Yes\")\n",
        "    exit()\n",
        "elif A == 4:\n",
        "  if B == 5:\n",
        "    print(\"Yes\")\n",
        "    exit()\n",
        "elif A == 5:\n",
        "  if B == 6:\n",
        "    print(\"Yes\")\n",
        "    exit()\n",
        "elif A == 7:\n",
        "  if B == 8:\n",
        "    print(\"Yes\")\n",
        "    exit()\n",
        "elif A == 8:\n",
        "  if B == 9:\n",
        "    print(\"Yes\")\n",
        "    exit()\n",
        "\n",
        "print(\"No\")"
      ]
    }
  ]
}