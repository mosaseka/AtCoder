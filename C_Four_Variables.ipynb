{
  "nbformat": 4,
  "nbformat_minor": 0,
  "metadata": {
    "colab": {
      "provenance": [],
      "authorship_tag": "ABX9TyPWQxqcosbMd7R3xzilbprj",
      "include_colab_link": true
    },
    "kernelspec": {
      "name": "python3",
      "display_name": "Python 3"
    },
    "language_info": {
      "name": "python"
    }
  },
  "cells": [
    {
      "cell_type": "markdown",
      "metadata": {
        "id": "view-in-github",
        "colab_type": "text"
      },
      "source": [
        "<a href=\"https://colab.research.google.com/github/mosaseka/AtCoder/blob/main/C_Four_Variables.ipynb\" target=\"_parent\"><img src=\"https://colab.research.google.com/assets/colab-badge.svg\" alt=\"Open In Colab\"/></a>"
      ]
    },
    {
      "cell_type": "code",
      "execution_count": null,
      "metadata": {
        "colab": {
          "base_uri": "https://localhost:8080/"
        },
        "id": "iAhRw-WOiruT",
        "outputId": "ab5de6ac-b56a-4781-a229-22a6cbaae685"
      },
      "outputs": [
        {
          "output_type": "stream",
          "name": "stdout",
          "text": [
            "19876\n",
            "2219958\n"
          ]
        }
      ],
      "source": [
        "def divisor_list(num):\n",
        "    divisors = []\n",
        "    for i in range(1, int(num**0.5)+1):\n",
        "        if num % i == 0:\n",
        "            divisors.append(i)\n",
        "            if i**2 == num:\n",
        "                continue\n",
        "            divisors.append(int(num/i))\n",
        "    return divisors\n",
        "\n",
        "N = int(input())\n",
        "AB = 0\n",
        "CD = 0\n",
        "COUNT = 0\n",
        "\n",
        "for i in range(N-1):\n",
        "  AB = i+1\n",
        "  CD = N - AB\n",
        "  COUNT += len(divisor_list(AB)) * len(divisor_list(CD))\n",
        "\n",
        "print(COUNT)"
      ]
    }
  ]
}