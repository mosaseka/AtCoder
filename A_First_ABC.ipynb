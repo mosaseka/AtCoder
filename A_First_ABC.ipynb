{
  "nbformat": 4,
  "nbformat_minor": 0,
  "metadata": {
    "colab": {
      "provenance": [],
      "authorship_tag": "ABX9TyPN4Fwx+GfOiyn9P8FPJmZX",
      "include_colab_link": true
    },
    "kernelspec": {
      "name": "python3",
      "display_name": "Python 3"
    },
    "language_info": {
      "name": "python"
    }
  },
  "cells": [
    {
      "cell_type": "markdown",
      "metadata": {
        "id": "view-in-github",
        "colab_type": "text"
      },
      "source": [
        "<a href=\"https://colab.research.google.com/github/mosaseka/AtCoder/blob/main/A_First_ABC.ipynb\" target=\"_parent\"><img src=\"https://colab.research.google.com/assets/colab-badge.svg\" alt=\"Open In Colab\"/></a>"
      ]
    },
    {
      "cell_type": "code",
      "execution_count": null,
      "metadata": {
        "id": "5cfpRzHwsVRz"
      },
      "outputs": [],
      "source": [
        "N = int(input())\n",
        "S = str(input())\n",
        "A = 0\n",
        "B = 0\n",
        "C = 0\n",
        "\n",
        "for i in range(N):\n",
        "  if S[i] == \"A\":\n",
        "    A += 1\n",
        "  elif S[i] == \"B\":\n",
        "    B += 1\n",
        "  elif S[i] == \"C\":\n",
        "    C += 1\n",
        "  if A >= 1 and B >= 1 and C >= 1:\n",
        "    print(i+1)\n",
        "    exit()"
      ]
    }
  ]
}