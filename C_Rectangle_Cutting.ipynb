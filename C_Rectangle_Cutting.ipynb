{
  "nbformat": 4,
  "nbformat_minor": 0,
  "metadata": {
    "colab": {
      "provenance": [],
      "authorship_tag": "ABX9TyP0qYoyQ2bPIDe8+7Jvd+0S",
      "include_colab_link": true
    },
    "kernelspec": {
      "name": "python3",
      "display_name": "Python 3"
    },
    "language_info": {
      "name": "python"
    }
  },
  "cells": [
    {
      "cell_type": "markdown",
      "metadata": {
        "id": "view-in-github",
        "colab_type": "text"
      },
      "source": [
        "<a href=\"https://colab.research.google.com/github/mosaseka/AtCoder/blob/main/C_Rectangle_Cutting.ipynb\" target=\"_parent\"><img src=\"https://colab.research.google.com/assets/colab-badge.svg\" alt=\"Open In Colab\"/></a>"
      ]
    },
    {
      "cell_type": "code",
      "execution_count": null,
      "metadata": {
        "id": "8t8UHE_wn-p_",
        "colab": {
          "base_uri": "https://localhost:8080/"
        },
        "outputId": "70d8d320-fdfe-444a-d640-d21ae58a6018"
      },
      "outputs": [
        {
          "output_type": "stream",
          "name": "stdout",
          "text": [
            "2 2 1 1\n",
            "2.0 1\n"
          ]
        }
      ],
      "source": [
        "W,H,X,Y = map(int,input().split())\n",
        "TOTAL_AREA = H*W\n",
        "MAX = 0\n",
        "POSSIBLE = 0\n",
        "CHECK_X = W / 2\n",
        "CHECK_Y = H / 2\n",
        "\n",
        "MAX = TOTAL_AREA / 2\n",
        "\n",
        "if CHECK_X == X and CHECK_Y == Y:\n",
        "  POSSIBLE = 1\n",
        "\n",
        "print(MAX,POSSIBLE)"
      ]
    }
  ]
}