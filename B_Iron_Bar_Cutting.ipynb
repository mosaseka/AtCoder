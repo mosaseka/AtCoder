{
  "nbformat": 4,
  "nbformat_minor": 0,
  "metadata": {
    "colab": {
      "provenance": [],
      "authorship_tag": "ABX9TyOBmfZbu+e2gl2CDVg4p7Cs",
      "include_colab_link": true
    },
    "kernelspec": {
      "name": "python3",
      "display_name": "Python 3"
    },
    "language_info": {
      "name": "python"
    }
  },
  "cells": [
    {
      "cell_type": "markdown",
      "metadata": {
        "id": "view-in-github",
        "colab_type": "text"
      },
      "source": [
        "<a href=\"https://colab.research.google.com/github/mosaseka/AtCoder/blob/main/B_Iron_Bar_Cutting.ipynb\" target=\"_parent\"><img src=\"https://colab.research.google.com/assets/colab-badge.svg\" alt=\"Open In Colab\"/></a>"
      ]
    },
    {
      "cell_type": "code",
      "execution_count": null,
      "metadata": {
        "colab": {
          "base_uri": "https://localhost:8080/"
        },
        "id": "yw-zxEBZC2Ju",
        "outputId": "b675ab34-fbf6-4736-c60f-82a634a255be"
      },
      "outputs": [
        {
          "output_type": "stream",
          "name": "stdout",
          "text": [
            "3\n",
            "2 4 3\n",
            "3\n"
          ]
        }
      ],
      "source": [
        "N = int(input())\n",
        "A_LIST = list(map(int,input().split()))\n",
        "ANSWER_LIST = []\n",
        "\n",
        "for i in range(N):\n",
        "  ANSWER_LIST.append(abs(sum(A_LIST[:i]) - sum(A_LIST[i:])))\n",
        "\n",
        "print(min(ANSWER_LIST))"
      ]
    },
    {
      "cell_type": "code",
      "source": [
        "N = int(input())\n",
        "A_LIST = list(map(int,input().split()))\n",
        "ANSWER = 100000000000000000000000000\n",
        "\n",
        "for i in range(N):\n",
        "  ANSWER = min((abs(sum(A_LIST[:i]) - sum(A_LIST[i:]))),ANSWER)\n",
        "\n",
        "print(ANSWER)"
      ],
      "metadata": {
        "id": "ZgRxMgmlExGy"
      },
      "execution_count": null,
      "outputs": []
    },
    {
      "cell_type": "code",
      "source": [
        "N = int(input())\n",
        "A_LIST = list(map(int,input().split()))\n",
        "ANSWER = 100000000000000000000000000\n",
        "LEFT = 0\n",
        "RIGHT = sum(A_LIST)\n",
        "\n",
        "for i in range(N):\n",
        "  LEFT += A_LIST[i]\n",
        "  RIGHT -= A_LIST[i]\n",
        "  ANSWER = min((abs(LEFT - RIGHT)),ANSWER)\n",
        "\n",
        "print(ANSWER)"
      ],
      "metadata": {
        "id": "oDn2IY8yOqKA"
      },
      "execution_count": null,
      "outputs": []
    }
  ]
}