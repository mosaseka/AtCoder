{
  "nbformat": 4,
  "nbformat_minor": 0,
  "metadata": {
    "colab": {
      "provenance": [],
      "authorship_tag": "ABX9TyOmPEMwxWXtK/Lu+Wp6PlrT",
      "include_colab_link": true
    },
    "kernelspec": {
      "name": "python3",
      "display_name": "Python 3"
    },
    "language_info": {
      "name": "python"
    }
  },
  "cells": [
    {
      "cell_type": "markdown",
      "metadata": {
        "id": "view-in-github",
        "colab_type": "text"
      },
      "source": [
        "<a href=\"https://colab.research.google.com/github/mosaseka/AtCoder/blob/main/B_Which_is_ahead%3F.ipynb\" target=\"_parent\"><img src=\"https://colab.research.google.com/assets/colab-badge.svg\" alt=\"Open In Colab\"/></a>"
      ]
    },
    {
      "cell_type": "code",
      "execution_count": null,
      "metadata": {
        "id": "abVTX4Tw_QLj"
      },
      "outputs": [],
      "source": [
        "N = int(input())\n",
        "P_LIST = list(map(int,input().split()))\n",
        "Q = int(input())\n",
        "A = 0\n",
        "B = 0\n",
        "A_INDEX = 0\n",
        "B_INDEX = 0\n",
        "\n",
        "for i in range(Q):\n",
        "  A,B = map(int,input().split())\n",
        "  A_INDEX = P_LIST.index(A)\n",
        "  B_INDEX = P_LIST.index(B)\n",
        "  if A_INDEX < B_INDEX:\n",
        "    print(A)\n",
        "  else:\n",
        "    print(B)"
      ]
    }
  ]
}