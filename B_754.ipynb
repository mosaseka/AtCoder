{
  "nbformat": 4,
  "nbformat_minor": 0,
  "metadata": {
    "colab": {
      "provenance": [],
      "authorship_tag": "ABX9TyPRDCOg+4gRRCOqk8ahe5oX",
      "include_colab_link": true
    },
    "kernelspec": {
      "name": "python3",
      "display_name": "Python 3"
    },
    "language_info": {
      "name": "python"
    }
  },
  "cells": [
    {
      "cell_type": "markdown",
      "metadata": {
        "id": "view-in-github",
        "colab_type": "text"
      },
      "source": [
        "<a href=\"https://colab.research.google.com/github/mosaseka/AtCoder/blob/main/B_754.ipynb\" target=\"_parent\"><img src=\"https://colab.research.google.com/assets/colab-badge.svg\" alt=\"Open In Colab\"/></a>"
      ]
    },
    {
      "cell_type": "code",
      "execution_count": null,
      "metadata": {
        "colab": {
          "base_uri": "https://localhost:8080/"
        },
        "id": "4FZUrkHEHDH1",
        "outputId": "191d2629-2509-4551-c26e-00d8627d356a"
      },
      "outputs": [
        {
          "output_type": "stream",
          "name": "stdout",
          "text": [
            "1111111111\n",
            "642\n"
          ]
        }
      ],
      "source": [
        "S_LIST = list(map(str,input()))\n",
        "ABS_LIST = []\n",
        "NUM = 0\n",
        "\n",
        "for i in range(len(S_LIST) - 2):\n",
        "  NUM = int(S_LIST[i] + S_LIST[i+1] + S_LIST[i+2])\n",
        "  ABS_LIST.append(abs(NUM - 753))\n",
        "\n",
        "print(min(ABS_LIST))"
      ]
    }
  ]
}