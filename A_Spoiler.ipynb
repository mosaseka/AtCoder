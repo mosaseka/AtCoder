{
  "nbformat": 4,
  "nbformat_minor": 0,
  "metadata": {
    "colab": {
      "provenance": [],
      "authorship_tag": "ABX9TyPNMcgghEqxHWDqyUd1EEjb",
      "include_colab_link": true
    },
    "kernelspec": {
      "name": "python3",
      "display_name": "Python 3"
    },
    "language_info": {
      "name": "python"
    }
  },
  "cells": [
    {
      "cell_type": "markdown",
      "metadata": {
        "id": "view-in-github",
        "colab_type": "text"
      },
      "source": [
        "<a href=\"https://colab.research.google.com/github/mosaseka/AtCoder/blob/main/A_Spoiler.ipynb\" target=\"_parent\"><img src=\"https://colab.research.google.com/assets/colab-badge.svg\" alt=\"Open In Colab\"/></a>"
      ]
    },
    {
      "cell_type": "code",
      "execution_count": null,
      "metadata": {
        "id": "ZCDPszGFJ_dp"
      },
      "outputs": [],
      "source": [
        "S = str(input())\n",
        "ANSWER = \"\"\n",
        "FLAG = False\n",
        "\n",
        "for i in range(len(S)):\n",
        "  if S[i] == \"|\":\n",
        "    if FLAG:\n",
        "      FLAG = False\n",
        "    else:\n",
        "      FLAG = True\n",
        "  elif FLAG:\n",
        "    pass\n",
        "  else:\n",
        "    ANSWER += S[i]\n",
        "\n",
        "print(ANSWER)"
      ]
    }
  ]
}