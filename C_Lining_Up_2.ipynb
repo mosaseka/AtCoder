{
  "nbformat": 4,
  "nbformat_minor": 0,
  "metadata": {
    "colab": {
      "provenance": [],
      "authorship_tag": "ABX9TyNrMUHsTTf/3gT2Ie3+6G0Q",
      "include_colab_link": true
    },
    "kernelspec": {
      "name": "python3",
      "display_name": "Python 3"
    },
    "language_info": {
      "name": "python"
    }
  },
  "cells": [
    {
      "cell_type": "markdown",
      "metadata": {
        "id": "view-in-github",
        "colab_type": "text"
      },
      "source": [
        "<a href=\"https://colab.research.google.com/github/mosaseka/AtCoder/blob/main/C_Lining_Up_2.ipynb\" target=\"_parent\"><img src=\"https://colab.research.google.com/assets/colab-badge.svg\" alt=\"Open In Colab\"/></a>"
      ]
    },
    {
      "cell_type": "code",
      "execution_count": null,
      "metadata": {
        "id": "VQPucH4dYLHK"
      },
      "outputs": [],
      "source": [
        "N = int(input())\n",
        "A_LIST = list(map(int,input().split()))\n",
        "B_LIST = [0 for i in range(N+1)]\n",
        "ANSWER_LIST = []\n",
        "NUM = 0\n",
        "\n",
        "for i in range(N):\n",
        "  if A_LIST[i] == -1:\n",
        "    NUM = i+1\n",
        "  else:\n",
        "    B_LIST[A_LIST[i]] = i+1\n",
        "\n",
        "ANSWER_LIST.append(NUM)\n",
        "\n",
        "for i in range(N-1):\n",
        "  NUM = B_LIST[NUM]\n",
        "  ANSWER_LIST.append(NUM)\n",
        "\n",
        "print(*ANSWER_LIST)"
      ]
    }
  ]
}