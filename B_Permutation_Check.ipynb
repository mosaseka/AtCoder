{
  "nbformat": 4,
  "nbformat_minor": 0,
  "metadata": {
    "colab": {
      "provenance": [],
      "authorship_tag": "ABX9TyOOQ7NRjCKUpMrEdBIRMFSB",
      "include_colab_link": true
    },
    "kernelspec": {
      "name": "python3",
      "display_name": "Python 3"
    },
    "language_info": {
      "name": "python"
    }
  },
  "cells": [
    {
      "cell_type": "markdown",
      "metadata": {
        "id": "view-in-github",
        "colab_type": "text"
      },
      "source": [
        "<a href=\"https://colab.research.google.com/github/mosaseka/AtCoder/blob/main/B_Permutation_Check.ipynb\" target=\"_parent\"><img src=\"https://colab.research.google.com/assets/colab-badge.svg\" alt=\"Open In Colab\"/></a>"
      ]
    },
    {
      "cell_type": "code",
      "execution_count": null,
      "metadata": {
        "id": "MVdaVpDIl0T_"
      },
      "outputs": [],
      "source": [
        "from itertools import permutations\n",
        "\n",
        "N = int(input())\n",
        "A_LIST = list(map(int,input().split()))\n",
        "NUM_LIST = [i+1 for i in range(N)]\n",
        "\n",
        "for i in permutations(A_LIST):\n",
        "  if list(i) == NUM_LIST:\n",
        "    print(\"Yes\")\n",
        "    exit()\n",
        "\n",
        "print(\"No\")"
      ]
    },
    {
      "cell_type": "code",
      "source": [
        "N = int(input())\n",
        "A_LIST = list(map(int,input().split()))\n",
        "\n",
        "A_LIST.sort()\n",
        "\n",
        "for i in range(N):\n",
        "  if A_LIST[i] == (i+1):\n",
        "    pass\n",
        "  else:\n",
        "    print(\"No\")\n",
        "    exit()\n",
        "\n",
        "print(\"Yes\")"
      ],
      "metadata": {
        "id": "FGD-AIq3mnXi"
      },
      "execution_count": null,
      "outputs": []
    }
  ]
}