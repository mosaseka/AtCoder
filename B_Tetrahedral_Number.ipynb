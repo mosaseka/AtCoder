{
  "nbformat": 4,
  "nbformat_minor": 0,
  "metadata": {
    "colab": {
      "provenance": [],
      "authorship_tag": "ABX9TyN4uxHEqiRATazBK/ZUAsED",
      "include_colab_link": true
    },
    "kernelspec": {
      "name": "python3",
      "display_name": "Python 3"
    },
    "language_info": {
      "name": "python"
    }
  },
  "cells": [
    {
      "cell_type": "markdown",
      "metadata": {
        "id": "view-in-github",
        "colab_type": "text"
      },
      "source": [
        "<a href=\"https://colab.research.google.com/github/mosaseka/AtCoder/blob/main/B_Tetrahedral_Number.ipynb\" target=\"_parent\"><img src=\"https://colab.research.google.com/assets/colab-badge.svg\" alt=\"Open In Colab\"/></a>"
      ]
    },
    {
      "cell_type": "code",
      "execution_count": null,
      "metadata": {
        "id": "hCRG32YgSL7s"
      },
      "outputs": [],
      "source": [
        "N = int(input())\n",
        "ANSWER = []\n",
        "\n",
        "for i in range(21):\n",
        "  for j in range(21):\n",
        "    for k in range(21):\n",
        "      if i + j + k <= N:\n",
        "        ANSWER.append([i,j,k])\n",
        "\n",
        "ANSWER.sort()\n",
        "\n",
        "for i in range(len(ANSWER)):\n",
        "  print(*ANSWER[i])"
      ]
    },
    {
      "cell_type": "code",
      "source": [
        "N = int(input())\n",
        "ANSWER = []\n",
        "\n",
        "for i in range(22):\n",
        "  for j in range(22):\n",
        "    for k in range(22):\n",
        "      if i + j + k <= N:\n",
        "        ANSWER.append((i,j,k))\n",
        "\n",
        "ANSWER = list(set(ANSWER))\n",
        "ANSWER.sort()\n",
        "\n",
        "for i in range(len(ANSWER)):\n",
        "  print(*ANSWER[i])"
      ],
      "metadata": {
        "id": "Mbwx_fvJqFRe"
      },
      "execution_count": null,
      "outputs": []
    }
  ]
}