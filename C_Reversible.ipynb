{
  "nbformat": 4,
  "nbformat_minor": 0,
  "metadata": {
    "colab": {
      "provenance": [],
      "authorship_tag": "ABX9TyNWfO9vdUJSIg4GaTjodX6u",
      "include_colab_link": true
    },
    "kernelspec": {
      "name": "python3",
      "display_name": "Python 3"
    },
    "language_info": {
      "name": "python"
    }
  },
  "cells": [
    {
      "cell_type": "markdown",
      "metadata": {
        "id": "view-in-github",
        "colab_type": "text"
      },
      "source": [
        "<a href=\"https://colab.research.google.com/github/mosaseka/AtCoder/blob/main/C_Reversible.ipynb\" target=\"_parent\"><img src=\"https://colab.research.google.com/assets/colab-badge.svg\" alt=\"Open In Colab\"/></a>"
      ]
    },
    {
      "cell_type": "code",
      "execution_count": null,
      "metadata": {
        "id": "TeFphtoqa2ge"
      },
      "outputs": [],
      "source": [
        "from collections import deque\n",
        "\n",
        "N = int(input())\n",
        "S_LIST = deque()\n",
        "S = \"\"\n",
        "COUNT = 0\n",
        "S_SET = set()\n",
        "\n",
        "for i in range(N):\n",
        "  S = str(input())\n",
        "  S_SET = set(list(S_LIST))\n",
        "  if S not in S_SET and S[::-1] not in S_SET:\n",
        "    COUNT += 1\n",
        "  S_LIST.append(S)\n",
        "\n",
        "print(COUNT)"
      ]
    },
    {
      "cell_type": "code",
      "source": [
        "from collections import deque\n",
        "\n",
        "N = int(input())\n",
        "S_LIST = deque()\n",
        "S_SET = set()\n",
        "COUNT = 0\n",
        "\n",
        "for _ in range(N):\n",
        "    S = input()\n",
        "    if S not in S_SET and S[::-1] not in S_SET:\n",
        "        COUNT += 1\n",
        "    S_SET.add(S)\n",
        "    S_LIST.appendleft(S)\n",
        "\n",
        "print(COUNT)"
      ],
      "metadata": {
        "id": "SD2idEB7i2Qd"
      },
      "execution_count": null,
      "outputs": []
    },
    {
      "cell_type": "markdown",
      "source": [
        "次のコードを高速化してください。\n",
        "\n",
        "from collections import deque\n",
        "\n",
        "N = int(input())\n",
        "S_LIST = deque()\n",
        "S = \"\"\n",
        "COUNT = 0\n",
        "S_SET = set()\n",
        "\n",
        "for i in range(N):\n",
        "  S = str(input())\n",
        "  S_SET = set(list(S_LIST))\n",
        "  if S not in S_SET and S[::-1] not in S_SET:\n",
        "    COUNT += 1\n",
        "  S_LIST.append(S)\n",
        "\n",
        "print(COUNT)"
      ],
      "metadata": {
        "id": "tfGalkjXirVQ"
      }
    },
    {
      "cell_type": "code",
      "source": [],
      "metadata": {
        "id": "e397czkbiduC"
      },
      "execution_count": null,
      "outputs": []
    }
  ]
}