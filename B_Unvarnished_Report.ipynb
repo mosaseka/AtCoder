{
  "nbformat": 4,
  "nbformat_minor": 0,
  "metadata": {
    "colab": {
      "provenance": [],
      "authorship_tag": "ABX9TyNKs+cwXoax8UMmY5/9kyrL",
      "include_colab_link": true
    },
    "kernelspec": {
      "name": "python3",
      "display_name": "Python 3"
    },
    "language_info": {
      "name": "python"
    }
  },
  "cells": [
    {
      "cell_type": "markdown",
      "metadata": {
        "id": "view-in-github",
        "colab_type": "text"
      },
      "source": [
        "<a href=\"https://colab.research.google.com/github/mosaseka/AtCoder/blob/main/B_Unvarnished_Report.ipynb\" target=\"_parent\"><img src=\"https://colab.research.google.com/assets/colab-badge.svg\" alt=\"Open In Colab\"/></a>"
      ]
    },
    {
      "cell_type": "code",
      "execution_count": null,
      "metadata": {
        "id": "dPE-R8v6d4I6"
      },
      "outputs": [],
      "source": [
        "S = str(input())\n",
        "T = str(input())\n",
        "\n",
        "if S != T:\n",
        "  for i in range(min(len(S),len(T))):\n",
        "    if S[i] != T[i]:\n",
        "      print(i+1)\n",
        "      exit()\n",
        "  print(min(len(S),len(T)) + 1)\n",
        "else:\n",
        "  print(0)"
      ]
    }
  ]
}