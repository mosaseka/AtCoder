{
  "nbformat": 4,
  "nbformat_minor": 0,
  "metadata": {
    "colab": {
      "provenance": [],
      "authorship_tag": "ABX9TyNeBURE3uZM6aHcPKbtZHzg",
      "include_colab_link": true
    },
    "kernelspec": {
      "name": "python3",
      "display_name": "Python 3"
    },
    "language_info": {
      "name": "python"
    }
  },
  "cells": [
    {
      "cell_type": "markdown",
      "metadata": {
        "id": "view-in-github",
        "colab_type": "text"
      },
      "source": [
        "<a href=\"https://colab.research.google.com/github/mosaseka/AtCoder/blob/main/C_Step.ipynb\" target=\"_parent\"><img src=\"https://colab.research.google.com/assets/colab-badge.svg\" alt=\"Open In Colab\"/></a>"
      ]
    },
    {
      "cell_type": "code",
      "execution_count": null,
      "metadata": {
        "id": "NDB6v6Aqogfj"
      },
      "outputs": [],
      "source": [
        "from collections import deque\n",
        "\n",
        "N = int(input())\n",
        "A_LIST = list(map(int,input().split()))\n",
        "ANSWER_DEQ = deque()\n",
        "MAX = 0\n",
        "\n",
        "for i in range(N-1):\n",
        "  MAX = max(A_LIST[:i+1])\n",
        "  if A_LIST[i+1] < MAX:\n",
        "    ANSWER_DEQ.append(abs(A_LIST[i+1] - MAX))\n",
        "    A_LIST[i+1] += abs(A_LIST[i+1] - MAX)\n",
        "\n",
        "ANSWER_DEQ = list(ANSWER_DEQ)\n",
        "print(sum(ANSWER_DEQ))"
      ]
    },
    {
      "cell_type": "code",
      "source": [
        "N = int(input())\n",
        "A_LIST = list(map(int,input().split()))\n",
        "ANSWER = 0\n",
        "\n",
        "for i in range(N-1):\n",
        "  if A_LIST[i] > A_LIST[i+1]:\n",
        "    ANSWER += abs(A_LIST[i]-A_LIST[i+1])\n",
        "    A_LIST[i+1] = A_LIST[i]\n",
        "\n",
        "print(ANSWER)"
      ],
      "metadata": {
        "id": "Cnk3iiGKqARl"
      },
      "execution_count": null,
      "outputs": []
    }
  ]
}