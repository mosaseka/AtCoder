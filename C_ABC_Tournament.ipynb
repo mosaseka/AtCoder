{
  "nbformat": 4,
  "nbformat_minor": 0,
  "metadata": {
    "colab": {
      "provenance": [],
      "authorship_tag": "ABX9TyOHtZkYEg3AkByXT4DgUKjT",
      "include_colab_link": true
    },
    "kernelspec": {
      "name": "python3",
      "display_name": "Python 3"
    },
    "language_info": {
      "name": "python"
    }
  },
  "cells": [
    {
      "cell_type": "markdown",
      "metadata": {
        "id": "view-in-github",
        "colab_type": "text"
      },
      "source": [
        "<a href=\"https://colab.research.google.com/github/mosaseka/AtCoder/blob/main/C_ABC_Tournament.ipynb\" target=\"_parent\"><img src=\"https://colab.research.google.com/assets/colab-badge.svg\" alt=\"Open In Colab\"/></a>"
      ]
    },
    {
      "cell_type": "code",
      "execution_count": null,
      "metadata": {
        "id": "wr7GEkNChFSI"
      },
      "outputs": [],
      "source": [
        "def SPLIT(LIST,NUM):\n",
        "  return [LIST[i:i+NUM] for i in range(0,len(LIST),NUM)]\n",
        "\n",
        "N = int(input())\n",
        "A_LIST = list(map(int,input().split()))\n",
        "CHECK = []\n",
        "NEXT = []\n",
        "\n",
        "NEXT = A_LIST\n",
        "\n",
        "while True:\n",
        "  CHECK = SPLIT(NEXT,2)\n",
        "  #print(CHECK)\n",
        "  NEXT = []\n",
        "  if len(CHECK) == 1:\n",
        "    print(A_LIST.index(min(CHECK[0])) + 1)\n",
        "    exit()\n",
        "  else:\n",
        "    for i in range(len(CHECK)):\n",
        "      NEXT.append(max(CHECK[i]))"
      ]
    }
  ]
}