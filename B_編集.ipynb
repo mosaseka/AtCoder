{
  "nbformat": 4,
  "nbformat_minor": 0,
  "metadata": {
    "colab": {
      "provenance": [],
      "authorship_tag": "ABX9TyOs4BRmoQV43XXZVkzvXkks",
      "include_colab_link": true
    },
    "kernelspec": {
      "name": "python3",
      "display_name": "Python 3"
    },
    "language_info": {
      "name": "python"
    }
  },
  "cells": [
    {
      "cell_type": "markdown",
      "metadata": {
        "id": "view-in-github",
        "colab_type": "text"
      },
      "source": [
        "<a href=\"https://colab.research.google.com/github/mosaseka/AtCoder/blob/main/B_%E7%B7%A8%E9%9B%86.ipynb\" target=\"_parent\"><img src=\"https://colab.research.google.com/assets/colab-badge.svg\" alt=\"Open In Colab\"/></a>"
      ]
    },
    {
      "cell_type": "code",
      "execution_count": null,
      "metadata": {
        "id": "kBUF78SjDmUN"
      },
      "outputs": [],
      "source": [
        "N,Q = map(int,input().split())\n",
        "ANSWER_LIST = [0 for i in range(N)]\n",
        "L = 0\n",
        "R = 0\n",
        "T = 0\n",
        "\n",
        "for i in range(Q):\n",
        "  L,R,T = map(int,input().split())\n",
        "  ANSWER_LIST = ANSWER_LIST[:L-1] + [T for j in range(R-L+1)] + ANSWER_LIST[R-1:]\n",
        "\n",
        "print(ANSWER_LIST)\n",
        "\n",
        "for i in range(N):\n",
        "  print(ANSWER_LIST[i])"
      ]
    },
    {
      "cell_type": "code",
      "source": [
        "N,Q = map(int,input().split())\n",
        "ANSWER_LIST = [0 for i in range(N)]\n",
        "L = 0\n",
        "R = 0\n",
        "T = 0\n",
        "\n",
        "for i in range(Q):\n",
        "  L,R,T = map(int,input().split())\n",
        "  for j in range(L,R+1):\n",
        "    ANSWER_LIST[j-1] = T\n",
        "\n",
        "for i in range(N):\n",
        "  print(ANSWER_LIST[i])"
      ],
      "metadata": {
        "id": "rtw_51z0HT5n"
      },
      "execution_count": null,
      "outputs": []
    }
  ]
}