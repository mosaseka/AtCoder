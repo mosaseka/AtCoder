{
  "nbformat": 4,
  "nbformat_minor": 0,
  "metadata": {
    "colab": {
      "provenance": [],
      "authorship_tag": "ABX9TyPJ82ETNl1LolFp/gCNP6I+",
      "include_colab_link": true
    },
    "kernelspec": {
      "name": "python3",
      "display_name": "Python 3"
    },
    "language_info": {
      "name": "python"
    }
  },
  "cells": [
    {
      "cell_type": "markdown",
      "metadata": {
        "id": "view-in-github",
        "colab_type": "text"
      },
      "source": [
        "<a href=\"https://colab.research.google.com/github/mosaseka/AtCoder/blob/main/B_Minesweeper.ipynb\" target=\"_parent\"><img src=\"https://colab.research.google.com/assets/colab-badge.svg\" alt=\"Open In Colab\"/></a>"
      ]
    },
    {
      "cell_type": "code",
      "execution_count": null,
      "metadata": {
        "id": "DqF-GSGOt3WL"
      },
      "outputs": [],
      "source": [
        "H,W = map(int,input().split())\n",
        "S_LIST = [list(str(input())) for i in range(H)]\n",
        "BOMB_H = []\n",
        "BOMB_W = []\n",
        "ANSWER = \"\"\n",
        "ANSWER_LIST = [[0]*W for i in range(H)]\n",
        "\n",
        "#print(ANSWER_LIST)\n",
        "\n",
        "for i in range(H):\n",
        "  for j in range(W):\n",
        "    if S_LIST[i][j] == \"#\":\n",
        "      BOMB_H.append(i)\n",
        "      BOMB_W.append(j)\n",
        "\n",
        "print(BOMB_H)\n",
        "print(BOMB_W)\n",
        "\n",
        "for i in range(len(BOMB_H)):\n",
        "  if BOMB_H[i] == 0 or BOMB_W[i] == 0:\n",
        "    ANSWER_LIST[BOMB_H[i]][BOMB_W[i]+1] += 1 #右\n",
        "    ANSWER_LIST[BOMB_H[i]+1][BOMB_W[i]] += 1 #下\n",
        "    ANSWER_LIST[BOMB_H[i]+1][BOMB_W[i]+1] += 1 #右下\n",
        "    continue\n",
        "  elif BOMB_H[i] == H-1 or BOMB_W[i] == W-1:\n",
        "    ANSWER_LIST[BOMB_H[i]-1][BOMB_W[i]-1] += 1 #左上\n",
        "    ANSWER_LIST[BOMB_H[i]-1][BOMB_W[i]] += 1 #上\n",
        "    ANSWER_LIST[BOMB_H[i]][BOMB_W[i]-1] += 1 #左\n",
        "    continue\n",
        "  else:\n",
        "    ANSWER_LIST[BOMB_H[i]-1][BOMB_W[i]-1] += 1 #左上\n",
        "    ANSWER_LIST[BOMB_H[i]-1][BOMB_W[i]] += 1 #上\n",
        "    ANSWER_LIST[BOMB_H[i]-1][BOMB_W[i]+1] += 1 #右上\n",
        "    ANSWER_LIST[BOMB_H[i]][BOMB_W[i]-1] += 1 #左\n",
        "    ANSWER_LIST[BOMB_H[i]][BOMB_W[i]+1] += 1 #右\n",
        "    ANSWER_LIST[BOMB_H[i]+1][BOMB_W[i]-1] += 1 #左下\n",
        "    ANSWER_LIST[BOMB_H[i]+1][BOMB_W[i]] += 1 #下\n",
        "    ANSWER_LIST[BOMB_H[i]+1][BOMB_W[i]+1] += 1 #右下\n",
        "\n",
        "for i in range(H):\n",
        "  ANSWER = \"\"\n",
        "  for j in range(W):\n",
        "    if [i,j] == [BOMB_H[i],BOMB_W[j]]:\n",
        "      ANSWER += \"#\"\n",
        "    else:\n",
        "      ANSWER += str(ANSWER_LIST[i][j])\n",
        "  print(ANSWER)"
      ]
    },
    {
      "cell_type": "code",
      "source": [
        "H,W = map(int,input().split())\n",
        "S_LIST = [list(str(input())) for i in range(H)]\n",
        "COUNT = 0\n",
        "ANSWER = \"\"\n",
        "ANSWER_LIST = [[0]*W for i in range(H)]\n",
        "BOMB_LIST = []\n",
        "\n",
        "for i in range(H):\n",
        "  for j in range(W):\n",
        "    if S_LIST[i][j] == \"#\":\n",
        "      BOMB_LIST.append([i,j])\n",
        "    if 0<i and 0<j and S_LIST[i-1][j-1] == \"#\": #左上が地雷\n",
        "      ANSWER_LIST[i][j] += 1\n",
        "    if 0<i and S_LIST[i-1][j] == \"#\": #上が地雷\n",
        "      ANSWER_LIST[i][j] += 1\n",
        "    if 0<i and j<W-1 and S_LIST[i-1][j+1] == \"#\": #右上が地雷\n",
        "      ANSWER_LIST[i][j] += 1\n",
        "    if 0<j and S_LIST[i][j-1] == \"#\": #左が地雷\n",
        "      ANSWER_LIST[i][j] += 1\n",
        "    if j<W-1 and S_LIST[i][j+1] == \"#\": #右が地雷\n",
        "      ANSWER_LIST[i][j] += 1\n",
        "    if i<H-1 and 0<j and S_LIST[i+1][j-1] == \"#\": #左下が地雷\n",
        "      ANSWER_LIST[i][j] += 1\n",
        "    if i<H-1 and S_LIST[i+1][j] == \"#\": #下が地雷\n",
        "      ANSWER_LIST[i][j] += 1\n",
        "    if i<H-1 and j<W-1 and S_LIST[i+1][j+1] == \"#\": #右下が地雷\n",
        "      ANSWER_LIST[i][j] += 1\n",
        "\n",
        "#print(ANSWER_LIST)\n",
        "\n",
        "for i in range(H):\n",
        "  ANSWER = \"\"\n",
        "  for j in range(W):\n",
        "    if [i,j] in BOMB_LIST:\n",
        "      ANSWER += \"#\"\n",
        "    else:\n",
        "      ANSWER += str(ANSWER_LIST[i][j])\n",
        "  print(ANSWER)"
      ],
      "metadata": {
        "id": "0eZ62drqEW-N"
      },
      "execution_count": null,
      "outputs": []
    }
  ]
}