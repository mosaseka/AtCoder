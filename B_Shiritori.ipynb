{
  "nbformat": 4,
  "nbformat_minor": 0,
  "metadata": {
    "colab": {
      "provenance": [],
      "authorship_tag": "ABX9TyPyzWkTA8Is1wraLuMgNTlH",
      "include_colab_link": true
    },
    "kernelspec": {
      "name": "python3",
      "display_name": "Python 3"
    },
    "language_info": {
      "name": "python"
    }
  },
  "cells": [
    {
      "cell_type": "markdown",
      "metadata": {
        "id": "view-in-github",
        "colab_type": "text"
      },
      "source": [
        "<a href=\"https://colab.research.google.com/github/mosaseka/AtCoder/blob/main/B_Shiritori.ipynb\" target=\"_parent\"><img src=\"https://colab.research.google.com/assets/colab-badge.svg\" alt=\"Open In Colab\"/></a>"
      ]
    },
    {
      "cell_type": "code",
      "execution_count": null,
      "metadata": {
        "id": "X7kV1Jxyl6-o"
      },
      "outputs": [],
      "source": [
        "N = int(input())\n",
        "WORD_LIST = []\n",
        "WORD = \"\"\n",
        "FLAG = True\n",
        "\n",
        "for i in range(N):\n",
        "  WORD = str(input())\n",
        "  if i == 0:\n",
        "    WORD_LIST.append(WORD)\n",
        "  else:\n",
        "    if WORD_LIST[-1][-1] == WORD[0] and WORD not in WORD_LIST:\n",
        "      WORD_LIST.append(WORD)\n",
        "    else:\n",
        "      FLAG = False\n",
        "      break\n",
        "\n",
        "if FLAG:\n",
        "  print(\"Yes\")\n",
        "else:\n",
        "  print(\"No\")"
      ]
    }
  ]
}