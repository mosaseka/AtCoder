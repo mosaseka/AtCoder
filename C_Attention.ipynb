{
  "nbformat": 4,
  "nbformat_minor": 0,
  "metadata": {
    "colab": {
      "provenance": [],
      "authorship_tag": "ABX9TyNHK6uqjnJdrAqvFjFbNWEN",
      "include_colab_link": true
    },
    "kernelspec": {
      "name": "python3",
      "display_name": "Python 3"
    },
    "language_info": {
      "name": "python"
    }
  },
  "cells": [
    {
      "cell_type": "markdown",
      "metadata": {
        "id": "view-in-github",
        "colab_type": "text"
      },
      "source": [
        "<a href=\"https://colab.research.google.com/github/mosaseka/AtCoder/blob/main/C_Attention.ipynb\" target=\"_parent\"><img src=\"https://colab.research.google.com/assets/colab-badge.svg\" alt=\"Open In Colab\"/></a>"
      ]
    },
    {
      "cell_type": "code",
      "execution_count": null,
      "metadata": {
        "id": "_cyMATgwvzVF"
      },
      "outputs": [],
      "source": [
        "from collections import deque\n",
        "import itertools\n",
        "\n",
        "N = int(input())\n",
        "S_DEQ = deque(map(str,input()))\n",
        "ALPHA_DEQ = deque()\n",
        "BETA_DEQ = deque()\n",
        "WEST = 0\n",
        "EAST = 0\n",
        "ANSWER_DEQ = deque()\n",
        "\n",
        "#print(S_DEQ)\n",
        "\n",
        "\n",
        "for i in range(N):\n",
        "  ALPHA_DEQ = deque(itertools.islice(S_DEQ,i))\n",
        "  BETA_DEQ = deque(itertools.islice(S_DEQ,i+1,N))\n",
        "  WEST = ALPHA_DEQ.count(\"W\")\n",
        "  EAST = BETA_DEQ.count(\"E\")\n",
        "  ANSWER_DEQ.append(WEST+EAST)\n",
        "\n",
        "print(min(ANSWER_DEQ))"
      ]
    },
    {
      "cell_type": "code",
      "source": [
        "from collections import deque\n",
        "import itertools\n",
        "\n",
        "N = int(input())\n",
        "S_DEQ = deque(map(str,input()))\n",
        "CHECK_DEQ = deque(0 for i in range(N))\n",
        "WEST_DEQ = deque(0 for i in range(N+1))\n",
        "EAST_DEQ = deque(0 for i in range(N+1))\n",
        "ANSWER_DEQ = deque(0 for i in range(N))\n",
        "\n",
        "#print(S_DEQ)\n",
        "\n",
        "for i in range(N):\n",
        "  if S_DEQ[i] == \"W\":\n",
        "    CHECK_DEQ[i] = 1\n",
        "  else:\n",
        "    CHECK_DEQ[i] = 0\n",
        "  WEST_DEQ[i+1] = WEST_DEQ[i] + CHECK_DEQ[i]\n",
        "\n",
        "for i in range(N):\n",
        "  if S_DEQ[i] == \"E\":\n",
        "    CHECK_DEQ[i] = 1\n",
        "  else:\n",
        "    CHECK_DEQ[i] = 0\n",
        "  EAST_DEQ[i+1] = EAST_DEQ[i] + CHECK_DEQ[i]\n",
        "\n",
        "for i in range(N):\n",
        "  ANSWER_DEQ[i] = (WEST_DEQ[i] + (EAST_DEQ[N] - EAST_DEQ[i+1]))\n",
        "\n",
        "print(min(ANSWER_DEQ))"
      ],
      "metadata": {
        "id": "rnwi64qIvyJL"
      },
      "execution_count": null,
      "outputs": []
    },
    {
      "cell_type": "code",
      "source": [
        "N = int(input())\n",
        "S_LIST = list(map(str,input()))\n",
        "CHECK_LIST = list(0 for i in range(N))\n",
        "WEST_LIST = list(0 for i in range(N+1))\n",
        "EAST_LIST = list(0 for i in range(N+1))\n",
        "ANSWER_LIST = list(0 for i in range(N))\n",
        "\n",
        "#print(S_LIST)\n",
        "\n",
        "for i in range(N):\n",
        "  if S_LIST[i] == \"W\":\n",
        "    CHECK_LIST[i] = 1\n",
        "  else:\n",
        "    CHECK_LIST[i] = 0\n",
        "  WEST_LIST[i+1] = WEST_LIST[i] + CHECK_LIST[i]\n",
        "\n",
        "for i in range(N):\n",
        "  if S_LIST[i] == \"E\":\n",
        "    CHECK_LIST[i] = 1\n",
        "  else:\n",
        "    CHECK_LIST[i] = 0\n",
        "  EAST_LIST[i+1] = EAST_LIST[i] + CHECK_LIST[i]\n",
        "\n",
        "for i in range(N):\n",
        "  ANSWER_LIST[i] = (WEST_LIST[i] + (EAST_LIST[N] - EAST_LIST[i+1]))\n",
        "\n",
        "print(min(ANSWER_LIST))"
      ],
      "metadata": {
        "id": "1si2vVLwynFQ"
      },
      "execution_count": null,
      "outputs": []
    }
  ]
}