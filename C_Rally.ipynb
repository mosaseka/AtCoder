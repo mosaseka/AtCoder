{
  "nbformat": 4,
  "nbformat_minor": 0,
  "metadata": {
    "colab": {
      "provenance": [],
      "authorship_tag": "ABX9TyMZTW+amteoHBBFjFWAjcsZ",
      "include_colab_link": true
    },
    "kernelspec": {
      "name": "python3",
      "display_name": "Python 3"
    },
    "language_info": {
      "name": "python"
    }
  },
  "cells": [
    {
      "cell_type": "markdown",
      "metadata": {
        "id": "view-in-github",
        "colab_type": "text"
      },
      "source": [
        "<a href=\"https://colab.research.google.com/github/mosaseka/AtCoder/blob/main/C_Rally.ipynb\" target=\"_parent\"><img src=\"https://colab.research.google.com/assets/colab-badge.svg\" alt=\"Open In Colab\"/></a>"
      ]
    },
    {
      "cell_type": "code",
      "execution_count": null,
      "metadata": {
        "colab": {
          "base_uri": "https://localhost:8080/"
        },
        "id": "9DXcCOeqGit6",
        "outputId": "59936079-23e8-4223-daaf-0cce63b30157"
      },
      "outputs": [
        {
          "output_type": "stream",
          "name": "stdout",
          "text": [
            "2\n",
            "1 4\n",
            "5\n"
          ]
        }
      ],
      "source": [
        "N = int(input())\n",
        "X_LIST = list(map(int,input().split()))\n",
        "SUM_LIST = []\n",
        "HP_LIST = []\n",
        "\n",
        "for i in range(100):\n",
        "  for j in range(N):\n",
        "    HP_LIST.append((i - X_LIST[j])**2)\n",
        "  SUM_LIST.append(sum(HP_LIST))\n",
        "  HP_LIST = []\n",
        "\n",
        "print(min(SUM_LIST))"
      ]
    }
  ]
}