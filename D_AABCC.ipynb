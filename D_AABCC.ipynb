{
  "nbformat": 4,
  "nbformat_minor": 0,
  "metadata": {
    "colab": {
      "provenance": [],
      "authorship_tag": "ABX9TyNDE+3SQ3qhLD8gdFDKjhTJ",
      "include_colab_link": true
    },
    "kernelspec": {
      "name": "python3",
      "display_name": "Python 3"
    },
    "language_info": {
      "name": "python"
    }
  },
  "cells": [
    {
      "cell_type": "markdown",
      "metadata": {
        "id": "view-in-github",
        "colab_type": "text"
      },
      "source": [
        "<a href=\"https://colab.research.google.com/github/mosaseka/AtCoder/blob/main/D_AABCC.ipynb\" target=\"_parent\"><img src=\"https://colab.research.google.com/assets/colab-badge.svg\" alt=\"Open In Colab\"/></a>"
      ]
    },
    {
      "cell_type": "code",
      "execution_count": null,
      "metadata": {
        "id": "3oPz-Gv9FIY4"
      },
      "outputs": [],
      "source": [
        "def factorization(n):\n",
        "    arr = []\n",
        "    temp = n\n",
        "    for i in range(2, int(-(-n**0.5//1))+1):\n",
        "        if temp%i==0:\n",
        "            cnt=0\n",
        "            while temp%i==0:\n",
        "                cnt+=1\n",
        "                temp //= i\n",
        "            arr.append([i, cnt])\n",
        "\n",
        "    if temp!=1:\n",
        "        arr.append([temp, 1])\n",
        "\n",
        "    if arr==[]:\n",
        "        arr.append([n, 1])\n",
        "\n",
        "    return arr\n",
        "\n",
        "    # 3. nの素因数をリストとして返す\n",
        "    prime_factors = []\n",
        "    while factors[n] > 0:\n",
        "        prime_factors.append(factors[n])\n",
        "        n //= factors[n]\n",
        "    prime_factors.append(n)\n",
        "    return prime_factors[::-1]\n",
        "\n",
        "N = int(input())\n",
        "COUNT = 0\n",
        "CHECK_LIST = []\n",
        "CHECK_SET = set()\n",
        "\n",
        "for i in range(300,N+1):\n",
        "  CHECK_LIST = sorted(factorization(i))\n",
        "  #print(CHECK_LIST)\n",
        "  if len(CHECK_LIST) == 3 and CHECK_LIST[0][1] == 2 and CHECK_LIST[1][1] == 1 and CHECK_LIST[2][1] == 2:\n",
        "    COUNT += 1\n",
        "\n",
        "print(COUNT)"
      ]
    },
    {
      "cell_type": "code",
      "source": [
        "import math\n",
        "\n",
        "# 素因数分解のキャッシュを格納する辞書\n",
        "factor_cache = {}\n",
        "\n",
        "# nを素因数分解する\n",
        "def factorization(n):\n",
        "    # キャッシュから取得する\n",
        "    if n in factor_cache:\n",
        "        return factor_cache[n]\n",
        "\n",
        "    arr = []\n",
        "    temp = n\n",
        "    for i in range(2, int(math.sqrt(n))+1):\n",
        "        if temp%i==0:\n",
        "            cnt=0\n",
        "            while temp%i==0:\n",
        "                cnt+=1\n",
        "                temp //= i\n",
        "            arr.append([i, cnt])\n",
        "\n",
        "    if temp!=1:\n",
        "        arr.append([temp, 1])\n",
        "\n",
        "    if arr==[]:\n",
        "        arr.append([n, 1])\n",
        "\n",
        "    # キャッシュに格納する\n",
        "    factor_cache[n] = arr\n",
        "\n",
        "    return arr\n",
        "\n",
        "N = int(input())\n",
        "COUNT = 0\n",
        "\n",
        "for i in range(300,N+1):\n",
        "    CHECK_LIST = sorted(factorization(i))\n",
        "    if len(CHECK_LIST) == 3 and CHECK_LIST[0][1] == 2 and CHECK_LIST[1][1] == 1 and CHECK_LIST[2][1] == 2:\n",
        "        COUNT += 1\n",
        "\n",
        "print(COUNT)"
      ],
      "metadata": {
        "id": "tGOkOq8xMYu-"
      },
      "execution_count": null,
      "outputs": []
    },
    {
      "cell_type": "markdown",
      "source": [
        "次の問題をPythonで解いてください。\n",
        "\n",
        "N 以下の正整数のうち、\n",
        "a<b<c なる 素数\n",
        "a,b,c を用いて\n",
        "a\n",
        "2\n",
        " ×b×c\n",
        "2\n",
        "  と表せるものはいくつありますか?"
      ],
      "metadata": {
        "id": "2eBj-DWpNWdR"
      }
    }
  ]
}