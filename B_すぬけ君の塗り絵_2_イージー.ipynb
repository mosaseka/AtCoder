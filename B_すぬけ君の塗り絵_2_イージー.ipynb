{
  "nbformat": 4,
  "nbformat_minor": 0,
  "metadata": {
    "colab": {
      "provenance": [],
      "authorship_tag": "ABX9TyMde5SXZy7/hN+ch1spf2zz",
      "include_colab_link": true
    },
    "kernelspec": {
      "name": "python3",
      "display_name": "Python 3"
    },
    "language_info": {
      "name": "python"
    }
  },
  "cells": [
    {
      "cell_type": "markdown",
      "metadata": {
        "id": "view-in-github",
        "colab_type": "text"
      },
      "source": [
        "<a href=\"https://colab.research.google.com/github/mosaseka/AtCoder/blob/main/B_%E3%81%99%E3%81%AC%E3%81%91%E5%90%9B%E3%81%AE%E5%A1%97%E3%82%8A%E7%B5%B5_2_%E3%82%A4%E3%83%BC%E3%82%B8%E3%83%BC.ipynb\" target=\"_parent\"><img src=\"https://colab.research.google.com/assets/colab-badge.svg\" alt=\"Open In Colab\"/></a>"
      ]
    },
    {
      "cell_type": "code",
      "execution_count": null,
      "metadata": {
        "id": "zjGk0J-cCIYK"
      },
      "outputs": [],
      "source": [
        "W,H,N = map(int,input().split())\n",
        "POINT_LIST = [[False for i in range(W)] for j in range(H)]\n",
        "X = 0\n",
        "Y = 0\n",
        "A = 0\n",
        "ANSWER = 0\n",
        "\n",
        "for i in range(N):\n",
        "  X,Y,A = map(int,input().split())\n",
        "  if A == 1:\n",
        "    for j in range(H):\n",
        "      for k in range(W):\n",
        "        if k < X:\n",
        "          POINT_LIST[j][k] = True\n",
        "  elif A == 2:\n",
        "    for j in range(H):\n",
        "      for k in range(W):\n",
        "        if k >= X:\n",
        "          POINT_LIST[j][k] = True\n",
        "  elif A == 3:\n",
        "    for j in range(H):\n",
        "      for k in range(W):\n",
        "        if j < Y:\n",
        "          POINT_LIST[j][k] = True\n",
        "  elif A == 4:\n",
        "    for j in range(H):\n",
        "      for k in range(W):\n",
        "        if j >= Y:\n",
        "          POINT_LIST[j][k] = True\n",
        "\n",
        "#print(POINT_LIST)\n",
        "\n",
        "for i in range(H):\n",
        "  ANSWER += POINT_LIST[i].count(False)\n",
        "\n",
        "print(ANSWER)"
      ]
    }
  ]
}