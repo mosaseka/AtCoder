{
  "nbformat": 4,
  "nbformat_minor": 0,
  "metadata": {
    "colab": {
      "provenance": [],
      "authorship_tag": "ABX9TyMgutUEgeV9LE1xJu1VRcpw",
      "include_colab_link": true
    },
    "kernelspec": {
      "name": "python3",
      "display_name": "Python 3"
    },
    "language_info": {
      "name": "python"
    }
  },
  "cells": [
    {
      "cell_type": "markdown",
      "metadata": {
        "id": "view-in-github",
        "colab_type": "text"
      },
      "source": [
        "<a href=\"https://colab.research.google.com/github/mosaseka/AtCoder/blob/main/C_Popcorn.ipynb\" target=\"_parent\"><img src=\"https://colab.research.google.com/assets/colab-badge.svg\" alt=\"Open In Colab\"/></a>"
      ]
    },
    {
      "cell_type": "code",
      "source": [
        "from itertools import combinations\n",
        "\n",
        "N,M = map(int,input().split())\n",
        "S_LIST = [str(input()) for i in range(N)]\n",
        "MASK = []\n",
        "ALPHA = 0\n",
        "FULL = 0\n",
        "BETA = 0\n",
        "\n",
        "for i in S_LIST:\n",
        "  ALPHA = 0\n",
        "  for j in range(M):\n",
        "    if i[j] == \"o\":\n",
        "      ALPHA |= (1 << j)\n",
        "  MASK.append(ALPHA)\n",
        "\n",
        "FULL = (1 << M) - 1\n",
        "\n",
        "for i in range(1,N+1):\n",
        "  for j in combinations(MASK,i):\n",
        "    BETA = 0\n",
        "    for k in j:\n",
        "      BETA |= k\n",
        "    if BETA == FULL:\n",
        "      print(i)\n",
        "      exit()"
      ],
      "metadata": {
        "id": "QCwaxajs_btJ"
      },
      "execution_count": null,
      "outputs": []
    }
  ]
}