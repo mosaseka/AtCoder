{
  "nbformat": 4,
  "nbformat_minor": 0,
  "metadata": {
    "colab": {
      "provenance": [],
      "authorship_tag": "ABX9TyPWq/wARqz8c5PZzqL1gnv7",
      "include_colab_link": true
    },
    "kernelspec": {
      "name": "python3",
      "display_name": "Python 3"
    },
    "language_info": {
      "name": "python"
    }
  },
  "cells": [
    {
      "cell_type": "markdown",
      "metadata": {
        "id": "view-in-github",
        "colab_type": "text"
      },
      "source": [
        "<a href=\"https://colab.research.google.com/github/mosaseka/AtCoder/blob/main/A_Capitalized%3F.ipynb\" target=\"_parent\"><img src=\"https://colab.research.google.com/assets/colab-badge.svg\" alt=\"Open In Colab\"/></a>"
      ]
    },
    {
      "cell_type": "code",
      "execution_count": null,
      "metadata": {
        "id": "fsOTOM37Ztls"
      },
      "outputs": [],
      "source": [
        "S = str(input())\n",
        "\n",
        "for i in range(len(S)):\n",
        "  if i == 0:\n",
        "    if S[i].upper() == S[i]:\n",
        "      pass\n",
        "    else:\n",
        "      print(\"No\")\n",
        "      exit()\n",
        "  else:\n",
        "    if S[i].lower() == S[i]:\n",
        "      pass\n",
        "    else:\n",
        "      print(\"No\")\n",
        "      exit()\n",
        "\n",
        "print(\"Yes\")"
      ]
    }
  ]
}