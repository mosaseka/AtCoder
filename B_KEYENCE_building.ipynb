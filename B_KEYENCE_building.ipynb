{
  "nbformat": 4,
  "nbformat_minor": 0,
  "metadata": {
    "colab": {
      "provenance": [],
      "authorship_tag": "ABX9TyOtBsUZtjAtZ4u7XngT82c/",
      "include_colab_link": true
    },
    "kernelspec": {
      "name": "python3",
      "display_name": "Python 3"
    },
    "language_info": {
      "name": "python"
    }
  },
  "cells": [
    {
      "cell_type": "markdown",
      "metadata": {
        "id": "view-in-github",
        "colab_type": "text"
      },
      "source": [
        "<a href=\"https://colab.research.google.com/github/mosaseka/AtCoder/blob/main/B_KEYENCE_building.ipynb\" target=\"_parent\"><img src=\"https://colab.research.google.com/assets/colab-badge.svg\" alt=\"Open In Colab\"/></a>"
      ]
    },
    {
      "cell_type": "code",
      "execution_count": null,
      "metadata": {
        "id": "BzthXbORWSHz"
      },
      "outputs": [],
      "source": [
        "def CALC(A,B):\n",
        "  return 4*A*B + 3*A + 3*B\n",
        "\n",
        "N = int(input())\n",
        "S_LIST = list(map(int,input().split()))\n",
        "FLAG = False\n",
        "COUNT = 0\n",
        "\n",
        "for i in range(N):\n",
        "  FLAG = False\n",
        "  for j in range(1,1001):\n",
        "    for k in range(1,1001):\n",
        "      if CALC(j,k) == S_LIST[i]:\n",
        "        FLAG = True\n",
        "  if not FLAG:\n",
        "    COUNT += 1\n",
        "\n",
        "print(COUNT)"
      ]
    }
  ]
}