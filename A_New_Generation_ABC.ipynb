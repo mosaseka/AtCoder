{
  "nbformat": 4,
  "nbformat_minor": 0,
  "metadata": {
    "colab": {
      "provenance": [],
      "authorship_tag": "ABX9TyMeBHIxpzrN3qHjNhZhab1i",
      "include_colab_link": true
    },
    "kernelspec": {
      "name": "python3",
      "display_name": "Python 3"
    },
    "language_info": {
      "name": "python"
    }
  },
  "cells": [
    {
      "cell_type": "markdown",
      "metadata": {
        "id": "view-in-github",
        "colab_type": "text"
      },
      "source": [
        "<a href=\"https://colab.research.google.com/github/mosaseka/AtCoder/blob/main/A_New_Generation_ABC.ipynb\" target=\"_parent\"><img src=\"https://colab.research.google.com/assets/colab-badge.svg\" alt=\"Open In Colab\"/></a>"
      ]
    },
    {
      "cell_type": "code",
      "execution_count": null,
      "metadata": {
        "id": "BWpsWg7Y5ewv"
      },
      "outputs": [],
      "source": [
        "N = int(input())\n",
        "\n",
        "if 1 <= N and N <= 125:\n",
        "  print(4)\n",
        "elif 126 <= N and N <= 211:\n",
        "  print(6)\n",
        "elif 212 <= N and N <= 214:\n",
        "  print(8)"
      ]
    }
  ]
}