{
  "nbformat": 4,
  "nbformat_minor": 0,
  "metadata": {
    "colab": {
      "provenance": [],
      "authorship_tag": "ABX9TyPqPlk0h50741RCmA7X9Zo1",
      "include_colab_link": true
    },
    "kernelspec": {
      "name": "python3",
      "display_name": "Python 3"
    },
    "language_info": {
      "name": "python"
    }
  },
  "cells": [
    {
      "cell_type": "markdown",
      "metadata": {
        "id": "view-in-github",
        "colab_type": "text"
      },
      "source": [
        "<a href=\"https://colab.research.google.com/github/mosaseka/AtCoder/blob/main/B_3_smooth_Numbers.ipynb\" target=\"_parent\"><img src=\"https://colab.research.google.com/assets/colab-badge.svg\" alt=\"Open In Colab\"/></a>"
      ]
    },
    {
      "cell_type": "code",
      "execution_count": null,
      "metadata": {
        "id": "VJubbSIWB7w3"
      },
      "outputs": [],
      "source": [
        "def factorization(n):\n",
        "    arr = []\n",
        "    temp = n\n",
        "    for i in range(2, int(-(-n**0.5//1))+1):\n",
        "        if temp%i==0:\n",
        "            cnt=0\n",
        "            while temp%i==0:\n",
        "                cnt+=1\n",
        "                temp //= i\n",
        "            arr.append([i, cnt])\n",
        "\n",
        "    if temp!=1:\n",
        "        arr.append([temp, 1])\n",
        "\n",
        "    if arr==[]:\n",
        "        arr.append([n, 1])\n",
        "\n",
        "    return arr\n",
        "\n",
        "N = int(input())\n",
        "CHECK = []\n",
        "\n",
        "if N == 1:\n",
        "  print(\"Yes\")\n",
        "  exit()\n",
        "\n",
        "CHECK = factorization(N)\n",
        "#print(CHECK)\n",
        "\n",
        "if (len(CHECK) == 2 and CHECK[0][0] == 2 and CHECK[1][0] == 3):\n",
        "  print(\"Yes\")\n",
        "elif len(CHECK) == 1:\n",
        "  if CHECK[0][0] == 2 or CHECK[0][0] == 3:\n",
        "    print(\"Yes\")\n",
        "  else:\n",
        "    print(\"No\")\n",
        "else:\n",
        "  print(\"No\")"
      ]
    },
    {
      "cell_type": "code",
      "source": [
        "N = int(input())\n",
        "\n",
        "while N%2 == 0:\n",
        "  N //= 2\n",
        "\n",
        "while N%3 == 0:\n",
        "  N //= 3\n",
        "\n",
        "if N == 1:\n",
        "  print(\"Yes\")\n",
        "else:\n",
        "  print(\"No\")"
      ],
      "metadata": {
        "id": "Ed3hcIKzGAgH"
      },
      "execution_count": null,
      "outputs": []
    }
  ]
}