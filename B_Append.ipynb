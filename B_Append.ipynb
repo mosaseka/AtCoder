{
  "nbformat": 4,
  "nbformat_minor": 0,
  "metadata": {
    "colab": {
      "provenance": [],
      "authorship_tag": "ABX9TyPVCUJdxgMuUq55/A5tpJEw",
      "include_colab_link": true
    },
    "kernelspec": {
      "name": "python3",
      "display_name": "Python 3"
    },
    "language_info": {
      "name": "python"
    }
  },
  "cells": [
    {
      "cell_type": "markdown",
      "metadata": {
        "id": "view-in-github",
        "colab_type": "text"
      },
      "source": [
        "<a href=\"https://colab.research.google.com/github/mosaseka/AtCoder/blob/main/B_Append.ipynb\" target=\"_parent\"><img src=\"https://colab.research.google.com/assets/colab-badge.svg\" alt=\"Open In Colab\"/></a>"
      ]
    },
    {
      "cell_type": "code",
      "execution_count": null,
      "metadata": {
        "id": "xis3WZ9mWimQ"
      },
      "outputs": [],
      "source": [
        "Q = int(input())\n",
        "LIST = []\n",
        "INDEX = 0\n",
        "NUM = 0\n",
        "\n",
        "for i in range(Q):\n",
        "  INDEX,NUM = map(int,input().split())\n",
        "  if INDEX == 1:\n",
        "    LIST.append(NUM)\n",
        "  elif INDEX == 2:\n",
        "    print(LIST[-NUM])"
      ]
    }
  ]
}