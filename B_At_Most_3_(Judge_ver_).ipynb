{
  "nbformat": 4,
  "nbformat_minor": 0,
  "metadata": {
    "colab": {
      "provenance": [],
      "authorship_tag": "ABX9TyPRBDuz+G5NH66/8WCVBBcm",
      "include_colab_link": true
    },
    "kernelspec": {
      "name": "python3",
      "display_name": "Python 3"
    },
    "language_info": {
      "name": "python"
    }
  },
  "cells": [
    {
      "cell_type": "markdown",
      "metadata": {
        "id": "view-in-github",
        "colab_type": "text"
      },
      "source": [
        "<a href=\"https://colab.research.google.com/github/mosaseka/AtCoder/blob/main/B_At_Most_3_(Judge_ver_).ipynb\" target=\"_parent\"><img src=\"https://colab.research.google.com/assets/colab-badge.svg\" alt=\"Open In Colab\"/></a>"
      ]
    },
    {
      "cell_type": "code",
      "execution_count": null,
      "metadata": {
        "id": "AkFlhncNxjsy"
      },
      "outputs": [],
      "source": [
        "import itertools\n",
        "from collections import deque\n",
        "\n",
        "N,W = map(int,input().split())\n",
        "A_LIST = list(map(int,input().split()))\n",
        "A_COMB = []\n",
        "SUM_DEQ = deque()\n",
        "CHECK = 0\n",
        "COUNT = 0\n",
        "\n",
        "for i in range(3):\n",
        "  A_COMB = list(itertools.combinations(A_LIST,i+1))\n",
        "  for j in range(len(A_COMB)):\n",
        "    CHECK = sum(A_COMB[j])\n",
        "    SUM_DEQ.append(CHECK)\n",
        "\n",
        "#print(SUM_SET)\n",
        "SUM_DEQ = deque(set(SUM_DEQ))\n",
        "\n",
        "for i in range(len(SUM_DEQ)):\n",
        "  if SUM_DEQ[i] <= W:\n",
        "    COUNT += 1\n",
        "\n",
        "print(COUNT)"
      ]
    },
    {
      "cell_type": "code",
      "source": [
        "import itertools\n",
        "from collections import deque\n",
        "\n",
        "N,W = map(int,input().split())\n",
        "A_LIST = list(map(int,input().split()))\n",
        "A_COMB = []\n",
        "FLAG_DEQ = deque(False for i in range(W))\n",
        "CHECK = 0\n",
        "COUNT = 0\n",
        "\n",
        "for i in range(3):\n",
        "  A_COMB = list(itertools.combinations(A_LIST,i+1))\n",
        "  for j in range(len(A_COMB)):\n",
        "    CHECK = sum(A_COMB[j])\n",
        "    if CHECK <= W:\n",
        "      FLAG_DEQ[CHECK-1] = True\n",
        "\n",
        "print(FLAG_DEQ.count(True))"
      ],
      "metadata": {
        "id": "EHEV2a8b1545"
      },
      "execution_count": null,
      "outputs": []
    },
    {
      "cell_type": "code",
      "source": [
        "import itertools\n",
        "from collections import deque\n",
        "\n",
        "N,W = map(int,input().split())\n",
        "A_LIST = [0,0] + list(map(int,input().split()))\n",
        "A_COMB = deque(itertools.combinations(A_LIST,3))\n",
        "FLAG_DEQ = deque(False for i in range(W))\n",
        "CHECK = 0\n",
        "\n",
        "for i in range(len(A_COMB)):\n",
        "  CHECK = sum(A_COMB[i])\n",
        "  if CHECK <= W:\n",
        "    FLAG_DEQ[CHECK-1] = True\n",
        "\n",
        "print(FLAG_DEQ.count(True))"
      ],
      "metadata": {
        "id": "0zimwxp93B3M"
      },
      "execution_count": null,
      "outputs": []
    },
    {
      "cell_type": "code",
      "source": [
        "import itertools\n",
        "from collections import deque\n",
        "\n",
        "N,W = map(int,input().split())\n",
        "A_LIST = [0,0] + list(map(int,input().split()))\n",
        "FLAG_LIST = [False for i in range(W)]\n",
        "CHECK = 0\n",
        "\n",
        "for i,j,k in itertools.combinations(A_LIST,3):\n",
        "  CHECK = i+j+k\n",
        "  if CHECK <= W:\n",
        "    FLAG_LIST[CHECK-1] = True\n",
        "\n",
        "print(FLAG_LIST.count(True))"
      ],
      "metadata": {
        "id": "W562_5s64RIc"
      },
      "execution_count": null,
      "outputs": []
    }
  ]
}