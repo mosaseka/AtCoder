{
  "nbformat": 4,
  "nbformat_minor": 0,
  "metadata": {
    "colab": {
      "provenance": [],
      "authorship_tag": "ABX9TyPm9VxllEemdkUAxvKkfVRh",
      "include_colab_link": true
    },
    "kernelspec": {
      "name": "python3",
      "display_name": "Python 3"
    },
    "language_info": {
      "name": "python"
    }
  },
  "cells": [
    {
      "cell_type": "markdown",
      "metadata": {
        "id": "view-in-github",
        "colab_type": "text"
      },
      "source": [
        "<a href=\"https://colab.research.google.com/github/mosaseka/AtCoder/blob/main/C_Sum_of_Numbers_Greater_Than_Me.ipynb\" target=\"_parent\"><img src=\"https://colab.research.google.com/assets/colab-badge.svg\" alt=\"Open In Colab\"/></a>"
      ]
    },
    {
      "cell_type": "code",
      "execution_count": null,
      "metadata": {
        "id": "KXxa7y3R-RoW"
      },
      "outputs": [],
      "source": [
        "from collections import deque\n",
        "from bisect import bisect_right\n",
        "\n",
        "N = int(input())\n",
        "A_LIST = list(map(int,input().split()))\n",
        "ANSWER = deque()\n",
        "SORT_LIST = sorted(A_LIST)\n",
        "INDEX = 0\n",
        "\n",
        "#print(A_LIST)\n",
        "#print(SORT_LIST)\n",
        "\n",
        "for i in range(N):\n",
        "  INDEX = bisect_right(SORT_LIST,A_LIST[i])\n",
        "  ANSWER.append(sum(SORT_LIST[INDEX:]))\n",
        "\n",
        "ANSWER = list(ANSWER)\n",
        "\n",
        "print(*ANSWER)"
      ]
    },
    {
      "cell_type": "markdown",
      "source": [
        "次のコードを高速化してください。\n",
        "\n",
        "from collections import deque\n",
        "from bisect import bisect_right\n",
        "\n",
        "N = int(input())\n",
        "A_LIST = list(map(int,input().split()))\n",
        "ANSWER = deque()\n",
        "SORT_LIST = sorted(A_LIST)\n",
        "INDEX = 0\n",
        "\n",
        "#print(A_LIST)\n",
        "#print(SORT_LIST)\n",
        "\n",
        "for i in range(N):\n",
        "  INDEX = bisect_right(SORT_LIST,A_LIST[i])\n",
        "  ANSWER.append(sum(SORT_LIST[INDEX:]))\n",
        "\n",
        "ANSWER = list(ANSWER)\n",
        "\n",
        "print(*ANSWER)"
      ],
      "metadata": {
        "id": "S3zYfZP6fF4c"
      }
    },
    {
      "cell_type": "code",
      "source": [
        "from collections import deque\n",
        "from bisect import bisect_right\n",
        "\n",
        "N = int(input())\n",
        "A_LIST = list(map(int,input().split()))\n",
        "ANSWER = deque()\n",
        "SORT_LIST = sorted(A_LIST)\n",
        "INDEX = 0\n",
        "SUM_LIST = [0] * (N+1)\n",
        "\n",
        "for i in range(N):\n",
        "  SUM_LIST[i+1] =  SUM_LIST[i] + SORT_LIST[i]\n",
        "\n",
        "for i in range(N):\n",
        "  INDEX = bisect_right(SORT_LIST,A_LIST[i])\n",
        "  ANSWER.append(SUM_LIST[N] - SUM_LIST[INDEX])\n",
        "\n",
        "ANSWER = list(ANSWER)\n",
        "\n",
        "print(*ANSWER)"
      ],
      "metadata": {
        "id": "1EDSkiZEfPAr"
      },
      "execution_count": null,
      "outputs": []
    }
  ]
}