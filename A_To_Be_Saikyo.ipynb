{
  "nbformat": 4,
  "nbformat_minor": 0,
  "metadata": {
    "colab": {
      "provenance": [],
      "authorship_tag": "ABX9TyPW79evHYcD7T/FUiWtf5iT",
      "include_colab_link": true
    },
    "kernelspec": {
      "name": "python3",
      "display_name": "Python 3"
    },
    "language_info": {
      "name": "python"
    }
  },
  "cells": [
    {
      "cell_type": "markdown",
      "metadata": {
        "id": "view-in-github",
        "colab_type": "text"
      },
      "source": [
        "<a href=\"https://colab.research.google.com/github/mosaseka/AtCoder/blob/main/A_To_Be_Saikyo.ipynb\" target=\"_parent\"><img src=\"https://colab.research.google.com/assets/colab-badge.svg\" alt=\"Open In Colab\"/></a>"
      ]
    },
    {
      "cell_type": "code",
      "execution_count": null,
      "metadata": {
        "id": "33bMq_CRUqEn"
      },
      "outputs": [],
      "source": [
        "N = int(input())\n",
        "P_LIST = list(map(int,input().split()))\n",
        "\n",
        "if max(P_LIST) == P_LIST[0]:\n",
        "  print(0)\n",
        "else:\n",
        "  print(max(P_LIST)+1-P_LIST[0])"
      ]
    },
    {
      "cell_type": "code",
      "source": [
        "N = int(input())\n",
        "P_LIST = list(map(int,input().split()))\n",
        "MAX = max(P_LIST)\n",
        "NUM = P_LIST[0]\n",
        "COUNT = 0\n",
        "\n",
        "if max(P_LIST) == P_LIST[0]:\n",
        "  if len(set(P_LIST)) == 1:\n",
        "    print(1)\n",
        "    exit()\n",
        "  else:\n",
        "    print(0)\n",
        "    exit()\n",
        "\n",
        "while True:\n",
        "  if NUM + COUNT > MAX:\n",
        "    print(COUNT)\n",
        "    exit()\n",
        "  else:\n",
        "    COUNT += 1"
      ],
      "metadata": {
        "id": "vGfBkjHrlFNh"
      },
      "execution_count": null,
      "outputs": []
    },
    {
      "cell_type": "code",
      "source": [
        "N = int(input())\n",
        "P_LIST = list(map(int,input().split()))\n",
        "NUM = P_LIST[0]\n",
        "\n",
        "if len(set(P_LIST)) != 1 and max(P_LIST) == P_LIST[0]:\n",
        "  print(0)\n",
        "  exit()\n",
        "\n",
        "for i in range(10000):\n",
        "  if NUM + i > max(P_LIST):\n",
        "    print(i)\n",
        "    exit()"
      ],
      "metadata": {
        "id": "ULp897uClnin"
      },
      "execution_count": null,
      "outputs": []
    },
    {
      "cell_type": "code",
      "source": [
        "N = int(input())\n",
        "P_LIST = list(map(int,input().split()))\n",
        "NUM = P_LIST[0]\n",
        "\n",
        "if len(set(P_LIST)) != 1 and max(P_LIST) == P_LIST[0]:\n",
        "  print(0)\n",
        "  exit()\n",
        "else:\n",
        "  print(max(P_LIST)-P_LIST[0] + 1)"
      ],
      "metadata": {
        "id": "Q0Q2YTdKm3Jt"
      },
      "execution_count": null,
      "outputs": []
    },
    {
      "cell_type": "markdown",
      "source": [
        "次の問題をPythonで解いてください。\n",
        "\n",
        "1 から\n",
        "N までの番号が付けられた\n",
        "N 人の人がいます。 それぞれの人にはプログラミング力という整数値が定まっており、人\n",
        "i のプログラミング力は\n",
        "P\n",
        "i\n",
        "​\n",
        "  です。 人\n",
        "1 が最強になるためには、あといくつプログラミング力を上げる必要がありますか？ すなわち、すべての\n",
        "i\n",
        "\n",
        "=1 に対して\n",
        "P\n",
        "1\n",
        "​\n",
        " +x>P\n",
        "i\n",
        "​\n",
        "  を満たすような最小の非負整数\n",
        "x は何ですか？"
      ],
      "metadata": {
        "id": "FrZcZly9ndJv"
      }
    },
    {
      "cell_type": "code",
      "source": [
        "def min_power_difference(N, P):\n",
        "    strongest_power = P[0]\n",
        "    min_difference = 0\n",
        "\n",
        "    for i in range(1, N):\n",
        "        difference_needed = strongest_power - P[i] + 1\n",
        "        if difference_needed > min_difference:\n",
        "            min_difference = difference_needed\n",
        "\n",
        "    return min_difference\n",
        "\n",
        "# テスト\n",
        "N = int(input())\n",
        "P = []\n",
        "for i in range(N):\n",
        "    power = int(input())\n",
        "    P.append(power)\n",
        "print(min_power_difference(N, P))"
      ],
      "metadata": {
        "id": "ZelEQ_PWnwzO"
      },
      "execution_count": null,
      "outputs": []
    },
    {
      "cell_type": "code",
      "source": [
        "N = int(input())\n",
        "P_LIST = list(map(int,input().split()))\n",
        "LIST = []\n",
        "\n",
        "for i in range(N):\n",
        "  if max(P_LIST) == P_LIST[i]:\n",
        "    pass\n",
        "  else:\n",
        "    LIST.append(max(P_LIST) - P_LIST[i])\n",
        "\n",
        "print(min(LIST))"
      ],
      "metadata": {
        "id": "7Db5YojdoG5-"
      },
      "execution_count": null,
      "outputs": []
    },
    {
      "cell_type": "code",
      "source": [
        "def min_additional_power(N, P):\n",
        "    max_power = P[0]\n",
        "    additional_power = 0\n",
        "\n",
        "    for i in range(1, N):\n",
        "        if P[0] <= P[i]:\n",
        "            additional_power = max(additional_power, P[i] - P[0] + 1)\n",
        "\n",
        "    return additional_power\n",
        "\n",
        "# テスト用例\n",
        "N = int(input())\n",
        "P = list(map(int,input().split()))\n",
        "print(min_additional_power(N, P))\n"
      ],
      "metadata": {
        "id": "3EPr5nWFxfp-"
      },
      "execution_count": null,
      "outputs": []
    }
  ]
}