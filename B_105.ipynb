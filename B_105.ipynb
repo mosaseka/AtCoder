{
  "nbformat": 4,
  "nbformat_minor": 0,
  "metadata": {
    "colab": {
      "provenance": [],
      "authorship_tag": "ABX9TyM/g+MeOovDH9aaD1exFrmp",
      "include_colab_link": true
    },
    "kernelspec": {
      "name": "python3",
      "display_name": "Python 3"
    },
    "language_info": {
      "name": "python"
    }
  },
  "cells": [
    {
      "cell_type": "markdown",
      "metadata": {
        "id": "view-in-github",
        "colab_type": "text"
      },
      "source": [
        "<a href=\"https://colab.research.google.com/github/mosaseka/AtCoder/blob/main/B_105.ipynb\" target=\"_parent\"><img src=\"https://colab.research.google.com/assets/colab-badge.svg\" alt=\"Open In Colab\"/></a>"
      ]
    },
    {
      "cell_type": "code",
      "execution_count": null,
      "metadata": {
        "id": "_ZYdFfFn3tMJ"
      },
      "outputs": [],
      "source": [
        "N = int(input())\n",
        "LIST = []\n",
        "DIV_LIST = []\n",
        "DIV_COUNT = 0\n",
        "\n",
        "for i in range(N):\n",
        "  if (i+1) % 2 == 1:\n",
        "    LIST.append(int(i+1))\n",
        "  else:\n",
        "    pass\n",
        "\n",
        "for i in range(len(LIST)):\n",
        "  for j in range(LIST[i]):\n",
        "    if LIST[i] % (j+1) == 0:\n",
        "      DIV_LIST.append(j+1)\n",
        "  if len(DIV_LIST) == 8:\n",
        "    DIV_COUNT = DIV_COUNT + 1\n",
        "  DIV_LIST = []\n",
        "\n",
        "print(DIV_COUNT)"
      ]
    }
  ]
}