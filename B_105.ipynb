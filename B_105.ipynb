{
  "nbformat": 4,
  "nbformat_minor": 0,
  "metadata": {
    "colab": {
      "provenance": [],
      "authorship_tag": "ABX9TyOOi0pSJ+W4Cgr9p2SfccFG",
      "include_colab_link": true
    },
    "kernelspec": {
      "name": "python3",
      "display_name": "Python 3"
    },
    "language_info": {
      "name": "python"
    }
  },
  "cells": [
    {
      "cell_type": "markdown",
      "metadata": {
        "id": "view-in-github",
        "colab_type": "text"
      },
      "source": [
        "<a href=\"https://colab.research.google.com/github/mosaseka/AtCoder/blob/main/B_105.ipynb\" target=\"_parent\"><img src=\"https://colab.research.google.com/assets/colab-badge.svg\" alt=\"Open In Colab\"/></a>"
      ]
    },
    {
      "cell_type": "code",
      "execution_count": null,
      "metadata": {
        "id": "Sa37-FNS-JTn"
      },
      "outputs": [],
      "source": [
        "def divisors_list(num):\n",
        "    divisors = []\n",
        "    for i in range(1, num+1):\n",
        "        if num % i == 0:\n",
        "            divisors.append(i)\n",
        "    return divisors\n",
        "\n",
        "N = int(input())\n",
        "COUNT = 0\n",
        "\n",
        "for i in range(N):\n",
        "  if len(divisors_list(i+1)) == 8 and (i+1)%2 == 1:\n",
        "    COUNT += 1\n",
        "\n",
        "print(COUNT)"
      ]
    }
  ]
}