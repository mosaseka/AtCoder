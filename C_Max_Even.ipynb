{
  "nbformat": 4,
  "nbformat_minor": 0,
  "metadata": {
    "colab": {
      "provenance": [],
      "authorship_tag": "ABX9TyNVbkKvBsrGWakZUWvb+2MV",
      "include_colab_link": true
    },
    "kernelspec": {
      "name": "python3",
      "display_name": "Python 3"
    },
    "language_info": {
      "name": "python"
    }
  },
  "cells": [
    {
      "cell_type": "markdown",
      "metadata": {
        "id": "view-in-github",
        "colab_type": "text"
      },
      "source": [
        "<a href=\"https://colab.research.google.com/github/mosaseka/AtCoder/blob/main/C_Max_Even.ipynb\" target=\"_parent\"><img src=\"https://colab.research.google.com/assets/colab-badge.svg\" alt=\"Open In Colab\"/></a>"
      ]
    },
    {
      "cell_type": "code",
      "execution_count": null,
      "metadata": {
        "id": "Cxdtc0b350uQ"
      },
      "outputs": [],
      "source": [
        "import itertools\n",
        "from collections import deque\n",
        "\n",
        "N = int(input())\n",
        "A_LIST = list(map(int,input().split()))\n",
        "ANSWER_DEQ = deque()\n",
        "SUM = 0\n",
        "\n",
        "for i in itertools.combinations(A_LIST,2):\n",
        "  SUM = sum(i)\n",
        "  if SUM % 2 == 0:\n",
        "    ANSWER_DEQ.append(SUM)\n",
        "\n",
        "if len(ANSWER_DEQ) == 0:\n",
        "  print(-1)\n",
        "else:\n",
        "  print(max(ANSWER_DEQ))"
      ]
    },
    {
      "cell_type": "code",
      "source": [
        "N = int(input())\n",
        "A_LIST = list(map(int,input().split()))\n",
        "ODD_LIST = []\n",
        "EVEN_LIST = []\n",
        "ODD = 0\n",
        "EVEN = 0\n",
        "ODD_FLAG = False\n",
        "EVEN_FLAG = False\n",
        "\n",
        "A_LIST.sort(reverse=True)\n",
        "#print(A_LIST)\n",
        "\n",
        "for i in range(N):\n",
        "  if ODD_FLAG and EVEN_FLAG:\n",
        "    break\n",
        "  elif len(ODD_LIST) == 2:\n",
        "    ODD = (sum(ODD_LIST))\n",
        "    ODD_FLAG = True\n",
        "  elif len(EVEN_LIST) == 2:\n",
        "    EVEN = (sum(EVEN_LIST))\n",
        "    EVEN_FLAG = True\n",
        "  else:\n",
        "    if A_LIST[i] % 2 == 0 and not EVEN_FLAG:\n",
        "      EVEN_LIST.append(A_LIST[i])\n",
        "    elif A_LIST[i] % 2 == 1 and not ODD_FLAG:\n",
        "      ODD_LIST.append(A_LIST[i])\n",
        "\n",
        "#print(ODD_LIST)\n",
        "#print(EVEN_LIST)\n",
        "\n",
        "if (ODD == 0 and len(ODD_LIST) != 2) and (EVEN == 0 and len(EVEN_LIST) != 2):\n",
        "  print(-1)\n",
        "  exit()\n",
        "elif len(ODD_LIST) == 2:\n",
        "  ODD = sum(ODD_LIST)\n",
        "elif len(EVEN_LIST) == 2:\n",
        "  EVEN = sum(EVEN_LIST)\n",
        "\n",
        "print(max(ODD,EVEN))"
      ],
      "metadata": {
        "id": "rkF1I_MY7P5H"
      },
      "execution_count": null,
      "outputs": []
    },
    {
      "cell_type": "code",
      "source": [
        "from collections import deque\n",
        "\n",
        "N = int(input())\n",
        "A_LIST = list(map(int,input().split()))\n",
        "ODD_DEQ = deque()\n",
        "EVEN_DEQ = deque()\n",
        "ODD = 0\n",
        "EVEN = 0\n",
        "\n",
        "for i in range(N):\n",
        "  if A_LIST[i] % 2 == 0:\n",
        "    EVEN_DEQ.append(A_LIST[i])\n",
        "  else:\n",
        "    ODD_DEQ.append(A_LIST[i])\n",
        "\n",
        "ODD_DEQ = list(ODD_DEQ)\n",
        "EVEN_DEQ = list(EVEN_DEQ)\n",
        "\n",
        "ODD_DEQ.sort(reverse=True)\n",
        "EVEN_DEQ.sort(reverse=True)\n",
        "\n",
        "if len(ODD_DEQ) >= 2:\n",
        "  ODD = ODD_DEQ[0] + ODD_DEQ[1]\n",
        "if len(EVEN_DEQ) >= 2:\n",
        "  EVEN = EVEN_DEQ[0] + EVEN_DEQ[1]\n",
        "\n",
        "if ODD == 0 and EVEN == 0:\n",
        "  print(-1)\n",
        "else:\n",
        "  print(max(ODD,EVEN))"
      ],
      "metadata": {
        "id": "yISlWrWYB_Nx"
      },
      "execution_count": null,
      "outputs": []
    }
  ]
}