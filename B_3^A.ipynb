{
  "nbformat": 4,
  "nbformat_minor": 0,
  "metadata": {
    "colab": {
      "provenance": [],
      "authorship_tag": "ABX9TyPz00NZgrAytty3SfZcuTwA",
      "include_colab_link": true
    },
    "kernelspec": {
      "name": "python3",
      "display_name": "Python 3"
    },
    "language_info": {
      "name": "python"
    }
  },
  "cells": [
    {
      "cell_type": "markdown",
      "metadata": {
        "id": "view-in-github",
        "colab_type": "text"
      },
      "source": [
        "<a href=\"https://colab.research.google.com/github/mosaseka/AtCoder/blob/main/B_3%5EA.ipynb\" target=\"_parent\"><img src=\"https://colab.research.google.com/assets/colab-badge.svg\" alt=\"Open In Colab\"/></a>"
      ]
    },
    {
      "cell_type": "code",
      "execution_count": null,
      "metadata": {
        "id": "1nKEtzhoYzvJ"
      },
      "outputs": [],
      "source": [
        "def base_n(num_10,n):\n",
        "    str_n = ''\n",
        "    while num_10:\n",
        "        if num_10%n>=10:\n",
        "            return -1\n",
        "        str_n += str(num_10%n)\n",
        "        num_10 //= n\n",
        "    return str(str_n[::-1])\n",
        "\n",
        "M = int(input())\n",
        "CHECK = base_n(M,3)\n",
        "ANSWER = []\n",
        "\n",
        "for i in range(len(CHECK)):\n",
        "  for j in range(int(CHECK[-(i+1)])):\n",
        "    ANSWER.append(i)\n",
        "\n",
        "print(len(ANSWER))\n",
        "print(*ANSWER)"
      ]
    }
  ]
}