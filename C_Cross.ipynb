{
  "nbformat": 4,
  "nbformat_minor": 0,
  "metadata": {
    "colab": {
      "provenance": [],
      "authorship_tag": "ABX9TyMLxdODbZhY0+Ex3S3jiS1q",
      "include_colab_link": true
    },
    "kernelspec": {
      "name": "python3",
      "display_name": "Python 3"
    },
    "language_info": {
      "name": "python"
    }
  },
  "cells": [
    {
      "cell_type": "markdown",
      "metadata": {
        "id": "view-in-github",
        "colab_type": "text"
      },
      "source": [
        "<a href=\"https://colab.research.google.com/github/mosaseka/AtCoder/blob/main/C_Cross.ipynb\" target=\"_parent\"><img src=\"https://colab.research.google.com/assets/colab-badge.svg\" alt=\"Open In Colab\"/></a>"
      ]
    },
    {
      "cell_type": "code",
      "execution_count": null,
      "metadata": {
        "id": "b_rt74hD5vrE"
      },
      "outputs": [],
      "source": [
        "H,W = map(int,input().split())\n",
        "C_LIST = [list(map(str,input())) for i in range(H)]\n",
        "ANSWER_LIST = [0 for i in range(min(H,W)+1)]\n",
        "SIZE = 0\n",
        "\n",
        "for i in range(H):\n",
        "  if i == 0 or i == H-1:\n",
        "    continue\n",
        "  for j in range(W):\n",
        "    SIZE = 0\n",
        "    if j == 0 or j == W-1:\n",
        "      continue\n",
        "    elif C_LIST[i][j] == \"#\":\n",
        "      while True:\n",
        "        if i+SIZE > H-1 or j+SIZE > W-1 or i-SIZE < 0 or j-SIZE < 0:\n",
        "          ANSWER_LIST[SIZE-1] += 1\n",
        "          break\n",
        "        elif C_LIST[i+SIZE][j+SIZE] == \"#\" and C_LIST[i+SIZE][j-SIZE] == \"#\" and C_LIST[i-SIZE][j+SIZE] == \"#\" and C_LIST[i-SIZE][j-SIZE] == \"#\":\n",
        "          SIZE += 1\n",
        "        else:\n",
        "          if SIZE == 0:\n",
        "            break\n",
        "          else:\n",
        "            ANSWER_LIST[SIZE-1] += 1\n",
        "            break\n",
        "\n",
        "ANSWER_LIST.pop(0)\n",
        "print(*ANSWER_LIST)"
      ]
    }
  ]
}