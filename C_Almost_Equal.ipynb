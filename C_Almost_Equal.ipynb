{
  "nbformat": 4,
  "nbformat_minor": 0,
  "metadata": {
    "colab": {
      "provenance": [],
      "authorship_tag": "ABX9TyPvx2qMjfxWXXfcoV/3jYZD",
      "include_colab_link": true
    },
    "kernelspec": {
      "name": "python3",
      "display_name": "Python 3"
    },
    "language_info": {
      "name": "python"
    }
  },
  "cells": [
    {
      "cell_type": "markdown",
      "metadata": {
        "id": "view-in-github",
        "colab_type": "text"
      },
      "source": [
        "<a href=\"https://colab.research.google.com/github/mosaseka/AtCoder/blob/main/C_Almost_Equal.ipynb\" target=\"_parent\"><img src=\"https://colab.research.google.com/assets/colab-badge.svg\" alt=\"Open In Colab\"/></a>"
      ]
    },
    {
      "cell_type": "code",
      "execution_count": null,
      "metadata": {
        "id": "wSF4-DkhH7Y2"
      },
      "outputs": [],
      "source": [
        "import itertools\n",
        "\n",
        "N,M = map(int,input().split())\n",
        "S_LIST = [str(input()) for i in range(N)]\n",
        "DIFF = 0\n",
        "FLAG = False\n",
        "\n",
        "for i in list(itertools.permutations(S_LIST)):\n",
        "  FLAG = False\n",
        "  #print(i)\n",
        "  for j in range(N-1):\n",
        "    for k in range(M):\n",
        "      if i[j][k] != i[j+1][k]:\n",
        "        DIFF += 1\n",
        "    #print(DIFF)\n",
        "    if DIFF <= 1:\n",
        "      DIFF = 0\n",
        "    else:\n",
        "      DIFF = 0\n",
        "      FLAG = True\n",
        "      break\n",
        "  if FLAG:\n",
        "    pass\n",
        "  else:\n",
        "    print(\"Yes\")\n",
        "    exit()\n",
        "\n",
        "print(\"No\")"
      ]
    },
    {
      "cell_type": "code",
      "source": [],
      "metadata": {
        "id": "Te-_LCpsK8kZ"
      },
      "execution_count": null,
      "outputs": []
    }
  ]
}