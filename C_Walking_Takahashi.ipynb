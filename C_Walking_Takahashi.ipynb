{
  "nbformat": 4,
  "nbformat_minor": 0,
  "metadata": {
    "colab": {
      "provenance": [],
      "authorship_tag": "ABX9TyMzrPgPw8qV6wkJVqUteDUx",
      "include_colab_link": true
    },
    "kernelspec": {
      "name": "python3",
      "display_name": "Python 3"
    },
    "language_info": {
      "name": "python"
    }
  },
  "cells": [
    {
      "cell_type": "markdown",
      "metadata": {
        "id": "view-in-github",
        "colab_type": "text"
      },
      "source": [
        "<a href=\"https://colab.research.google.com/github/mosaseka/AtCoder/blob/main/C_Walking_Takahashi.ipynb\" target=\"_parent\"><img src=\"https://colab.research.google.com/assets/colab-badge.svg\" alt=\"Open In Colab\"/></a>"
      ]
    },
    {
      "cell_type": "code",
      "execution_count": null,
      "metadata": {
        "id": "e7aQdGb3dgKh"
      },
      "outputs": [],
      "source": [
        "X,K,D = map(int,input().split())\n",
        "NUM = 0\n",
        "\n",
        "X = abs(X)\n",
        "\n",
        "if D*K <= X:\n",
        "  print(X-D*K)\n",
        "  exit()\n",
        "\n",
        "NUM = X//D\n",
        "if (K-NUM)%2 == 0:\n",
        "  print(X-NUM*D)\n",
        "else:\n",
        "  print((NUM+1)*D-X)"
      ]
    }
  ]
}