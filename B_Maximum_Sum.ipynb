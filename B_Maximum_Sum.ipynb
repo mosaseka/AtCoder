{
  "nbformat": 4,
  "nbformat_minor": 0,
  "metadata": {
    "colab": {
      "provenance": [],
      "authorship_tag": "ABX9TyPjTykkwCUQCubd4ubIjKig",
      "include_colab_link": true
    },
    "kernelspec": {
      "name": "python3",
      "display_name": "Python 3"
    },
    "language_info": {
      "name": "python"
    }
  },
  "cells": [
    {
      "cell_type": "markdown",
      "metadata": {
        "id": "view-in-github",
        "colab_type": "text"
      },
      "source": [
        "<a href=\"https://colab.research.google.com/github/mosaseka/AtCoder/blob/main/B_Maximum_Sum.ipynb\" target=\"_parent\"><img src=\"https://colab.research.google.com/assets/colab-badge.svg\" alt=\"Open In Colab\"/></a>"
      ]
    },
    {
      "cell_type": "code",
      "execution_count": null,
      "metadata": {
        "id": "HLlYkpJi77Jf"
      },
      "outputs": [],
      "source": [
        "ABC_LIST = list(map(int,input().split()))\n",
        "K = int(input())\n",
        "\n",
        "ABC_LIST.sort(reverse=True)\n",
        "\n",
        "for i in range(K):\n",
        "  ABC_LIST[0] *= 2\n",
        "\n",
        "print(sum(ABC_LIST))"
      ]
    }
  ]
}