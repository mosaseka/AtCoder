{
  "nbformat": 4,
  "nbformat_minor": 0,
  "metadata": {
    "colab": {
      "provenance": [],
      "authorship_tag": "ABX9TyPOTFzIS0+nquprBltCeuqr",
      "include_colab_link": true
    },
    "kernelspec": {
      "name": "python3",
      "display_name": "Python 3"
    },
    "language_info": {
      "name": "python"
    }
  },
  "cells": [
    {
      "cell_type": "markdown",
      "metadata": {
        "id": "view-in-github",
        "colab_type": "text"
      },
      "source": [
        "<a href=\"https://colab.research.google.com/github/mosaseka/AtCoder/blob/main/D_Water_Bottle.ipynb\" target=\"_parent\"><img src=\"https://colab.research.google.com/assets/colab-badge.svg\" alt=\"Open In Colab\"/></a>"
      ]
    },
    {
      "cell_type": "code",
      "execution_count": null,
      "metadata": {
        "id": "g9x-yX2w3HvY"
      },
      "outputs": [],
      "source": [
        "import math\n",
        "\n",
        "A,B,X = map(int,input().split())\n",
        "WATER = X /A\n",
        "NUM = 0\n",
        "ANSWER = 0\n",
        "\n",
        "if A*B/2 <= WATER:\n",
        "  NUM = (2*(A*B-WATER)/A)\n",
        "  ANSWER = math.degrees(math.atan2(NUM,A))\n",
        "else:\n",
        "  NUM = (2*WATER)/B\n",
        "  ANSWER = math.degrees(math.atan2(B,NUM))\n",
        "\n",
        "print(ANSWER)"
      ]
    }
  ]
}