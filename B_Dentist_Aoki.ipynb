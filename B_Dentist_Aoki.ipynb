{
  "nbformat": 4,
  "nbformat_minor": 0,
  "metadata": {
    "colab": {
      "provenance": [],
      "authorship_tag": "ABX9TyMGZiPI5UwzNEA686Uu8xy0",
      "include_colab_link": true
    },
    "kernelspec": {
      "name": "python3",
      "display_name": "Python 3"
    },
    "language_info": {
      "name": "python"
    }
  },
  "cells": [
    {
      "cell_type": "markdown",
      "metadata": {
        "id": "view-in-github",
        "colab_type": "text"
      },
      "source": [
        "<a href=\"https://colab.research.google.com/github/mosaseka/AtCoder/blob/main/B_Dentist_Aoki.ipynb\" target=\"_parent\"><img src=\"https://colab.research.google.com/assets/colab-badge.svg\" alt=\"Open In Colab\"/></a>"
      ]
    },
    {
      "cell_type": "code",
      "execution_count": null,
      "metadata": {
        "id": "m1zPv0OOsUDP"
      },
      "outputs": [],
      "source": [
        "N,Q = map(int,input().split())\n",
        "T_LIST = list(map(int,input().split()))\n",
        "LIST = [1] * N\n",
        "\n",
        "for i in range(Q):\n",
        "  if LIST[T_LIST[i]-1] == 1:\n",
        "    LIST[T_LIST[i]-1] = 0\n",
        "  else:\n",
        "    LIST[T_LIST[i]-1] = 1\n",
        "\n",
        "print(sum(LIST))"
      ]
    }
  ]
}