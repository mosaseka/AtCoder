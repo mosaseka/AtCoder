{
  "nbformat": 4,
  "nbformat_minor": 0,
  "metadata": {
    "colab": {
      "provenance": [],
      "authorship_tag": "ABX9TyOlrDznYZD+gPhZ38SWEs4Y",
      "include_colab_link": true
    },
    "kernelspec": {
      "name": "python3",
      "display_name": "Python 3"
    },
    "language_info": {
      "name": "python"
    }
  },
  "cells": [
    {
      "cell_type": "markdown",
      "metadata": {
        "id": "view-in-github",
        "colab_type": "text"
      },
      "source": [
        "<a href=\"https://colab.research.google.com/github/mosaseka/AtCoder/blob/main/B_Misjudge_the_Time.ipynb\" target=\"_parent\"><img src=\"https://colab.research.google.com/assets/colab-badge.svg\" alt=\"Open In Colab\"/></a>"
      ]
    },
    {
      "cell_type": "code",
      "execution_count": null,
      "metadata": {
        "id": "L6TVX5G3ZRuQ"
      },
      "outputs": [],
      "source": [
        "def CHECK(H,M):\n",
        "  A,B = H//10,H%10\n",
        "  C,D = M//10,M%10\n",
        "  AC = A*10 + C\n",
        "  BD = B*10 + D\n",
        "  return 0 <= AC <= 23 and 0 <= BD <= 59\n",
        "\n",
        "H,M = map(int,input().split())\n",
        "\n",
        "while not CHECK(H,M):\n",
        "  M += 1\n",
        "  if M == 60:\n",
        "    H += 1\n",
        "    M = 0\n",
        "  if H == 24:\n",
        "    H = 0\n",
        "\n",
        "print(H,M)"
      ]
    }
  ]
}