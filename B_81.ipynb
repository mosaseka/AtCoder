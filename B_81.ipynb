{
  "nbformat": 4,
  "nbformat_minor": 0,
  "metadata": {
    "colab": {
      "provenance": [],
      "authorship_tag": "ABX9TyPnT85iwvNlfXULxNuKkYd4",
      "include_colab_link": true
    },
    "kernelspec": {
      "name": "python3",
      "display_name": "Python 3"
    },
    "language_info": {
      "name": "python"
    }
  },
  "cells": [
    {
      "cell_type": "markdown",
      "metadata": {
        "id": "view-in-github",
        "colab_type": "text"
      },
      "source": [
        "<a href=\"https://colab.research.google.com/github/mosaseka/AtCoder/blob/main/B_81.ipynb\" target=\"_parent\"><img src=\"https://colab.research.google.com/assets/colab-badge.svg\" alt=\"Open In Colab\"/></a>"
      ]
    },
    {
      "cell_type": "code",
      "execution_count": null,
      "metadata": {
        "id": "LFXwdemV2xRX"
      },
      "outputs": [],
      "source": [
        "N = int(input())\n",
        "K = int(0)\n",
        "Flag = True\n",
        "\n",
        "for i in range(9):\n",
        "  if (K % (i + 1) == 0):\n",
        "    K = N / (i + 1)\n",
        "  if K < 10 and 1 <= K:\n",
        "    Flag = False\n",
        "    print(\"Yes\")\n",
        "    break\n",
        "if Flag:\n",
        "  print(\"No\")"
      ]
    }
  ]
}