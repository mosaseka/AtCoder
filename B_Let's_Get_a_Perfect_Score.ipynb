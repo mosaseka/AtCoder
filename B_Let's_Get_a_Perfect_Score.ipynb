{
  "nbformat": 4,
  "nbformat_minor": 0,
  "metadata": {
    "colab": {
      "provenance": [],
      "authorship_tag": "ABX9TyPt2l+lwcrRteaNZ3wORLHC",
      "include_colab_link": true
    },
    "kernelspec": {
      "name": "python3",
      "display_name": "Python 3"
    },
    "language_info": {
      "name": "python"
    }
  },
  "cells": [
    {
      "cell_type": "markdown",
      "metadata": {
        "id": "view-in-github",
        "colab_type": "text"
      },
      "source": [
        "<a href=\"https://colab.research.google.com/github/mosaseka/AtCoder/blob/main/B_Let's_Get_a_Perfect_Score.ipynb\" target=\"_parent\"><img src=\"https://colab.research.google.com/assets/colab-badge.svg\" alt=\"Open In Colab\"/></a>"
      ]
    },
    {
      "cell_type": "code",
      "execution_count": null,
      "metadata": {
        "id": "YOLlYFCajJQF"
      },
      "outputs": [],
      "source": [
        "N,M = map(int,input().split())\n",
        "S_LIST = [input() for i in range(N)]\n",
        "ANSWER = 0\n",
        "\n",
        "for i in range(N):\n",
        "  for j in range(i+1,N):\n",
        "    JUDGE = True\n",
        "    for k in range(M):\n",
        "      if S_LIST[i][k] == \"x\" and S_LIST[j][k] == \"x\":\n",
        "        JUDGE = False\n",
        "    if JUDGE == True:\n",
        "      ANSWER = ANSWER + 1\n",
        "\n",
        "print(ANSWER)"
      ]
    }
  ]
}