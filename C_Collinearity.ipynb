{
  "nbformat": 4,
  "nbformat_minor": 0,
  "metadata": {
    "colab": {
      "provenance": [],
      "authorship_tag": "ABX9TyODLRn8R9CRM24CVBoRH/Pt",
      "include_colab_link": true
    },
    "kernelspec": {
      "name": "python3",
      "display_name": "Python 3"
    },
    "language_info": {
      "name": "python"
    }
  },
  "cells": [
    {
      "cell_type": "markdown",
      "metadata": {
        "id": "view-in-github",
        "colab_type": "text"
      },
      "source": [
        "<a href=\"https://colab.research.google.com/github/mosaseka/AtCoder/blob/main/C_Collinearity.ipynb\" target=\"_parent\"><img src=\"https://colab.research.google.com/assets/colab-badge.svg\" alt=\"Open In Colab\"/></a>"
      ]
    },
    {
      "cell_type": "code",
      "execution_count": null,
      "metadata": {
        "id": "8MkpIalpoyfE"
      },
      "outputs": [],
      "source": [
        "import itertools\n",
        "\n",
        "N = int(input())\n",
        "XY_LIST = [tuple(map(int,input().split())) for i in range(N)]\n",
        "XY_COMB = list(itertools.combinations(XY_LIST,3))\n",
        "ALPHA = False\n",
        "BETA = False\n",
        "GANMA = False\n",
        "\n",
        "#print(XY_COMB)\n",
        "\n",
        "for i in range(len(XY_COMB)):\n",
        "  ALPHA = False\n",
        "  BETA = False\n",
        "  GANMA = False\n",
        "  ALPHA = (XY_COMB[i][0][0]*XY_COMB[i][1][1] == XY_COMB[i][0][1]*XY_COMB[i][1][0])\n",
        "  BETA = (XY_COMB[i][0][0]*XY_COMB[i][2][1] == XY_COMB[i][0][1]*XY_COMB[i][2][0])\n",
        "  GANMA = (XY_COMB[i][1][0]*XY_COMB[i][2][1] == XY_COMB[i][1][1]*XY_COMB[i][2][0])\n",
        "  #print(ALPHA,BETA,GANMA)\n",
        "  if ALPHA and BETA and GANMA:\n",
        "    print(\"Yes\")\n",
        "    exit()\n",
        "\n",
        "print(\"No\")"
      ]
    },
    {
      "cell_type": "code",
      "source": [
        "N = int(input())\n",
        "XY_LIST = [tuple(map(int,input().split())) for i in range(N)]\n",
        "X_A = 0\n",
        "X_B = 0\n",
        "X_C = 0\n",
        "Y_A = 0\n",
        "Y_B = 0\n",
        "Y_C = 0\n",
        "\n",
        "for i in range(N):\n",
        "  for j in range(i):\n",
        "    for k in range(j):\n",
        "      X_A,Y_A = XY_LIST[i]\n",
        "      X_B,Y_B = XY_LIST[j]\n",
        "      X_C,Y_C = XY_LIST[k]\n",
        "      X_A -= X_C\n",
        "      X_B -= X_C\n",
        "      Y_A -= Y_C\n",
        "      Y_B -= Y_C\n",
        "      if X_A * Y_B == X_B * Y_A:\n",
        "        print(\"Yes\")\n",
        "        exit()\n",
        "\n",
        "print(\"No\")"
      ],
      "metadata": {
        "id": "VUP-E2nTvscP"
      },
      "execution_count": null,
      "outputs": []
    }
  ]
}