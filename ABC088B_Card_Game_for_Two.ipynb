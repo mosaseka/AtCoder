{
  "nbformat": 4,
  "nbformat_minor": 0,
  "metadata": {
    "colab": {
      "provenance": [],
      "authorship_tag": "ABX9TyM2J4qLhJro1y4P2O0z/w7E",
      "include_colab_link": true
    },
    "kernelspec": {
      "name": "python3",
      "display_name": "Python 3"
    },
    "language_info": {
      "name": "python"
    }
  },
  "cells": [
    {
      "cell_type": "markdown",
      "metadata": {
        "id": "view-in-github",
        "colab_type": "text"
      },
      "source": [
        "<a href=\"https://colab.research.google.com/github/mosaseka/AtCoder/blob/main/ABC088B_Card_Game_for_Two.ipynb\" target=\"_parent\"><img src=\"https://colab.research.google.com/assets/colab-badge.svg\" alt=\"Open In Colab\"/></a>"
      ]
    },
    {
      "cell_type": "code",
      "execution_count": null,
      "metadata": {
        "id": "nLKHDfbEIoi8"
      },
      "outputs": [],
      "source": [
        "N = int(input())\n",
        "A = list(map(int,input().split()))\n",
        "ALICE_LIST = []\n",
        "BOB_LIST = []\n",
        "\n",
        "while True:\n",
        "  ALICE_LIST.append(max(A))\n",
        "  A.remove(max(A))\n",
        "  if A == []:\n",
        "    break\n",
        "  BOB_LIST.append(max(A))\n",
        "  A.remove(max(A))\n",
        "  if A == []:\n",
        "    break\n",
        "\n",
        "print(sum(ALICE_LIST) - sum(BOB_LIST))"
      ]
    }
  ]
}