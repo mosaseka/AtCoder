{
  "nbformat": 4,
  "nbformat_minor": 0,
  "metadata": {
    "colab": {
      "provenance": [],
      "authorship_tag": "ABX9TyMUAeyfeXM4tbUkv7hh8E+8",
      "include_colab_link": true
    },
    "kernelspec": {
      "name": "python3",
      "display_name": "Python 3"
    },
    "language_info": {
      "name": "python"
    }
  },
  "cells": [
    {
      "cell_type": "markdown",
      "metadata": {
        "id": "view-in-github",
        "colab_type": "text"
      },
      "source": [
        "<a href=\"https://colab.research.google.com/github/mosaseka/AtCoder/blob/main/A_AtCoder_Quiz_3.ipynb\" target=\"_parent\"><img src=\"https://colab.research.google.com/assets/colab-badge.svg\" alt=\"Open In Colab\"/></a>"
      ]
    },
    {
      "cell_type": "code",
      "execution_count": null,
      "metadata": {
        "id": "sHvF_CHWzmBI"
      },
      "outputs": [],
      "source": [
        "N = int(input())\n",
        "\n",
        "if N >= 42:\n",
        "  print(\"AGC0\" + str(N+1))\n",
        "else:\n",
        "  if len(str(N)) == 1:\n",
        "    print(\"AGC00\" + str(N))\n",
        "  else:\n",
        "    print(\"AGC0\" + str(N))"
      ]
    }
  ]
}