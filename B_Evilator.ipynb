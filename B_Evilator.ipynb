{
  "nbformat": 4,
  "nbformat_minor": 0,
  "metadata": {
    "colab": {
      "provenance": [],
      "authorship_tag": "ABX9TyMNH65at2gYXkgIrD9YznJv",
      "include_colab_link": true
    },
    "kernelspec": {
      "name": "python3",
      "display_name": "Python 3"
    },
    "language_info": {
      "name": "python"
    }
  },
  "cells": [
    {
      "cell_type": "markdown",
      "metadata": {
        "id": "view-in-github",
        "colab_type": "text"
      },
      "source": [
        "<a href=\"https://colab.research.google.com/github/mosaseka/AtCoder/blob/main/B_Evilator.ipynb\" target=\"_parent\"><img src=\"https://colab.research.google.com/assets/colab-badge.svg\" alt=\"Open In Colab\"/></a>"
      ]
    },
    {
      "cell_type": "code",
      "execution_count": null,
      "metadata": {
        "colab": {
          "base_uri": "https://localhost:8080/"
        },
        "id": "id_ZE1Iy7wSV",
        "outputId": "1879ec20-d11a-44ac-a368-8344029176ee"
      },
      "outputs": [
        {
          "output_type": "stream",
          "name": "stdout",
          "text": [
            "UUDUUDUD\n",
            "77\n"
          ]
        }
      ],
      "source": [
        "S_LIST = list(map(str,input()))\n",
        "N = len(S_LIST)\n",
        "ANSWER = 0\n",
        "\n",
        "for i in range(N):\n",
        "  if S_LIST[i] == \"U\":\n",
        "    ANSWER += (N-i-1)\n",
        "    ANSWER += (2*i)\n",
        "  else:\n",
        "    ANSWER += i\n",
        "    ANSWER += ((N-i-1)*2)\n",
        "\n",
        "print(ANSWER)"
      ]
    }
  ]
}