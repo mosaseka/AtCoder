{
  "nbformat": 4,
  "nbformat_minor": 0,
  "metadata": {
    "colab": {
      "provenance": [],
      "authorship_tag": "ABX9TyP9HUmIAZXE/I+EvDl6Uu/v",
      "include_colab_link": true
    },
    "kernelspec": {
      "name": "python3",
      "display_name": "Python 3"
    },
    "language_info": {
      "name": "python"
    }
  },
  "cells": [
    {
      "cell_type": "markdown",
      "metadata": {
        "id": "view-in-github",
        "colab_type": "text"
      },
      "source": [
        "<a href=\"https://colab.research.google.com/github/mosaseka/AtCoder/blob/main/B_11_11.ipynb\" target=\"_parent\"><img src=\"https://colab.research.google.com/assets/colab-badge.svg\" alt=\"Open In Colab\"/></a>"
      ]
    },
    {
      "cell_type": "code",
      "execution_count": null,
      "metadata": {
        "id": "PdnSAkw031a7"
      },
      "outputs": [],
      "source": [
        "N = int(input())\n",
        "D_LIST = list(map(int,input().split()))\n",
        "COUNT = 0\n",
        "CHECK = set()\n",
        "\n",
        "for i in range(N):\n",
        "  for j in range(D_LIST[i]):\n",
        "    CHECK = set(map(str,(str(i+1) + str(j+1))))\n",
        "    if len(CHECK) == 1:\n",
        "      COUNT += 1\n",
        "\n",
        "print(COUNT)"
      ]
    }
  ]
}