{
  "nbformat": 4,
  "nbformat_minor": 0,
  "metadata": {
    "colab": {
      "provenance": [],
      "authorship_tag": "ABX9TyM+yFHX1t9qudm8mQ7LR+6q",
      "include_colab_link": true
    },
    "kernelspec": {
      "name": "python3",
      "display_name": "Python 3"
    },
    "language_info": {
      "name": "python"
    }
  },
  "cells": [
    {
      "cell_type": "markdown",
      "metadata": {
        "id": "view-in-github",
        "colab_type": "text"
      },
      "source": [
        "<a href=\"https://colab.research.google.com/github/mosaseka/AtCoder/blob/main/B_Get_Closer.ipynb\" target=\"_parent\"><img src=\"https://colab.research.google.com/assets/colab-badge.svg\" alt=\"Open In Colab\"/></a>"
      ]
    },
    {
      "cell_type": "code",
      "execution_count": null,
      "metadata": {
        "id": "wvPFPwGUDgX2"
      },
      "outputs": [],
      "source": [
        "A,B = map(int,input().split())\n",
        "ALPHA = 0\n",
        "BETA = 0\n",
        "\n",
        "ALPHA = A / (A**2 + B**2)**0.5\n",
        "BETA = B / (A**2 + B**2)**0.5\n",
        "\n",
        "print(ALPHA,BETA)"
      ]
    }
  ]
}