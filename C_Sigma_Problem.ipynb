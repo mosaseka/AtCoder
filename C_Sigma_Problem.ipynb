{
  "nbformat": 4,
  "nbformat_minor": 0,
  "metadata": {
    "colab": {
      "provenance": [],
      "authorship_tag": "ABX9TyPRk4bOZTh7kB3XxKF+ZzYb",
      "include_colab_link": true
    },
    "kernelspec": {
      "name": "python3",
      "display_name": "Python 3"
    },
    "language_info": {
      "name": "python"
    }
  },
  "cells": [
    {
      "cell_type": "markdown",
      "metadata": {
        "id": "view-in-github",
        "colab_type": "text"
      },
      "source": [
        "<a href=\"https://colab.research.google.com/github/mosaseka/AtCoder/blob/main/C_Sigma_Problem.ipynb\" target=\"_parent\"><img src=\"https://colab.research.google.com/assets/colab-badge.svg\" alt=\"Open In Colab\"/></a>"
      ]
    },
    {
      "cell_type": "code",
      "source": [
        "N = int(input())\n",
        "A_LIST = list(map(int, input().split()))\n",
        "ANSWER = 0\n",
        "\n",
        "for i in range(N):\n",
        "  for j in range(i+1, N):\n",
        "    ANSWER += (A_LIST[i] + A_LIST[j]) % (10**8)\n",
        "\n",
        "print(ANSWER)"
      ],
      "metadata": {
        "id": "PtuXBw3Imv5a"
      },
      "execution_count": null,
      "outputs": []
    },
    {
      "cell_type": "markdown",
      "source": [
        "次のコードを高速化してください。\n",
        "\n",
        "N = int(input())\n",
        "A_LIST = list(map(int, input().split()))\n",
        "ANSWER = 0\n",
        "\n",
        "for i in range(N):\n",
        "  for j in range(i+1, N):\n",
        "    ANSWER += (A_LIST[i] + A_LIST[j]) % (10**8)\n",
        "\n",
        "print(ANSWER)"
      ],
      "metadata": {
        "id": "VG8BAhsoqjcp"
      }
    },
    {
      "cell_type": "code",
      "source": [
        "N = int(input())\n",
        "A_LIST = list(map(int, input().split()))\n",
        "MOD = 10**8\n",
        "CNT = [0] * (MOD+1)\n",
        "COUNT = 0\n",
        "\n",
        "for a in A_LIST:\n",
        "  CNT[a] += 1\n",
        "for i in range(MOD):\n",
        "  CNT[i+1] += CNT[i]\n",
        "\n",
        "for a in A_LIST:\n",
        "  COUNT += N - CNT[MOD-a-1]\n",
        "  if 2*a >= MOD:\n",
        "    COUNT -= 1\n",
        "\n",
        "print((N-1) * sum(A_LIST) - COUNT // 2 * MOD)"
      ],
      "metadata": {
        "id": "V3XsaVloovhz"
      },
      "execution_count": null,
      "outputs": []
    }
  ]
}