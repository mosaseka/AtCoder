{
  "nbformat": 4,
  "nbformat_minor": 0,
  "metadata": {
    "colab": {
      "provenance": [],
      "authorship_tag": "ABX9TyNfn54cxRZyUImRg8dB4yOT",
      "include_colab_link": true
    },
    "kernelspec": {
      "name": "python3",
      "display_name": "Python 3"
    },
    "language_info": {
      "name": "python"
    }
  },
  "cells": [
    {
      "cell_type": "markdown",
      "metadata": {
        "id": "view-in-github",
        "colab_type": "text"
      },
      "source": [
        "<a href=\"https://colab.research.google.com/github/mosaseka/AtCoder/blob/main/A_Multiple_Array.ipynb\" target=\"_parent\"><img src=\"https://colab.research.google.com/assets/colab-badge.svg\" alt=\"Open In Colab\"/></a>"
      ]
    },
    {
      "cell_type": "code",
      "execution_count": null,
      "metadata": {
        "id": "TLQqH547oTt_"
      },
      "outputs": [],
      "source": [
        "from collections import deque\n",
        "\n",
        "N = int(input())\n",
        "A_DEQ = deque()\n",
        "B_DEQ = deque()\n",
        "A = 0\n",
        "B = 0\n",
        "ANSWER = 0\n",
        "MOD = 0\n",
        "\n",
        "for i in range(N):\n",
        "  A,B = map(int,input().split())\n",
        "  A_DEQ.appendleft(A)\n",
        "  B_DEQ.appendleft(B)\n",
        "\n",
        "A_DEQ = list(A_DEQ)\n",
        "B_DEQ = list(B_DEQ)\n",
        "\n",
        "#print(A_DEQ)\n",
        "#print(B_DEQ)\n",
        "#print(type(A_DEQ))\n",
        "#print(type(B_DEQ))\n",
        "\n",
        "for i in range(N):\n",
        "  A_DEQ[i] += ANSWER\n",
        "  if A_DEQ[i] % B_DEQ[i] != 0:\n",
        "    ANSWER += B_DEQ[i] - (A_DEQ[i] % B_DEQ[i])\n",
        "print(ANSWER)"
      ]
    }
  ]
}