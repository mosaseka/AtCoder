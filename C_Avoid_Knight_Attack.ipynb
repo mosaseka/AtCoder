{
  "nbformat": 4,
  "nbformat_minor": 0,
  "metadata": {
    "colab": {
      "provenance": [],
      "authorship_tag": "ABX9TyN5EIesNN+vge/fgRfauRlB",
      "include_colab_link": true
    },
    "kernelspec": {
      "name": "python3",
      "display_name": "Python 3"
    },
    "language_info": {
      "name": "python"
    }
  },
  "cells": [
    {
      "cell_type": "markdown",
      "metadata": {
        "id": "view-in-github",
        "colab_type": "text"
      },
      "source": [
        "<a href=\"https://colab.research.google.com/github/mosaseka/AtCoder/blob/main/C_Avoid_Knight_Attack.ipynb\" target=\"_parent\"><img src=\"https://colab.research.google.com/assets/colab-badge.svg\" alt=\"Open In Colab\"/></a>"
      ]
    },
    {
      "cell_type": "code",
      "source": [
        "N, M = map(int, input().split())\n",
        "A = 0\n",
        "B = 0\n",
        "SET = set()\n",
        "\n",
        "for i in range(M):\n",
        "  A, B = map(int, input().split())\n",
        "  SET.add((A, B))\n",
        "  if 1 <= A+2 <= N and 1 <= B+1 <= N:\n",
        "    SET.add((A+2, B+1))\n",
        "  if 1 <= A+1 <= N and 1 <= B+2 <= N:\n",
        "    SET.add((A+1, B+2))\n",
        "  if 1 <= A-1 <= N and 1 <= B+2 <= N:\n",
        "    SET.add((A-1, B+2))\n",
        "  if 1 <= A-2 <= N and 1 <= B+1 <= N:\n",
        "    SET.add((A-2, B+1))\n",
        "  if 1 <= A-2 <= N and 1 <= B-1 <= N:\n",
        "    SET.add((A-2, B-1))\n",
        "  if 1 <= A-1 <= N and 1 <= B-2 <= N:\n",
        "    SET.add((A-1, B-2))\n",
        "  if 1 <= A+1 <= N and 1 <= B-2 <= N:\n",
        "    SET.add((A+1, B-2))\n",
        "  if 1 <= A+2 <= N and 1 <= B-1 <= N:\n",
        "    SET.add((A+2, B-1))\n",
        "\n",
        "print(N**2 - len(SET))"
      ],
      "metadata": {
        "id": "-39QqJo0xovt"
      },
      "execution_count": null,
      "outputs": []
    }
  ]
}