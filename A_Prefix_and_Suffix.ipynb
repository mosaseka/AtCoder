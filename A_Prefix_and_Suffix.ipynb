{
  "nbformat": 4,
  "nbformat_minor": 0,
  "metadata": {
    "colab": {
      "provenance": [],
      "authorship_tag": "ABX9TyONJdLhMT8GCt8lWTxU6NDq",
      "include_colab_link": true
    },
    "kernelspec": {
      "name": "python3",
      "display_name": "Python 3"
    },
    "language_info": {
      "name": "python"
    }
  },
  "cells": [
    {
      "cell_type": "markdown",
      "metadata": {
        "id": "view-in-github",
        "colab_type": "text"
      },
      "source": [
        "<a href=\"https://colab.research.google.com/github/mosaseka/AtCoder/blob/main/A_Prefix_and_Suffix.ipynb\" target=\"_parent\"><img src=\"https://colab.research.google.com/assets/colab-badge.svg\" alt=\"Open In Colab\"/></a>"
      ]
    },
    {
      "cell_type": "code",
      "execution_count": null,
      "metadata": {
        "colab": {
          "base_uri": "https://localhost:8080/"
        },
        "id": "f_onTUlHhbWb",
        "outputId": "990ba780-c116-4b12-ae95-25b663fc2cff"
      },
      "outputs": [
        {
          "output_type": "stream",
          "name": "stdout",
          "text": [
            "2\n",
            "az\n",
            "za\n",
            "2\n"
          ]
        }
      ],
      "source": [
        "N = int(input())\n",
        "S_LIST = list(map(str,input()))\n",
        "T_LIST = list(map(str,input()))\n",
        "ANSWER = 0\n",
        "\n",
        "if S_LIST == T_LIST:\n",
        "  print(N)\n",
        "  exit()\n",
        "\n",
        "for i in range(N):\n",
        "  if S_LIST[-(i+1)] == T_LIST[i]:\n",
        "    ANSWER += 1\n",
        "  else:\n",
        "    ANSWER += 2\n",
        "\n",
        "print(ANSWER)"
      ]
    },
    {
      "cell_type": "code",
      "source": [
        "N = int(input())\n",
        "S = str(input())\n",
        "T = str(input())\n",
        "ANSWER = \"\"\n",
        "\n",
        "ANSWER += S\n",
        "\n",
        "for i in range(N):\n",
        "  if ANSWER[-1] != T[i]:\n",
        "    continue\n",
        "  else:\n",
        "    ANSWER += T[i]\n",
        "\n",
        "print(len(ANSWER)+1)"
      ],
      "metadata": {
        "id": "QYNElennkHCD"
      },
      "execution_count": null,
      "outputs": []
    },
    {
      "cell_type": "code",
      "source": [
        "N = int(input())\n",
        "S = str(input())\n",
        "T = str(input())\n",
        "ANSWER = 0\n",
        "\n",
        "if N == 1:\n",
        "  print(2)\n",
        "  exit()\n",
        "\n",
        "elif S == T:\n",
        "  print(N)\n",
        "  exit()\n",
        "\n",
        "for i in range(N-1):\n",
        "  if S[i:-1] == T[:-(i+1)]:\n",
        "    print(2*N - i)\n",
        "    exit()\n",
        "\n",
        "print(2*N)"
      ],
      "metadata": {
        "id": "lGGFbg00leg6"
      },
      "execution_count": null,
      "outputs": []
    },
    {
      "cell_type": "code",
      "source": [
        "N = int(input())\n",
        "S_LIST = list(map(str,input()))\n",
        "T_LIST = list(map(str,input()))\n",
        "ANSWER = 0\n",
        "\n",
        "if N == 1:\n",
        "  print(2)\n",
        "  exit()\n",
        "\n",
        "elif S_LIST == T_LIST:\n",
        "  print(N)\n",
        "  exit()\n",
        "\n",
        "S_LIST.reverse()\n",
        "\n",
        "for i in range(N):\n",
        "  if S_LIST[i] == T_LIST[i]:\n",
        "    print(2*N - (i+1))\n",
        "    exit()"
      ],
      "metadata": {
        "id": "JLuvpTMooufX"
      },
      "execution_count": null,
      "outputs": []
    },
    {
      "cell_type": "code",
      "source": [
        "N = int(input())\n",
        "S_LIST = list(map(str,input()))\n",
        "T_LIST = list(map(str,input()))\n",
        "\n",
        "if N == 1 and S_LIST != T_LIST:\n",
        "  print(2)\n",
        "  exit()\n",
        "elif S_LIST == T_LIST:\n",
        "  print(N)\n",
        "  exit()\n",
        "\n",
        "for i in range(N,2*N):\n",
        "  if S_LIST[-(2*N-i):] == T_LIST[:(2*N-i)]:\n",
        "    print(i)\n",
        "    exit()\n",
        "\n",
        "print(2*N)"
      ],
      "metadata": {
        "id": "XDxLpb-sKjVH"
      },
      "execution_count": null,
      "outputs": []
    }
  ]
}