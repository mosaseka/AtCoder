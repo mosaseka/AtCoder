{
  "nbformat": 4,
  "nbformat_minor": 0,
  "metadata": {
    "colab": {
      "provenance": [],
      "authorship_tag": "ABX9TyO+6xsRqaLvh6CRR6BmDlHu",
      "include_colab_link": true
    },
    "kernelspec": {
      "name": "python3",
      "display_name": "Python 3"
    },
    "language_info": {
      "name": "python"
    }
  },
  "cells": [
    {
      "cell_type": "markdown",
      "metadata": {
        "id": "view-in-github",
        "colab_type": "text"
      },
      "source": [
        "<a href=\"https://colab.research.google.com/github/mosaseka/AtCoder/blob/main/C_Walk_on_Multiplication_Table.ipynb\" target=\"_parent\"><img src=\"https://colab.research.google.com/assets/colab-badge.svg\" alt=\"Open In Colab\"/></a>"
      ]
    },
    {
      "cell_type": "code",
      "execution_count": null,
      "metadata": {
        "colab": {
          "base_uri": "https://localhost:8080/"
        },
        "id": "NAPWYuNRWw-3",
        "outputId": "b87b46fe-d8dc-44d0-ba19-3aaea0bac577"
      },
      "outputs": [
        {
          "output_type": "stream",
          "name": "stdout",
          "text": [
            "10000000019\n",
            "[1, 100000, 10000000019]\n",
            "10000000018\n"
          ]
        }
      ],
      "source": [
        "import math\n",
        "\n",
        "def make_divisors(n):\n",
        "    lower_divisors , upper_divisors = [], []\n",
        "    i = 1\n",
        "    while i*i <= n:\n",
        "        if n % i == 0:\n",
        "            lower_divisors.append(i)\n",
        "            if i != n // i:\n",
        "                upper_divisors.append(n//i)\n",
        "        i += 1\n",
        "    return lower_divisors + upper_divisors[::-1]\n",
        "\n",
        "N = int(input())\n",
        "DIV_LIST = []\n",
        "ANSWER_LIST = []\n",
        "\n",
        "DIV_LIST = make_divisors(N)\n",
        "DIV_LIST.append(int(math.sqrt(N)))\n",
        "DIV_LIST.sort()\n",
        "\n",
        "#print(DIV_LIST)\n",
        "\n",
        "#print(len(DIV_LIST))\n",
        "\n",
        "for i in range(len(DIV_LIST)//2):\n",
        "  ANSWER_LIST.append((DIV_LIST[i]-1) + (DIV_LIST[-(i+1)]-1))\n",
        "\n",
        "print(min(ANSWER_LIST))"
      ]
    }
  ]
}