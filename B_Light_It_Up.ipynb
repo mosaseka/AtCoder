{
  "nbformat": 4,
  "nbformat_minor": 0,
  "metadata": {
    "colab": {
      "provenance": [],
      "authorship_tag": "ABX9TyM6PK/Qfcl4aG32yoSLB7+P",
      "include_colab_link": true
    },
    "kernelspec": {
      "name": "python3",
      "display_name": "Python 3"
    },
    "language_info": {
      "name": "python"
    }
  },
  "cells": [
    {
      "cell_type": "markdown",
      "metadata": {
        "id": "view-in-github",
        "colab_type": "text"
      },
      "source": [
        "<a href=\"https://colab.research.google.com/github/mosaseka/AtCoder/blob/main/B_Light_It_Up.ipynb\" target=\"_parent\"><img src=\"https://colab.research.google.com/assets/colab-badge.svg\" alt=\"Open In Colab\"/></a>"
      ]
    },
    {
      "cell_type": "code",
      "execution_count": null,
      "metadata": {
        "id": "A9qd4YIQJ1M4"
      },
      "outputs": [],
      "source": [
        "import math\n",
        "\n",
        "N,K = map(int,input().split())\n",
        "A_LIST = list(map(int,input().split()))\n",
        "XY_LIST = [list(map(int,input().split())) for i in range(N)]\n",
        "MIN = 100000000000\n",
        "CHECK = 0\n",
        "LIGHT = []\n",
        "XA = 0\n",
        "YA = 0\n",
        "XB = 0\n",
        "YB = 0\n",
        "ANSWER_LIST = []\n",
        "\n",
        "for i in range(K):\n",
        "  LIGHT.append(XY_LIST[A_LIST[i]-1])\n",
        "\n",
        "for i in range(N):\n",
        "  MIN = 100000000000000\n",
        "  for j in range(K):\n",
        "    XA = XY_LIST[i][0]\n",
        "    YA = XY_LIST[i][0]\n",
        "    XB = LIGHT[j][0]\n",
        "    YB = LIGHT[j][1]\n",
        "    CHECK = ((XA-XB)**2) + ((YA-YB)**2)\n",
        "    MIN = min(MIN,CHECK)\n",
        "  ANSWER_LIST.append(MIN)\n",
        "\n",
        "print(math.sqrt(max(ANSWER_LIST)))"
      ]
    },
    {
      "cell_type": "code",
      "source": [
        "import math\n",
        "\n",
        "N,K = map(int,input().split())\n",
        "A_LIST = list(map(int,input().split()))\n",
        "XY_LIST = [list(map(int,input().split())) for i in range(N)]\n",
        "ANSWER = 0\n",
        "XA = 0\n",
        "YA = 0\n",
        "XB = 0\n",
        "YB = 0\n",
        "MIN = 0\n",
        "CHECK = 0\n",
        "\n",
        "for i in range(N):\n",
        "  MIN = 10**18\n",
        "  for j in range(K):\n",
        "    XA,YA = XY_LIST[i]\n",
        "    XB,YB = XY_LIST[A_LIST[j]-1]\n",
        "    CHECK = ((XA-XB)**2) + ((YA-YB)**2)\n",
        "    MIN = min(MIN,CHECK)\n",
        "  ANSWER = max(ANSWER,MIN)\n",
        "\n",
        "print(math.sqrt(ANSWER))"
      ],
      "metadata": {
        "id": "OAY7_UbFONFo"
      },
      "execution_count": null,
      "outputs": []
    }
  ]
}