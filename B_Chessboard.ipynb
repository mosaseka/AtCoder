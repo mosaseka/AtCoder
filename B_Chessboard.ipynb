{
  "nbformat": 4,
  "nbformat_minor": 0,
  "metadata": {
    "colab": {
      "provenance": [],
      "authorship_tag": "ABX9TyMq9SG0/J1tn+ZcuT7j0UnL",
      "include_colab_link": true
    },
    "kernelspec": {
      "name": "python3",
      "display_name": "Python 3"
    },
    "language_info": {
      "name": "python"
    }
  },
  "cells": [
    {
      "cell_type": "markdown",
      "metadata": {
        "id": "view-in-github",
        "colab_type": "text"
      },
      "source": [
        "<a href=\"https://colab.research.google.com/github/mosaseka/AtCoder/blob/main/B_Chessboard.ipynb\" target=\"_parent\"><img src=\"https://colab.research.google.com/assets/colab-badge.svg\" alt=\"Open In Colab\"/></a>"
      ]
    },
    {
      "cell_type": "code",
      "execution_count": null,
      "metadata": {
        "id": "0qoKsaGAtR3r"
      },
      "outputs": [],
      "source": [
        "import string\n",
        "\n",
        "S_LIST = []\n",
        "ANSWER = \"\"\n",
        "ALPHA_LIST = []\n",
        "\n",
        "ALPHA_LIST = list(string.ascii_lowercase)\n",
        "\n",
        "for i in range(8):\n",
        "  S_LIST.append(list(str(input())))\n",
        "\n",
        "for i in range(8):\n",
        "  for j in range(8):\n",
        "    if S_LIST[i][j] == \"*\":\n",
        "      ANSWER += ALPHA_LIST[j]\n",
        "      ANSWER += str(8-i)\n",
        "\n",
        "print(ANSWER)"
      ]
    }
  ]
}