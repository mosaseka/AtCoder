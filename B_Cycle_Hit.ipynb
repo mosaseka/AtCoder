{
  "nbformat": 4,
  "nbformat_minor": 0,
  "metadata": {
    "colab": {
      "provenance": [],
      "authorship_tag": "ABX9TyOadWoqfJv/eWi1FHg+SIq9",
      "include_colab_link": true
    },
    "kernelspec": {
      "name": "python3",
      "display_name": "Python 3"
    },
    "language_info": {
      "name": "python"
    }
  },
  "cells": [
    {
      "cell_type": "markdown",
      "metadata": {
        "id": "view-in-github",
        "colab_type": "text"
      },
      "source": [
        "<a href=\"https://colab.research.google.com/github/mosaseka/AtCoder/blob/main/B_Cycle_Hit.ipynb\" target=\"_parent\"><img src=\"https://colab.research.google.com/assets/colab-badge.svg\" alt=\"Open In Colab\"/></a>"
      ]
    },
    {
      "cell_type": "code",
      "execution_count": null,
      "metadata": {
        "id": "W-IhEHdGAcku"
      },
      "outputs": [],
      "source": [
        "S_SET = set()\n",
        "\n",
        "for i in range(4):\n",
        "  S_SET.add(str(input()))\n",
        "\n",
        "if \"H\" not in S_SET:\n",
        "  print(\"No\")\n",
        "  exit()\n",
        "if \"2B\" not in S_SET:\n",
        "  print(\"No\")\n",
        "  exit()\n",
        "if \"3B\" not in S_SET:\n",
        "  print(\"No\")\n",
        "  exit()\n",
        "if \"HR\" not in S_SET:\n",
        "  print(\"No\")\n",
        "  exit()\n",
        "\n",
        "print(\"Yes\")"
      ]
    }
  ]
}