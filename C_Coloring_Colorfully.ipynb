{
  "nbformat": 4,
  "nbformat_minor": 0,
  "metadata": {
    "colab": {
      "provenance": [],
      "authorship_tag": "ABX9TyPkxU4gvWrGLHtQP0CnUAlz",
      "include_colab_link": true
    },
    "kernelspec": {
      "name": "python3",
      "display_name": "Python 3"
    },
    "language_info": {
      "name": "python"
    }
  },
  "cells": [
    {
      "cell_type": "markdown",
      "metadata": {
        "id": "view-in-github",
        "colab_type": "text"
      },
      "source": [
        "<a href=\"https://colab.research.google.com/github/mosaseka/AtCoder/blob/main/C_Coloring_Colorfully.ipynb\" target=\"_parent\"><img src=\"https://colab.research.google.com/assets/colab-badge.svg\" alt=\"Open In Colab\"/></a>"
      ]
    },
    {
      "cell_type": "code",
      "execution_count": null,
      "metadata": {
        "colab": {
          "base_uri": "https://localhost:8080/"
        },
        "id": "whCgG3rTFSju",
        "outputId": "7707e051-3dd6-4c3b-8a90-c51d7cfcea3f"
      },
      "outputs": [
        {
          "output_type": "stream",
          "name": "stdout",
          "text": [
            "000\n",
            "1\n"
          ]
        }
      ],
      "source": [
        "S_LIST = list(map(int,input()))\n",
        "S_LEN = len(S_LIST)\n",
        "A_LIST = []\n",
        "B_LIST = []\n",
        "DELTA_A = 0\n",
        "DELTA_B = 0\n",
        "\n",
        "for i in range(S_LEN):\n",
        "  if i % 2 == 0:\n",
        "    A_LIST.append(0)\n",
        "    B_LIST.append(1)\n",
        "  else:\n",
        "    A_LIST.append(1)\n",
        "    B_LIST.append(0)\n",
        "\n",
        "#print(A_LIST)\n",
        "#print(B_LIST)\n",
        "\n",
        "for i in range(S_LEN):\n",
        "  if S_LIST[i] != A_LIST[i]:\n",
        "    DELTA_A += 1\n",
        "  elif S_LIST[i] != B_LIST[i]:\n",
        "    DELTA_B += 1\n",
        "\n",
        "print(min(DELTA_A,DELTA_B))"
      ]
    }
  ]
}