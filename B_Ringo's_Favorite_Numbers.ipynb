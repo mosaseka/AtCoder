{
  "nbformat": 4,
  "nbformat_minor": 0,
  "metadata": {
    "colab": {
      "provenance": [],
      "authorship_tag": "ABX9TyNl1tDhV0kS/HwrL52xOlwU",
      "include_colab_link": true
    },
    "kernelspec": {
      "name": "python3",
      "display_name": "Python 3"
    },
    "language_info": {
      "name": "python"
    }
  },
  "cells": [
    {
      "cell_type": "markdown",
      "metadata": {
        "id": "view-in-github",
        "colab_type": "text"
      },
      "source": [
        "<a href=\"https://colab.research.google.com/github/mosaseka/AtCoder/blob/main/B_Ringo's_Favorite_Numbers.ipynb\" target=\"_parent\"><img src=\"https://colab.research.google.com/assets/colab-badge.svg\" alt=\"Open In Colab\"/></a>"
      ]
    },
    {
      "cell_type": "code",
      "execution_count": null,
      "metadata": {
        "colab": {
          "base_uri": "https://localhost:8080/"
        },
        "id": "18FfrD7VDWg-",
        "outputId": "cbc0bdc3-0d80-4423-90a5-b3a564c6a997"
      },
      "outputs": [
        {
          "output_type": "stream",
          "name": "stdout",
          "text": [
            "1 100\n",
            "10100\n"
          ]
        }
      ],
      "source": [
        "D,N = map(int,input().split())\n",
        "NUM = 0\n",
        "ANSWER = 0\n",
        "\n",
        "NUM = 100**D\n",
        "ANSWER = NUM * N\n",
        "\n",
        "if N == 100:\n",
        "  ANSWER += 100**(D)\n",
        "\n",
        "print(ANSWER)"
      ]
    },
    {
      "cell_type": "code",
      "source": [
        "D,N = map(int,input().split())\n",
        "ANSWER = 0\n",
        "\n",
        "if N == 100:\n",
        "  ANSWER = 101*(100**D)\n",
        "else:\n",
        "  ANSWER = (N*(100**D))\n",
        "\n",
        "print(ANSWER)"
      ],
      "metadata": {
        "id": "5w8IidMYRkIE"
      },
      "execution_count": null,
      "outputs": []
    }
  ]
}