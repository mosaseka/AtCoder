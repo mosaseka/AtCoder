{
  "nbformat": 4,
  "nbformat_minor": 0,
  "metadata": {
    "colab": {
      "provenance": [],
      "authorship_tag": "ABX9TyNLAI2P6lQVjFnXQHzhmfph",
      "include_colab_link": true
    },
    "kernelspec": {
      "name": "python3",
      "display_name": "Python 3"
    },
    "language_info": {
      "name": "python"
    }
  },
  "cells": [
    {
      "cell_type": "markdown",
      "metadata": {
        "id": "view-in-github",
        "colab_type": "text"
      },
      "source": [
        "<a href=\"https://colab.research.google.com/github/mosaseka/AtCoder/blob/main/A_Buy_a_Pen.ipynb\" target=\"_parent\"><img src=\"https://colab.research.google.com/assets/colab-badge.svg\" alt=\"Open In Colab\"/></a>"
      ]
    },
    {
      "cell_type": "code",
      "execution_count": null,
      "metadata": {
        "id": "7JvhOhkkhZ6W"
      },
      "outputs": [],
      "source": [
        "LIST = list(map(int,input().split()))\n",
        "C = str(input())\n",
        "\n",
        "if C == \"Red\":\n",
        "  LIST.pop(0)\n",
        "elif C == \"Green\":\n",
        "  LIST.pop(1)\n",
        "elif C == \"Blue\":\n",
        "  LIST.pop(2)\n",
        "\n",
        "print(min(LIST))"
      ]
    }
  ]
}