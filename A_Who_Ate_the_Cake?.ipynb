{
  "nbformat": 4,
  "nbformat_minor": 0,
  "metadata": {
    "colab": {
      "provenance": [],
      "authorship_tag": "ABX9TyODDdzxmgL6Jc8qC8cviD5p",
      "include_colab_link": true
    },
    "kernelspec": {
      "name": "python3",
      "display_name": "Python 3"
    },
    "language_info": {
      "name": "python"
    }
  },
  "cells": [
    {
      "cell_type": "markdown",
      "metadata": {
        "id": "view-in-github",
        "colab_type": "text"
      },
      "source": [
        "<a href=\"https://colab.research.google.com/github/mosaseka/AtCoder/blob/main/A_Who_Ate_the_Cake%3F.ipynb\" target=\"_parent\"><img src=\"https://colab.research.google.com/assets/colab-badge.svg\" alt=\"Open In Colab\"/></a>"
      ]
    },
    {
      "cell_type": "code",
      "execution_count": null,
      "metadata": {
        "id": "eRiFHw67t0yK"
      },
      "outputs": [],
      "source": [
        "A,B = map(int,input().split())\n",
        "LIST = [1,2,3]\n",
        "\n",
        "if A == B:\n",
        "  print(-1)\n",
        "  exit()\n",
        "\n",
        "LIST.remove(A)\n",
        "LIST.remove(B)\n",
        "print(LIST[0])"
      ]
    }
  ]
}