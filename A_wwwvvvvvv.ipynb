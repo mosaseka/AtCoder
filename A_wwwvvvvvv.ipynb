{
  "nbformat": 4,
  "nbformat_minor": 0,
  "metadata": {
    "colab": {
      "provenance": [],
      "authorship_tag": "ABX9TyOx/+Wyg+kzfIo3NddDWIt2",
      "include_colab_link": true
    },
    "kernelspec": {
      "name": "python3",
      "display_name": "Python 3"
    },
    "language_info": {
      "name": "python"
    }
  },
  "cells": [
    {
      "cell_type": "markdown",
      "metadata": {
        "id": "view-in-github",
        "colab_type": "text"
      },
      "source": [
        "<a href=\"https://colab.research.google.com/github/mosaseka/AtCoder/blob/main/A_wwwvvvvvv.ipynb\" target=\"_parent\"><img src=\"https://colab.research.google.com/assets/colab-badge.svg\" alt=\"Open In Colab\"/></a>"
      ]
    },
    {
      "cell_type": "code",
      "execution_count": null,
      "metadata": {
        "colab": {
          "base_uri": "https://localhost:8080/"
        },
        "id": "VNZwxwBavozx",
        "outputId": "9dbc0f13-962f-4c5e-cee8-22ced671e79f"
      },
      "outputs": [
        {
          "output_type": "stream",
          "name": "stdout",
          "text": [
            "vvwvw\n",
            "7\n"
          ]
        }
      ],
      "source": [
        "S = list(map(str,input()))\n",
        "S_LENGTH = len(S)\n",
        "COUNT = 0\n",
        "\n",
        "for i in range(S_LENGTH):\n",
        "  if S[i] == \"v\":\n",
        "    COUNT = COUNT + 1\n",
        "  else:\n",
        "    COUNT = COUNT + 2\n",
        "\n",
        "print(COUNT)"
      ]
    }
  ]
}