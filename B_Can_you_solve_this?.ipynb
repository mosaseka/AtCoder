{
  "nbformat": 4,
  "nbformat_minor": 0,
  "metadata": {
    "colab": {
      "provenance": [],
      "authorship_tag": "ABX9TyMwKj6bPOY+5Uzlnyhsq24P",
      "include_colab_link": true
    },
    "kernelspec": {
      "name": "python3",
      "display_name": "Python 3"
    },
    "language_info": {
      "name": "python"
    }
  },
  "cells": [
    {
      "cell_type": "markdown",
      "metadata": {
        "id": "view-in-github",
        "colab_type": "text"
      },
      "source": [
        "<a href=\"https://colab.research.google.com/github/mosaseka/AtCoder/blob/main/B_Can_you_solve_this%3F.ipynb\" target=\"_parent\"><img src=\"https://colab.research.google.com/assets/colab-badge.svg\" alt=\"Open In Colab\"/></a>"
      ]
    },
    {
      "cell_type": "code",
      "execution_count": null,
      "metadata": {
        "colab": {
          "base_uri": "https://localhost:8080/"
        },
        "id": "2094WDVkfS6q",
        "outputId": "104d4b5b-6ba9-4598-817b-3ba251bfe1b7"
      },
      "outputs": [
        {
          "output_type": "stream",
          "name": "stdout",
          "text": [
            "2 3 -10\n",
            "1 2 3\n",
            "3 2 1\n",
            "1 2 2\n",
            "1\n"
          ]
        }
      ],
      "source": [
        "N,M,C = map(int,input().split())\n",
        "B_LIST = list(map(int,input().split()))\n",
        "A_LIST = []\n",
        "SUM = 0\n",
        "ANSWER = 0\n",
        "\n",
        "for i in range(N):\n",
        "  A_LIST = list(map(int,input().split()))\n",
        "  for j in range(M):\n",
        "    SUM = SUM + (B_LIST[j]*A_LIST[j])\n",
        "  #print(SUM)\n",
        "  if SUM + C > 0:\n",
        "    ANSWER += 1\n",
        "  A_LIST = []\n",
        "  SUM = 0\n",
        "\n",
        "print(ANSWER)"
      ]
    }
  ]
}