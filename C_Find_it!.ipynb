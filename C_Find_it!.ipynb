{
  "nbformat": 4,
  "nbformat_minor": 0,
  "metadata": {
    "colab": {
      "provenance": [],
      "authorship_tag": "ABX9TyOp916AQWhqF1FmUWm6z7co",
      "include_colab_link": true
    },
    "kernelspec": {
      "name": "python3",
      "display_name": "Python 3"
    },
    "language_info": {
      "name": "python"
    }
  },
  "cells": [
    {
      "cell_type": "markdown",
      "metadata": {
        "id": "view-in-github",
        "colab_type": "text"
      },
      "source": [
        "<a href=\"https://colab.research.google.com/github/mosaseka/AtCoder/blob/main/C_Find_it!.ipynb\" target=\"_parent\"><img src=\"https://colab.research.google.com/assets/colab-badge.svg\" alt=\"Open In Colab\"/></a>"
      ]
    },
    {
      "cell_type": "code",
      "execution_count": null,
      "metadata": {
        "id": "YdgpqCx-dReM"
      },
      "outputs": [],
      "source": [
        "#ChatGPT使用#\n",
        "\n",
        "def find_cycle(graph, node, visited, stack):\n",
        "    visited[node] = True\n",
        "    stack.append(node)\n",
        "\n",
        "    next_node = graph[node]\n",
        "    if visited[next_node]:\n",
        "        start_index = stack.index(next_node)\n",
        "        return stack[start_index:]\n",
        "    else:\n",
        "        return find_cycle(graph, next_node, visited, stack)\n",
        "\n",
        "def main():\n",
        "    N = int(input())\n",
        "    A = list(map(int, input().split()))\n",
        "\n",
        "    graph = {}  # 辺の情報を格納する辞書 {i: A[i]}\n",
        "    for i in range(N):\n",
        "        graph[i + 1] = A[i]\n",
        "\n",
        "    visited = [False] * (N + 1)\n",
        "    cycle = None\n",
        "\n",
        "    for i in range(1, N + 1):\n",
        "        if not visited[i]:\n",
        "            cycle = find_cycle(graph, i, visited, [])\n",
        "            if cycle:\n",
        "                break\n",
        "\n",
        "    M = len(cycle)\n",
        "    print(M)\n",
        "    print(*cycle)\n",
        "\n",
        "if __name__ == \"__main__\":\n",
        "    main()\n"
      ]
    },
    {
      "cell_type": "code",
      "source": [
        "#ChatGPT使用#\n",
        "\n",
        "import sys\n",
        "\n",
        "sys.setrecursionlimit(10**6)  # 再帰の制限を増やす\n",
        "\n",
        "def find_cycle(graph, node, visited, stack):\n",
        "    visited[node] = True\n",
        "    stack.append(node)\n",
        "\n",
        "    next_node = graph[node]\n",
        "    if visited[next_node]:\n",
        "        start_index = stack.index(next_node)\n",
        "        return stack[start_index:]\n",
        "    else:\n",
        "        return find_cycle(graph, next_node, visited, stack)\n",
        "\n",
        "def main():\n",
        "    N = int(input())\n",
        "    A = list(map(int, input().split()))\n",
        "\n",
        "    graph = {}  # 辺の情報を格納する辞書 {i: A[i]}\n",
        "    for i in range(N):\n",
        "        graph[i + 1] = A[i]\n",
        "\n",
        "    visited = [False] * (N + 1)\n",
        "    cycle = None\n",
        "\n",
        "    for i in range(1, N + 1):\n",
        "        if not visited[i]:\n",
        "            cycle = find_cycle(graph, i, visited, [])\n",
        "            if cycle:\n",
        "                break\n",
        "\n",
        "    M = len(cycle)\n",
        "    print(M)\n",
        "    print(*cycle)\n",
        "\n",
        "if __name__ == \"__main__\":\n",
        "    main()"
      ],
      "metadata": {
        "id": "BQEIiKyqpUfV"
      },
      "execution_count": null,
      "outputs": []
    },
    {
      "cell_type": "code",
      "source": [
        "N = int(input())\n",
        "A_LIST = list(map(int,input().split()))\n",
        "B_LIST = []\n",
        "SET = set()\n",
        "INDEX = 1\n",
        "\n",
        "while True:\n",
        "  if INDEX in SET:\n",
        "    B_LIST = B_LIST[B_LIST.index(INDEX):]\n",
        "    break\n",
        "  else:\n",
        "    B_LIST.append(INDEX)\n",
        "    SET.add(INDEX)\n",
        "    INDEX = A_LIST[INDEX-1]\n",
        "\n",
        "print(len(B_LIST))\n",
        "print(*B_LIST)"
      ],
      "metadata": {
        "id": "Zsj13tpw2RnR"
      },
      "execution_count": null,
      "outputs": []
    }
  ]
}