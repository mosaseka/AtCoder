{
  "nbformat": 4,
  "nbformat_minor": 0,
  "metadata": {
    "colab": {
      "provenance": [],
      "authorship_tag": "ABX9TyN+6pAs6C+xOVNwuOllPr/m",
      "include_colab_link": true
    },
    "kernelspec": {
      "name": "python3",
      "display_name": "Python 3"
    },
    "language_info": {
      "name": "python"
    }
  },
  "cells": [
    {
      "cell_type": "markdown",
      "metadata": {
        "id": "view-in-github",
        "colab_type": "text"
      },
      "source": [
        "<a href=\"https://colab.research.google.com/github/mosaseka/AtCoder/blob/main/B_%E2%88%B5%E2%88%B4%E2%88%B5.ipynb\" target=\"_parent\"><img src=\"https://colab.research.google.com/assets/colab-badge.svg\" alt=\"Open In Colab\"/></a>"
      ]
    },
    {
      "cell_type": "code",
      "execution_count": null,
      "metadata": {
        "colab": {
          "base_uri": "https://localhost:8080/"
        },
        "id": "_P1po7edlvql",
        "outputId": "0c68a0aa-de7a-450f-a908-3364101fb101"
      },
      "outputs": [
        {
          "output_type": "stream",
          "name": "stdout",
          "text": [
            "xyz\n",
            "abc\n",
            "xaybzc\n"
          ]
        }
      ],
      "source": [
        "O_LIST = list(map(str,input()))\n",
        "E_LIST = list(map(str,input()))\n",
        "ANSWER = \"\"\n",
        "\n",
        "while O_LIST != [] and E_LIST != []:\n",
        "  ANSWER += O_LIST[0]\n",
        "  O_LIST.pop(0)\n",
        "  ANSWER += E_LIST[0]\n",
        "  E_LIST.pop(0)\n",
        "\n",
        "if len(O_LIST) == 1:\n",
        "  ANSWER += O_LIST[0]\n",
        "\n",
        "print(ANSWER)"
      ]
    }
  ]
}