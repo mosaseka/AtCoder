{
  "nbformat": 4,
  "nbformat_minor": 0,
  "metadata": {
    "colab": {
      "provenance": [],
      "authorship_tag": "ABX9TyPVZnHIMRi2kv92Dkij661l",
      "include_colab_link": true
    },
    "kernelspec": {
      "name": "python3",
      "display_name": "Python 3"
    },
    "language_info": {
      "name": "python"
    }
  },
  "cells": [
    {
      "cell_type": "markdown",
      "metadata": {
        "id": "view-in-github",
        "colab_type": "text"
      },
      "source": [
        "<a href=\"https://colab.research.google.com/github/mosaseka/AtCoder/blob/main/B_Two_Colors_Card_Game.ipynb\" target=\"_parent\"><img src=\"https://colab.research.google.com/assets/colab-badge.svg\" alt=\"Open In Colab\"/></a>"
      ]
    },
    {
      "cell_type": "code",
      "execution_count": null,
      "metadata": {
        "colab": {
          "base_uri": "https://localhost:8080/"
        },
        "id": "w8TUlw1Mhge3",
        "outputId": "f0c2ff36-94b9-40be-8f3b-7c57a11a5048"
      },
      "outputs": [
        {
          "output_type": "stream",
          "name": "stdout",
          "text": [
            "3\n",
            "apple\n",
            "orange\n",
            "apple\n",
            "1\n",
            "grape\n",
            "2\n"
          ]
        }
      ],
      "source": [
        "import collections\n",
        "\n",
        "N = int(input())\n",
        "S_LIST = []\n",
        "T_LIST = []\n",
        "ANSWER_LIST = []\n",
        "S_NAME = []\n",
        "S_COLLECTION = {}\n",
        "T_COLLECTION = {}\n",
        "for i in range(N):\n",
        "  S_LIST.append(str(input()))\n",
        "M = int(input())\n",
        "for i in range(M):\n",
        "  T_LIST.append(str(input()))\n",
        "\n",
        "S_COLLECTION = collections.Counter(S_LIST)\n",
        "T_COLLECTION = collections.Counter(T_LIST)\n",
        "S_NAME = list(S_COLLECTION.keys())\n",
        "ANSWER_LIST = list(S_COLLECTION.values())\n",
        "S_COLLECTION = list(S_COLLECTION.items())\n",
        "T_COLLECTION = list(T_COLLECTION.items())\n",
        "\n",
        "#print(S_COLLECTION)\n",
        "#print(T_COLLECTION)\n",
        "\n",
        "for i in range(len(T_COLLECTION)):\n",
        "  if T_COLLECTION[i][0] in S_NAME:\n",
        "    ANSWER_LIST[S_NAME.index(T_COLLECTION[i][0])] -= T_COLLECTION[i][1]\n",
        "\n",
        "ANSWER_LIST.append(0)\n",
        "\n",
        "#print(ANSWER_LIST)\n",
        "\n",
        "print(max(ANSWER_LIST))"
      ]
    }
  ]
}