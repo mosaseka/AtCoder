{
  "nbformat": 4,
  "nbformat_minor": 0,
  "metadata": {
    "colab": {
      "provenance": [],
      "authorship_tag": "ABX9TyNcRJU8Ci+dZGhVSUKSwULR",
      "include_colab_link": true
    },
    "kernelspec": {
      "name": "python3",
      "display_name": "Python 3"
    },
    "language_info": {
      "name": "python"
    }
  },
  "cells": [
    {
      "cell_type": "markdown",
      "metadata": {
        "id": "view-in-github",
        "colab_type": "text"
      },
      "source": [
        "<a href=\"https://colab.research.google.com/github/mosaseka/AtCoder/blob/main/A_Apple.ipynb\" target=\"_parent\"><img src=\"https://colab.research.google.com/assets/colab-badge.svg\" alt=\"Open In Colab\"/></a>"
      ]
    },
    {
      "cell_type": "code",
      "execution_count": null,
      "metadata": {
        "id": "vPc6eiheimNx"
      },
      "outputs": [],
      "source": [
        "X,Y,N = map(int,input().split())\n",
        "ANSWER = 0\n",
        "\n",
        "if Y <= 3*X:\n",
        "  ANSWER += (N//3) * Y\n",
        "  ANSWER += (N%3) * X\n",
        "else:\n",
        "  ANSWER += N * X\n",
        "\n",
        "print(ANSWER)"
      ]
    }
  ]
}