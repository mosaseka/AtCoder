{
  "nbformat": 4,
  "nbformat_minor": 0,
  "metadata": {
    "colab": {
      "provenance": [],
      "authorship_tag": "ABX9TyOUoQ3qwrYe8IRVsizPtllm",
      "include_colab_link": true
    },
    "kernelspec": {
      "name": "python3",
      "display_name": "Python 3"
    },
    "language_info": {
      "name": "python"
    }
  },
  "cells": [
    {
      "cell_type": "markdown",
      "metadata": {
        "id": "view-in-github",
        "colab_type": "text"
      },
      "source": [
        "<a href=\"https://colab.research.google.com/github/mosaseka/AtCoder/blob/main/C_Secret_Number.ipynb\" target=\"_parent\"><img src=\"https://colab.research.google.com/assets/colab-badge.svg\" alt=\"Open In Colab\"/></a>"
      ]
    },
    {
      "cell_type": "code",
      "execution_count": null,
      "metadata": {
        "id": "MaE4EDgAzzQm"
      },
      "outputs": [],
      "source": [
        "S = str(input())\n",
        "USE = set()\n",
        "UNKNOWN = set()\n",
        "COUNT = 0\n",
        "CHECK = 0\n",
        "FLAG = False\n",
        "\n",
        "for i in range(len(S)):\n",
        "  if S[i] == \"o\":\n",
        "    USE.add(i+1)\n",
        "  elif  S[i] == \"?\":\n",
        "    UNKNOWN.add(i+1)\n",
        "\n",
        "for i in range(10000):\n",
        "  CHECK = str(i)\n",
        "  FLAG = False\n",
        "  for j in range(len(CHECK)):\n",
        "    if int(CHECK[j]) not in USE:\n",
        "      FLAG = True\n",
        "      break\n",
        "  if not FLAG:\n",
        "    COUNT += 1\n",
        "\n",
        "print(COUNT)"
      ]
    },
    {
      "cell_type": "code",
      "source": [
        "S = str(input())\n",
        "COUNT = 0\n",
        "FLAG = []\n",
        "CHECK = 0\n",
        "FLAG_DASH = False\n",
        "\n",
        "for i in range(10000):\n",
        "  FLAG = [False for i in range(10)]\n",
        "  CHECK = i\n",
        "  for j in range(4):\n",
        "    FLAG[CHECK%10] = True\n",
        "    CHECK = CHECK // 10\n",
        "  FLAG_DASH = True\n",
        "  for j in range(10):\n",
        "    if S[j] == \"o\" and not FLAG[j]:\n",
        "      FLAG_DASH = False\n",
        "    if S[j] == \"x\" and FLAG[j]:\n",
        "      FLAG_DASH = False\n",
        "  COUNT += FLAG_DASH\n",
        "\n",
        "print(COUNT)"
      ],
      "metadata": {
        "id": "H52aHSzHTNU6"
      },
      "execution_count": null,
      "outputs": []
    }
  ]
}