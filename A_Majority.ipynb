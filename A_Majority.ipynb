{
  "nbformat": 4,
  "nbformat_minor": 0,
  "metadata": {
    "colab": {
      "provenance": [],
      "authorship_tag": "ABX9TyPCK6pXUWBJ/cktzKzMpjfI",
      "include_colab_link": true
    },
    "kernelspec": {
      "name": "python3",
      "display_name": "Python 3"
    },
    "language_info": {
      "name": "python"
    }
  },
  "cells": [
    {
      "cell_type": "markdown",
      "metadata": {
        "id": "view-in-github",
        "colab_type": "text"
      },
      "source": [
        "<a href=\"https://colab.research.google.com/github/mosaseka/AtCoder/blob/main/A_Majority.ipynb\" target=\"_parent\"><img src=\"https://colab.research.google.com/assets/colab-badge.svg\" alt=\"Open In Colab\"/></a>"
      ]
    },
    {
      "cell_type": "code",
      "execution_count": null,
      "metadata": {
        "id": "LSk3JieecpE9"
      },
      "outputs": [],
      "source": [
        "N = int(input())\n",
        "MEDIAN = N / 2\n",
        "FOR_NUM = 0\n",
        "\n",
        "for i in range(N):\n",
        "  if str(input()) == \"For\":\n",
        "    FOR_NUM = FOR_NUM + 1\n",
        "  else:\n",
        "    pass\n",
        "\n",
        "if FOR_NUM >= MEDIAN:\n",
        "  print(\"Yes\")\n",
        "else:\n",
        "  print(\"No\")"
      ]
    }
  ]
}