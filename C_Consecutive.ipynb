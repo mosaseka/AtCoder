{
  "nbformat": 4,
  "nbformat_minor": 0,
  "metadata": {
    "colab": {
      "provenance": [],
      "authorship_tag": "ABX9TyOGH6zIu5ZwRL5toTPMmkAK",
      "include_colab_link": true
    },
    "kernelspec": {
      "name": "python3",
      "display_name": "Python 3"
    },
    "language_info": {
      "name": "python"
    }
  },
  "cells": [
    {
      "cell_type": "markdown",
      "metadata": {
        "id": "view-in-github",
        "colab_type": "text"
      },
      "source": [
        "<a href=\"https://colab.research.google.com/github/mosaseka/AtCoder/blob/main/C_Consecutive.ipynb\" target=\"_parent\"><img src=\"https://colab.research.google.com/assets/colab-badge.svg\" alt=\"Open In Colab\"/></a>"
      ]
    },
    {
      "cell_type": "code",
      "execution_count": null,
      "metadata": {
        "id": "4UJilqqB31F3"
      },
      "outputs": [],
      "source": [
        "N,Q = map(int,input().split())\n",
        "S = str(input())\n",
        "L = 0\n",
        "R = 0\n",
        "CHECK = \"\"\n",
        "COUNT = 0\n",
        "\n",
        "for i in range(Q):\n",
        "  L,R = map(int,input().split())\n",
        "  CHECK = S[L-1:R]\n",
        "  COUNT = 0\n",
        "  for j in range(len(CHECK)-1):\n",
        "    if CHECK[j] == CHECK[j+1]:\n",
        "      COUNT += 1\n",
        "  print(COUNT)"
      ]
    },
    {
      "cell_type": "code",
      "source": [
        "from collections import deque\n",
        "from bisect import bisect\n",
        "\n",
        "N,Q = map(int,input().split())\n",
        "S = str(input())\n",
        "L = 0\n",
        "R = 0\n",
        "CHECK = \"\"\n",
        "COUNT = 0\n",
        "A_LIST = deque()\n",
        "B_LIST = deque()\n",
        "A_SET = set()\n",
        "B_SET = set()\n",
        "A = 0\n",
        "B = 0\n",
        "\n",
        "for i in range(N-1):\n",
        "  if S[i] == S[i+1]:\n",
        "    A_LIST.append(i)\n",
        "    B_LIST.append(i+1)\n",
        "\n",
        "A_LIST = list(A_LIST)\n",
        "B_LIST = list(B_LIST)\n",
        "A_LIST.sort()\n",
        "B_LIST.sort()\n",
        "\n",
        "A_SET = set(A_LIST)\n",
        "B_SET = set(B_LIST)\n",
        "\n",
        "#print(A_LIST)\n",
        "#print(B_LIST)\n",
        "\n",
        "for i in range(Q):\n",
        "  L,R = map(int,input().split())\n",
        "  A = bisect(A_LIST,L-1)\n",
        "  B = bisect(B_LIST,R-1)\n",
        "  if L-1 in A_SET:\n",
        "    A -= 1\n",
        "  #print(A,B)\n",
        "  print(B-A)"
      ],
      "metadata": {
        "id": "KJXnzfN-bFWc"
      },
      "execution_count": null,
      "outputs": []
    }
  ]
}