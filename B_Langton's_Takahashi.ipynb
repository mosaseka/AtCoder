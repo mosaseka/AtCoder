{
  "nbformat": 4,
  "nbformat_minor": 0,
  "metadata": {
    "colab": {
      "provenance": [],
      "authorship_tag": "ABX9TyPSbc9sosXElyRyPv6Nlyf8",
      "include_colab_link": true
    },
    "kernelspec": {
      "name": "python3",
      "display_name": "Python 3"
    },
    "language_info": {
      "name": "python"
    }
  },
  "cells": [
    {
      "cell_type": "markdown",
      "metadata": {
        "id": "view-in-github",
        "colab_type": "text"
      },
      "source": [
        "<a href=\"https://colab.research.google.com/github/mosaseka/AtCoder/blob/main/B_Langton's_Takahashi.ipynb\" target=\"_parent\"><img src=\"https://colab.research.google.com/assets/colab-badge.svg\" alt=\"Open In Colab\"/></a>"
      ]
    },
    {
      "cell_type": "code",
      "execution_count": null,
      "metadata": {
        "id": "Mr0Bb8Q2tmoe"
      },
      "outputs": [],
      "source": [
        "H,W,N = map(int,input().split())\n",
        "GLID = [[\".\" for i in range(W)] for j in range(H)]\n",
        "NOW = [0,0]\n",
        "VECTOR = [\"N\",\"E\",\"S\",\"W\"]\n",
        "COUNT = 0\n",
        "\n",
        "for i in range(N):\n",
        "  if GLID[NOW[0]][NOW[1]] == \".\":\n",
        "    GLID[NOW[0]][NOW[1]] = \"#\"\n",
        "    if VECTOR[((COUNT+1)%4)] == \"N\":\n",
        "      NOW[0] -= 1\n",
        "      COUNT += 1\n",
        "    elif VECTOR[((COUNT+1)%4)] == \"E\":\n",
        "      NOW[1] += 1\n",
        "      COUNT += 1\n",
        "    elif VECTOR[((COUNT+1)%4)] == \"S\":\n",
        "      NOW[0] += 1\n",
        "      COUNT += 1\n",
        "    elif VECTOR[((COUNT+1)%4)] == \"W\":\n",
        "      NOW[1] -= 1\n",
        "      COUNT += 1\n",
        "  else:\n",
        "    GLID[NOW[0]][NOW[1]] = \".\"\n",
        "    if VECTOR[(COUNT-1)%4] == \"N\":\n",
        "      NOW[0] -= 1\n",
        "      COUNT -= 1\n",
        "    elif VECTOR[(COUNT-1)%4] == \"E\":\n",
        "      NOW[1] += 1\n",
        "      COUNT -= 1\n",
        "    elif VECTOR[(COUNT-1)%4] == \"S\":\n",
        "      NOW[0] += 1\n",
        "      COUNT -= 1\n",
        "    elif VECTOR[(COUNT-1)%4] == \"W\":\n",
        "      NOW[1] -= 1\n",
        "      COUNT -= 1\n",
        "\n",
        "for i in range(H):\n",
        "  print(\"\".join(GLID[i]))"
      ]
    },
    {
      "cell_type": "code",
      "source": [
        "H,W,N = map(int,input().split())\n",
        "GLID = [[\".\" for i in range(W)] for j in range(H)]\n",
        "NOW = [0,0]\n",
        "VECTOR = [\"N\",\"E\",\"S\",\"W\"]\n",
        "COUNT = 0\n",
        "\n",
        "for i in range(N):\n",
        "  if GLID[NOW[0]%H][NOW[1]%W] == \".\":\n",
        "    GLID[NOW[0]%H][NOW[1]%W] = \"#\"\n",
        "    if VECTOR[((COUNT+1)%4)] == \"N\":\n",
        "      NOW[0] -= 1\n",
        "      COUNT += 1\n",
        "    elif VECTOR[((COUNT+1)%4)] == \"E\":\n",
        "      NOW[1] += 1\n",
        "      COUNT += 1\n",
        "    elif VECTOR[((COUNT+1)%4)] == \"S\":\n",
        "      NOW[0] += 1\n",
        "      COUNT += 1\n",
        "    elif VECTOR[((COUNT+1)%4)] == \"W\":\n",
        "      NOW[1] -= 1\n",
        "      COUNT += 1\n",
        "  else:\n",
        "    GLID[NOW[0]%H][NOW[1]%W] = \".\"\n",
        "    if VECTOR[(COUNT-1)%4] == \"N\":\n",
        "      NOW[0] -= 1\n",
        "      COUNT -= 1\n",
        "    elif VECTOR[(COUNT-1)%4] == \"E\":\n",
        "      NOW[1] += 1\n",
        "      COUNT -= 1\n",
        "    elif VECTOR[(COUNT-1)%4] == \"S\":\n",
        "      NOW[0] += 1\n",
        "      COUNT -= 1\n",
        "    elif VECTOR[(COUNT-1)%4] == \"W\":\n",
        "      NOW[1] -= 1\n",
        "      COUNT -= 1\n",
        "\n",
        "for i in range(H):\n",
        "  print(\"\".join(GLID[i]))"
      ],
      "metadata": {
        "id": "BdWzMMMO8NJ4"
      },
      "execution_count": null,
      "outputs": []
    }
  ]
}