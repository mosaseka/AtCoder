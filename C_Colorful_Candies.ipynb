{
  "nbformat": 4,
  "nbformat_minor": 0,
  "metadata": {
    "colab": {
      "provenance": [],
      "authorship_tag": "ABX9TyP/CiK0ofdK+L0qFSBVU93e",
      "include_colab_link": true
    },
    "kernelspec": {
      "name": "python3",
      "display_name": "Python 3"
    },
    "language_info": {
      "name": "python"
    }
  },
  "cells": [
    {
      "cell_type": "markdown",
      "metadata": {
        "id": "view-in-github",
        "colab_type": "text"
      },
      "source": [
        "<a href=\"https://colab.research.google.com/github/mosaseka/AtCoder/blob/main/C_Colorful_Candies.ipynb\" target=\"_parent\"><img src=\"https://colab.research.google.com/assets/colab-badge.svg\" alt=\"Open In Colab\"/></a>"
      ]
    },
    {
      "cell_type": "code",
      "execution_count": null,
      "metadata": {
        "id": "NuxcKqcUBUuO"
      },
      "outputs": [],
      "source": [
        "from collections import deque\n",
        "\n",
        "N,K = map(int,input().split())\n",
        "C_LIST = list(map(int,input().split()))\n",
        "ANSWER_LIST = deque()\n",
        "CHECK = []\n",
        "\n",
        "for i in range(N-K+1):\n",
        "  CHECK = C_LIST[i:i+K]\n",
        "  #print(CHECK)\n",
        "  ANSWER_LIST.append(len(set(CHECK)))\n",
        "\n",
        "print(max(ANSWER_LIST))"
      ]
    },
    {
      "cell_type": "code",
      "source": [
        "from collections import deque\n",
        "\n",
        "N,K = map(int,input().split())\n",
        "C_LIST = list(map(int,input().split()))\n",
        "ANSWER_LIST = deque()\n",
        "CHECK = []\n",
        "\n",
        "for i in range(N-K+1):\n",
        "  CHECK = C_LIST[i:i+K]\n",
        "  #print(CHECK)\n",
        "  ANSWER_LIST.append(len(set(CHECK)))\n",
        "\n",
        "ANSWER_LIST = list(ANSWER_LIST)\n",
        "\n",
        "print(max(ANSWER_LIST))"
      ],
      "metadata": {
        "id": "azUh2RIBC89R"
      },
      "execution_count": null,
      "outputs": []
    },
    {
      "cell_type": "code",
      "source": [
        "from collections import defaultdict\n",
        "\n",
        "N,K = map(int,input().split())\n",
        "C_LIST = list(map(int,input().split()))\n",
        "DICT = defaultdict(int)\n",
        "ANSWER = 0\n",
        "COUNT = 0\n",
        "\n",
        "for i in range(K):\n",
        "  DICT[C_LIST[i]] += 1\n",
        "  if DICT[C_LIST[i]] == 1:\n",
        "    COUNT += 1\n",
        "  ANSWER = max(ANSWER,COUNT)\n",
        "\n",
        "for i in range(N):\n",
        "  if N <= i+K:\n",
        "    break\n",
        "  DICT[C_LIST[i]] -= 1\n",
        "  if DICT[C_LIST[i]] == 0:\n",
        "    COUNT -= 1\n",
        "  DICT[C_LIST[i+K]] += 1\n",
        "  if DICT[C_LIST[i+K]] == 1:\n",
        "    COUNT += 1\n",
        "  ANSWER = max(ANSWER,COUNT)\n",
        "\n",
        "#print(DICT)\n",
        "\n",
        "print(ANSWER)"
      ],
      "metadata": {
        "id": "1DgC0YgJDc8Y"
      },
      "execution_count": null,
      "outputs": []
    }
  ]
}