{
  "nbformat": 4,
  "nbformat_minor": 0,
  "metadata": {
    "colab": {
      "provenance": [],
      "authorship_tag": "ABX9TyNDWLQaqVGIV+jowH2K2hM7",
      "include_colab_link": true
    },
    "kernelspec": {
      "name": "python3",
      "display_name": "Python 3"
    },
    "language_info": {
      "name": "python"
    }
  },
  "cells": [
    {
      "cell_type": "markdown",
      "metadata": {
        "id": "view-in-github",
        "colab_type": "text"
      },
      "source": [
        "<a href=\"https://colab.research.google.com/github/mosaseka/AtCoder/blob/main/C_Triangle%3F.ipynb\" target=\"_parent\"><img src=\"https://colab.research.google.com/assets/colab-badge.svg\" alt=\"Open In Colab\"/></a>"
      ]
    },
    {
      "cell_type": "code",
      "execution_count": null,
      "metadata": {
        "id": "6Ea7yZLaF6Ko"
      },
      "outputs": [],
      "source": [
        "import itertools\n",
        "\n",
        "N = int(input())\n",
        "XY_LIST = [list(map(int,input().split())) for i in range(N)]\n",
        "CHECK_LIST = list(itertools.combinations(XY_LIST,3))\n",
        "AX = 0\n",
        "AY = 0\n",
        "BX = 0\n",
        "BY = 0\n",
        "CX = 0\n",
        "CY = 0\n",
        "AREA = 0\n",
        "ANSWER = 0\n",
        "\n",
        "for i in range(len(CHECK_LIST)):\n",
        "  AX,AY = CHECK_LIST[i][0][0],CHECK_LIST[i][0][1]\n",
        "  BX,BY = CHECK_LIST[i][1][0],CHECK_LIST[i][1][1]\n",
        "  CX,CY = CHECK_LIST[i][2][0],CHECK_LIST[i][2][1]\n",
        "  AREA = abs((AX-CX)*(BY-CY) - (BX-CX)*(AY-CY))/2\n",
        "  if AREA > 0:\n",
        "    ANSWER += 1\n",
        "\n",
        "print(ANSWER)"
      ]
    },
    {
      "cell_type": "code",
      "source": [
        "import math\n",
        "\n",
        "print(math.comb(20,3))"
      ],
      "metadata": {
        "colab": {
          "base_uri": "https://localhost:8080/"
        },
        "id": "jztgMnWSHtiK",
        "outputId": "82984a4e-0004-4b89-ec62-b03b5262aab9"
      },
      "execution_count": null,
      "outputs": [
        {
          "output_type": "stream",
          "name": "stdout",
          "text": [
            "1140\n"
          ]
        }
      ]
    }
  ]
}