{
  "nbformat": 4,
  "nbformat_minor": 0,
  "metadata": {
    "colab": {
      "provenance": [],
      "authorship_tag": "ABX9TyPJ8OC8xOx1cI/koIdnI3Ex",
      "include_colab_link": true
    },
    "kernelspec": {
      "name": "python3",
      "display_name": "Python 3"
    },
    "language_info": {
      "name": "python"
    }
  },
  "cells": [
    {
      "cell_type": "markdown",
      "metadata": {
        "id": "view-in-github",
        "colab_type": "text"
      },
      "source": [
        "<a href=\"https://colab.research.google.com/github/mosaseka/AtCoder/blob/main/C_Same_Integers.ipynb\" target=\"_parent\"><img src=\"https://colab.research.google.com/assets/colab-badge.svg\" alt=\"Open In Colab\"/></a>"
      ]
    },
    {
      "cell_type": "code",
      "execution_count": null,
      "metadata": {
        "colab": {
          "base_uri": "https://localhost:8080/"
        },
        "id": "sGPCQkbzTD9T",
        "outputId": "86d946cf-a9e9-46b1-df0d-327aea96b130"
      },
      "outputs": [
        {
          "output_type": "stream",
          "name": "stdout",
          "text": [
            "2 5 4\n",
            "2\n"
          ]
        }
      ],
      "source": [
        "A,B,C = map(int,input().split())\n",
        "ABC_LIST = []\n",
        "COUNT = 0\n",
        "\n",
        "if A % 2 == B % 2 and B % 2 == C % 2:\n",
        "  pass\n",
        "elif A % 2 == B % 2:\n",
        "  A += 1\n",
        "  B += 1\n",
        "  COUNT += 1\n",
        "elif B % 2 == C % 2:\n",
        "  B += 1\n",
        "  C += 1\n",
        "  COUNT += 1\n",
        "elif C % 2 == A % 2:\n",
        "  C += 1\n",
        "  A += 1\n",
        "  COUNT += 1\n",
        "\n",
        "ABC_LIST = [A,B,C]\n",
        "ABC_LIST.sort()\n",
        "COUNT += ((ABC_LIST[2] - ABC_LIST[0]) // 2)\n",
        "COUNT += ((ABC_LIST[2] - ABC_LIST[1]) // 2)\n",
        "\n",
        "print(COUNT)"
      ]
    }
  ]
}