{
  "nbformat": 4,
  "nbformat_minor": 0,
  "metadata": {
    "colab": {
      "provenance": [],
      "authorship_tag": "ABX9TyNOgAjaAlwu1fAJQ2WOJJb9",
      "include_colab_link": true
    },
    "kernelspec": {
      "name": "python3",
      "display_name": "Python 3"
    },
    "language_info": {
      "name": "python"
    }
  },
  "cells": [
    {
      "cell_type": "markdown",
      "metadata": {
        "id": "view-in-github",
        "colab_type": "text"
      },
      "source": [
        "<a href=\"https://colab.research.google.com/github/mosaseka/AtCoder/blob/main/B_Sumo.ipynb\" target=\"_parent\"><img src=\"https://colab.research.google.com/assets/colab-badge.svg\" alt=\"Open In Colab\"/></a>"
      ]
    },
    {
      "cell_type": "code",
      "execution_count": null,
      "metadata": {
        "id": "Kdl7Xd8tnf3Y"
      },
      "outputs": [],
      "source": [
        "S = str(input())\n",
        "WIN = 0\n",
        "LOSE = 0\n",
        "\n",
        "for i in range(len(S)):\n",
        "  if S[i] == \"o\":\n",
        "    WIN += 1\n",
        "  else:\n",
        "    LOSE += 1\n",
        "\n",
        "if (15 - len(S)) + WIN >= 8:\n",
        "  print(\"YES\")\n",
        "else:\n",
        "  print(\"NO\")"
      ]
    }
  ]
}