{
  "nbformat": 4,
  "nbformat_minor": 0,
  "metadata": {
    "colab": {
      "provenance": [],
      "authorship_tag": "ABX9TyPTd/pyYiY6VLqrXzHHID4s",
      "include_colab_link": true
    },
    "kernelspec": {
      "name": "python3",
      "display_name": "Python 3"
    },
    "language_info": {
      "name": "python"
    }
  },
  "cells": [
    {
      "cell_type": "markdown",
      "metadata": {
        "id": "view-in-github",
        "colab_type": "text"
      },
      "source": [
        "<a href=\"https://colab.research.google.com/github/mosaseka/AtCoder/blob/main/B_Takahashi's_Failure.ipynb\" target=\"_parent\"><img src=\"https://colab.research.google.com/assets/colab-badge.svg\" alt=\"Open In Colab\"/></a>"
      ]
    },
    {
      "cell_type": "code",
      "execution_count": null,
      "metadata": {
        "id": "r-Zgv6SiNaqN"
      },
      "outputs": [],
      "source": [
        "N,K = map(int,input().split())\n",
        "A_LIST = list(map(int,input().split()))\n",
        "B_SET = set(map(int,input().split()))\n",
        "MAX = max(A_LIST)\n",
        "\n",
        "for i in range(N):\n",
        "  if A_LIST[i] == MAX and (i+1) in B_SET:\n",
        "    print(\"Yes\")\n",
        "    exit()\n",
        "\n",
        "print(\"No\")"
      ]
    }
  ]
}