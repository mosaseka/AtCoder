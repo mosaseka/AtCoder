{
  "nbformat": 4,
  "nbformat_minor": 0,
  "metadata": {
    "colab": {
      "provenance": [],
      "authorship_tag": "ABX9TyNBXvklNX6DtolRQVHSjq1i",
      "include_colab_link": true
    },
    "kernelspec": {
      "name": "python3",
      "display_name": "Python 3"
    },
    "language_info": {
      "name": "python"
    }
  },
  "cells": [
    {
      "cell_type": "markdown",
      "metadata": {
        "id": "view-in-github",
        "colab_type": "text"
      },
      "source": [
        "<a href=\"https://colab.research.google.com/github/mosaseka/AtCoder/blob/main/B_Ticket_Counter.ipynb\" target=\"_parent\"><img src=\"https://colab.research.google.com/assets/colab-badge.svg\" alt=\"Open In Colab\"/></a>"
      ]
    },
    {
      "cell_type": "code",
      "source": [
        "N,A = map(int,input().split())\n",
        "T_LIST = list(map(int,input().split()))\n",
        "TIME = 0\n",
        "\n",
        "for i in range(N):\n",
        "  if T_LIST[i] >= TIME:\n",
        "    TIME = T_LIST[i] + A\n",
        "  else:\n",
        "    TIME += A\n",
        "  print(TIME)"
      ],
      "metadata": {
        "id": "7KUD8GAd-68L"
      },
      "execution_count": null,
      "outputs": []
    }
  ]
}