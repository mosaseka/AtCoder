{
  "nbformat": 4,
  "nbformat_minor": 0,
  "metadata": {
    "colab": {
      "provenance": [],
      "authorship_tag": "ABX9TyMdtAKmXdUClnsPB+bW6i6F",
      "include_colab_link": true
    },
    "kernelspec": {
      "name": "python3",
      "display_name": "Python 3"
    },
    "language_info": {
      "name": "python"
    }
  },
  "cells": [
    {
      "cell_type": "markdown",
      "metadata": {
        "id": "view-in-github",
        "colab_type": "text"
      },
      "source": [
        "<a href=\"https://colab.research.google.com/github/mosaseka/AtCoder/blob/main/A_CAPS_LOCK.ipynb\" target=\"_parent\"><img src=\"https://colab.research.google.com/assets/colab-badge.svg\" alt=\"Open In Colab\"/></a>"
      ]
    },
    {
      "cell_type": "code",
      "execution_count": null,
      "metadata": {
        "id": "Le5CFFJQTlQI"
      },
      "outputs": [],
      "source": [
        "import string\n",
        "\n",
        "S_LIST = list(str(input()))\n",
        "ANSWER = \"\"\n",
        "SMALL_LIST = list(string.ascii_lowercase)\n",
        "LARGE_LIST = list(string.ascii_uppercase)\n",
        "\n",
        "for i in range(len(S)):\n",
        "  ANSWER += LARGE_LIST[SMALL_LIST.index(S_LIST[i])]\n",
        "\n",
        "print(ANSWER)"
      ]
    }
  ]
}