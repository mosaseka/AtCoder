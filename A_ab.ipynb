{
  "nbformat": 4,
  "nbformat_minor": 0,
  "metadata": {
    "colab": {
      "provenance": [],
      "authorship_tag": "ABX9TyPezFu743cFY2HDKaECwXPr",
      "include_colab_link": true
    },
    "kernelspec": {
      "name": "python3",
      "display_name": "Python 3"
    },
    "language_info": {
      "name": "python"
    }
  },
  "cells": [
    {
      "cell_type": "markdown",
      "metadata": {
        "id": "view-in-github",
        "colab_type": "text"
      },
      "source": [
        "<a href=\"https://colab.research.google.com/github/mosaseka/AtCoder/blob/main/A_ab.ipynb\" target=\"_parent\"><img src=\"https://colab.research.google.com/assets/colab-badge.svg\" alt=\"Open In Colab\"/></a>"
      ]
    },
    {
      "cell_type": "code",
      "execution_count": null,
      "metadata": {
        "id": "nOgfOJKG2KOw"
      },
      "outputs": [],
      "source": [
        "N = int(input())\n",
        "S = str(input())\n",
        "\n",
        "for i in range(N):\n",
        "  if i == 0:\n",
        "    pass\n",
        "  else:\n",
        "    if (S[i-1] == \"a\" and S[i] == \"b\") or (S[i-1] == \"b\" and S[i] == \"a\"):\n",
        "      print(\"Yes\")\n",
        "      exit()\n",
        "\n",
        "print(\"No\")"
      ]
    }
  ]
}