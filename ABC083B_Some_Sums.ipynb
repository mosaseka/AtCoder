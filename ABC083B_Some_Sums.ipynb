{
  "nbformat": 4,
  "nbformat_minor": 0,
  "metadata": {
    "colab": {
      "provenance": [],
      "authorship_tag": "ABX9TyO9bL7B1RBtSY0jJTpOSKnR",
      "include_colab_link": true
    },
    "kernelspec": {
      "name": "python3",
      "display_name": "Python 3"
    },
    "language_info": {
      "name": "python"
    }
  },
  "cells": [
    {
      "cell_type": "markdown",
      "metadata": {
        "id": "view-in-github",
        "colab_type": "text"
      },
      "source": [
        "<a href=\"https://colab.research.google.com/github/mosaseka/AtCoder/blob/main/ABC083B_Some_Sums.ipynb\" target=\"_parent\"><img src=\"https://colab.research.google.com/assets/colab-badge.svg\" alt=\"Open In Colab\"/></a>"
      ]
    },
    {
      "cell_type": "code",
      "execution_count": null,
      "metadata": {
        "id": "q2au9MsqIel0"
      },
      "outputs": [],
      "source": [
        "INPUT = list(map(int,input().split()))\n",
        "N = INPUT[0]\n",
        "A = INPUT[1]\n",
        "B = INPUT[2]\n",
        "NUM_LIST = list(range(1,N+1))\n",
        "SUM_LIST = []\n",
        "ANSWER_LIST = []\n",
        "\n",
        "for i in range(len(NUM_LIST)):\n",
        "  C = str(NUM_LIST[i])\n",
        "  D = list(map(int,C))\n",
        "  SUM_LIST.append(sum(D))\n",
        "  if A <= SUM_LIST[i] and SUM_LIST[i] <= B:\n",
        "    ANSWER_LIST.append(NUM_LIST[i])\n",
        "  else:\n",
        "    pass\n",
        "print(sum(ANSWER_LIST))"
      ]
    }
  ]
}