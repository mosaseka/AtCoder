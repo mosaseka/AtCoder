{
  "nbformat": 4,
  "nbformat_minor": 0,
  "metadata": {
    "colab": {
      "provenance": [],
      "authorship_tag": "ABX9TyOjCvSBK9O6noW+FvZaV1Kb",
      "include_colab_link": true
    },
    "kernelspec": {
      "name": "python3",
      "display_name": "Python 3"
    },
    "language_info": {
      "name": "python"
    }
  },
  "cells": [
    {
      "cell_type": "markdown",
      "metadata": {
        "id": "view-in-github",
        "colab_type": "text"
      },
      "source": [
        "<a href=\"https://colab.research.google.com/github/mosaseka/AtCoder/blob/main/C_Sort.ipynb\" target=\"_parent\"><img src=\"https://colab.research.google.com/assets/colab-badge.svg\" alt=\"Open In Colab\"/></a>"
      ]
    },
    {
      "cell_type": "code",
      "execution_count": null,
      "metadata": {
        "id": "39pgKnSFsTtt"
      },
      "outputs": [],
      "source": [
        "from collections import deque\n",
        "\n",
        "def quick_sort(data, left, right):\n",
        "    i = left  # left_index\n",
        "    j = right  # right_index\n",
        "    pivot = (left + right) // 2  # 軸\n",
        "    ANSWER = deque()\n",
        "\n",
        "    # ソート対象のインデックスを探索\n",
        "    while True:\n",
        "        while data[i] < data[pivot]:\n",
        "            i = i + 1\n",
        "        while data[j] > data[pivot]:\n",
        "            j = j - 1\n",
        "        # 無限ループ終了条件\n",
        "        if i >= j:\n",
        "            break\n",
        "        # 交換\n",
        "        tmp = data[i]\n",
        "        data[i] = data[j]\n",
        "        data[j] = tmp\n",
        "        print(data)\n",
        "        ANSWER.append([i+1,j+1])\n",
        "        # 範囲を一つ狭める\n",
        "        i = i + 1\n",
        "        j = j - 1\n",
        "\n",
        "    # 再帰処理\n",
        "    if left < i - 1:\n",
        "        quick_sort(data, left, i - 1)\n",
        "    if right > j + 1:\n",
        "        quick_sort(data, j + 1, right)\n",
        "\n",
        "N = int(input())\n",
        "A_LIST = list(map(int,input().split()))\n",
        "\n",
        "if A_LIST == sorted(A_LIST):\n",
        "  print(0)\n",
        "  exit()\n",
        "\n",
        "ANSWER = quick_sort(A_LIST, 0, N-1)\n",
        "COUNT = len(ANSWER)\n",
        "\n",
        "print(COUNT)\n",
        "for i in range(COUNT):\n",
        "  print(*ANSWER[i])"
      ]
    },
    {
      "cell_type": "code",
      "source": [
        "def quicksort(arr):\n",
        "    comparisons = 0\n",
        "    swaps = []\n",
        "\n",
        "    def partition(arr, low, high):\n",
        "        nonlocal comparisons\n",
        "        pivot = arr[high]\n",
        "        i = low - 1\n",
        "        for j in range(low, high):\n",
        "            comparisons += 1\n",
        "            if arr[j] < pivot:\n",
        "                i += 1\n",
        "                arr[i], arr[j] = arr[j], arr[i]\n",
        "                if i != j:  # 重複しないように\n",
        "                    swaps.append([i+1, j+1])\n",
        "        if i + 1 != high:  # 重複しないように\n",
        "            swaps.append([i + 2, high+1])\n",
        "        arr[i + 1], arr[high] = arr[high], arr[i + 1]\n",
        "        return i + 1\n",
        "\n",
        "    def quicksort_helper(arr, low, high):\n",
        "        if low < high:\n",
        "            pi = partition(arr, low, high)\n",
        "            quicksort_helper(arr, low, pi - 1)\n",
        "            quicksort_helper(arr, pi + 1, high)\n",
        "\n",
        "    quicksort_helper(arr, 0, len(arr) - 1)\n",
        "    return comparisons, swaps\n",
        "\n",
        "N = int(input())\n",
        "A_LIST = list(map(int,input().split()))\n",
        "comparisons, swaps = quicksort(A_LIST)\n",
        "COUNT = len(swaps)\n",
        "\n",
        "#print(swaps)\n",
        "print(COUNT)\n",
        "\n",
        "for i in range(COUNT):\n",
        "  print(*swaps[i])"
      ],
      "metadata": {
        "id": "hXd4Rizhk_PT"
      },
      "execution_count": null,
      "outputs": []
    },
    {
      "cell_type": "code",
      "source": [
        "def quick_sort(arr):\n",
        "    def partition(arr, low, high):\n",
        "        pivot = arr[high]\n",
        "        i = low - 1\n",
        "        swaps = []\n",
        "        for j in range(low, high):\n",
        "            if arr[j] < pivot:\n",
        "                i += 1\n",
        "                arr[i], arr[j] = arr[j], arr[i]\n",
        "                if i != j:  # Avoid duplicates\n",
        "                    swaps.append((i, j))\n",
        "        arr[i + 1], arr[high] = arr[high], arr[i + 1]\n",
        "        if i + 1 != high:  # Avoid duplicates\n",
        "            swaps.append((i + 1, high))\n",
        "        return i + 1, swaps\n",
        "\n",
        "    def _quick_sort(arr, low, high):\n",
        "        if low < high:\n",
        "            pi, swaps = partition(arr, low, high)\n",
        "            left_swaps = _quick_sort(arr, low, pi - 1)\n",
        "            right_swaps = _quick_sort(arr, pi + 1, high)\n",
        "            return swaps + left_swaps + right_swaps\n",
        "        else:\n",
        "            return []\n",
        "\n",
        "    swaps = _quick_sort(arr, 0, len(arr) - 1)\n",
        "    return len(swaps), swaps\n",
        "\n",
        "N = int(input())\n",
        "A_LIST = list(map(int,input().split()))\n",
        "num_swaps, swap_indices = quick_sort(A_LIST)\n",
        "print(num_swaps)\n",
        "for swap in swap_indices:\n",
        "    if swap[0] != swap[1]:  # Exclude duplicate indices\n",
        "        print(swap[0]+1,swap[1]+1)"
      ],
      "metadata": {
        "colab": {
          "base_uri": "https://localhost:8080/"
        },
        "id": "lUf_1-OnoWGb",
        "outputId": "df2a095b-5a5e-474a-fa12-b54e77d59d03"
      },
      "execution_count": 3,
      "outputs": [
        {
          "output_type": "stream",
          "name": "stdout",
          "text": [
            "5\n",
            "1 2 3 4 5\n",
            "0\n"
          ]
        }
      ]
    },
    {
      "cell_type": "markdown",
      "source": [
        "Pythonで解いてください。\n",
        "\n",
        "(1,2,…,N) の並び替えである数列\n",
        "A=(A\n",
        "1\n",
        "​\n",
        " ,…,A\n",
        "N\n",
        "​\n",
        " ) が与えられます。\n",
        "次の操作を\n",
        "0 回以上\n",
        "N−1 回以下行うことで、\n",
        "A を\n",
        "(1,2,…,N) にしてください。\n",
        "\n",
        "操作：\n",
        "1≤i<j≤N を満たす整数の組\n",
        "(i,j) を自由に選ぶ。\n",
        "A の\n",
        "i 番目と\n",
        "j 番目の要素を入れ替える。"
      ],
      "metadata": {
        "id": "y-MSINIuq0L-"
      }
    },
    {
      "cell_type": "code",
      "source": [
        "def min_swaps_with_pairs(arr):\n",
        "    n = len(arr)\n",
        "    swaps = 0\n",
        "    swap_pairs = []\n",
        "\n",
        "    for i in range(n):\n",
        "        while arr[i] != i + 1:\n",
        "            j = arr[i] - 1\n",
        "            arr[i], arr[j] = arr[j], arr[i]\n",
        "            swaps += 1\n",
        "            swap_pairs.append([i + 1, j + 1])\n",
        "\n",
        "    return swaps, swap_pairs\n",
        "\n",
        "# 数列Aの入力とリスト化\n",
        "N = int(input())\n",
        "A = list(map(int, input().split()))\n",
        "\n",
        "# 最小の操作回数とスワップ操作の組を計算して出力\n",
        "min_swaps, pairs = min_swaps_with_pairs(A)\n",
        "print(min_swaps)\n",
        "for pair in pairs:\n",
        "    print(*pair)"
      ],
      "metadata": {
        "id": "n_5Ks0qIq8GI"
      },
      "execution_count": null,
      "outputs": []
    }
  ]
}