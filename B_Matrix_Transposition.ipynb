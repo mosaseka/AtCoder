{
  "nbformat": 4,
  "nbformat_minor": 0,
  "metadata": {
    "colab": {
      "provenance": [],
      "authorship_tag": "ABX9TyO2fT9gZycCRnUpnN13letF",
      "include_colab_link": true
    },
    "kernelspec": {
      "name": "python3",
      "display_name": "Python 3"
    },
    "language_info": {
      "name": "python"
    }
  },
  "cells": [
    {
      "cell_type": "markdown",
      "metadata": {
        "id": "view-in-github",
        "colab_type": "text"
      },
      "source": [
        "<a href=\"https://colab.research.google.com/github/mosaseka/AtCoder/blob/main/B_Matrix_Transposition.ipynb\" target=\"_parent\"><img src=\"https://colab.research.google.com/assets/colab-badge.svg\" alt=\"Open In Colab\"/></a>"
      ]
    },
    {
      "cell_type": "code",
      "execution_count": null,
      "metadata": {
        "id": "N4sJGHqB0nWX"
      },
      "outputs": [],
      "source": [
        "H,W = map(int,input().split())\n",
        "A_LIST = [list(map(int,input().split())) for i in range(H)]\n",
        "B_LIST = [[0 for i in range(H)] for j in range(W)]\n",
        "\n",
        "for i in range(H):\n",
        "  for j in range(W):\n",
        "    B_LIST[j][i] = A_LIST[i][j]\n",
        "\n",
        "for i in range(W):\n",
        "  print(*B_LIST[i])"
      ]
    }
  ]
}