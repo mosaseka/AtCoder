{
  "nbformat": 4,
  "nbformat_minor": 0,
  "metadata": {
    "colab": {
      "provenance": [],
      "authorship_tag": "ABX9TyM9t9MKcCQIsIjj2s/Yyqni",
      "include_colab_link": true
    },
    "kernelspec": {
      "name": "python3",
      "display_name": "Python 3"
    },
    "language_info": {
      "name": "python"
    }
  },
  "cells": [
    {
      "cell_type": "markdown",
      "metadata": {
        "id": "view-in-github",
        "colab_type": "text"
      },
      "source": [
        "<a href=\"https://colab.research.google.com/github/mosaseka/AtCoder/blob/main/B_K_th_Common_Divisor.ipynb\" target=\"_parent\"><img src=\"https://colab.research.google.com/assets/colab-badge.svg\" alt=\"Open In Colab\"/></a>"
      ]
    },
    {
      "cell_type": "code",
      "execution_count": null,
      "metadata": {
        "id": "Q9NMbJ4a3zz-"
      },
      "outputs": [],
      "source": [
        "LIST = list(map(int,input().split()))\n",
        "A = LIST[0]\n",
        "B = LIST[1]\n",
        "K = LIST[2]\n",
        "A_DIV = []\n",
        "B_DIV = []\n",
        "COMMON_DIV = []\n",
        "\n",
        "for i in range(A):\n",
        "  if A % (i+1) == 0:\n",
        "    A_DIV.append(i+1)\n",
        "\n",
        "for i in range(B):\n",
        "  if B % (i+1) == 0:\n",
        "    B_DIV.append(i+1)\n",
        "\n",
        "for i in range(len(A_DIV)):\n",
        "  for j in range(len(B_DIV)):\n",
        "    if A_DIV[i] == B_DIV[j]:\n",
        "      COMMON_DIV.append(A_DIV[i])\n",
        "\n",
        "print(sorted(COMMON_DIV)[-K])"
      ]
    }
  ]
}