{
  "nbformat": 4,
  "nbformat_minor": 0,
  "metadata": {
    "colab": {
      "provenance": [],
      "authorship_tag": "ABX9TyP4ItRmviuaFcBtWMdJKmDX",
      "include_colab_link": true
    },
    "kernelspec": {
      "name": "python3",
      "display_name": "Python 3"
    },
    "language_info": {
      "name": "python"
    }
  },
  "cells": [
    {
      "cell_type": "markdown",
      "metadata": {
        "id": "view-in-github",
        "colab_type": "text"
      },
      "source": [
        "<a href=\"https://colab.research.google.com/github/mosaseka/AtCoder/blob/main/C_Half_and_Half.ipynb\" target=\"_parent\"><img src=\"https://colab.research.google.com/assets/colab-badge.svg\" alt=\"Open In Colab\"/></a>"
      ]
    },
    {
      "cell_type": "code",
      "execution_count": null,
      "metadata": {
        "colab": {
          "base_uri": "https://localhost:8080/"
        },
        "id": "Zrv0rBAac0XF",
        "outputId": "71840f0a-0ea2-40e4-9127-d9894ab4caf5"
      },
      "outputs": [
        {
          "output_type": "stream",
          "name": "stdout",
          "text": [
            "1500 2000 500 90000 100000\n",
            "100000000\n"
          ]
        }
      ],
      "source": [
        "A,B,C,X,Y = map(int,input().split())\n",
        "TOTAL = X+Y\n",
        "XY_MIN = min(X,Y)\n",
        "XY_MAX = max(X,Y)\n",
        "COST = []\n",
        "\n",
        "COST.append(2*XY_MIN*C + A*(X-XY_MIN) + B*(Y-XY_MIN))\n",
        "COST.append(A*X + B*Y)\n",
        "COST.append(2*C*XY_MAX)\n",
        "\n",
        "print(min(COST))"
      ]
    }
  ]
}