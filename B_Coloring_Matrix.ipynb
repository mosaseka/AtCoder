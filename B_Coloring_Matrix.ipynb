{
  "nbformat": 4,
  "nbformat_minor": 0,
  "metadata": {
    "colab": {
      "provenance": [],
      "authorship_tag": "ABX9TyMkQZbzfzJTR6Pw5cxJT/LU",
      "include_colab_link": true
    },
    "kernelspec": {
      "name": "python3",
      "display_name": "Python 3"
    },
    "language_info": {
      "name": "python"
    }
  },
  "cells": [
    {
      "cell_type": "markdown",
      "metadata": {
        "id": "view-in-github",
        "colab_type": "text"
      },
      "source": [
        "<a href=\"https://colab.research.google.com/github/mosaseka/AtCoder/blob/main/B_Coloring_Matrix.ipynb\" target=\"_parent\"><img src=\"https://colab.research.google.com/assets/colab-badge.svg\" alt=\"Open In Colab\"/></a>"
      ]
    },
    {
      "cell_type": "code",
      "execution_count": null,
      "metadata": {
        "colab": {
          "base_uri": "https://localhost:8080/"
        },
        "id": "G3uFKlq9y3NO",
        "outputId": "99e22716-465d-4f3f-ca08-b1c53c23deab"
      },
      "outputs": [
        {
          "output_type": "stream",
          "name": "stdout",
          "text": [
            "5\n",
            "0 0 1 1 0\n",
            "1 0 0 1 0\n",
            "0 0 1 0 1\n",
            "0 1 0 1 0\n",
            "0 1 0 0 1\n",
            "1 1 0 0 1\n",
            "0 1 1 1 0\n",
            "0 0 1 1 1\n",
            "1 0 1 0 1\n",
            "1 1 0 1 0\n",
            "No\n"
          ]
        }
      ],
      "source": [
        "import numpy as np\n",
        "\n",
        "N = int(input())\n",
        "A_LIST = []\n",
        "B_LIST = []\n",
        "CHECK_LIST = []\n",
        "FLAG = True\n",
        "ANSWER_LIST = []\n",
        "\n",
        "for i in range(N):\n",
        "  A_LIST.append(list(map(int,input().split())))\n",
        "for i in range(N):\n",
        "  B_LIST.append(list(map(int,input().split())))\n",
        "\n",
        "for i in range(4):\n",
        "  CHECK_LIST = np.rot90(A_LIST,(i+1))\n",
        "  FLAG = True\n",
        "  #print(CHECK_LIST)\n",
        "  for j in range(N):\n",
        "    if FLAG == False:\n",
        "      break\n",
        "    for k in range(N):\n",
        "      if not B_LIST[j][k] == 1 and CHECK_LIST[j][k] == 1:\n",
        "        FLAG = False\n",
        "        break\n",
        "  ANSWER_LIST.append(FLAG)\n",
        "\n",
        "#print(ANSWER_LIST)\n",
        "\n",
        "if True in ANSWER_LIST:\n",
        "  print(\"Yes\")\n",
        "else:\n",
        "  print(\"No\")"
      ]
    }
  ]
}