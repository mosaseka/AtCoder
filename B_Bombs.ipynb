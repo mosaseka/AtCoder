{
  "nbformat": 4,
  "nbformat_minor": 0,
  "metadata": {
    "colab": {
      "provenance": [],
      "authorship_tag": "ABX9TyPmPkoEPgLHm6Y3EivI/nLH",
      "include_colab_link": true
    },
    "kernelspec": {
      "name": "python3",
      "display_name": "Python 3"
    },
    "language_info": {
      "name": "python"
    }
  },
  "cells": [
    {
      "cell_type": "markdown",
      "metadata": {
        "id": "view-in-github",
        "colab_type": "text"
      },
      "source": [
        "<a href=\"https://colab.research.google.com/github/mosaseka/AtCoder/blob/main/B_Bombs.ipynb\" target=\"_parent\"><img src=\"https://colab.research.google.com/assets/colab-badge.svg\" alt=\"Open In Colab\"/></a>"
      ]
    },
    {
      "cell_type": "code",
      "execution_count": null,
      "metadata": {
        "id": "4NAgybC9pwBk"
      },
      "outputs": [],
      "source": [
        "R,C = map(int,input().split())\n",
        "B_LIST = []\n",
        "NUM_LIST = []\n",
        "BOMB_LIST = []\n",
        "M_DISTANCE = 0\n",
        "POWER_LIST = []\n",
        "ANSWER = \"\"\n",
        "\n",
        "for i in range(9):\n",
        "  NUM_LIST.append(str(i+1))\n",
        "\n",
        "for i in range(R):\n",
        "  B_LIST.append(list(map(str,input())))\n",
        "\n",
        "#print(B_LIST)\n",
        "\n",
        "for i in range(R):\n",
        "  for j in range(C):\n",
        "    if B_LIST[i][j] in NUM_LIST:\n",
        "      BOMB_LIST.append([i+1,j+1])\n",
        "      POWER_LIST.append(int(B_LIST[i][j]))\n",
        "\n",
        "for i in range(R):\n",
        "  for j in range(C):\n",
        "    for k in range(len(BOMB_LIST)):\n",
        "      M_DISTANCE = abs(BOMB_LIST[k][0] - (i+1)) + abs(BOMB_LIST[k][1] - (j+1))\n",
        "      if M_DISTANCE <= POWER_LIST[k]:\n",
        "        B_LIST[i][j] = \".\"\n",
        "\n",
        "for i in range(R):\n",
        "  ANSWER = \"\"\n",
        "  for j in range(C):\n",
        "    ANSWER += B_LIST[i][j]\n",
        "  print(ANSWER)"
      ]
    }
  ]
}