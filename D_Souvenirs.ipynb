{
  "nbformat": 4,
  "nbformat_minor": 0,
  "metadata": {
    "colab": {
      "provenance": [],
      "authorship_tag": "ABX9TyN4zVj9mVCn2nO+BNzO9C7C",
      "include_colab_link": true
    },
    "kernelspec": {
      "name": "python3",
      "display_name": "Python 3"
    },
    "language_info": {
      "name": "python"
    }
  },
  "cells": [
    {
      "cell_type": "markdown",
      "metadata": {
        "id": "view-in-github",
        "colab_type": "text"
      },
      "source": [
        "<a href=\"https://colab.research.google.com/github/mosaseka/AtCoder/blob/main/D_Souvenirs.ipynb\" target=\"_parent\"><img src=\"https://colab.research.google.com/assets/colab-badge.svg\" alt=\"Open In Colab\"/></a>"
      ]
    },
    {
      "cell_type": "code",
      "execution_count": null,
      "metadata": {
        "id": "9dTiNBqeeZAp"
      },
      "outputs": [],
      "source": [
        "N,M = map(int,input().split())\n",
        "A_LIST = list(map(int,input().split()))\n",
        "B_LIST = list(map(int,input().split()))\n",
        "CHECK = []\n",
        "TOTAL = 0\n",
        "USED = set()\n",
        "FLAG = False\n",
        "\n",
        "CHECK = [(A_LIST[i],A_LIST[i]) for i in range(N)]\n",
        "B_LIST = sorted(B_LIST,reverse=True)\n",
        "\n",
        "CHECK.sort()\n",
        "\n",
        "for i in B_LIST:\n",
        "  FLAG = False\n",
        "  for j in range(len(CHECK)):\n",
        "    if j not in USED and CHECK[j][1] >= i:\n",
        "      TOTAL += CHECK[j][0]\n",
        "      USED.add(j)\n",
        "      FLAG = True\n",
        "      break\n",
        "  if not FLAG:\n",
        "    print(-1)\n",
        "    exit()\n",
        "\n",
        "print(TOTAL)"
      ]
    },
    {
      "cell_type": "code",
      "source": [
        "from sortedcontainers import SortedList\n",
        "\n",
        "N,M = map(int,input().split())\n",
        "A_LIST = list(map(int,input().split()))\n",
        "B_LIST = list(map(int,input().split()))\n",
        "SORT = SortedList(A_LIST)\n",
        "ANSWER = 0\n",
        "CHECK = []\n",
        "\n",
        "for i in B_LIST:\n",
        "  CHECK = SORT.bisect_left(i)\n",
        "  if CHECK == len(SORT):\n",
        "    ANSWER = -1\n",
        "    break\n",
        "  ANSWER += SORT[CHECK]\n",
        "  SORT.pop(CHECK)\n",
        "print(ANSWER)"
      ],
      "metadata": {
        "id": "4zpXPpupFb88"
      },
      "execution_count": null,
      "outputs": []
    }
  ]
}