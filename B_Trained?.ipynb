{
  "nbformat": 4,
  "nbformat_minor": 0,
  "metadata": {
    "colab": {
      "provenance": [],
      "authorship_tag": "ABX9TyOcsPaHvfZPQkVYvj2M1AWP",
      "include_colab_link": true
    },
    "kernelspec": {
      "name": "python3",
      "display_name": "Python 3"
    },
    "language_info": {
      "name": "python"
    }
  },
  "cells": [
    {
      "cell_type": "markdown",
      "metadata": {
        "id": "view-in-github",
        "colab_type": "text"
      },
      "source": [
        "<a href=\"https://colab.research.google.com/github/mosaseka/AtCoder/blob/main/B_Trained%3F.ipynb\" target=\"_parent\"><img src=\"https://colab.research.google.com/assets/colab-badge.svg\" alt=\"Open In Colab\"/></a>"
      ]
    },
    {
      "cell_type": "code",
      "execution_count": null,
      "metadata": {
        "id": "6vBM3wQBYpbP"
      },
      "outputs": [],
      "source": [
        "N = int(input())\n",
        "A_LIST = []\n",
        "LIGHT_LIST = [False for i in range(N)]\n",
        "COUNT = 0\n",
        "INDEX = 0\n",
        "TARGET = 0\n",
        "\n",
        "for i in range(N):\n",
        "  A_LIST.append(int(input()))\n",
        "\n",
        "LIGHT_LIST[0] = True\n",
        "TARGET = A_LIST.index(2)\n",
        "\n",
        "for i in range(N):\n",
        "  print(LIGHT_LIST)\n",
        "  COUNT += 1\n",
        "  LIGHT_LIST[A_LIST.index(i+1)-1] = False\n",
        "  A_LIST[A_LIST[A_LIST.index(i+2)]-1] = True\n",
        "  if LIGHT_LIST[TARGET]:\n",
        "    print(COUNT)\n",
        "    exit()\n",
        "\n",
        "print(-1)"
      ]
    },
    {
      "cell_type": "code",
      "source": [
        "N = int(input())\n",
        "A_LIST = [int(input()) for i in range(N)]\n",
        "LIGHT_LIST = [False for i in range(N)]\n",
        "COUNT = 0\n",
        "INDEX = 0\n",
        "\n",
        "LIGHT_LIST[0] = True\n",
        "\n",
        "for i in range(N):\n",
        "  if LIGHT_LIST[1] == True:\n",
        "    print(COUNT)\n",
        "    exit()\n",
        "  else:\n",
        "    INDEX = LIGHT_LIST.index(True)\n",
        "    print(INDEX)\n",
        "    LIGHT_LIST[A_LIST[INDEX]] = True\n",
        "    LIGHT_LIST[INDEX] = False\n",
        "    COUNT += 1\n",
        "  #print(LIGHT_LIST)\n",
        "\n",
        "print(-1)"
      ],
      "metadata": {
        "colab": {
          "base_uri": "https://localhost:8080/"
        },
        "id": "vA9wUcTmqylE",
        "outputId": "bad3b96f-369e-4d68-c16d-1cb20fbb0d00"
      },
      "execution_count": null,
      "outputs": [
        {
          "output_type": "stream",
          "name": "stdout",
          "text": [
            "2\n",
            "2\n",
            "1\n",
            "1\n",
            "-1\n"
          ]
        }
      ]
    },
    {
      "cell_type": "code",
      "source": [
        "N = int(input())\n",
        "A_LIST = [[int(input()),(i+1)] for i in range(N)]\n",
        "COUNT = 0\n",
        "FLAG = False\n",
        "LIGHT = 1\n",
        "CHECK_LIST = []\n",
        "\n",
        "\n",
        "#A_LIST.sort()\n",
        "print(A_LIST)\n",
        "\n",
        "CHECK_LIST = [[A_LIST[i][0],A_LIST[i][1],A_LIST[]]]\n",
        "\n",
        "for i in range(N):\n",
        "  if LIGHT == 2:\n",
        "    FLAG = True\n",
        "    COUNT += 1\n",
        "    break\n",
        "  else:\n",
        "    LIGHT = A_LIST[A_LIST[i][0]-1][0]\n",
        "    COUNT += 1\n",
        "\n",
        "if FLAG:\n",
        "  print(COUNT)\n",
        "else:\n",
        "  print(-1)"
      ],
      "metadata": {
        "colab": {
          "base_uri": "https://localhost:8080/"
        },
        "id": "vXoKzWRzgFpx",
        "outputId": "cd7d5db2-2feb-4e59-8c58-2e16794a0479"
      },
      "execution_count": null,
      "outputs": [
        {
          "output_type": "stream",
          "name": "stdout",
          "text": [
            "3\n",
            "3\n",
            "1\n",
            "2\n",
            "[[1, 2], [2, 3], [3, 1]]\n",
            "3\n"
          ]
        }
      ]
    },
    {
      "cell_type": "code",
      "source": [
        "N = int(input())\n",
        "A_LIST = [int(input()) for i in range(N)]\n",
        "COUNT = 0\n",
        "INDEX = 0\n",
        "FLAG = False\n",
        "\n",
        "for i in range(N):\n",
        "  if A_LIST[INDEX] == 2:\n",
        "    COUNT += 1\n",
        "    FLAG = True\n",
        "    break\n",
        "  else:\n",
        "    INDEX = A_LIST[INDEX]-1\n",
        "    COUNT += 1\n",
        "\n",
        "if FLAG:\n",
        "  print(COUNT)\n",
        "else:\n",
        "  print(-1)"
      ],
      "metadata": {
        "colab": {
          "base_uri": "https://localhost:8080/"
        },
        "id": "yEEFUnEO0rgg",
        "outputId": "26f1c71e-b1ec-49ee-a4c4-861846c24b49"
      },
      "execution_count": null,
      "outputs": [
        {
          "output_type": "stream",
          "name": "stdout",
          "text": [
            "3\n",
            "3\n",
            "1\n",
            "2\n",
            "-1\n"
          ]
        }
      ]
    }
  ]
}