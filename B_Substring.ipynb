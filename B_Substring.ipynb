{
  "nbformat": 4,
  "nbformat_minor": 0,
  "metadata": {
    "colab": {
      "provenance": [],
      "authorship_tag": "ABX9TyPY4EFtkbpgFt0kK12IKV3t",
      "include_colab_link": true
    },
    "kernelspec": {
      "name": "python3",
      "display_name": "Python 3"
    },
    "language_info": {
      "name": "python"
    }
  },
  "cells": [
    {
      "cell_type": "markdown",
      "metadata": {
        "id": "view-in-github",
        "colab_type": "text"
      },
      "source": [
        "<a href=\"https://colab.research.google.com/github/mosaseka/AtCoder/blob/main/B_Substring.ipynb\" target=\"_parent\"><img src=\"https://colab.research.google.com/assets/colab-badge.svg\" alt=\"Open In Colab\"/></a>"
      ]
    },
    {
      "cell_type": "code",
      "execution_count": null,
      "metadata": {
        "id": "FNevbcHwGuZq"
      },
      "outputs": [],
      "source": [
        "S = str(input())\n",
        "LIST = []\n",
        "\n",
        "for i in range(len(S)):\n",
        "  for j in range(i+1,len(S)+1):\n",
        "    LIST.append(S[i:j])\n",
        "\n",
        "LIST = set(LIST)\n",
        "\n",
        "print(len(LIST))"
      ]
    }
  ]
}