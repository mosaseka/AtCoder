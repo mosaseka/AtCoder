{
  "nbformat": 4,
  "nbformat_minor": 0,
  "metadata": {
    "colab": {
      "provenance": [],
      "authorship_tag": "ABX9TyP8goiVRS/9peaRyoSBAai2",
      "include_colab_link": true
    },
    "kernelspec": {
      "name": "python3",
      "display_name": "Python 3"
    },
    "language_info": {
      "name": "python"
    }
  },
  "cells": [
    {
      "cell_type": "markdown",
      "metadata": {
        "id": "view-in-github",
        "colab_type": "text"
      },
      "source": [
        "<a href=\"https://colab.research.google.com/github/mosaseka/AtCoder/blob/main/B_Substring.ipynb\" target=\"_parent\"><img src=\"https://colab.research.google.com/assets/colab-badge.svg\" alt=\"Open In Colab\"/></a>"
      ]
    },
    {
      "cell_type": "code",
      "execution_count": null,
      "metadata": {
        "id": "niKL_j2dBLXl"
      },
      "outputs": [],
      "source": [
        "S = str(input())\n",
        "T = str(input())\n",
        "COUNT = 0\n",
        "COUNT_LIST = []\n",
        "CHECK = \"\"\n",
        "\n",
        "for i in range(len(S)-len(T)+1):\n",
        "  CHECK = S[i:i+len(T)]\n",
        "  COUNT = 0\n",
        "  for j in range(len(T)):\n",
        "    if CHECK[j] != T[j]:\n",
        "      COUNT += 1\n",
        "  COUNT_LIST.append(COUNT)\n",
        "\n",
        "print(min(COUNT_LIST))"
      ]
    }
  ]
}