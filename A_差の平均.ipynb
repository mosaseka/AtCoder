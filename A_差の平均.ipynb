{
  "nbformat": 4,
  "nbformat_minor": 0,
  "metadata": {
    "colab": {
      "provenance": [],
      "authorship_tag": "ABX9TyPKNsuQYg7FhP9MtnRMz36K",
      "include_colab_link": true
    },
    "kernelspec": {
      "name": "python3",
      "display_name": "Python 3"
    },
    "language_info": {
      "name": "python"
    }
  },
  "cells": [
    {
      "cell_type": "markdown",
      "metadata": {
        "id": "view-in-github",
        "colab_type": "text"
      },
      "source": [
        "<a href=\"https://colab.research.google.com/github/mosaseka/AtCoder/blob/main/A_%E5%B7%AE%E3%81%AE%E5%B9%B3%E5%9D%87.ipynb\" target=\"_parent\"><img src=\"https://colab.research.google.com/assets/colab-badge.svg\" alt=\"Open In Colab\"/></a>"
      ]
    },
    {
      "cell_type": "code",
      "execution_count": null,
      "metadata": {
        "id": "VMrTrOxUZ-g3"
      },
      "outputs": [],
      "source": [
        "from collections import deque\n",
        "import statistics\n",
        "\n",
        "N = int(input())\n",
        "A_DEQ = deque(map(int,input().split()))\n",
        "ANSWER_DEQ = deque()\n",
        "\n",
        "for i in range(N-1):\n",
        "  ANSWER_DEQ.append((A_DEQ[i+1] - A_DEQ[i]))\n",
        "\n",
        "print(statistics.fmean(ANSWER_DEQ))"
      ]
    }
  ]
}