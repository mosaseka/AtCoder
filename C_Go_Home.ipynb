{
  "nbformat": 4,
  "nbformat_minor": 0,
  "metadata": {
    "colab": {
      "provenance": [],
      "authorship_tag": "ABX9TyNA6D9s1ylaesHYhJ8Dg80s",
      "include_colab_link": true
    },
    "kernelspec": {
      "name": "python3",
      "display_name": "Python 3"
    },
    "language_info": {
      "name": "python"
    }
  },
  "cells": [
    {
      "cell_type": "markdown",
      "metadata": {
        "id": "view-in-github",
        "colab_type": "text"
      },
      "source": [
        "<a href=\"https://colab.research.google.com/github/mosaseka/AtCoder/blob/main/C_Go_Home.ipynb\" target=\"_parent\"><img src=\"https://colab.research.google.com/assets/colab-badge.svg\" alt=\"Open In Colab\"/></a>"
      ]
    },
    {
      "cell_type": "code",
      "execution_count": null,
      "metadata": {
        "id": "b2Z3dZwG_AFu"
      },
      "outputs": [],
      "source": [
        "def SIGMA(K):\n",
        "  return K*(K+1)//2\n",
        "\n",
        "X = int(input())\n",
        "ANSWER = 0\n",
        "\n",
        "while True:\n",
        "  if SIGMA(ANSWER) >= X:\n",
        "    print(ANSWER)\n",
        "    exit()\n",
        "  else:\n",
        "    ANSWER += 1"
      ]
    }
  ]
}