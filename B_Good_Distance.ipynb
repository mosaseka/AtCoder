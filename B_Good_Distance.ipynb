{
  "nbformat": 4,
  "nbformat_minor": 0,
  "metadata": {
    "colab": {
      "provenance": [],
      "authorship_tag": "ABX9TyMMp2moZf4z/a8uzuLuqy8f",
      "include_colab_link": true
    },
    "kernelspec": {
      "name": "python3",
      "display_name": "Python 3"
    },
    "language_info": {
      "name": "python"
    }
  },
  "cells": [
    {
      "cell_type": "markdown",
      "metadata": {
        "id": "view-in-github",
        "colab_type": "text"
      },
      "source": [
        "<a href=\"https://colab.research.google.com/github/mosaseka/AtCoder/blob/main/B_Good_Distance.ipynb\" target=\"_parent\"><img src=\"https://colab.research.google.com/assets/colab-badge.svg\" alt=\"Open In Colab\"/></a>"
      ]
    },
    {
      "cell_type": "code",
      "execution_count": null,
      "metadata": {
        "id": "J3Dm9abHRPKc"
      },
      "outputs": [],
      "source": [
        "import itertools\n",
        "import math\n",
        "\n",
        "N,D = map(int,input().split())\n",
        "POINT_LIST = []\n",
        "COUNT = 0\n",
        "NUM_LIST = []\n",
        "COMB_LIST = []\n",
        "CHECK = 0\n",
        "\n",
        "for i in range(N):\n",
        "  NUM_LIST.append(i)\n",
        "  POINT_LIST.append(list(map(int,input().split())))\n",
        "\n",
        "COMB_LIST = list(itertools.combinations(NUM_LIST,2))\n",
        "\n",
        "#print(COMB_LIST)\n",
        "\n",
        "for i in range(len(COMB_LIST)):\n",
        "  CHECK = 0\n",
        "  for j in range(D):\n",
        "    CHECK += abs(POINT_LIST[COMB_LIST[i][0]] - POINT_LIST[COMB_LIST[i][1]])**2\n",
        "  CHECK = math.sqrt(CHECK)\n",
        "  if isinstance(CHECK,int):\n",
        "    COUNT += 1\n",
        "\n",
        "print(COUNT)"
      ]
    },
    {
      "cell_type": "code",
      "source": [
        "import math\n",
        "\n",
        "N,D = map(int,input().split())\n",
        "POINT_LIST = []\n",
        "COUNT = 0\n",
        "NUM = 0\n",
        "CHECK_NUM = 0\n",
        "\n",
        "for i in range(N):\n",
        "  POINT_LIST.append(list(map(int,input().split())))\n",
        "\n",
        "for i in range(N):\n",
        "  for j in range(i+1,N):\n",
        "    NUM = 0\n",
        "    for k in range(D):\n",
        "      NUM += (POINT_LIST[i][k] - POINT_LIST[j][k]) ** 2\n",
        "    NUM = math.sqrt(NUM)\n",
        "    CHECK_NUM = int(NUM)\n",
        "    if NUM == CHECK_NUM:\n",
        "      COUNT += 1\n",
        "print(COUNT)"
      ],
      "metadata": {
        "id": "QyoSl0vrY0au"
      },
      "execution_count": null,
      "outputs": []
    }
  ]
}