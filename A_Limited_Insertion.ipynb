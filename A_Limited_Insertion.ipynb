{
  "nbformat": 4,
  "nbformat_minor": 0,
  "metadata": {
    "colab": {
      "provenance": [],
      "authorship_tag": "ABX9TyP/0nc1K1YMLQRdaUB0XC6R",
      "include_colab_link": true
    },
    "kernelspec": {
      "name": "python3",
      "display_name": "Python 3"
    },
    "language_info": {
      "name": "python"
    }
  },
  "cells": [
    {
      "cell_type": "markdown",
      "metadata": {
        "id": "view-in-github",
        "colab_type": "text"
      },
      "source": [
        "<a href=\"https://colab.research.google.com/github/mosaseka/AtCoder/blob/main/A_Limited_Insertion.ipynb\" target=\"_parent\"><img src=\"https://colab.research.google.com/assets/colab-badge.svg\" alt=\"Open In Colab\"/></a>"
      ]
    },
    {
      "cell_type": "code",
      "execution_count": null,
      "metadata": {
        "id": "OQ9J4y28WTFs"
      },
      "outputs": [],
      "source": [
        "N = int(input())\n",
        "B_LIST = list(map(int,input().split()))\n",
        "ANSWER_LIST = []\n",
        "\n",
        "B_LIST.reverse()\n",
        "\n",
        "while len(B_LIST) != 0:\n",
        "  for i in range(len(B_LIST)):\n",
        "    if B_LIST[i] == i+1:\n",
        "      ANSWER_LIST.append(B_LIST.pop(i))\n",
        "\n",
        "if len(ANSWER_LIST) != N:\n",
        "  print(-1)\n",
        "else:\n",
        "  for i in range(N):\n",
        "    print(ANSWER_LIST[i])"
      ]
    },
    {
      "cell_type": "code",
      "source": [
        "N = int(input())\n",
        "B_LIST = list(map(int,input().split()))\n",
        "ANSWER_LIST = []\n",
        "\n",
        "while len(B_LIST) != 0:\n",
        "  for i in range(len(B_LIST)-1,-1,-1):\n",
        "    if B_LIST[i] == i+1:\n",
        "      ANSWER_LIST.append(B_LIST.pop(i))\n",
        "      break\n",
        "    if i == 0:\n",
        "      print(-1)\n",
        "      exit()\n",
        "\n",
        "ANSWER_LIST.reverse()\n",
        "\n",
        "if len(ANSWER_LIST) != N:\n",
        "  print(-1)\n",
        "else:\n",
        "  for i in range(N):\n",
        "    print(ANSWER_LIST[i])"
      ],
      "metadata": {
        "id": "R816paEdBiP5"
      },
      "execution_count": null,
      "outputs": []
    }
  ]
}