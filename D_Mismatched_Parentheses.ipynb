{
  "nbformat": 4,
  "nbformat_minor": 0,
  "metadata": {
    "colab": {
      "provenance": [],
      "authorship_tag": "ABX9TyOhfYvxcXHdSgIQK/xZFaOb",
      "include_colab_link": true
    },
    "kernelspec": {
      "name": "python3",
      "display_name": "Python 3"
    },
    "language_info": {
      "name": "python"
    }
  },
  "cells": [
    {
      "cell_type": "markdown",
      "metadata": {
        "id": "view-in-github",
        "colab_type": "text"
      },
      "source": [
        "<a href=\"https://colab.research.google.com/github/mosaseka/AtCoder/blob/main/D_Mismatched_Parentheses.ipynb\" target=\"_parent\"><img src=\"https://colab.research.google.com/assets/colab-badge.svg\" alt=\"Open In Colab\"/></a>"
      ]
    },
    {
      "cell_type": "code",
      "execution_count": null,
      "metadata": {
        "id": "9cl5EuxAYfbn"
      },
      "outputs": [],
      "source": [
        "N = int(input())\n",
        "S = str(input())\n",
        "CHECK_LIST = [\"(\" + chr(i) + \")\" for i in range(97,123)] + [\"()\"]\n",
        "ALPHA = 0\n",
        "BETA = 0\n",
        "\n",
        "#print(CHECK_LIST)\n",
        "\n",
        "while True:\n",
        "  ALPHA = len(S)\n",
        "  for i in range(len(CHECK_LIST)):\n",
        "    #print(CHECK_LIST[i])\n",
        "    S = S.replace(CHECK_LIST[i],\"\")\n",
        "    #print(S)\n",
        "  BETA = len(S)\n",
        "  if ALPHA == BETA:\n",
        "    break\n",
        "\n",
        "print(S)"
      ]
    },
    {
      "cell_type": "code",
      "source": [
        "import re\n",
        "\n",
        "N = int(input())\n",
        "S = str(input())\n",
        "CHECK = []\n",
        "REPLACE = \"\"\n",
        "\n",
        "CHECK = re.findall('(?<=\\().+?(?=\\))',S)\n",
        "print(CHECK)\n",
        "\n",
        "print(S.replace(CHECK))"
      ],
      "metadata": {
        "id": "lHwIDfIuejKN"
      },
      "execution_count": null,
      "outputs": []
    },
    {
      "cell_type": "code",
      "source": [
        "N = int(input())\n",
        "S = str(input())\n",
        "ALPHA = 0\n",
        "ALPHA_FLAG = False\n",
        "BETA = 0\n",
        "BETA_FLAG = False\n",
        "\n",
        "for i in range(N):\n",
        "  if not ALPHA_FLAG and S[i] == \"(\":\n",
        "    ALPHA = i+1\n",
        "  elif not BETA_FLAG and ALPHA_FLAG and S[i] == \")\":\n",
        "    BETA = i+1\n",
        "\n",
        "print(S[:ALPHA]+S[BETA:])"
      ],
      "metadata": {
        "id": "QDrwhASTiKu3"
      },
      "execution_count": null,
      "outputs": []
    },
    {
      "cell_type": "code",
      "source": [
        "import re\n",
        "\n",
        "def remove_parentheses(text):\n",
        "    # 正規表現パターンを定義します\n",
        "    pattern = r'\\([^()]*\\)'\n",
        "\n",
        "    # 正規表現を使って（）で囲まれた文字列を検索し、削除します\n",
        "    result = re.sub(pattern, '', text)\n",
        "\n",
        "    return result\n",
        "\n",
        "N = int(input())\n",
        "S = str(input())\n",
        "ALPHA = 0\n",
        "BETA = 0\n",
        "\n",
        "while True:\n",
        "  ALPHA = len(S)\n",
        "  S = remove_parentheses(S)\n",
        "  BETA = len(S)\n",
        "  if ALPHA == BETA:\n",
        "    break\n",
        "\n",
        "print(S)"
      ],
      "metadata": {
        "colab": {
          "base_uri": "https://localhost:8080/"
        },
        "id": "jF62vzssfbCK",
        "outputId": "70df2bca-b7f3-497b-b842-a58b70a31125"
      },
      "execution_count": null,
      "outputs": [
        {
          "output_type": "stream",
          "name": "stdout",
          "text": [
            "6\n",
            ")))(((\n",
            ")))(((\n"
          ]
        }
      ]
    },
    {
      "cell_type": "code",
      "source": [
        "import re\n",
        "\n",
        "def remove_parentheses(text):\n",
        "    result = []\n",
        "    stack = []\n",
        "    for char in text:\n",
        "        if char == '(':\n",
        "            stack.append(len(result))\n",
        "        elif char == ')':\n",
        "            if stack:\n",
        "                start = stack.pop()\n",
        "                result[start:] = []\n",
        "        else:\n",
        "            result.append(char)\n",
        "\n",
        "    return ''.join(result)\n",
        "\n",
        "\n",
        "N = int(input())\n",
        "S = str(input())\n",
        "ALPHA = 0\n",
        "BETA = 0\n",
        "\n",
        "while True:\n",
        "  ALPHA = len(S)\n",
        "  S = remove_parentheses(S)\n",
        "  BETA = len(S)\n",
        "  if ALPHA == BETA:\n",
        "    break\n",
        "\n",
        "print(S)"
      ],
      "metadata": {
        "id": "ornOHKtioj-f"
      },
      "execution_count": null,
      "outputs": []
    },
    {
      "cell_type": "code",
      "source": [
        "import re\n",
        "\n",
        "def remove_parentheses(text):\n",
        "    # 正規表現パターンを定義します\n",
        "    pattern = re.compile(r'\\([^()]*\\)')\n",
        "\n",
        "    # 正規表現を使って（）で囲まれた文字列を検索し、削除します\n",
        "    result = re.sub(pattern, '', text)\n",
        "\n",
        "    return result\n",
        "\n",
        "N = int(input())\n",
        "S = str(input())\n",
        "ALPHA = 0\n",
        "BETA = 0\n",
        "\n",
        "while True:\n",
        "    ALPHA = len(S)\n",
        "    S = remove_parentheses(S)\n",
        "    BETA = len(S)\n",
        "    if ALPHA == BETA:\n",
        "        break\n",
        "\n",
        "print(S)\n"
      ],
      "metadata": {
        "colab": {
          "base_uri": "https://localhost:8080/"
        },
        "id": "-AiYaDW_mcJz",
        "outputId": "523f8f64-a09a-4ad6-bd5a-493d801cbc77"
      },
      "execution_count": null,
      "outputs": [
        {
          "output_type": "stream",
          "name": "stdout",
          "text": [
            "6\n",
            ")))(((\n",
            ")))(((\n"
          ]
        }
      ]
    },
    {
      "cell_type": "code",
      "source": [
        "import re\n",
        "\n",
        "def remove_parentheses(text):\n",
        "    # 正規表現パターンを定義します\n",
        "    pattern = re.compile(r'\\([^()]*\\)')\n",
        "\n",
        "    # 正規表現を使って（）で囲まれた文字列を検索し、削除します\n",
        "    result = re.sub(pattern, '', text)\n",
        "\n",
        "    return result\n",
        "\n",
        "N = int(input())\n",
        "S = str(input())\n",
        "\n",
        "# 括弧を削除する回数をカウントする変数を初期化します\n",
        "count = 0\n",
        "\n",
        "# 括弧の有無を示すフラグを初期化します\n",
        "has_parentheses = True\n",
        "\n",
        "# 括弧が存在する限り、括弧を削除し続けます\n",
        "while has_parentheses:\n",
        "    ALPHA = len(S)\n",
        "    S = remove_parentheses(S)\n",
        "    BETA = len(S)\n",
        "\n",
        "    # ALPHAとBETAが等しい場合、括弧が削除されなかったことを意味します\n",
        "    if ALPHA == BETA:\n",
        "        has_parentheses = False\n",
        "    else:\n",
        "        count += 1\n",
        "\n",
        "print(S)\n"
      ],
      "metadata": {
        "colab": {
          "base_uri": "https://localhost:8080/"
        },
        "id": "LTd5y2bunZ_N",
        "outputId": "389787c2-d2ac-4bc5-ad14-9600ec891b86"
      },
      "execution_count": null,
      "outputs": [
        {
          "output_type": "stream",
          "name": "stdout",
          "text": [
            "2\n",
            "()\n",
            "\n"
          ]
        }
      ]
    },
    {
      "cell_type": "code",
      "source": [
        "import re\n",
        "\n",
        "def remove_parentheses(text):\n",
        "    # 正規表現パターンを定義します\n",
        "    pattern = re.compile(r'\\([^()]*\\)')\n",
        "\n",
        "    # 正規表現を使って（）で囲まれた文字列を検索し、削除します\n",
        "    result = re.sub(pattern, '', text)\n",
        "\n",
        "    return result\n",
        "\n",
        "N = int(input())\n",
        "S = str(input())\n",
        "\n",
        "# 括弧を削除する回数をカウントする変数を初期化します\n",
        "count = 0\n",
        "\n",
        "# 括弧の有無を示すフラグを初期化します\n",
        "has_parentheses = True\n",
        "\n",
        "# 括弧が存在する限り、括弧を削除し続けます\n",
        "while has_parentheses:\n",
        "    ALPHA = len(S)\n",
        "    S = remove_parentheses(S)\n",
        "    BETA = len(S)\n",
        "\n",
        "    # ALPHAとBETAが等しい場合、括弧が削除されなかったことを意味します\n",
        "    if ALPHA == BETA:\n",
        "        has_parentheses = False\n",
        "    else:\n",
        "        count += 1\n",
        "\n",
        "    # 括弧を削除する前に、文字列の長さが変化しなかった場合、ループを終了します\n",
        "    if ALPHA == BETA and count > 0:\n",
        "        break\n",
        "\n",
        "print(S)\n"
      ],
      "metadata": {
        "colab": {
          "base_uri": "https://localhost:8080/"
        },
        "id": "Zw1WDQq8oGNF",
        "outputId": "fd50e950-65a8-4fc8-b536-65d8aea295c5"
      },
      "execution_count": null,
      "outputs": [
        {
          "output_type": "stream",
          "name": "stdout",
          "text": [
            "2\n",
            "()\n",
            "\n"
          ]
        }
      ]
    },
    {
      "cell_type": "markdown",
      "source": [],
      "metadata": {
        "id": "a067x0HYnNAi"
      }
    },
    {
      "cell_type": "markdown",
      "source": [
        "次の問題をPythonで解いてください。\n",
        "\n",
        "英小文字および (, ) からなる長さ\n",
        "N の文字列\n",
        "S が与えられます。\n",
        "以下の操作を可能な限り繰り返したあとの\n",
        "S を出力してください。\n",
        "\n",
        "S の連続部分文字列であって、最初の文字が ( かつ 最後の文字が ) かつ 最初と最後以外に ( も ) も含まないものを自由に\n",
        "1 つ選び削除する\n",
        "なお、操作を可能な限り繰り返したあとの\n",
        "S は操作の手順によらず一意に定まることが証明できます。"
      ],
      "metadata": {
        "id": "0lMfLVCfbxbV"
      }
    },
    {
      "cell_type": "code",
      "source": [
        "from collections import deque\n",
        "\n",
        "N = int(input())\n",
        "S = str(input())\n",
        "DEQ = deque()\n",
        "CHECK = 0\n",
        "\n",
        "for i,j in enumerate(S):\n",
        "  if j == \")\" and CHECK > 0:\n",
        "    while True:\n",
        "      if DEQ.pop() == \"(\":\n",
        "        CHECK -= 1\n",
        "        break\n",
        "  else:\n",
        "    if j == \"(\":\n",
        "      CHECK += 1\n",
        "    DEQ.append(j)\n",
        "\n",
        "print(\"\".join(DEQ))"
      ],
      "metadata": {
        "id": "HV_JI1X6pFqK"
      },
      "execution_count": null,
      "outputs": []
    }
  ]
}