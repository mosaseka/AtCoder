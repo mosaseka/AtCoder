{
  "nbformat": 4,
  "nbformat_minor": 0,
  "metadata": {
    "colab": {
      "provenance": [],
      "authorship_tag": "ABX9TyPVYFm2fk0YCi5IJ+8u9Ae9",
      "include_colab_link": true
    },
    "kernelspec": {
      "name": "python3",
      "display_name": "Python 3"
    },
    "language_info": {
      "name": "python"
    }
  },
  "cells": [
    {
      "cell_type": "markdown",
      "metadata": {
        "id": "view-in-github",
        "colab_type": "text"
      },
      "source": [
        "<a href=\"https://colab.research.google.com/github/mosaseka/AtCoder/blob/main/B_Everyone_is_Friends.ipynb\" target=\"_parent\"><img src=\"https://colab.research.google.com/assets/colab-badge.svg\" alt=\"Open In Colab\"/></a>"
      ]
    },
    {
      "cell_type": "code",
      "execution_count": null,
      "metadata": {
        "id": "FCp_nau3EVqh"
      },
      "outputs": [],
      "source": [
        "from collections import Counter\n",
        "\n",
        "N,M = map(int,input().split())\n",
        "PEOPLE = [0 for i in range(N)]\n",
        "LIST = []\n",
        "CHECK = []\n",
        "COUNT = []\n",
        "\n",
        "for i in range(M):\n",
        "  LIST = list(map(int,input().split()))\n",
        "  CHECK = LIST[1:]\n",
        "  COUNT = list(Counter(CHECK).items())\n",
        "  for j in range(len(COUNT)):\n",
        "    PEOPLE[j][0] += 1\n",
        "\n",
        "for i in range(N):\n",
        "  if PEOPLE[i]"
      ]
    },
    {
      "cell_type": "code",
      "source": [
        "import itertools\n",
        "from collections import deque\n",
        "from collections import Counter\n",
        "\n",
        "N,M = map(int,input().split())\n",
        "PEOPLE = deque()\n",
        "LIST = []\n",
        "CHECK = []\n",
        "COMB = []\n",
        "COUNT = []\n",
        "\n",
        "for i in range(M):\n",
        "  LIST = list(map(int,input().split()))\n",
        "  CHECK = LIST[1:]\n",
        "  COMB = list(itertools.combinations(CHECK,2))\n",
        "  for j in range(len(COMB)):\n",
        "    PEOPLE.append(COMB[j])\n",
        "\n",
        "print(PEOPLE)\n",
        "\n",
        "COUNT = list(Counter(list(PEOPLE)))\n",
        "print(COUNT)\n",
        "\n",
        "for i in range(len(COUNT)):\n",
        "  if COUNT[i][1] < 2:\n",
        "    print(\"No\")\n",
        "    exit()\n",
        "\n",
        "print(\"Yes\")"
      ],
      "metadata": {
        "id": "Xx1BvJ3UGRzz"
      },
      "execution_count": null,
      "outputs": []
    },
    {
      "cell_type": "code",
      "source": [
        "from collections import deque\n",
        "import itertools\n",
        "\n",
        "N,M = map(int,input().split())\n",
        "PEOPLE = deque()\n",
        "LIST = []\n",
        "CHECK = []\n",
        "COMB = []\n",
        "NUM = [i+1 for i in range(N)]\n",
        "ALL = list(itertools.combinations(NUM,2))\n",
        "\n",
        "for i in range(M):\n",
        "  LIST = list(map(int,input().split()))\n",
        "  CHECK = LIST[1:]\n",
        "  COMB = list(itertools.combinations(CHECK,2))\n",
        "  for j in range(len(COMB)):\n",
        "    PEOPLE.append(COMB[j])\n",
        "\n",
        "PEOPLE = set(PEOPLE)\n",
        "\n",
        "for i in range(len(ALL)):\n",
        "  if ALL[i] not in PEOPLE:\n",
        "    print(\"No\")\n",
        "    exit()\n",
        "\n",
        "print(\"Yes\")"
      ],
      "metadata": {
        "id": "HTBWpuA-JD_3"
      },
      "execution_count": null,
      "outputs": []
    }
  ]
}