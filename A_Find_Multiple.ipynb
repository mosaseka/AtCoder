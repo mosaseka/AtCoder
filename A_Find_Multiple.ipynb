{
  "nbformat": 4,
  "nbformat_minor": 0,
  "metadata": {
    "colab": {
      "provenance": [],
      "authorship_tag": "ABX9TyPwctvnDdO2Zw0sdZ+DGYa0",
      "include_colab_link": true
    },
    "kernelspec": {
      "name": "python3",
      "display_name": "Python 3"
    },
    "language_info": {
      "name": "python"
    }
  },
  "cells": [
    {
      "cell_type": "markdown",
      "metadata": {
        "id": "view-in-github",
        "colab_type": "text"
      },
      "source": [
        "<a href=\"https://colab.research.google.com/github/mosaseka/AtCoder/blob/main/A_Find_Multiple.ipynb\" target=\"_parent\"><img src=\"https://colab.research.google.com/assets/colab-badge.svg\" alt=\"Open In Colab\"/></a>"
      ]
    },
    {
      "cell_type": "code",
      "execution_count": null,
      "metadata": {
        "id": "6cuWkF9cT0BX"
      },
      "outputs": [],
      "source": [
        "A,B,C = map(int,input().split())\n",
        "\n",
        "for i in range(A,B+1):\n",
        "  if i%C == 0:\n",
        "    print(i)\n",
        "    exit()\n",
        "\n",
        "print(-1)"
      ]
    }
  ]
}