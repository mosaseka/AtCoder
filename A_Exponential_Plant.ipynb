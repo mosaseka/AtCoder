{
  "nbformat": 4,
  "nbformat_minor": 0,
  "metadata": {
    "colab": {
      "provenance": [],
      "authorship_tag": "ABX9TyMF3/TVkTUib5fnYqECgBvl",
      "include_colab_link": true
    },
    "kernelspec": {
      "name": "python3",
      "display_name": "Python 3"
    },
    "language_info": {
      "name": "python"
    }
  },
  "cells": [
    {
      "cell_type": "markdown",
      "metadata": {
        "id": "view-in-github",
        "colab_type": "text"
      },
      "source": [
        "<a href=\"https://colab.research.google.com/github/mosaseka/AtCoder/blob/main/A_Exponential_Plant.ipynb\" target=\"_parent\"><img src=\"https://colab.research.google.com/assets/colab-badge.svg\" alt=\"Open In Colab\"/></a>"
      ]
    },
    {
      "cell_type": "code",
      "execution_count": null,
      "metadata": {
        "id": "JllnMwdB9MPf"
      },
      "outputs": [],
      "source": [
        "H = int(input())\n",
        "CHECK = 0\n",
        "COUNT = 0\n",
        "\n",
        "while CHECK <= H:\n",
        "  CHECK += 2**COUNT\n",
        "  COUNT += 1\n",
        "\n",
        "print(COUNT)"
      ]
    }
  ]
}