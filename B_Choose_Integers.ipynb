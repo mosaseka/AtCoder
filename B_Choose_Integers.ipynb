{
  "nbformat": 4,
  "nbformat_minor": 0,
  "metadata": {
    "colab": {
      "provenance": [],
      "authorship_tag": "ABX9TyM2nvuIzoqzYt2BlCX1/ROG",
      "include_colab_link": true
    },
    "kernelspec": {
      "name": "python3",
      "display_name": "Python 3"
    },
    "language_info": {
      "name": "python"
    }
  },
  "cells": [
    {
      "cell_type": "markdown",
      "metadata": {
        "id": "view-in-github",
        "colab_type": "text"
      },
      "source": [
        "<a href=\"https://colab.research.google.com/github/mosaseka/AtCoder/blob/main/B_Choose_Integers.ipynb\" target=\"_parent\"><img src=\"https://colab.research.google.com/assets/colab-badge.svg\" alt=\"Open In Colab\"/></a>"
      ]
    },
    {
      "cell_type": "code",
      "execution_count": null,
      "metadata": {
        "colab": {
          "base_uri": "https://localhost:8080/"
        },
        "id": "x3WONURI-WmW",
        "outputId": "3b8d5eaf-c5c4-4eb0-b99c-c88bee38a7d9"
      },
      "outputs": [
        {
          "output_type": "stream",
          "name": "stdout",
          "text": [
            "77 42 36\n",
            "NO\n"
          ]
        }
      ],
      "source": [
        "A,B,C = map(int,input().split())\n",
        "ANSWER_LIST = []\n",
        "MOD_LIST = []\n",
        "FLAG = False\n",
        "CHECK = 0\n",
        "COUNT = 1\n",
        "\n",
        "while True:\n",
        "  ANSWER_LIST.append(A*COUNT)\n",
        "  CHECK = sum(ANSWER_LIST) % B\n",
        "  if CHECK == C:\n",
        "    FLAG = True\n",
        "    break\n",
        "  elif CHECK in MOD_LIST:\n",
        "    break\n",
        "  MOD_LIST.append(CHECK)\n",
        "\n",
        "if FLAG:\n",
        "  print(\"YES\")\n",
        "else:\n",
        "  print(\"NO\")"
      ]
    }
  ]
}