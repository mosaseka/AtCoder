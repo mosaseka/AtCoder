{
  "nbformat": 4,
  "nbformat_minor": 0,
  "metadata": {
    "colab": {
      "provenance": [],
      "authorship_tag": "ABX9TyPPnq1XbgXmqznaelR6Pk2t",
      "include_colab_link": true
    },
    "kernelspec": {
      "name": "python3",
      "display_name": "Python 3"
    },
    "language_info": {
      "name": "python"
    }
  },
  "cells": [
    {
      "cell_type": "markdown",
      "metadata": {
        "id": "view-in-github",
        "colab_type": "text"
      },
      "source": [
        "<a href=\"https://colab.research.google.com/github/mosaseka/AtCoder/blob/main/B_Multiplication_2.ipynb\" target=\"_parent\"><img src=\"https://colab.research.google.com/assets/colab-badge.svg\" alt=\"Open In Colab\"/></a>"
      ]
    },
    {
      "cell_type": "code",
      "execution_count": null,
      "metadata": {
        "id": "iwsPHUo0-8Lc"
      },
      "outputs": [],
      "source": [
        "import numpy as np\n",
        "\n",
        "N = int(input())\n",
        "A_LIST = list(map(int,input().split()))\n",
        "CHECK = 0\n",
        "\n",
        "CHECK = np.prod(A_LIST)\n",
        "if CHECK > 10**18:\n",
        "  print(-1)\n",
        "else:\n",
        "  print(CHECK)"
      ]
    },
    {
      "cell_type": "code",
      "source": [
        "import math\n",
        "\n",
        "N = int(input())\n",
        "A_LIST = list(map(int,input().split()))\n",
        "CHECK = 0\n",
        "\n",
        "CHECK = math.prod(A_LIST)\n",
        "if CHECK > 1000000000000000000:\n",
        "  print(-1)\n",
        "else:\n",
        "  print(CHECK)"
      ],
      "metadata": {
        "id": "yGMFcz8oAMjw"
      },
      "execution_count": null,
      "outputs": []
    },
    {
      "cell_type": "code",
      "source": [
        "N = int(input())\n",
        "A_LIST = list(map(int,input().split()))\n",
        "CHECK = 1\n",
        "\n",
        "if 0 in set(A_LIST):\n",
        "  print(0)\n",
        "  exit()\n",
        "\n",
        "for i in range(N):\n",
        "  CHECK *= A_LIST[i]\n",
        "  if CHECK > 1000000000000000000:\n",
        "    print(-1)\n",
        "    exit()\n",
        "\n",
        "print(CHECK)"
      ],
      "metadata": {
        "id": "Dx3tVhVzBPH6"
      },
      "execution_count": null,
      "outputs": []
    }
  ]
}