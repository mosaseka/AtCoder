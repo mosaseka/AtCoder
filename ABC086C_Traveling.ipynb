{
  "nbformat": 4,
  "nbformat_minor": 0,
  "metadata": {
    "colab": {
      "provenance": [],
      "authorship_tag": "ABX9TyNdJh+70NN9H4EJSvpaXW4X",
      "include_colab_link": true
    },
    "kernelspec": {
      "name": "python3",
      "display_name": "Python 3"
    },
    "language_info": {
      "name": "python"
    }
  },
  "cells": [
    {
      "cell_type": "markdown",
      "metadata": {
        "id": "view-in-github",
        "colab_type": "text"
      },
      "source": [
        "<a href=\"https://colab.research.google.com/github/mosaseka/AtCoder/blob/main/ABC086C_Traveling.ipynb\" target=\"_parent\"><img src=\"https://colab.research.google.com/assets/colab-badge.svg\" alt=\"Open In Colab\"/></a>"
      ]
    },
    {
      "cell_type": "code",
      "execution_count": null,
      "metadata": {
        "id": "jHCP6NFMJNHo"
      },
      "outputs": [],
      "source": [
        "N = int(input())\n",
        "T_PAST = 0\n",
        "X_PAST = 0\n",
        "Y_PAST = 0\n",
        "ANSWER = True\n",
        "\n",
        "for i in range(N):\n",
        "  T,X,Y = map(int,input().split())\n",
        "  LENGTH = abs(X - X_PAST) + abs(Y - Y_PAST)\n",
        "  TIME = T - T_PAST\n",
        "\n",
        "  T_PAST = T\n",
        "  X_PAST = X\n",
        "  Y_PAST = Y\n",
        "\n",
        "  if LENGTH <= TIME and LENGTH % 2 == TIME % 2:\n",
        "    pass\n",
        "  else:\n",
        "    ANSWER = False\n",
        "\n",
        "if ANSWER == True:\n",
        "  print(\"Yes\")\n",
        "else:\n",
        "  print(\"No\")"
      ]
    }
  ]
}