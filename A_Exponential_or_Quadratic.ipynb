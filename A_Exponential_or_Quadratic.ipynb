{
  "nbformat": 4,
  "nbformat_minor": 0,
  "metadata": {
    "colab": {
      "provenance": [],
      "authorship_tag": "ABX9TyN6SOXfxQolYUhH9nm/eTrQ",
      "include_colab_link": true
    },
    "kernelspec": {
      "name": "python3",
      "display_name": "Python 3"
    },
    "language_info": {
      "name": "python"
    }
  },
  "cells": [
    {
      "cell_type": "markdown",
      "metadata": {
        "id": "view-in-github",
        "colab_type": "text"
      },
      "source": [
        "<a href=\"https://colab.research.google.com/github/mosaseka/AtCoder/blob/main/A_Exponential_or_Quadratic.ipynb\" target=\"_parent\"><img src=\"https://colab.research.google.com/assets/colab-badge.svg\" alt=\"Open In Colab\"/></a>"
      ]
    },
    {
      "cell_type": "code",
      "execution_count": null,
      "metadata": {
        "id": "P97Jc-0kr5e2"
      },
      "outputs": [],
      "source": [
        "N = int(input())\n",
        "\n",
        "if 2**N > N**2:\n",
        "  print(\"Yes\")\n",
        "else:\n",
        "  print(\"No\")"
      ]
    },
    {
      "cell_type": "code",
      "source": [
        "N = int(input())\n",
        "\n",
        "if 2 <= N and N <= 4:\n",
        "  print(\"No\")\n",
        "else:\n",
        "  print(\"Yes\")"
      ],
      "metadata": {
        "id": "LLBYIxVIsU9l"
      },
      "execution_count": null,
      "outputs": []
    }
  ]
}