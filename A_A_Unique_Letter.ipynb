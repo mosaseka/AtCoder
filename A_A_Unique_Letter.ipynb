{
  "nbformat": 4,
  "nbformat_minor": 0,
  "metadata": {
    "colab": {
      "provenance": [],
      "authorship_tag": "ABX9TyOxcPCgTOPCk+lassOO8x/2",
      "include_colab_link": true
    },
    "kernelspec": {
      "name": "python3",
      "display_name": "Python 3"
    },
    "language_info": {
      "name": "python"
    }
  },
  "cells": [
    {
      "cell_type": "markdown",
      "metadata": {
        "id": "view-in-github",
        "colab_type": "text"
      },
      "source": [
        "<a href=\"https://colab.research.google.com/github/mosaseka/AtCoder/blob/main/A_A_Unique_Letter.ipynb\" target=\"_parent\"><img src=\"https://colab.research.google.com/assets/colab-badge.svg\" alt=\"Open In Colab\"/></a>"
      ]
    },
    {
      "cell_type": "code",
      "execution_count": null,
      "metadata": {
        "id": "8noVk08YQOYk"
      },
      "outputs": [],
      "source": [
        "from collections import Counter\n",
        "\n",
        "S = list(str(input()))\n",
        "S_COUNT = list(Counter(S).items())\n",
        "ANSWER = \"-1\"\n",
        "\n",
        "for i in range(len(S_COUNT)):\n",
        "  if S_COUNT[i][1] == 1:\n",
        "    ANSWER = S_COUNT[i][0]\n",
        "    break\n",
        "\n",
        "print(ANSWER)"
      ]
    }
  ]
}