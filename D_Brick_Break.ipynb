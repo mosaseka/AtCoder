{
  "nbformat": 4,
  "nbformat_minor": 0,
  "metadata": {
    "colab": {
      "provenance": [],
      "authorship_tag": "ABX9TyO9y4VwsjZyJy+Mtwfy4eFf",
      "include_colab_link": true
    },
    "kernelspec": {
      "name": "python3",
      "display_name": "Python 3"
    },
    "language_info": {
      "name": "python"
    }
  },
  "cells": [
    {
      "cell_type": "markdown",
      "metadata": {
        "id": "view-in-github",
        "colab_type": "text"
      },
      "source": [
        "<a href=\"https://colab.research.google.com/github/mosaseka/AtCoder/blob/main/D_Brick_Break.ipynb\" target=\"_parent\"><img src=\"https://colab.research.google.com/assets/colab-badge.svg\" alt=\"Open In Colab\"/></a>"
      ]
    },
    {
      "cell_type": "code",
      "execution_count": null,
      "metadata": {
        "id": "QxPvxqXChYfn"
      },
      "outputs": [],
      "source": [
        "N = int(input())\n",
        "A_LIST = list(map(int,input().split()))\n",
        "COUNT = 0\n",
        "NUM = 1\n",
        "\n",
        "for i in range(N):\n",
        "  if NUM == A_LIST[i]:\n",
        "    NUM += 1\n",
        "  else:\n",
        "    COUNT += 1\n",
        "\n",
        "if NUM == 1:\n",
        "  print(-1)\n",
        "else:\n",
        "  print(COUNT)"
      ]
    }
  ]
}