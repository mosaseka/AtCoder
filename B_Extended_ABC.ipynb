{
  "nbformat": 4,
  "nbformat_minor": 0,
  "metadata": {
    "colab": {
      "provenance": [],
      "authorship_tag": "ABX9TyNVouCBP7OA4NTqHmPH8Sb8",
      "include_colab_link": true
    },
    "kernelspec": {
      "name": "python3",
      "display_name": "Python 3"
    },
    "language_info": {
      "name": "python"
    }
  },
  "cells": [
    {
      "cell_type": "markdown",
      "metadata": {
        "id": "view-in-github",
        "colab_type": "text"
      },
      "source": [
        "<a href=\"https://colab.research.google.com/github/mosaseka/AtCoder/blob/main/B_Extended_ABC.ipynb\" target=\"_parent\"><img src=\"https://colab.research.google.com/assets/colab-badge.svg\" alt=\"Open In Colab\"/></a>"
      ]
    },
    {
      "cell_type": "code",
      "execution_count": null,
      "metadata": {
        "id": "_39Ipkv9XPnC"
      },
      "outputs": [],
      "source": [
        "S = str(input())\n",
        "\n",
        "for i in range(101):\n",
        "  for j in range(101):\n",
        "    for k in range(101):\n",
        "      if \"A\"*i + \"B\"*j + \"C\"*k == S:\n",
        "        print(\"Yes\")\n",
        "        exit()\n",
        "\n",
        "print(\"No\")"
      ]
    }
  ]
}