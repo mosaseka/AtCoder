{
  "nbformat": 4,
  "nbformat_minor": 0,
  "metadata": {
    "colab": {
      "provenance": [],
      "authorship_tag": "ABX9TyNPl90ifwSLGGk7NVwBYwXL",
      "include_colab_link": true
    },
    "kernelspec": {
      "name": "python3",
      "display_name": "Python 3"
    },
    "language_info": {
      "name": "python"
    }
  },
  "cells": [
    {
      "cell_type": "markdown",
      "metadata": {
        "id": "view-in-github",
        "colab_type": "text"
      },
      "source": [
        "<a href=\"https://colab.research.google.com/github/mosaseka/AtCoder/blob/main/B_Alcoholic.ipynb\" target=\"_parent\"><img src=\"https://colab.research.google.com/assets/colab-badge.svg\" alt=\"Open In Colab\"/></a>"
      ]
    },
    {
      "cell_type": "code",
      "execution_count": null,
      "metadata": {
        "id": "wXTwJTW3wn_s"
      },
      "outputs": [],
      "source": [
        "N,X = map(int,input().split())\n",
        "COUNT = 0\n",
        "V = 0\n",
        "P = 0\n",
        "\n",
        "for i in range(N):\n",
        "  V,P = map(int,input().split())\n",
        "  COUNT += V*(P/100)\n",
        "  if COUNT > X:\n",
        "    print(i+1)\n",
        "    exit()\n",
        "\n",
        "print(-1)"
      ]
    },
    {
      "cell_type": "code",
      "source": [
        "N,X = map(int,input().split())\n",
        "COUNT = 0\n",
        "V = 0\n",
        "P = 0\n",
        "\n",
        "for i in range(N):\n",
        "  V,P = map(int,input().split())\n",
        "  COUNT += V*P\n",
        "  if COUNT > X*100:\n",
        "    print(i+1)\n",
        "    exit()\n",
        "\n",
        "print(-1)"
      ],
      "metadata": {
        "id": "-K1qlXjpxoAC"
      },
      "execution_count": null,
      "outputs": []
    }
  ]
}