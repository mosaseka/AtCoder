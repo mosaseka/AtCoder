{
  "nbformat": 4,
  "nbformat_minor": 0,
  "metadata": {
    "colab": {
      "provenance": [],
      "authorship_tag": "ABX9TyMOoYc2YvN9dFXOtOAVhbK4",
      "include_colab_link": true
    },
    "kernelspec": {
      "name": "python3",
      "display_name": "Python 3"
    },
    "language_info": {
      "name": "python"
    }
  },
  "cells": [
    {
      "cell_type": "markdown",
      "metadata": {
        "id": "view-in-github",
        "colab_type": "text"
      },
      "source": [
        "<a href=\"https://colab.research.google.com/github/mosaseka/AtCoder/blob/main/C_.ipynb\" target=\"_parent\"><img src=\"https://colab.research.google.com/assets/colab-badge.svg\" alt=\"Open In Colab\"/></a>"
      ]
    },
    {
      "cell_type": "code",
      "execution_count": null,
      "metadata": {
        "id": "J5Zc2VbAZgzC"
      },
      "outputs": [],
      "source": [
        "from collections import Counter\n",
        "from collections import deque\n",
        "\n",
        "N = int(input())\n",
        "V_LIST = list(map(int,input().split()))\n",
        "V_COUNT = list(Counter(V_LIST).items())\n",
        "V_COUNT.sort(reverse=True,key=lambda x:x[1])\n",
        "#print(V_COUNT)\n",
        "COUNT = 0\n",
        "ANSWER_DEQ = deque()\n",
        "\n",
        "if len(V_COUNT) == 1:\n",
        "  print(N//2)\n",
        "  exit()\n",
        "\n",
        "BIG = V_COUNT[0][0]\n",
        "SMALL = V_COUNT[1][0]\n",
        "\n",
        "#大きい方が先\n",
        "for i in range(N):\n",
        "  if (i+1)%2 == 1:\n",
        "    if V_LIST[i] != BIG:\n",
        "      COUNT += 1\n",
        "  else:\n",
        "    if V_LIST[i] != SMALL:\n",
        "      COUNT += 1\n",
        "\n",
        "ANSWER_DEQ.append(COUNT)\n",
        "COUNT = 0\n",
        "\n",
        "#小さい方が先\n",
        "for i in range(N):\n",
        "  if (i+1)%2 == 1:\n",
        "    if V_LIST[i] != SMALL:\n",
        "      COUNT += 1\n",
        "  else:\n",
        "    if V_LIST[i] != BIG:\n",
        "      COUNT += 1\n",
        "\n",
        "ANSWER_DEQ.append(COUNT)\n",
        "\n",
        "print(min(ANSWER_DEQ))"
      ]
    }
  ]
}