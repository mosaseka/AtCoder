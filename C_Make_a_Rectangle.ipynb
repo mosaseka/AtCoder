{
  "nbformat": 4,
  "nbformat_minor": 0,
  "metadata": {
    "colab": {
      "provenance": [],
      "authorship_tag": "ABX9TyOXqkXc5mfl23B79cCYFKfC",
      "include_colab_link": true
    },
    "kernelspec": {
      "name": "python3",
      "display_name": "Python 3"
    },
    "language_info": {
      "name": "python"
    }
  },
  "cells": [
    {
      "cell_type": "markdown",
      "metadata": {
        "id": "view-in-github",
        "colab_type": "text"
      },
      "source": [
        "<a href=\"https://colab.research.google.com/github/mosaseka/AtCoder/blob/main/C_Make_a_Rectangle.ipynb\" target=\"_parent\"><img src=\"https://colab.research.google.com/assets/colab-badge.svg\" alt=\"Open In Colab\"/></a>"
      ]
    },
    {
      "cell_type": "code",
      "execution_count": null,
      "metadata": {
        "colab": {
          "base_uri": "https://localhost:8080/"
        },
        "id": "AV3n1Yeehf6s",
        "outputId": "0a922c4e-8a57-4864-964d-1cbffd2f6b46"
      },
      "outputs": [
        {
          "output_type": "stream",
          "name": "stdout",
          "text": [
            "3\n",
            "1 1 1\n",
            "0\n"
          ]
        }
      ],
      "source": [
        "import collections\n",
        "\n",
        "N = int(input())\n",
        "A_LIST = list(map(int,input().split()))\n",
        "A_COUNT = list((collections.Counter(A_LIST)).items())\n",
        "ALPHA = 0\n",
        "ALPHA_FLAG = False\n",
        "BETA = 0\n",
        "BETA_FLAG = False\n",
        "#print(A_COUNT)\n",
        "\n",
        "A_COUNT = sorted(A_COUNT,key=lambda x:(x[0],x[1]),reverse=True)\n",
        "#print(A_COUNT)\n",
        "\n",
        "if len(A_COUNT) == 1 and A_COUNT[0][1] >= 4:\n",
        "  print(A_COUNT[0][0]*A_COUNT[0][0])\n",
        "  exit()\n",
        "elif len(A_COUNT) == 1 and A_COUNT[0][1] < 4:\n",
        "  print(0)\n",
        "  exit()\n",
        "\n",
        "for i in range(len(A_COUNT)):\n",
        "  if A_COUNT[i][1] >= 4 and ALPHA_FLAG == False:\n",
        "    ALPHA,BETA = A_COUNT[i][0],A_COUNT[i][0]\n",
        "    break\n",
        "  elif A_COUNT[i][1] >= 2:\n",
        "    if not ALPHA_FLAG:\n",
        "      ALPHA = A_COUNT[i][0]\n",
        "      ALPHA_FLAG = True\n",
        "    else:\n",
        "      BETA = A_COUNT[i][0]\n",
        "      break\n",
        "\n",
        "print(ALPHA*BETA)"
      ]
    }
  ]
}