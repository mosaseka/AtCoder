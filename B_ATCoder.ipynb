{
  "nbformat": 4,
  "nbformat_minor": 0,
  "metadata": {
    "colab": {
      "provenance": [],
      "authorship_tag": "ABX9TyOrIg4QdMQHJ68jMLV/JKxj",
      "include_colab_link": true
    },
    "kernelspec": {
      "name": "python3",
      "display_name": "Python 3"
    },
    "language_info": {
      "name": "python"
    }
  },
  "cells": [
    {
      "cell_type": "markdown",
      "metadata": {
        "id": "view-in-github",
        "colab_type": "text"
      },
      "source": [
        "<a href=\"https://colab.research.google.com/github/mosaseka/AtCoder/blob/main/B_ATCoder.ipynb\" target=\"_parent\"><img src=\"https://colab.research.google.com/assets/colab-badge.svg\" alt=\"Open In Colab\"/></a>"
      ]
    },
    {
      "cell_type": "code",
      "execution_count": null,
      "metadata": {
        "colab": {
          "base_uri": "https://localhost:8080/"
        },
        "id": "N9552kjpEWhf",
        "outputId": "2b72df0d-620a-49eb-f49c-28924d8d2e33"
      },
      "outputs": [
        {
          "output_type": "stream",
          "name": "stdout",
          "text": [
            "ATCODER\n",
            "3\n"
          ]
        }
      ],
      "source": [
        "S_LIST = list(map(str,input()))\n",
        "ACGT_LIST = [\"A\",\"C\",\"G\",\"T\"]\n",
        "LEN_LIST = []\n",
        "CHECK = \"\"\n",
        "COUNT = 0\n",
        "\n",
        "#print(S_LIST)\n",
        "\n",
        "for i in range(len(S_LIST)):\n",
        "  CHECK_LIST = list(map(str,\"\".join(S_LIST[i:])))\n",
        "  #print(CHECK_LIST)\n",
        "  COUNT = 0\n",
        "  while CHECK_LIST != []:\n",
        "    if CHECK_LIST[0] in ACGT_LIST:\n",
        "      COUNT += 1\n",
        "      CHECK_LIST.pop(0)\n",
        "    else:\n",
        "      break\n",
        "  LEN_LIST.append(COUNT)\n",
        "\n",
        "print(max(LEN_LIST))"
      ]
    }
  ]
}