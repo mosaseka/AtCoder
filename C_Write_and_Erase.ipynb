{
  "nbformat": 4,
  "nbformat_minor": 0,
  "metadata": {
    "colab": {
      "provenance": [],
      "authorship_tag": "ABX9TyNaUTTPGsv6OCYlp1ySzwYU",
      "include_colab_link": true
    },
    "kernelspec": {
      "name": "python3",
      "display_name": "Python 3"
    },
    "language_info": {
      "name": "python"
    }
  },
  "cells": [
    {
      "cell_type": "markdown",
      "metadata": {
        "id": "view-in-github",
        "colab_type": "text"
      },
      "source": [
        "<a href=\"https://colab.research.google.com/github/mosaseka/AtCoder/blob/main/C_Write_and_Erase.ipynb\" target=\"_parent\"><img src=\"https://colab.research.google.com/assets/colab-badge.svg\" alt=\"Open In Colab\"/></a>"
      ]
    },
    {
      "cell_type": "code",
      "source": [
        "N = int(input())\n",
        "A_LIST = []\n",
        "A = 0\n",
        "\n",
        "for i in range(N):\n",
        "  A = int(input())\n",
        "  if A not in A_LIST:\n",
        "    A_LIST.append(A)\n",
        "  else:\n",
        "    A_LIST.remove(A)\n",
        "\n",
        "print(len(A_LIST))"
      ],
      "metadata": {
        "id": "sHGq9C6Anp_0"
      },
      "execution_count": null,
      "outputs": []
    },
    {
      "cell_type": "code",
      "execution_count": null,
      "metadata": {
        "id": "QUi0EBBgl-1Y"
      },
      "outputs": [],
      "source": [
        "N = int(input())\n",
        "A_SET = set()\n",
        "A = 0\n",
        "ANSWER = 0\n",
        "\n",
        "for i in range(N):\n",
        "  A = int(input())\n",
        "  if A not in A_SET:\n",
        "    A_SET.add(A)\n",
        "  else:\n",
        "    A_SET.remove(A)\n",
        "\n",
        "print(len(A_SET))"
      ]
    }
  ]
}