{
  "nbformat": 4,
  "nbformat_minor": 0,
  "metadata": {
    "colab": {
      "provenance": [],
      "authorship_tag": "ABX9TyMYRoiFJGugr/cNFgK4ulCW",
      "include_colab_link": true
    },
    "kernelspec": {
      "name": "python3",
      "display_name": "Python 3"
    },
    "language_info": {
      "name": "python"
    }
  },
  "cells": [
    {
      "cell_type": "markdown",
      "metadata": {
        "id": "view-in-github",
        "colab_type": "text"
      },
      "source": [
        "<a href=\"https://colab.research.google.com/github/mosaseka/AtCoder/blob/main/C_Unlucky_7.ipynb\" target=\"_parent\"><img src=\"https://colab.research.google.com/assets/colab-badge.svg\" alt=\"Open In Colab\"/></a>"
      ]
    },
    {
      "cell_type": "code",
      "execution_count": null,
      "metadata": {
        "id": "0Xiux6LP45yi"
      },
      "outputs": [],
      "source": [
        "N = int(input())\n",
        "COUNT = 0\n",
        "\n",
        "for i in range(N):\n",
        "  if \"7\" not in set(map(str,str(i+1))):\n",
        "    if \"7\" not in set(map(str,format(i+1,\"o\"))):\n",
        "      COUNT += 1\n",
        "\n",
        "print(COUNT)"
      ]
    }
  ]
}