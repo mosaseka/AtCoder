{
  "nbformat": 4,
  "nbformat_minor": 0,
  "metadata": {
    "colab": {
      "provenance": [],
      "authorship_tag": "ABX9TyNDqMugFM+nn35dW48hOt6n",
      "include_colab_link": true
    },
    "kernelspec": {
      "name": "python3",
      "display_name": "Python 3"
    },
    "language_info": {
      "name": "python"
    }
  },
  "cells": [
    {
      "cell_type": "markdown",
      "metadata": {
        "id": "view-in-github",
        "colab_type": "text"
      },
      "source": [
        "<a href=\"https://colab.research.google.com/github/mosaseka/AtCoder/blob/main/B_1D_Pawn.ipynb\" target=\"_parent\"><img src=\"https://colab.research.google.com/assets/colab-badge.svg\" alt=\"Open In Colab\"/></a>"
      ]
    },
    {
      "cell_type": "code",
      "execution_count": null,
      "metadata": {
        "id": "v1ecymp1euZg"
      },
      "outputs": [],
      "source": [
        "N,K,Q = map(int,input().split())\n",
        "A_LIST = list(map(int,input().split()))\n",
        "L_LIST = list(map(int,input().split()))\n",
        "\n",
        "for i in range(Q):\n",
        "  if A_LIST[L_LIST[i]-1] == N:\n",
        "    continue\n",
        "  elif L_LIST[i] == K:\n",
        "    A_LIST[L_LIST[i]-1] += 1\n",
        "  elif A_LIST[L_LIST[i]-1] + 1 < A_LIST[L_LIST[i]]:\n",
        "    A_LIST[L_LIST[i]-1] += 1\n",
        "\n",
        "print(*A_LIST)"
      ]
    }
  ]
}