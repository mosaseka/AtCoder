{
  "nbformat": 4,
  "nbformat_minor": 0,
  "metadata": {
    "colab": {
      "provenance": [],
      "authorship_tag": "ABX9TyNDMa7qfL4PSB97AO5N7aGM",
      "include_colab_link": true
    },
    "kernelspec": {
      "name": "python3",
      "display_name": "Python 3"
    },
    "language_info": {
      "name": "python"
    }
  },
  "cells": [
    {
      "cell_type": "markdown",
      "metadata": {
        "id": "view-in-github",
        "colab_type": "text"
      },
      "source": [
        "<a href=\"https://colab.research.google.com/github/mosaseka/AtCoder/blob/main/C_Prison.ipynb\" target=\"_parent\"><img src=\"https://colab.research.google.com/assets/colab-badge.svg\" alt=\"Open In Colab\"/></a>"
      ]
    },
    {
      "cell_type": "code",
      "execution_count": null,
      "metadata": {
        "colab": {
          "base_uri": "https://localhost:8080/"
        },
        "id": "1UDXghYcjm2p",
        "outputId": "172bc4a8-299d-4544-b326-07187d82aa71"
      },
      "outputs": [
        {
          "output_type": "stream",
          "name": "stdout",
          "text": [
            "4 2\n",
            "1 3\n",
            "2 4\n",
            "2\n"
          ]
        }
      ],
      "source": [
        "N,M = map(int,input().split())\n",
        "L_LIST = []\n",
        "R_LIST = []\n",
        "ANSWER = 0\n",
        "\n",
        "for i in range(M):\n",
        "  L,R = map(int,input().split())\n",
        "  L_LIST.append(L)\n",
        "  R_LIST.append(R)\n",
        "\n",
        "ANSWER = min(R_LIST) - max(L_LIST) + 1\n",
        "\n",
        "if ANSWER < 0:\n",
        "  print(0)\n",
        "else:\n",
        "  print(ANSWER)"
      ]
    }
  ]
}