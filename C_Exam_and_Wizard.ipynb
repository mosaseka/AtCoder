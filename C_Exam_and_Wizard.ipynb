{
  "nbformat": 4,
  "nbformat_minor": 0,
  "metadata": {
    "colab": {
      "provenance": [],
      "authorship_tag": "ABX9TyN6P9bPdDbUGjGKGMDRc7IN",
      "include_colab_link": true
    },
    "kernelspec": {
      "name": "python3",
      "display_name": "Python 3"
    },
    "language_info": {
      "name": "python"
    }
  },
  "cells": [
    {
      "cell_type": "markdown",
      "metadata": {
        "id": "view-in-github",
        "colab_type": "text"
      },
      "source": [
        "<a href=\"https://colab.research.google.com/github/mosaseka/AtCoder/blob/main/C_Exam_and_Wizard.ipynb\" target=\"_parent\"><img src=\"https://colab.research.google.com/assets/colab-badge.svg\" alt=\"Open In Colab\"/></a>"
      ]
    },
    {
      "cell_type": "code",
      "execution_count": null,
      "metadata": {
        "id": "aREpxUNsV7x5"
      },
      "outputs": [],
      "source": [
        "from collections import deque\n",
        "\n",
        "N = int(input())\n",
        "A_LIST = list(map(int,input().split()))\n",
        "B_LIST = list(map(int,input().split()))\n",
        "A_SUM = sum(A_LIST)\n",
        "C_DEQ = deque()\n",
        "\n",
        "for i in range(N):\n",
        "  if i == N and A_SUM > 0:\n",
        "    C_DEQ.append(A_SUM)\n",
        "  elif A_SUM < 0 or A_SUM < B_LIST[i]:\n",
        "    break\n",
        "  else:\n",
        "    A_SUM -= B_LIST[i]\n",
        "    C_DEQ.append(B_LIST[i])\n",
        "\n",
        "print(len(C_DEQ))"
      ]
    },
    {
      "cell_type": "code",
      "source": [
        "N = int(input())\n",
        "A_LIST = list(map(int,input().split()))\n",
        "B_LIST = list(map(int,input().split()))\n",
        "C_LIST = []\n",
        "A_SUM = sum(A_LIST)\n",
        "B_SUM = sum(B_LIST)\n",
        "C_SUM = 0\n",
        "ANSWER = 0\n",
        "\n",
        "for i in range(N):\n",
        "  if A_LIST[i] - B_LIST[i] < 0:\n",
        "    C_LIST.append(A_LIST[i] - B_LIST[i])\n",
        "\n",
        "if A_SUM < B_SUM:\n",
        "  print(-1)\n",
        "  exit()\n",
        "elif len(C_LIST) == 0:\n",
        "  print(0)\n",
        "  exit()\n",
        "\n",
        "C_SUM = sum(C_LIST)\n",
        "ANSWER += len(C_LIST)\n",
        "\n",
        "for i in range(N):\n",
        "  if A_LIST[i] - B_LIST[i] > 0:\n",
        "    C_LIST.append(A_LIST[i] - B_LIST[i])\n",
        "\n",
        "C_LIST.sort(reverse=True)\n",
        "\n",
        "for i in range(len(C_LIST)):\n",
        "  C_SUM += C_LIST[i]\n",
        "  ANSWER += 1\n",
        "  if C_SUM >= 0:\n",
        "    print(ANSWER)\n",
        "    exit()"
      ],
      "metadata": {
        "id": "fq6Z0QvJXfKB"
      },
      "execution_count": null,
      "outputs": []
    }
  ]
}