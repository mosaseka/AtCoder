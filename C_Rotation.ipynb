{
  "nbformat": 4,
  "nbformat_minor": 0,
  "metadata": {
    "colab": {
      "provenance": [],
      "authorship_tag": "ABX9TyNesSsGGztxflF4Nhgm0gho",
      "include_colab_link": true
    },
    "kernelspec": {
      "name": "python3",
      "display_name": "Python 3"
    },
    "language_info": {
      "name": "python"
    }
  },
  "cells": [
    {
      "cell_type": "markdown",
      "metadata": {
        "id": "view-in-github",
        "colab_type": "text"
      },
      "source": [
        "<a href=\"https://colab.research.google.com/github/mosaseka/AtCoder/blob/main/C_Rotation.ipynb\" target=\"_parent\"><img src=\"https://colab.research.google.com/assets/colab-badge.svg\" alt=\"Open In Colab\"/></a>"
      ]
    },
    {
      "cell_type": "code",
      "execution_count": null,
      "metadata": {
        "id": "nRID1YP2Ttkc"
      },
      "outputs": [],
      "source": [
        "from collections import deque\n",
        "\n",
        "N,Q = map(int,input().split())\n",
        "S_DEQ = deque(map(str,input()))\n",
        "T = 0\n",
        "X = 0\n",
        "\n",
        "for i in range(Q):\n",
        "  T,X = map(int,input().split())\n",
        "  if T == 1:\n",
        "    for j in range(X):\n",
        "      S_DEQ.appendleft(S_DEQ.pop())\n",
        "  elif T == 2:\n",
        "    print(S_DEQ[X-1])"
      ]
    },
    {
      "cell_type": "code",
      "source": [
        "N,Q = map(int,input().split())\n",
        "S = str(input())\n",
        "T = 0\n",
        "X = 0\n",
        "CHECK = 0\n",
        "\n",
        "for i in range(Q):\n",
        "  T,X = map(int,input().split())\n",
        "  if T == 1:\n",
        "    CHECK += X\n",
        "  else:\n",
        "    print(S[(X-CHECK%N)-1])"
      ],
      "metadata": {
        "id": "xnczepqVUjnf"
      },
      "execution_count": null,
      "outputs": []
    }
  ]
}