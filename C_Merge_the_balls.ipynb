{
  "nbformat": 4,
  "nbformat_minor": 0,
  "metadata": {
    "colab": {
      "provenance": [],
      "authorship_tag": "ABX9TyOYCALZqUYQt1jVQOXoVKV2",
      "include_colab_link": true
    },
    "kernelspec": {
      "name": "python3",
      "display_name": "Python 3"
    },
    "language_info": {
      "name": "python"
    }
  },
  "cells": [
    {
      "cell_type": "markdown",
      "metadata": {
        "id": "view-in-github",
        "colab_type": "text"
      },
      "source": [
        "<a href=\"https://colab.research.google.com/github/mosaseka/AtCoder/blob/main/C_Merge_the_balls.ipynb\" target=\"_parent\"><img src=\"https://colab.research.google.com/assets/colab-badge.svg\" alt=\"Open In Colab\"/></a>"
      ]
    },
    {
      "cell_type": "code",
      "execution_count": null,
      "metadata": {
        "id": "RAFZG9HRdTJw"
      },
      "outputs": [],
      "source": [
        "from collections import deque\n",
        "\n",
        "N = int(input())\n",
        "A_LIST = list(map(int,input().split()))\n",
        "DEQ = deque()\n",
        "LAST = 0\n",
        "A = 0\n",
        "B = 0\n",
        "\n",
        "for i in range(N):\n",
        "  DEQ.append(A_LIST[i])\n",
        "  while True:\n",
        "    if len(DEQ) <= 1:\n",
        "      break\n",
        "    elif DEQ[-2] != DEQ[-1]:\n",
        "      break\n",
        "    elif DEQ[-2] == DEQ[-1]:\n",
        "      A = DEQ.pop()\n",
        "      DEQ.pop()\n",
        "      DEQ.append(A+1)\n",
        "\n",
        "print(len(DEQ))"
      ]
    }
  ]
}