{
  "nbformat": 4,
  "nbformat_minor": 0,
  "metadata": {
    "colab": {
      "provenance": [],
      "authorship_tag": "ABX9TyPN8PWuanSZQ46Cwz8PNBCB",
      "include_colab_link": true
    },
    "kernelspec": {
      "name": "python3",
      "display_name": "Python 3"
    },
    "language_info": {
      "name": "python"
    }
  },
  "cells": [
    {
      "cell_type": "markdown",
      "metadata": {
        "id": "view-in-github",
        "colab_type": "text"
      },
      "source": [
        "<a href=\"https://colab.research.google.com/github/mosaseka/AtCoder/blob/main/D_Flip_Cards.ipynb\" target=\"_parent\"><img src=\"https://colab.research.google.com/assets/colab-badge.svg\" alt=\"Open In Colab\"/></a>"
      ]
    },
    {
      "cell_type": "code",
      "execution_count": null,
      "metadata": {
        "colab": {
          "base_uri": "https://localhost:8080/"
        },
        "id": "8xyN9_AQvyCj",
        "outputId": "ef6cbe27-9f45-4590-e01c-cdbcc622f047"
      },
      "outputs": [
        {
          "output_type": "stream",
          "name": "stdout",
          "text": [
            "4\n",
            "1 5\n",
            "2 6\n",
            "3 7\n",
            "4 8\n",
            "14\n"
          ]
        }
      ],
      "source": [
        "N = int(input())\n",
        "A = 0\n",
        "B = 0\n",
        "QUE_A_LIST = []\n",
        "QUE_B_LIST = []\n",
        "COUNT = 0\n",
        "\n",
        "for i in range(N):\n",
        "  A,B = map(int,input().split())\n",
        "  QUE_A_LIST.append(A)\n",
        "  QUE_B_LIST.append(B)\n",
        "  if i == 0 or i == 1:\n",
        "    continue\n",
        "  else:\n",
        "    if (QUE_A_LIST[i-2] == QUE_A_LIST[i-1] or QUE_B_LIST[i-1] == QUE_A_LIST[i-1]) and (QUE_A_LIST[i-1] == QUE_B_LIST[i] or QUE_B_LIST[i-1] == QUE_B_LIST[i]):\n",
        "      continue\n",
        "    else:\n",
        "      COUNT += 1\n",
        "\n",
        "print(2**N - COUNT)"
      ]
    },
    {
      "cell_type": "code",
      "source": [
        "import math\n",
        "\n",
        "N = int(input())\n",
        "COUNT_LIST = []\n",
        "A = 0\n",
        "B = 0\n",
        "QUE_A = 0\n",
        "QUE_B = 0\n",
        "\n",
        "for i in range(N):\n",
        "  A,B = map(int,input().split())\n",
        "  if i == 0:\n",
        "    COUNT_LIST.append(2)\n",
        "    QUE_A = A\n",
        "    QUE_B = B\n",
        "  else:\n",
        "    if QUE_A == A or QUE_B == A or QUE_A == B or QUE_B == B:\n",
        "      COUNT_LIST.append(1)\n",
        "    else:\n",
        "      COUNT_LIST.append(2)\n",
        "    QUE_A = A\n",
        "    QUE_B = B\n",
        "\n",
        "print(math.prod(COUNT_LIST))"
      ],
      "metadata": {
        "colab": {
          "base_uri": "https://localhost:8080/"
        },
        "id": "RyswHDND4CSV",
        "outputId": "a54bac4b-83f4-4fea-800c-3206fb2a62d6"
      },
      "execution_count": null,
      "outputs": [
        {
          "output_type": "stream",
          "name": "stdout",
          "text": [
            "3\n",
            "1 2\n",
            "4 2\n",
            "3 4\n",
            "2\n"
          ]
        }
      ]
    }
  ]
}