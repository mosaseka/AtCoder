{
  "nbformat": 4,
  "nbformat_minor": 0,
  "metadata": {
    "colab": {
      "provenance": [],
      "authorship_tag": "ABX9TyMR/YNIwWrn9SEcoIE2xXNz",
      "include_colab_link": true
    },
    "kernelspec": {
      "name": "python3",
      "display_name": "Python 3"
    },
    "language_info": {
      "name": "python"
    }
  },
  "cells": [
    {
      "cell_type": "markdown",
      "metadata": {
        "id": "view-in-github",
        "colab_type": "text"
      },
      "source": [
        "<a href=\"https://colab.research.google.com/github/mosaseka/AtCoder/blob/main/C_Fennec_vs_Monster.ipynb\" target=\"_parent\"><img src=\"https://colab.research.google.com/assets/colab-badge.svg\" alt=\"Open In Colab\"/></a>"
      ]
    },
    {
      "cell_type": "code",
      "execution_count": null,
      "metadata": {
        "id": "fV1vxKwhfcaO"
      },
      "outputs": [],
      "source": [
        "N,K = map(int,input().split())\n",
        "H_LIST = list(map(int,input().split()))\n",
        "\n",
        "H_LIST.sort(reverse=True)\n",
        "\n",
        "for i in range(N):\n",
        "  if K > 0:\n",
        "    H_LIST[i] = 0\n",
        "    K -= 1\n",
        "\n",
        "print(sum(H_LIST))"
      ]
    }
  ]
}