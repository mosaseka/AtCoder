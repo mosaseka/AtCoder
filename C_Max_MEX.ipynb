{
  "nbformat": 4,
  "nbformat_minor": 0,
  "metadata": {
    "colab": {
      "provenance": [],
      "authorship_tag": "ABX9TyP++cOzng5Vv4zXx2V7YXC5",
      "include_colab_link": true
    },
    "kernelspec": {
      "name": "python3",
      "display_name": "Python 3"
    },
    "language_info": {
      "name": "python"
    }
  },
  "cells": [
    {
      "cell_type": "markdown",
      "metadata": {
        "id": "view-in-github",
        "colab_type": "text"
      },
      "source": [
        "<a href=\"https://colab.research.google.com/github/mosaseka/AtCoder/blob/main/C_Max_MEX.ipynb\" target=\"_parent\"><img src=\"https://colab.research.google.com/assets/colab-badge.svg\" alt=\"Open In Colab\"/></a>"
      ]
    },
    {
      "cell_type": "code",
      "source": [
        "N,K = map(int,input().split())\n",
        "A = set(list(map(int,input().split())))\n",
        "COUNT = 0\n",
        "\n",
        "#A_LIST = list(set(A_LIST))\n",
        "\n",
        "while COUNT in A:\n",
        "  if COUNT == K:\n",
        "    break\n",
        "  else:\n",
        "    COUNT += 1\n",
        "\n",
        "print(COUNT)"
      ],
      "metadata": {
        "colab": {
          "base_uri": "https://localhost:8080/"
        },
        "id": "ZsIBrHYa68EW",
        "outputId": "68a3fd0d-9aba-4064-f33c-d6d53cfc0712"
      },
      "execution_count": null,
      "outputs": [
        {
          "output_type": "stream",
          "name": "stdout",
          "text": [
            "7 3\n",
            "2 0 2 3 2 1 9\n",
            "3\n"
          ]
        }
      ]
    }
  ]
}