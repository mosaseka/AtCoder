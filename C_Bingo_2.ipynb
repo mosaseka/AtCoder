{
  "nbformat": 4,
  "nbformat_minor": 0,
  "metadata": {
    "colab": {
      "provenance": [],
      "authorship_tag": "ABX9TyM8Eeb99I81iNgVu019T3HE",
      "include_colab_link": true
    },
    "kernelspec": {
      "name": "python3",
      "display_name": "Python 3"
    },
    "language_info": {
      "name": "python"
    }
  },
  "cells": [
    {
      "cell_type": "markdown",
      "metadata": {
        "id": "view-in-github",
        "colab_type": "text"
      },
      "source": [
        "<a href=\"https://colab.research.google.com/github/mosaseka/AtCoder/blob/main/C_Bingo_2.ipynb\" target=\"_parent\"><img src=\"https://colab.research.google.com/assets/colab-badge.svg\" alt=\"Open In Colab\"/></a>"
      ]
    },
    {
      "cell_type": "markdown",
      "source": [
        "次の問題をPythonで解いてください。\n",
        "\n",
        "縦\n",
        "N 行、横\n",
        "N 列のマス目があり、上から\n",
        "i 行目、左から\n",
        "j 列目のマスには整数\n",
        "N×(i−1)+j が書かれています。\n",
        "\n",
        "今から\n",
        "T ターンにわたって相異なる整数が宣言されます。\n",
        "i ターン目には\n",
        "A\n",
        "i\n",
        "​\n",
        "  が宣言され、\n",
        "A\n",
        "i\n",
        "​\n",
        "  が書かれたマスに印をつけます。初めてビンゴを達成するのは何ターン目か求めてください。ただし、\n",
        "T ターンの中でビンゴを達成しない場合は -1 を出力してください。\n",
        "\n",
        "ここで、ビンゴを達成するとは以下のいずれかのうち少なくとも一つ満たされることを言います。\n",
        "\n",
        "マス目の横の列であって、列に含まれる\n",
        "N 個のマスすべてに印がついているものが存在する\n",
        "マス目の縦の列であって、列に含まれる\n",
        "N 個のマスすべてに印がついているものが存在する\n",
        "マス目の対角線の列であって、列に含まれる\n",
        "N 個のマスすべてに印がついているものが存在する"
      ],
      "metadata": {
        "id": "6FFd0eTgrwmD"
      }
    },
    {
      "cell_type": "code",
      "execution_count": null,
      "metadata": {
        "id": "fUxSfgx9t3H6"
      },
      "outputs": [],
      "source": [
        "N,T = map(int,input().split())\n",
        "A_LIST = list(map(int,input().split()))\n",
        "ROW = [0] * N\n",
        "COL = [0] * N\n",
        "ALPHA = 0\n",
        "BETA = 0\n",
        "A = 0\n",
        "B = 0\n",
        "SET = set()\n",
        "\n",
        "for i in range(T):\n",
        "  A = (A_LIST[i]-1)//N\n",
        "  B = (A_LIST[i]-1)%N\n",
        "  if (A,B) not in SET:\n",
        "    ROW[A] += 1\n",
        "    COL[B] += 1\n",
        "    if A == B:\n",
        "      ALPHA += 1\n",
        "    if A + B == N - 1:\n",
        "      BETA += 1\n",
        "    if ROW[A] == N or COL[B] == N or ALPHA == N or BETA == N:\n",
        "      print(i+1)\n",
        "      exit()\n",
        "\n",
        "print(-1)"
      ]
    }
  ]
}