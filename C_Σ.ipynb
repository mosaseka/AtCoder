{
  "nbformat": 4,
  "nbformat_minor": 0,
  "metadata": {
    "colab": {
      "provenance": [],
      "authorship_tag": "ABX9TyOMl7wjFmMvANaNV3lyOQaa",
      "include_colab_link": true
    },
    "kernelspec": {
      "name": "python3",
      "display_name": "Python 3"
    },
    "language_info": {
      "name": "python"
    }
  },
  "cells": [
    {
      "cell_type": "markdown",
      "metadata": {
        "id": "view-in-github",
        "colab_type": "text"
      },
      "source": [
        "<a href=\"https://colab.research.google.com/github/mosaseka/AtCoder/blob/main/C_%CE%A3.ipynb\" target=\"_parent\"><img src=\"https://colab.research.google.com/assets/colab-badge.svg\" alt=\"Open In Colab\"/></a>"
      ]
    },
    {
      "cell_type": "code",
      "execution_count": null,
      "metadata": {
        "id": "4ek0saHmuR34"
      },
      "outputs": [],
      "source": [
        "N,K = map(int,input().split())\n",
        "A_LIST = list(map(int,input().split()))\n",
        "ANSWER = 0\n",
        "NUM = set(range(1,K+1))\n",
        "\n",
        "for i in range(N):\n",
        "  if A_LIST[i] in NUM:\n",
        "    NUM.remove(A_LIST[i])\n",
        "\n",
        "print(sum(NUM))"
      ]
    },
    {
      "cell_type": "markdown",
      "source": [
        "次のコードを高速化してください。\n",
        "\n",
        "N,K = map(int,input().split())\n",
        "A_LIST = list(map(int,input().split()))\n",
        "ANSWER = 0\n",
        "NUM = set(range(1,K+1))\n",
        "\n",
        "for i in range(N):\n",
        "  if A_LIST[i] in NUM:\n",
        "    NUM.remove(A_LIST[i])\n",
        "\n",
        "print(sum(NUM))"
      ],
      "metadata": {
        "id": "FUDzEIW-UEDu"
      }
    },
    {
      "cell_type": "code",
      "source": [
        "N,K = map(int,input().split())\n",
        "A_LIST = list(map(int,input().split()))\n",
        "NUM = set(range(1,K+1))\n",
        "\n",
        "NUM.difference_update(A_LIST)\n",
        "\n",
        "print(sum(NUM))"
      ],
      "metadata": {
        "id": "EcMUTIeXUP4M"
      },
      "execution_count": null,
      "outputs": []
    },
    {
      "cell_type": "code",
      "source": [
        "def SIGMA(K):\n",
        "  return K*(K+1)//2\n",
        "\n",
        "N,K = map(int,input().split())\n",
        "A_LIST = list(set(map(int,input().split())))\n",
        "ANSWER = SIGMA(K)\n",
        "SET = set()\n",
        "\n",
        "for i in range(len(A_LIST)):\n",
        "  if A_LIST[i] <= K:\n",
        "    ANSWER -= A_LIST[i]\n",
        "\n",
        "print(ANSWER)"
      ],
      "metadata": {
        "id": "vlYfdb6nVgqC"
      },
      "execution_count": null,
      "outputs": []
    }
  ]
}