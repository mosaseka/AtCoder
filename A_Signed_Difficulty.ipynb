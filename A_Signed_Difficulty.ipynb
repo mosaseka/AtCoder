{
  "nbformat": 4,
  "nbformat_minor": 0,
  "metadata": {
    "colab": {
      "provenance": [],
      "authorship_tag": "ABX9TyPGraUFJzi+FVdPi6EAmls8",
      "include_colab_link": true
    },
    "kernelspec": {
      "name": "python3",
      "display_name": "Python 3"
    },
    "language_info": {
      "name": "python"
    }
  },
  "cells": [
    {
      "cell_type": "markdown",
      "metadata": {
        "id": "view-in-github",
        "colab_type": "text"
      },
      "source": [
        "<a href=\"https://colab.research.google.com/github/mosaseka/AtCoder/blob/main/A_Signed_Difficulty.ipynb\" target=\"_parent\"><img src=\"https://colab.research.google.com/assets/colab-badge.svg\" alt=\"Open In Colab\"/></a>"
      ]
    },
    {
      "cell_type": "code",
      "execution_count": null,
      "metadata": {
        "id": "vcrHOuNorIso"
      },
      "outputs": [],
      "source": [
        "X_Y = str(input())\n",
        "X = X_Y[0:len(X_Y)-2]\n",
        "Y = X_Y[-1]\n",
        "\n",
        "if 0 <= int(Y) and int(Y) <= 2:\n",
        "  print(X+\"-\")\n",
        "elif 3 <= int(Y) and int(Y) <= 6:\n",
        "  print(X)\n",
        "elif 7 <= int(Y) and int(Y) <= 9:\n",
        "  print(X+\"+\")"
      ]
    }
  ]
}