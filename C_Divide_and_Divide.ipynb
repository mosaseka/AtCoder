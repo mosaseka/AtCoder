{
  "nbformat": 4,
  "nbformat_minor": 0,
  "metadata": {
    "colab": {
      "provenance": [],
      "authorship_tag": "ABX9TyOxjuPQXojjEh7lFjnziPmv",
      "include_colab_link": true
    },
    "kernelspec": {
      "name": "python3",
      "display_name": "Python 3"
    },
    "language_info": {
      "name": "python"
    }
  },
  "cells": [
    {
      "cell_type": "markdown",
      "metadata": {
        "id": "view-in-github",
        "colab_type": "text"
      },
      "source": [
        "<a href=\"https://colab.research.google.com/github/mosaseka/AtCoder/blob/main/C_Divide_and_Divide.ipynb\" target=\"_parent\"><img src=\"https://colab.research.google.com/assets/colab-badge.svg\" alt=\"Open In Colab\"/></a>"
      ]
    },
    {
      "cell_type": "code",
      "execution_count": null,
      "metadata": {
        "id": "hBGdcjAlWiDa"
      },
      "outputs": [],
      "source": [
        "from math import floor\n",
        "from math import ceil\n",
        "\n",
        "N = int(input())\n",
        "BLACKBOARD = [N]\n",
        "ANSWER = 0\n",
        "\n",
        "while any(x >= 2 for x in BLACKBOARD):\n",
        "  for i in range(len(BLACKBOARD)):\n",
        "    if BLACKBOARD[i] < 2:\n",
        "      pass\n",
        "    else:\n",
        "      BLACKBOARD.append(floor(BLACKBOARD[i]/2))\n",
        "      BLACKBOARD.append(ceil(BLACKBOARD[i]/2))\n",
        "      ANSWER += BLACKBOARD.pop(i)\n",
        "\n",
        "print(ANSWER)"
      ]
    },
    {
      "cell_type": "markdown",
      "source": [
        "次のコードを10^17のような大きなNでも高速に処理できるようにしたいです。\n",
        "\n",
        "from math import floor\n",
        "from math import ceil\n",
        "\n",
        "N = int(input())\n",
        "BLACKBOARD = [N]\n",
        "ANSWER = 0\n",
        "\n",
        "while any(x >= 2 for x in BLACKBOARD):\n",
        "  for i in range(len(BLACKBOARD)):\n",
        "    if BLACKBOARD[i] < 2:\n",
        "      pass\n",
        "    else:\n",
        "      BLACKBOARD.append(floor(BLACKBOARD[i]/2))\n",
        "      BLACKBOARD.append(ceil(BLACKBOARD[i]/2))\n",
        "      ANSWER += BLACKBOARD.pop(i)\n",
        "\n",
        "print(ANSWER)"
      ],
      "metadata": {
        "id": "HKuYrm3XEa0b"
      }
    },
    {
      "cell_type": "code",
      "source": [
        "from math import floor\n",
        "from math import ceil\n",
        "\n",
        "def SOLVE(N):\n",
        "  MEMO = {}\n",
        "  def CALC(NUM):\n",
        "    if NUM < 2:\n",
        "      return 0\n",
        "    if NUM not in MEMO:\n",
        "      FLOOR = floor(NUM/2)\n",
        "      CEIL = ceil(NUM/2)\n",
        "      MEMO[NUM] = NUM + CALC(FLOOR) + CALC(CEIL)\n",
        "    return MEMO[NUM]\n",
        "  return CALC(N)\n",
        "\n",
        "N = int(input())\n",
        "\n",
        "print(SOLVE(N))"
      ],
      "metadata": {
        "id": "3A8F62lrDRw-"
      },
      "execution_count": null,
      "outputs": []
    },
    {
      "cell_type": "code",
      "source": [
        "from math import floor\n",
        "from math import ceil\n",
        "\n",
        "def SOLVE(N):\n",
        "  MEMO = {}\n",
        "  def CALC(NUM):\n",
        "    if NUM < 2:\n",
        "      return 0\n",
        "    if NUM not in MEMO:\n",
        "      FLOOR = NUM // 2\n",
        "      CEIL = (NUM+1) // 2\n",
        "      MEMO[NUM] = NUM + CALC(FLOOR) + CALC(CEIL)\n",
        "    return MEMO[NUM]\n",
        "  return CALC(N)\n",
        "\n",
        "N = int(input())\n",
        "\n",
        "print(SOLVE(N))"
      ],
      "metadata": {
        "id": "0sFW37bKFXEw"
      },
      "execution_count": null,
      "outputs": []
    }
  ]
}