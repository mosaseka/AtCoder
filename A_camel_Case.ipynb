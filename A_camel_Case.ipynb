{
  "nbformat": 4,
  "nbformat_minor": 0,
  "metadata": {
    "colab": {
      "provenance": [],
      "authorship_tag": "ABX9TyPqlA7+GHNDSTU6JaMokcN1",
      "include_colab_link": true
    },
    "kernelspec": {
      "name": "python3",
      "display_name": "Python 3"
    },
    "language_info": {
      "name": "python"
    }
  },
  "cells": [
    {
      "cell_type": "markdown",
      "metadata": {
        "id": "view-in-github",
        "colab_type": "text"
      },
      "source": [
        "<a href=\"https://colab.research.google.com/github/mosaseka/AtCoder/blob/main/A_camel_Case.ipynb\" target=\"_parent\"><img src=\"https://colab.research.google.com/assets/colab-badge.svg\" alt=\"Open In Colab\"/></a>"
      ]
    },
    {
      "cell_type": "code",
      "execution_count": null,
      "metadata": {
        "id": "3fMtjV72B2G6"
      },
      "outputs": [],
      "source": [
        "import string\n",
        "\n",
        "S_LIST = list(map(str,input()))\n",
        "ALPHABET_LIST = list(string.ascii_uppercase)\n",
        "\n",
        "for i in range(len(S_LIST)):\n",
        "  if S_LIST[i] in ALPHABET_LIST:\n",
        "    print(i+1)\n",
        "    break"
      ]
    }
  ]
}