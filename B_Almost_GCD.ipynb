{
  "nbformat": 4,
  "nbformat_minor": 0,
  "metadata": {
    "colab": {
      "provenance": [],
      "authorship_tag": "ABX9TyMrp8ZwFR2+iXFBBXxiZd52",
      "include_colab_link": true
    },
    "kernelspec": {
      "name": "python3",
      "display_name": "Python 3"
    },
    "language_info": {
      "name": "python"
    }
  },
  "cells": [
    {
      "cell_type": "markdown",
      "metadata": {
        "id": "view-in-github",
        "colab_type": "text"
      },
      "source": [
        "<a href=\"https://colab.research.google.com/github/mosaseka/AtCoder/blob/main/B_Almost_GCD.ipynb\" target=\"_parent\"><img src=\"https://colab.research.google.com/assets/colab-badge.svg\" alt=\"Open In Colab\"/></a>"
      ]
    },
    {
      "cell_type": "code",
      "execution_count": null,
      "metadata": {
        "id": "rBjqGjaS6WJC"
      },
      "outputs": [],
      "source": [
        "from collections import deque\n",
        "\n",
        "N = int(input())\n",
        "A_LIST = list(map(int,input().split()))\n",
        "ANSWER_DEQ = deque()\n",
        "COUNT = 0\n",
        "\n",
        "for i in range(1,1001):\n",
        "  COUNT = 0\n",
        "  for j in range(N):\n",
        "    if A_LIST[j] % (i+1) == 0:\n",
        "      COUNT += 1\n",
        "  ANSWER_DEQ.append([(i+1),COUNT])\n",
        "\n",
        "ANSWER_DEQ = list(ANSWER_DEQ)\n",
        "ANSWER_DEQ.sort(reverse=True,key=lambda x:x[1])\n",
        "\n",
        "print(ANSWER_DEQ[0][0])"
      ]
    }
  ]
}