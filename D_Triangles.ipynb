{
  "nbformat": 4,
  "nbformat_minor": 0,
  "metadata": {
    "colab": {
      "provenance": [],
      "authorship_tag": "ABX9TyNIN3SEtuROrWB5UOXror88",
      "include_colab_link": true
    },
    "kernelspec": {
      "name": "python3",
      "display_name": "Python 3"
    },
    "language_info": {
      "name": "python"
    }
  },
  "cells": [
    {
      "cell_type": "markdown",
      "metadata": {
        "id": "view-in-github",
        "colab_type": "text"
      },
      "source": [
        "<a href=\"https://colab.research.google.com/github/mosaseka/AtCoder/blob/main/D_Triangles.ipynb\" target=\"_parent\"><img src=\"https://colab.research.google.com/assets/colab-badge.svg\" alt=\"Open In Colab\"/></a>"
      ]
    },
    {
      "cell_type": "code",
      "execution_count": null,
      "metadata": {
        "id": "Jmj5tXKd5dYt"
      },
      "outputs": [],
      "source": [
        "import itertools\n",
        "\n",
        "N = int(input())\n",
        "L_LIST = list(map(int,input().split()))\n",
        "COMB_LIST = list(itertools.combinations(L_LIST,3))\n",
        "ANSWER = 0\n",
        "A = 0\n",
        "B = 0\n",
        "C = 0\n",
        "\n",
        "for i in range(len(COMB_LIST)):\n",
        "  A,B,C = COMB_LIST[i][0],COMB_LIST[i][1],COMB_LIST[i][2]\n",
        "  if A < B+C and B < C+A and C < A+B:\n",
        "    ANSWER += 1\n",
        "\n",
        "print(ANSWER)"
      ]
    },
    {
      "cell_type": "code",
      "source": [
        "N = int(input())\n",
        "L_LIST = list(map(int,input().split()))\n",
        "ANSWER = 0\n",
        "\n",
        "L_LIST.sort()\n",
        "\n",
        "for i in range(N):\n",
        "  for j in range(i+1,N):\n",
        "    for k in range(j+1,N):\n",
        "      if L_LIST[k] < L_LIST[i] + L_LIST[j]:\n",
        "        ANSWER += 1\n",
        "\n",
        "print(ANSWER)"
      ],
      "metadata": {
        "id": "zUm4V64X6loS"
      },
      "execution_count": null,
      "outputs": []
    },
    {
      "cell_type": "code",
      "source": [
        "import numpy as np\n",
        "\n",
        "N = int(input())\n",
        "L_LIST = np.int32(input().split())\n",
        "ANSWER = 0\n",
        "\n",
        "L_LIST.sort()\n",
        "\n",
        "for i in range(len(L_LIST)):\n",
        "  for j in range(i+1,len(L_LIST)):\n",
        "    for k in range(j+1,len(L_LIST)):\n",
        "      if L_LIST[k] < L_LIST[i] + L_LIST[j]:\n",
        "        ANSWER += 1\n",
        "\n",
        "print(ANSWER)"
      ],
      "metadata": {
        "colab": {
          "base_uri": "https://localhost:8080/"
        },
        "id": "FrW5j-D685p2",
        "outputId": "d1ac583c-6c78-457c-fce4-89bb978692c9"
      },
      "execution_count": null,
      "outputs": [
        {
          "output_type": "stream",
          "name": "stdout",
          "text": [
            "3\n",
            "12 2 3\n",
            "0\n"
          ]
        }
      ]
    },
    {
      "cell_type": "code",
      "source": [
        "from bisect import bisect_left\n",
        "\n",
        "N = int(input())\n",
        "L_LIST = list(map(int,input().split()))\n",
        "ANSWER = 0\n",
        "\n",
        "L_LIST.sort()\n",
        "\n",
        "for i in range(N):\n",
        "  for j in range(i+1,N):\n",
        "    ANSWER += bisect_left(L_LIST,L_LIST[i] + L_LIST[j]) - (j+1)\n",
        "\n",
        "print(ANSWER)"
      ],
      "metadata": {
        "id": "abjwzHrV-LBN"
      },
      "execution_count": null,
      "outputs": []
    }
  ]
}