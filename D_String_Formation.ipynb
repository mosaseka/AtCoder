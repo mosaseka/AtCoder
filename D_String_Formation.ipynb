{
  "nbformat": 4,
  "nbformat_minor": 0,
  "metadata": {
    "colab": {
      "provenance": [],
      "authorship_tag": "ABX9TyNaAdahpCupZSsJG/BMpIe/",
      "include_colab_link": true
    },
    "kernelspec": {
      "name": "python3",
      "display_name": "Python 3"
    },
    "language_info": {
      "name": "python"
    }
  },
  "cells": [
    {
      "cell_type": "markdown",
      "metadata": {
        "id": "view-in-github",
        "colab_type": "text"
      },
      "source": [
        "<a href=\"https://colab.research.google.com/github/mosaseka/AtCoder/blob/main/D_String_Formation.ipynb\" target=\"_parent\"><img src=\"https://colab.research.google.com/assets/colab-badge.svg\" alt=\"Open In Colab\"/></a>"
      ]
    },
    {
      "cell_type": "code",
      "execution_count": null,
      "metadata": {
        "id": "KsauX-uQqy8A"
      },
      "outputs": [],
      "source": [
        "from collections import deque\n",
        "\n",
        "S_DEQ = deque(map(str,input()))\n",
        "Q = int(input())\n",
        "QUERY = []\n",
        "ANSWER = \"\"\n",
        "\n",
        "for i in range(Q):\n",
        "  QUERY = list(map(str,input().split()))\n",
        "  if QUERY[0] == \"1\":\n",
        "    S_DEQ = reversed(S_DEQ)\n",
        "    S_DEQ = deque(S_DEQ)\n",
        "  else:\n",
        "    if QUERY[1] == \"1\":\n",
        "      S_DEQ.appendleft(QUERY[2])\n",
        "    else:\n",
        "      S_DEQ.append(QUERY[2])\n",
        "\n",
        "for i in range(len(S_DEQ)):\n",
        "  ANSWER += S_DEQ[i]\n",
        "\n",
        "print(ANSWER)"
      ]
    },
    {
      "cell_type": "code",
      "source": [
        "from collections import deque\n",
        "\n",
        "S_DEQ = deque(map(str,input()))\n",
        "Q = int(input())\n",
        "QUERY = []\n",
        "ANSWER = \"\"\n",
        "FLAG = False\n",
        "\n",
        "for i in range(Q):\n",
        "  QUERY = list(map(str,input().split()))\n",
        "  if QUERY[0] == \"1\":\n",
        "    if FLAG:\n",
        "      FLAG = False\n",
        "    else:\n",
        "      FLAG = True\n",
        "  else:\n",
        "    if QUERY[1] == \"1\":\n",
        "      S_DEQ.appendleft(QUERY[2])\n",
        "    else:\n",
        "      S_DEQ.append(QUERY[2])\n",
        "\n",
        "if FLAG:\n",
        "  S_DEQ = deque(reversed(S_DEQ))\n",
        "\n",
        "for i in range(len(S_DEQ)):\n",
        "  ANSWER += S_DEQ[i]\n",
        "\n",
        "print(ANSWER)"
      ],
      "metadata": {
        "id": "fv00O6sktiZw"
      },
      "execution_count": null,
      "outputs": []
    },
    {
      "cell_type": "code",
      "source": [
        "from collections import deque\n",
        "S_DEQ = deque(str(input()))\n",
        "Q = int(input())\n",
        "QUERY = []\n",
        "FLAG = True\n",
        "\n",
        "for i in range(Q):\n",
        "  QUERY = list(map(str,input().split()))\n",
        "  if QUERY[0] == \"1\":\n",
        "    if FLAG:\n",
        "      FLAG = False\n",
        "    else:\n",
        "      FLAG = True\n",
        "  else:\n",
        "    if FLAG:\n",
        "      if QUERY[1] == \"1\":\n",
        "        S_DEQ.appendleft(QUERY[2])\n",
        "      else:\n",
        "        S_DEQ.append(QUERY[2])\n",
        "    else:\n",
        "      if QUERY[1] == \"1\":\n",
        "        S_DEQ.append(QUERY[2])\n",
        "      else:\n",
        "        S_DEQ.appendleft(QUERY[2])\n",
        "\n",
        "if FLAG:\n",
        "  print(\"\".join(S_DEQ))\n",
        "else:\n",
        "  S_DEQ.reverse()\n",
        "  print(\"\".join(S_DEQ))"
      ],
      "metadata": {
        "id": "78OjR1cBm4Z9"
      },
      "execution_count": null,
      "outputs": []
    }
  ]
}