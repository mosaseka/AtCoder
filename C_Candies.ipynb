{
  "nbformat": 4,
  "nbformat_minor": 0,
  "metadata": {
    "colab": {
      "provenance": [],
      "authorship_tag": "ABX9TyPElKFeg2XbFdE4zTqI/m/4",
      "include_colab_link": true
    },
    "kernelspec": {
      "name": "python3",
      "display_name": "Python 3"
    },
    "language_info": {
      "name": "python"
    }
  },
  "cells": [
    {
      "cell_type": "markdown",
      "metadata": {
        "id": "view-in-github",
        "colab_type": "text"
      },
      "source": [
        "<a href=\"https://colab.research.google.com/github/mosaseka/AtCoder/blob/main/C_Candies.ipynb\" target=\"_parent\"><img src=\"https://colab.research.google.com/assets/colab-badge.svg\" alt=\"Open In Colab\"/></a>"
      ]
    },
    {
      "cell_type": "code",
      "execution_count": null,
      "metadata": {
        "colab": {
          "base_uri": "https://localhost:8080/"
        },
        "id": "oTILFl48wCpU",
        "outputId": "05537850-9ad3-4852-f53e-ab9fd865507c"
      },
      "outputs": [
        {
          "output_type": "stream",
          "name": "stdout",
          "text": [
            "4\n",
            "1 1 1 1\n",
            "1 1 1 1\n",
            "[5, 5, 5, 5]\n",
            "5\n"
          ]
        }
      ],
      "source": [
        "N = int(input())\n",
        "A_LIST = []\n",
        "ANSWER_LIST = []\n",
        "\n",
        "for i in range(2):\n",
        "  A_LIST.append(list(map(int,input().split())))\n",
        "\n",
        "for i in range(N):\n",
        "  ANSWER_LIST.append(sum(A_LIST[0][:i+1]) + sum(A_LIST[1][i:]))\n",
        "\n",
        "#print(ANSWER_LIST)\n",
        "\n",
        "print(max(ANSWER_LIST))"
      ]
    }
  ]
}