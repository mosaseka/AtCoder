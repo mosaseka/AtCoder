{
  "nbformat": 4,
  "nbformat_minor": 0,
  "metadata": {
    "colab": {
      "provenance": [],
      "authorship_tag": "ABX9TyOjpITL1H0YkaXpWADWuvhk",
      "include_colab_link": true
    },
    "kernelspec": {
      "name": "python3",
      "display_name": "Python 3"
    },
    "language_info": {
      "name": "python"
    }
  },
  "cells": [
    {
      "cell_type": "markdown",
      "metadata": {
        "id": "view-in-github",
        "colab_type": "text"
      },
      "source": [
        "<a href=\"https://colab.research.google.com/github/mosaseka/AtCoder/blob/main/A_Rotate.ipynb\" target=\"_parent\"><img src=\"https://colab.research.google.com/assets/colab-badge.svg\" alt=\"Open In Colab\"/></a>"
      ]
    },
    {
      "cell_type": "code",
      "execution_count": null,
      "metadata": {
        "id": "MLDFEnr9Uy_i"
      },
      "outputs": [],
      "source": [
        "A,B,C = map(str,input())\n",
        "ANSWER = 0\n",
        "\n",
        "ANSWER += int(A+B+C)\n",
        "ANSWER += int(B+C+A)\n",
        "ANSWER += int(C+A+B)\n",
        "\n",
        "print(ANSWER)"
      ]
    }
  ]
}