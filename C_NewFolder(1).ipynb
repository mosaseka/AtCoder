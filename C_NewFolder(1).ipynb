{
  "nbformat": 4,
  "nbformat_minor": 0,
  "metadata": {
    "colab": {
      "provenance": [],
      "authorship_tag": "ABX9TyNhzXoNQ20UBkdriOdR71cO",
      "include_colab_link": true
    },
    "kernelspec": {
      "name": "python3",
      "display_name": "Python 3"
    },
    "language_info": {
      "name": "python"
    }
  },
  "cells": [
    {
      "cell_type": "markdown",
      "metadata": {
        "id": "view-in-github",
        "colab_type": "text"
      },
      "source": [
        "<a href=\"https://colab.research.google.com/github/mosaseka/AtCoder/blob/main/C_NewFolder(1).ipynb\" target=\"_parent\"><img src=\"https://colab.research.google.com/assets/colab-badge.svg\" alt=\"Open In Colab\"/></a>"
      ]
    },
    {
      "cell_type": "code",
      "execution_count": null,
      "metadata": {
        "id": "UxbyGLHQhe-1"
      },
      "outputs": [],
      "source": [
        "N = int(input())\n",
        "S_LIST = [str(input()) for i in range(N)]\n",
        "S_SET = set()\n",
        "NAME_SET = set()\n",
        "S = \"\"\n",
        "COUNT = 0\n",
        "\n",
        "for i in range(N):\n",
        "  COUNT = 1\n",
        "  S = S_LIST[i]\n",
        "  if S not in S_SET:\n",
        "    S_SET.add(S)\n",
        "    print(S)\n",
        "  else:\n",
        "    while True:\n",
        "      if S + \"(\" + str(COUNT) + \")\" not in NAME_SET:\n",
        "        print(S + \"(\" + str(COUNT) + \")\")\n",
        "        NAME_SET.add(S + \"(\" + str(COUNT) + \")\")\n",
        "        break\n",
        "      else:\n",
        "        COUNT += 1"
      ]
    },
    {
      "cell_type": "code",
      "source": [
        "from collections import defaultdict\n",
        "\n",
        "N = int(input())\n",
        "S_COUNT = defaultdict(int)\n",
        "S = \"\"\n",
        "\n",
        "for i in range(N):\n",
        "  S = str(input())\n",
        "  if S_COUNT[S] == 0:\n",
        "    print(S)\n",
        "  else:\n",
        "    print(S + \"(\" + str(S_COUNT[S]) + \")\")\n",
        "  S_COUNT[S] += 1"
      ],
      "metadata": {
        "id": "f_fb0jdflP3M"
      },
      "execution_count": null,
      "outputs": []
    }
  ]
}