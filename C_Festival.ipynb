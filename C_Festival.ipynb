{
  "nbformat": 4,
  "nbformat_minor": 0,
  "metadata": {
    "colab": {
      "provenance": [],
      "authorship_tag": "ABX9TyMqvV+8plaZRn9/eNafTNvp",
      "include_colab_link": true
    },
    "kernelspec": {
      "name": "python3",
      "display_name": "Python 3"
    },
    "language_info": {
      "name": "python"
    }
  },
  "cells": [
    {
      "cell_type": "markdown",
      "metadata": {
        "id": "view-in-github",
        "colab_type": "text"
      },
      "source": [
        "<a href=\"https://colab.research.google.com/github/mosaseka/AtCoder/blob/main/C_Festival.ipynb\" target=\"_parent\"><img src=\"https://colab.research.google.com/assets/colab-badge.svg\" alt=\"Open In Colab\"/></a>"
      ]
    },
    {
      "cell_type": "code",
      "execution_count": null,
      "metadata": {
        "id": "k1wTOX5Wicil"
      },
      "outputs": [],
      "source": [
        "from collections import deque\n",
        "\n",
        "N,M = map(int,input().split())\n",
        "A_LIST = deque(map(int,input().split()))\n",
        "CHECK = 0\n",
        "\n",
        "for i in range(N):\n",
        "  print(abs(A_LIST[0]) - (i+1))\n",
        "  if (i+1) == A_LIST[0]:\n",
        "    A_LIST.popleft()"
      ]
    }
  ]
}