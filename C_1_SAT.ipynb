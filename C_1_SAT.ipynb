{
  "nbformat": 4,
  "nbformat_minor": 0,
  "metadata": {
    "colab": {
      "provenance": [],
      "authorship_tag": "ABX9TyPNCoYPtlWtzWGfv1ZX1/DS",
      "include_colab_link": true
    },
    "kernelspec": {
      "name": "python3",
      "display_name": "Python 3"
    },
    "language_info": {
      "name": "python"
    }
  },
  "cells": [
    {
      "cell_type": "markdown",
      "metadata": {
        "id": "view-in-github",
        "colab_type": "text"
      },
      "source": [
        "<a href=\"https://colab.research.google.com/github/mosaseka/AtCoder/blob/main/C_1_SAT.ipynb\" target=\"_parent\"><img src=\"https://colab.research.google.com/assets/colab-badge.svg\" alt=\"Open In Colab\"/></a>"
      ]
    },
    {
      "cell_type": "code",
      "execution_count": null,
      "metadata": {
        "id": "okQtFBl1d5Mp"
      },
      "outputs": [],
      "source": [
        "N = int(input())\n",
        "S_LIST = [str(input()) for i in range(N)]\n",
        "S_SET = set(S_LIST)\n",
        "CHECK = \"\"\n",
        "\n",
        "for i in range(N):\n",
        "  if S_LIST[i][0] == \"!\":\n",
        "    pass\n",
        "  else:\n",
        "    CHECK = S_LIST[i]\n",
        "    if (\"!\" + S_LIST[i]) in S_SET:\n",
        "      print(S_LIST[i])\n",
        "      exit()\n",
        "\n",
        "print(\"satisfiable\")"
      ]
    }
  ]
}