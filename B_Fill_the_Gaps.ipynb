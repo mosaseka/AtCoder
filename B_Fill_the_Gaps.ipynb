{
  "nbformat": 4,
  "nbformat_minor": 0,
  "metadata": {
    "colab": {
      "provenance": [],
      "authorship_tag": "ABX9TyOL8K8d8NiRqxuSNNfFbkQO",
      "include_colab_link": true
    },
    "kernelspec": {
      "name": "python3",
      "display_name": "Python 3"
    },
    "language_info": {
      "name": "python"
    }
  },
  "cells": [
    {
      "cell_type": "markdown",
      "metadata": {
        "id": "view-in-github",
        "colab_type": "text"
      },
      "source": [
        "<a href=\"https://colab.research.google.com/github/mosaseka/AtCoder/blob/main/B_Fill_the_Gaps.ipynb\" target=\"_parent\"><img src=\"https://colab.research.google.com/assets/colab-badge.svg\" alt=\"Open In Colab\"/></a>"
      ]
    },
    {
      "cell_type": "code",
      "execution_count": null,
      "metadata": {
        "id": "Z6MOTT2DAH7_"
      },
      "outputs": [],
      "source": [
        "N = int(input())\n",
        "A_LIST = list(map(int,input().split()))\n",
        "INSERT_LIST = []\n",
        "\n",
        "print(A_LIST)\n",
        "\n",
        "while True:\n",
        "  for i in range(len(A_LIST)-1):\n",
        "    if abs(A_LIST[i]-A_LIST[i+1]) != 1:\n",
        "      if A_LIST[i] < A_LIST[i+1]:\n",
        "        INSERT_LIST = [j for j in range(A_LIST[i]+1,A_LIST[i+1]-1)]\n",
        "      else:\n",
        "        INSERT_LIST = [j for j in range(A_LIST[i+1]-1,A_LIST[i]+1)]\n",
        "      A_LIST = A_LIST[:i] + INSERT_LIST + A_LIST[i+1:]\n",
        "      #print(INSERT_LIST)\n",
        "      #print(A_LIST)\n",
        "      continue\n",
        "  break\n",
        "\n",
        "print(*A_LIST)"
      ]
    },
    {
      "cell_type": "code",
      "source": [
        "N = int(input())\n",
        "A_LIST = list(map(int,input().split()))\n",
        "ANSWER_LIST = []\n",
        "INSERT_LIST = []\n",
        "\n",
        "for i in range(N-1):\n",
        "  ANSWER_LIST.append(A_LIST[i])\n",
        "  if abs(A_LIST[i]-A_LIST[i+1]) != 1:\n",
        "    if A_LIST[i] < A_LIST[i+1]:\n",
        "      ANSWER_LIST += [j for j in range(A_LIST[i]+1,A_LIST[i+1])]\n",
        "    else:\n",
        "      INSERT_LIST = list(reversed([j for j in range(A_LIST[i+1],A_LIST[i]+1)]))\n",
        "      INSERT_LIST.pop(-1)\n",
        "      INSERT_LIST.pop(0)\n",
        "      ANSWER_LIST += INSERT_LIST\n",
        "  #print(ANSWER_LIST)\n",
        "\n",
        "ANSWER_LIST.append(A_LIST[-1])\n",
        "\n",
        "print(*ANSWER_LIST)"
      ],
      "metadata": {
        "id": "8ogUs7fhEDZL"
      },
      "execution_count": null,
      "outputs": []
    },
    {
      "cell_type": "code",
      "source": [
        "for i in range(1,3):\n",
        "  print(i)"
      ],
      "metadata": {
        "colab": {
          "base_uri": "https://localhost:8080/"
        },
        "id": "7bIU8k9wGYNk",
        "outputId": "79c8b867-565b-4fe5-a29a-ae8c9efccbce"
      },
      "execution_count": null,
      "outputs": [
        {
          "output_type": "stream",
          "name": "stdout",
          "text": [
            "1\n",
            "2\n"
          ]
        }
      ]
    }
  ]
}