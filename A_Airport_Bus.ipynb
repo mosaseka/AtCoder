{
  "nbformat": 4,
  "nbformat_minor": 0,
  "metadata": {
    "colab": {
      "provenance": [],
      "authorship_tag": "ABX9TyOnDgwoHh9j/Epdu6He0zXU",
      "include_colab_link": true
    },
    "kernelspec": {
      "name": "python3",
      "display_name": "Python 3"
    },
    "language_info": {
      "name": "python"
    }
  },
  "cells": [
    {
      "cell_type": "markdown",
      "metadata": {
        "id": "view-in-github",
        "colab_type": "text"
      },
      "source": [
        "<a href=\"https://colab.research.google.com/github/mosaseka/AtCoder/blob/main/A_Airport_Bus.ipynb\" target=\"_parent\"><img src=\"https://colab.research.google.com/assets/colab-badge.svg\" alt=\"Open In Colab\"/></a>"
      ]
    },
    {
      "cell_type": "code",
      "execution_count": null,
      "metadata": {
        "colab": {
          "base_uri": "https://localhost:8080/"
        },
        "id": "Arkpz6xt58UB",
        "outputId": "d891ffd5-8250-4d0c-c662-fc7e680bb866"
      },
      "outputs": [
        {
          "output_type": "stream",
          "name": "stdout",
          "text": [
            "5 110 100\n",
            "3456789\n",
            "1234\n",
            "9876543\n",
            "34567\n",
            "2348\n",
            "5\n"
          ]
        }
      ],
      "source": [
        "from collections import deque\n",
        "\n",
        "N,C,K = map(int,input().split())\n",
        "T_LIST = [int(input()) for i in range(N)]\n",
        "WAITING_DEQUE = deque()\n",
        "ANSWER = 0\n",
        "TIME = 0\n",
        "\n",
        "T_LIST.sort()\n",
        "\n",
        "for i in range(N):\n",
        "  if i == 0:\n",
        "    WAITING_DEQUE.append(T_LIST[i])\n",
        "    continue\n",
        "  else:\n",
        "    TIME = min(WAITING_DEQUE)\n",
        "    if abs(T_LIST[i] - TIME) >= K:\n",
        "      ANSWER += 1\n",
        "      WAITING_DEQUE.clear()\n",
        "      WAITING_DEQUE.append(T_LIST[i])\n",
        "    elif len(WAITING_DEQUE) == C:\n",
        "      ANSWER += 1\n",
        "      WAITING_DEQUE.clear()\n",
        "      WAITING_DEQUE.append(T_LIST[i])\n",
        "    else:\n",
        "      WAITING_DEQUE.append(T_LIST[i])\n",
        "\n",
        "if len(WAITING_DEQUE) != 0:\n",
        "  ANSWER += 1\n",
        "\n",
        "print(ANSWER)"
      ]
    },
    {
      "cell_type": "code",
      "source": [
        "N,C,K = map(int,input().split())\n",
        "T_LIST = [int(input()) for i in range(N)]\n",
        "WAITING = 0\n",
        "ANSWER = 0\n",
        "TIME = 0\n",
        "\n",
        "T_LIST.sort()\n",
        "WAITING += C\n",
        "\n",
        "for i in range(N):\n",
        "  if abs(T_LIST[i] - TIME) > K or WAITING == C:\n",
        "    ANSWER += 1\n",
        "    TIME = T_LIST[i]\n",
        "    WAITING = 1\n",
        "  else:\n",
        "    WAITING += 1\n",
        "\n",
        "print(ANSWER)"
      ],
      "metadata": {
        "id": "EI7MLR_KuaZY"
      },
      "execution_count": null,
      "outputs": []
    }
  ]
}