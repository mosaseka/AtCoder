{
  "nbformat": 4,
  "nbformat_minor": 0,
  "metadata": {
    "colab": {
      "provenance": [],
      "authorship_tag": "ABX9TyMsAcde1NGtTJrmdpBePlmp",
      "include_colab_link": true
    },
    "kernelspec": {
      "name": "python3",
      "display_name": "Python 3"
    },
    "language_info": {
      "name": "python"
    }
  },
  "cells": [
    {
      "cell_type": "markdown",
      "metadata": {
        "id": "view-in-github",
        "colab_type": "text"
      },
      "source": [
        "<a href=\"https://colab.research.google.com/github/mosaseka/AtCoder/blob/main/A_First_Player.ipynb\" target=\"_parent\"><img src=\"https://colab.research.google.com/assets/colab-badge.svg\" alt=\"Open In Colab\"/></a>"
      ]
    },
    {
      "cell_type": "code",
      "execution_count": null,
      "metadata": {
        "id": "MvBm6zattGK6"
      },
      "outputs": [],
      "source": [
        "N = int(input())\n",
        "SA_LIST = [list(map(str,input().split())) for i in range(N)]\n",
        "INDEX = 0\n",
        "ANSWER_LIST = []\n",
        "CHECK_LIST = []\n",
        "MIN = 10**10\n",
        "\n",
        "for i in range(N):\n",
        "  SA_LIST[i][1] = int(SA_LIST[i][1])\n",
        "  if SA_LIST[i][1] < MIN:\n",
        "    INDEX = i\n",
        "    MIN = SA_LIST[i][1]\n",
        "\n",
        "ANSWER_LIST = SA_LIST[INDEX:] + SA_LIST[0:INDEX]\n",
        "\n",
        "#print(ANSWER_LIST)\n",
        "\n",
        "for i in range(N):\n",
        "  print(ANSWER_LIST[i][0])"
      ]
    }
  ]
}