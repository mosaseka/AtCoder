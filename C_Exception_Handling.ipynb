{
  "nbformat": 4,
  "nbformat_minor": 0,
  "metadata": {
    "colab": {
      "provenance": [],
      "authorship_tag": "ABX9TyPP91uZC12f9rNBIAPM7bZD",
      "include_colab_link": true
    },
    "kernelspec": {
      "name": "python3",
      "display_name": "Python 3"
    },
    "language_info": {
      "name": "python"
    }
  },
  "cells": [
    {
      "cell_type": "markdown",
      "metadata": {
        "id": "view-in-github",
        "colab_type": "text"
      },
      "source": [
        "<a href=\"https://colab.research.google.com/github/mosaseka/AtCoder/blob/main/C_Exception_Handling.ipynb\" target=\"_parent\"><img src=\"https://colab.research.google.com/assets/colab-badge.svg\" alt=\"Open In Colab\"/></a>"
      ]
    },
    {
      "cell_type": "code",
      "execution_count": null,
      "metadata": {
        "colab": {
          "base_uri": "https://localhost:8080/"
        },
        "id": "r_aMshL3Vsxt",
        "outputId": "845001d0-23ae-4214-d7ff-78c0297b1b50"
      },
      "outputs": [
        {
          "output_type": "stream",
          "name": "stdout",
          "text": [
            "2\n",
            "5\n",
            "5\n",
            "5\n",
            "5\n"
          ]
        }
      ],
      "source": [
        "N = int(input())\n",
        "A_LIST = []\n",
        "\n",
        "for i in range(N):\n",
        "  A_LIST.append(int(input()))\n",
        "\n",
        "for i in range(N):\n",
        "  if A_LIST[i] != max(A_LIST):\n",
        "    print(max(A_LIST))\n",
        "  elif len((sorted(set(A_LIST)))) == 1:\n",
        "    print(max(A_LIST))\n",
        "  else:\n",
        "    print(sorted(set(A_LIST))[-2])"
      ]
    },
    {
      "cell_type": "code",
      "source": [
        "N = int(input())\n",
        "A_LIST = []\n",
        "SORT_LIST = []\n",
        "\n",
        "for i in range(N):\n",
        "  A_LIST.append(int(input()))\n",
        "\n",
        "SORT_LIST = sorted(A_LIST)\n",
        "\n",
        "for i in range(N):\n",
        "  if A_LIST[i] != SORT_LIST[-1]:\n",
        "    print(SORT_LIST[-1])\n",
        "  else:\n",
        "    print(SORT_LIST[-2])"
      ],
      "metadata": {
        "colab": {
          "base_uri": "https://localhost:8080/"
        },
        "id": "jg7bp6qm35dg",
        "outputId": "75cefe3a-0de8-4a1f-dc82-ef9110a622b3"
      },
      "execution_count": null,
      "outputs": [
        {
          "output_type": "stream",
          "name": "stdout",
          "text": [
            "2\n",
            "5\n",
            "5\n",
            "5\n",
            "5\n"
          ]
        }
      ]
    }
  ]
}