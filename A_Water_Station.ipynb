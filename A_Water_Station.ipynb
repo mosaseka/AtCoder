{
  "nbformat": 4,
  "nbformat_minor": 0,
  "metadata": {
    "colab": {
      "provenance": [],
      "authorship_tag": "ABX9TyP63TiV4+JduyUSoiqShTiD",
      "include_colab_link": true
    },
    "kernelspec": {
      "name": "python3",
      "display_name": "Python 3"
    },
    "language_info": {
      "name": "python"
    }
  },
  "cells": [
    {
      "cell_type": "markdown",
      "metadata": {
        "id": "view-in-github",
        "colab_type": "text"
      },
      "source": [
        "<a href=\"https://colab.research.google.com/github/mosaseka/AtCoder/blob/main/A_Water_Station.ipynb\" target=\"_parent\"><img src=\"https://colab.research.google.com/assets/colab-badge.svg\" alt=\"Open In Colab\"/></a>"
      ]
    },
    {
      "cell_type": "code",
      "execution_count": null,
      "metadata": {
        "id": "D0j17G-icnGo"
      },
      "outputs": [],
      "source": [
        "N = int(input())\n",
        "COUNT = 0\n",
        "ANSWER_LIST = []\n",
        "\n",
        "while True:\n",
        "  if (N+COUNT) % 5 == 0:\n",
        "    ANSWER_LIST.append(COUNT)\n",
        "    break\n",
        "  else:\n",
        "    COUNT += 1\n",
        "\n",
        "while True:\n",
        "  if (N-COUNT) % 5 == 0:\n",
        "    ANSWER_LIST.append(COUNT)\n",
        "    break\n",
        "  else:\n",
        "    COUNT -= 1\n",
        "\n",
        "if ANSWER_LIST[0] < ANSWER_LIST[1]:\n",
        "  print(N+ANSWER_LIST[0])\n",
        "else:\n",
        "  print(N-ANSWER_LIST[1])"
      ]
    }
  ]
}