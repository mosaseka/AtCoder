{
  "nbformat": 4,
  "nbformat_minor": 0,
  "metadata": {
    "colab": {
      "provenance": [],
      "authorship_tag": "ABX9TyNALo1ZDlzDh1d9bqxrl2P6",
      "include_colab_link": true
    },
    "kernelspec": {
      "name": "python3",
      "display_name": "Python 3"
    },
    "language_info": {
      "name": "python"
    }
  },
  "cells": [
    {
      "cell_type": "markdown",
      "metadata": {
        "id": "view-in-github",
        "colab_type": "text"
      },
      "source": [
        "<a href=\"https://colab.research.google.com/github/mosaseka/AtCoder/blob/main/B_Count_Balls.ipynb\" target=\"_parent\"><img src=\"https://colab.research.google.com/assets/colab-badge.svg\" alt=\"Open In Colab\"/></a>"
      ]
    },
    {
      "cell_type": "code",
      "source": [
        "N,A,B = map(int,input().split())\n",
        "BLUE_COUNT = 0\n",
        "RED_COUNT = 0\n",
        "\n",
        "while BLUE_COUNT + RED_COUNT < N:\n",
        "  for i in range(A):\n",
        "    if BLUE_COUNT + RED_COUNT == N:\n",
        "      break\n",
        "    else:\n",
        "      BLUE_COUNT += 1\n",
        "  for i in range(B):\n",
        "    if BLUE_COUNT + RED_COUNT == N:\n",
        "      break\n",
        "    else:\n",
        "      RED_COUNT += 1\n",
        "\n",
        "print(BLUE_COUNT)"
      ],
      "metadata": {
        "colab": {
          "base_uri": "https://localhost:8080/"
        },
        "id": "1i0hNgGJ90Xx",
        "outputId": "bfe03c3c-6257-436c-e0af-e3924d99eb91"
      },
      "execution_count": null,
      "outputs": [
        {
          "output_type": "stream",
          "name": "stdout",
          "text": [
            "6 2 4\n",
            "2\n"
          ]
        }
      ]
    },
    {
      "cell_type": "code",
      "source": [
        "N,A,B = map(int,input().split())\n",
        "COUNT = 0\n",
        "MOD = 0\n",
        "\n",
        "MOD += N % (A+B)\n",
        "COUNT += N // (A+B) * A\n",
        "COUNT += min(MOD,A)\n",
        "\n",
        "print(COUNT)"
      ],
      "metadata": {
        "colab": {
          "base_uri": "https://localhost:8080/"
        },
        "id": "qomKPm4vA9uF",
        "outputId": "da4267f6-405b-4428-8739-98a0f338b0ce"
      },
      "execution_count": null,
      "outputs": [
        {
          "output_type": "stream",
          "name": "stdout",
          "text": [
            "6 2 4\n",
            "2\n"
          ]
        }
      ]
    }
  ]
}