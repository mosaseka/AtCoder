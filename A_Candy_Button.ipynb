{
  "nbformat": 4,
  "nbformat_minor": 0,
  "metadata": {
    "colab": {
      "provenance": [],
      "authorship_tag": "ABX9TyMNkqkc54uMGmBTwW3g0COb",
      "include_colab_link": true
    },
    "kernelspec": {
      "name": "python3",
      "display_name": "Python 3"
    },
    "language_info": {
      "name": "python"
    }
  },
  "cells": [
    {
      "cell_type": "markdown",
      "metadata": {
        "id": "view-in-github",
        "colab_type": "text"
      },
      "source": [
        "<a href=\"https://colab.research.google.com/github/mosaseka/AtCoder/blob/main/A_Candy_Button.ipynb\" target=\"_parent\"><img src=\"https://colab.research.google.com/assets/colab-badge.svg\" alt=\"Open In Colab\"/></a>"
      ]
    },
    {
      "cell_type": "code",
      "execution_count": null,
      "metadata": {
        "id": "yX-0NlEjUix-"
      },
      "outputs": [],
      "source": [
        "N,C = map(int,input().split())\n",
        "T_LIST = list(map(int,input().split()))\n",
        "COUNT = 0\n",
        "INDEX = 0\n",
        "\n",
        "for i in range(N):\n",
        "  if i == 0:\n",
        "    COUNT += 1\n",
        "    INDEX = i\n",
        "  else:\n",
        "    if T_LIST[i] - T_LIST[INDEX] >= C:\n",
        "      COUNT += 1\n",
        "      INDEX = i\n",
        "\n",
        "print(COUNT)"
      ]
    }
  ]
}