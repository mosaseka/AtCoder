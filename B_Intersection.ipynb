{
  "nbformat": 4,
  "nbformat_minor": 0,
  "metadata": {
    "colab": {
      "provenance": [],
      "authorship_tag": "ABX9TyOhq7UcySnF/t+glUtYVjPl",
      "include_colab_link": true
    },
    "kernelspec": {
      "name": "python3",
      "display_name": "Python 3"
    },
    "language_info": {
      "name": "python"
    }
  },
  "cells": [
    {
      "cell_type": "markdown",
      "metadata": {
        "id": "view-in-github",
        "colab_type": "text"
      },
      "source": [
        "<a href=\"https://colab.research.google.com/github/mosaseka/AtCoder/blob/main/B_Intersection.ipynb\" target=\"_parent\"><img src=\"https://colab.research.google.com/assets/colab-badge.svg\" alt=\"Open In Colab\"/></a>"
      ]
    },
    {
      "cell_type": "code",
      "execution_count": null,
      "metadata": {
        "id": "ogTRP9Y9pidM"
      },
      "outputs": [],
      "source": [
        "N = int(input())\n",
        "A_LIST = list(map(int,input().split()))\n",
        "B_LIST = list(map(int,input().split()))\n",
        "FLAG = True\n",
        "ANSWER = 0\n",
        "\n",
        "for i in range(1,1001):\n",
        "  FLAG = True\n",
        "  for j in range(N):\n",
        "    if i < A_LIST[j] or i > B_LIST[j]:\n",
        "      FLAG = False\n",
        "  if FLAG:\n",
        "    ANSWER += 1\n",
        "\n",
        "print(ANSWER)"
      ]
    }
  ]
}