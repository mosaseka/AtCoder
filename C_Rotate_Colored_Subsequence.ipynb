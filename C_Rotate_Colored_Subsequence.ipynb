{
  "nbformat": 4,
  "nbformat_minor": 0,
  "metadata": {
    "colab": {
      "provenance": [],
      "authorship_tag": "ABX9TyO03lLlPpdiRr3KmR0tDjxu",
      "include_colab_link": true
    },
    "kernelspec": {
      "name": "python3",
      "display_name": "Python 3"
    },
    "language_info": {
      "name": "python"
    }
  },
  "cells": [
    {
      "cell_type": "markdown",
      "metadata": {
        "id": "view-in-github",
        "colab_type": "text"
      },
      "source": [
        "<a href=\"https://colab.research.google.com/github/mosaseka/AtCoder/blob/main/C_Rotate_Colored_Subsequence.ipynb\" target=\"_parent\"><img src=\"https://colab.research.google.com/assets/colab-badge.svg\" alt=\"Open In Colab\"/></a>"
      ]
    },
    {
      "cell_type": "code",
      "execution_count": null,
      "metadata": {
        "id": "eQ99iDo181rt"
      },
      "outputs": [],
      "source": [
        "from collections import deque\n",
        "\n",
        "N,M = map(int,input().split())\n",
        "S = str(input())\n",
        "C_LIST = list(map(int,input().split()))\n",
        "CHECK = [deque() for i in range(M)]\n",
        "ANSWER = \"\"\n",
        "\n",
        "for i in range(N):\n",
        "  CHECK[C_LIST[i]-1].append(S[i])\n",
        "#print(CHECK)\n",
        "\n",
        "for i in range(M):\n",
        "  CHECK[i].rotate(1)\n",
        "#print(CHECK)\n",
        "\n",
        "for i in range(N):\n",
        "  ANSWER += CHECK[C_LIST[i]-1].popleft()\n",
        "\n",
        "print(ANSWER)"
      ]
    }
  ]
}