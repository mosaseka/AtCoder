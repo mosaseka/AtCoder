{
  "nbformat": 4,
  "nbformat_minor": 0,
  "metadata": {
    "colab": {
      "provenance": [],
      "authorship_tag": "ABX9TyNky77iIaL/zHIEix9AYGp2",
      "include_colab_link": true
    },
    "kernelspec": {
      "name": "python3",
      "display_name": "Python 3"
    },
    "language_info": {
      "name": "python"
    }
  },
  "cells": [
    {
      "cell_type": "markdown",
      "metadata": {
        "id": "view-in-github",
        "colab_type": "text"
      },
      "source": [
        "<a href=\"https://colab.research.google.com/github/mosaseka/AtCoder/blob/main/C_Guess_The_Number.ipynb\" target=\"_parent\"><img src=\"https://colab.research.google.com/assets/colab-badge.svg\" alt=\"Open In Colab\"/></a>"
      ]
    },
    {
      "cell_type": "code",
      "execution_count": null,
      "metadata": {
        "colab": {
          "base_uri": "https://localhost:8080/"
        },
        "id": "0MTXG1-3BgYi",
        "outputId": "458098e0-ef83-4f1c-af4c-69cf77ad2ed7"
      },
      "outputs": [
        {
          "output_type": "stream",
          "name": "stdout",
          "text": [
            "2 1\n",
            "2 4\n",
            "14\n"
          ]
        }
      ],
      "source": [
        "N,M = map(int,input().split())\n",
        "ANSWER_LIST = [0 for i in range(N)]\n",
        "S = 0\n",
        "C = 0\n",
        "ANSWER = \"\"\n",
        "\n",
        "for i in range(M):\n",
        "  S,C = map(int,input().split())\n",
        "  #print(S,C)\n",
        "  if S == 1 and C == 0 and M == 1:\n",
        "    print(-1)\n",
        "    exit()\n",
        "  elif ANSWER_LIST[S-1] != 0 and ANSWER_LIST[S-1] != C:\n",
        "    print(-1)\n",
        "    exit()\n",
        "  else:\n",
        "    ANSWER_LIST[S-1] = C\n",
        "\n",
        "if ANSWER_LIST[0] == 0:\n",
        "  ANSWER_LIST[0] += 1\n",
        "\n",
        "for i in range(N):\n",
        "  ANSWER += str(ANSWER_LIST[i])\n",
        "\n",
        "print(int(ANSWER))"
      ]
    },
    {
      "cell_type": "code",
      "source": [
        "def digit(i, lst=[]):\n",
        "    if i > 0:\n",
        "        lst.append(i%10)\n",
        "        return digit(i//10, lst)\n",
        "    else:\n",
        "        lst.reverse()\n",
        "        return lst\n",
        "\n",
        "N,M = map(int,input().split())\n",
        "NUM_LIST = [list(set(map(int,input().split()))) for i in range(M)]\n",
        "ANSWER = 1\n",
        "CHECK_LIST = []\n",
        "FLAG = True\n",
        "\n",
        "while ANSWER < 1000:\n",
        "  CHECK_LIST = digit(ANSWER)\n",
        "  if len(CHECK_LIST) == 1:\n",
        "    CHECK_LIST = [0,0,ANSWER]\n",
        "  elif len(CHECK_LIST) == 2:\n",
        "    CHECK_LIST = [0,ANSWER//10,ANSWER%10]\n",
        "  #print(CHECK_LIST)\n",
        "  for i in range(len(NUM_LIST)):\n",
        "    if CHECK_LIST[NUM_LIST[i][0]-1] != NUM_LIST[i][1]:\n",
        "      FLAG = False\n",
        "      break\n",
        "  if FLAG:\n",
        "    print(ANSWER)\n",
        "    exit()\n",
        "  else:\n",
        "    ANSWER += 1\n",
        "    FLAG = True"
      ],
      "metadata": {
        "id": "GwDqxnubvuGn"
      },
      "execution_count": null,
      "outputs": []
    },
    {
      "cell_type": "code",
      "source": [
        "N,M = map(int,input().split())\n",
        "NUM_LIST = [list(map(int,input().split())) for i in range(M)]\n",
        "CHECK = \"\"\n",
        "\n",
        "for i in range(10**(N+1)):\n",
        "  CHECK = str(i)\n",
        "  if len(CHECK) == N:\n",
        "    if all(CHECK[NUM_LIST[j][0]-1] == str(NUM_LIST[j][1]) for j in range(M)):\n",
        "      print(i)\n",
        "      exit()\n",
        "\n",
        "print(-1)"
      ],
      "metadata": {
        "id": "E2yJnjcR1ShN"
      },
      "execution_count": null,
      "outputs": []
    }
  ]
}