{
  "nbformat": 4,
  "nbformat_minor": 0,
  "metadata": {
    "colab": {
      "provenance": [],
      "authorship_tag": "ABX9TyPltH4r0XiD4KYzRvGiCiZa",
      "include_colab_link": true
    },
    "kernelspec": {
      "name": "python3",
      "display_name": "Python 3"
    },
    "language_info": {
      "name": "python"
    }
  },
  "cells": [
    {
      "cell_type": "markdown",
      "metadata": {
        "id": "view-in-github",
        "colab_type": "text"
      },
      "source": [
        "<a href=\"https://colab.research.google.com/github/mosaseka/AtCoder/blob/main/B_Go_Straight_and_Turn_Right.ipynb\" target=\"_parent\"><img src=\"https://colab.research.google.com/assets/colab-badge.svg\" alt=\"Open In Colab\"/></a>"
      ]
    },
    {
      "cell_type": "code",
      "execution_count": null,
      "metadata": {
        "id": "ICs8UbIsEnnn"
      },
      "outputs": [],
      "source": [
        "N = int(input())\n",
        "T = str(input())\n",
        "X = 0\n",
        "Y = 0\n",
        "FLAG = 0\n",
        "\n",
        "for i in range(N):\n",
        "  if T[i] == \"S\":\n",
        "    if FLAG%4 == 0:\n",
        "      X += 1\n",
        "    elif FLAG%4 == 1:\n",
        "      Y -= 1\n",
        "    elif FLAG%4 == 2:\n",
        "      X -= 1\n",
        "    elif FLAG%4 == 3:\n",
        "      Y += 1\n",
        "  else:\n",
        "    FLAG += 1\n",
        "\n",
        "print(X,Y)"
      ]
    }
  ]
}