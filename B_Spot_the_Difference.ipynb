{
  "nbformat": 4,
  "nbformat_minor": 0,
  "metadata": {
    "colab": {
      "provenance": [],
      "authorship_tag": "ABX9TyMgd+xBeTlTWm1QtxycQOaI",
      "include_colab_link": true
    },
    "kernelspec": {
      "name": "python3",
      "display_name": "Python 3"
    },
    "language_info": {
      "name": "python"
    }
  },
  "cells": [
    {
      "cell_type": "markdown",
      "metadata": {
        "id": "view-in-github",
        "colab_type": "text"
      },
      "source": [
        "<a href=\"https://colab.research.google.com/github/mosaseka/AtCoder/blob/main/B_Spot_the_Difference.ipynb\" target=\"_parent\"><img src=\"https://colab.research.google.com/assets/colab-badge.svg\" alt=\"Open In Colab\"/></a>"
      ]
    },
    {
      "cell_type": "code",
      "execution_count": null,
      "metadata": {
        "id": "GOIEaNDSdU_S"
      },
      "outputs": [],
      "source": [
        "N = int(input())\n",
        "A = [list(map(str,input())) for i in range(N)]\n",
        "B = [list(map(str,input())) for i in range(N)]\n",
        "#print(A)\n",
        "#print(B)\n",
        "\n",
        "for i in range(N):\n",
        "  for j in range(N):\n",
        "    if A[i][j] != B[i][j]:\n",
        "      print(i+1,j+1)\n",
        "      exit()"
      ]
    }
  ]
}