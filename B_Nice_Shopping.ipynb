{
  "nbformat": 4,
  "nbformat_minor": 0,
  "metadata": {
    "colab": {
      "provenance": [],
      "authorship_tag": "ABX9TyOQvMhpU3cob0EphCFuW7zb",
      "include_colab_link": true
    },
    "kernelspec": {
      "name": "python3",
      "display_name": "Python 3"
    },
    "language_info": {
      "name": "python"
    }
  },
  "cells": [
    {
      "cell_type": "markdown",
      "metadata": {
        "id": "view-in-github",
        "colab_type": "text"
      },
      "source": [
        "<a href=\"https://colab.research.google.com/github/mosaseka/AtCoder/blob/main/B_Nice_Shopping.ipynb\" target=\"_parent\"><img src=\"https://colab.research.google.com/assets/colab-badge.svg\" alt=\"Open In Colab\"/></a>"
      ]
    },
    {
      "cell_type": "code",
      "execution_count": null,
      "metadata": {
        "colab": {
          "base_uri": "https://localhost:8080/"
        },
        "id": "0zHkNm5pmXaJ",
        "outputId": "795edd7f-d2e8-48f1-d7b3-ee2e2f38b3f0"
      },
      "outputs": [
        {
          "output_type": "stream",
          "name": "stdout",
          "text": [
            "2 2 1\n",
            "3 5\n",
            "3 5\n",
            "2 2 2\n",
            "6\n"
          ]
        }
      ],
      "source": [
        "A,B,M = map(int,input().split())\n",
        "A_LIST = list(map(int,input().split()))\n",
        "B_LIST = list(map(int,input().split()))\n",
        "DISCOUNT_VECTOR = []\n",
        "COST_LIST = []\n",
        "\n",
        "for i in range(M):\n",
        "  DISCOUNT_VECTOR.append(list(map(int,input().split())))\n",
        "\n",
        "COST_LIST.append(min(A_LIST) + min(B_LIST))\n",
        "\n",
        "for i in range(M):\n",
        "  X,Y,C = DISCOUNT_VECTOR[i][0],DISCOUNT_VECTOR[i][1],DISCOUNT_VECTOR[i][2]\n",
        "  COST_LIST.append(A_LIST[X-1] + B_LIST[Y-1] - C)\n",
        "\n",
        "print(min(COST_LIST))"
      ]
    }
  ]
}