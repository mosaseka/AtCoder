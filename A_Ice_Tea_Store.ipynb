{
  "nbformat": 4,
  "nbformat_minor": 0,
  "metadata": {
    "colab": {
      "provenance": [],
      "authorship_tag": "ABX9TyObQqTJEdkZOKM9Dz5hD1wQ",
      "include_colab_link": true
    },
    "kernelspec": {
      "name": "python3",
      "display_name": "Python 3"
    },
    "language_info": {
      "name": "python"
    }
  },
  "cells": [
    {
      "cell_type": "markdown",
      "metadata": {
        "id": "view-in-github",
        "colab_type": "text"
      },
      "source": [
        "<a href=\"https://colab.research.google.com/github/mosaseka/AtCoder/blob/main/A_Ice_Tea_Store.ipynb\" target=\"_parent\"><img src=\"https://colab.research.google.com/assets/colab-badge.svg\" alt=\"Open In Colab\"/></a>"
      ]
    },
    {
      "cell_type": "code",
      "execution_count": null,
      "metadata": {
        "colab": {
          "base_uri": "https://localhost:8080/"
        },
        "id": "GZRRLQ0skOQ-",
        "outputId": "ebdeb925-35fe-4412-e7f4-824d86679a2e"
      },
      "outputs": [
        {
          "output_type": "stream",
          "name": "stdout",
          "text": [
            "12345678 87654321 12345678 87654321\n",
            "123456789\n",
            "[[24691356, 2], [12345678, 1]]\n",
            "1524157763907942\n"
          ]
        }
      ],
      "source": [
        "Q,H,S,D = map(int,input().split())\n",
        "N = int(input())\n",
        "VALUE_LIST = []\n",
        "ANSWER = 0\n",
        "\n",
        "H = min(2*Q,H)\n",
        "S = min(2*H,S)\n",
        "D = min(2*S,D)\n",
        "VALUE_LIST = [[S,1],[D,2]]\n",
        "VALUE_LIST.sort(reverse=True)\n",
        "\n",
        "#print(VALUE_LIST)\n",
        "\n",
        "for i in range(2):\n",
        "  while True:\n",
        "    if N >= VALUE_LIST[i][1]:\n",
        "      ANSWER += VALUE_LIST[i][0]\n",
        "      N -= VALUE_LIST[i][1]\n",
        "    else:\n",
        "      break\n",
        "\n",
        "print(ANSWER)"
      ]
    },
    {
      "cell_type": "code",
      "source": [
        "Q,H,S,D = map(int,input().split())\n",
        "N = int(input())\n",
        "VALUE_LIST = []\n",
        "ANSWER = 0\n",
        "\n",
        "H = min(2*Q,H)\n",
        "S = min(2*H,S)\n",
        "D = min(2*S,D)\n",
        "VALUE_LIST = [[S,1],[D,2]]\n",
        "\n",
        "#print(VALUE_LIST)\n",
        "\n",
        "ANSWER = (N//2 * D) + (N % 2 * S)\n",
        "\n",
        "print(ANSWER)"
      ],
      "metadata": {
        "colab": {
          "base_uri": "https://localhost:8080/"
        },
        "id": "o9rmQRF6vCr9",
        "outputId": "49a55f27-81ef-48c5-d0db-677ff842c720"
      },
      "execution_count": null,
      "outputs": [
        {
          "output_type": "stream",
          "name": "stdout",
          "text": [
            "12345678 87654321 12345678 87654321\n",
            "123456789\n",
            "1524157763907942\n"
          ]
        }
      ]
    }
  ]
}