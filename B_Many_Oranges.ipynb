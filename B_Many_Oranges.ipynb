{
  "nbformat": 4,
  "nbformat_minor": 0,
  "metadata": {
    "colab": {
      "provenance": [],
      "authorship_tag": "ABX9TyP7ZfG9WTqlNoPg4jEJyHzm",
      "include_colab_link": true
    },
    "kernelspec": {
      "name": "python3",
      "display_name": "Python 3"
    },
    "language_info": {
      "name": "python"
    }
  },
  "cells": [
    {
      "cell_type": "markdown",
      "metadata": {
        "id": "view-in-github",
        "colab_type": "text"
      },
      "source": [
        "<a href=\"https://colab.research.google.com/github/mosaseka/AtCoder/blob/main/B_Many_Oranges.ipynb\" target=\"_parent\"><img src=\"https://colab.research.google.com/assets/colab-badge.svg\" alt=\"Open In Colab\"/></a>"
      ]
    },
    {
      "cell_type": "code",
      "execution_count": null,
      "metadata": {
        "colab": {
          "base_uri": "https://localhost:8080/"
        },
        "id": "d-FLFbAICFSF",
        "outputId": "69d161bc-94dd-477f-b461-f102d557eaca"
      },
      "outputs": [
        {
          "output_type": "stream",
          "name": "stdout",
          "text": [
            "100 200 2\n",
            "10 20\n"
          ]
        }
      ],
      "source": [
        "import math\n",
        "\n",
        "A,B,W = map(int,input().split())\n",
        "MIN = 0\n",
        "MAX = 0\n",
        "\n",
        "MIN = math.ceil(W * 1000 / B)\n",
        "MAX = math.floor(W * 1000 / A)\n",
        "\n",
        "if MIN > MAX:\n",
        "  print(\"UNSATISFIABLE\")\n",
        "else:\n",
        "  print(MIN,MAX)"
      ]
    }
  ]
}