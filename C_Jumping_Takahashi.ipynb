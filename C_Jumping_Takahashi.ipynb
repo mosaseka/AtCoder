{
  "nbformat": 4,
  "nbformat_minor": 0,
  "metadata": {
    "colab": {
      "provenance": [],
      "authorship_tag": "ABX9TyMlNL9rUtwXkjbaSdW52w+V",
      "include_colab_link": true
    },
    "kernelspec": {
      "name": "python3",
      "display_name": "Python 3"
    },
    "language_info": {
      "name": "python"
    }
  },
  "cells": [
    {
      "cell_type": "markdown",
      "metadata": {
        "id": "view-in-github",
        "colab_type": "text"
      },
      "source": [
        "<a href=\"https://colab.research.google.com/github/mosaseka/AtCoder/blob/main/C_Jumping_Takahashi.ipynb\" target=\"_parent\"><img src=\"https://colab.research.google.com/assets/colab-badge.svg\" alt=\"Open In Colab\"/></a>"
      ]
    },
    {
      "cell_type": "code",
      "execution_count": null,
      "metadata": {
        "id": "gyBblu3Rw12b"
      },
      "outputs": [],
      "source": [
        "N,X = map(int,input().split())\n",
        "AB_LIST = [list(map(int,input().split())) for i in range(N)]\n",
        "SET = set()\n",
        "CHECK = set()\n",
        "\n",
        "SET.add(0)\n",
        "\n",
        "for i in range(N):\n",
        "  CHECK = set()\n",
        "  for j in SET:\n",
        "    CHECK.add(j + AB_LIST[i][0])\n",
        "    CHECK.add(j + AB_LIST[i][1])\n",
        "    SET = CHECK\n",
        "\n",
        "if X in CHECK:\n",
        "  print(\"Yes\")\n",
        "else:\n",
        "  print(\"No\")"
      ]
    }
  ]
}