{
  "nbformat": 4,
  "nbformat_minor": 0,
  "metadata": {
    "colab": {
      "provenance": [],
      "authorship_tag": "ABX9TyNph/DROkzyM6vmmitsMjjT",
      "include_colab_link": true
    },
    "kernelspec": {
      "name": "python3",
      "display_name": "Python 3"
    },
    "language_info": {
      "name": "python"
    }
  },
  "cells": [
    {
      "cell_type": "markdown",
      "metadata": {
        "id": "view-in-github",
        "colab_type": "text"
      },
      "source": [
        "<a href=\"https://colab.research.google.com/github/mosaseka/AtCoder/blob/main/B_Batters.ipynb\" target=\"_parent\"><img src=\"https://colab.research.google.com/assets/colab-badge.svg\" alt=\"Open In Colab\"/></a>"
      ]
    },
    {
      "cell_type": "code",
      "execution_count": null,
      "metadata": {
        "id": "GcXWZhH_F4pq"
      },
      "outputs": [],
      "source": [
        "N = int(input())\n",
        "A_LIST = list(map(int,input().split()))\n",
        "FIELD = []\n",
        "POINT = 0\n",
        "\n",
        "for i in range(N):\n",
        "  FIELD = [0] + FIELD\n",
        "  #print(FIELD)\n",
        "  FIELD = list(map(lambda x: x+A_LIST[i],FIELD))\n",
        "\n",
        "for i in range(len(FIELD)):\n",
        "  if FIELD[i] >= 4:\n",
        "    POINT += 1\n",
        "\n",
        "print(POINT)"
      ]
    }
  ]
}