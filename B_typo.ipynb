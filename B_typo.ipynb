{
  "nbformat": 4,
  "nbformat_minor": 0,
  "metadata": {
    "colab": {
      "provenance": [],
      "authorship_tag": "ABX9TyNvSh/8dli79M4Zsi56pcux",
      "include_colab_link": true
    },
    "kernelspec": {
      "name": "python3",
      "display_name": "Python 3"
    },
    "language_info": {
      "name": "python"
    }
  },
  "cells": [
    {
      "cell_type": "markdown",
      "metadata": {
        "id": "view-in-github",
        "colab_type": "text"
      },
      "source": [
        "<a href=\"https://colab.research.google.com/github/mosaseka/AtCoder/blob/main/B_typo.ipynb\" target=\"_parent\"><img src=\"https://colab.research.google.com/assets/colab-badge.svg\" alt=\"Open In Colab\"/></a>"
      ]
    },
    {
      "cell_type": "code",
      "execution_count": null,
      "metadata": {
        "id": "MTf0n58BQdsS"
      },
      "outputs": [],
      "source": [
        "S = list(map(str,input()))\n",
        "T = list(map(str,input()))\n",
        "\n",
        "if S == T:\n",
        "  print(\"Yes\")\n",
        "  exit()\n",
        "\n",
        "for i in range(len(S)-1):\n",
        "  S[i],S[i+1] = S[i+1],S[i]\n",
        "  if S == T:\n",
        "    print(\"Yes\")\n",
        "    exit()\n",
        "  else:\n",
        "    S[i],S[i+1] = S[i+1],S[i]\n",
        "\n",
        "print(\"No\")"
      ]
    }
  ]
}