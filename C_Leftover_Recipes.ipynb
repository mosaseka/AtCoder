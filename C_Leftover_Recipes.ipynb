{
  "nbformat": 4,
  "nbformat_minor": 0,
  "metadata": {
    "colab": {
      "provenance": [],
      "authorship_tag": "ABX9TyOebrTZTNI+DNE4rxmTDcXn",
      "include_colab_link": true
    },
    "kernelspec": {
      "name": "python3",
      "display_name": "Python 3"
    },
    "language_info": {
      "name": "python"
    }
  },
  "cells": [
    {
      "cell_type": "markdown",
      "metadata": {
        "id": "view-in-github",
        "colab_type": "text"
      },
      "source": [
        "<a href=\"https://colab.research.google.com/github/mosaseka/AtCoder/blob/main/C_Leftover_Recipes.ipynb\" target=\"_parent\"><img src=\"https://colab.research.google.com/assets/colab-badge.svg\" alt=\"Open In Colab\"/></a>"
      ]
    },
    {
      "cell_type": "code",
      "execution_count": null,
      "metadata": {
        "id": "rAKa5a9MZ2Q1"
      },
      "outputs": [],
      "source": [
        "N = int(input())\n",
        "Q_LIST = list(map(int,input().split()))\n",
        "A_LIST = list(map(int,input().split()))\n",
        "B_LIST = list(map(int,input().split()))\n",
        "FLAG = False\n",
        "ANSWER = [0]\n",
        "\n",
        "for i in range(Q_LIST[A_LIST.index(max(A_LIST))] // max(A_LIST)):\n",
        "  for j in range(Q_LIST[B_LIST.index(max(B_LIST))] // max(B_LIST)):\n",
        "    if FLAG:\n",
        "      FLAG = False\n",
        "      break\n",
        "    for k in range(N):\n",
        "      if Q_LIST[k] - (A_LIST[k]*i + B_LIST[k]*j) < 0:\n",
        "        ANSWER.append(i-1 + j-1)\n",
        "        FLAG = True\n",
        "        break\n",
        "\n",
        "print(max(ANSWER))"
      ]
    },
    {
      "cell_type": "code",
      "source": [
        "N = int(input())\n",
        "Q_LIST = list(map(int,input().split()))\n",
        "A_LIST = list(map(int,input().split()))\n",
        "B_LIST = list(map(int,input().split()))\n",
        "ANSWER = 0\n",
        "INF = 10**18\n",
        "X = 0\n",
        "Y = 0\n",
        "\n",
        "for X in range(max(Q_LIST)+1):\n",
        "  Y = 10**18\n",
        "  for i in range(N):\n",
        "    if Q_LIST[i] < A_LIST[i] * X:\n",
        "      Y = -INF\n",
        "    elif B_LIST[i] > 0:\n",
        "      Y = min(Y,(Q_LIST[i] - A_LIST[i]*X) // B_LIST[i])\n",
        "  ANSWER = max(ANSWER,X+Y)\n",
        "\n",
        "print(ANSWER)"
      ],
      "metadata": {
        "id": "4C9cW8fEJzit"
      },
      "execution_count": null,
      "outputs": []
    }
  ]
}