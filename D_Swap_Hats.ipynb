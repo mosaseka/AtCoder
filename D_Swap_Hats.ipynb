{
  "nbformat": 4,
  "nbformat_minor": 0,
  "metadata": {
    "colab": {
      "provenance": [],
      "authorship_tag": "ABX9TyOJyivIjkqbDMC8ZDPRpSgY",
      "include_colab_link": true
    },
    "kernelspec": {
      "name": "python3",
      "display_name": "Python 3"
    },
    "language_info": {
      "name": "python"
    }
  },
  "cells": [
    {
      "cell_type": "markdown",
      "metadata": {
        "id": "view-in-github",
        "colab_type": "text"
      },
      "source": [
        "<a href=\"https://colab.research.google.com/github/mosaseka/AtCoder/blob/main/D_Swap_Hats.ipynb\" target=\"_parent\"><img src=\"https://colab.research.google.com/assets/colab-badge.svg\" alt=\"Open In Colab\"/></a>"
      ]
    },
    {
      "cell_type": "code",
      "execution_count": null,
      "metadata": {
        "id": "98HZteHZI-Cw"
      },
      "outputs": [],
      "source": [
        "S_LIST = list(map(str,input().split()))\n",
        "T_LIST = list(map(str,input().split()))\n",
        "COUNT = 0\n",
        "\n",
        "for i in range(3):\n",
        "  if S_LIST[i] != T_LIST[i]:\n",
        "    COUNT += 1\n",
        "\n",
        "if COUNT%2 == 0:\n",
        "  print(\"Yes\")\n",
        "else:\n",
        "  print(\"No\")"
      ]
    },
    {
      "cell_type": "code",
      "source": [
        "S = str(input())\n",
        "T = str(input())\n",
        "CHECK = {\"R G B\",\"G B R\",\"B R G\"}\n",
        "\n",
        "if (S in CHECK) == (T in CHECK):\n",
        "  print(\"Yes\")\n",
        "else:\n",
        "  print(\"No\")"
      ],
      "metadata": {
        "id": "z0NfBKqnJm6e"
      },
      "execution_count": null,
      "outputs": []
    }
  ]
}