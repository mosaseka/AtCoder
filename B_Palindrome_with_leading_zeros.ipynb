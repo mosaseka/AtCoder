{
  "nbformat": 4,
  "nbformat_minor": 0,
  "metadata": {
    "colab": {
      "provenance": [],
      "authorship_tag": "ABX9TyPT45RRVamQ9yUPDV1s5ocU",
      "include_colab_link": true
    },
    "kernelspec": {
      "name": "python3",
      "display_name": "Python 3"
    },
    "language_info": {
      "name": "python"
    }
  },
  "cells": [
    {
      "cell_type": "markdown",
      "metadata": {
        "id": "view-in-github",
        "colab_type": "text"
      },
      "source": [
        "<a href=\"https://colab.research.google.com/github/mosaseka/AtCoder/blob/main/B_Palindrome_with_leading_zeros.ipynb\" target=\"_parent\"><img src=\"https://colab.research.google.com/assets/colab-badge.svg\" alt=\"Open In Colab\"/></a>"
      ]
    },
    {
      "cell_type": "code",
      "execution_count": null,
      "metadata": {
        "id": "NQGxsrHrkKe5"
      },
      "outputs": [],
      "source": [
        "N = str(input())\n",
        "\n",
        "if N == N[::-1]:\n",
        "  print(\"Yes\")\n",
        "  exit()\n",
        "\n",
        "N = \"0\" + N\n",
        "\n",
        "if N == N[::-1]:\n",
        "  print(\"Yes\")\n",
        "else:\n",
        "  print(\"No\")"
      ]
    },
    {
      "cell_type": "code",
      "source": [
        "N = str(input())\n",
        "\n",
        "if N == N[::-1]:\n",
        "  print(\"Yes\")\n",
        "  exit()\n",
        "\n",
        "for i in range(10):\n",
        "  N = \"0\" + N\n",
        "  if N == N[::-1]:\n",
        "    print(\"Yes\")\n",
        "    exit()\n",
        "\n",
        "print(\"No\")"
      ],
      "metadata": {
        "id": "8zTTpoEJk_vC"
      },
      "execution_count": null,
      "outputs": []
    }
  ]
}