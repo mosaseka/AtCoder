{
  "nbformat": 4,
  "nbformat_minor": 0,
  "metadata": {
    "colab": {
      "provenance": [],
      "authorship_tag": "ABX9TyPnWWanalYZsLgzHGL52c3Q",
      "include_colab_link": true
    },
    "kernelspec": {
      "name": "python3",
      "display_name": "Python 3"
    },
    "language_info": {
      "name": "python"
    }
  },
  "cells": [
    {
      "cell_type": "markdown",
      "metadata": {
        "id": "view-in-github",
        "colab_type": "text"
      },
      "source": [
        "<a href=\"https://colab.research.google.com/github/mosaseka/AtCoder/blob/main/D_Prediction_and_Restriction.ipynb\" target=\"_parent\"><img src=\"https://colab.research.google.com/assets/colab-badge.svg\" alt=\"Open In Colab\"/></a>"
      ]
    },
    {
      "cell_type": "code",
      "execution_count": null,
      "metadata": {
        "id": "tpwWMfzuppJ_"
      },
      "outputs": [],
      "source": [
        "from collections import deque\n",
        "\n",
        "N,K = map(int,input().split())\n",
        "R,S,P = map(int,input().split())\n",
        "T_LIST = list(map(str,input()))\n",
        "ANSWER = 0\n",
        "PLAN = \"\"\n",
        "PLAN_POINT = 0\n",
        "CHECK_DEQ = deque()\n",
        "\n",
        "for i in range(N):\n",
        "  if i+1 <= K:\n",
        "    if T_LIST[i] == \"r\":\n",
        "      ANSWER += P\n",
        "      CHECK_DEQ.append(\"p\")\n",
        "    elif T_LIST[i] == \"s\":\n",
        "      ANSWER += R\n",
        "      CHECK_DEQ.append(\"r\")\n",
        "    elif T_LIST[i] == \"p\":\n",
        "      ANSWER += S\n",
        "      CHECK_DEQ.append(\"s\")\n",
        "  else:\n",
        "    if T_LIST[i] == \"r\":\n",
        "      PLAN = \"p\"\n",
        "      PLAN_POINT = P\n",
        "    elif T_LIST[i] == \"s\":\n",
        "      PLAN = \"r\"\n",
        "      PLAN_POINT = R\n",
        "    elif T_LIST[i] == \"p\":\n",
        "      PLAN = \"s\"\n",
        "      PLAN_POINT = S\n",
        "    if PLAN != CHECK_DEQ[i-K]:\n",
        "      ANSWER += PLAN_POINT\n",
        "      CHECK_DEQ.append(PLAN)\n",
        "    else:\n",
        "      CHECK_DEQ.append(\"X\")\n",
        "  #print(ANSWER)\n",
        "  #print(CHECK_DEQ)\n",
        "\n",
        "print(ANSWER)"
      ]
    }
  ]
}