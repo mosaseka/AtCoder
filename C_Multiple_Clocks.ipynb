{
  "nbformat": 4,
  "nbformat_minor": 0,
  "metadata": {
    "colab": {
      "provenance": [],
      "authorship_tag": "ABX9TyNMUrdj4dN9MqONAG8OyCEi",
      "include_colab_link": true
    },
    "kernelspec": {
      "name": "python3",
      "display_name": "Python 3"
    },
    "language_info": {
      "name": "python"
    }
  },
  "cells": [
    {
      "cell_type": "markdown",
      "metadata": {
        "id": "view-in-github",
        "colab_type": "text"
      },
      "source": [
        "<a href=\"https://colab.research.google.com/github/mosaseka/AtCoder/blob/main/C_Multiple_Clocks.ipynb\" target=\"_parent\"><img src=\"https://colab.research.google.com/assets/colab-badge.svg\" alt=\"Open In Colab\"/></a>"
      ]
    },
    {
      "cell_type": "code",
      "execution_count": null,
      "metadata": {
        "id": "Zgr1ufg7gmsD"
      },
      "outputs": [],
      "source": [
        "import math\n",
        "import functools\n",
        "\n",
        "def my_lcm_base(x, y):\n",
        "    return (x * y) // math.gcd(x, y)\n",
        "\n",
        "def my_lcm(*integers):\n",
        "    return functools.reduce(my_lcm_base, integers)\n",
        "\n",
        "N = int(input())\n",
        "T_LIST = [int(input()) for i in range(N)]\n",
        "\n",
        "print(my_lcm(*T_LIST))"
      ]
    }
  ]
}