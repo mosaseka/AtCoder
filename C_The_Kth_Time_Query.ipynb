{
  "nbformat": 4,
  "nbformat_minor": 0,
  "metadata": {
    "colab": {
      "provenance": [],
      "authorship_tag": "ABX9TyPoY0eDudAF2DNG05eFwjAO",
      "include_colab_link": true
    },
    "kernelspec": {
      "name": "python3",
      "display_name": "Python 3"
    },
    "language_info": {
      "name": "python"
    }
  },
  "cells": [
    {
      "cell_type": "markdown",
      "metadata": {
        "id": "view-in-github",
        "colab_type": "text"
      },
      "source": [
        "<a href=\"https://colab.research.google.com/github/mosaseka/AtCoder/blob/main/C_The_Kth_Time_Query.ipynb\" target=\"_parent\"><img src=\"https://colab.research.google.com/assets/colab-badge.svg\" alt=\"Open In Colab\"/></a>"
      ]
    },
    {
      "cell_type": "code",
      "execution_count": null,
      "metadata": {
        "id": "T5jnt4Td7Tc6"
      },
      "outputs": [],
      "source": [
        "from collections import defaultdict\n",
        "\n",
        "N,Q = map(int,input().split())\n",
        "A_LIST = list(map(int,input().split()))\n",
        "A_CHECK = defaultdict(list)\n",
        "X = 0\n",
        "K = 0\n",
        "\n",
        "for i in range(N):\n",
        "  A_CHECK[A_LIST[i]].append(i+1)\n",
        "\n",
        "for i in range(Q):\n",
        "  X,K = map(int,input().split())\n",
        "  if len(A_CHECK[X]) < K:\n",
        "    print(-1)\n",
        "  else:\n",
        "    print(A_CHECK[X][K-1])"
      ]
    },
    {
      "cell_type": "code",
      "source": [
        "from collections import defaultdict\n",
        "\n",
        "N,Q = map(int,input().split())\n",
        "A_LIST = list(map(int,input().split()))\n",
        "A_CHECK = defaultdict(list)\n",
        "X = 0\n",
        "K = 0\n",
        "\n",
        "print(A_CHECK)\n",
        "\n",
        "for i in range(N):\n",
        "  A_CHECK[A_LIST[i]].append(i+1)\n",
        "\n",
        "print(A_CHECK)\n",
        "\n",
        "for i in range(Q):\n",
        "  X,K = map(int,input().split())\n",
        "  if len(A_CHECK[X]) < K:\n",
        "    print(-1)\n",
        "  else:\n",
        "    print(A_CHECK[X][K-1])"
      ],
      "metadata": {
        "colab": {
          "base_uri": "https://localhost:8080/"
        },
        "id": "B1YFc_jT9sR9",
        "outputId": "74d5abb7-7707-47df-b527-b50502b8decb"
      },
      "execution_count": null,
      "outputs": [
        {
          "output_type": "stream",
          "name": "stdout",
          "text": [
            "4 2\n",
            "1 5 7 5\n",
            "defaultdict(<class 'list'>, {})\n",
            "defaultdict(<class 'list'>, {1: [1], 5: [2, 4], 7: [3]})\n",
            "1 1\n",
            "1\n",
            "3 7\n",
            "-1\n"
          ]
        }
      ]
    }
  ]
}