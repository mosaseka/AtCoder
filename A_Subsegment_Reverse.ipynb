{
  "nbformat": 4,
  "nbformat_minor": 0,
  "metadata": {
    "colab": {
      "provenance": [],
      "authorship_tag": "ABX9TyPAPt9gVidbKfvovQxQj52s",
      "include_colab_link": true
    },
    "kernelspec": {
      "name": "python3",
      "display_name": "Python 3"
    },
    "language_info": {
      "name": "python"
    }
  },
  "cells": [
    {
      "cell_type": "markdown",
      "metadata": {
        "id": "view-in-github",
        "colab_type": "text"
      },
      "source": [
        "<a href=\"https://colab.research.google.com/github/mosaseka/AtCoder/blob/main/A_Subsegment_Reverse.ipynb\" target=\"_parent\"><img src=\"https://colab.research.google.com/assets/colab-badge.svg\" alt=\"Open In Colab\"/></a>"
      ]
    },
    {
      "cell_type": "code",
      "execution_count": null,
      "metadata": {
        "id": "w282BDm3yzYt"
      },
      "outputs": [],
      "source": [
        "N,L,R = map(int,input().split())\n",
        "LIST = [i+1 for i in range(N)]\n",
        "ANSWER = []\n",
        "QUE = []\n",
        "\n",
        "for i in range(N):\n",
        "  if LIST[i] < L or R < LIST[i]:\n",
        "    ANSWER.append(LIST[i])\n",
        "  elif LIST[i] == R:\n",
        "    QUE.append(LIST[i])\n",
        "    #print(QUE)\n",
        "    QUE.sort(reverse=True)\n",
        "    ANSWER += QUE\n",
        "  else:\n",
        "    QUE.append(LIST[i])\n",
        "    #print(QUE)\n",
        "\n",
        "print(*ANSWER)"
      ]
    }
  ]
}