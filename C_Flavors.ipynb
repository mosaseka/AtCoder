{
  "nbformat": 4,
  "nbformat_minor": 0,
  "metadata": {
    "colab": {
      "provenance": [],
      "authorship_tag": "ABX9TyNvTAhWv5lPF241ZdaOrHVl",
      "include_colab_link": true
    },
    "kernelspec": {
      "name": "python3",
      "display_name": "Python 3"
    },
    "language_info": {
      "name": "python"
    }
  },
  "cells": [
    {
      "cell_type": "markdown",
      "metadata": {
        "id": "view-in-github",
        "colab_type": "text"
      },
      "source": [
        "<a href=\"https://colab.research.google.com/github/mosaseka/AtCoder/blob/main/C_Flavors.ipynb\" target=\"_parent\"><img src=\"https://colab.research.google.com/assets/colab-badge.svg\" alt=\"Open In Colab\"/></a>"
      ]
    },
    {
      "cell_type": "code",
      "execution_count": null,
      "metadata": {
        "id": "kBGyYlZJqA7M"
      },
      "outputs": [],
      "source": [
        "import itertools\n",
        "\n",
        "N = int(input())\n",
        "FS_LIST = [list(map(int,input().split())) for i in range(N)]\n",
        "COMB = list(itertools.combinations(FS_LIST,2))\n",
        "ANSWER = 0\n",
        "CHECK = 0\n",
        "\n",
        "for i in range(len(COMB)):\n",
        "  #print(COMB[i])\n",
        "  if COMB[i][0][0] != COMB[i][1][0]:\n",
        "    CHECK = COMB[i][0][1] + COMB[i][1][1]\n",
        "  else:\n",
        "    CHECK = max(COMB[i][0][1],COMB[i][1][1]) + min(COMB[i][0][1],COMB[i][1][1])//2\n",
        "  if ANSWER < CHECK:\n",
        "    ANSWER = CHECK\n",
        "\n",
        "print(ANSWER)"
      ]
    },
    {
      "cell_type": "code",
      "source": [
        "N = int(input())\n",
        "FS_LIST = [list(map(int,input().split())) for i in range(N)]\n",
        "ANSWER = 0\n",
        "CHECK = 0\n",
        "\n",
        "for i in range(N):\n",
        "  for j in range(i+1,N):\n",
        "    if FS_LIST[i][0] != FS_LIST[j][0]:\n",
        "      CHECK = FS_LIST[i][1] + FS_LIST[j][1]\n",
        "    else:\n",
        "      CHECK = max(FS_LIST[i][1], FS_LIST[j][1]) + (min(FS_LIST[i][1], FS_LIST[j][1]) // 2)\n",
        "    ANSWER = max(ANSWER,CHECK)\n",
        "\n",
        "print(ANSWER)"
      ],
      "metadata": {
        "id": "_Gtw-qH3wvhm"
      },
      "execution_count": null,
      "outputs": []
    },
    {
      "cell_type": "code",
      "source": [
        "from collections import deque\n",
        "\n",
        "N = int(input())\n",
        "FS_LIST = [list(map(int,input().split())) for i in range(N)]\n",
        "ANSWER = deque()\n",
        "CHECK = 0\n",
        "FLAG = False\n",
        "FIRST = 0\n",
        "\n",
        "FS_LIST.sort(key=lambda x:x[1],reverse=True)\n",
        "#print(FS_LIST)\n",
        "FIRST = FS_LIST[0]\n",
        "\n",
        "for i in range(N-1):\n",
        "  if FIRST[0] == FS_LIST[i+1][0] and not FLAG:\n",
        "    ANSWER.append(FIRST[1] + (FS_LIST[i+1][1]//2))\n",
        "    FLAG = True\n",
        "  elif FIRST[0] != FS_LIST[i+1][0]:\n",
        "    ANSWER.append(FIRST[1] + FS_LIST[i+1][1])\n",
        "    break\n",
        "\n",
        "#print(ANSWER)\n",
        "\n",
        "print(max(ANSWER))"
      ],
      "metadata": {
        "id": "qZ6rfiJJ0N6_"
      },
      "execution_count": null,
      "outputs": []
    }
  ]
}