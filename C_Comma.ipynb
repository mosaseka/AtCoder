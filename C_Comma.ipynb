{
  "nbformat": 4,
  "nbformat_minor": 0,
  "metadata": {
    "colab": {
      "provenance": [],
      "authorship_tag": "ABX9TyPy9rB9tWSmHbKvsNjLRQBk",
      "include_colab_link": true
    },
    "kernelspec": {
      "name": "python3",
      "display_name": "Python 3"
    },
    "language_info": {
      "name": "python"
    }
  },
  "cells": [
    {
      "cell_type": "markdown",
      "metadata": {
        "id": "view-in-github",
        "colab_type": "text"
      },
      "source": [
        "<a href=\"https://colab.research.google.com/github/mosaseka/AtCoder/blob/main/C_Comma.ipynb\" target=\"_parent\"><img src=\"https://colab.research.google.com/assets/colab-badge.svg\" alt=\"Open In Colab\"/></a>"
      ]
    },
    {
      "cell_type": "code",
      "execution_count": null,
      "metadata": {
        "id": "rwG_-vJ-bZ_L"
      },
      "outputs": [],
      "source": [
        "N = int(input())\n",
        "ANSWER = 0\n",
        "\n",
        "if N >= 10**3:\n",
        "  ANSWER += N-999\n",
        "if N >= 10**6:\n",
        "  ANSWER += N-999999\n",
        "if N >= 10**9:\n",
        "  ANSWER += N-999999999\n",
        "if N >= 10**12:\n",
        "  ANSWER += N-999999999999\n",
        "if N >= 10**15:\n",
        "  ANSWER += N-999999999999999\n",
        "\n",
        "print(ANSWER)"
      ]
    }
  ]
}