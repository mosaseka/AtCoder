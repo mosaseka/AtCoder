{
  "nbformat": 4,
  "nbformat_minor": 0,
  "metadata": {
    "colab": {
      "provenance": [],
      "authorship_tag": "ABX9TyMcdG1CqpbbKy38+NFa3no/",
      "include_colab_link": true
    },
    "kernelspec": {
      "name": "python3",
      "display_name": "Python 3"
    },
    "language_info": {
      "name": "python"
    }
  },
  "cells": [
    {
      "cell_type": "markdown",
      "metadata": {
        "id": "view-in-github",
        "colab_type": "text"
      },
      "source": [
        "<a href=\"https://colab.research.google.com/github/mosaseka/AtCoder/blob/main/C_Dango.ipynb\" target=\"_parent\"><img src=\"https://colab.research.google.com/assets/colab-badge.svg\" alt=\"Open In Colab\"/></a>"
      ]
    },
    {
      "cell_type": "code",
      "execution_count": null,
      "metadata": {
        "id": "GweB956E9MyI"
      },
      "outputs": [],
      "source": [
        "N = int(input())\n",
        "S_LIST = list(map(str,input()))\n",
        "LEVEL_LIST = []\n",
        "NUM = 0\n",
        "FLAG = False\n",
        "\n",
        "for i in range(N):\n",
        "  if S_LIST[i] == \"o\":\n",
        "    NUM += 1\n",
        "  else:\n",
        "    LEVEL_LIST.append(NUM)\n",
        "    NUM = 0\n",
        "\n",
        "if \"o\" not in S_LIST:\n",
        "  print(-1)\n",
        "  exit()\n",
        "elif max(LEVEL_LIST) == N:\n",
        "  print(N-1)\n",
        "  exit()\n",
        "\n",
        "print(max(LEVEL_LIST))"
      ]
    },
    {
      "cell_type": "code",
      "source": [
        "N = int(input())\n",
        "S_LIST = list(map(str,input()))\n",
        "LEVEL_LIST = []\n",
        "NUM = 0\n",
        "FLAG = False\n",
        "\n",
        "if \"o\" not in S_LIST:\n",
        "  print(-1)\n",
        "  exit()\n",
        "\n",
        "while S_LIST != []:\n",
        "  if S_LIST[0] == \"o\":\n",
        "    NUM += 1\n",
        "    S_LIST.pop(0)\n",
        "  else:\n",
        "    LEVEL_LIST.append(NUM)\n",
        "    S_LIST.pop(0)\n",
        "    NUM = 0\n",
        "\n",
        "if max(LEVEL_LIST) == N:\n",
        "  print(N-1)\n",
        "  exit()\n",
        "\n",
        "print(max(LEVEL_LIST))"
      ],
      "metadata": {
        "colab": {
          "base_uri": "https://localhost:8080/"
        },
        "id": "Ky5fJ7-KA_oV",
        "outputId": "7315bae4-9676-4c4c-ad47-b6c8e76ea2c9"
      },
      "execution_count": null,
      "outputs": [
        {
          "output_type": "stream",
          "name": "stdout",
          "text": [
            "5\n",
            "dhgjg\n",
            "-1\n",
            "0\n"
          ]
        }
      ]
    },
    {
      "cell_type": "code",
      "source": [
        "N = int(input())\n",
        "S_LIST = list(map(str,input()))\n",
        "LEVEL_LIST = []\n",
        "NUM = 0\n",
        "FLAG = False\n",
        "\n",
        "if \"o\" not in S_LIST:\n",
        "  print(-1)\n",
        "  exit()\n",
        "\n",
        "while S_LIST != []:\n",
        "  if S_LIST[0] == \"o\":\n",
        "    NUM += 1\n",
        "    S_LIST.pop(0)\n",
        "  else:\n",
        "    if S_LIST[i] == \"-\" or S_LIST[i-NUM-1] == \"-\":\n",
        "      LEVEL_LIST.append(NUM)\n",
        "      S_LIST.pop(0)\n",
        "      NUM = 0\n",
        "\n",
        "if max(LEVEL_LIST) == N:\n",
        "  print(N-1)\n",
        "  exit()\n",
        "\n",
        "print(max(LEVEL_LIST))"
      ],
      "metadata": {
        "id": "1MgwrwL0CLW9"
      },
      "execution_count": null,
      "outputs": []
    },
    {
      "cell_type": "code",
      "source": [
        "def count_consecutive(lst, item):\n",
        "    count = 0\n",
        "    max_count = 0\n",
        "    for i in range(len(lst)):\n",
        "        if lst[i] == item:\n",
        "            count += 1\n",
        "            max_count = max(max_count, count)\n",
        "        else:\n",
        "            count = 0\n",
        "    return max_count\n",
        "\n",
        "N = int(input())\n",
        "S_LIST = list(map(str,input()))\n",
        "\n",
        "if \"o\" not in S_LIST:\n",
        "  print(-1)\n",
        "  exit()\n",
        "elif \"-\" not in S_LIST:\n",
        "  print(-1)\n",
        "  exit()\n",
        "\n",
        "print(count_consecutive(S_LIST,\"o\"))"
      ],
      "metadata": {
        "id": "UvW7gyqaIvo7"
      },
      "execution_count": null,
      "outputs": []
    }
  ]
}