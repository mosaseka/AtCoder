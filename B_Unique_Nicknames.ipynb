{
  "nbformat": 4,
  "nbformat_minor": 0,
  "metadata": {
    "colab": {
      "provenance": [],
      "authorship_tag": "ABX9TyMpzsDgBEkCtexcrow5RukK",
      "include_colab_link": true
    },
    "kernelspec": {
      "name": "python3",
      "display_name": "Python 3"
    },
    "language_info": {
      "name": "python"
    }
  },
  "cells": [
    {
      "cell_type": "markdown",
      "metadata": {
        "id": "view-in-github",
        "colab_type": "text"
      },
      "source": [
        "<a href=\"https://colab.research.google.com/github/mosaseka/AtCoder/blob/main/B_Unique_Nicknames.ipynb\" target=\"_parent\"><img src=\"https://colab.research.google.com/assets/colab-badge.svg\" alt=\"Open In Colab\"/></a>"
      ]
    },
    {
      "cell_type": "code",
      "execution_count": null,
      "metadata": {
        "id": "YcNAPHkoIEjI"
      },
      "outputs": [],
      "source": [
        "N = int(input())\n",
        "ST_LIST = [list(map(str,input().split())) for i in range(N)]\n",
        "\n",
        "for i in range(N):\n",
        "  for j in range(N):\n",
        "    if i != j:\n",
        "      if ST_LIST[i] != ST_LIST[j]:\n",
        "        pass\n",
        "      else:\n",
        "        print(\"No\")\n",
        "        exit()\n",
        "\n",
        "print(\"Yes\")"
      ]
    },
    {
      "cell_type": "code",
      "source": [
        "N = int(input())\n",
        "S_LIST = []\n",
        "T_LIST = []\n",
        "FLAG = False\n",
        "OK = False\n",
        "S = \"\"\n",
        "T = \"\"\n",
        "\n",
        "for i in range(N):\n",
        "  S,T = map(str,input().split())\n",
        "  S_LIST.append(S)\n",
        "  T_LIST.append(T)\n",
        "\n",
        "for i in range(N):\n",
        "  FLAG = False\n",
        "  for S in [S_LIST[i],T_LIST[i]]:\n",
        "    OK = True\n",
        "    for j in range(N):\n",
        "      if i != j:\n",
        "        if S == S_LIST[j] or S == T_LIST[j]:\n",
        "          OK = False\n",
        "    if OK:\n",
        "      FLAG = True\n",
        "  if not FLAG:\n",
        "    print(\"No\")\n",
        "    exit()\n",
        "\n",
        "print(\"Yes\")"
      ],
      "metadata": {
        "id": "N5yXcW7OABNx"
      },
      "execution_count": null,
      "outputs": []
    }
  ]
}