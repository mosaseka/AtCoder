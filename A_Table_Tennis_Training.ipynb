{
  "nbformat": 4,
  "nbformat_minor": 0,
  "metadata": {
    "colab": {
      "provenance": [],
      "authorship_tag": "ABX9TyPu0Ra6bcaFjQS/aRv1NhEQ",
      "include_colab_link": true
    },
    "kernelspec": {
      "name": "python3",
      "display_name": "Python 3"
    },
    "language_info": {
      "name": "python"
    }
  },
  "cells": [
    {
      "cell_type": "markdown",
      "metadata": {
        "id": "view-in-github",
        "colab_type": "text"
      },
      "source": [
        "<a href=\"https://colab.research.google.com/github/mosaseka/AtCoder/blob/main/A_Table_Tennis_Training.ipynb\" target=\"_parent\"><img src=\"https://colab.research.google.com/assets/colab-badge.svg\" alt=\"Open In Colab\"/></a>"
      ]
    },
    {
      "cell_type": "code",
      "execution_count": null,
      "metadata": {
        "colab": {
          "base_uri": "https://localhost:8080/"
        },
        "id": "A5wDqRG37i2X",
        "outputId": "c9456fc6-21c4-4d9a-a01d-86084a912837"
      },
      "outputs": [
        {
          "output_type": "stream",
          "name": "stdout",
          "text": [
            "5 2 3\n",
            "1\n"
          ]
        }
      ],
      "source": [
        "N,A,B = map(int,input().split())\n",
        "ANSWER = 0\n",
        "STRONG = 0\n",
        "WEEK = 0\n",
        "\n",
        "if abs(A-B) % 2 == 0:\n",
        "  ANSWER = abs(A-B) // 2\n",
        "else:\n",
        "  STRONG = min(A,B)\n",
        "  WEEK = max(A,B)\n",
        "  for i in range(STRONG-1):\n",
        "    STRONG -= 1\n",
        "    WEEK -= 1\n",
        "  WEEK -= 1\n",
        "  ANSWER = (abs(STRONG-WEEK) // 2) + 1\n",
        "\n",
        "print(ANSWER)"
      ]
    },
    {
      "cell_type": "code",
      "source": [
        "N,A,B = map(int,input().split())\n",
        "STRONG = 0\n",
        "WEEK = 0\n",
        "WIN = 0\n",
        "LOSE = 0\n",
        "\n",
        "if abs(A-B) % 2 == 0:\n",
        "  ANSWER = abs(A-B) // 2\n",
        "else:\n",
        "  STRONG = A\n",
        "  WEEK = B\n",
        "  WIN += A\n",
        "  STRONG = 1\n",
        "  WEEK -= A\n",
        "  WIN += abs(STRONG-WEEK) // 2\n",
        "\n",
        "  STRONG = A\n",
        "  WEEK = B\n",
        "  LOSE += (N - B + 1)\n",
        "  STRONG += B\n",
        "  WEEK = N\n",
        "  LOSE += abs(STRONG-WEEK) // 2\n",
        "\n",
        "  ANSWER = min(WIN,LOSE)\n",
        "\n",
        "print(ANSWER)"
      ],
      "metadata": {
        "colab": {
          "base_uri": "https://localhost:8080/"
        },
        "id": "HtKyxM0EGclb",
        "outputId": "e68542b3-c2d9-4859-f891-366f4570f63d"
      },
      "execution_count": null,
      "outputs": [
        {
          "output_type": "stream",
          "name": "stdout",
          "text": [
            "5 2 3\n",
            "2\n"
          ]
        }
      ]
    },
    {
      "cell_type": "code",
      "source": [
        "N,A,B = map(int,input().split())\n",
        "STRONG = 0\n",
        "WEEK = 0\n",
        "WIN = 0\n",
        "LOSE = 0\n",
        "\n",
        "if abs(A-B) % 2 == 0:\n",
        "  ANSWER = (B-A) // 2\n",
        "else:\n",
        "  WIN = A + ((B-A)-1) // 2\n",
        "  LOSE = (N-B+1) + ((B-A)-1) // 2\n",
        "  ANSWER = min(WIN,LOSE)\n",
        "\n",
        "print(ANSWER)"
      ],
      "metadata": {
        "id": "lILv3T2UN0ho"
      },
      "execution_count": null,
      "outputs": []
    }
  ]
}