{
  "nbformat": 4,
  "nbformat_minor": 0,
  "metadata": {
    "colab": {
      "provenance": [],
      "authorship_tag": "ABX9TyPrls+DCaxPNAZNf07ntnHS",
      "include_colab_link": true
    },
    "kernelspec": {
      "name": "python3",
      "display_name": "Python 3"
    },
    "language_info": {
      "name": "python"
    }
  },
  "cells": [
    {
      "cell_type": "markdown",
      "metadata": {
        "id": "view-in-github",
        "colab_type": "text"
      },
      "source": [
        "<a href=\"https://colab.research.google.com/github/mosaseka/AtCoder/blob/main/C_Socks.ipynb\" target=\"_parent\"><img src=\"https://colab.research.google.com/assets/colab-badge.svg\" alt=\"Open In Colab\"/></a>"
      ]
    },
    {
      "cell_type": "code",
      "execution_count": null,
      "metadata": {
        "colab": {
          "base_uri": "https://localhost:8080/"
        },
        "id": "KEAtdkDct2ju",
        "outputId": "dfbc6ae1-29e8-43b5-ced5-35224edf2b7c"
      },
      "outputs": [
        {
          "output_type": "stream",
          "name": "stdout",
          "text": [
            "6\n",
            "4 1 7 4 1 4\n",
            "2\n"
          ]
        }
      ],
      "source": [
        "import collections\n",
        "\n",
        "N = int(input())\n",
        "A_LIST = list(map(int,input().split()))\n",
        "ANSWER = 0\n",
        "COLLECT = {}\n",
        "CHECK_LIST = []\n",
        "\n",
        "COLLECT = collections.Counter(A_LIST)\n",
        "\n",
        "CHECK_LIST = list(COLLECT.values())\n",
        "\n",
        "for i in range(len(CHECK_LIST)):\n",
        "  ANSWER += CHECK_LIST[i] // 2\n",
        "\n",
        "print(ANSWER)"
      ]
    }
  ]
}