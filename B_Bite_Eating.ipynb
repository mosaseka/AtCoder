{
  "nbformat": 4,
  "nbformat_minor": 0,
  "metadata": {
    "colab": {
      "provenance": [],
      "authorship_tag": "ABX9TyMRIrLr+PfHj2wsEZQ4HAFI",
      "include_colab_link": true
    },
    "kernelspec": {
      "name": "python3",
      "display_name": "Python 3"
    },
    "language_info": {
      "name": "python"
    }
  },
  "cells": [
    {
      "cell_type": "markdown",
      "metadata": {
        "id": "view-in-github",
        "colab_type": "text"
      },
      "source": [
        "<a href=\"https://colab.research.google.com/github/mosaseka/AtCoder/blob/main/B_Bite_Eating.ipynb\" target=\"_parent\"><img src=\"https://colab.research.google.com/assets/colab-badge.svg\" alt=\"Open In Colab\"/></a>"
      ]
    },
    {
      "cell_type": "code",
      "execution_count": null,
      "metadata": {
        "id": "s-aHfm4pYXDR"
      },
      "outputs": [],
      "source": [
        "N,L = map(int,input().split())\n",
        "APPLE = list(L+i for i in range(N))\n",
        "\n",
        "APPLE.remove(min(APPLE,key=abs))\n",
        "\n",
        "print(sum(APPLE))"
      ]
    }
  ]
}