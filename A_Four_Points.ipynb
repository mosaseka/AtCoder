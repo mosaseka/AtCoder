{
  "nbformat": 4,
  "nbformat_minor": 0,
  "metadata": {
    "colab": {
      "provenance": [],
      "authorship_tag": "ABX9TyPNwJgs8o00DqsaDSz3SJPm",
      "include_colab_link": true
    },
    "kernelspec": {
      "name": "python3",
      "display_name": "Python 3"
    },
    "language_info": {
      "name": "python"
    }
  },
  "cells": [
    {
      "cell_type": "markdown",
      "metadata": {
        "id": "view-in-github",
        "colab_type": "text"
      },
      "source": [
        "<a href=\"https://colab.research.google.com/github/mosaseka/AtCoder/blob/main/A_Four_Points.ipynb\" target=\"_parent\"><img src=\"https://colab.research.google.com/assets/colab-badge.svg\" alt=\"Open In Colab\"/></a>"
      ]
    },
    {
      "cell_type": "code",
      "execution_count": null,
      "metadata": {
        "id": "CnZocgDXmKZY"
      },
      "outputs": [],
      "source": [
        "from collections import Counter\n",
        "\n",
        "X_LIST = []\n",
        "Y_LIST = []\n",
        "X = 0\n",
        "Y = 0\n",
        "X_COUNT = []\n",
        "Y_COUNT = []\n",
        "ANSWER_X = 0\n",
        "ANSWER_Y = 0\n",
        "\n",
        "for i in range(3):\n",
        "  X,Y = map(int,input().split())\n",
        "  X_LIST.append(X)\n",
        "  Y_LIST.append(Y)\n",
        "\n",
        "#print(X_LIST)\n",
        "#print(Y_LIST)\n",
        "\n",
        "X_COUNT = list(Counter(X_LIST).items())\n",
        "Y_COUNT = list(Counter(Y_LIST).items())\n",
        "#print(X_COUNT)\n",
        "#print(Y_COUNT)\n",
        "\n",
        "for i in range(2):\n",
        "  if X_COUNT[i][1] == 1:\n",
        "    ANSWER_X = X_COUNT[i][0]\n",
        "  if Y_COUNT[i][1] == 1:\n",
        "    ANSWER_Y = Y_COUNT[i][0]\n",
        "\n",
        "print(ANSWER_X,ANSWER_Y)"
      ]
    }
  ]
}