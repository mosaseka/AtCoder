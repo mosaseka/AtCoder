{
  "nbformat": 4,
  "nbformat_minor": 0,
  "metadata": {
    "colab": {
      "provenance": [],
      "authorship_tag": "ABX9TyOXrcjrLW2+xBVrJXpFpdAZ",
      "include_colab_link": true
    },
    "kernelspec": {
      "name": "python3",
      "display_name": "Python 3"
    },
    "language_info": {
      "name": "python"
    }
  },
  "cells": [
    {
      "cell_type": "markdown",
      "metadata": {
        "id": "view-in-github",
        "colab_type": "text"
      },
      "source": [
        "<a href=\"https://colab.research.google.com/github/mosaseka/AtCoder/blob/main/A_Connection_and_Disconnection.ipynb\" target=\"_parent\"><img src=\"https://colab.research.google.com/assets/colab-badge.svg\" alt=\"Open In Colab\"/></a>"
      ]
    },
    {
      "cell_type": "code",
      "execution_count": null,
      "metadata": {
        "id": "2aLwnjaO85Ko"
      },
      "outputs": [],
      "source": [
        "S = str(input())\n",
        "K = int(input())\n",
        "CHECK = 0\n",
        "\n",
        "for i in range(len(S)-1):\n",
        "  if S[i] == S[i+1]:\n",
        "    CHECK += 1\n",
        "\n",
        "CHECK *= K\n",
        "\n",
        "print(CHECK)"
      ]
    },
    {
      "cell_type": "code",
      "source": [
        "from itertools import groupby\n",
        "\n",
        "S = str(input())\n",
        "K = int(input())\n",
        "CHECK = [len(list(g)) for c,g in groupby(S)]\n",
        "ANSWER = 0\n",
        "\n",
        "if len(CHECK) == 1:\n",
        "  ANSWER = len(S) * K // 2\n",
        "else:\n",
        "  ANSWER = sum(i//2 for i in CHECK) * K\n",
        "  if S[0] == S[-1] and CHECK[0]%2 == 1 and CHECK[-1]%2 == 1:\n",
        "    ANSWER += K-1\n",
        "\n",
        "print(ANSWER)"
      ],
      "metadata": {
        "id": "y0JisBcU_WpI"
      },
      "execution_count": null,
      "outputs": []
    }
  ]
}