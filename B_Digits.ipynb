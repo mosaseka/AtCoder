{
  "nbformat": 4,
  "nbformat_minor": 0,
  "metadata": {
    "colab": {
      "provenance": [],
      "authorship_tag": "ABX9TyOi5YwuaROJuI7IJBtcCcP2",
      "include_colab_link": true
    },
    "kernelspec": {
      "name": "python3",
      "display_name": "Python 3"
    },
    "language_info": {
      "name": "python"
    }
  },
  "cells": [
    {
      "cell_type": "markdown",
      "metadata": {
        "id": "view-in-github",
        "colab_type": "text"
      },
      "source": [
        "<a href=\"https://colab.research.google.com/github/mosaseka/AtCoder/blob/main/B_Digits.ipynb\" target=\"_parent\"><img src=\"https://colab.research.google.com/assets/colab-badge.svg\" alt=\"Open In Colab\"/></a>"
      ]
    },
    {
      "cell_type": "code",
      "execution_count": null,
      "metadata": {
        "id": "IzeOiQFINr2d"
      },
      "outputs": [],
      "source": [
        "def base10int(value, base):\n",
        "    if (int(value / base)):\n",
        "        return base10int(int(value / base), base) + str(value % base)\n",
        "    return str(value % base)\n",
        "\n",
        "N,K = map(int,input().split())\n",
        "\n",
        "print(len(base10int(N,K)))"
      ]
    }
  ]
}