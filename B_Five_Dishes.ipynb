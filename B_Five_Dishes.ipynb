{
  "nbformat": 4,
  "nbformat_minor": 0,
  "metadata": {
    "colab": {
      "provenance": [],
      "authorship_tag": "ABX9TyMQCDG39pLdeq2BRjTfycKT",
      "include_colab_link": true
    },
    "kernelspec": {
      "name": "python3",
      "display_name": "Python 3"
    },
    "language_info": {
      "name": "python"
    }
  },
  "cells": [
    {
      "cell_type": "markdown",
      "metadata": {
        "id": "view-in-github",
        "colab_type": "text"
      },
      "source": [
        "<a href=\"https://colab.research.google.com/github/mosaseka/AtCoder/blob/main/B_Five_Dishes.ipynb\" target=\"_parent\"><img src=\"https://colab.research.google.com/assets/colab-badge.svg\" alt=\"Open In Colab\"/></a>"
      ]
    },
    {
      "cell_type": "code",
      "execution_count": null,
      "metadata": {
        "colab": {
          "base_uri": "https://localhost:8080/"
        },
        "id": "xVY9NgzyI053",
        "outputId": "956621f8-80f9-46b4-a07d-53cd87bef42b"
      },
      "outputs": [
        {
          "output_type": "stream",
          "name": "stdout",
          "text": [
            "123\n",
            "123\n",
            "123\n",
            "123\n",
            "123\n",
            "643\n"
          ]
        }
      ],
      "source": [
        "import itertools\n",
        "\n",
        "DISH_LIST = []\n",
        "P_LIST = []\n",
        "TIME = 0\n",
        "LOSS_TIME = 0\n",
        "TIME_LIST = []\n",
        "P_LEN = 0\n",
        "\n",
        "for i in range(5):\n",
        "  DISH_LIST.append(int(input()))\n",
        "\n",
        "for i in itertools.permutations(DISH_LIST,5):\n",
        "  P_LIST.append(list(i))\n",
        "\n",
        "P_LEN = len(P_LIST)\n",
        "\n",
        "for i in range(P_LEN):\n",
        "  TIME = 0\n",
        "  for j in range(5):\n",
        "    TIME += P_LIST[i][j]\n",
        "    if j == 4:\n",
        "      pass\n",
        "    elif TIME % 10 != 0:\n",
        "      TIME += (10 - (TIME % 10))\n",
        "    else:\n",
        "      pass\n",
        "  TIME_LIST.append(TIME)\n",
        "\n",
        "#print(TIME_LIST)\n",
        "\n",
        "print(min(TIME_LIST))"
      ]
    }
  ]
}