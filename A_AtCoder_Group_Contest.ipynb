{
  "nbformat": 4,
  "nbformat_minor": 0,
  "metadata": {
    "colab": {
      "provenance": [],
      "authorship_tag": "ABX9TyN9YKNAa29TnA41/WGaOtEz",
      "include_colab_link": true
    },
    "kernelspec": {
      "name": "python3",
      "display_name": "Python 3"
    },
    "language_info": {
      "name": "python"
    }
  },
  "cells": [
    {
      "cell_type": "markdown",
      "metadata": {
        "id": "view-in-github",
        "colab_type": "text"
      },
      "source": [
        "<a href=\"https://colab.research.google.com/github/mosaseka/AtCoder/blob/main/A_AtCoder_Group_Contest.ipynb\" target=\"_parent\"><img src=\"https://colab.research.google.com/assets/colab-badge.svg\" alt=\"Open In Colab\"/></a>"
      ]
    },
    {
      "cell_type": "code",
      "execution_count": null,
      "metadata": {
        "id": "50F7EK6PN-VB"
      },
      "outputs": [],
      "source": [
        "N = int(input())\n",
        "A_LIST = list(map(int,input().split()))\n",
        "\n",
        "A_LIST.sort()\n",
        "\n",
        "A_LIST = A_LIST[N:]\n",
        "A_LIST = A_LIST[:-N]\n",
        "\n",
        "#print(A_LIST)\n",
        "\n",
        "print(sum(A_LIST))"
      ]
    },
    {
      "cell_type": "code",
      "source": [
        "N = int(input())\n",
        "A_LIST = list(map(int,input().split()))\n",
        "ANSWER = 0\n",
        "\n",
        "A_LIST.sort()\n",
        "\n",
        "for i in range(N,3*N,2):\n",
        "  ANSWER += A_LIST[i]\n",
        "\n",
        "print(ANSWER)"
      ],
      "metadata": {
        "id": "C7r6NQ-QlJDc"
      },
      "execution_count": null,
      "outputs": []
    }
  ]
}