{
  "nbformat": 4,
  "nbformat_minor": 0,
  "metadata": {
    "colab": {
      "provenance": [],
      "authorship_tag": "ABX9TyMt68f0/NgFQS4L0QGL+ZwS",
      "include_colab_link": true
    },
    "kernelspec": {
      "name": "python3",
      "display_name": "Python 3"
    },
    "language_info": {
      "name": "python"
    }
  },
  "cells": [
    {
      "cell_type": "markdown",
      "metadata": {
        "id": "view-in-github",
        "colab_type": "text"
      },
      "source": [
        "<a href=\"https://colab.research.google.com/github/mosaseka/AtCoder/blob/main/A_Weak_Beats.ipynb\" target=\"_parent\"><img src=\"https://colab.research.google.com/assets/colab-badge.svg\" alt=\"Open In Colab\"/></a>"
      ]
    },
    {
      "cell_type": "code",
      "execution_count": null,
      "metadata": {
        "id": "YqAQYygvAefU"
      },
      "outputs": [],
      "source": [
        "S = str(input())\n",
        "\n",
        "for i in range(len(S)):\n",
        "  if (i+1)%2 == 0:\n",
        "    if S[i] == \"1\":\n",
        "      print(\"No\")\n",
        "      exit()\n",
        "\n",
        "print(\"Yes\")"
      ]
    }
  ]
}