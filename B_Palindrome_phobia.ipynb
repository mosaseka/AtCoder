{
  "nbformat": 4,
  "nbformat_minor": 0,
  "metadata": {
    "colab": {
      "provenance": [],
      "authorship_tag": "ABX9TyMIHdASqM03N6rCR1fCVW/4",
      "include_colab_link": true
    },
    "kernelspec": {
      "name": "python3",
      "display_name": "Python 3"
    },
    "language_info": {
      "name": "python"
    }
  },
  "cells": [
    {
      "cell_type": "markdown",
      "metadata": {
        "id": "view-in-github",
        "colab_type": "text"
      },
      "source": [
        "<a href=\"https://colab.research.google.com/github/mosaseka/AtCoder/blob/main/B_Palindrome_phobia.ipynb\" target=\"_parent\"><img src=\"https://colab.research.google.com/assets/colab-badge.svg\" alt=\"Open In Colab\"/></a>"
      ]
    },
    {
      "cell_type": "code",
      "execution_count": null,
      "metadata": {
        "id": "i0fBYpD9cNpq"
      },
      "outputs": [],
      "source": [
        "import collections\n",
        "\n",
        "S_LIST = list(map(str,input()))\n",
        "S_COLLECT = list(collections.Counter(S_LIST).values())\n",
        "#print(S_COLLECT)\n",
        "\n",
        "if len(S_COLLECT) == 1 and S_COLLECT[0] == 1:\n",
        "  print(\"YES\")\n",
        "  exit()\n",
        "elif len(S_COLLECT) == 1:\n",
        "  print(\"NO\")\n",
        "  exit()\n",
        "elif len(S_COLLECT) == 2:\n",
        "  S_COLLECT.append(0)\n",
        "\n",
        "if abs(S_COLLECT[0] - S_COLLECT[1]) < 2:\n",
        "  if abs(S_COLLECT[1] - S_COLLECT[2]) < 2:\n",
        "    if abs(S_COLLECT[2] - S_COLLECT[0]) < 2:\n",
        "      print(\"YES\")\n",
        "      exit()\n",
        "\n",
        "print(\"NO\")"
      ]
    }
  ]
}