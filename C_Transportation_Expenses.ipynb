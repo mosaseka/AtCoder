{
  "nbformat": 4,
  "nbformat_minor": 0,
  "metadata": {
    "colab": {
      "provenance": [],
      "authorship_tag": "ABX9TyOfIlpztzIzyj3Ly21u61ff",
      "include_colab_link": true
    },
    "kernelspec": {
      "name": "python3",
      "display_name": "Python 3"
    },
    "language_info": {
      "name": "python"
    }
  },
  "cells": [
    {
      "cell_type": "markdown",
      "metadata": {
        "id": "view-in-github",
        "colab_type": "text"
      },
      "source": [
        "<a href=\"https://colab.research.google.com/github/mosaseka/AtCoder/blob/main/C_Transportation_Expenses.ipynb\" target=\"_parent\"><img src=\"https://colab.research.google.com/assets/colab-badge.svg\" alt=\"Open In Colab\"/></a>"
      ]
    },
    {
      "cell_type": "code",
      "execution_count": null,
      "metadata": {
        "id": "d4S63-9Dlmj3"
      },
      "outputs": [],
      "source": [
        "def SUM(x):\n",
        "  return sum(min(x,A) for A in A_LIST)\n",
        "\n",
        "N,M = map(int,input().split())\n",
        "A_LIST = list(map(int,input().split()))\n",
        "LEFT = 0\n",
        "RIGHT = max(A_LIST)\n",
        "MID = 0\n",
        "\n",
        "if SUM(RIGHT) <= M:\n",
        "  print(\"infinite\")\n",
        "  exit()\n",
        "\n",
        "while LEFT < RIGHT:\n",
        "  MID = (LEFT + RIGHT + 1) // 2\n",
        "  if SUM(MID) <= M:\n",
        "    LEFT = MID\n",
        "  else:\n",
        "    RIGHT = MID - 1\n",
        "\n",
        "print(LEFT)"
      ]
    }
  ]
}