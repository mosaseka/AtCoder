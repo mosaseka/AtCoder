{
  "nbformat": 4,
  "nbformat_minor": 0,
  "metadata": {
    "colab": {
      "provenance": [],
      "authorship_tag": "ABX9TyNn9DAM+Bp/HWf2I//cy+Zl",
      "include_colab_link": true
    },
    "kernelspec": {
      "name": "python3",
      "display_name": "Python 3"
    },
    "language_info": {
      "name": "python"
    }
  },
  "cells": [
    {
      "cell_type": "markdown",
      "metadata": {
        "id": "view-in-github",
        "colab_type": "text"
      },
      "source": [
        "<a href=\"https://colab.research.google.com/github/mosaseka/AtCoder/blob/main/B_3%E4%BA%BA%E3%81%A7%E3%82%AB%E3%83%BC%E3%83%89%E3%82%B2%E3%83%BC%E3%83%A0%E3%82%A4%E3%83%BC%E3%82%B8%E3%83%BC.ipynb\" target=\"_parent\"><img src=\"https://colab.research.google.com/assets/colab-badge.svg\" alt=\"Open In Colab\"/></a>"
      ]
    },
    {
      "cell_type": "code",
      "execution_count": null,
      "metadata": {
        "id": "c_iS9wS5rQXJ"
      },
      "outputs": [],
      "source": [
        "from collections import deque\n",
        "\n",
        "A_DEQ = deque(map(str,input()))\n",
        "B_DEQ = deque(map(str,input()))\n",
        "C_DEQ = deque(map(str,input()))\n",
        "TURN = \"a\"\n",
        "\n",
        "while True:\n",
        "  if TURN == \"a\":\n",
        "    if len(A_DEQ) == 0:\n",
        "      print(\"A\")\n",
        "      break\n",
        "    else:\n",
        "      TURN = A_DEQ.popleft()\n",
        "  elif TURN == \"b\":\n",
        "    if len(B_DEQ) == 0:\n",
        "      print(\"B\")\n",
        "      break\n",
        "    else:\n",
        "      TURN = B_DEQ.popleft()\n",
        "  if TURN == \"c\":\n",
        "    if len(C_DEQ) == 0:\n",
        "      print(\"C\")\n",
        "      break\n",
        "    else:\n",
        "      TURN = C_DEQ.popleft()"
      ]
    }
  ]
}