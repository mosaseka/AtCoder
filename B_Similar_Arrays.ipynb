{
  "nbformat": 4,
  "nbformat_minor": 0,
  "metadata": {
    "colab": {
      "provenance": [],
      "authorship_tag": "ABX9TyO8UVlpq/KCWsz4me3dHCxv",
      "include_colab_link": true
    },
    "kernelspec": {
      "name": "python3",
      "display_name": "Python 3"
    },
    "language_info": {
      "name": "python"
    }
  },
  "cells": [
    {
      "cell_type": "markdown",
      "metadata": {
        "id": "view-in-github",
        "colab_type": "text"
      },
      "source": [
        "<a href=\"https://colab.research.google.com/github/mosaseka/AtCoder/blob/main/B_Similar_Arrays.ipynb\" target=\"_parent\"><img src=\"https://colab.research.google.com/assets/colab-badge.svg\" alt=\"Open In Colab\"/></a>"
      ]
    },
    {
      "cell_type": "code",
      "execution_count": null,
      "metadata": {
        "colab": {
          "base_uri": "https://localhost:8080/"
        },
        "id": "foEYVqvGe6Pm",
        "outputId": "0ea0fecc-c069-49ea-dcc8-00f0ae912d36"
      },
      "outputs": [
        {
          "output_type": "stream",
          "name": "stdout",
          "text": [
            "2\n",
            "2 3\n",
            "[(3, 4), (3, 2), (3, 3), (4, 3), (4, 2), (4, 3), (2, 3), (2, 4), (2, 3), (3, 3), (3, 4), (3, 2), (1, 2), (1, 2), (1, 3), (2, 1), (2, 2), (2, 3), (2, 1), (2, 2), (2, 3), (3, 1), (3, 2), (3, 2)]\n",
            "11\n"
          ]
        }
      ],
      "source": [
        "import itertools\n",
        "import math\n",
        "\n",
        "N = int(input())\n",
        "A_LIST = list(map(int,input().split()))\n",
        "COUNT = 0\n",
        "MINUS_LIST = []\n",
        "PLUS_LIST = []\n",
        "PLUS_PERM= []\n",
        "MINUS_PERM = []\n",
        "CHECK_LIST = []\n",
        "\n",
        "PLUS_LIST = list(map(lambda x: x + 1,A_LIST))\n",
        "MINUS_LIST = list(map(lambda x: x - 1,A_LIST))\n",
        "PLUS_LIST += A_LIST\n",
        "MINUS_LIST += A_LIST\n",
        "#print(PLUS_LIST)\n",
        "#print(MINUS_LIST)\n",
        "\n",
        "PLUS_PERM = list(itertools.permutations(PLUS_LIST,N))\n",
        "MINUS_PERM = list(itertools.permutations(MINUS_LIST,N))\n",
        "\n",
        "CHECK_LIST = list(PLUS_PERM + MINUS_PERM)\n",
        "\n",
        "print(CHECK_LIST)\n",
        "\n",
        "for i in range(len(CHECK_LIST)):\n",
        "  if math.prod(CHECK_LIST[i]) % 2 == 0:\n",
        "   #print(CHECK_LIST[i])\n",
        "    COUNT += 1\n",
        "\n",
        "print(COUNT-(3**N))"
      ]
    },
    {
      "cell_type": "code",
      "source": [
        "N = int(input())\n",
        "A_LIST = list(map(int,input().split()))\n",
        "COUNT = 0\n",
        "CHECK_LIST = []\n",
        "ANSWER = 1\n",
        "\n",
        "for i in A_LIST:\n",
        "  CHECK_LIST.append([i-1,i,i+1])\n",
        "\n",
        "for i in range(N):\n",
        "  COUNT = 0\n",
        "  for j in CHECK_LIST[i]:\n",
        "    if j % 2 != 0:\n",
        "      COUNT += 1\n",
        "  ANSWER *= COUNT\n",
        "\n",
        "print(3**N - ANSWER)"
      ],
      "metadata": {
        "colab": {
          "base_uri": "https://localhost:8080/"
        },
        "id": "IFu7vScoup74",
        "outputId": "ed4688a9-7b4b-4e08-a206-2e8e77c5e4ce"
      },
      "execution_count": null,
      "outputs": [
        {
          "output_type": "stream",
          "name": "stdout",
          "text": [
            "2\n",
            "2 3\n",
            "7\n"
          ]
        }
      ]
    }
  ]
}