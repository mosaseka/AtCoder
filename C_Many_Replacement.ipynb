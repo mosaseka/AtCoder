{
  "nbformat": 4,
  "nbformat_minor": 0,
  "metadata": {
    "colab": {
      "provenance": [],
      "authorship_tag": "ABX9TyMQtwJGYVnnmaCIJOhNo//s",
      "include_colab_link": true
    },
    "kernelspec": {
      "name": "python3",
      "display_name": "Python 3"
    },
    "language_info": {
      "name": "python"
    }
  },
  "cells": [
    {
      "cell_type": "markdown",
      "metadata": {
        "id": "view-in-github",
        "colab_type": "text"
      },
      "source": [
        "<a href=\"https://colab.research.google.com/github/mosaseka/AtCoder/blob/main/C_Many_Replacement.ipynb\" target=\"_parent\"><img src=\"https://colab.research.google.com/assets/colab-badge.svg\" alt=\"Open In Colab\"/></a>"
      ]
    },
    {
      "cell_type": "code",
      "execution_count": null,
      "metadata": {
        "id": "a2aFsUL5_P4r"
      },
      "outputs": [],
      "source": [
        "N = int(input())\n",
        "S = str(input())\n",
        "Q = int(input())\n",
        "C = \"\"\n",
        "D = \"\"\n",
        "\n",
        "for i in range(Q):\n",
        "  C,D = map(str,input().split())\n",
        "  S = S.replace(C,D)\n",
        "\n",
        "print(S)"
      ]
    },
    {
      "cell_type": "code",
      "source": [
        "import re\n",
        "\n",
        "def REPLACE(ORIGINAL,TARGET,REPLACEMENT):\n",
        "  PATTERN = re.compile(re.escape(TARGET))\n",
        "  return PATTERN.sub(REPLACEMENT,ORIGINAL)\n",
        "\n",
        "N = int(input())\n",
        "S = str(input())\n",
        "Q = int(input())\n",
        "C = \"\"\n",
        "D = \"\"\n",
        "\n",
        "for i in range(Q):\n",
        "  C,D = map(str,input().split())\n",
        "  S = REPLACE(S,C,D)\n",
        "\n",
        "print(S)"
      ],
      "metadata": {
        "id": "yvkfpr0JDmlC"
      },
      "execution_count": null,
      "outputs": []
    },
    {
      "cell_type": "code",
      "source": [
        "N = int(input())\n",
        "S = str(input())\n",
        "Q = int(input())\n",
        "C = \"\"\n",
        "D = \"\"\n",
        "\n",
        "for i in range(Q):\n",
        "  C,D = map(str,input().split())\n",
        "  S = S.translate(str.maketrans({C:D}))\n",
        "\n",
        "print(S)"
      ],
      "metadata": {
        "id": "CMIBKao5EMA0"
      },
      "execution_count": null,
      "outputs": []
    },
    {
      "cell_type": "code",
      "source": [
        "def REPLACE(ORIGINAL,TARGET,REPLACEMENT):\n",
        "  DICT = dict(zip(map(ord,TARGET),REPLACEMENT))\n",
        "  return ORIGINAL.translate(DICT)\n",
        "\n",
        "N = int(input())\n",
        "S = str(input())\n",
        "Q = int(input())\n",
        "C = \"\"\n",
        "D = \"\"\n",
        "\n",
        "for i in range(Q):\n",
        "  C,D = map(str,input().split())\n",
        "  S = REPLACE(S,C,D)\n",
        "\n",
        "print(S)"
      ],
      "metadata": {
        "id": "pnh3UzGGGcR0"
      },
      "execution_count": null,
      "outputs": []
    },
    {
      "cell_type": "code",
      "source": [
        "def REPLACE(ORIGINAL,TARGET,REPLACEMENT):\n",
        "  RESULT = list(ORIGINAL)\n",
        "  TARGET_LEN = len(TARGET)\n",
        "  REPLACEMENT_LEN = len(REPLACEMENT)\n",
        "\n",
        "  i = 0\n",
        "  while i <= len(RESULT) - TARGET_LEN:\n",
        "    if RESULT[i:i+TARGET_LEN] == list(TARGET):\n",
        "      RESULT[i:i+TARGET_LEN] = list(REPLACEMENT)\n",
        "      i += REPLACEMENT_LEN\n",
        "    else:\n",
        "      i += 1\n",
        "  return \"\".join(RESULT)\n",
        "\n",
        "N = int(input())\n",
        "S = str(input())\n",
        "Q = int(input())\n",
        "C = \"\"\n",
        "D = \"\"\n",
        "\n",
        "for i in range(Q):\n",
        "  C,D = map(str,input().split())\n",
        "  S = REPLACE(S,C,D)\n",
        "\n",
        "print(S)"
      ],
      "metadata": {
        "id": "YJ5RLD4dIewc"
      },
      "execution_count": null,
      "outputs": []
    },
    {
      "cell_type": "markdown",
      "source": [
        "次のコードを高速化してください。\n",
        "\n",
        "N = int(input())\n",
        "S = str(input())\n",
        "Q = int(input())\n",
        "C = \"\"\n",
        "D = \"\"\n",
        "\n",
        "for i in range(Q):\n",
        "  C,D = map(str,input().split())\n",
        "  S = S.replace(C,D)\n",
        "\n",
        "print(S)"
      ],
      "metadata": {
        "id": "8_osXcVILNul"
      }
    },
    {
      "cell_type": "code",
      "source": [
        "N = int(input())\n",
        "S_LIST = list(str(input()))\n",
        "Q = int(input())\n",
        "DICT = {}\n",
        "\n",
        "for i in range(Q):\n",
        "  C,D = map(str,input().split())\n",
        "  DICT[C] = DICT.get(C,0)+1\n",
        "  DICT[D] = DICT.get(D,0)\n",
        "  DICT[D] += DICT[C]\n",
        "  S_LIST = [D if char == C else char for char in S_LIST]\n",
        "\n",
        "print(\"\".join(S_LIST))"
      ],
      "metadata": {
        "id": "o6qVYKtlLhE8"
      },
      "execution_count": null,
      "outputs": []
    },
    {
      "cell_type": "code",
      "source": [
        "N = int(input())\n",
        "S = list(input())\n",
        "Q = int(input())\n",
        "C = \"\"\n",
        "D = \"\"\n",
        "QUERY_LIST = []\n",
        "DICT = {}\n",
        "\n",
        "for i in range(Q):\n",
        "  C,D = map(str,input().split())\n",
        "  QUERY_LIST.append((C,D))\n",
        "\n",
        "for C,D in QUERY_LIST:\n",
        "  DICT[D] = DICT.get(D,0)\n",
        "  DICT[D] += DICT.get(C,0)\n",
        "  for j in range(N):\n",
        "    if S[j] == C:\n",
        "      S[j] = D\n",
        "      DICT[C] = DICT.get(C,0)+1\n",
        "\n",
        "print(\"\".join(S))"
      ],
      "metadata": {
        "id": "AI0l8GAlMtrH"
      },
      "execution_count": null,
      "outputs": []
    },
    {
      "cell_type": "code",
      "source": [
        "from string import ascii_lowercase\n",
        "\n",
        "N = int(input())\n",
        "S = str(input())\n",
        "Q = int(input())\n",
        "C = \"\"\n",
        "D = \"\"\n",
        "FROM = ascii_lowercase\n",
        "TO = ascii_lowercase\n",
        "\n",
        "for i in range(Q):\n",
        "  C,D = map(str,input().split())\n",
        "  TO = TO.replace(C,D)\n",
        "\n",
        "print(S.translate(str.maketrans(FROM,TO)))"
      ],
      "metadata": {
        "id": "Ue2eya79Qi4P"
      },
      "execution_count": null,
      "outputs": []
    }
  ]
}