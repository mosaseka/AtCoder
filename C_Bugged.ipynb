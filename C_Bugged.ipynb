{
  "nbformat": 4,
  "nbformat_minor": 0,
  "metadata": {
    "colab": {
      "provenance": [],
      "authorship_tag": "ABX9TyNcGoRLwdo2Stf4eAg5Tx55",
      "include_colab_link": true
    },
    "kernelspec": {
      "name": "python3",
      "display_name": "Python 3"
    },
    "language_info": {
      "name": "python"
    }
  },
  "cells": [
    {
      "cell_type": "markdown",
      "metadata": {
        "id": "view-in-github",
        "colab_type": "text"
      },
      "source": [
        "<a href=\"https://colab.research.google.com/github/mosaseka/AtCoder/blob/main/C_Bugged.ipynb\" target=\"_parent\"><img src=\"https://colab.research.google.com/assets/colab-badge.svg\" alt=\"Open In Colab\"/></a>"
      ]
    },
    {
      "cell_type": "code",
      "execution_count": null,
      "metadata": {
        "id": "wfSwV2nSUNLd"
      },
      "outputs": [],
      "source": [
        "N = int(input())\n",
        "S_LIST = [int(input()) for i in range(N)]\n",
        "SUM = sum(S_LIST)\n",
        "\n",
        "if SUM % 10 != 0:\n",
        "  print(SUM)\n",
        "  exit()\n",
        "\n",
        "for i in range(N):\n",
        "  if (SUM-S_LIST[i]) % 10 != 0:\n",
        "    print(SUM-S_LIST[i])\n",
        "    exit()\n",
        "  else:\n",
        "    SUM -= S_LIST[i]\n",
        "\n",
        "print(0)"
      ]
    },
    {
      "cell_type": "code",
      "source": [
        "N = int(input())\n",
        "S_LIST = [int(input()) for i in range(N)]\n",
        "SUM = sum(S_LIST)\n",
        "\n",
        "if SUM % 10 != 0:\n",
        "  print(SUM)\n",
        "  exit()\n",
        "\n",
        "S_LIST.sort()\n",
        "\n",
        "for i in range(N):\n",
        "  if S_LIST[i] % 10 != 0:\n",
        "    SUM -= S_LIST[i]\n",
        "    if SUM % 10 != 0:\n",
        "      print(SUM)\n",
        "      exit()\n",
        "\n",
        "print(0)"
      ],
      "metadata": {
        "id": "1Q2yZo5gWiNY"
      },
      "execution_count": null,
      "outputs": []
    }
  ]
}