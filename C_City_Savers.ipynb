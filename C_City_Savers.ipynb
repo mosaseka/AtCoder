{
  "nbformat": 4,
  "nbformat_minor": 0,
  "metadata": {
    "colab": {
      "provenance": [],
      "authorship_tag": "ABX9TyOkydG4tUKKbnkBd08HwcLB",
      "include_colab_link": true
    },
    "kernelspec": {
      "name": "python3",
      "display_name": "Python 3"
    },
    "language_info": {
      "name": "python"
    }
  },
  "cells": [
    {
      "cell_type": "markdown",
      "metadata": {
        "id": "view-in-github",
        "colab_type": "text"
      },
      "source": [
        "<a href=\"https://colab.research.google.com/github/mosaseka/AtCoder/blob/main/C_City_Savers.ipynb\" target=\"_parent\"><img src=\"https://colab.research.google.com/assets/colab-badge.svg\" alt=\"Open In Colab\"/></a>"
      ]
    },
    {
      "cell_type": "code",
      "source": [
        "N = int(input())\n",
        "A_LIST = list(map(int,input().split()))\n",
        "B_LIST = list(map(int,input().split()))\n",
        "ANSWER = 0\n",
        "DELTA = 0\n",
        "\n",
        "for i in range(N):\n",
        "  if A_LIST[i] >= B_LIST[i]:\n",
        "    ANSWER += B_LIST[i]\n",
        "    A_LIST[i] -= B_LIST[i]\n",
        "  else:\n",
        "    ANSWER += A_LIST[i]\n",
        "    B_LIST[i] -= A_LIST[i]\n",
        "    if A_LIST[i+1] >= B_LIST[i]:\n",
        "      ANSWER += B_LIST[i]\n",
        "      A_LIST[i+1] -= B_LIST[i]\n",
        "    else:\n",
        "      ANSWER += A_LIST[i+1]\n",
        "      B_LIST[i] -= A_LIST[i+1]\n",
        "\n",
        "print(ANSWER)"
      ],
      "metadata": {
        "colab": {
          "base_uri": "https://localhost:8080/"
        },
        "id": "_bvQF-cWzl9b",
        "outputId": "97f1c546-b0fc-4357-ce64-973ece540f8e"
      },
      "execution_count": null,
      "outputs": [
        {
          "output_type": "stream",
          "name": "stdout",
          "text": [
            "2\n",
            "3 5 2\n",
            "4 5\n",
            "9\n"
          ]
        }
      ]
    },
    {
      "cell_type": "code",
      "source": [
        "N = int(input())\n",
        "A_LIST = list(map(int,input().split()))\n",
        "B_LIST = list(map(int,input().split()))\n",
        "ANSWER = 0\n",
        "DELTA = 0\n",
        "\n",
        "for i in range(N):\n",
        "  if B_LIST[i] >= A_LIST[i]:\n",
        "    DELTA = min(B_LIST[i] - A_LIST[i],A_LIST[i+1])\n",
        "    ANSWER += A_LIST[i] + DELTA\n",
        "    A_LIST[i+1] = max(0,A_LIST[i+1] - DELTA)\n",
        "  else:\n",
        "    ANSWER += B_LIST[i]\n",
        "\n",
        "print(ANSWER)"
      ],
      "metadata": {
        "id": "WTX6j6JbB_9M"
      },
      "execution_count": null,
      "outputs": []
    }
  ]
}