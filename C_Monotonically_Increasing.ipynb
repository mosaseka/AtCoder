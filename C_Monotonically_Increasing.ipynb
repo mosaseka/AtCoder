{
  "nbformat": 4,
  "nbformat_minor": 0,
  "metadata": {
    "colab": {
      "provenance": [],
      "authorship_tag": "ABX9TyMGG+URRmd8JDl1tS3a9Vd6",
      "include_colab_link": true
    },
    "kernelspec": {
      "name": "python3",
      "display_name": "Python 3"
    },
    "language_info": {
      "name": "python"
    }
  },
  "cells": [
    {
      "cell_type": "markdown",
      "metadata": {
        "id": "view-in-github",
        "colab_type": "text"
      },
      "source": [
        "<a href=\"https://colab.research.google.com/github/mosaseka/AtCoder/blob/main/C_Monotonically_Increasing.ipynb\" target=\"_parent\"><img src=\"https://colab.research.google.com/assets/colab-badge.svg\" alt=\"Open In Colab\"/></a>"
      ]
    },
    {
      "cell_type": "code",
      "execution_count": null,
      "metadata": {
        "id": "sPIouLgzFTJs"
      },
      "outputs": [],
      "source": [
        "import itertools\n",
        "\n",
        "N,M = map(int,input().split())\n",
        "NUM_LIST = [i+1 for i in range(M)]\n",
        "ANSWER_LIST = list(itertools.combinations(NUM_LIST,N))\n",
        "\n",
        "for i in range(len(ANSWER_LIST)):\n",
        "  print(*ANSWER_LIST[i])"
      ]
    }
  ]
}