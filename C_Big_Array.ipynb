{
  "nbformat": 4,
  "nbformat_minor": 0,
  "metadata": {
    "colab": {
      "provenance": [],
      "authorship_tag": "ABX9TyPsxPo1mRwkJ+/zNGYxPaDu",
      "include_colab_link": true
    },
    "kernelspec": {
      "name": "python3",
      "display_name": "Python 3"
    },
    "language_info": {
      "name": "python"
    }
  },
  "cells": [
    {
      "cell_type": "markdown",
      "metadata": {
        "id": "view-in-github",
        "colab_type": "text"
      },
      "source": [
        "<a href=\"https://colab.research.google.com/github/mosaseka/AtCoder/blob/main/C_Big_Array.ipynb\" target=\"_parent\"><img src=\"https://colab.research.google.com/assets/colab-badge.svg\" alt=\"Open In Colab\"/></a>"
      ]
    },
    {
      "cell_type": "code",
      "execution_count": null,
      "metadata": {
        "id": "O6arfmkT1CG3"
      },
      "outputs": [],
      "source": [
        "from collections import deque\n",
        "\n",
        "N,K = map(int,input().split())\n",
        "DEQ = deque()\n",
        "A = 0\n",
        "B = 0\n",
        "\n",
        "for i in range(N):\n",
        "  A,B = map(int,input().split())\n",
        "  for j in range(B):\n",
        "    DEQ.append(A)\n",
        "\n",
        "print(DEQ[K-1])"
      ]
    },
    {
      "cell_type": "code",
      "source": [
        "N,K = map(int,input().split())\n",
        "LIST = []\n",
        "A = 0\n",
        "B = 0\n",
        "\n",
        "for i in range(N):\n",
        "  A,B = map(int,input().split())\n",
        "  LIST += [A for j in range(B)]\n",
        "\n",
        "LIST.sort()\n",
        "\n",
        "print(LIST[K-1])"
      ],
      "metadata": {
        "id": "Z7m8DUdH2B1t"
      },
      "execution_count": null,
      "outputs": []
    },
    {
      "cell_type": "code",
      "source": [
        "N,K = map(int,input().split())\n",
        "LIST = [0 for i in range(10**5)]\n",
        "A = 0\n",
        "B = 0\n",
        "CHECK = 0\n",
        "\n",
        "for i in range(N):\n",
        "  A,B = map(int,input().split())\n",
        "  LIST[A-1] += B\n",
        "\n",
        "for i in range(10**5):\n",
        "  CHECK += LIST[i]\n",
        "  if CHECK >= K:\n",
        "    print(i+1)\n",
        "    exit()"
      ],
      "metadata": {
        "id": "eIx1l2Ll2tNH"
      },
      "execution_count": null,
      "outputs": []
    }
  ]
}