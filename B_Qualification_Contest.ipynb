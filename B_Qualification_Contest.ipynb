{
  "nbformat": 4,
  "nbformat_minor": 0,
  "metadata": {
    "colab": {
      "provenance": [],
      "authorship_tag": "ABX9TyMXBUpiw6BggQXgPROAMKx9",
      "include_colab_link": true
    },
    "kernelspec": {
      "name": "python3",
      "display_name": "Python 3"
    },
    "language_info": {
      "name": "python"
    }
  },
  "cells": [
    {
      "cell_type": "markdown",
      "metadata": {
        "id": "view-in-github",
        "colab_type": "text"
      },
      "source": [
        "<a href=\"https://colab.research.google.com/github/mosaseka/AtCoder/blob/main/B_Qualification_Contest.ipynb\" target=\"_parent\"><img src=\"https://colab.research.google.com/assets/colab-badge.svg\" alt=\"Open In Colab\"/></a>"
      ]
    },
    {
      "cell_type": "code",
      "execution_count": null,
      "metadata": {
        "colab": {
          "base_uri": "https://localhost:8080/"
        },
        "id": "xxTscBDoUbxh",
        "outputId": "12abe798-8ca6-4d9a-e947-2b328f83e46c"
      },
      "outputs": [
        {
          "output_type": "stream",
          "name": "stdout",
          "text": [
            "5 3\n",
            "abc\n",
            "aaaaa\n",
            "xyz\n",
            "a\n",
            "def\n",
            "aaaaa\n",
            "abc\n",
            "xyz\n"
          ]
        }
      ],
      "source": [
        "N,K = map(int,input().split())\n",
        "NAME_LIST = []\n",
        "\n",
        "for i in range(N):\n",
        "  NAME_LIST.append(str(input()))\n",
        "\n",
        "del NAME_LIST[K:N]\n",
        "NAME_LIST.sort()\n",
        "\n",
        "for i in range(K):\n",
        "  print(NAME_LIST[i])"
      ]
    }
  ]
}