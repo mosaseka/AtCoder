{
  "nbformat": 4,
  "nbformat_minor": 0,
  "metadata": {
    "colab": {
      "provenance": [],
      "authorship_tag": "ABX9TyPYn3QruoVr6qxwvr5QSCTE",
      "include_colab_link": true
    },
    "kernelspec": {
      "name": "python3",
      "display_name": "Python 3"
    },
    "language_info": {
      "name": "python"
    }
  },
  "cells": [
    {
      "cell_type": "markdown",
      "metadata": {
        "id": "view-in-github",
        "colab_type": "text"
      },
      "source": [
        "<a href=\"https://colab.research.google.com/github/mosaseka/AtCoder/blob/main/C_Swappable.ipynb\" target=\"_parent\"><img src=\"https://colab.research.google.com/assets/colab-badge.svg\" alt=\"Open In Colab\"/></a>"
      ]
    },
    {
      "cell_type": "code",
      "execution_count": null,
      "metadata": {
        "id": "PWUGfc2Y-fJU"
      },
      "outputs": [],
      "source": [
        "import itertools\n",
        "\n",
        "N = int(input())\n",
        "A_LIST = list(map(int,input().split()))\n",
        "A_COMB = []\n",
        "COUNT = 0\n",
        "\n",
        "for i in range(N):\n",
        "  A_LIST[i] = (A_LIST[i],i)\n",
        "\n",
        "A_COMB = list(itertools.combinations(A_LIST,2))\n",
        "#print(A_COMB)\n",
        "\n",
        "for i in range(len(A_COMB)):\n",
        "  if A_COMB[i][0][0] != A_COMB[i][1][0] and A_COMB[i][0][1] < A_COMB[i][1][1]:\n",
        "    COUNT += 1\n",
        "\n",
        "print(COUNT)"
      ]
    },
    {
      "cell_type": "code",
      "source": [
        "import collections\n",
        "\n",
        "N = int(input())\n",
        "A_LIST = list(map(int,input().split()))\n",
        "A_COUNT = collections.Counter(A_LIST).items()\n",
        "ANSWER = N*(N-1)//2\n",
        "CHECK = 0\n",
        "\n",
        "for i,j in A_COUNT:\n",
        "  CHECK += j*(j-1)//2\n",
        "\n",
        "print(ANSWER-CHECK)"
      ],
      "metadata": {
        "id": "ByXZrZFkB0iM"
      },
      "execution_count": null,
      "outputs": []
    }
  ]
}