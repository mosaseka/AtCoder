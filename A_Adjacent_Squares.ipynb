{
  "nbformat": 4,
  "nbformat_minor": 0,
  "metadata": {
    "colab": {
      "provenance": [],
      "authorship_tag": "ABX9TyOpleiFYzpVbdtgtXh2RWtL",
      "include_colab_link": true
    },
    "kernelspec": {
      "name": "python3",
      "display_name": "Python 3"
    },
    "language_info": {
      "name": "python"
    }
  },
  "cells": [
    {
      "cell_type": "markdown",
      "metadata": {
        "id": "view-in-github",
        "colab_type": "text"
      },
      "source": [
        "<a href=\"https://colab.research.google.com/github/mosaseka/AtCoder/blob/main/A_Adjacent_Squares.ipynb\" target=\"_parent\"><img src=\"https://colab.research.google.com/assets/colab-badge.svg\" alt=\"Open In Colab\"/></a>"
      ]
    },
    {
      "cell_type": "code",
      "execution_count": null,
      "metadata": {
        "id": "ClLDAGjAtm0P"
      },
      "outputs": [],
      "source": [
        "H,W = map(int,input().split())\n",
        "R,C = map(int,input().split())\n",
        "COUNT = 0\n",
        "\n",
        "if C != 1:\n",
        "  COUNT += 1\n",
        "if C != W:\n",
        "  COUNT += 1\n",
        "if R != 1:\n",
        "  COUNT += 1\n",
        "if R != H:\n",
        "  COUNT += 1\n",
        "\n",
        "print(COUNT)"
      ]
    }
  ]
}