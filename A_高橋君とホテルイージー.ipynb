{
  "nbformat": 4,
  "nbformat_minor": 0,
  "metadata": {
    "colab": {
      "provenance": [],
      "authorship_tag": "ABX9TyMqEZGkWCOGBHp/1dcYmRuV",
      "include_colab_link": true
    },
    "kernelspec": {
      "name": "python3",
      "display_name": "Python 3"
    },
    "language_info": {
      "name": "python"
    }
  },
  "cells": [
    {
      "cell_type": "markdown",
      "metadata": {
        "id": "view-in-github",
        "colab_type": "text"
      },
      "source": [
        "<a href=\"https://colab.research.google.com/github/mosaseka/AtCoder/blob/main/A_%E9%AB%98%E6%A9%8B%E5%90%9B%E3%81%A8%E3%83%9B%E3%83%86%E3%83%AB%E3%82%A4%E3%83%BC%E3%82%B8%E3%83%BC.ipynb\" target=\"_parent\"><img src=\"https://colab.research.google.com/assets/colab-badge.svg\" alt=\"Open In Colab\"/></a>"
      ]
    },
    {
      "cell_type": "code",
      "execution_count": null,
      "metadata": {
        "id": "fEpwbA5k1E98"
      },
      "outputs": [],
      "source": [
        "N = int(input())\n",
        "K = int(input())\n",
        "X = int(input())\n",
        "Y = int(input())\n",
        "ANSWER = 0\n",
        "\n",
        "for i in range(N):\n",
        "  if (i+1) > K:\n",
        "    ANSWER += Y\n",
        "  else:\n",
        "    ANSWER += X\n",
        "\n",
        "print(ANSWER)"
      ]
    }
  ]
}