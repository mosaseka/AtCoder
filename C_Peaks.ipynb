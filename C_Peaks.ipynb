{
  "nbformat": 4,
  "nbformat_minor": 0,
  "metadata": {
    "colab": {
      "provenance": [],
      "authorship_tag": "ABX9TyM3iPIbSaZj8xWjysBQ1ZGF",
      "include_colab_link": true
    },
    "kernelspec": {
      "name": "python3",
      "display_name": "Python 3"
    },
    "language_info": {
      "name": "python"
    }
  },
  "cells": [
    {
      "cell_type": "markdown",
      "metadata": {
        "id": "view-in-github",
        "colab_type": "text"
      },
      "source": [
        "<a href=\"https://colab.research.google.com/github/mosaseka/AtCoder/blob/main/C_Peaks.ipynb\" target=\"_parent\"><img src=\"https://colab.research.google.com/assets/colab-badge.svg\" alt=\"Open In Colab\"/></a>"
      ]
    },
    {
      "cell_type": "code",
      "execution_count": null,
      "metadata": {
        "id": "J33C9hOxCBXB"
      },
      "outputs": [],
      "source": [
        "N,M = map(int,input().split())\n",
        "H_LIST = list(map(int,input().split()))\n",
        "AB_LIST = [tuple(map(int,input().split())) for i in range(M)]\n",
        "ANSWER_LIST = [0 for i in range(N)]\n",
        "\n",
        "AB_LIST = list(set(AB_LIST))\n",
        "\n",
        "for i in range(len(AB_LIST)):\n",
        "  if H_LIST[AB_LIST[i][0]-1] < H_LIST[AB_LIST[i][1]-1]:\n",
        "    ANSWER_LIST[AB_LIST[i][0]-1] += 1\n",
        "  elif H_LIST[AB_LIST[i][0]-1] > H_LIST[AB_LIST[i][1]-1]:\n",
        "    ANSWER_LIST[AB_LIST[i][1]-1] += 1\n",
        "  elif H_LIST[AB_LIST[i][0]-1] == H_LIST[AB_LIST[i][1]-1]:\n",
        "    ANSWER_LIST[AB_LIST[i][0]-1] += 1\n",
        "    ANSWER_LIST[AB_LIST[i][1]-1] += 1\n",
        "\n",
        "print(ANSWER_LIST.count(0))"
      ]
    }
  ]
}