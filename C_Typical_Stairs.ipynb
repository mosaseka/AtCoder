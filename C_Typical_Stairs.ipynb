{
  "nbformat": 4,
  "nbformat_minor": 0,
  "metadata": {
    "colab": {
      "provenance": [],
      "authorship_tag": "ABX9TyMWbhvfKjSNJskKEGLf6P/f",
      "include_colab_link": true
    },
    "kernelspec": {
      "name": "python3",
      "display_name": "Python 3"
    },
    "language_info": {
      "name": "python"
    }
  },
  "cells": [
    {
      "cell_type": "markdown",
      "metadata": {
        "id": "view-in-github",
        "colab_type": "text"
      },
      "source": [
        "<a href=\"https://colab.research.google.com/github/mosaseka/AtCoder/blob/main/C_Typical_Stairs.ipynb\" target=\"_parent\"><img src=\"https://colab.research.google.com/assets/colab-badge.svg\" alt=\"Open In Colab\"/></a>"
      ]
    },
    {
      "cell_type": "code",
      "execution_count": null,
      "metadata": {
        "id": "yftixw6Z3zR4"
      },
      "outputs": [],
      "source": [
        "N,M = map(int,input().split())\n",
        "DP = [0 for i in range(N+1)]\n",
        "STAIR_LIST = [True for i in range(N+1)]\n",
        "\n",
        "DP[0] = 1\n",
        "\n",
        "for i in range(M):\n",
        "  STAIR_LIST[int(input())] = False\n",
        "\n",
        "if STAIR_LIST[1]:\n",
        "  DP[1] = 1\n",
        "else:\n",
        "  DP[1] = 0\n",
        "\n",
        "for i in range(2,N+1):\n",
        "  if STAIR_LIST[i]:\n",
        "    DP[i] = (DP[i-1] + DP[i-2]) % 1000000007\n",
        "\n",
        "print(DP[-1])"
      ]
    }
  ]
}