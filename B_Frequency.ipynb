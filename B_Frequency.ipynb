{
  "nbformat": 4,
  "nbformat_minor": 0,
  "metadata": {
    "colab": {
      "provenance": [],
      "authorship_tag": "ABX9TyPpJYpDYL0YbBMIRrkzYmvo",
      "include_colab_link": true
    },
    "kernelspec": {
      "name": "python3",
      "display_name": "Python 3"
    },
    "language_info": {
      "name": "python"
    }
  },
  "cells": [
    {
      "cell_type": "markdown",
      "metadata": {
        "id": "view-in-github",
        "colab_type": "text"
      },
      "source": [
        "<a href=\"https://colab.research.google.com/github/mosaseka/AtCoder/blob/main/B_Frequency.ipynb\" target=\"_parent\"><img src=\"https://colab.research.google.com/assets/colab-badge.svg\" alt=\"Open In Colab\"/></a>"
      ]
    },
    {
      "cell_type": "code",
      "execution_count": null,
      "metadata": {
        "id": "DmXYxpHXZ2yi"
      },
      "outputs": [],
      "source": [
        "from collections import Counter\n",
        "\n",
        "S = list(map(str,input()))\n",
        "S_COUNT = Counter(S)\n",
        "\n",
        "S_COUNT = list(S_COUNT.items())\n",
        "S_COUNT.sort()\n",
        "S_COUNT.sort(reverse=True,key=lambda x:x[1])\n",
        "#print(S_COUNT)\n",
        "\n",
        "print(S_COUNT[0][0])"
      ]
    }
  ]
}