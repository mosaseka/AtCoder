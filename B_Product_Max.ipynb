{
  "nbformat": 4,
  "nbformat_minor": 0,
  "metadata": {
    "colab": {
      "provenance": [],
      "authorship_tag": "ABX9TyNJ2M1Eb5NyAEPWQnb+4YhZ",
      "include_colab_link": true
    },
    "kernelspec": {
      "name": "python3",
      "display_name": "Python 3"
    },
    "language_info": {
      "name": "python"
    }
  },
  "cells": [
    {
      "cell_type": "markdown",
      "metadata": {
        "id": "view-in-github",
        "colab_type": "text"
      },
      "source": [
        "<a href=\"https://colab.research.google.com/github/mosaseka/AtCoder/blob/main/B_Product_Max.ipynb\" target=\"_parent\"><img src=\"https://colab.research.google.com/assets/colab-badge.svg\" alt=\"Open In Colab\"/></a>"
      ]
    },
    {
      "cell_type": "code",
      "execution_count": null,
      "metadata": {
        "id": "u0WVIeANAjTM"
      },
      "outputs": [],
      "source": [
        "A,B,C,D = map(int,input().split())\n",
        "AC = A*C\n",
        "AD = A*D\n",
        "BC = B*C\n",
        "BD = B*D\n",
        "\n",
        "print(max(AC,AD,BC,BD))"
      ]
    }
  ]
}