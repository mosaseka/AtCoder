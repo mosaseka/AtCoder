{
  "nbformat": 4,
  "nbformat_minor": 0,
  "metadata": {
    "colab": {
      "provenance": [],
      "authorship_tag": "ABX9TyOq7MzP9rvY0JQWMPnkdIv5",
      "include_colab_link": true
    },
    "kernelspec": {
      "name": "python3",
      "display_name": "Python 3"
    },
    "language_info": {
      "name": "python"
    }
  },
  "cells": [
    {
      "cell_type": "markdown",
      "metadata": {
        "id": "view-in-github",
        "colab_type": "text"
      },
      "source": [
        "<a href=\"https://colab.research.google.com/github/mosaseka/AtCoder/blob/main/B_Tax_Rate.ipynb\" target=\"_parent\"><img src=\"https://colab.research.google.com/assets/colab-badge.svg\" alt=\"Open In Colab\"/></a>"
      ]
    },
    {
      "cell_type": "code",
      "execution_count": null,
      "metadata": {
        "colab": {
          "base_uri": "https://localhost:8080/"
        },
        "id": "pM9I96hHZjsU",
        "outputId": "1dd0a5c8-3148-4018-816a-060fe55b1153"
      },
      "outputs": [
        {
          "output_type": "stream",
          "name": "stdout",
          "text": [
            "1001\n",
            "927\n"
          ]
        }
      ],
      "source": [
        "import math\n",
        "\n",
        "N = int(input())\n",
        "ANSWER = math.ceil(N/1.08)\n",
        "\n",
        "if math.floor(ANSWER * 1.08) == N:\n",
        "  print(ANSWER)\n",
        "else:\n",
        "  print(\":(\")"
      ]
    }
  ]
}