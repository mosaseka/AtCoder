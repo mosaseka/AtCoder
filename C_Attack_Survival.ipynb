{
  "nbformat": 4,
  "nbformat_minor": 0,
  "metadata": {
    "colab": {
      "provenance": [],
      "authorship_tag": "ABX9TyPBGnvcP4CKLwHGOZvs4sQk",
      "include_colab_link": true
    },
    "kernelspec": {
      "name": "python3",
      "display_name": "Python 3"
    },
    "language_info": {
      "name": "python"
    }
  },
  "cells": [
    {
      "cell_type": "markdown",
      "metadata": {
        "id": "view-in-github",
        "colab_type": "text"
      },
      "source": [
        "<a href=\"https://colab.research.google.com/github/mosaseka/AtCoder/blob/main/C_Attack_Survival.ipynb\" target=\"_parent\"><img src=\"https://colab.research.google.com/assets/colab-badge.svg\" alt=\"Open In Colab\"/></a>"
      ]
    },
    {
      "cell_type": "code",
      "execution_count": null,
      "metadata": {
        "colab": {
          "base_uri": "https://localhost:8080/"
        },
        "id": "0nD4GYRBdSef",
        "outputId": "441aab59-333e-4b32-f47c-358fde42794f"
      },
      "outputs": [
        {
          "output_type": "stream",
          "name": "stdout",
          "text": [
            "6 5 4\n",
            "3\n",
            "1\n",
            "3\n",
            "2\n",
            "Yes\n",
            "Yes\n",
            "Yes\n",
            "Yes\n",
            "Yes\n",
            "Yes\n"
          ]
        }
      ],
      "source": [
        "N,K,Q = map(int,input().split())\n",
        "POINT_LIST = []\n",
        "A_LIST = []\n",
        "\n",
        "for i in range(N):\n",
        "  POINT_LIST.append(K)\n",
        "\n",
        "for i in range(Q):\n",
        "  A_LIST.append(int(input()))\n",
        "\n",
        "for i in range(Q):\n",
        "  POINT_LIST = [j - 1 for j in POINT_LIST]\n",
        "  POINT_LIST[A_LIST[i]-1] += 1\n",
        "\n",
        "for i in range(N):\n",
        "  if POINT_LIST[i] > 0:\n",
        "    print(\"Yes\")\n",
        "  else:\n",
        "    print(\"No\")"
      ]
    },
    {
      "cell_type": "code",
      "source": [
        "N,K,Q = map(int,input().split())\n",
        "POINT_LIST = []\n",
        "A = 0\n",
        "\n",
        "POINT_LIST = [K-Q] * N\n",
        "\n",
        "#print(POINT_LIST)\n",
        "\n",
        "for i in range(Q):\n",
        "  A = int(input())\n",
        "  POINT_LIST[A-1] += 1\n",
        "\n",
        "for i in range(N):\n",
        "  if POINT_LIST[i] > 0:\n",
        "    print(\"Yes\")\n",
        "  else:\n",
        "    print(\"No\")"
      ],
      "metadata": {
        "colab": {
          "base_uri": "https://localhost:8080/"
        },
        "id": "_dcZQ8QYH1QU",
        "outputId": "d8883437-37dc-4c00-b4c1-7bd8eb3bc010"
      },
      "execution_count": null,
      "outputs": [
        {
          "output_type": "stream",
          "name": "stdout",
          "text": [
            "6 5 4\n",
            "[1, 1, 1, 1, 1, 1]\n",
            "3\n",
            "1\n",
            "3\n",
            "2\n",
            "Yes\n",
            "Yes\n",
            "Yes\n",
            "Yes\n",
            "Yes\n",
            "Yes\n"
          ]
        }
      ]
    }
  ]
}