{
  "nbformat": 4,
  "nbformat_minor": 0,
  "metadata": {
    "colab": {
      "provenance": [],
      "authorship_tag": "ABX9TyPqt0pUDk12B90Xr0+psIs7",
      "include_colab_link": true
    },
    "kernelspec": {
      "name": "python3",
      "display_name": "Python 3"
    },
    "language_info": {
      "name": "python"
    }
  },
  "cells": [
    {
      "cell_type": "markdown",
      "metadata": {
        "id": "view-in-github",
        "colab_type": "text"
      },
      "source": [
        "<a href=\"https://colab.research.google.com/github/mosaseka/AtCoder/blob/main/A_Thumbnail.ipynb\" target=\"_parent\"><img src=\"https://colab.research.google.com/assets/colab-badge.svg\" alt=\"Open In Colab\"/></a>"
      ]
    },
    {
      "cell_type": "code",
      "execution_count": null,
      "metadata": {
        "id": "7oLt9XQJS4uv"
      },
      "outputs": [],
      "source": [
        "import statistics\n",
        "import numpy as np\n",
        "\n",
        "def getNearestValue(list, num):\n",
        "    \"\"\"\n",
        "    概要: リストからある値に最も近い値を返却する関数\n",
        "    @param list: データ配列\n",
        "    @param num: 対象値\n",
        "    @return 対象値に最も近い値\n",
        "    \"\"\"\n",
        "\n",
        "    # リスト要素と対象値の差分を計算し最小値のインデックスを取得\n",
        "    idx = np.abs(np.asarray(list) - num).argmin()\n",
        "    return list[idx]\n",
        "\n",
        "N = int(input())\n",
        "A_LIST = list(map(int,input().split()))\n",
        "AVERAGE = statistics.mean(A_LIST)\n",
        "\n",
        "print(A_LIST.index(getNearestValue(A_LIST,AVERAGE)))"
      ]
    }
  ]
}