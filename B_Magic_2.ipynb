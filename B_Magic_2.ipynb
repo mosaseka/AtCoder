{
  "nbformat": 4,
  "nbformat_minor": 0,
  "metadata": {
    "colab": {
      "provenance": [],
      "authorship_tag": "ABX9TyMKrE/ZZEfC8qAYxbtAPRGp",
      "include_colab_link": true
    },
    "kernelspec": {
      "name": "python3",
      "display_name": "Python 3"
    },
    "language_info": {
      "name": "python"
    }
  },
  "cells": [
    {
      "cell_type": "markdown",
      "metadata": {
        "id": "view-in-github",
        "colab_type": "text"
      },
      "source": [
        "<a href=\"https://colab.research.google.com/github/mosaseka/AtCoder/blob/main/B_Magic_2.ipynb\" target=\"_parent\"><img src=\"https://colab.research.google.com/assets/colab-badge.svg\" alt=\"Open In Colab\"/></a>"
      ]
    },
    {
      "cell_type": "code",
      "execution_count": null,
      "metadata": {
        "id": "rKOiWC233_2T"
      },
      "outputs": [],
      "source": [
        "A,B,C = map(int,input().split())\n",
        "K = int(input())\n",
        "COUNT = 0\n",
        "\n",
        "while A >= B:\n",
        "  B *= 2\n",
        "  COUNT += 1\n",
        "\n",
        "#print(COUNT)\n",
        "\n",
        "while B >= C:\n",
        "  C *= 2\n",
        "  COUNT += 1\n",
        "\n",
        "#print(COUNT)\n",
        "\n",
        "if COUNT <= K:\n",
        "  print(\"Yes\")\n",
        "else:\n",
        "  print(\"No\")"
      ]
    }
  ]
}