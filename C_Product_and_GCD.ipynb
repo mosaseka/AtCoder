{
  "nbformat": 4,
  "nbformat_minor": 0,
  "metadata": {
    "colab": {
      "provenance": [],
      "authorship_tag": "ABX9TyP9GxXXlVjUx1OHO2YZxQOq",
      "include_colab_link": true
    },
    "kernelspec": {
      "name": "python3",
      "display_name": "Python 3"
    },
    "language_info": {
      "name": "python"
    }
  },
  "cells": [
    {
      "cell_type": "markdown",
      "metadata": {
        "id": "view-in-github",
        "colab_type": "text"
      },
      "source": [
        "<a href=\"https://colab.research.google.com/github/mosaseka/AtCoder/blob/main/C_Product_and_GCD.ipynb\" target=\"_parent\"><img src=\"https://colab.research.google.com/assets/colab-badge.svg\" alt=\"Open In Colab\"/></a>"
      ]
    },
    {
      "cell_type": "code",
      "execution_count": null,
      "metadata": {
        "id": "gPoJpvff_oFi"
      },
      "outputs": [],
      "source": [
        "N,P = map(int,input().split())\n",
        "ALPHA = 1\n",
        "BETA = 0\n",
        "ANSWER = 1\n",
        "COUNT = 1\n",
        "\n",
        "if N == 1:\n",
        "  print(P)\n",
        "  exit()\n",
        "\n",
        "for i in range(1,N+1):\n",
        "  ALPHA *= 2\n",
        "  if ALPHA > P:\n",
        "    print(1)\n",
        "    exit()\n",
        "\n",
        "while True:\n",
        "  CHECK = pow(COUNT,N)\n",
        "  if CHECK > P:\n",
        "    break\n",
        "  if P % CHECK == 0:\n",
        "    ANSWER = COUNT\n",
        "  COUNT += 1\n",
        "\n",
        "print(ANSWER)"
      ]
    }
  ]
}