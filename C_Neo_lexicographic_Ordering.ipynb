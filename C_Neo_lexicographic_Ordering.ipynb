{
  "nbformat": 4,
  "nbformat_minor": 0,
  "metadata": {
    "colab": {
      "provenance": [],
      "authorship_tag": "ABX9TyNuvs6VePAj0vuEWRiI/deM",
      "include_colab_link": true
    },
    "kernelspec": {
      "name": "python3",
      "display_name": "Python 3"
    },
    "language_info": {
      "name": "python"
    }
  },
  "cells": [
    {
      "cell_type": "markdown",
      "metadata": {
        "id": "view-in-github",
        "colab_type": "text"
      },
      "source": [
        "<a href=\"https://colab.research.google.com/github/mosaseka/AtCoder/blob/main/C_Neo_lexicographic_Ordering.ipynb\" target=\"_parent\"><img src=\"https://colab.research.google.com/assets/colab-badge.svg\" alt=\"Open In Colab\"/></a>"
      ]
    },
    {
      "cell_type": "code",
      "execution_count": null,
      "metadata": {
        "id": "nLPZo4w4-zm-"
      },
      "outputs": [],
      "source": [
        "X_LIST = list(map(str,input()))\n",
        "N = int(input())\n",
        "S_LIST = [str(input()) for i in range(N)]\n",
        "\n",
        "S_LIST = (sorted(S_LIST, key=X_LIST.index))\n",
        "\n",
        "for i in range(N):\n",
        "  print(S_LIST[i])"
      ]
    },
    {
      "cell_type": "code",
      "source": [
        "X = str(input())\n",
        "N = int(input())\n",
        "S = \"\"\n",
        "DICT = dict()\n",
        "ANSWER_LIST = []\n",
        "NEW = []\n",
        "\n",
        "for i in range(len(X)):\n",
        "  DICT[X[i]] = i\n",
        "\n",
        "for i in range(N):\n",
        "  S = str(input())\n",
        "  NEW = []\n",
        "  for j in S:\n",
        "    NEW.append(DICT[j])\n",
        "  ANSWER_LIST.append([NEW,S])\n",
        "\n",
        "ANSWER_LIST.sort()\n",
        "#print(ANSWER_LIST)\n",
        "\n",
        "for i in range(len(ANSWER_LIST)):\n",
        "  print(ANSWER_LIST[i][1])"
      ],
      "metadata": {
        "id": "nKNEAMZaHIqN"
      },
      "execution_count": null,
      "outputs": []
    }
  ]
}