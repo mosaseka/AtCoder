{
  "nbformat": 4,
  "nbformat_minor": 0,
  "metadata": {
    "colab": {
      "provenance": [],
      "authorship_tag": "ABX9TyOxoEqE1oLZU99Fkx859R0Z",
      "include_colab_link": true
    },
    "kernelspec": {
      "name": "python3",
      "display_name": "Python 3"
    },
    "language_info": {
      "name": "python"
    }
  },
  "cells": [
    {
      "cell_type": "markdown",
      "metadata": {
        "id": "view-in-github",
        "colab_type": "text"
      },
      "source": [
        "<a href=\"https://colab.research.google.com/github/mosaseka/AtCoder/blob/main/B_Various_distances.ipynb\" target=\"_parent\"><img src=\"https://colab.research.google.com/assets/colab-badge.svg\" alt=\"Open In Colab\"/></a>"
      ]
    },
    {
      "cell_type": "code",
      "execution_count": null,
      "metadata": {
        "id": "R2410Kcv3iTT"
      },
      "outputs": [],
      "source": [
        "import math\n",
        "\n",
        "N = int(input())\n",
        "X_LIST = list(map(int,input().split()))\n",
        "ABS_X = list(map(lambda x: abs(x),X_LIST))\n",
        "M_DIST = 0\n",
        "E_DIST = 0\n",
        "C_DIST = 0\n",
        "\n",
        "for i in range(N):\n",
        "  E_DIST += X_LIST[i]**2\n",
        "\n",
        "M_DIST = sum(ABS_X)\n",
        "E_DIST = math.sqrt(E_DIST)\n",
        "C_DIST = max(ABS_X)\n",
        "\n",
        "print(M_DIST)\n",
        "print(E_DIST)\n",
        "print(C_DIST)"
      ]
    }
  ]
}