{
  "nbformat": 4,
  "nbformat_minor": 0,
  "metadata": {
    "colab": {
      "provenance": [],
      "authorship_tag": "ABX9TyP4kupeD0ZTXtuUre1WQgO2",
      "include_colab_link": true
    },
    "kernelspec": {
      "name": "python3",
      "display_name": "Python 3"
    },
    "language_info": {
      "name": "python"
    }
  },
  "cells": [
    {
      "cell_type": "markdown",
      "metadata": {
        "id": "view-in-github",
        "colab_type": "text"
      },
      "source": [
        "<a href=\"https://colab.research.google.com/github/mosaseka/AtCoder/blob/main/A_Scoreboard.ipynb\" target=\"_parent\"><img src=\"https://colab.research.google.com/assets/colab-badge.svg\" alt=\"Open In Colab\"/></a>"
      ]
    },
    {
      "cell_type": "code",
      "execution_count": null,
      "metadata": {
        "id": "42Qv4op5WJMj"
      },
      "outputs": [],
      "source": [
        "N = int(input())\n",
        "X = 0\n",
        "Y = 0\n",
        "X_SUM = 0\n",
        "Y_SUM = 0\n",
        "\n",
        "for i in range(N):\n",
        "  X,Y = map(int,input().split())\n",
        "  X_SUM += X\n",
        "  Y_SUM += Y\n",
        "\n",
        "#print(X_SUM)\n",
        "#print(Y_SUM)\n",
        "\n",
        "if X_SUM > Y_SUM:\n",
        "  print(\"Takahashi\")\n",
        "elif Y_SUM > X_SUM:\n",
        "  print(\"Aoki\")\n",
        "else:\n",
        "  print(\"Draw\")"
      ]
    }
  ]
}