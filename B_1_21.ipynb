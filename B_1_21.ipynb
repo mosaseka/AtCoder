{
  "nbformat": 4,
  "nbformat_minor": 0,
  "metadata": {
    "colab": {
      "provenance": [],
      "authorship_tag": "ABX9TyPdTd13x1UVtn2ePxuRgapu",
      "include_colab_link": true
    },
    "kernelspec": {
      "name": "python3",
      "display_name": "Python 3"
    },
    "language_info": {
      "name": "python"
    }
  },
  "cells": [
    {
      "cell_type": "markdown",
      "metadata": {
        "id": "view-in-github",
        "colab_type": "text"
      },
      "source": [
        "<a href=\"https://colab.research.google.com/github/mosaseka/AtCoder/blob/main/B_1_21.ipynb\" target=\"_parent\"><img src=\"https://colab.research.google.com/assets/colab-badge.svg\" alt=\"Open In Colab\"/></a>"
      ]
    },
    {
      "cell_type": "code",
      "execution_count": null,
      "metadata": {
        "colab": {
          "base_uri": "https://localhost:8080/"
        },
        "id": "UB2FORS5PI4E",
        "outputId": "5cae9c33-2cc0-4ccd-f282-7baaee62bc94"
      },
      "outputs": [
        {
          "output_type": "stream",
          "name": "stdout",
          "text": [
            "100 100\n",
            "No\n"
          ]
        }
      ],
      "source": [
        "import math\n",
        "\n",
        "A,B = map(str,input().split())\n",
        "\n",
        "NUM = int(str(A)+str(B))\n",
        "\n",
        "#print(NUM)\n",
        "#print(math.sqrt(NUM)**2)\n",
        "\n",
        "if (math.floor(math.sqrt(NUM)))**2 == NUM:\n",
        "  print(\"Yes\")\n",
        "else:\n",
        "  print(\"No\")"
      ]
    }
  ]
}