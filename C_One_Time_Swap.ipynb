{
  "nbformat": 4,
  "nbformat_minor": 0,
  "metadata": {
    "colab": {
      "provenance": [],
      "authorship_tag": "ABX9TyPriTJ/2Cb/Vf/sJ6nVWt+c",
      "include_colab_link": true
    },
    "kernelspec": {
      "name": "python3",
      "display_name": "Python 3"
    },
    "language_info": {
      "name": "python"
    }
  },
  "cells": [
    {
      "cell_type": "markdown",
      "metadata": {
        "id": "view-in-github",
        "colab_type": "text"
      },
      "source": [
        "<a href=\"https://colab.research.google.com/github/mosaseka/AtCoder/blob/main/C_One_Time_Swap.ipynb\" target=\"_parent\"><img src=\"https://colab.research.google.com/assets/colab-badge.svg\" alt=\"Open In Colab\"/></a>"
      ]
    },
    {
      "cell_type": "code",
      "source": [
        "def SOLVE(S):\n",
        "    ANSWER = []\n",
        "    for i, j in enumerate(S):\n",
        "        WITHOUT = S[:i] + S[i+1:]\n",
        "        EMPTY = '_' * len(WITHOUT)\n",
        "        replaced_string = [WITHOUT[:k] + j + WITHOUT[k:] for k in range(len(WITHOUT))]\n",
        "        ANSWER.extend(replaced_string)\n",
        "    return ANSWER\n",
        "\n",
        "S = str(input())\n",
        "RESULT = SOLVE(S)\n",
        "\n",
        "RESULT = set(RESULT)\n",
        "RESULT.remove(S)\n",
        "\n",
        "if len(RESULT) == 0:\n",
        "  print(1)\n",
        "else:\n",
        "  print(len(RESULT))"
      ],
      "metadata": {
        "id": "tzTpFOeeThQa"
      },
      "execution_count": null,
      "outputs": []
    },
    {
      "cell_type": "markdown",
      "source": [
        "次の問題をPythonで解いてください。\n",
        "\n",
        "文字列\n",
        "S が与えられます。次の操作を ちょうど\n",
        "1 回 行った後の文字列としてあり得るものがいくつあるか求めてください。\n",
        "\n",
        "S の長さを\n",
        "N とする。\n",
        "1≤i<j≤N をみたす整数の組\n",
        "(i,j) を選び、\n",
        "S の\n",
        "i 文字目と\n",
        "j 文字目を入れ替える。"
      ],
      "metadata": {
        "id": "ZBrxjTIRXeoT"
      }
    },
    {
      "cell_type": "code",
      "source": [
        "from collections import Counter\n",
        "\n",
        "def count_possible_strings(S):\n",
        "    # 文字列Sの長さを取得\n",
        "    N = len(S)\n",
        "\n",
        "    # 文字列S内の各文字の出現回数をカウントする\n",
        "    char_count = Counter(S)\n",
        "\n",
        "    # 重複する文字の個数を計算し、重複した文字を入れ替える操作回数を求める\n",
        "    duplicate_count = sum(count * (count - 1) // 2 for count in char_count.values())\n",
        "\n",
        "    # 全ての操作後の文字列の数を計算\n",
        "    possible_strings = N * (N - 1) // 2 - duplicate_count\n",
        "\n",
        "    return possible_strings\n",
        "\n",
        "# テスト用の文字列を入力\n",
        "S = input(\"文字列Sを入力してください: \")\n",
        "\n",
        "# 可能な文字列の数を計算\n",
        "result = count_possible_strings(S)\n",
        "print(\"操作後に得られる可能性のある文字列の数:\", result)"
      ],
      "metadata": {
        "colab": {
          "base_uri": "https://localhost:8080/"
        },
        "id": "jaBcRnJ9Xr7G",
        "outputId": "5544efe3-12bc-4a1b-cd3d-c7e5d4d0d856"
      },
      "execution_count": 24,
      "outputs": [
        {
          "output_type": "stream",
          "name": "stdout",
          "text": [
            "文字列Sを入力してください: aaaaa\n",
            "操作後に得られる可能性のある文字列の数: 0\n"
          ]
        }
      ]
    },
    {
      "cell_type": "code",
      "source": [
        "from collections import Counter\n",
        "\n",
        "S = str(input())\n",
        "N = len(S)\n",
        "\n",
        "COUNT = Counter(S)\n",
        "NUM = sum(i * (i-1)//2 for i in COUNT.values())\n",
        "ANSWER = N * (N-1)//2 - NUM\n",
        "\n",
        "if ANSWER == 0:\n",
        "  ANSWER = 1\n",
        "\n",
        "print(ANSWER)"
      ],
      "metadata": {
        "id": "RODp0PrSX9MB"
      },
      "execution_count": null,
      "outputs": []
    },
    {
      "cell_type": "code",
      "source": [
        "from collections import Counter\n",
        "\n",
        "def count_possible_strings(S):\n",
        "    # 文字列Sの長さを取得\n",
        "    N = len(S)\n",
        "\n",
        "    # 文字列S内の各文字の出現回数をカウントする\n",
        "    char_count = Counter(S)\n",
        "\n",
        "    # すべての文字が同じ場合は1を返す\n",
        "    if len(char_count) == 1:\n",
        "        return 1\n",
        "\n",
        "    # 重複する文字の個数を計算し、重複した文字を入れ替える操作回数を求める\n",
        "    duplicate_count = sum(count * (count - 1) // 2 for count in char_count.values())\n",
        "\n",
        "    # 全ての操作後の文字列の数を計算\n",
        "    possible_strings = N * (N - 1) // 2 - duplicate_count\n",
        "\n",
        "    return possible_strings\n",
        "\n",
        "# テスト用の文字列を入力\n",
        "S = input(\"文字列Sを入力してください: \")\n",
        "\n",
        "# 可能な文字列の数を計算\n",
        "result = count_possible_strings(S)\n",
        "print(\"操作後に得られる可能性のある文字列の数:\", result)\n"
      ],
      "metadata": {
        "colab": {
          "base_uri": "https://localhost:8080/"
        },
        "id": "r3v7wbuoZTHW",
        "outputId": "02d27e6c-cd90-45ee-a3b0-2a53594dee3c"
      },
      "execution_count": 28,
      "outputs": [
        {
          "output_type": "stream",
          "name": "stdout",
          "text": [
            "文字列Sを入力してください: abc\n",
            "操作後に得られる可能性のある文字列の数: 3\n"
          ]
        }
      ]
    },
    {
      "cell_type": "code",
      "source": [
        "from collections import Counter\n",
        "\n",
        "S = str(input())\n",
        "N = len(S)\n",
        "\n",
        "COUNT = Counter(S)\n",
        "if len(COUNT) == 1:\n",
        "  print(1)\n",
        "  exit()\n",
        "NUM = sum(i * (i-1)//2 for i in COUNT.values())\n",
        "ANSWER = N * (N-1)//2 - NUM\n",
        "\n",
        "print(ANSWER)"
      ],
      "metadata": {
        "colab": {
          "base_uri": "https://localhost:8080/"
        },
        "id": "RiFNHOhLZtkc",
        "outputId": "f82af588-f373-4771-e7de-a60b4bba136f"
      },
      "execution_count": 30,
      "outputs": [
        {
          "output_type": "stream",
          "name": "stdout",
          "text": [
            "abcde\n",
            "10\n"
          ]
        }
      ]
    },
    {
      "cell_type": "code",
      "source": [
        "from collections import Counter\n",
        "\n",
        "S = str(input())\n",
        "COUNT = list(Counter(S).values())\n",
        "ANSWER = 0\n",
        "\n",
        "if any(X>1 for X in COUNT):\n",
        "  ANSWER = 1\n",
        "\n",
        "for i in range(len(COUNT)):\n",
        "  for j in range(i+1,len(COUNT)):\n",
        "    ANSWER += COUNT[i] * COUNT[j]\n",
        "\n",
        "print(ANSWER)"
      ],
      "metadata": {
        "id": "mPSnK0uoaf02"
      },
      "execution_count": null,
      "outputs": []
    }
  ]
}