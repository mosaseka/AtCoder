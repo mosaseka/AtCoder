{
  "nbformat": 4,
  "nbformat_minor": 0,
  "metadata": {
    "colab": {
      "provenance": [],
      "authorship_tag": "ABX9TyNCRkzxOjTTnpK7PxD6aAMR",
      "include_colab_link": true
    },
    "kernelspec": {
      "name": "python3",
      "display_name": "Python 3"
    },
    "language_info": {
      "name": "python"
    }
  },
  "cells": [
    {
      "cell_type": "markdown",
      "metadata": {
        "id": "view-in-github",
        "colab_type": "text"
      },
      "source": [
        "<a href=\"https://colab.research.google.com/github/mosaseka/AtCoder/blob/main/B_Uppercase_and_Lowercase.ipynb\" target=\"_parent\"><img src=\"https://colab.research.google.com/assets/colab-badge.svg\" alt=\"Open In Colab\"/></a>"
      ]
    },
    {
      "cell_type": "code",
      "execution_count": null,
      "metadata": {
        "id": "gvLPf7eHq7g_"
      },
      "outputs": [],
      "source": [
        "S = str(input())\n",
        "S_UPPER = S.upper()\n",
        "S_LOWER = S.lower()\n",
        "UPPER = 0\n",
        "LOWER = 0\n",
        "\n",
        "for i in range(len(S)):\n",
        "  if S[i] != S_UPPER[i]:\n",
        "    LOWER += 1\n",
        "  else:\n",
        "    UPPER += 1\n",
        "\n",
        "if LOWER < UPPER:\n",
        "  print(S_UPPER)\n",
        "else:\n",
        "  print(S_LOWER)"
      ]
    }
  ]
}