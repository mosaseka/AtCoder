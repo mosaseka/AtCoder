{
  "nbformat": 4,
  "nbformat_minor": 0,
  "metadata": {
    "colab": {
      "provenance": [],
      "authorship_tag": "ABX9TyOGeZUCpRHYh+bksgdotZSM",
      "include_colab_link": true
    },
    "kernelspec": {
      "name": "python3",
      "display_name": "Python 3"
    },
    "language_info": {
      "name": "python"
    }
  },
  "cells": [
    {
      "cell_type": "markdown",
      "metadata": {
        "id": "view-in-github",
        "colab_type": "text"
      },
      "source": [
        "<a href=\"https://colab.research.google.com/github/mosaseka/AtCoder/blob/main/C_Colorful_Beans.ipynb\" target=\"_parent\"><img src=\"https://colab.research.google.com/assets/colab-badge.svg\" alt=\"Open In Colab\"/></a>"
      ]
    },
    {
      "cell_type": "code",
      "execution_count": null,
      "metadata": {
        "id": "zxvC4A4daVIr"
      },
      "outputs": [],
      "source": [
        "N = int(input())\n",
        "LIST = [0] * (10**9)\n",
        "\n",
        "for i in range(N):\n",
        "  A,C = map(int,input().split())\n",
        "  LIST[C-1] = min(LIST[C-1],A)\n",
        "\n",
        "print(max(LIST))"
      ]
    },
    {
      "cell_type": "markdown",
      "source": [
        "次のコードを高速化してください。\n",
        "\n",
        "N = int(input())\n",
        "LIST = [0] * (10**9)\n",
        "\n",
        "for i in range(N):\n",
        "  A,C = map(int,input().split())\n",
        "  LIST[C-1] = min(LIST[C-1],A)\n",
        "\n",
        "print(max(LIST))"
      ],
      "metadata": {
        "id": "osJLfOS5WuVT"
      }
    },
    {
      "cell_type": "code",
      "source": [
        "from collections import defaultdict\n",
        "\n",
        "N = int(input())\n",
        "LIST = defaultdict(lambda: float('inf'))\n",
        "\n",
        "for i in range(N):\n",
        "    A,C = map(int, input().split())\n",
        "    LIST[C] = min(LIST[C], A)\n",
        "\n",
        "print(max(LIST.values()))"
      ],
      "metadata": {
        "id": "PZrRcw_xWytf"
      },
      "execution_count": null,
      "outputs": []
    }
  ]
}