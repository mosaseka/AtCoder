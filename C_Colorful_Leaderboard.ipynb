{
  "nbformat": 4,
  "nbformat_minor": 0,
  "metadata": {
    "colab": {
      "provenance": [],
      "authorship_tag": "ABX9TyOaTfhk3BlARMNhxFxsVw70",
      "include_colab_link": true
    },
    "kernelspec": {
      "name": "python3",
      "display_name": "Python 3"
    },
    "language_info": {
      "name": "python"
    }
  },
  "cells": [
    {
      "cell_type": "markdown",
      "metadata": {
        "id": "view-in-github",
        "colab_type": "text"
      },
      "source": [
        "<a href=\"https://colab.research.google.com/github/mosaseka/AtCoder/blob/main/C_Colorful_Leaderboard.ipynb\" target=\"_parent\"><img src=\"https://colab.research.google.com/assets/colab-badge.svg\" alt=\"Open In Colab\"/></a>"
      ]
    },
    {
      "cell_type": "code",
      "execution_count": null,
      "metadata": {
        "colab": {
          "base_uri": "https://localhost:8080/"
        },
        "id": "_jeA8-9Kpe8W",
        "outputId": "05ca79a3-8614-43a4-e16e-89817ada48c2"
      },
      "outputs": [
        {
          "output_type": "stream",
          "name": "stdout",
          "text": [
            "3\n",
            "34567 456789 4348\n",
            "1 3\n"
          ]
        }
      ],
      "source": [
        "N = int(input())\n",
        "A_LIST = list(map(int,input().split()))\n",
        "COLOR_LIST = [0] * 8\n",
        "ANSWER = 0\n",
        "FREEDOM = 0\n",
        "LIMITED = 0\n",
        "MIN = 0\n",
        "MAX = 0\n",
        "\n",
        "for i in range(N):\n",
        "  if A_LIST[i] < 400:\n",
        "    COLOR_LIST[0] += 1\n",
        "  elif 400 <= A_LIST[i] and A_LIST[i] < 800:\n",
        "    COLOR_LIST[1] += 1\n",
        "  elif 800 <= A_LIST[i] and A_LIST[i] < 1200:\n",
        "    COLOR_LIST[2] += 1\n",
        "  elif 1200 <= A_LIST[i] and A_LIST[i] < 1600:\n",
        "    COLOR_LIST[3] += 1\n",
        "  elif 1600 <= A_LIST[i] and A_LIST[i] < 2000:\n",
        "    COLOR_LIST[4] += 1\n",
        "  elif 2000 <= A_LIST[i] and A_LIST[i] < 2400:\n",
        "    COLOR_LIST[5] += 1\n",
        "  elif 2400 <= A_LIST[i] and A_LIST[i] < 2800:\n",
        "    COLOR_LIST[6] += 1\n",
        "  elif 2800 <= A_LIST[i] and A_LIST[i] < 3200:\n",
        "    COLOR_LIST[7] += 1\n",
        "  else:\n",
        "    FREEDOM += 1\n",
        "\n",
        "#print(COLOR_LIST,FREEDOM)\n",
        "\n",
        "MAX += FREEDOM\n",
        "\n",
        "for i in range(8):\n",
        "  if COLOR_LIST[i] != 0:\n",
        "    MAX += 1\n",
        "    MIN += 1\n",
        "    FREEDOM = 0\n",
        "\n",
        "if sum(COLOR_LIST) == 0:\n",
        "  MIN = 1\n",
        "else:\n",
        "  MIN += FREEDOM\n",
        "\n",
        "if MAX >= 8:\n",
        "  MAX = 8\n",
        "\n",
        "print(MIN,MAX)"
      ]
    },
    {
      "cell_type": "code",
      "source": [
        "N = int(input())\n",
        "A_LIST = list(map(int,input().split()))\n",
        "COLOR_LIST = [0] * 8\n",
        "FREEDOM = 0\n",
        "COUNT = 0\n",
        "MIN = 0\n",
        "MAX = 0\n",
        "\n",
        "for i in range(N):\n",
        "  if 1 <= A_LIST[i] and A_LIST[i] < 400:\n",
        "    COLOR_LIST[0] += 1\n",
        "  elif 400 <= A_LIST[i] and A_LIST[i] < 800:\n",
        "    COLOR_LIST[1] += 1\n",
        "  elif 800 <= A_LIST[i] and A_LIST[i] < 1200:\n",
        "    COLOR_LIST[2] += 1\n",
        "  elif 1200 <= A_LIST[i] and A_LIST[i] < 1600:\n",
        "    COLOR_LIST[3] += 1\n",
        "  elif 1600 <= A_LIST[i] and A_LIST[i] < 2000:\n",
        "    COLOR_LIST[4] += 1\n",
        "  elif 2000 <= A_LIST[i] and A_LIST[i] < 2400:\n",
        "    COLOR_LIST[5] += 1\n",
        "  elif 2400 <= A_LIST[i] and A_LIST[i] < 2800:\n",
        "    COLOR_LIST[6] += 1\n",
        "  elif 2800 <= A_LIST[i] and A_LIST[i] < 3200:\n",
        "    COLOR_LIST[7] += 1\n",
        "  else:\n",
        "    FREEDOM += 1\n",
        "\n",
        "#print(COLOR_LIST)\n",
        "\n",
        "for i in range(len(COLOR_LIST)):\n",
        "  if COLOR_LIST[i] != 0:\n",
        "    COUNT += 1\n",
        "\n",
        "#print(COUNT)\n",
        "\n",
        "MAX += COUNT+FREEDOM\n",
        "\n",
        "if COUNT >= 1:\n",
        "  MIN = COUNT\n",
        "else:\n",
        "  MIN = 1\n",
        "\n",
        "print(MIN,MAX)"
      ],
      "metadata": {
        "colab": {
          "base_uri": "https://localhost:8080/"
        },
        "id": "LZ0KFVr7mbCj",
        "outputId": "204a5c10-7804-40ee-da8a-83c8d5b78bd6"
      },
      "execution_count": null,
      "outputs": [
        {
          "output_type": "stream",
          "name": "stdout",
          "text": [
            "9\n",
            "234567 324567 324567 34567 2345678 345678 435678 345678 234567\n",
            "1 8\n"
          ]
        }
      ]
    }
  ]
}