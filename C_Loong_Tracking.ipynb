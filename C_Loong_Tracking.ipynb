{
  "nbformat": 4,
  "nbformat_minor": 0,
  "metadata": {
    "colab": {
      "provenance": [],
      "authorship_tag": "ABX9TyOU0N/HN8IlAis/1DJGoCk2",
      "include_colab_link": true
    },
    "kernelspec": {
      "name": "python3",
      "display_name": "Python 3"
    },
    "language_info": {
      "name": "python"
    }
  },
  "cells": [
    {
      "cell_type": "markdown",
      "metadata": {
        "id": "view-in-github",
        "colab_type": "text"
      },
      "source": [
        "<a href=\"https://colab.research.google.com/github/mosaseka/AtCoder/blob/main/C_Loong_Tracking.ipynb\" target=\"_parent\"><img src=\"https://colab.research.google.com/assets/colab-badge.svg\" alt=\"Open In Colab\"/></a>"
      ]
    },
    {
      "cell_type": "code",
      "execution_count": null,
      "metadata": {
        "id": "EiR0fDfvSJyW"
      },
      "outputs": [],
      "source": [
        "from collections import deque\n",
        "\n",
        "N,Q = map(int,input().split())\n",
        "DEQ = deque([i+1,0] for i in range(N))\n",
        "ALPHA = \"\"\n",
        "BETA = \"\"\n",
        "\n",
        "for i in range(Q):\n",
        "  ALPHA,BETA = map(str,input().split())\n",
        "  ALPHA = int(ALPHA)\n",
        "  if ALPHA == 1:\n",
        "    if BETA == \"U\":\n",
        "      DEQ.appendleft([DEQ[0][0],DEQ[0][1]+1])\n",
        "      DEQ.pop()\n",
        "    elif BETA == \"D\":\n",
        "      DEQ.appendleft([DEQ[0][0],DEQ[0][1]-1])\n",
        "      DEQ.pop()\n",
        "    elif BETA == \"R\":\n",
        "      DEQ.appendleft([DEQ[0][0]+1,DEQ[0][1]])\n",
        "      DEQ.pop()\n",
        "    elif BETA == \"L\":\n",
        "      DEQ.appendleft([DEQ[0][0]-1,DEQ[0][1]])\n",
        "      DEQ.pop()\n",
        "  elif ALPHA == 2:\n",
        "    BETA = int(BETA)\n",
        "    print(*DEQ[BETA-1])"
      ]
    },
    {
      "cell_type": "markdown",
      "source": [
        "次のコードを高速化してください。\n",
        "\n",
        "from collections import deque\n",
        "\n",
        "N,Q = map(int,input().split())\n",
        "DEQ = deque([i+1,0] for i in range(N))\n",
        "ALPHA = \"\"\n",
        "BETA = \"\"\n",
        "\n",
        "for i in range(Q):\n",
        "  ALPHA,BETA = map(str,input().split())\n",
        "  ALPHA = int(ALPHA)\n",
        "  if ALPHA == 1:\n",
        "    if BETA == \"U\":\n",
        "      DEQ.appendleft([DEQ[0][0],DEQ[0][1]+1])\n",
        "      DEQ.pop()\n",
        "    elif BETA == \"D\":\n",
        "      DEQ.appendleft([DEQ[0][0],DEQ[0][1]-1])\n",
        "      DEQ.pop()\n",
        "    elif BETA == \"R\":\n",
        "      DEQ.appendleft([DEQ[0][0]+1,DEQ[0][1]])\n",
        "      DEQ.pop()\n",
        "    elif BETA == \"L\":\n",
        "      DEQ.appendleft([DEQ[0][0]-1,DEQ[0][1]])\n",
        "      DEQ.pop()\n",
        "  elif ALPHA == 2:\n",
        "    BETA = int(BETA)\n",
        "    print(*DEQ[BETA-1])"
      ],
      "metadata": {
        "id": "NoHXrRNEtlYD"
      }
    },
    {
      "cell_type": "code",
      "source": [
        "N,Q = map(int,input().split())\n",
        "LIST = [[i+1,0] for i in range(N)]\n",
        "ALPHA = \"\"\n",
        "BETA = \"\"\n",
        "\n",
        "for i in range(Q):\n",
        "  ALPHA, BETA = map(str, input().split())\n",
        "  ALPHA = int(ALPHA)\n",
        "  if ALPHA == 1:\n",
        "    if BETA == \"U\":\n",
        "      LIST = [[LIST[0][0],LIST[0][1]+1]] + LIST[:-1]\n",
        "    elif BETA == \"D\":\n",
        "      LIST = [[LIST[0][0],LIST[0][1]-1]] + LIST[:-1]\n",
        "    elif BETA == \"R\":\n",
        "      LIST = [[LIST[0][0]+1,LIST[0][1]]] + LIST[:-1]\n",
        "    elif BETA == \"L\":\n",
        "      LIST = [[LIST[0][0]-1,LIST[0][1]]] + LIST[:-1]\n",
        "  elif ALPHA == 2:\n",
        "    BETA = int(BETA)\n",
        "    print(*LIST[BETA-1])"
      ],
      "metadata": {
        "id": "mL01cnKItujZ"
      },
      "execution_count": null,
      "outputs": []
    },
    {
      "cell_type": "code",
      "source": [
        "N, Q = map(int, input().split())\n",
        "DEQ = [[i + 1, 0] for i in range(N)]  # dequeをリストに変更\n",
        "\n",
        "for _ in range(Q):\n",
        "    ALPHA, BETA = input().split()\n",
        "    ALPHA = int(ALPHA)\n",
        "\n",
        "    if ALPHA == 1:\n",
        "        if BETA == \"U\":\n",
        "            DEQ[1:] = DEQ[:-1]  # リストのスライスを使ってシフト\n",
        "            DEQ[0] = [DEQ[0][0], DEQ[0][1] + 1]\n",
        "        elif BETA == \"D\":\n",
        "            DEQ[1:] = DEQ[:-1]\n",
        "            DEQ[0] = [DEQ[0][0], DEQ[0][1] - 1]\n",
        "        elif BETA == \"R\":\n",
        "            DEQ[1:] = DEQ[:-1]\n",
        "            DEQ[0] = [DEQ[0][0] + 1, DEQ[0][1]]\n",
        "        elif BETA == \"L\":\n",
        "            DEQ[1:] = DEQ[:-1]\n",
        "            DEQ[0] = [DEQ[0][0] - 1, DEQ[0][1]]\n",
        "    elif ALPHA == 2:\n",
        "        BETA = int(BETA)\n",
        "        print(*DEQ[BETA - 1])"
      ],
      "metadata": {
        "id": "vpY42WVA2b7b"
      },
      "execution_count": null,
      "outputs": []
    },
    {
      "cell_type": "code",
      "source": [
        "from collections import deque\n",
        "\n",
        "N,Q = map(int,input().split())\n",
        "DEQ = deque((i+1,0) for i in range(N))\n",
        "ALPHA = \"\"\n",
        "BETA = \"\"\n",
        "\n",
        "for i in range(Q):\n",
        "  ALPHA,BETA = map(str,input().split())\n",
        "  ALPHA = int(ALPHA)\n",
        "  if ALPHA == 1:\n",
        "    if BETA == \"U\":\n",
        "      DEQ.appendleft((DEQ[0][0],DEQ[0][1]+1))\n",
        "      DEQ.pop()\n",
        "    elif BETA == \"D\":\n",
        "      DEQ.appendleft((DEQ[0][0],DEQ[0][1]-1))\n",
        "      DEQ.pop()\n",
        "    elif BETA == \"R\":\n",
        "      DEQ.appendleft((DEQ[0][0]+1,DEQ[0][1]))\n",
        "      DEQ.pop()\n",
        "    elif BETA == \"L\":\n",
        "      DEQ.appendleft((DEQ[0][0]-1,DEQ[0][1]))\n",
        "      DEQ.pop()\n",
        "  elif ALPHA == 2:\n",
        "    BETA = int(BETA)\n",
        "    print(*DEQ[BETA-1])"
      ],
      "metadata": {
        "id": "O2WbwcXG3h-q"
      },
      "execution_count": null,
      "outputs": []
    },
    {
      "cell_type": "markdown",
      "source": [
        "次のコードを高速化してください。\n",
        "\n",
        "from collections import deque\n",
        "\n",
        "N,Q = map(int,input().split())\n",
        "DEQ = deque((i+1,0) for i in range(N))\n",
        "ALPHA = \"\"\n",
        "BETA = \"\"\n",
        "\n",
        "for i in range(Q):\n",
        "  ALPHA,BETA = map(str,input().split())\n",
        "  ALPHA = int(ALPHA)\n",
        "  if ALPHA == 1:\n",
        "    if BETA == \"U\":\n",
        "      DEQ.appendleft((DEQ[0][0],DEQ[0][1]+1))\n",
        "      DEQ.pop()\n",
        "    elif BETA == \"D\":\n",
        "      DEQ.appendleft((DEQ[0][0],DEQ[0][1]-1))\n",
        "      DEQ.pop()\n",
        "    elif BETA == \"R\":\n",
        "      DEQ.appendleft((DEQ[0][0]+1,DEQ[0][1]))\n",
        "      DEQ.pop()\n",
        "    elif BETA == \"L\":\n",
        "      DEQ.appendleft((DEQ[0][0]-1,DEQ[0][1]))\n",
        "      DEQ.pop()\n",
        "  elif ALPHA == 2:\n",
        "    BETA = int(BETA)\n",
        "    print(*DEQ[BETA-1])"
      ],
      "metadata": {
        "id": "D7Yzy6Tg34rC"
      }
    },
    {
      "cell_type": "code",
      "source": [
        "from collections import deque\n",
        "\n",
        "N, Q = map(int, input().split())\n",
        "DEQ = deque((i + 1, 0) for i in range(N))\n",
        "\n",
        "for _ in range(Q):\n",
        "    ALPHA, BETA = map(str, input().split())\n",
        "    ALPHA = int(ALPHA)\n",
        "\n",
        "    if ALPHA == 1:\n",
        "        x, y = DEQ[0]\n",
        "        if BETA == \"U\":\n",
        "            DEQ.appendleft((x, y + 1))\n",
        "        elif BETA == \"D\":\n",
        "            DEQ.appendleft((x, y - 1))\n",
        "        elif BETA == \"R\":\n",
        "            DEQ.appendleft((x + 1, y))\n",
        "        elif BETA == \"L\":\n",
        "            DEQ.appendleft((x - 1, y))\n",
        "        DEQ.pop()\n",
        "    elif ALPHA == 2:\n",
        "        BETA = int(BETA)\n",
        "        print(*DEQ[BETA - 1])\n"
      ],
      "metadata": {
        "id": "6Fi5bwIP5FHD"
      },
      "execution_count": null,
      "outputs": []
    },
    {
      "cell_type": "code",
      "source": [
        "from collections import deque\n",
        "\n",
        "N,Q = map(int,input().split())\n",
        "DEQ = deque((i+1,0) for i in range(N))\n",
        "ALPHA = \"\"\n",
        "BETA = \"\"\n",
        "\n",
        "for i in range(Q):\n",
        "  ALPHA,BETA = map(str,input().split())\n",
        "  ALPHA = int(ALPHA)\n",
        "  if ALPHA == 1:\n",
        "    if BETA == \"U\":\n",
        "      DEQ.appendleft((DEQ[0][0],DEQ[0][1]+1))\n",
        "      DEQ.pop()\n",
        "    elif BETA == \"D\":\n",
        "      DEQ.appendleft((DEQ[0][0],DEQ[0][1]-1))\n",
        "      DEQ.pop()\n",
        "    elif BETA == \"R\":\n",
        "      DEQ.appendleft((DEQ[0][0]+1,DEQ[0][1]))\n",
        "      DEQ.pop()\n",
        "    elif BETA == \"L\":\n",
        "      DEQ.appendleft((DEQ[0][0]-1,DEQ[0][1]))\n",
        "      DEQ.pop()\n",
        "  elif ALPHA == 2:\n",
        "    BETA = int(BETA)\n",
        "    print(*DEQ[BETA-1])"
      ],
      "metadata": {
        "id": "_j-a2jXl9lnf"
      },
      "execution_count": null,
      "outputs": []
    },
    {
      "cell_type": "markdown",
      "source": [
        "次のコードを高速化してください。\n",
        "\n",
        "from collections import deque\n",
        "\n",
        "N,Q = map(int,input().split())\n",
        "DEQ = deque((i+1,0) for i in range(N))\n",
        "ALPHA = \"\"\n",
        "BETA = \"\"\n",
        "\n",
        "for i in range(Q):\n",
        "  ALPHA,BETA = map(str,input().split())\n",
        "  ALPHA = int(ALPHA)\n",
        "  if ALPHA == 1:\n",
        "    if BETA == \"U\":\n",
        "      DEQ.appendleft((DEQ[0][0],DEQ[0][1]+1))\n",
        "      DEQ.pop()\n",
        "    elif BETA == \"D\":\n",
        "      DEQ.appendleft((DEQ[0][0],DEQ[0][1]-1))\n",
        "      DEQ.pop()\n",
        "    elif BETA == \"R\":\n",
        "      DEQ.appendleft((DEQ[0][0]+1,DEQ[0][1]))\n",
        "      DEQ.pop()\n",
        "    elif BETA == \"L\":\n",
        "      DEQ.appendleft((DEQ[0][0]-1,DEQ[0][1]))\n",
        "      DEQ.pop()\n",
        "  elif ALPHA == 2:\n",
        "    BETA = int(BETA)\n",
        "    print(*DEQ[BETA-1])"
      ],
      "metadata": {
        "id": "X9t0Yghm9ywM"
      }
    },
    {
      "cell_type": "code",
      "source": [
        "N, Q = map(int, input().split())\n",
        "DEQ = [(i + 1, 0) for i in range(N)]\n",
        "\n",
        "for _ in range(Q):\n",
        "    ALPHA, BETA = input().split()\n",
        "    ALPHA = int(ALPHA)\n",
        "\n",
        "    if ALPHA == 1:\n",
        "        x, y = DEQ[0]\n",
        "        if BETA == \"U\":\n",
        "            DEQ.insert(0, (x, y + 1))\n",
        "        elif BETA == \"D\":\n",
        "            DEQ.insert(0, (x, y - 1))\n",
        "        elif BETA == \"R\":\n",
        "            DEQ.insert(0, (x + 1, y))\n",
        "        elif BETA == \"L\":\n",
        "            DEQ.insert(0, (x - 1, y))\n",
        "        DEQ.pop()\n",
        "    elif ALPHA == 2:\n",
        "        BETA = int(BETA)\n",
        "        print(*DEQ[BETA - 1])"
      ],
      "metadata": {
        "id": "9_Hpm3w495YU"
      },
      "execution_count": null,
      "outputs": []
    },
    {
      "cell_type": "code",
      "source": [
        "from collections import deque\n",
        "\n",
        "N,Q = map(int,input().split())\n",
        "DEQ = deque((i+1,0) for i in range(N))\n",
        "ALPHA = \"\"\n",
        "BETA = \"\"\n",
        "\n",
        "for i in range(Q):\n",
        "  ALPHA,BETA = map(str,input().split())\n",
        "  ALPHA = int(ALPHA)\n",
        "  if ALPHA == 1:\n",
        "    if BETA == \"U\":\n",
        "      DEQ.appendleft((DEQ[0][0],DEQ[0][1]+1))\n",
        "      DEQ.pop()\n",
        "    elif BETA == \"D\":\n",
        "      DEQ.appendleft((DEQ[0][0],DEQ[0][1]-1))\n",
        "      DEQ.pop()\n",
        "    elif BETA == \"R\":\n",
        "      DEQ.appendleft((DEQ[0][0]+1,DEQ[0][1]))\n",
        "      DEQ.pop()\n",
        "    elif BETA == \"L\":\n",
        "      DEQ.appendleft((DEQ[0][0]-1,DEQ[0][1]))\n",
        "      DEQ.pop()\n",
        "  elif ALPHA == 2:\n",
        "    BETA = int(BETA)\n",
        "    print(*DEQ[BETA-1])"
      ],
      "metadata": {
        "id": "Q4G7_rFI-FTQ"
      },
      "execution_count": null,
      "outputs": []
    },
    {
      "cell_type": "code",
      "source": [
        "from collections import deque\n",
        "\n",
        "N,Q = map(int,input().split())\n",
        "DEQ = deque((i+1,0) for i in range(N))\n",
        "ALPHA = \"\"\n",
        "BETA = \"\"\n",
        "\n",
        "for i in range(Q):\n",
        "  ALPHA,BETA = map(str,input().split())\n",
        "  ALPHA = int(ALPHA)\n",
        "  if ALPHA == 1:\n",
        "    if BETA == \"U\":\n",
        "      DEQ.appendleft((DEQ[0][0],DEQ[0][1]+1))\n",
        "      DEQ.pop()\n",
        "    elif BETA == \"D\":\n",
        "      DEQ.appendleft((DEQ[0][0],DEQ[0][1]-1))\n",
        "      DEQ.pop()\n",
        "    elif BETA == \"R\":\n",
        "      DEQ.appendleft((DEQ[0][0]+1,DEQ[0][1]))\n",
        "      DEQ.pop()\n",
        "    elif BETA == \"L\":\n",
        "      DEQ.appendleft((DEQ[0][0]-1,DEQ[0][1]))\n",
        "      DEQ.pop()\n",
        "  elif ALPHA == 2:\n",
        "    BETA = int(BETA)\n",
        "    if i+1 <= N:\n",
        "      print(BETA-i,0)\n",
        "    else:\n",
        "      print(*DEQ[BETA-1])"
      ],
      "metadata": {
        "id": "PWxJtAhF_i6K"
      },
      "execution_count": null,
      "outputs": []
    },
    {
      "cell_type": "code",
      "source": [
        "N,Q = map(int,input().split())\n",
        "LIST = [(i+1,0) for i in range(N)][::-1]\n",
        "\n",
        "for i in range(Q):\n",
        "  ALPHA,BETA = map(str,input().split())\n",
        "  ALPHA = int(ALPHA)\n",
        "  if ALPHA == 1:\n",
        "    X,Y = LIST[-1]\n",
        "    if BETA == \"U\":\n",
        "      Y += 1\n",
        "    elif BETA == \"D\":\n",
        "      Y -= 1\n",
        "    elif BETA == \"R\":\n",
        "      X += 1\n",
        "    elif BETA == \"L\":\n",
        "      X -= 1\n",
        "    LIST.append((X,Y))\n",
        "  else:\n",
        "    BETA = int(BETA)\n",
        "    print(*LIST[-BETA])"
      ],
      "metadata": {
        "id": "BoHF80pFAve1"
      },
      "execution_count": null,
      "outputs": []
    }
  ]
}