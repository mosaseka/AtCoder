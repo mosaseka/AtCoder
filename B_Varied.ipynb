{
  "nbformat": 4,
  "nbformat_minor": 0,
  "metadata": {
    "colab": {
      "provenance": [],
      "authorship_tag": "ABX9TyN2//XiiUhMY12GdiM7MnI6",
      "include_colab_link": true
    },
    "kernelspec": {
      "name": "python3",
      "display_name": "Python 3"
    },
    "language_info": {
      "name": "python"
    }
  },
  "cells": [
    {
      "cell_type": "markdown",
      "metadata": {
        "id": "view-in-github",
        "colab_type": "text"
      },
      "source": [
        "<a href=\"https://colab.research.google.com/github/mosaseka/AtCoder/blob/main/B_Varied.ipynb\" target=\"_parent\"><img src=\"https://colab.research.google.com/assets/colab-badge.svg\" alt=\"Open In Colab\"/></a>"
      ]
    },
    {
      "cell_type": "code",
      "execution_count": null,
      "metadata": {
        "colab": {
          "base_uri": "https://localhost:8080/"
        },
        "id": "OsQYD1HoZorY",
        "outputId": "12e26690-dee0-44ad-90cd-343453f93761"
      },
      "outputs": [
        {
          "output_type": "stream",
          "name": "stdout",
          "text": [
            "different\n",
            "['d', 'i', 'f', 'f', 'e', 'r', 'e', 'n', 't']\n",
            "['e', 'i', 'f', 'n', 't', 'd', 'r']\n",
            "no\n"
          ]
        }
      ],
      "source": [
        "S_LIST = list(map(str,input()))\n",
        "CHECK_LIST = list(set(S_LIST))\n",
        "\n",
        "#print(S_LIST)\n",
        "#print(CHECK_LIST)\n",
        "\n",
        "if len(S_LIST) == len(CHECK_LIST):\n",
        "  print(\"yes\")\n",
        "else:\n",
        "  print(\"no\")"
      ]
    }
  ]
}