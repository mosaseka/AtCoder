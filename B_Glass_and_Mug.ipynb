{
  "nbformat": 4,
  "nbformat_minor": 0,
  "metadata": {
    "colab": {
      "provenance": [],
      "authorship_tag": "ABX9TyOUmdduCC+sDtg2zhaBVCNA",
      "include_colab_link": true
    },
    "kernelspec": {
      "name": "python3",
      "display_name": "Python 3"
    },
    "language_info": {
      "name": "python"
    }
  },
  "cells": [
    {
      "cell_type": "markdown",
      "metadata": {
        "id": "view-in-github",
        "colab_type": "text"
      },
      "source": [
        "<a href=\"https://colab.research.google.com/github/mosaseka/AtCoder/blob/main/B_Glass_and_Mug.ipynb\" target=\"_parent\"><img src=\"https://colab.research.google.com/assets/colab-badge.svg\" alt=\"Open In Colab\"/></a>"
      ]
    },
    {
      "cell_type": "code",
      "execution_count": null,
      "metadata": {
        "id": "qMbI-o3dQpBG"
      },
      "outputs": [],
      "source": [
        "K,G,M = map(int,input().split())\n",
        "GLASS = 0\n",
        "MAG = 0\n",
        "\n",
        "for i in range(K):\n",
        "  if GLASS == G:\n",
        "    GLASS = 0\n",
        "  elif MAG == 0:\n",
        "    MAG += M\n",
        "  else:\n",
        "    while MAG != 0 and GLASS != G:\n",
        "      MAG -= 1\n",
        "      GLASS += 1\n",
        "\n",
        "print(GLASS,MAG)"
      ]
    }
  ]
}