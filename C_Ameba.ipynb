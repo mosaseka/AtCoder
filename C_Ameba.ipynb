{
  "nbformat": 4,
  "nbformat_minor": 0,
  "metadata": {
    "colab": {
      "provenance": [],
      "authorship_tag": "ABX9TyN3yfyeoHX3GZZKRA00ZMjV",
      "include_colab_link": true
    },
    "kernelspec": {
      "name": "python3",
      "display_name": "Python 3"
    },
    "language_info": {
      "name": "python"
    }
  },
  "cells": [
    {
      "cell_type": "markdown",
      "metadata": {
        "id": "view-in-github",
        "colab_type": "text"
      },
      "source": [
        "<a href=\"https://colab.research.google.com/github/mosaseka/AtCoder/blob/main/C_Ameba.ipynb\" target=\"_parent\"><img src=\"https://colab.research.google.com/assets/colab-badge.svg\" alt=\"Open In Colab\"/></a>"
      ]
    },
    {
      "cell_type": "code",
      "execution_count": null,
      "metadata": {
        "id": "oEBsIOjgzVxB"
      },
      "outputs": [],
      "source": [
        "N = int(input())\n",
        "A_LIST = list(map(int,input().split()))\n",
        "ANSWER_LIST = [0 for i in range(2*N + 1)]\n",
        "\n",
        "for i,j in enumerate(A_LIST):\n",
        "  ANSWER_LIST[2*i+1] = ANSWER_LIST[j-1]+1\n",
        "  ANSWER_LIST[2*i+2] = ANSWER_LIST[j-1]+1\n",
        "\n",
        "for i in range(len(ANSWER_LIST)):\n",
        "  print(ANSWER_LIST[i])"
      ]
    }
  ]
}