{
  "nbformat": 4,
  "nbformat_minor": 0,
  "metadata": {
    "colab": {
      "provenance": [],
      "authorship_tag": "ABX9TyPtXV2ooYa+dnYJ6KdcJxyC",
      "include_colab_link": true
    },
    "kernelspec": {
      "name": "python3",
      "display_name": "Python 3"
    },
    "language_info": {
      "name": "python"
    }
  },
  "cells": [
    {
      "cell_type": "markdown",
      "metadata": {
        "id": "view-in-github",
        "colab_type": "text"
      },
      "source": [
        "<a href=\"https://colab.research.google.com/github/mosaseka/AtCoder/blob/main/A_Wanna_go_back_home.ipynb\" target=\"_parent\"><img src=\"https://colab.research.google.com/assets/colab-badge.svg\" alt=\"Open In Colab\"/></a>"
      ]
    },
    {
      "cell_type": "code",
      "execution_count": null,
      "metadata": {
        "colab": {
          "base_uri": "https://localhost:8080/"
        },
        "id": "njaDyJ8n2NSe",
        "outputId": "b4fc5d4a-bad8-4743-ae54-4a8dec776738"
      },
      "outputs": [
        {
          "output_type": "stream",
          "name": "stdout",
          "text": [
            "NNEW\n",
            "No\n"
          ]
        }
      ],
      "source": [
        "S_LIST = list(map(str,input()))\n",
        "N_COUNT = 0\n",
        "W_COUNT = 0\n",
        "S_COUNT = 0\n",
        "E_COUNT = 0\n",
        "FLAG = False\n",
        "\n",
        "N_COUNT = S_LIST.count(\"N\")\n",
        "W_COUNT = S_LIST.count(\"W\")\n",
        "S_COUNT = S_LIST.count(\"S\")\n",
        "E_COUNT = S_LIST.count(\"E\")\n",
        "\n",
        "if N_COUNT > 0 and S_COUNT > 0 and W_COUNT > 0 and E_COUNT > 0:\n",
        "  FLAG = True\n",
        "elif N_COUNT == 0 and S_COUNT == 0 and W_COUNT > 0 and E_COUNT > 0:\n",
        "  FLAG = True\n",
        "elif N_COUNT > 0 and S_COUNT > 0 and W_COUNT == 0 and E_COUNT == 0:\n",
        "  FLAG = True\n",
        "\n",
        "if FLAG:\n",
        "  print(\"Yes\")\n",
        "else:\n",
        "  print(\"No\")"
      ]
    }
  ]
}