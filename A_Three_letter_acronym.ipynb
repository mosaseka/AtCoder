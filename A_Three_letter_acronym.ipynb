{
  "nbformat": 4,
  "nbformat_minor": 0,
  "metadata": {
    "colab": {
      "provenance": [],
      "authorship_tag": "ABX9TyMz+TcM9LtRv9Nd5UTwmhZY",
      "include_colab_link": true
    },
    "kernelspec": {
      "name": "python3",
      "display_name": "Python 3"
    },
    "language_info": {
      "name": "python"
    }
  },
  "cells": [
    {
      "cell_type": "markdown",
      "metadata": {
        "id": "view-in-github",
        "colab_type": "text"
      },
      "source": [
        "<a href=\"https://colab.research.google.com/github/mosaseka/AtCoder/blob/main/A_Three_letter_acronym.ipynb\" target=\"_parent\"><img src=\"https://colab.research.google.com/assets/colab-badge.svg\" alt=\"Open In Colab\"/></a>"
      ]
    },
    {
      "cell_type": "code",
      "execution_count": null,
      "metadata": {
        "id": "iFkP58j-vlVv"
      },
      "outputs": [],
      "source": [
        "S1,S2,S3 = map(str,input().split())\n",
        "ANSWER = \"\"\n",
        "\n",
        "ANSWER += S1[0].upper()\n",
        "ANSWER += S2[0].upper()\n",
        "ANSWER += S3[0].upper()\n",
        "\n",
        "print(ANSWER)"
      ]
    }
  ]
}