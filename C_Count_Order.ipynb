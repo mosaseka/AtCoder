{
  "nbformat": 4,
  "nbformat_minor": 0,
  "metadata": {
    "colab": {
      "provenance": [],
      "authorship_tag": "ABX9TyMeMqrFxfPKpCwQlVV/C+DH",
      "include_colab_link": true
    },
    "kernelspec": {
      "name": "python3",
      "display_name": "Python 3"
    },
    "language_info": {
      "name": "python"
    }
  },
  "cells": [
    {
      "cell_type": "markdown",
      "metadata": {
        "id": "view-in-github",
        "colab_type": "text"
      },
      "source": [
        "<a href=\"https://colab.research.google.com/github/mosaseka/AtCoder/blob/main/C_Count_Order.ipynb\" target=\"_parent\"><img src=\"https://colab.research.google.com/assets/colab-badge.svg\" alt=\"Open In Colab\"/></a>"
      ]
    },
    {
      "cell_type": "code",
      "execution_count": null,
      "metadata": {
        "colab": {
          "base_uri": "https://localhost:8080/"
        },
        "id": "bnB00UUorGUb",
        "outputId": "dde0523f-1a8a-4bf6-f1ef-c5521f70e1e6"
      },
      "outputs": [
        {
          "output_type": "stream",
          "name": "stdout",
          "text": [
            "3\n",
            "1 3 2\n",
            "3 1 2\n",
            "3\n"
          ]
        }
      ],
      "source": [
        "import itertools\n",
        "\n",
        "N = int(input())\n",
        "P_LIST = tuple(map(int,input().split()))\n",
        "Q_LIST = tuple(map(int,input().split()))\n",
        "NUM_LIST = []\n",
        "PERMUTATION_VECTOR = []\n",
        "A = 0\n",
        "B = 0\n",
        "\n",
        "#print(P_LIST)\n",
        "#print(Q_LIST)\n",
        "\n",
        "for i in range(N):\n",
        "  NUM_LIST.append(i+1)\n",
        "\n",
        "for i in itertools.permutations(NUM_LIST,N):\n",
        "  PERMUTATION_VECTOR.append(i)\n",
        "\n",
        "#print(PERMUTATION_VECTOR)\n",
        "\n",
        "A = PERMUTATION_VECTOR.index(P_LIST)\n",
        "B = PERMUTATION_VECTOR.index(Q_LIST)\n",
        "\n",
        "print(abs(A - B))"
      ]
    }
  ]
}