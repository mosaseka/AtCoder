{
  "nbformat": 4,
  "nbformat_minor": 0,
  "metadata": {
    "colab": {
      "provenance": [],
      "authorship_tag": "ABX9TyN2N91sBP1a7dFgGpZTEJHG",
      "include_colab_link": true
    },
    "kernelspec": {
      "name": "python3",
      "display_name": "Python 3"
    },
    "language_info": {
      "name": "python"
    }
  },
  "cells": [
    {
      "cell_type": "markdown",
      "metadata": {
        "id": "view-in-github",
        "colab_type": "text"
      },
      "source": [
        "<a href=\"https://colab.research.google.com/github/mosaseka/AtCoder/blob/main/ABC049C_%E7%99%BD%E6%98%BC%E5%A4%A2.ipynb\" target=\"_parent\"><img src=\"https://colab.research.google.com/assets/colab-badge.svg\" alt=\"Open In Colab\"/></a>"
      ]
    },
    {
      "cell_type": "code",
      "execution_count": null,
      "metadata": {
        "id": "3634OSE4JFT6"
      },
      "outputs": [],
      "source": [
        "S = str(input())\n",
        "\n",
        "S = S.replace(\"eraser\",\"\")\n",
        "S = S.replace(\"erase\",\"\")\n",
        "S = S.replace(\"dreamer\",\"\")\n",
        "S = S.replace(\"dream\",\"\")\n",
        "\n",
        "if S == \"\":\n",
        "  print(\"YES\")\n",
        "else:\n",
        "  print(\"NO\")"
      ]
    }
  ]
}