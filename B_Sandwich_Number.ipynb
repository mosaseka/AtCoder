{
  "nbformat": 4,
  "nbformat_minor": 0,
  "metadata": {
    "colab": {
      "provenance": [],
      "authorship_tag": "ABX9TyPfS+QrBogshh7UeJSyei4H",
      "include_colab_link": true
    },
    "kernelspec": {
      "name": "python3",
      "display_name": "Python 3"
    },
    "language_info": {
      "name": "python"
    }
  },
  "cells": [
    {
      "cell_type": "markdown",
      "metadata": {
        "id": "view-in-github",
        "colab_type": "text"
      },
      "source": [
        "<a href=\"https://colab.research.google.com/github/mosaseka/AtCoder/blob/main/B_Sandwich_Number.ipynb\" target=\"_parent\"><img src=\"https://colab.research.google.com/assets/colab-badge.svg\" alt=\"Open In Colab\"/></a>"
      ]
    },
    {
      "cell_type": "code",
      "execution_count": null,
      "metadata": {
        "colab": {
          "base_uri": "https://localhost:8080/"
        },
        "id": "78cS1YlYE_DX",
        "outputId": "08965aa4-2d4b-497a-f4fb-aae5fc6b82d4"
      },
      "outputs": [
        {
          "output_type": "stream",
          "name": "stdout",
          "text": [
            "Q142857Z\n",
            "Yes\n"
          ]
        }
      ],
      "source": [
        "S = str(input())\n",
        "ANSWER = (\"No\")\n",
        "\n",
        "if len(S) == 8:\n",
        "  if S[0].isdigit() == False:\n",
        "    if S[7].isdigit() == False:\n",
        "      if S[1] != \"0\":\n",
        "        if S[1:7].isdecimal() == True:\n",
        "          ANSWER = (\"Yes\")\n",
        "\n",
        "print(ANSWER)"
      ]
    }
  ]
}