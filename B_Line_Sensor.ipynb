{
  "nbformat": 4,
  "nbformat_minor": 0,
  "metadata": {
    "colab": {
      "provenance": [],
      "authorship_tag": "ABX9TyMscW97jzQhWAbTn+x8JWOG",
      "include_colab_link": true
    },
    "kernelspec": {
      "name": "python3",
      "display_name": "Python 3"
    },
    "language_info": {
      "name": "python"
    }
  },
  "cells": [
    {
      "cell_type": "markdown",
      "metadata": {
        "id": "view-in-github",
        "colab_type": "text"
      },
      "source": [
        "<a href=\"https://colab.research.google.com/github/mosaseka/AtCoder/blob/main/B_Line_Sensor.ipynb\" target=\"_parent\"><img src=\"https://colab.research.google.com/assets/colab-badge.svg\" alt=\"Open In Colab\"/></a>"
      ]
    },
    {
      "cell_type": "code",
      "execution_count": null,
      "metadata": {
        "id": "Evhdi5FY9LaE"
      },
      "outputs": [],
      "source": [
        "H,W = map(int,input().split())\n",
        "C_LIST = [list(map(str,input())) for i in range(H)]\n",
        "ANSWER_LIST = [0 for i in range(W)]\n",
        "COUNT = 0\n",
        "\n",
        "for i in range(H):\n",
        "  for j in range(W):\n",
        "    if C_LIST[i][j] == \"#\":\n",
        "      ANSWER_LIST[j] += 1\n",
        "\n",
        "print(*ANSWER_LIST)"
      ]
    }
  ]
}