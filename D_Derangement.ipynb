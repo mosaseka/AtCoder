{
  "nbformat": 4,
  "nbformat_minor": 0,
  "metadata": {
    "colab": {
      "provenance": [],
      "authorship_tag": "ABX9TyMjz6r2vlDcOtP30OkLU4iy",
      "include_colab_link": true
    },
    "kernelspec": {
      "name": "python3",
      "display_name": "Python 3"
    },
    "language_info": {
      "name": "python"
    }
  },
  "cells": [
    {
      "cell_type": "markdown",
      "metadata": {
        "id": "view-in-github",
        "colab_type": "text"
      },
      "source": [
        "<a href=\"https://colab.research.google.com/github/mosaseka/AtCoder/blob/main/D_Derangement.ipynb\" target=\"_parent\"><img src=\"https://colab.research.google.com/assets/colab-badge.svg\" alt=\"Open In Colab\"/></a>"
      ]
    },
    {
      "cell_type": "code",
      "execution_count": null,
      "metadata": {
        "id": "0GvoQFxNNcqU"
      },
      "outputs": [],
      "source": [
        "N = int(input())\n",
        "P_LIST = list(map(int,input().split()))\n",
        "CHECK_LIST = [False for i in range(N)]\n",
        "COUNT = 0\n",
        "\n",
        "for i in range(N):\n",
        "  if P_LIST[i] == (i+1):\n",
        "    CHECK_LIST[i] = True\n",
        "\n",
        "print(CHECK_LIST)\n",
        "\n",
        "for i in range(N-1):\n",
        "  if CHECK_LIST[i]:\n",
        "    CHECK_LIST[i],CHECK_LIST[i+1] = CHECK_LIST[i+1],CHECK_LIST[i]\n",
        "    COUNT += 1\n",
        "\n",
        "if CHECK_LIST[-1]:\n",
        "  COUNT += 1\n",
        "\n",
        "print(COUNT//2)"
      ]
    },
    {
      "cell_type": "code",
      "source": [
        "import bisect\n",
        "\n",
        "N = int(input())\n",
        "P_LIST = list(map(int,input().split()))\n",
        "CHECK_LIST = [0 for i in range(N)]\n",
        "COUNT = 0\n",
        "FLAG = False\n",
        "FLAG_LIST = []\n",
        "\n",
        "for i,j in enumerate(P_LIST):\n",
        "  if j == (i+1):\n",
        "    CHECK_LIST[i] = 1\n",
        "\n",
        "while True:\n",
        "  for i in range(N-1):\n",
        "    FLAG = False\n",
        "    if i == (N-2):\n",
        "      if CHECK_LIST[i] or CHECK_LIST[i+1]:\n",
        "        FLAG = True\n",
        "    else:\n",
        "      if CHECK_LIST[i]:\n",
        "        FLAG = True\n",
        "    if FLAG:\n",
        "      P_LIST[i],P_LIST[i+1] = P_LIST[i+1],P_LIST[i]\n",
        "      COUNT += 1\n",
        "      if P_LIST[i] != (i+1):\n",
        "        CHECK_LIST[i] = 0\n",
        "      else:\n",
        "        CHECK_LIST[i] = 1\n",
        "      if P_LIST[i+1] != (i+2):\n",
        "        CHECK_LIST[i+1] = 0\n",
        "      else:\n",
        "        CHECK_LIST[i+1] = 1\n",
        "  FLAG_LIST = sorted(CHECK_LIST)\n",
        "  if bisect.bisect_left(FLAG_LIST,0) == 0:\n",
        "    break\n",
        "\n",
        "print(COUNT)"
      ],
      "metadata": {
        "id": "_t3J2c941bqe"
      },
      "execution_count": null,
      "outputs": []
    }
  ]
}