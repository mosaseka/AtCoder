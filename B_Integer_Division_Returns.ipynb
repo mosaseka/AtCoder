{
  "nbformat": 4,
  "nbformat_minor": 0,
  "metadata": {
    "colab": {
      "provenance": [],
      "authorship_tag": "ABX9TyPYxOO2w+tquhNcl+tVTpBe",
      "include_colab_link": true
    },
    "kernelspec": {
      "name": "python3",
      "display_name": "Python 3"
    },
    "language_info": {
      "name": "python"
    }
  },
  "cells": [
    {
      "cell_type": "markdown",
      "metadata": {
        "id": "view-in-github",
        "colab_type": "text"
      },
      "source": [
        "<a href=\"https://colab.research.google.com/github/mosaseka/AtCoder/blob/main/B_Integer_Division_Returns.ipynb\" target=\"_parent\"><img src=\"https://colab.research.google.com/assets/colab-badge.svg\" alt=\"Open In Colab\"/></a>"
      ]
    },
    {
      "cell_type": "code",
      "execution_count": null,
      "metadata": {
        "id": "l9K78B7xNUUE"
      },
      "outputs": [],
      "source": [
        "import math\n",
        "from decimal import Decimal\n",
        "\n",
        "X = int(input())\n",
        "ANSWER = Decimal(str(X)) / Decimal(\"10\")\n",
        "\n",
        "print(math.ceil(ANSWER))"
      ]
    }
  ]
}