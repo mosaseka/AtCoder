{
  "nbformat": 4,
  "nbformat_minor": 0,
  "metadata": {
    "colab": {
      "provenance": [],
      "authorship_tag": "ABX9TyMJr8iMzUo4ZXe4yjgzEe6E",
      "include_colab_link": true
    },
    "kernelspec": {
      "name": "python3",
      "display_name": "Python 3"
    },
    "language_info": {
      "name": "python"
    }
  },
  "cells": [
    {
      "cell_type": "markdown",
      "metadata": {
        "id": "view-in-github",
        "colab_type": "text"
      },
      "source": [
        "<a href=\"https://colab.research.google.com/github/mosaseka/AtCoder/blob/main/B_World_Meeting.ipynb\" target=\"_parent\"><img src=\"https://colab.research.google.com/assets/colab-badge.svg\" alt=\"Open In Colab\"/></a>"
      ]
    },
    {
      "cell_type": "code",
      "execution_count": null,
      "metadata": {
        "id": "5pBmvoOsG5KV"
      },
      "outputs": [],
      "source": [
        "from collections import deque\n",
        "\n",
        "N = int(input())\n",
        "WX_LIST = [list(map(int,input().split())) for i in range(N)]\n",
        "COUNT = 0\n",
        "ANSWER = deque()\n",
        "\n",
        "for i in range(24):\n",
        "  COUNT = 0\n",
        "  for j in range(N):\n",
        "    if 9 <= (i + WX_LIST[j][1])%24 and (i + WX_LIST[j][1])%24<= 17:\n",
        "      COUNT += WX_LIST[j][0]\n",
        "  ANSWER.append(COUNT)\n",
        "\n",
        "print(max(ANSWER))"
      ]
    }
  ]
}