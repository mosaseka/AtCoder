{
  "nbformat": 4,
  "nbformat_minor": 0,
  "metadata": {
    "colab": {
      "provenance": [],
      "authorship_tag": "ABX9TyPSFhefx6/zayV/P6kLEhuY",
      "include_colab_link": true
    },
    "kernelspec": {
      "name": "python3",
      "display_name": "Python 3"
    },
    "language_info": {
      "name": "python"
    }
  },
  "cells": [
    {
      "cell_type": "markdown",
      "metadata": {
        "id": "view-in-github",
        "colab_type": "text"
      },
      "source": [
        "<a href=\"https://colab.research.google.com/github/mosaseka/AtCoder/blob/main/B_Christmas_Eve_Eve.ipynb\" target=\"_parent\"><img src=\"https://colab.research.google.com/assets/colab-badge.svg\" alt=\"Open In Colab\"/></a>"
      ]
    },
    {
      "cell_type": "code",
      "execution_count": null,
      "metadata": {
        "id": "YYrCNUsWB7ZK"
      },
      "outputs": [],
      "source": [
        "N = int(input())\n",
        "P_LIST = [int(input()) for i in range(N)]\n",
        "\n",
        "P_LIST.sort()\n",
        "P_LIST[-1] = P_LIST[-1]//2\n",
        "\n",
        "print(sum(P_LIST))"
      ]
    }
  ]
}