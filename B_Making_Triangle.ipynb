{
  "nbformat": 4,
  "nbformat_minor": 0,
  "metadata": {
    "colab": {
      "provenance": [],
      "authorship_tag": "ABX9TyPggt8hEU30gzoSEdgvss8V",
      "include_colab_link": true
    },
    "kernelspec": {
      "name": "python3",
      "display_name": "Python 3"
    },
    "language_info": {
      "name": "python"
    }
  },
  "cells": [
    {
      "cell_type": "markdown",
      "metadata": {
        "id": "view-in-github",
        "colab_type": "text"
      },
      "source": [
        "<a href=\"https://colab.research.google.com/github/mosaseka/AtCoder/blob/main/B_Making_Triangle.ipynb\" target=\"_parent\"><img src=\"https://colab.research.google.com/assets/colab-badge.svg\" alt=\"Open In Colab\"/></a>"
      ]
    },
    {
      "cell_type": "code",
      "execution_count": null,
      "metadata": {
        "id": "oeWiIUPaYEBH",
        "colab": {
          "base_uri": "https://localhost:8080/"
        },
        "outputId": "7226e261-6aac-4f02-9e96-def14cd24a37"
      },
      "outputs": [
        {
          "output_type": "stream",
          "name": "stdout",
          "text": [
            "5\n",
            "4 4 9 7 5\n",
            "5\n"
          ]
        }
      ],
      "source": [
        "N = int(input())\n",
        "LENGTH_LIST = list(map(int,input().split()))\n",
        "ANSWER = 0\n",
        "\n",
        "LENGTH_LIST.sort()\n",
        "\n",
        "for i in range(N):\n",
        "  for j in range(i+1,N):\n",
        "    for k in range(j+1,N):\n",
        "      if LENGTH_LIST[i] != LENGTH_LIST[j] and LENGTH_LIST[j] != LENGTH_LIST[k] and LENGTH_LIST[k] != LENGTH_LIST[i] and LENGTH_LIST[i]+LENGTH_LIST[j] > LENGTH_LIST[k]:\n",
        "        ANSWER = ANSWER + 1\n",
        "\n",
        "print(ANSWER)"
      ]
    }
  ]
}