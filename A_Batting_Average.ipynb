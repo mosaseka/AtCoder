{
  "nbformat": 4,
  "nbformat_minor": 0,
  "metadata": {
    "colab": {
      "provenance": [],
      "authorship_tag": "ABX9TyNlYNcfud3OG2ctVhTHfDw5",
      "include_colab_link": true
    },
    "kernelspec": {
      "name": "python3",
      "display_name": "Python 3"
    },
    "language_info": {
      "name": "python"
    }
  },
  "cells": [
    {
      "cell_type": "markdown",
      "metadata": {
        "id": "view-in-github",
        "colab_type": "text"
      },
      "source": [
        "<a href=\"https://colab.research.google.com/github/mosaseka/AtCoder/blob/main/A_Batting_Average.ipynb\" target=\"_parent\"><img src=\"https://colab.research.google.com/assets/colab-badge.svg\" alt=\"Open In Colab\"/></a>"
      ]
    },
    {
      "cell_type": "code",
      "execution_count": null,
      "metadata": {
        "colab": {
          "base_uri": "https://localhost:8080/"
        },
        "id": "u09ihApWKbPO",
        "outputId": "87661854-caf5-41a6-e4d8-7b4086237e28"
      },
      "outputs": [
        {
          "output_type": "stream",
          "name": "stdout",
          "text": [
            "2 1\n",
            "0.5\n"
          ]
        }
      ],
      "source": [
        "A,B = map(int,input().split())\n",
        "\n",
        "print(round(B/A,3))"
      ]
    },
    {
      "cell_type": "code",
      "source": [
        "A,B = map(int,input().split())\n",
        "ANSWER = B/A\n",
        "\n",
        "print(f\"{ANSWER:.3f}\")"
      ],
      "metadata": {
        "id": "NBOzon_vLZLt"
      },
      "execution_count": null,
      "outputs": []
    }
  ]
}