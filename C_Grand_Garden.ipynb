{
  "nbformat": 4,
  "nbformat_minor": 0,
  "metadata": {
    "colab": {
      "provenance": [],
      "authorship_tag": "ABX9TyOWu3TmnMpDKQ/2u72fx33s",
      "include_colab_link": true
    },
    "kernelspec": {
      "name": "python3",
      "display_name": "Python 3"
    },
    "language_info": {
      "name": "python"
    }
  },
  "cells": [
    {
      "cell_type": "markdown",
      "metadata": {
        "id": "view-in-github",
        "colab_type": "text"
      },
      "source": [
        "<a href=\"https://colab.research.google.com/github/mosaseka/AtCoder/blob/main/C_Grand_Garden.ipynb\" target=\"_parent\"><img src=\"https://colab.research.google.com/assets/colab-badge.svg\" alt=\"Open In Colab\"/></a>"
      ]
    },
    {
      "cell_type": "code",
      "execution_count": null,
      "metadata": {
        "id": "zfva7c6o5UI3"
      },
      "outputs": [],
      "source": [
        "N = int(input())\n",
        "H_LIST = [0] + list(map(int,input().split())) + [0]\n",
        "DELTA_LIST = []\n",
        "\n",
        "for i in range(0,N+1):\n",
        "  DELTA_LIST.append(abs(H_LIST[i+1] - H_LIST[i]))\n",
        "\n",
        "print(sum(DELTA_LIST)//2)"
      ]
    }
  ]
}