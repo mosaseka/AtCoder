{
  "nbformat": 4,
  "nbformat_minor": 0,
  "metadata": {
    "colab": {
      "provenance": [],
      "authorship_tag": "ABX9TyMd3VGLxp6DW6Hc+4VYlX14",
      "include_colab_link": true
    },
    "kernelspec": {
      "name": "python3",
      "display_name": "Python 3"
    },
    "language_info": {
      "name": "python"
    }
  },
  "cells": [
    {
      "cell_type": "markdown",
      "metadata": {
        "id": "view-in-github",
        "colab_type": "text"
      },
      "source": [
        "<a href=\"https://colab.research.google.com/github/mosaseka/AtCoder/blob/main/B_Addition_and_Multiplication.ipynb\" target=\"_parent\"><img src=\"https://colab.research.google.com/assets/colab-badge.svg\" alt=\"Open In Colab\"/></a>"
      ]
    },
    {
      "cell_type": "code",
      "execution_count": null,
      "metadata": {
        "id": "a4r3ZwP-ZHFY"
      },
      "outputs": [],
      "source": [
        "N = int(input())\n",
        "K = int(input())\n",
        "CHECK = 1\n",
        "\n",
        "for i in range(N):\n",
        "  if CHECK * 2 <= CHECK + K:\n",
        "    CHECK *= 2\n",
        "  else:\n",
        "    CHECK += K\n",
        "\n",
        "print(CHECK)"
      ]
    }
  ]
}