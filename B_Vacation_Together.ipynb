{
  "nbformat": 4,
  "nbformat_minor": 0,
  "metadata": {
    "colab": {
      "provenance": [],
      "authorship_tag": "ABX9TyPRJVu0jpaWa8+VJToTLpps",
      "include_colab_link": true
    },
    "kernelspec": {
      "name": "python3",
      "display_name": "Python 3"
    },
    "language_info": {
      "name": "python"
    }
  },
  "cells": [
    {
      "cell_type": "markdown",
      "metadata": {
        "id": "view-in-github",
        "colab_type": "text"
      },
      "source": [
        "<a href=\"https://colab.research.google.com/github/mosaseka/AtCoder/blob/main/B_Vacation_Together.ipynb\" target=\"_parent\"><img src=\"https://colab.research.google.com/assets/colab-badge.svg\" alt=\"Open In Colab\"/></a>"
      ]
    },
    {
      "cell_type": "code",
      "execution_count": null,
      "metadata": {
        "id": "FMVZYqX8dRvg"
      },
      "outputs": [],
      "source": [
        "N,D = map(int,input().split())\n",
        "S_LIST = [[] for i in range(D)]\n",
        "S = \"\"\n",
        "COUNT = 0\n",
        "FLAG = False\n",
        "ANSWER_LIST = [0]\n",
        "\n",
        "for i in range(N):\n",
        "  S = str(input())\n",
        "  for j in range(D):\n",
        "    S_LIST[j].append(S[j])\n",
        "\n",
        "#print(S_LIST)\n",
        "#print(set(S_LIST[0]))\n",
        "\n",
        "for i in range(D):\n",
        "  if \"o\" in set(S_LIST[i]) and \"x\" not in set(S_LIST[i]):\n",
        "    COUNT += 1\n",
        "    FLAG = True\n",
        "  elif \"x\" in set(S_LIST[i]):\n",
        "    ANSWER_LIST.append(COUNT)\n",
        "    FLAG = False\n",
        "    COUNT = 0\n",
        "\n",
        "ANSWER_LIST.append(COUNT)\n",
        "#print(ANSWER_LIST)\n",
        "\n",
        "print(max(ANSWER_LIST))"
      ]
    }
  ]
}