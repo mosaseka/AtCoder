{
  "nbformat": 4,
  "nbformat_minor": 0,
  "metadata": {
    "colab": {
      "provenance": [],
      "authorship_tag": "ABX9TyO6DJcklNrEJDC7INcZcYg0",
      "include_colab_link": true
    },
    "kernelspec": {
      "name": "python3",
      "display_name": "Python 3"
    },
    "language_info": {
      "name": "python"
    }
  },
  "cells": [
    {
      "cell_type": "markdown",
      "metadata": {
        "id": "view-in-github",
        "colab_type": "text"
      },
      "source": [
        "<a href=\"https://colab.research.google.com/github/mosaseka/AtCoder/blob/main/B_Rotate.ipynb\" target=\"_parent\"><img src=\"https://colab.research.google.com/assets/colab-badge.svg\" alt=\"Open In Colab\"/></a>"
      ]
    },
    {
      "cell_type": "code",
      "execution_count": null,
      "metadata": {
        "id": "180prQLyXp1H"
      },
      "outputs": [],
      "source": [
        "N = int(input())\n",
        "A_LIST = [list(map(str,input())) for i in range(N)]\n",
        "ANSWER_LIST = []\n",
        "CHECK = \"\"\n",
        "\n",
        "for i in range(N):\n",
        "  for j in range(N):\n",
        "    if i == 0 and j == 0:\n",
        "      ANSWER_LIST.append()"
      ]
    },
    {
      "cell_type": "code",
      "source": [
        "N = int(input())\n",
        "A_LIST = [list(map(str,input())) for i in range(N)]\n",
        "CHECK = \"\"\n",
        "ROLL = [[] for i in range(N)]\n",
        "\n",
        "for i in range(N):\n",
        "  for j in range(N):\n",
        "    if i == 0 and j == 0:\n",
        "      ROLL[i].append(A_LIST[1][0])\n",
        "    elif i == 0 and j == N-1:\n",
        "      ROLL[i].append(A_LIST[i][j-1])\n",
        "    elif i == N-1 and j == 0:\n",
        "      ROLL[i].append(A_LIST[-1][1])\n",
        "    elif i == N-1 and j == N-1:\n",
        "      ROLL[i].append(A_LIST[-2][N-1])\n",
        "    elif i == 0:\n",
        "      ROLL[i].append(A_LIST[i][j-1])\n",
        "    elif j == 0:\n",
        "      ROLL[i].append(A_LIST[i+1][j])\n",
        "    elif j == N-1:\n",
        "      ROLL[i].append(A_LIST[i-1][j])\n",
        "    elif i == N-1:\n",
        "      ROLL[i].append(A_LIST[i][j+1])\n",
        "    else:\n",
        "      ROLL[i].append(A_LIST[i][j])\n",
        "\n",
        "for i in range(N):\n",
        "  print(\"\".join(ROLL[i]))"
      ],
      "metadata": {
        "id": "BGHeW_S1gGzX"
      },
      "execution_count": null,
      "outputs": []
    }
  ]
}