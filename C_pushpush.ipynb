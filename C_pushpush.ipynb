{
  "nbformat": 4,
  "nbformat_minor": 0,
  "metadata": {
    "colab": {
      "provenance": [],
      "authorship_tag": "ABX9TyMVU+RP0RyKOgUpB+WZvOHi",
      "include_colab_link": true
    },
    "kernelspec": {
      "name": "python3",
      "display_name": "Python 3"
    },
    "language_info": {
      "name": "python"
    }
  },
  "cells": [
    {
      "cell_type": "markdown",
      "metadata": {
        "id": "view-in-github",
        "colab_type": "text"
      },
      "source": [
        "<a href=\"https://colab.research.google.com/github/mosaseka/AtCoder/blob/main/C_pushpush.ipynb\" target=\"_parent\"><img src=\"https://colab.research.google.com/assets/colab-badge.svg\" alt=\"Open In Colab\"/></a>"
      ]
    },
    {
      "cell_type": "code",
      "execution_count": null,
      "metadata": {
        "id": "CRKVSxkrLTAK"
      },
      "outputs": [],
      "source": [
        "N = int(input())\n",
        "A_LIST = list(map(int,input().split()))\n",
        "B_LIST = []\n",
        "\n",
        "for i in range(N):\n",
        "  B_LIST.append(A_LIST[i])\n",
        "  B_LIST.reverse()\n",
        "\n",
        "print(*B_LIST)"
      ]
    },
    {
      "cell_type": "code",
      "source": [
        "N = int(input())\n",
        "A_LIST = list(map(int,input().split()))\n",
        "B_LIST = []\n",
        "\n",
        "for i in range(N):\n",
        "  if N%2 == (i+1)%2:\n",
        "    B_LIST.insert(0,A_LIST[i])\n",
        "  else:\n",
        "    B_LIST.append(A_LIST[i])\n",
        "\n",
        "print(*B_LIST)"
      ],
      "metadata": {
        "id": "-lSClrUDMDRP"
      },
      "execution_count": null,
      "outputs": []
    },
    {
      "cell_type": "code",
      "source": [
        "from collections import deque\n",
        "\n",
        "N = int(input())\n",
        "A_LIST = list(map(int,input().split()))\n",
        "B_LIST = []\n",
        "\n",
        "for i in range(N):\n",
        "  if N%2 == (i+1)%2:\n",
        "    DEQ = deque(B_LIST)\n",
        "    DEQ.appendleft(A_LIST[i])\n",
        "    B_LIST = list(DEQ)\n",
        "  else:\n",
        "    DEQ = deque(B_LIST)\n",
        "    DEQ.append(A_LIST[i])\n",
        "    B_LIST = list(DEQ)\n",
        "\n",
        "print(*B_LIST)"
      ],
      "metadata": {
        "id": "-2xpGqA7NSF4"
      },
      "execution_count": null,
      "outputs": []
    },
    {
      "cell_type": "code",
      "source": [
        "from collections import deque\n",
        "\n",
        "N = int(input())\n",
        "A_LIST = list(map(int,input().split()))\n",
        "B_DEQ = deque()\n",
        "\n",
        "for i in range(N):\n",
        "  if N%2 == (i+1)%2:\n",
        "    B_DEQ.appendleft(A_LIST[i])\n",
        "  else:\n",
        "    B_DEQ.append(A_LIST[i])\n",
        "\n",
        "print(*B_DEQ)"
      ],
      "metadata": {
        "id": "pekfHnxLOX00"
      },
      "execution_count": null,
      "outputs": []
    }
  ]
}