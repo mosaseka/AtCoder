{
  "nbformat": 4,
  "nbformat_minor": 0,
  "metadata": {
    "colab": {
      "provenance": [],
      "authorship_tag": "ABX9TyNxaZ1q1XKdeoS7dYR6031T",
      "include_colab_link": true
    },
    "kernelspec": {
      "name": "python3",
      "display_name": "Python 3"
    },
    "language_info": {
      "name": "python"
    }
  },
  "cells": [
    {
      "cell_type": "markdown",
      "metadata": {
        "id": "view-in-github",
        "colab_type": "text"
      },
      "source": [
        "<a href=\"https://colab.research.google.com/github/mosaseka/AtCoder/blob/main/C_Good_Sequence.ipynb\" target=\"_parent\"><img src=\"https://colab.research.google.com/assets/colab-badge.svg\" alt=\"Open In Colab\"/></a>"
      ]
    },
    {
      "cell_type": "code",
      "execution_count": null,
      "metadata": {
        "id": "VDeJYvsRMlkT"
      },
      "outputs": [],
      "source": [
        "import collections\n",
        "\n",
        "N = int(input())\n",
        "A_LIST = list(map(int,input().split()))\n",
        "A_COUNT = list(collections.Counter(A_LIST).items())\n",
        "ANSWER = 0\n",
        "\n",
        "for i in range(len(A_COUNT)):\n",
        "  if A_COUNT[i][1] < A_COUNT[i][0]:\n",
        "    ANSWER += A_COUNT[i][1]\n",
        "  else:\n",
        "    ANSWER += abs(A_COUNT[i][0] - A_COUNT[i][1])\n",
        "\n",
        "print(ANSWER)"
      ]
    }
  ]
}