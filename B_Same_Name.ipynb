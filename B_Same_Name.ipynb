{
  "nbformat": 4,
  "nbformat_minor": 0,
  "metadata": {
    "colab": {
      "provenance": [],
      "authorship_tag": "ABX9TyPffvfZt21wk9dT+S0WIFDh",
      "include_colab_link": true
    },
    "kernelspec": {
      "name": "python3",
      "display_name": "Python 3"
    },
    "language_info": {
      "name": "python"
    }
  },
  "cells": [
    {
      "cell_type": "markdown",
      "metadata": {
        "id": "view-in-github",
        "colab_type": "text"
      },
      "source": [
        "<a href=\"https://colab.research.google.com/github/mosaseka/AtCoder/blob/main/B_Same_Name.ipynb\" target=\"_parent\"><img src=\"https://colab.research.google.com/assets/colab-badge.svg\" alt=\"Open In Colab\"/></a>"
      ]
    },
    {
      "cell_type": "code",
      "execution_count": null,
      "metadata": {
        "id": "JxvkVt-U2VGX"
      },
      "outputs": [],
      "source": [
        "N = int(input())\n",
        "ST_LIST = [tuple(map(str,input().split())) for i in range(N)]\n",
        "CHECK = list(set(ST_LIST))\n",
        "\n",
        "#print(ST_LIST)\n",
        "#print(CHECK)\n",
        "\n",
        "if len(ST_LIST) != len(CHECK):\n",
        "  print(\"Yes\")\n",
        "else:\n",
        "  print(\"No\")"
      ]
    }
  ]
}