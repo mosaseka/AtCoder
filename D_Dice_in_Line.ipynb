{
  "nbformat": 4,
  "nbformat_minor": 0,
  "metadata": {
    "colab": {
      "provenance": [],
      "authorship_tag": "ABX9TyP7ohAmiOFC3CLNu8FSL1gL",
      "include_colab_link": true
    },
    "kernelspec": {
      "name": "python3",
      "display_name": "Python 3"
    },
    "language_info": {
      "name": "python"
    }
  },
  "cells": [
    {
      "cell_type": "markdown",
      "metadata": {
        "id": "view-in-github",
        "colab_type": "text"
      },
      "source": [
        "<a href=\"https://colab.research.google.com/github/mosaseka/AtCoder/blob/main/D_Dice_in_Line.ipynb\" target=\"_parent\"><img src=\"https://colab.research.google.com/assets/colab-badge.svg\" alt=\"Open In Colab\"/></a>"
      ]
    },
    {
      "cell_type": "code",
      "execution_count": null,
      "metadata": {
        "colab": {
          "base_uri": "https://localhost:8080/"
        },
        "id": "BqRtt_NGOKvX",
        "outputId": "0797c559-898d-4635-9e32-086fe0bd3a58"
      },
      "outputs": [
        {
          "output_type": "stream",
          "name": "stdout",
          "text": [
            "5 3\n",
            "1 2 2 4 5\n",
            "[1.0, 1.5, 1.5, 2.5, 3.0]\n"
          ]
        }
      ],
      "source": [
        "def SIGMA(N):\n",
        "  return(N * (N+1) // 2)\n",
        "\n",
        "N,K = map(int,input().split())\n",
        "P_LIST = list(map(int,input().split()))\n",
        "NUM_LIST = []\n",
        "ANSWER_LIST = []\n",
        "\n",
        "for i in range(N):\n",
        "  NUM_LIST.append(SIGMA(P_LIST[i]) / P_LIST[i])\n",
        "\n",
        "#print(NUM_LIST)\n",
        "\n",
        "for i in range(K):\n",
        "  ANSWER_LIST.append(sum(NUM_LIST[i:i+K]))\n",
        "\n",
        "print(max(ANSWER_LIST))"
      ]
    },
    {
      "cell_type": "code",
      "source": [
        "N,K = map(int,input().split())\n",
        "P_LIST = list(map(int,input().split()))\n",
        "NUM_LIST = []\n",
        "ANSWER_SET = set()\n",
        "\n",
        "for i in range(N):\n",
        "  NUM_LIST.append((P_LIST[i]+1) / 2)\n",
        "\n",
        "#print(NUM_LIST)\n",
        "\n",
        "for i in range(K):\n",
        "  if sum(NUM_LIST[i:i+K]) not in ANSWER_SET:\n",
        "    ANSWER_SET.add(sum(NUM_LIST[i:i+K]))\n",
        "\n",
        "print(max(ANSWER_SET))"
      ],
      "metadata": {
        "id": "etTHpLAYQtTI"
      },
      "execution_count": null,
      "outputs": []
    },
    {
      "cell_type": "code",
      "source": [
        "N,K = map(int,input().split())\n",
        "P_LIST = list(map(int,input().split()))\n",
        "NUM_LIST = []\n",
        "ANSWER_LIST = []\n",
        "NUM = 0\n",
        "\n",
        "for i in range(N):\n",
        "  NUM_LIST.append((P_LIST[i]+1) / 2)\n",
        "\n",
        "#print(NUM_LIST)\n",
        "\n",
        "NUM = sum(NUM_LIST[i:i+(K-1)])\n",
        "ANSWER_LIST.append(NUM)\n",
        "\n",
        "for i in range(1,K):\n",
        "  NUM -= NUM_LIST[i-1]\n",
        "  NUM += NUM_LIST[i+(K-1)]\n",
        "  ANSWER_LIST.append(NUM)\n",
        "\n",
        "print(max(ANSWER_LIST))"
      ],
      "metadata": {
        "id": "zF6asEvWSlrW"
      },
      "execution_count": null,
      "outputs": []
    },
    {
      "cell_type": "code",
      "source": [
        "N,K = map(int,input().split())\n",
        "P_LIST = list(map(int,input().split()))\n",
        "NUM_LIST = []\n",
        "ANSWER_LIST = []\n",
        "NUM = 0\n",
        "\n",
        "for i in range(N):\n",
        "  NUM_LIST.append((P_LIST[i]+1) / 2)\n",
        "\n",
        "NUM = sum(NUM_LIST[:K])\n",
        "ANSWER_LIST.append(NUM)\n",
        "\n",
        "for i in range(N-K):\n",
        "  NUM -= NUM_LIST[i]\n",
        "  NUM += NUM_LIST[i+K]\n",
        "  ANSWER_LIST.append(NUM)\n",
        "\n",
        "print(max(ANSWER_LIST))"
      ],
      "metadata": {
        "id": "MxfrtucyToZa"
      },
      "execution_count": null,
      "outputs": []
    }
  ]
}