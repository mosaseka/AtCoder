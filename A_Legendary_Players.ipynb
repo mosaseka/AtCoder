{
  "nbformat": 4,
  "nbformat_minor": 0,
  "metadata": {
    "colab": {
      "provenance": [],
      "authorship_tag": "ABX9TyNb1XdMApvZIJZruGZX0YKr",
      "include_colab_link": true
    },
    "kernelspec": {
      "name": "python3",
      "display_name": "Python 3"
    },
    "language_info": {
      "name": "python"
    }
  },
  "cells": [
    {
      "cell_type": "markdown",
      "metadata": {
        "id": "view-in-github",
        "colab_type": "text"
      },
      "source": [
        "<a href=\"https://colab.research.google.com/github/mosaseka/AtCoder/blob/main/A_Legendary_Players.ipynb\" target=\"_parent\"><img src=\"https://colab.research.google.com/assets/colab-badge.svg\" alt=\"Open In Colab\"/></a>"
      ]
    },
    {
      "cell_type": "code",
      "execution_count": null,
      "metadata": {
        "id": "ZaUH1AO2-CBB"
      },
      "outputs": [],
      "source": [
        "S = str(input())\n",
        "\n",
        "if S == \"tourist\":\n",
        "  print(3858)\n",
        "elif S == \"ksun48\":\n",
        "  print(3679)\n",
        "elif S == \"Benq\":\n",
        "  print(3658)\n",
        "elif S == \"Um_nik\":\n",
        "  print(3648)\n",
        "elif S == \"apiad\":\n",
        "  print(3638)\n",
        "elif S == \"Stonefeang\":\n",
        "  print(3630)\n",
        "elif S == \"ecnerwala\":\n",
        "  print(3613)\n",
        "elif S == \"mnbvmar\":\n",
        "  print(3555)\n",
        "elif S == \"newbiedmy\":\n",
        "  print(3516)\n",
        "elif S == \"semiexp\":\n",
        "  print(3481)"
      ]
    }
  ]
}