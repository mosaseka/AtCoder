{
  "nbformat": 4,
  "nbformat_minor": 0,
  "metadata": {
    "colab": {
      "provenance": [],
      "authorship_tag": "ABX9TyOx36A9AEOtJmqlQQ9p5AfX",
      "include_colab_link": true
    },
    "kernelspec": {
      "name": "python3",
      "display_name": "Python 3"
    },
    "language_info": {
      "name": "python"
    }
  },
  "cells": [
    {
      "cell_type": "markdown",
      "metadata": {
        "id": "view-in-github",
        "colab_type": "text"
      },
      "source": [
        "<a href=\"https://colab.research.google.com/github/mosaseka/AtCoder/blob/main/A_A%2B_%2BB_Problem.ipynb\" target=\"_parent\"><img src=\"https://colab.research.google.com/assets/colab-badge.svg\" alt=\"Open In Colab\"/></a>"
      ]
    },
    {
      "cell_type": "code",
      "execution_count": null,
      "metadata": {
        "colab": {
          "base_uri": "https://localhost:8080/"
        },
        "id": "5ScZQIfj3zCz",
        "outputId": "7294e21d-3d25-4ab5-89e1-1c194bf43736"
      },
      "outputs": [
        {
          "output_type": "stream",
          "name": "stdout",
          "text": [
            "4 4 6\n",
            "4\n"
          ]
        }
      ],
      "source": [
        "N,A,B = map(int,input().split())\n",
        "DELTA = 0\n",
        "\n",
        "if A > B:\n",
        "  print(0)\n",
        "  exit()\n",
        "elif N == 1:\n",
        "  if A == B:\n",
        "    print(1)\n",
        "    exit()\n",
        "  else:\n",
        "    print(0)\n",
        "    exit()\n",
        "\n",
        "DELTA = abs(A-B)\n",
        "\n",
        "print(DELTA * (N-2)+1)"
      ]
    }
  ]
}