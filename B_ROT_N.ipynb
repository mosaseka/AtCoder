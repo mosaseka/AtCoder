{
  "nbformat": 4,
  "nbformat_minor": 0,
  "metadata": {
    "colab": {
      "provenance": [],
      "authorship_tag": "ABX9TyPnZNxbC0DoXKRG5fY72YOh",
      "include_colab_link": true
    },
    "kernelspec": {
      "name": "python3",
      "display_name": "Python 3"
    },
    "language_info": {
      "name": "python"
    }
  },
  "cells": [
    {
      "cell_type": "markdown",
      "metadata": {
        "id": "view-in-github",
        "colab_type": "text"
      },
      "source": [
        "<a href=\"https://colab.research.google.com/github/mosaseka/AtCoder/blob/main/B_ROT_N.ipynb\" target=\"_parent\"><img src=\"https://colab.research.google.com/assets/colab-badge.svg\" alt=\"Open In Colab\"/></a>"
      ]
    },
    {
      "cell_type": "code",
      "execution_count": null,
      "metadata": {
        "id": "k1gZZNI61Lv9"
      },
      "outputs": [],
      "source": [
        "import string\n",
        "\n",
        "N = int(input())\n",
        "S = str(input())\n",
        "ANSWER = \"\"\n",
        "ALPHABET = list(string.ascii_uppercase)\n",
        "ALPHABET += list(string.ascii_uppercase)\n",
        "\n",
        "for i in range(len(S)):\n",
        "  ANSWER += ALPHABET[ALPHABET.index(S[i])+N]\n",
        "\n",
        "print(ANSWER)"
      ]
    }
  ]
}