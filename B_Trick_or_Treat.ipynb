{
  "nbformat": 4,
  "nbformat_minor": 0,
  "metadata": {
    "colab": {
      "provenance": [],
      "authorship_tag": "ABX9TyO9RgkMwcaZVwaKUoQ7GLqz",
      "include_colab_link": true
    },
    "kernelspec": {
      "name": "python3",
      "display_name": "Python 3"
    },
    "language_info": {
      "name": "python"
    }
  },
  "cells": [
    {
      "cell_type": "markdown",
      "metadata": {
        "id": "view-in-github",
        "colab_type": "text"
      },
      "source": [
        "<a href=\"https://colab.research.google.com/github/mosaseka/AtCoder/blob/main/B_Trick_or_Treat.ipynb\" target=\"_parent\"><img src=\"https://colab.research.google.com/assets/colab-badge.svg\" alt=\"Open In Colab\"/></a>"
      ]
    },
    {
      "cell_type": "code",
      "execution_count": null,
      "metadata": {
        "id": "ta1bJSh1MVCs"
      },
      "outputs": [],
      "source": [
        "N,K = map(int,input().split())\n",
        "SNUKE = [False for i in range(N)]\n",
        "A_LIST = []\n",
        "D = 0\n",
        "\n",
        "for i in range(K):\n",
        "  D = int(input())\n",
        "  A_LIST = list(map(int,input().split()))\n",
        "  for j in range(D):\n",
        "    SNUKE[A_LIST[j]-1] = True\n",
        "\n",
        "print(SNUKE.count(False))"
      ]
    }
  ]
}