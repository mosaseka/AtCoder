{
  "nbformat": 4,
  "nbformat_minor": 0,
  "metadata": {
    "colab": {
      "provenance": [],
      "authorship_tag": "ABX9TyMxy8/R/+h9le/q+cJE8JhI",
      "include_colab_link": true
    },
    "kernelspec": {
      "name": "python3",
      "display_name": "Python 3"
    },
    "language_info": {
      "name": "python"
    }
  },
  "cells": [
    {
      "cell_type": "markdown",
      "metadata": {
        "id": "view-in-github",
        "colab_type": "text"
      },
      "source": [
        "<a href=\"https://colab.research.google.com/github/mosaseka/AtCoder/blob/main/B_Yellow_and_Red_Card.ipynb\" target=\"_parent\"><img src=\"https://colab.research.google.com/assets/colab-badge.svg\" alt=\"Open In Colab\"/></a>"
      ]
    },
    {
      "cell_type": "code",
      "execution_count": null,
      "metadata": {
        "id": "OV8Vrv60g-uX"
      },
      "outputs": [],
      "source": [
        "N,Q = map(int,input().split())\n",
        "INDEX = 0\n",
        "PLAYER_NUM = 0\n",
        "CARD_LIST = []\n",
        "\n",
        "for i in range(N):\n",
        "  CARD_LIST.append(0)\n",
        "\n",
        "for i in range(Q):\n",
        "  INDEX,PLAYER_NUM = map(int,input().split())\n",
        "  if INDEX == 1:\n",
        "    CARD_LIST[PLAYER_NUM - 1] += 1\n",
        "  elif INDEX == 2:\n",
        "    CARD_LIST[PLAYER_NUM - 1] += 2\n",
        "  elif INDEX == 3:\n",
        "    if CARD_LIST[PLAYER_NUM - 1] >= 2:\n",
        "      print(\"Yes\")\n",
        "    else:\n",
        "      print(\"No\")"
      ]
    }
  ]
}