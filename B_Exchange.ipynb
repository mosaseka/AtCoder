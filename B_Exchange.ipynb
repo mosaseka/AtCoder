{
  "nbformat": 4,
  "nbformat_minor": 0,
  "metadata": {
    "colab": {
      "provenance": [],
      "authorship_tag": "ABX9TyM9KNWQ9eZmyag+Su2ow2Us",
      "include_colab_link": true
    },
    "kernelspec": {
      "name": "python3",
      "display_name": "Python 3"
    },
    "language_info": {
      "name": "python"
    }
  },
  "cells": [
    {
      "cell_type": "markdown",
      "metadata": {
        "id": "view-in-github",
        "colab_type": "text"
      },
      "source": [
        "<a href=\"https://colab.research.google.com/github/mosaseka/AtCoder/blob/main/B_Exchange.ipynb\" target=\"_parent\"><img src=\"https://colab.research.google.com/assets/colab-badge.svg\" alt=\"Open In Colab\"/></a>"
      ]
    },
    {
      "cell_type": "code",
      "execution_count": null,
      "metadata": {
        "id": "zJdD_9h7YeQl"
      },
      "outputs": [],
      "source": [
        "A,B,K = map(int,input().split())\n",
        "\n",
        "for i in range(K):\n",
        "  if i%2 == 0:\n",
        "    if A%2 == 1:\n",
        "      A -= 1\n",
        "    A,B = A//2,B+(A//2)\n",
        "  else:\n",
        "    if B%2 == 1:\n",
        "      B -= 1\n",
        "    A,B = A+(B//2),B//2\n",
        "\n",
        "print(A,B)"
      ]
    }
  ]
}