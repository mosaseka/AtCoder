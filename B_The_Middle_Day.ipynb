{
  "nbformat": 4,
  "nbformat_minor": 0,
  "metadata": {
    "colab": {
      "provenance": [],
      "authorship_tag": "ABX9TyN45xAwNFrtTkFlDAtwowQJ",
      "include_colab_link": true
    },
    "kernelspec": {
      "name": "python3",
      "display_name": "Python 3"
    },
    "language_info": {
      "name": "python"
    }
  },
  "cells": [
    {
      "cell_type": "markdown",
      "metadata": {
        "id": "view-in-github",
        "colab_type": "text"
      },
      "source": [
        "<a href=\"https://colab.research.google.com/github/mosaseka/AtCoder/blob/main/B_The_Middle_Day.ipynb\" target=\"_parent\"><img src=\"https://colab.research.google.com/assets/colab-badge.svg\" alt=\"Open In Colab\"/></a>"
      ]
    },
    {
      "cell_type": "code",
      "execution_count": null,
      "metadata": {
        "id": "QjFCNiljqBSZ"
      },
      "outputs": [],
      "source": [
        "M = int(input())\n",
        "D_LIST = list(map(int,input().split()))\n",
        "TARGET = (sum(D_LIST)+1) // 2\n",
        "COUNT = 0\n",
        "\n",
        "for i in range(M):\n",
        "  COUNT += D_LIST[i]\n",
        "  if COUNT >= TARGET:\n",
        "    COUNT -= D_LIST[i]\n",
        "    for j in range(D_LIST[i]):\n",
        "      COUNT += 1\n",
        "      if COUNT == TARGET:\n",
        "        print(i+1,j+1)\n",
        "        exit()"
      ]
    }
  ]
}