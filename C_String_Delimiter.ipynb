{
  "nbformat": 4,
  "nbformat_minor": 0,
  "metadata": {
    "colab": {
      "provenance": [],
      "authorship_tag": "ABX9TyOuRiRunZJxWuoxFZh7Z4Nn",
      "include_colab_link": true
    },
    "kernelspec": {
      "name": "python3",
      "display_name": "Python 3"
    },
    "language_info": {
      "name": "python"
    }
  },
  "cells": [
    {
      "cell_type": "markdown",
      "metadata": {
        "id": "view-in-github",
        "colab_type": "text"
      },
      "source": [
        "<a href=\"https://colab.research.google.com/github/mosaseka/AtCoder/blob/main/C_String_Delimiter.ipynb\" target=\"_parent\"><img src=\"https://colab.research.google.com/assets/colab-badge.svg\" alt=\"Open In Colab\"/></a>"
      ]
    },
    {
      "cell_type": "code",
      "execution_count": null,
      "metadata": {
        "colab": {
          "base_uri": "https://localhost:8080/"
        },
        "id": "lEKa27vFL2H-",
        "outputId": "d440c7c2-27be-433b-b6fd-714fcae62241"
      },
      "outputs": [
        {
          "output_type": "stream",
          "name": "stdout",
          "text": [
            "8\n",
            "\"a,b\"c,d\n",
            "\"a,b\"c.d\n"
          ]
        }
      ],
      "source": [
        "N = int(input())\n",
        "S = str(input())\n",
        "S_LIST = []\n",
        "FLAG = False\n",
        "ANSWER = \"\"\n",
        "\n",
        "for i in range(N):\n",
        "  S_LIST.append(S[i])\n",
        "\n",
        "for i in range(N):\n",
        "  if S_LIST[i] == '\"' and FLAG == False:\n",
        "    FLAG = True\n",
        "    ANSWER = ANSWER + S_LIST[i]\n",
        "  elif S_LIST[i] == '\"' and FLAG == True:\n",
        "    FLAG = False\n",
        "    ANSWER = ANSWER + S_LIST[i]\n",
        "  elif S_LIST[i] == \",\" and FLAG == False:\n",
        "    ANSWER = ANSWER  + \".\"\n",
        "  else:\n",
        "    ANSWER = ANSWER + S_LIST[i]\n",
        "\n",
        "print(ANSWER)"
      ]
    }
  ]
}