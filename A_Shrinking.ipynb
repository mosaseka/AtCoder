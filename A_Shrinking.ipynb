{
  "nbformat": 4,
  "nbformat_minor": 0,
  "metadata": {
    "colab": {
      "provenance": [],
      "authorship_tag": "ABX9TyMMYFx7aPUJYs+q8rdSC+Lh",
      "include_colab_link": true
    },
    "kernelspec": {
      "name": "python3",
      "display_name": "Python 3"
    },
    "language_info": {
      "name": "python"
    }
  },
  "cells": [
    {
      "cell_type": "markdown",
      "metadata": {
        "id": "view-in-github",
        "colab_type": "text"
      },
      "source": [
        "<a href=\"https://colab.research.google.com/github/mosaseka/AtCoder/blob/main/A_Shrinking.ipynb\" target=\"_parent\"><img src=\"https://colab.research.google.com/assets/colab-badge.svg\" alt=\"Open In Colab\"/></a>"
      ]
    },
    {
      "cell_type": "code",
      "execution_count": null,
      "metadata": {
        "colab": {
          "base_uri": "https://localhost:8080/"
        },
        "id": "-7PtbvpHSGLM",
        "outputId": "29adf108-b938-45b4-d4fc-8f3d0ff76fdb"
      },
      "outputs": [
        {
          "output_type": "stream",
          "name": "stdout",
          "text": [
            "whbrjpjyhsrywlqjxdbrbaomnw\n",
            "[('w', 3), ('b', 3), ('r', 3), ('j', 3), ('h', 2), ('y', 2), ('p', 1), ('s', 1), ('l', 1), ('q', 1), ('x', 1), ('d', 1), ('a', 1), ('o', 1), ('m', 1), ('n', 1)]\n",
            "4\n"
          ]
        }
      ],
      "source": [
        "import collections\n",
        "import math\n",
        "\n",
        "S_LIST = list(map(str,input()))\n",
        "S_COLLECT = list((collections.Counter(S_LIST)).items())\n",
        "TARGET = 0\n",
        "ANSWER = 0\n",
        "\n",
        "if len(S_COLLECT) == 1:\n",
        "  print(0)\n",
        "  exit()\n",
        "\n",
        "S_COLLECT = sorted(S_COLLECT,key=lambda x:x[1],reverse=True)\n",
        "print(S_COLLECT)\n",
        "TARGET = S_COLLECT[0][1]\n",
        "#print(TARGET)\n",
        "\n",
        "while TARGET < len(S_LIST):\n",
        "  TARGET *= 2\n",
        "  ANSWER += 1\n",
        "\n",
        "print(ANSWER)"
      ]
    },
    {
      "cell_type": "code",
      "source": [
        "S = str(input())\n",
        "S_SET = set(map(str,S))\n",
        "ANSWER = 999999\n",
        "CHECK = 0\n",
        "\n",
        "for i in S_SET:\n",
        "  CHECK = max(len(j) for j in S.split(i))\n",
        "  if CHECK < ANSWER:\n",
        "    ANSWER = CHECK\n",
        "\n",
        "print(ANSWER)"
      ],
      "metadata": {
        "colab": {
          "base_uri": "https://localhost:8080/"
        },
        "id": "2NwjADwni0nW",
        "outputId": "24097d35-3353-489f-d1f6-10211d87d17a"
      },
      "execution_count": null,
      "outputs": [
        {
          "output_type": "stream",
          "name": "stdout",
          "text": [
            "whbrjpjyhsrywlqjxdbrbaomnw\n",
            "8\n"
          ]
        }
      ]
    }
  ]
}