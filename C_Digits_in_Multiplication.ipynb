{
  "nbformat": 4,
  "nbformat_minor": 0,
  "metadata": {
    "colab": {
      "provenance": [],
      "authorship_tag": "ABX9TyPN9SSqlQ544flJU/PndRVD",
      "include_colab_link": true
    },
    "kernelspec": {
      "name": "python3",
      "display_name": "Python 3"
    },
    "language_info": {
      "name": "python"
    }
  },
  "cells": [
    {
      "cell_type": "markdown",
      "metadata": {
        "id": "view-in-github",
        "colab_type": "text"
      },
      "source": [
        "<a href=\"https://colab.research.google.com/github/mosaseka/AtCoder/blob/main/C_Digits_in_Multiplication.ipynb\" target=\"_parent\"><img src=\"https://colab.research.google.com/assets/colab-badge.svg\" alt=\"Open In Colab\"/></a>"
      ]
    },
    {
      "cell_type": "code",
      "execution_count": null,
      "metadata": {
        "id": "1oZkzqqu35IJ"
      },
      "outputs": [],
      "source": [
        "import math\n",
        "\n",
        "N = int(input())\n",
        "A = []\n",
        "B = []\n",
        "A_LEN = 0\n",
        "B_LEN = 0\n",
        "ANSWER = 100\n",
        "\n",
        "for i in range(int(math.sqrt(N))):\n",
        "  if N % (i+1) == 0:\n",
        "    A.append(int(i+1))\n",
        "    B.append(int(N / (i+1)))\n",
        "\n",
        "for i in range(len(A)):\n",
        "  A_LEN = len(str(A[i]))\n",
        "  B_LEN = len(str(B[i]))\n",
        "  if max(A_LEN,B_LEN) < ANSWER:\n",
        "    ANSWER = max(A_LEN,B_LEN)\n",
        "\n",
        "print(ANSWER)"
      ]
    }
  ]
}