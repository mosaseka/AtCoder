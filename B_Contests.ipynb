{
  "nbformat": 4,
  "nbformat_minor": 0,
  "metadata": {
    "colab": {
      "provenance": [],
      "authorship_tag": "ABX9TyMYxCR5kGHbiiQl9viBcM13",
      "include_colab_link": true
    },
    "kernelspec": {
      "name": "python3",
      "display_name": "Python 3"
    },
    "language_info": {
      "name": "python"
    }
  },
  "cells": [
    {
      "cell_type": "markdown",
      "metadata": {
        "id": "view-in-github",
        "colab_type": "text"
      },
      "source": [
        "<a href=\"https://colab.research.google.com/github/mosaseka/AtCoder/blob/main/B_Contests.ipynb\" target=\"_parent\"><img src=\"https://colab.research.google.com/assets/colab-badge.svg\" alt=\"Open In Colab\"/></a>"
      ]
    },
    {
      "cell_type": "code",
      "execution_count": null,
      "metadata": {
        "id": "7yFeIefqN4WZ"
      },
      "outputs": [],
      "source": [
        "N = int(input())\n",
        "A,B = map(int,input().split())\n",
        "P_LIST = list(map(int,input().split()))\n",
        "ANSWER = [0,0,0]\n",
        "\n",
        "for i in range(N):\n",
        "  if P_LIST[i] <= A:\n",
        "    ANSWER[0] += 1\n",
        "  if A+1 <= P_LIST[i] and P_LIST[i] <= B:\n",
        "    ANSWER[1] += 1\n",
        "  if B+1 <= P_LIST[i]:\n",
        "    ANSWER[2] += 1\n",
        "\n",
        "print(min(ANSWER))"
      ]
    }
  ]
}