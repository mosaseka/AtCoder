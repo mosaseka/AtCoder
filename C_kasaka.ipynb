{
  "nbformat": 4,
  "nbformat_minor": 0,
  "metadata": {
    "colab": {
      "provenance": [],
      "authorship_tag": "ABX9TyMOP6t+GZ0jek1DZ86gu5mD",
      "include_colab_link": true
    },
    "kernelspec": {
      "name": "python3",
      "display_name": "Python 3"
    },
    "language_info": {
      "name": "python"
    }
  },
  "cells": [
    {
      "cell_type": "markdown",
      "metadata": {
        "id": "view-in-github",
        "colab_type": "text"
      },
      "source": [
        "<a href=\"https://colab.research.google.com/github/mosaseka/AtCoder/blob/main/C_kasaka.ipynb\" target=\"_parent\"><img src=\"https://colab.research.google.com/assets/colab-badge.svg\" alt=\"Open In Colab\"/></a>"
      ]
    },
    {
      "cell_type": "code",
      "execution_count": null,
      "metadata": {
        "id": "UzbVBSMJ_3Gg"
      },
      "outputs": [],
      "source": [
        "S = list(map(str,input()))\n",
        "CHECK = []\n",
        "\n",
        "#print(S)\n",
        "\n",
        "for i in range(len(S)+1):\n",
        "  CHECK = [\"a\" for j in range(i)] + S\n",
        "  #print(CHECK)\n",
        "  #print(list(reversed(CHECK)))\n",
        "  if CHECK == list(reversed(CHECK)):\n",
        "    print(\"Yes\")\n",
        "    exit()\n",
        "\n",
        "print(\"No\")"
      ]
    },
    {
      "cell_type": "code",
      "source": [
        "S = str(input())\n",
        "LEFT = len(S) - len(S.lstrip(\"a\"))\n",
        "RIGHT = len(S) - len(S.rstrip(\"a\"))\n",
        "CHECK = \"a\"*(RIGHT-LEFT) + S\n",
        "FLAG = False\n",
        "\n",
        "if LEFT > RIGHT:\n",
        "  FLAG = False\n",
        "else:\n",
        "  FLAG = (CHECK == CHECK[::-1])\n",
        "\n",
        "if FLAG:\n",
        "  print(\"Yes\")\n",
        "else:\n",
        "  print(\"No\")"
      ],
      "metadata": {
        "colab": {
          "base_uri": "https://localhost:8080/"
        },
        "id": "F9YPxExkCTRX",
        "outputId": "2a115882-1f28-4fc3-fee7-317087b0e72a"
      },
      "execution_count": null,
      "outputs": [
        {
          "output_type": "stream",
          "name": "stdout",
          "text": [
            "kasaka\n",
            "No\n"
          ]
        }
      ]
    }
  ]
}