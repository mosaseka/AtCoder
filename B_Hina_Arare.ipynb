{
  "nbformat": 4,
  "nbformat_minor": 0,
  "metadata": {
    "colab": {
      "provenance": [],
      "authorship_tag": "ABX9TyNV4S4kyyBtiaPSsZ2OlzxC",
      "include_colab_link": true
    },
    "kernelspec": {
      "name": "python3",
      "display_name": "Python 3"
    },
    "language_info": {
      "name": "python"
    }
  },
  "cells": [
    {
      "cell_type": "markdown",
      "metadata": {
        "id": "view-in-github",
        "colab_type": "text"
      },
      "source": [
        "<a href=\"https://colab.research.google.com/github/mosaseka/AtCoder/blob/main/B_Hina_Arare.ipynb\" target=\"_parent\"><img src=\"https://colab.research.google.com/assets/colab-badge.svg\" alt=\"Open In Colab\"/></a>"
      ]
    },
    {
      "cell_type": "code",
      "execution_count": null,
      "metadata": {
        "id": "GESWb5zywddY"
      },
      "outputs": [],
      "source": [
        "N = int(input())\n",
        "S_SET = set(map(str,input().split()))\n",
        "\n",
        "if len(S_SET) == 3:\n",
        "  print(\"Three\")\n",
        "else:\n",
        "  print(\"Four\")"
      ]
    }
  ]
}