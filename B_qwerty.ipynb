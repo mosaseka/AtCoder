{
  "nbformat": 4,
  "nbformat_minor": 0,
  "metadata": {
    "colab": {
      "provenance": [],
      "authorship_tag": "ABX9TyOtQZ7kAsmIoO+YD8icRheY",
      "include_colab_link": true
    },
    "kernelspec": {
      "name": "python3",
      "display_name": "Python 3"
    },
    "language_info": {
      "name": "python"
    }
  },
  "cells": [
    {
      "cell_type": "markdown",
      "metadata": {
        "id": "view-in-github",
        "colab_type": "text"
      },
      "source": [
        "<a href=\"https://colab.research.google.com/github/mosaseka/AtCoder/blob/main/B_qwerty.ipynb\" target=\"_parent\"><img src=\"https://colab.research.google.com/assets/colab-badge.svg\" alt=\"Open In Colab\"/></a>"
      ]
    },
    {
      "cell_type": "code",
      "execution_count": null,
      "metadata": {
        "id": "mhQpd4YFV84F"
      },
      "outputs": [],
      "source": [
        "import string\n",
        "\n",
        "P_LIST = list(map(int,input().split()))\n",
        "LOWER_LIST = list(string.ascii_lowercase)\n",
        "ANSWER = \"\"\n",
        "\n",
        "for i in range(26):\n",
        "  ANSWER += LOWER_LIST[P_LIST[i]-1]\n",
        "\n",
        "print(ANSWER)"
      ]
    }
  ]
}