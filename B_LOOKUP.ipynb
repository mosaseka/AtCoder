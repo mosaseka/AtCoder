{
  "nbformat": 4,
  "nbformat_minor": 0,
  "metadata": {
    "colab": {
      "provenance": [],
      "authorship_tag": "ABX9TyNy3Su7GlzxccR/OCNafK3Q",
      "include_colab_link": true
    },
    "kernelspec": {
      "name": "python3",
      "display_name": "Python 3"
    },
    "language_info": {
      "name": "python"
    }
  },
  "cells": [
    {
      "cell_type": "markdown",
      "metadata": {
        "id": "view-in-github",
        "colab_type": "text"
      },
      "source": [
        "<a href=\"https://colab.research.google.com/github/mosaseka/AtCoder/blob/main/B_LOOKUP.ipynb\" target=\"_parent\"><img src=\"https://colab.research.google.com/assets/colab-badge.svg\" alt=\"Open In Colab\"/></a>"
      ]
    },
    {
      "cell_type": "code",
      "execution_count": null,
      "metadata": {
        "colab": {
          "base_uri": "https://localhost:8080/"
        },
        "id": "_AMKn16g3TV6",
        "outputId": "8569bc5d-775d-4ec9-edf2-07bde6433396"
      },
      "outputs": [
        {
          "output_type": "stream",
          "name": "stdout",
          "text": [
            "voltage\n",
            "tag\n",
            "['v', 'o', 'l']\n",
            "Yes\n"
          ]
        }
      ],
      "source": [
        "S = list(map(str,input()))\n",
        "T = list(map(str,input()))\n",
        "S_LENGTH = len(S)\n",
        "T_LENGTH = len(T)\n",
        "ANSWER = \"\"\n",
        "\n",
        "while True:\n",
        "  if T == S[0:T_LENGTH]:\n",
        "    ANSWER = \"Yes\"\n",
        "    break\n",
        "  elif S == []:\n",
        "    ANSWER = \"No\"\n",
        "    break\n",
        "  else:\n",
        "    S.pop(0)\n",
        "\n",
        "print(ANSWER)"
      ]
    }
  ]
}