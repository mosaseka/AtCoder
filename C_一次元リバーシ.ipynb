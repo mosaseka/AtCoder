{
  "nbformat": 4,
  "nbformat_minor": 0,
  "metadata": {
    "colab": {
      "provenance": [],
      "authorship_tag": "ABX9TyOoynKuvlbh9TeovNdxrJqp",
      "include_colab_link": true
    },
    "kernelspec": {
      "name": "python3",
      "display_name": "Python 3"
    },
    "language_info": {
      "name": "python"
    }
  },
  "cells": [
    {
      "cell_type": "markdown",
      "metadata": {
        "id": "view-in-github",
        "colab_type": "text"
      },
      "source": [
        "<a href=\"https://colab.research.google.com/github/mosaseka/AtCoder/blob/main/C_%E4%B8%80%E6%AC%A1%E5%85%83%E3%83%AA%E3%83%90%E3%83%BC%E3%82%B7.ipynb\" target=\"_parent\"><img src=\"https://colab.research.google.com/assets/colab-badge.svg\" alt=\"Open In Colab\"/></a>"
      ]
    },
    {
      "cell_type": "code",
      "execution_count": null,
      "metadata": {
        "id": "PWjEhYZj1p54"
      },
      "outputs": [],
      "source": [
        "S = str(input())\n",
        "COUNT = 0\n",
        "\n",
        "if len(set(S)) == 1:\n",
        "  print(0)\n",
        "  exit()\n",
        "\n",
        "for i in range(len(S)-1):\n",
        "  if S[i] != S[i+1]:\n",
        "    COUNT += 1\n",
        "\n",
        "print(COUNT)"
      ]
    }
  ]
}