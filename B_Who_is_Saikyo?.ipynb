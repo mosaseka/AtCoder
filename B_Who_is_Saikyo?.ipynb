{
  "nbformat": 4,
  "nbformat_minor": 0,
  "metadata": {
    "colab": {
      "provenance": [],
      "authorship_tag": "ABX9TyMvis2/nr6OTVGgDMnWuk9e",
      "include_colab_link": true
    },
    "kernelspec": {
      "name": "python3",
      "display_name": "Python 3"
    },
    "language_info": {
      "name": "python"
    }
  },
  "cells": [
    {
      "cell_type": "markdown",
      "metadata": {
        "id": "view-in-github",
        "colab_type": "text"
      },
      "source": [
        "<a href=\"https://colab.research.google.com/github/mosaseka/AtCoder/blob/main/B_Who_is_Saikyo%3F.ipynb\" target=\"_parent\"><img src=\"https://colab.research.google.com/assets/colab-badge.svg\" alt=\"Open In Colab\"/></a>"
      ]
    },
    {
      "cell_type": "code",
      "execution_count": null,
      "metadata": {
        "id": "xeVWSnHuUtMW"
      },
      "outputs": [],
      "source": [
        "from collections import deque\n",
        "\n",
        "N,M = map(int,input().split())\n",
        "START = set()\n",
        "END = []\n",
        "A = 0\n",
        "B = 0\n",
        "\n",
        "for i in range(M):\n",
        "  A,B = map(int,input().split())\n",
        "  if A not in START:\n",
        "    START.append(A)\n",
        "  else:\n",
        "    print(-1)\n",
        "    exit()\n",
        "  if B not in END:\n",
        "    END.append(B)\n",
        "  else:\n",
        "    print(-1)\n",
        "    exit()\n",
        "\n",
        "print()"
      ]
    },
    {
      "cell_type": "markdown",
      "source": [
        "次の問題をPythonで解いてください。\n",
        "\n",
        "N 人の競技プログラマーがいます。順に 人\n",
        "1, 人\n",
        "2,\n",
        "…, 人\n",
        "N と呼びます。\n",
        "競技プログラマーの間には 強さ と呼ばれる関係性があり、相異なる 2 人組\n",
        "(人\n",
        "X, 人\n",
        "Y\n",
        ") 全てに対して 「人\n",
        "X は人\n",
        "Y より強い」または「人\n",
        "Y は人\n",
        "X より強い」のどちらか一方が成り立ちます。\n",
        "強さ は 推移律 が成り立ちます。言い換えると、相異なる 3 人組\n",
        "(人\n",
        "X, 人\n",
        "Y, 人\n",
        "Z\n",
        ") 全てに対して次の条件が成り立ちます。\n",
        "\n",
        "人\n",
        "X が人\n",
        "Y よりも強く、かつ人\n",
        "Y が人\n",
        "Z よりも強いとき、人\n",
        "X は人\n",
        "Z よりも強い。\n",
        "人\n",
        "X が自分以外のどの人\n",
        "Y に対しても「人\n",
        "X は人\n",
        "Y より強い」という関係が成り立つ時、人\n",
        "X を 最強のプログラマー と呼びます。(上記の制約下においてそのような人がちょうど 1 人存在することが証明できます)\n",
        "\n",
        "あなたは\n",
        "M 個の強さに関する情報を知っています。\n",
        "i 個目の情報は「人\n",
        "A\n",
        "i\n",
        "​\n",
        "  は人\n",
        "B\n",
        "i\n",
        "​\n",
        "  より強い」という情報です。\n",
        "あなたは情報を元に\n",
        "N 人の中から最強のプログラマーを特定することができますか？\n",
        "最強のプログラマーを特定できる場合はその人の番号を出力してください。特定できない場合、つまり最強のプログラマーとしてあり得る人が複数人いる場合は -1 を出力してください。"
      ],
      "metadata": {
        "id": "Zh3-piIrsQkG"
      }
    },
    {
      "cell_type": "code",
      "source": [
        "from collections import defaultdict\n",
        "\n",
        "def dfs(v, adj_list, visited, stack):\n",
        "    visited[v] = True\n",
        "    for u in adj_list[v]:\n",
        "        if not visited[u]:\n",
        "            dfs(u, adj_list, visited, stack)\n",
        "    stack.append(v)\n",
        "\n",
        "def topological_sort(adj_list, n):\n",
        "    visited = [False] * (n + 1)\n",
        "    stack = []\n",
        "    for i in range(1, n + 1):\n",
        "        if not visited[i]:\n",
        "            dfs(i, adj_list, visited, stack)\n",
        "    return stack[::-1]\n",
        "\n",
        "def find_strongest_programmer(n, m, info):\n",
        "    adj_list = defaultdict(list)\n",
        "    for a, b in info:\n",
        "        adj_list[a].append(b)\n",
        "\n",
        "    top_order = topological_sort(adj_list, n)\n",
        "\n",
        "    # 順序に従って最強のプログラマーを探す\n",
        "    for i in range(n):\n",
        "        curr_programmer = top_order[i]\n",
        "        # curr_programmerが自分以外の全員より強いかチェック\n",
        "        is_strongest = True\n",
        "        for j in range(i + 1, n):\n",
        "            if top_order[j] not in adj_list[curr_programmer]:\n",
        "                is_strongest = False\n",
        "                break\n",
        "        if is_strongest:\n",
        "            return curr_programmer\n",
        "\n",
        "    return -1\n",
        "\n",
        "\n",
        "N,M = map(int,input().split())\n",
        "LIST = []\n",
        "A = 0\n",
        "B = 0\n",
        "\n",
        "for i in range(M):\n",
        "  LIST.append(tuple(map(int.input().split())))\n",
        "\n",
        "result = find_strongest_programmer(N, M, info)\n",
        "print(result)"
      ],
      "metadata": {
        "id": "WKbVeNXovWCn"
      },
      "execution_count": null,
      "outputs": []
    },
    {
      "cell_type": "code",
      "source": [
        "N,M = map(int,input().split())\n",
        "SET = set(range(1,N+1))\n",
        "A = 0\n",
        "B = 0\n",
        "\n",
        "for i in range(M):\n",
        "  A,B = map(int,input().split())\n",
        "  SET.discard(B)\n",
        "\n",
        "if len(SET) != 1:\n",
        "  print(-1)\n",
        "else:\n",
        "  print(SET.pop())"
      ],
      "metadata": {
        "id": "nkb9IMhy70GP"
      },
      "execution_count": null,
      "outputs": []
    }
  ]
}