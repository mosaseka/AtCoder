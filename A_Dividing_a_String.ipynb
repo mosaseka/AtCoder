{
  "nbformat": 4,
  "nbformat_minor": 0,
  "metadata": {
    "colab": {
      "provenance": [],
      "authorship_tag": "ABX9TyOV9/5qAEbRlPRCDBafLf6e",
      "include_colab_link": true
    },
    "kernelspec": {
      "name": "python3",
      "display_name": "Python 3"
    },
    "language_info": {
      "name": "python"
    }
  },
  "cells": [
    {
      "cell_type": "markdown",
      "metadata": {
        "id": "view-in-github",
        "colab_type": "text"
      },
      "source": [
        "<a href=\"https://colab.research.google.com/github/mosaseka/AtCoder/blob/main/A_Dividing_a_String.ipynb\" target=\"_parent\"><img src=\"https://colab.research.google.com/assets/colab-badge.svg\" alt=\"Open In Colab\"/></a>"
      ]
    },
    {
      "cell_type": "code",
      "execution_count": null,
      "metadata": {
        "colab": {
          "base_uri": "https://localhost:8080/"
        },
        "id": "__oPk2muvPQQ",
        "outputId": "2b3ac020-80c5-45de-bc20-de1093654e15"
      },
      "outputs": [
        {
          "output_type": "stream",
          "name": "stdout",
          "text": [
            "aaaccacabaababc\n",
            "12\n"
          ]
        }
      ],
      "source": [
        "S_LIST = list(map(str,input()))\n",
        "COUNT = 0\n",
        "CHECK = \"\"\n",
        "PAST = \"\"\n",
        "\n",
        "for i in range(len(S_LIST)):\n",
        "  CHECK += S_LIST[i]\n",
        "  if CHECK != PAST:\n",
        "    COUNT += 1\n",
        "    PAST = CHECK\n",
        "    CHECK = \"\"\n",
        "\n",
        "print(COUNT)"
      ]
    }
  ]
}