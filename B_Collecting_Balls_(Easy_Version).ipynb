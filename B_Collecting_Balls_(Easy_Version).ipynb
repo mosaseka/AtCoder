{
  "nbformat": 4,
  "nbformat_minor": 0,
  "metadata": {
    "colab": {
      "provenance": [],
      "authorship_tag": "ABX9TyM0esF/LGZgIanXlvedpOuJ",
      "include_colab_link": true
    },
    "kernelspec": {
      "name": "python3",
      "display_name": "Python 3"
    },
    "language_info": {
      "name": "python"
    }
  },
  "cells": [
    {
      "cell_type": "markdown",
      "metadata": {
        "id": "view-in-github",
        "colab_type": "text"
      },
      "source": [
        "<a href=\"https://colab.research.google.com/github/mosaseka/AtCoder/blob/main/B_Collecting_Balls_(Easy_Version).ipynb\" target=\"_parent\"><img src=\"https://colab.research.google.com/assets/colab-badge.svg\" alt=\"Open In Colab\"/></a>"
      ]
    },
    {
      "cell_type": "code",
      "execution_count": null,
      "metadata": {
        "id": "1tXkAQepQzF4",
        "colab": {
          "base_uri": "https://localhost:8080/"
        },
        "outputId": "f3961e34-da50-4880-e422-2fb943c1e520"
      },
      "outputs": [
        {
          "output_type": "stream",
          "name": "stdout",
          "text": [
            "1\n",
            "10\n",
            "2\n",
            "4\n"
          ]
        }
      ],
      "source": [
        "N = int(input())\n",
        "K = int(input())\n",
        "X_LIST = list(map(int,input().split()))\n",
        "DISTANCE_LIST = []\n",
        "MIN_LIST = []\n",
        "\n",
        "for i in range(N):\n",
        "  DISTANCE_LIST.append(2*abs(X_LIST[i]))\n",
        "  DISTANCE_LIST.append(2*abs(X_LIST[i] - K))\n",
        "  MIN_LIST.append(min(DISTANCE_LIST))\n",
        "  DISTANCE_LIST = []\n",
        "\n",
        "\n",
        "print(sum(MIN_LIST))"
      ]
    }
  ]
}