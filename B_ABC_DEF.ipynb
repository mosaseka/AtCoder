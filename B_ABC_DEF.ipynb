{
  "nbformat": 4,
  "nbformat_minor": 0,
  "metadata": {
    "colab": {
      "provenance": [],
      "authorship_tag": "ABX9TyPoy5LzaF7pi2hCR0P+YF7z",
      "include_colab_link": true
    },
    "kernelspec": {
      "name": "python3",
      "display_name": "Python 3"
    },
    "language_info": {
      "name": "python"
    }
  },
  "cells": [
    {
      "cell_type": "markdown",
      "metadata": {
        "id": "view-in-github",
        "colab_type": "text"
      },
      "source": [
        "<a href=\"https://colab.research.google.com/github/mosaseka/AtCoder/blob/main/B_ABC_DEF.ipynb\" target=\"_parent\"><img src=\"https://colab.research.google.com/assets/colab-badge.svg\" alt=\"Open In Colab\"/></a>"
      ]
    },
    {
      "cell_type": "code",
      "execution_count": null,
      "metadata": {
        "id": "uRVEntVIwq5Z"
      },
      "outputs": [],
      "source": [
        "A,B,C,D,E,F = map(int,input().split())\n",
        "\n",
        "print(((A*B*C) - (D*E*F)) % 998244353)"
      ]
    }
  ]
}