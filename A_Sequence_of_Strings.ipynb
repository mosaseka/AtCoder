{
  "nbformat": 4,
  "nbformat_minor": 0,
  "metadata": {
    "colab": {
      "provenance": [],
      "authorship_tag": "ABX9TyMjRLmpKGLI/5Q4VoeGm9b1",
      "include_colab_link": true
    },
    "kernelspec": {
      "name": "python3",
      "display_name": "Python 3"
    },
    "language_info": {
      "name": "python"
    }
  },
  "cells": [
    {
      "cell_type": "markdown",
      "metadata": {
        "id": "view-in-github",
        "colab_type": "text"
      },
      "source": [
        "<a href=\"https://colab.research.google.com/github/mosaseka/AtCoder/blob/main/A_Sequence_of_Strings.ipynb\" target=\"_parent\"><img src=\"https://colab.research.google.com/assets/colab-badge.svg\" alt=\"Open In Colab\"/></a>"
      ]
    },
    {
      "cell_type": "code",
      "execution_count": null,
      "metadata": {
        "colab": {
          "base_uri": "https://localhost:8080/"
        },
        "id": "RDPuwClvLqbJ",
        "outputId": "b9a65866-f7f9-404d-edd1-e2b83e1bdd65"
      },
      "outputs": [
        {
          "output_type": "stream",
          "name": "stdout",
          "text": [
            "3\n",
            "Takahashi\n",
            "Aoki\n",
            "Snuke\n",
            "Snuke\n",
            "Aoki\n",
            "Takahashi\n"
          ]
        }
      ],
      "source": [
        "N = int(input())\n",
        "ANSWER_LIST = []\n",
        "for i in range(N):\n",
        "  ANSWER_LIST.append(str(input()))\n",
        "\n",
        "ANSWER_LIST.reverse()\n",
        "\n",
        "for i in range(N):\n",
        "  print(ANSWER_LIST[i])"
      ]
    }
  ]
}