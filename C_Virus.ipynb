{
  "nbformat": 4,
  "nbformat_minor": 0,
  "metadata": {
    "colab": {
      "provenance": [],
      "authorship_tag": "ABX9TyPNkwWJE0oivUhIkGKV4AHl",
      "include_colab_link": true
    },
    "kernelspec": {
      "name": "python3",
      "display_name": "Python 3"
    },
    "language_info": {
      "name": "python"
    }
  },
  "cells": [
    {
      "cell_type": "markdown",
      "metadata": {
        "id": "view-in-github",
        "colab_type": "text"
      },
      "source": [
        "<a href=\"https://colab.research.google.com/github/mosaseka/AtCoder/blob/main/C_Virus.ipynb\" target=\"_parent\"><img src=\"https://colab.research.google.com/assets/colab-badge.svg\" alt=\"Open In Colab\"/></a>"
      ]
    },
    {
      "cell_type": "code",
      "execution_count": null,
      "metadata": {
        "id": "5l0J8vk4NC-S"
      },
      "outputs": [],
      "source": [
        "import math\n",
        "\n",
        "N,D = map(int,input().split())\n",
        "XY_LIST = [list(map(int,input().split())) for i in range(N)]\n",
        "\n",
        "print(\"Yes\")\n",
        "\n",
        "for i in range(N-1):\n",
        "  if math.sqrt(((XY_LIST[0][0] - XY_LIST[i+1][0])**2) + ((XY_LIST[0][1] - XY_LIST[i+1][1])**2)) <= D:\n",
        "    print(\"Yes\")\n",
        "  else:\n",
        "    print(\"No\")"
      ]
    },
    {
      "cell_type": "code",
      "source": [
        "import math\n",
        "from collections import deque\n",
        "\n",
        "N,D = map(int,input().split())\n",
        "XY_DEQ = deque(list(map(int,input().split())) for i in range(N))\n",
        "VIRUS_LIST = [True] + [False for i in range(N-1)]\n",
        "\n",
        "for i in range(2):\n",
        "  for j in range(N):\n",
        "    for k in range(i,N):\n",
        "      if math.sqrt(((XY_DEQ[j][0] - XY_DEQ[k][0])**2) + ((XY_DEQ[j][1] - XY_DEQ[k][1])**2)) <= D and (VIRUS_LIST[j] or VIRUS_LIST[k]):\n",
        "        VIRUS_LIST[j],VIRUS_LIST[k] = True,True\n",
        "\n",
        "#print(VIRUS_LIST)\n",
        "\n",
        "for i in range(N):\n",
        "  if VIRUS_LIST[i]:\n",
        "    print(\"Yes\")\n",
        "  else:\n",
        "    print(\"No\")"
      ],
      "metadata": {
        "colab": {
          "base_uri": "https://localhost:8080/"
        },
        "id": "oH4JFQ4ZPUja",
        "outputId": "dbc6c139-d9bf-4897-e383-2af332de9324"
      },
      "execution_count": null,
      "outputs": [
        {
          "output_type": "stream",
          "name": "stdout",
          "text": [
            "4 5\n",
            "2 -1\n",
            "3 1\n",
            "8 8\n",
            "0 5\n",
            "Yes\n",
            "Yes\n",
            "No\n",
            "Yes\n"
          ]
        }
      ]
    },
    {
      "cell_type": "code",
      "source": [
        "import math\n",
        "from collections import deque\n",
        "\n",
        "N,D = map(int,input().split())\n",
        "XY_DEQ = deque(list(map(int,input().split())) for i in range(N))\n",
        "VIRUS_LIST = [True] + [False for i in range(N-1)]\n",
        "\n",
        "for i in range(2):\n",
        "  for j in range(N):\n",
        "    for k in range(j,N):\n",
        "      if math.sqrt(((XY_DEQ[j][0] - XY_DEQ[k][0])**2) + ((XY_DEQ[j][1] - XY_DEQ[k][1])**2)) <= D and (VIRUS_LIST[j] or VIRUS_LIST[k]):\n",
        "        VIRUS_LIST[j],VIRUS_LIST[k] = True,True\n",
        "\n",
        "#print(VIRUS_LIST)\n",
        "\n",
        "for i in range(N):\n",
        "  if VIRUS_LIST[i]:\n",
        "    print(\"Yes\")\n",
        "  else:\n",
        "    print(\"No\")"
      ],
      "metadata": {
        "id": "dh7klGoujMC3"
      },
      "execution_count": null,
      "outputs": []
    },
    {
      "cell_type": "markdown",
      "source": [
        "次の問題をPythonで解いてください。\n",
        "\n",
        "1,2,…,N の番号がついた\n",
        "N 人の人が二次元平面上におり、人\n",
        "i は座標\n",
        "(X\n",
        "i\n",
        "​\n",
        " ,Y\n",
        "i\n",
        "​\n",
        " ) で表される地点にいます。\n",
        "\n",
        "人\n",
        "1 がウイルスに感染しました。ウイルスに感染した人から距離が\n",
        "D 以内にいる人にウイルスはうつります。\n",
        "\n",
        "ただし、距離はユークリッド距離、すなわち\n",
        "2 点\n",
        "(a\n",
        "1\n",
        "​\n",
        " ,a\n",
        "2\n",
        "​\n",
        " ) と\n",
        "(b\n",
        "1\n",
        "​\n",
        " ,b\n",
        "2\n",
        "​\n",
        " ) に対し、この\n",
        "2 点間の距離が\n",
        "(a\n",
        "1\n",
        "​\n",
        " −b\n",
        "1\n",
        "​\n",
        " )\n",
        "2\n",
        " +(a\n",
        "2\n",
        "​\n",
        " −b\n",
        "2\n",
        "​\n",
        " )\n",
        "2\n",
        "\n",
        "​\n",
        "  であるものとして定められています。\n",
        "\n",
        "十分に時間が経過した、すなわち人\n",
        "i がウイルスに感染しているならば 人\n",
        "i との距離が\n",
        "D 以内にいるすべての人がウイルスに感染している状態になったときに、各\n",
        "i について人\n",
        "i がウイルスに感染しているか判定してください。"
      ],
      "metadata": {
        "id": "KC7K6SZnfbyA"
      }
    },
    {
      "cell_type": "code",
      "source": [
        "# !! ChatGPT使用 !!#\n",
        "\n",
        "import math\n",
        "\n",
        "def is_infected(N, coordinates, D):\n",
        "    infected = [False] * N  # 初期状態では全員が感染していないとする\n",
        "\n",
        "    def distance(p1, p2):\n",
        "        return math.sqrt((p1[0] - p2[0])**2 + (p1[1] - p2[1])**2)\n",
        "\n",
        "    def infect(person):\n",
        "        infected[person] = True\n",
        "        for i in range(N):\n",
        "            if not infected[i] and distance(coordinates[person], coordinates[i]) <= D:\n",
        "                infect(i)\n",
        "\n",
        "    infect(0)  # 人1が感染していると仮定して再帰的に感染者を広げる\n",
        "\n",
        "    return infected\n",
        "\n",
        "N,D = map(int,input().split())\n",
        "coordinates = [list(map(int,input().split())) for i in range(N)]\n",
        "\n",
        "result = is_infected(N, coordinates, D)\n",
        "#print(result)\n",
        "\n",
        "for i in range(N):\n",
        "  if result[i]:\n",
        "    print(\"Yes\")\n",
        "  else:\n",
        "    print(\"No\")"
      ],
      "metadata": {
        "id": "o7IvdtsBfu3y"
      },
      "execution_count": null,
      "outputs": []
    },
    {
      "cell_type": "code",
      "source": [
        "import math\n",
        "from collections import deque\n",
        "\n",
        "N,D = map(int,input().split())\n",
        "XY_DEQ = deque(list(map(int,input().split())) for i in range(N))\n",
        "VIRUS_LIST = [False for i in range(N)]\n",
        "BLACK_DEQ = deque()\n",
        "CHECK = 0\n",
        "\n",
        "BLACK_DEQ.append(0)\n",
        "\n",
        "while BLACK_DEQ:\n",
        "  CHECK = BLACK_DEQ.popleft()\n",
        "  VIRUS_LIST[CHECK] = True\n",
        "  for i in range(N):\n",
        "    if math.sqrt(((XY_DEQ[i][0]-XY_DEQ[CHECK][0])**2) + ((XY_DEQ[i][1]-XY_DEQ[CHECK][1])**2)) <= D and not VIRUS_LIST[i]:\n",
        "      VIRUS_LIST[i] = True\n",
        "      BLACK_DEQ.append(i)\n",
        "\n",
        "for i in range(N):\n",
        "  if VIRUS_LIST[i]:\n",
        "    print(\"Yes\")\n",
        "  else:\n",
        "    print(\"No\")"
      ],
      "metadata": {
        "colab": {
          "base_uri": "https://localhost:8080/"
        },
        "id": "YgHjMlr_c3pw",
        "outputId": "2460128d-0866-4a87-f23b-a4dbe34d7a0f"
      },
      "execution_count": null,
      "outputs": [
        {
          "output_type": "stream",
          "name": "stdout",
          "text": [
            "4 5\n",
            "2 -1\n",
            "3 1\n",
            "8 8\n",
            "0 5\n",
            "Yes\n",
            "Yes\n",
            "No\n",
            "Yes\n"
          ]
        }
      ]
    }
  ]
}