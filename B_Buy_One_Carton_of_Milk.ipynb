{
  "nbformat": 4,
  "nbformat_minor": 0,
  "metadata": {
    "colab": {
      "provenance": [],
      "authorship_tag": "ABX9TyOiFKMXZL89KCfDRFY2AqRB",
      "include_colab_link": true
    },
    "kernelspec": {
      "name": "python3",
      "display_name": "Python 3"
    },
    "language_info": {
      "name": "python"
    }
  },
  "cells": [
    {
      "cell_type": "markdown",
      "metadata": {
        "id": "view-in-github",
        "colab_type": "text"
      },
      "source": [
        "<a href=\"https://colab.research.google.com/github/mosaseka/AtCoder/blob/main/B_Buy_One_Carton_of_Milk.ipynb\" target=\"_parent\"><img src=\"https://colab.research.google.com/assets/colab-badge.svg\" alt=\"Open In Colab\"/></a>"
      ]
    },
    {
      "cell_type": "code",
      "execution_count": null,
      "metadata": {
        "id": "WkxlYqGG-R1g"
      },
      "outputs": [],
      "source": [
        "from collections import deque\n",
        "\n",
        "N,S,M,L = map(int,input().split())\n",
        "COUNT = 0\n",
        "ANSWER = deque()\n",
        "\n",
        "for i in range(N+1):\n",
        "  for j in range(N+1):\n",
        "    for k in range(N+1):\n",
        "      if i*6 + j*8 + k*12 >= N:\n",
        "        ANSWER.append(i*S + j*M + k*L)\n",
        "\n",
        "print(min(ANSWER))"
      ]
    }
  ]
}