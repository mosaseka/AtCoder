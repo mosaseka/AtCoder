{
  "nbformat": 4,
  "nbformat_minor": 0,
  "metadata": {
    "colab": {
      "provenance": [],
      "authorship_tag": "ABX9TyNo1aPQSj+dj/RhY5a+BWSy",
      "include_colab_link": true
    },
    "kernelspec": {
      "name": "python3",
      "display_name": "Python 3"
    },
    "language_info": {
      "name": "python"
    }
  },
  "cells": [
    {
      "cell_type": "markdown",
      "metadata": {
        "id": "view-in-github",
        "colab_type": "text"
      },
      "source": [
        "<a href=\"https://colab.research.google.com/github/mosaseka/AtCoder/blob/main/B_Avoid_Rook_Attack.ipynb\" target=\"_parent\"><img src=\"https://colab.research.google.com/assets/colab-badge.svg\" alt=\"Open In Colab\"/></a>"
      ]
    },
    {
      "cell_type": "code",
      "execution_count": null,
      "metadata": {
        "id": "Mg2WFmOQtdu0"
      },
      "outputs": [],
      "source": [
        "S_LIST = [list(map(str,input())) for i in range(8)]\n",
        "TATE = set()\n",
        "YOKO = set()\n",
        "COUNT = 0\n",
        "\n",
        "for i in range(8):\n",
        "  for j in range(8):\n",
        "    if S_LIST[i][j] == \"#\":\n",
        "      TATE.add(i)\n",
        "      YOKO.add(j)\n",
        "\n",
        "for i in range(8):\n",
        "  for j in range(8):\n",
        "    if i not in TATE and j not in YOKO:\n",
        "      COUNT += 1\n",
        "\n",
        "print(COUNT)"
      ]
    }
  ]
}