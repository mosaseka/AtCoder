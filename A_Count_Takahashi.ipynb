{
  "nbformat": 4,
  "nbformat_minor": 0,
  "metadata": {
    "colab": {
      "provenance": [],
      "authorship_tag": "ABX9TyNssdAb03bvIijFjH3F64Sb",
      "include_colab_link": true
    },
    "kernelspec": {
      "name": "python3",
      "display_name": "Python 3"
    },
    "language_info": {
      "name": "python"
    }
  },
  "cells": [
    {
      "cell_type": "markdown",
      "metadata": {
        "id": "view-in-github",
        "colab_type": "text"
      },
      "source": [
        "<a href=\"https://colab.research.google.com/github/mosaseka/AtCoder/blob/main/A_Count_Takahashi.ipynb\" target=\"_parent\"><img src=\"https://colab.research.google.com/assets/colab-badge.svg\" alt=\"Open In Colab\"/></a>"
      ]
    },
    {
      "cell_type": "code",
      "execution_count": null,
      "metadata": {
        "id": "Hx5_jnwpZ_TD"
      },
      "outputs": [],
      "source": [
        "N = int(input())\n",
        "ANSWER = 0\n",
        "S = \"\"\n",
        "\n",
        "for i in range(N):\n",
        "  S = str(input())\n",
        "  if S == \"Takahashi\":\n",
        "    ANSWER += 1\n",
        "\n",
        "print(ANSWER)"
      ]
    }
  ]
}