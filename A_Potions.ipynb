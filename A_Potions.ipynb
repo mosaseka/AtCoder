{
  "nbformat": 4,
  "nbformat_minor": 0,
  "metadata": {
    "colab": {
      "provenance": [],
      "authorship_tag": "ABX9TyMu8qBMqT7c34DNnxxl0WMx",
      "include_colab_link": true
    },
    "kernelspec": {
      "name": "python3",
      "display_name": "Python 3"
    },
    "language_info": {
      "name": "python"
    }
  },
  "cells": [
    {
      "cell_type": "markdown",
      "metadata": {
        "id": "view-in-github",
        "colab_type": "text"
      },
      "source": [
        "<a href=\"https://colab.research.google.com/github/mosaseka/AtCoder/blob/main/A_Potions.ipynb\" target=\"_parent\"><img src=\"https://colab.research.google.com/assets/colab-badge.svg\" alt=\"Open In Colab\"/></a>"
      ]
    },
    {
      "cell_type": "code",
      "execution_count": null,
      "metadata": {
        "id": "cLDlrDFyGIBX"
      },
      "outputs": [],
      "source": [
        "N,H,X = map(int,input().split())\n",
        "P_LIST = list(map(int,input().split()))\n",
        "\n",
        "for i in range(N):\n",
        "  if H + P_LIST[i] >= X:\n",
        "    print(i+1)\n",
        "    exit()"
      ]
    }
  ]
}