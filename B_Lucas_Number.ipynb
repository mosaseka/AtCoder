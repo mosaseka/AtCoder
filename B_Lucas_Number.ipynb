{
  "nbformat": 4,
  "nbformat_minor": 0,
  "metadata": {
    "colab": {
      "provenance": [],
      "authorship_tag": "ABX9TyMl1rmGg4xdCkmmb3NifJpk",
      "include_colab_link": true
    },
    "kernelspec": {
      "name": "python3",
      "display_name": "Python 3"
    },
    "language_info": {
      "name": "python"
    }
  },
  "cells": [
    {
      "cell_type": "markdown",
      "metadata": {
        "id": "view-in-github",
        "colab_type": "text"
      },
      "source": [
        "<a href=\"https://colab.research.google.com/github/mosaseka/AtCoder/blob/main/B_Lucas_Number.ipynb\" target=\"_parent\"><img src=\"https://colab.research.google.com/assets/colab-badge.svg\" alt=\"Open In Colab\"/></a>"
      ]
    },
    {
      "cell_type": "code",
      "execution_count": null,
      "metadata": {
        "colab": {
          "base_uri": "https://localhost:8080/"
        },
        "id": "lc228izCXZdx",
        "outputId": "7ddbf80e-e469-4a63-c8cc-c93c16e7ee7b"
      },
      "outputs": [
        {
          "output_type": "stream",
          "name": "stdout",
          "text": [
            "86\n",
            "939587134549734843\n"
          ]
        }
      ],
      "source": [
        "N = int(input())\n",
        "\n",
        "L_LIST = [2,1]\n",
        "\n",
        "for i in range(N-1):\n",
        "  L_LIST.append(sum(L_LIST))\n",
        "  L_LIST.pop(0)\n",
        "\n",
        "print(L_LIST[-1])"
      ]
    }
  ]
}