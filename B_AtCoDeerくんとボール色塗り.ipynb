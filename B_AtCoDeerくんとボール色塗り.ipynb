{
  "nbformat": 4,
  "nbformat_minor": 0,
  "metadata": {
    "colab": {
      "provenance": [],
      "authorship_tag": "ABX9TyPjt82vK3ojHQb1IdR/HWqS",
      "include_colab_link": true
    },
    "kernelspec": {
      "name": "python3",
      "display_name": "Python 3"
    },
    "language_info": {
      "name": "python"
    }
  },
  "cells": [
    {
      "cell_type": "markdown",
      "metadata": {
        "id": "view-in-github",
        "colab_type": "text"
      },
      "source": [
        "<a href=\"https://colab.research.google.com/github/mosaseka/AtCoder/blob/main/B_AtCoDeer%E3%81%8F%E3%82%93%E3%81%A8%E3%83%9C%E3%83%BC%E3%83%AB%E8%89%B2%E5%A1%97%E3%82%8A.ipynb\" target=\"_parent\"><img src=\"https://colab.research.google.com/assets/colab-badge.svg\" alt=\"Open In Colab\"/></a>"
      ]
    },
    {
      "cell_type": "code",
      "execution_count": null,
      "metadata": {
        "id": "GahDw3IDpPGQ"
      },
      "outputs": [],
      "source": [
        "import itertools\n",
        "\n",
        "N,K = map(int,input().split())\n",
        "COLOR_LIST = []\n",
        "CHECK_LIST = []\n",
        "COUNT = 0\n",
        "\n",
        "#if N == 1:\n",
        "  #print(K)\n",
        "  #exit()\n",
        "\n",
        "for i in range(K):\n",
        "  COLOR_LIST.append(i+1)\n",
        "\n",
        "CHECK_LIST = list(itertools.combinations_with_replacement(COLOR_LIST,N))\n",
        "\n",
        "for i in range(len(CHECK_LIST)):\n",
        "  for j in range(len(CHECK_LIST[i])-1):\n",
        "    if CHECK_LIST[i][j] == CHECK_LIST[i][j+1]:\n",
        "      break\n",
        "    else:\n",
        "      pass\n",
        "  COUNT += 1\n",
        "\n",
        "print(COUNT)"
      ]
    },
    {
      "cell_type": "code",
      "source": [
        "N,K = map(int,input().split())\n",
        "ANSWER = 0\n",
        "\n",
        "ANSWER += K\n",
        "\n",
        "for i in range(N-1):\n",
        "  ANSWER *= (K-1)\n",
        "\n",
        "print(ANSWER)"
      ],
      "metadata": {
        "colab": {
          "base_uri": "https://localhost:8080/"
        },
        "id": "rybMVuaSshoB",
        "outputId": "71d42272-9634-4f6c-afeb-73dae80b085c"
      },
      "execution_count": null,
      "outputs": [
        {
          "output_type": "stream",
          "name": "stdout",
          "text": [
            "10 8\n",
            "322828856\n"
          ]
        }
      ]
    }
  ]
}