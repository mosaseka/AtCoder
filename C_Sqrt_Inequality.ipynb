{
  "nbformat": 4,
  "nbformat_minor": 0,
  "metadata": {
    "colab": {
      "provenance": [],
      "authorship_tag": "ABX9TyO5GMmdi/ssIbsTQNsZlj7y",
      "include_colab_link": true
    },
    "kernelspec": {
      "name": "python3",
      "display_name": "Python 3"
    },
    "language_info": {
      "name": "python"
    }
  },
  "cells": [
    {
      "cell_type": "markdown",
      "metadata": {
        "id": "view-in-github",
        "colab_type": "text"
      },
      "source": [
        "<a href=\"https://colab.research.google.com/github/mosaseka/AtCoder/blob/main/C_Sqrt_Inequality.ipynb\" target=\"_parent\"><img src=\"https://colab.research.google.com/assets/colab-badge.svg\" alt=\"Open In Colab\"/></a>"
      ]
    },
    {
      "cell_type": "code",
      "execution_count": null,
      "metadata": {
        "colab": {
          "base_uri": "https://localhost:8080/"
        },
        "id": "gXg6oe4vhfu2",
        "outputId": "b63b9810-51e6-40a4-9680-283a23dcbd45"
      },
      "outputs": [
        {
          "output_type": "stream",
          "name": "stdout",
          "text": [
            "249999999 250000000 999999998\n",
            "No\n"
          ]
        }
      ],
      "source": [
        "import math\n",
        "\n",
        "A,B,C = map(int,input().split())\n",
        "\n",
        "if math.sqrt(A) + math.sqrt(B) < math.sqrt(C):\n",
        "  print(\"Yes\")\n",
        "else:\n",
        "  print(\"No\")"
      ]
    },
    {
      "cell_type": "code",
      "source": [
        "A,B,C = map(int,input().split())\n",
        "\n",
        "if A**0.5 + B**0.5 < C**0.5:\n",
        "  print(\"Yes\")\n",
        "else:\n",
        "  print(\"No\")"
      ],
      "metadata": {
        "id": "eDob_HaHiGex"
      },
      "execution_count": null,
      "outputs": []
    },
    {
      "cell_type": "code",
      "source": [
        "from decimal import Decimal\n",
        "\n",
        "A,B,C = map(int,input().split())\n",
        "\n",
        "A = Decimal(str(A))**Decimal(\"0.5\")\n",
        "B = Decimal(str(B))**Decimal(\"0.5\")\n",
        "C = Decimal(str(C))**Decimal(\"0.5\")\n",
        "\n",
        "if A + B < C:\n",
        "  print(\"Yes\")\n",
        "else:\n",
        "  print(\"No\")"
      ],
      "metadata": {
        "id": "wNzMO0yai8Yt"
      },
      "execution_count": null,
      "outputs": []
    }
  ]
}