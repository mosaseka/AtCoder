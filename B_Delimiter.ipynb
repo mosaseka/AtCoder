{
  "nbformat": 4,
  "nbformat_minor": 0,
  "metadata": {
    "colab": {
      "provenance": [],
      "authorship_tag": "ABX9TyO8GhoCAtKT0lx/avS8mnSD",
      "include_colab_link": true
    },
    "kernelspec": {
      "name": "python3",
      "display_name": "Python 3"
    },
    "language_info": {
      "name": "python"
    }
  },
  "cells": [
    {
      "cell_type": "markdown",
      "metadata": {
        "id": "view-in-github",
        "colab_type": "text"
      },
      "source": [
        "<a href=\"https://colab.research.google.com/github/mosaseka/AtCoder/blob/main/B_Delimiter.ipynb\" target=\"_parent\"><img src=\"https://colab.research.google.com/assets/colab-badge.svg\" alt=\"Open In Colab\"/></a>"
      ]
    },
    {
      "cell_type": "code",
      "execution_count": null,
      "metadata": {
        "id": "vs37fAQNKr1V"
      },
      "outputs": [],
      "source": [
        "A = 0\n",
        "LIST = []\n",
        "\n",
        "for i in range(100):\n",
        "  A = int(input())\n",
        "  if A == 0:\n",
        "    LIST.append(A)\n",
        "    break\n",
        "  else:\n",
        "    LIST.append(A)\n",
        "\n",
        "LIST.reverse()\n",
        "\n",
        "for i in range(len(LIST)):\n",
        "  print(LIST[i])"
      ]
    }
  ]
}