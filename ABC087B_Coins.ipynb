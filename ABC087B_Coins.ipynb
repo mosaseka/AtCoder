{
  "nbformat": 4,
  "nbformat_minor": 0,
  "metadata": {
    "colab": {
      "provenance": [],
      "authorship_tag": "ABX9TyND/VBWBbY6I7j/oDIrqoq/",
      "include_colab_link": true
    },
    "kernelspec": {
      "name": "python3",
      "display_name": "Python 3"
    },
    "language_info": {
      "name": "python"
    }
  },
  "cells": [
    {
      "cell_type": "markdown",
      "metadata": {
        "id": "view-in-github",
        "colab_type": "text"
      },
      "source": [
        "<a href=\"https://colab.research.google.com/github/mosaseka/AtCoder/blob/main/ABC087B_Coins.ipynb\" target=\"_parent\"><img src=\"https://colab.research.google.com/assets/colab-badge.svg\" alt=\"Open In Colab\"/></a>"
      ]
    },
    {
      "cell_type": "code",
      "execution_count": null,
      "metadata": {
        "id": "_OstRnNMIUxa"
      },
      "outputs": [],
      "source": [
        "a = int(input())\n",
        "b = int(input())\n",
        "c = int(input())\n",
        "x = int(input())\n",
        "COUNT = 0\n",
        "\n",
        "for i in range(a+1):\n",
        "  for j in range(b+1):\n",
        "    for k in range(c+1):\n",
        "      if i * 500 + j * 100 + k * 50 == x:\n",
        "        COUNT = COUNT + 1\n",
        "      else:\n",
        "        pass\n",
        "print(COUNT)"
      ]
    }
  ]
}