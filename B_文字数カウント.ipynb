{
  "nbformat": 4,
  "nbformat_minor": 0,
  "metadata": {
    "colab": {
      "provenance": [],
      "authorship_tag": "ABX9TyODij4b/qRptAOZE0YkIEVo",
      "include_colab_link": true
    },
    "kernelspec": {
      "name": "python3",
      "display_name": "Python 3"
    },
    "language_info": {
      "name": "python"
    }
  },
  "cells": [
    {
      "cell_type": "markdown",
      "metadata": {
        "id": "view-in-github",
        "colab_type": "text"
      },
      "source": [
        "<a href=\"https://colab.research.google.com/github/mosaseka/AtCoder/blob/main/B_%E6%96%87%E5%AD%97%E6%95%B0%E3%82%AB%E3%82%A6%E3%83%B3%E3%83%88.ipynb\" target=\"_parent\"><img src=\"https://colab.research.google.com/assets/colab-badge.svg\" alt=\"Open In Colab\"/></a>"
      ]
    },
    {
      "cell_type": "code",
      "execution_count": null,
      "metadata": {
        "id": "ZbYqSMST-x7w"
      },
      "outputs": [],
      "source": [
        "from collections import deque\n",
        "\n",
        "S_DEQ = deque(map(str,input()))\n",
        "A = 0\n",
        "B = 0\n",
        "C = 0\n",
        "D = 0\n",
        "E = 0\n",
        "F = 0\n",
        "\n",
        "A = S_DEQ.count(\"A\")\n",
        "B = S_DEQ.count(\"B\")\n",
        "C = S_DEQ.count(\"C\")\n",
        "D = S_DEQ.count(\"D\")\n",
        "E = S_DEQ.count(\"E\")\n",
        "F = S_DEQ.count(\"F\")\n",
        "\n",
        "print(A,B,C,D,E,F)"
      ]
    }
  ]
}