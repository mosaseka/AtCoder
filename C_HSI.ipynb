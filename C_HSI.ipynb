{
  "nbformat": 4,
  "nbformat_minor": 0,
  "metadata": {
    "colab": {
      "provenance": [],
      "authorship_tag": "ABX9TyM0GR0Lhd1P7+vs5nUC5X5Q",
      "include_colab_link": true
    },
    "kernelspec": {
      "name": "python3",
      "display_name": "Python 3"
    },
    "language_info": {
      "name": "python"
    }
  },
  "cells": [
    {
      "cell_type": "markdown",
      "metadata": {
        "id": "view-in-github",
        "colab_type": "text"
      },
      "source": [
        "<a href=\"https://colab.research.google.com/github/mosaseka/AtCoder/blob/main/C_HSI.ipynb\" target=\"_parent\"><img src=\"https://colab.research.google.com/assets/colab-badge.svg\" alt=\"Open In Colab\"/></a>"
      ]
    },
    {
      "cell_type": "code",
      "execution_count": null,
      "metadata": {
        "colab": {
          "base_uri": "https://localhost:8080/"
        },
        "id": "ra4wigrBzK_h",
        "outputId": "7505448c-7a13-4ceb-9813-eb4ae45176ba"
      },
      "outputs": [
        {
          "output_type": "stream",
          "name": "stdout",
          "text": [
            "1 1\n",
            "4000\n"
          ]
        }
      ],
      "source": [
        "N,M = map(int,input().split())\n",
        "ANSWER = 0\n",
        "\n",
        "ANSWER = 2**M\n",
        "\n",
        "ANSWER *= (1900*M + 100*(N-M))\n",
        "\n",
        "print(ANSWER)"
      ]
    }
  ]
}