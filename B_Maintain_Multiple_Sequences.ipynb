{
  "nbformat": 4,
  "nbformat_minor": 0,
  "metadata": {
    "colab": {
      "provenance": [],
      "authorship_tag": "ABX9TyPDYDQVhUJgH4bO5wI6j3dp",
      "include_colab_link": true
    },
    "kernelspec": {
      "name": "python3",
      "display_name": "Python 3"
    },
    "language_info": {
      "name": "python"
    }
  },
  "cells": [
    {
      "cell_type": "markdown",
      "metadata": {
        "id": "view-in-github",
        "colab_type": "text"
      },
      "source": [
        "<a href=\"https://colab.research.google.com/github/mosaseka/AtCoder/blob/main/B_Maintain_Multiple_Sequences.ipynb\" target=\"_parent\"><img src=\"https://colab.research.google.com/assets/colab-badge.svg\" alt=\"Open In Colab\"/></a>"
      ]
    },
    {
      "cell_type": "code",
      "execution_count": null,
      "metadata": {
        "id": "W1g-RkWRfKic"
      },
      "outputs": [],
      "source": [
        "from collections import deque\n",
        "\n",
        "N,Q = map(int,input().split())\n",
        "A_LIST = []\n",
        "L = 0\n",
        "LIST = []\n",
        "S = 0\n",
        "T = 0\n",
        "\n",
        "for i in range(N):\n",
        "  LIST = list(map(int,input().split()))\n",
        "  L = LIST.pop(0)\n",
        "  A_LIST.append(LIST)\n",
        "\n",
        "for i in range(Q):\n",
        "  S,T = map(int,input().split())\n",
        "  print(A_LIST[S-1][T-1])"
      ]
    }
  ]
}