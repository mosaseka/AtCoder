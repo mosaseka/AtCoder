{
  "nbformat": 4,
  "nbformat_minor": 0,
  "metadata": {
    "colab": {
      "provenance": [],
      "authorship_tag": "ABX9TyMsfV4WlJQXzMtDs3Ds7LxY",
      "include_colab_link": true
    },
    "kernelspec": {
      "name": "python3",
      "display_name": "Python 3"
    },
    "language_info": {
      "name": "python"
    }
  },
  "cells": [
    {
      "cell_type": "markdown",
      "metadata": {
        "id": "view-in-github",
        "colab_type": "text"
      },
      "source": [
        "<a href=\"https://colab.research.google.com/github/mosaseka/AtCoder/blob/main/C_Rotate_and_Palindrome.ipynb\" target=\"_parent\"><img src=\"https://colab.research.google.com/assets/colab-badge.svg\" alt=\"Open In Colab\"/></a>"
      ]
    },
    {
      "cell_type": "code",
      "execution_count": null,
      "metadata": {
        "colab": {
          "base_uri": "https://localhost:8080/"
        },
        "id": "jdLuIVho9BN4",
        "outputId": "3c137fe0-1eee-42dd-cc66-235ff2341fb1"
      },
      "outputs": [
        {
          "output_type": "stream",
          "name": "stdout",
          "text": [
            "5 1 2\n",
            "rrefa\n",
            "['r', 'e', 'f', 'a', 'r']\n",
            "['e', 'f', 'a', 'r', 'r']\n",
            "['f', 'a', 'r', 'r', 'e']\n",
            "['a', 'r', 'r', 'e', 'f']\n",
            "['r', 'r', 'e', 'f', 'a']\n",
            "4\n"
          ]
        }
      ],
      "source": [
        "from collections import deque\n",
        "\n",
        "N,A,B = map(int,input().split())\n",
        "S = str(input())\n",
        "CHECK = list(map(str,S))\n",
        "REVERSE = []\n",
        "COST_LIST = deque()\n",
        "COST = 0\n",
        "COUNT = 0\n",
        "\n",
        "#print(CHECK)\n",
        "\n",
        "for i in range(N):\n",
        "  CHECK.append(CHECK.pop(0))\n",
        "  #print(CHECK)\n",
        "  REVERSE = list(reversed(CHECK))\n",
        "  print(REVERSE)\n",
        "  COST = A*i\n",
        "  for j in range(N):\n",
        "    if CHECK[j] != REVERSE[j]:\n",
        "      COUNT += 1\n",
        "      COST += B\n",
        "  COST_LIST.append(COST)\n",
        "\n",
        "print(min(COST_LIST))"
      ]
    },
    {
      "cell_type": "code",
      "source": [
        "from collections import deque\n",
        "\n",
        "N,A,B = map(int,input().split())\n",
        "S = str(input())\n",
        "S += S\n",
        "ANSWER = 0\n",
        "COST = 0\n",
        "COST_LIST = deque()\n",
        "\n",
        "for i in range(N):\n",
        "  COST = A*i\n",
        "  for j in range(N//2):\n",
        "    if S[i+j] != S[i+N-1-j]:\n",
        "      COST += B\n",
        "  COST_LIST.append(COST)\n",
        "\n",
        "print(min(COST_LIST))"
      ],
      "metadata": {
        "id": "vMK5UXNeCG6u"
      },
      "execution_count": null,
      "outputs": []
    }
  ]
}