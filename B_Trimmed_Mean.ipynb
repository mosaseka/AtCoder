{
  "nbformat": 4,
  "nbformat_minor": 0,
  "metadata": {
    "colab": {
      "provenance": [],
      "authorship_tag": "ABX9TyME/BjSB5F3HVZmau3pc5bA",
      "include_colab_link": true
    },
    "kernelspec": {
      "name": "python3",
      "display_name": "Python 3"
    },
    "language_info": {
      "name": "python"
    }
  },
  "cells": [
    {
      "cell_type": "markdown",
      "metadata": {
        "id": "view-in-github",
        "colab_type": "text"
      },
      "source": [
        "<a href=\"https://colab.research.google.com/github/mosaseka/AtCoder/blob/main/B_Trimmed_Mean.ipynb\" target=\"_parent\"><img src=\"https://colab.research.google.com/assets/colab-badge.svg\" alt=\"Open In Colab\"/></a>"
      ]
    },
    {
      "cell_type": "code",
      "execution_count": null,
      "metadata": {
        "colab": {
          "base_uri": "https://localhost:8080/"
        },
        "id": "0EsFRfglmwoJ",
        "outputId": "0ee19170-4bbc-480d-b6a6-648c814f85a1"
      },
      "outputs": [
        {
          "output_type": "stream",
          "name": "stdout",
          "text": [
            "2\n",
            "3 3 3 4 5 6 7 8 99 100\n",
            "5.5\n"
          ]
        }
      ],
      "source": [
        "N = int(input())\n",
        "X_LIST = list(map(int,input().split()))\n",
        "\n",
        "X_LIST.sort()\n",
        "\n",
        "for i in range(N):\n",
        "  X_LIST.pop(0)\n",
        "  X_LIST.pop(-1)\n",
        "\n",
        "print(sum(X_LIST) / (3*N))"
      ]
    }
  ]
}