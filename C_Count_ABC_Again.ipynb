{
  "nbformat": 4,
  "nbformat_minor": 0,
  "metadata": {
    "colab": {
      "provenance": [],
      "authorship_tag": "ABX9TyOdE3W1OQterPXGl+Q1EhxV",
      "include_colab_link": true
    },
    "kernelspec": {
      "name": "python3",
      "display_name": "Python 3"
    },
    "language_info": {
      "name": "python"
    }
  },
  "cells": [
    {
      "cell_type": "markdown",
      "metadata": {
        "id": "view-in-github",
        "colab_type": "text"
      },
      "source": [
        "<a href=\"https://colab.research.google.com/github/mosaseka/AtCoder/blob/main/C_Count_ABC_Again.ipynb\" target=\"_parent\"><img src=\"https://colab.research.google.com/assets/colab-badge.svg\" alt=\"Open In Colab\"/></a>"
      ]
    },
    {
      "cell_type": "code",
      "execution_count": null,
      "metadata": {
        "id": "5q9OJgz-YzV-"
      },
      "outputs": [],
      "source": [
        "N,Q = map(int,input().split())\n",
        "S = str(input())\n",
        "COUNT = 0\n",
        "X = 0\n",
        "C = \"\"\n",
        "QUERY = []\n",
        "\n",
        "for i in range(N - 2):\n",
        "  if S[i:i+3] == \"ABC\":\n",
        "    COUNT += 1\n",
        "\n",
        "for i in range(Q):\n",
        "  QUERY = list(map(str,input().split()))\n",
        "  X = int(QUERY[0]) - 1\n",
        "  C = QUERY[1]\n",
        "  for j in range(max(0,X-2),min(X+1,N-2)):\n",
        "    if S[j:j+3] == \"ABC\":\n",
        "      COUNT -= 1\n",
        "  S = S[:X] + C + S[X+1:]\n",
        "  for j in range(max(0,X-2),min(X+1,N-2)):\n",
        "    if S[j:j+3] == \"ABC\":\n",
        "      COUNT += 1\n",
        "  #print(S)\n",
        "  print(COUNT)"
      ]
    },
    {
      "cell_type": "code",
      "source": [
        "N, Q = map(int, input().split())\n",
        "S = list(input())\n",
        "COUNT = 0\n",
        "\n",
        "for i in range(N - 2):\n",
        "    if S[i:i + 3] == ['A', 'B', 'C']:\n",
        "        COUNT += 1\n",
        "\n",
        "for i in range(Q):\n",
        "    X, C = input().split()\n",
        "    X = int(X) - 1\n",
        "    for j in range(max(0, X - 2), min(X + 1, N - 2)):\n",
        "        if S[j:j + 3] == ['A', 'B', 'C']:\n",
        "            COUNT -= 1\n",
        "    S[X] = C\n",
        "    for j in range(max(0, X - 2), min(X + 1, N - 2)):\n",
        "        if S[j:j + 3] == ['A', 'B', 'C']:\n",
        "            COUNT += 1\n",
        "    print(COUNT)"
      ],
      "metadata": {
        "id": "Lk91bxJRnd1n"
      },
      "execution_count": null,
      "outputs": []
    }
  ]
}