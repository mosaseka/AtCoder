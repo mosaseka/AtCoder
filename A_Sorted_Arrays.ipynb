{
  "nbformat": 4,
  "nbformat_minor": 0,
  "metadata": {
    "colab": {
      "provenance": [],
      "authorship_tag": "ABX9TyOpxg+ft1GQew3h0lHF4WSr",
      "include_colab_link": true
    },
    "kernelspec": {
      "name": "python3",
      "display_name": "Python 3"
    },
    "language_info": {
      "name": "python"
    }
  },
  "cells": [
    {
      "cell_type": "markdown",
      "metadata": {
        "id": "view-in-github",
        "colab_type": "text"
      },
      "source": [
        "<a href=\"https://colab.research.google.com/github/mosaseka/AtCoder/blob/main/A_Sorted_Arrays.ipynb\" target=\"_parent\"><img src=\"https://colab.research.google.com/assets/colab-badge.svg\" alt=\"Open In Colab\"/></a>"
      ]
    },
    {
      "cell_type": "code",
      "execution_count": null,
      "metadata": {
        "id": "_DYJYsfOfskS"
      },
      "outputs": [],
      "source": [
        "N = int(input())\n",
        "A_LIST = list(map(int,input().split()))\n",
        "COUNT = 0\n",
        "LENGTH = len(A_LIST)\n",
        "DELTA = 0\n",
        "\n",
        "for i in range(N-1):\n",
        "  if A_LIST[i] <= A_LIST[i+1]:\n",
        "    DELTA += 1\n",
        "  else:\n",
        "    COUNT += 1\n",
        "    LENGTH -= DELTA\n",
        "    DELTA = 0\n",
        "\n",
        "print(COUNT)"
      ]
    },
    {
      "cell_type": "code",
      "source": [
        "N = int(input())\n",
        "A_LIST = list(map(int,input().split()))\n",
        "COUNT = 0\n",
        "\n",
        "if N == 1:\n",
        "  print(1)\n",
        "  exit()\n",
        "\n",
        "for i in range(N):\n",
        "  if i == 0:\n",
        "    pass\n",
        "  elif A_LIST[i-1] <= A_LIST[i]:\n",
        "    pass\n",
        "  else:\n",
        "    COUNT += 1\n",
        "\n",
        "if COUNT == 0:\n",
        "  print(1)\n",
        "  exit()\n",
        "elif COUNT == 1 and A_LIST[-1] >= A_LIST[-2]:\n",
        "  COUNT += 1\n",
        "\n",
        "COUNT += (N % COUNT)\n",
        "\n",
        "print(COUNT)"
      ],
      "metadata": {
        "colab": {
          "base_uri": "https://localhost:8080/"
        },
        "id": "w4-tZ9RzirPs",
        "outputId": "25736269-9b9c-4123-ab77-c4a864e77912"
      },
      "execution_count": null,
      "outputs": [
        {
          "output_type": "stream",
          "name": "stdout",
          "text": [
            "8\n",
            "30 40 50 60 55 65 75 85\n",
            "2\n"
          ]
        }
      ]
    },
    {
      "cell_type": "code",
      "source": [
        "N = int(input())\n",
        "A_LIST = list(map(int,input().split()))\n",
        "COUNT = 0\n",
        "INCREASE = True\n",
        "FIRST = True\n",
        "\n",
        "for i in range(N-1):\n",
        "  if FIRST:\n",
        "    if A_LIST[i] < A_LIST[i+1]:\n",
        "      INCREASE = True\n",
        "      FIRST = False\n",
        "    elif A_LIST[i] > A_LIST[i+1]:\n",
        "      INCREASE = False\n",
        "      FIRST = False\n",
        "    else:\n",
        "      pass\n",
        "  else:\n",
        "    if INCREASE and A_LIST[i] <= A_LIST[i+1]:\n",
        "      continue\n",
        "    elif INCREASE == False and A_LIST[i] >= A_LIST[i+1]:\n",
        "      continue\n",
        "    else:\n",
        "      COUNT += 1\n",
        "      FIRST = True\n",
        "\n",
        "if COUNT == 0:\n",
        "  print(1)\n",
        "  exit()\n",
        "elif COUNT == 1:\n",
        "  if INCREASE and A_LIST[i] <= A_LIST[i+1]:\n",
        "    COUNT += 1\n",
        "  elif INCREASE == False and A_LIST[i] >= A_LIST[i+1]:\n",
        "    COUNT += 1\n",
        "\n",
        "COUNT += (N % COUNT)\n",
        "\n",
        "print(COUNT)"
      ],
      "metadata": {
        "colab": {
          "base_uri": "https://localhost:8080/"
        },
        "id": "4CRpl8tMrdOB",
        "outputId": "79f5f6b0-6b92-4983-a9e4-df7a805698a2"
      },
      "execution_count": null,
      "outputs": [
        {
          "output_type": "stream",
          "name": "stdout",
          "text": [
            "8\n",
            "30 40 50 60 55 65 75 85\n",
            "2\n"
          ]
        }
      ]
    },
    {
      "cell_type": "code",
      "source": [
        "N = int(input())\n",
        "A_LIST = list(map(int,input().split()))\n",
        "ANSWER = 0\n",
        "FIRST = True\n",
        "INCREASE = True\n",
        "\n",
        "for i in range(N-1):\n",
        "  if FIRST:\n",
        "    if A_LIST[i] == A_LIST[i+1]:\n",
        "      continue\n",
        "    elif A_LIST[i] < A_LIST[i+1]:\n",
        "      INCREASE = True\n",
        "      FIRST = False\n",
        "    elif A_LIST[i] > A_LIST[i+1]:\n",
        "      INCREASE = False\n",
        "      FIRST = False\n",
        "  else:\n",
        "    if INCREASE and A_LIST[i] <= A_LIST[i+1]:\n",
        "      continue\n",
        "    elif INCREASE == False and A_LIST[i] >= A_LIST[i+1]:\n",
        "      continue\n",
        "    else:\n",
        "      ANSWER += 1\n",
        "      FIRST = True\n",
        "\n",
        "print(ANSWER+1)"
      ],
      "metadata": {
        "id": "CqhPNDWNckMC"
      },
      "execution_count": null,
      "outputs": []
    }
  ]
}