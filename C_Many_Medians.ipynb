{
  "nbformat": 4,
  "nbformat_minor": 0,
  "metadata": {
    "colab": {
      "provenance": [],
      "authorship_tag": "ABX9TyPdojNYeMj3DEieDDX2VVPw",
      "include_colab_link": true
    },
    "kernelspec": {
      "name": "python3",
      "display_name": "Python 3"
    },
    "language_info": {
      "name": "python"
    }
  },
  "cells": [
    {
      "cell_type": "markdown",
      "metadata": {
        "id": "view-in-github",
        "colab_type": "text"
      },
      "source": [
        "<a href=\"https://colab.research.google.com/github/mosaseka/AtCoder/blob/main/C_Many_Medians.ipynb\" target=\"_parent\"><img src=\"https://colab.research.google.com/assets/colab-badge.svg\" alt=\"Open In Colab\"/></a>"
      ]
    },
    {
      "cell_type": "code",
      "execution_count": null,
      "metadata": {
        "colab": {
          "base_uri": "https://localhost:8080/"
        },
        "id": "XxB3BVHppsJk",
        "outputId": "ce0da351-9fa1-4515-d846-9a546801c92f"
      },
      "outputs": [
        {
          "output_type": "stream",
          "name": "stdout",
          "text": [
            "2\n",
            "1 2\n",
            "2\n",
            "1\n"
          ]
        }
      ],
      "source": [
        "from collections import deque\n",
        "import statistics\n",
        "\n",
        "N = int(input())\n",
        "X_LIST = list(map(int,input().split()))\n",
        "CHECK_DEQUE = deque()\n",
        "NUM = 0\n",
        "#print(X_DEQUE)\n",
        "\n",
        "CHECK_DEQUE = deque(X_LIST)\n",
        "\n",
        "for i in range(N):\n",
        "  NUM = CHECK_DEQUE.popleft()\n",
        "  print(statistics.median(list(CHECK_DEQUE)))\n",
        "  CHECK_DEQUE.append(NUM)"
      ]
    },
    {
      "cell_type": "code",
      "source": [
        "N = int(input())\n",
        "X_LIST = list(map(int,input().split()))\n",
        "ANSWER_LIST = []\n",
        "INDEX_LIST = [[i,x] for i,x in enumerate(X_LIST)]\n",
        "\n",
        "X_LIST.sort()\n",
        "INDEX_LIST = sorted(INDEX_LIST,key=lambda x: x[1])\n",
        "\n",
        "for i in range(N):\n",
        "  if i < N//2:\n",
        "    INDEX_LIST[i].append(X_LIST[N//2])\n",
        "  else:\n",
        "    INDEX_LIST[i].append(X_LIST[N//2-1])\n",
        "\n",
        "ANSWER_LIST = sorted(INDEX_LIST)\n",
        "\n",
        "for i in range(N):\n",
        "  print(ANSWER_LIST[i][2])"
      ],
      "metadata": {
        "colab": {
          "base_uri": "https://localhost:8080/"
        },
        "id": "Zmm4px0H82Ag",
        "outputId": "1ec5238f-0053-41c6-f9ab-2ac6e72c5401"
      },
      "execution_count": null,
      "outputs": [
        {
          "output_type": "stream",
          "name": "stdout",
          "text": [
            "4\n",
            "2 4 4 3\n",
            "4\n",
            "3\n",
            "3\n",
            "4\n"
          ]
        }
      ]
    }
  ]
}