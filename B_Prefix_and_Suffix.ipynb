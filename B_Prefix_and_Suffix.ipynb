{
  "nbformat": 4,
  "nbformat_minor": 0,
  "metadata": {
    "colab": {
      "provenance": [],
      "authorship_tag": "ABX9TyMhzVaEiQGmCdy6LonyoNzE",
      "include_colab_link": true
    },
    "kernelspec": {
      "name": "python3",
      "display_name": "Python 3"
    },
    "language_info": {
      "name": "python"
    }
  },
  "cells": [
    {
      "cell_type": "markdown",
      "metadata": {
        "id": "view-in-github",
        "colab_type": "text"
      },
      "source": [
        "<a href=\"https://colab.research.google.com/github/mosaseka/AtCoder/blob/main/B_Prefix_and_Suffix.ipynb\" target=\"_parent\"><img src=\"https://colab.research.google.com/assets/colab-badge.svg\" alt=\"Open In Colab\"/></a>"
      ]
    },
    {
      "cell_type": "code",
      "execution_count": null,
      "metadata": {
        "id": "HVBQkhn4ic1j"
      },
      "outputs": [],
      "source": [
        "N,M = map(int,input().split())\n",
        "S = str(input())\n",
        "T = str(input())\n",
        "ALPHA = False\n",
        "BETA = False\n",
        "\n",
        "if T[:N] == S:\n",
        "  ALPHA = True\n",
        "\n",
        "if T[-N:] == S:\n",
        "  BETA = True\n",
        "\n",
        "if ALPHA and BETA:\n",
        "  print(0)\n",
        "elif ALPHA and not BETA:\n",
        "  print(1)\n",
        "elif not ALPHA and BETA:\n",
        "  print(2)\n",
        "elif not ALPHA and not BETA:\n",
        "  print(3)"
      ]
    }
  ]
}