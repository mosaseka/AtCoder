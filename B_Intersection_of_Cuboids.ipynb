{
  "nbformat": 4,
  "nbformat_minor": 0,
  "metadata": {
    "colab": {
      "provenance": [],
      "authorship_tag": "ABX9TyNnz5i9puU8nIrBMBHBczjX",
      "include_colab_link": true
    },
    "kernelspec": {
      "name": "python3",
      "display_name": "Python 3"
    },
    "language_info": {
      "name": "python"
    }
  },
  "cells": [
    {
      "cell_type": "markdown",
      "metadata": {
        "id": "view-in-github",
        "colab_type": "text"
      },
      "source": [
        "<a href=\"https://colab.research.google.com/github/mosaseka/AtCoder/blob/main/B_Intersection_of_Cuboids.ipynb\" target=\"_parent\"><img src=\"https://colab.research.google.com/assets/colab-badge.svg\" alt=\"Open In Colab\"/></a>"
      ]
    },
    {
      "cell_type": "code",
      "execution_count": null,
      "metadata": {
        "id": "WDuCoqs7eID4"
      },
      "outputs": [],
      "source": [
        "def CHECK(L1,R1,L2,R2):\n",
        "  return not (R1 <= L2 or R2 <= L1)\n",
        "\n",
        "X1,Y1,Z1,X2,Y2,Z2 = map(int,input().split())\n",
        "X3,Y3,Z3,X4,Y4,Z4 = map(int,input().split())\n",
        "\n",
        "if CHECK(X1,X2,X3,X4) and CHECK(Y1,Y2,Y3,Y4) and CHECK(Z1,Z2,Z3,Z4):\n",
        "  print(\"Yes\")\n",
        "else:\n",
        "  print(\"No\")"
      ]
    }
  ]
}