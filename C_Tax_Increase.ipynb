{
  "nbformat": 4,
  "nbformat_minor": 0,
  "metadata": {
    "colab": {
      "provenance": [],
      "authorship_tag": "ABX9TyMeYoVnviECVvObyuGYnlIh",
      "include_colab_link": true
    },
    "kernelspec": {
      "name": "python3",
      "display_name": "Python 3"
    },
    "language_info": {
      "name": "python"
    }
  },
  "cells": [
    {
      "cell_type": "markdown",
      "metadata": {
        "id": "view-in-github",
        "colab_type": "text"
      },
      "source": [
        "<a href=\"https://colab.research.google.com/github/mosaseka/AtCoder/blob/main/C_Tax_Increase.ipynb\" target=\"_parent\"><img src=\"https://colab.research.google.com/assets/colab-badge.svg\" alt=\"Open In Colab\"/></a>"
      ]
    },
    {
      "cell_type": "code",
      "execution_count": null,
      "metadata": {
        "colab": {
          "base_uri": "https://localhost:8080/"
        },
        "id": "fy7YbXD_Y6E3",
        "outputId": "209cf406-1c90-4858-f3d5-15e354965fd4"
      },
      "outputs": [
        {
          "output_type": "stream",
          "name": "stdout",
          "text": [
            "19 99\n",
            "-1\n"
          ]
        }
      ],
      "source": [
        "import math\n",
        "\n",
        "A,B = map(int,input().split())\n",
        "ANSWER = 0\n",
        "\n",
        "while True:\n",
        "  if math.floor(ANSWER * 0.08) == A and math.floor(ANSWER * 0.1) == B:\n",
        "    break\n",
        "  elif ANSWER > 1000:\n",
        "    ANSWER = -1\n",
        "    break\n",
        "  else:\n",
        "    ANSWER += 1\n",
        "\n",
        "print(ANSWER)"
      ]
    }
  ]
}