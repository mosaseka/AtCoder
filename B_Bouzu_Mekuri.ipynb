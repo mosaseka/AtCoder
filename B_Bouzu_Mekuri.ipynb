{
  "nbformat": 4,
  "nbformat_minor": 0,
  "metadata": {
    "colab": {
      "provenance": [],
      "authorship_tag": "ABX9TyNb9c8N/QvTplkVnGrM08kb",
      "include_colab_link": true
    },
    "kernelspec": {
      "name": "python3",
      "display_name": "Python 3"
    },
    "language_info": {
      "name": "python"
    }
  },
  "cells": [
    {
      "cell_type": "markdown",
      "metadata": {
        "id": "view-in-github",
        "colab_type": "text"
      },
      "source": [
        "<a href=\"https://colab.research.google.com/github/mosaseka/AtCoder/blob/main/B_Bouzu_Mekuri.ipynb\" target=\"_parent\"><img src=\"https://colab.research.google.com/assets/colab-badge.svg\" alt=\"Open In Colab\"/></a>"
      ]
    },
    {
      "cell_type": "code",
      "execution_count": null,
      "metadata": {
        "id": "CPgocbOOLP53"
      },
      "outputs": [],
      "source": [
        "N = int(input())\n",
        "S = list(map(int,input()))\n",
        "INDEX = S.index(1) + 1\n",
        "\n",
        "if INDEX%2 == 0:\n",
        "  print(\"Aoki\")\n",
        "else:\n",
        "  print(\"Takahashi\")"
      ]
    }
  ]
}