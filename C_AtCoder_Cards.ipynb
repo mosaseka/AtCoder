{
  "nbformat": 4,
  "nbformat_minor": 0,
  "metadata": {
    "colab": {
      "provenance": [],
      "authorship_tag": "ABX9TyNJdd1gI3AvUMj6OVk4DBMO",
      "include_colab_link": true
    },
    "kernelspec": {
      "name": "python3",
      "display_name": "Python 3"
    },
    "language_info": {
      "name": "python"
    }
  },
  "cells": [
    {
      "cell_type": "markdown",
      "metadata": {
        "id": "view-in-github",
        "colab_type": "text"
      },
      "source": [
        "<a href=\"https://colab.research.google.com/github/mosaseka/AtCoder/blob/main/C_AtCoder_Cards.ipynb\" target=\"_parent\"><img src=\"https://colab.research.google.com/assets/colab-badge.svg\" alt=\"Open In Colab\"/></a>"
      ]
    },
    {
      "cell_type": "code",
      "execution_count": null,
      "metadata": {
        "colab": {
          "base_uri": "https://localhost:8080/",
          "height": 305
        },
        "id": "sZiGMYQhJn3x",
        "outputId": "14254f83-f6c2-4476-d321-8bc6b2aec602"
      },
      "outputs": [
        {
          "output_type": "stream",
          "name": "stdout",
          "text": [
            "a\n",
            "s\n",
            "No\n",
            "No\n"
          ]
        },
        {
          "output_type": "error",
          "ename": "IndexError",
          "evalue": "ignored",
          "traceback": [
            "\u001b[0;31m---------------------------------------------------------------------------\u001b[0m",
            "\u001b[0;31mIndexError\u001b[0m                                Traceback (most recent call last)",
            "\u001b[0;32m<ipython-input-4-473e8dc4981d>\u001b[0m in \u001b[0;36m<cell line: 23>\u001b[0;34m()\u001b[0m\n\u001b[1;32m     25\u001b[0m     \u001b[0;32mpass\u001b[0m\u001b[0;34m\u001b[0m\u001b[0;34m\u001b[0m\u001b[0m\n\u001b[1;32m     26\u001b[0m   \u001b[0;32melse\u001b[0m\u001b[0;34m:\u001b[0m\u001b[0;34m\u001b[0m\u001b[0;34m\u001b[0m\u001b[0m\n\u001b[0;32m---> 27\u001b[0;31m     \u001b[0;32mif\u001b[0m \u001b[0mS_COUNT\u001b[0m\u001b[0;34m[\u001b[0m\u001b[0mi\u001b[0m\u001b[0;34m]\u001b[0m\u001b[0;34m[\u001b[0m\u001b[0;36m1\u001b[0m\u001b[0;34m]\u001b[0m \u001b[0;34m!=\u001b[0m \u001b[0mT_COUNT\u001b[0m\u001b[0;34m[\u001b[0m\u001b[0mi\u001b[0m\u001b[0;34m]\u001b[0m\u001b[0;34m[\u001b[0m\u001b[0;36m1\u001b[0m\u001b[0;34m]\u001b[0m\u001b[0;34m:\u001b[0m\u001b[0;34m\u001b[0m\u001b[0;34m\u001b[0m\u001b[0m\n\u001b[0m\u001b[1;32m     28\u001b[0m       \u001b[0;32mif\u001b[0m \u001b[0mS_COUNT\u001b[0m\u001b[0;34m[\u001b[0m\u001b[0mi\u001b[0m\u001b[0;34m]\u001b[0m\u001b[0;34m[\u001b[0m\u001b[0;36m0\u001b[0m\u001b[0;34m]\u001b[0m \u001b[0;32mnot\u001b[0m \u001b[0;32min\u001b[0m \u001b[0mATCODER_SET\u001b[0m\u001b[0;34m:\u001b[0m\u001b[0;34m\u001b[0m\u001b[0;34m\u001b[0m\u001b[0m\n\u001b[1;32m     29\u001b[0m         \u001b[0mprint\u001b[0m\u001b[0;34m(\u001b[0m\u001b[0;34m\"No\"\u001b[0m\u001b[0;34m)\u001b[0m\u001b[0;34m\u001b[0m\u001b[0;34m\u001b[0m\u001b[0m\n",
            "\u001b[0;31mIndexError\u001b[0m: list index out of range"
          ]
        }
      ],
      "source": [
        "import collections\n",
        "import string\n",
        "\n",
        "S_LIST = list(str(input()))\n",
        "T_LIST = list(str(input()))\n",
        "ALPHA_LIST = list(string.ascii_lowercase)\n",
        "AT = S_LIST.count(\"@\") + T_LIST.count(\"@\")\n",
        "S_LIST += ALPHA_LIST + [\"@\"]\n",
        "T_LIST += ALPHA_LIST + [\"@\"]\n",
        "S_COUNT = list((collections.Counter(S_LIST)).items())\n",
        "T_COUNT = list((collections.Counter(T_LIST)).items())\n",
        "\n",
        "S_COUNT.sort()\n",
        "T_COUNT.sort()\n",
        "ATCODER_SET = set([\"a\",\"t\",\"c\",\"o\",\"d\",\"e\",\"r\"])\n",
        "\n",
        "#print(S_COUNT)\n",
        "#print(T_COUNT)\n",
        "\n",
        "if S_LIST != T_LIST and (\"@\" not in set(S_LIST) or \"@\" not in set(T_LIST)):\n",
        "  print(\"No\")\n",
        "  exit()\n",
        "\n",
        "for i in range(27):\n",
        "  if i == 0:\n",
        "    pass\n",
        "  else:\n",
        "    if S_COUNT[i][1] != T_COUNT[i][1]:\n",
        "      if S_COUNT[i][0] not in ATCODER_SET:\n",
        "        print(\"No\")\n",
        "        exit()\n",
        "      else:\n",
        "        AT -= (abs(S_COUNT[i][1]-T_COUNT[i][1]))\n",
        "        if AT < 0:\n",
        "          print(\"No\")\n",
        "          exit()\n",
        "\n",
        "print(\"Yes\")"
      ]
    }
  ]
}