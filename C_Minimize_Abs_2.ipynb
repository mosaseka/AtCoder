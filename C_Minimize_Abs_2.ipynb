{
  "nbformat": 4,
  "nbformat_minor": 0,
  "metadata": {
    "colab": {
      "provenance": [],
      "authorship_tag": "ABX9TyNC/t4TncntUWjt3Z9p03cM",
      "include_colab_link": true
    },
    "kernelspec": {
      "name": "python3",
      "display_name": "Python 3"
    },
    "language_info": {
      "name": "python"
    }
  },
  "cells": [
    {
      "cell_type": "markdown",
      "metadata": {
        "id": "view-in-github",
        "colab_type": "text"
      },
      "source": [
        "<a href=\"https://colab.research.google.com/github/mosaseka/AtCoder/blob/main/C_Minimize_Abs_2.ipynb\" target=\"_parent\"><img src=\"https://colab.research.google.com/assets/colab-badge.svg\" alt=\"Open In Colab\"/></a>"
      ]
    },
    {
      "cell_type": "code",
      "source": [
        "import math\n",
        "\n",
        "D = int(input())\n",
        "MIN = 999999999999999999999999999\n",
        "\n",
        "for X in range(math.ceil(math.sqrt(D))):\n",
        "  Y = round(math.sqrt(D - X**2))\n",
        "  #print(X,Y)\n",
        "  MIN = min(MIN,abs(X**2 + Y**2 - D))\n",
        "\n",
        "print(MIN)"
      ],
      "metadata": {
        "colab": {
          "base_uri": "https://localhost:8080/"
        },
        "id": "ouaHMCXRc5AN",
        "outputId": "f20eef4e-5ca5-4889-ee3e-0a6a1927f8bc"
      },
      "execution_count": 26,
      "outputs": [
        {
          "output_type": "stream",
          "name": "stdout",
          "text": [
            "21\n",
            "1\n"
          ]
        }
      ]
    }
  ]
}