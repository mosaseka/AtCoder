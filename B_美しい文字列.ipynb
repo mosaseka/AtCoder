{
  "nbformat": 4,
  "nbformat_minor": 0,
  "metadata": {
    "colab": {
      "provenance": [],
      "authorship_tag": "ABX9TyO91cmtHuq69GSNMtnH+bW5",
      "include_colab_link": true
    },
    "kernelspec": {
      "name": "python3",
      "display_name": "Python 3"
    },
    "language_info": {
      "name": "python"
    }
  },
  "cells": [
    {
      "cell_type": "markdown",
      "metadata": {
        "id": "view-in-github",
        "colab_type": "text"
      },
      "source": [
        "<a href=\"https://colab.research.google.com/github/mosaseka/AtCoder/blob/main/B_%E7%BE%8E%E3%81%97%E3%81%84%E6%96%87%E5%AD%97%E5%88%97.ipynb\" target=\"_parent\"><img src=\"https://colab.research.google.com/assets/colab-badge.svg\" alt=\"Open In Colab\"/></a>"
      ]
    },
    {
      "cell_type": "code",
      "execution_count": null,
      "metadata": {
        "colab": {
          "base_uri": "https://localhost:8080/"
        },
        "id": "Qnp58uWQFHtR",
        "outputId": "cf127c6f-4902-4926-c91f-e5244954b4c9"
      },
      "outputs": [
        {
          "output_type": "stream",
          "name": "stdout",
          "text": [
            "hthth\n",
            "[0, 0, 0, 0, 0, 0, 0, 3, 0, 0, 0, 0, 0, 0, 0, 0, 0, 0, 0, 2, 0, 0, 0, 0, 0, 0]\n",
            "No\n"
          ]
        }
      ],
      "source": [
        "W = list(map(str,input()))\n",
        "COUNT_LIST = []\n",
        "INDEX = 0\n",
        "W_LEN = len(W)\n",
        "FLAG = True\n",
        "\n",
        "for i in range(26):\n",
        "  COUNT_LIST.append(0)\n",
        "\n",
        "for i in range(W_LEN):\n",
        "  INDEX = ord(W[i]) - 97\n",
        "  COUNT_LIST[INDEX] += 1\n",
        "\n",
        "#print(COUNT_LIST)\n",
        "\n",
        "for i in range(26):\n",
        "  if COUNT_LIST[i] % 2 == 0:\n",
        "    pass\n",
        "  else:\n",
        "    FLAG = False\n",
        "    break\n",
        "\n",
        "if FLAG:\n",
        "  print(\"Yes\")\n",
        "else:\n",
        "  print(\"No\")"
      ]
    }
  ]
}