{
  "nbformat": 4,
  "nbformat_minor": 0,
  "metadata": {
    "colab": {
      "provenance": [],
      "authorship_tag": "ABX9TyOXXc9MMlV+dzPKTes9dXHP",
      "include_colab_link": true
    },
    "kernelspec": {
      "name": "python3",
      "display_name": "Python 3"
    },
    "language_info": {
      "name": "python"
    }
  },
  "cells": [
    {
      "cell_type": "markdown",
      "metadata": {
        "id": "view-in-github",
        "colab_type": "text"
      },
      "source": [
        "<a href=\"https://colab.research.google.com/github/mosaseka/AtCoder/blob/main/B_Trick_Taking.ipynb\" target=\"_parent\"><img src=\"https://colab.research.google.com/assets/colab-badge.svg\" alt=\"Open In Colab\"/></a>"
      ]
    },
    {
      "cell_type": "code",
      "execution_count": null,
      "metadata": {
        "id": "4FGipcPO4USi"
      },
      "outputs": [],
      "source": [
        "N,T = map(int,input().split())\n",
        "C_LIST = list(map(int,input().split()))\n",
        "R_LIST = list(map(int,input().split()))\n",
        "C_MAX = max(C_LIST)\n",
        "WINNER = 1\n",
        "\n",
        "for i in range(N):\n",
        "  if  C_LIST[i] == T and C_LIST[i] == C_MAX and WINNER < R_LIST[i]:\n",
        "    WINNER = (i+1)\n",
        "\n",
        "print(WINNER)"
      ]
    },
    {
      "cell_type": "code",
      "source": [
        "N,T = map(int,input().split())\n",
        "C_LIST = list(map(int,input().split()))\n",
        "R_LIST = list(map(int,input().split()))\n",
        "WINNER = 0\n",
        "MAX_CARD = 0\n",
        "TARGET_CARD = 0\n",
        "\n",
        "if T in C_LIST:\n",
        "  for i in range(N):\n",
        "    if C_LIST[i] == T and MAX_CARD < R_LIST[i]:\n",
        "      MAX_CARD = R_LIST[i]\n",
        "      WINNER = (i+1)\n",
        "else:\n",
        "  TARGET_CARD = C_LIST[0]\n",
        "  MAX_CARD = R_LIST[0]\n",
        "  WINNER = 1\n",
        "  for i in range(N):\n",
        "    if i == 0:\n",
        "      continue\n",
        "    elif C_LIST[i] == TARGET_CARD and MAX_CARD < R_LIST[i]:\n",
        "      MAX_CARD = R_LIST[i]\n",
        "      WINNER = (i+1)\n",
        "\n",
        "print(WINNER)"
      ],
      "metadata": {
        "id": "v9UyGCuC6rYG"
      },
      "execution_count": null,
      "outputs": []
    }
  ]
}