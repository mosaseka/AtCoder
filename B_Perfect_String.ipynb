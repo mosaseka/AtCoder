{
  "nbformat": 4,
  "nbformat_minor": 0,
  "metadata": {
    "colab": {
      "provenance": [],
      "authorship_tag": "ABX9TyMfJAV/56yx3NTbeaLabbvo",
      "include_colab_link": true
    },
    "kernelspec": {
      "name": "python3",
      "display_name": "Python 3"
    },
    "language_info": {
      "name": "python"
    }
  },
  "cells": [
    {
      "cell_type": "markdown",
      "metadata": {
        "id": "view-in-github",
        "colab_type": "text"
      },
      "source": [
        "<a href=\"https://colab.research.google.com/github/mosaseka/AtCoder/blob/main/B_Perfect_String.ipynb\" target=\"_parent\"><img src=\"https://colab.research.google.com/assets/colab-badge.svg\" alt=\"Open In Colab\"/></a>"
      ]
    },
    {
      "cell_type": "code",
      "execution_count": null,
      "metadata": {
        "id": "as1nXaaVxW3u"
      },
      "outputs": [],
      "source": [
        "import string\n",
        "\n",
        "S = str(input())\n",
        "S_SET = set(map(str,S))\n",
        "UPPER_SET = set(string.ascii_uppercase)\n",
        "LOWER_SET = set(string.ascii_lowercase)\n",
        "UPPER = False\n",
        "LOWER = False\n",
        "DIFF = False\n",
        "\n",
        "if len(S) == len(S_SET):\n",
        "  DIFF = True\n",
        "\n",
        "for i in range(len(S)):\n",
        "  if S[i] in UPPER_SET:\n",
        "    UPPER = True\n",
        "  elif S[i] in LOWER_SET:\n",
        "    LOWER = True\n",
        "\n",
        "if UPPER and LOWER and DIFF:\n",
        "  print(\"Yes\")\n",
        "else:\n",
        "  print(\"No\")"
      ]
    }
  ]
}