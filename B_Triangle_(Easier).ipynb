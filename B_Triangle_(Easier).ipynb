{
  "nbformat": 4,
  "nbformat_minor": 0,
  "metadata": {
    "colab": {
      "provenance": [],
      "authorship_tag": "ABX9TyNLRAs0v6wiDYU7i55sSt4K",
      "include_colab_link": true
    },
    "kernelspec": {
      "name": "python3",
      "display_name": "Python 3"
    },
    "language_info": {
      "name": "python"
    }
  },
  "cells": [
    {
      "cell_type": "markdown",
      "metadata": {
        "id": "view-in-github",
        "colab_type": "text"
      },
      "source": [
        "<a href=\"https://colab.research.google.com/github/mosaseka/AtCoder/blob/main/B_Triangle_(Easier).ipynb\" target=\"_parent\"><img src=\"https://colab.research.google.com/assets/colab-badge.svg\" alt=\"Open In Colab\"/></a>"
      ]
    },
    {
      "cell_type": "code",
      "execution_count": null,
      "metadata": {
        "id": "bh_-sBc_fc5Z"
      },
      "outputs": [],
      "source": [
        "N,M = map(int,input().split())\n",
        "COUNT = 0\n",
        "UV_LIST = [tuple(map(int,input().split())) for i in range(M)]\n",
        "\n",
        "for i in range(N):\n",
        "  for j in range(N):\n",
        "    for k in range(N):\n",
        "      if (i+1,j+1) in UV_LIST or (j+1,k+1) in UV_LIST (k+1,i+1) in UV_LIST:\n",
        "        COUNT += 1\n",
        "      elif (j+1,i+1) in UV_LIST or (k+1,j+1) in UV_LIST (i+1,k+1) in UV_LIST:\n",
        "        COUNT += 1\n",
        "\n",
        "print(COUNT)"
      ]
    },
    {
      "cell_type": "code",
      "source": [
        "N,M = map(int,input().split())\n",
        "ANSWER = 0\n",
        "CHECK = [[False for i in range(N)] for j in range(N)]\n",
        "U = 0\n",
        "V = 0\n",
        "\n",
        "for i in range(M):\n",
        "  U,V = map(int,input().split())\n",
        "  CHECK[U-1][V-1] = True\n",
        "  CHECK[V-1][U-1] = True\n",
        "\n",
        "for i in range(N):\n",
        "  for j in range(N):\n",
        "    for k in range(N):\n",
        "      if CHECK[i][j] and CHECK[j][k] and CHECK[k][i]:\n",
        "        ANSWER += 1\n",
        "\n",
        "print(ANSWER//6)"
      ],
      "metadata": {
        "id": "dcMaEisUir4P"
      },
      "execution_count": null,
      "outputs": []
    }
  ]
}