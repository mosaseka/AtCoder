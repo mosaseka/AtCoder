{
  "nbformat": 4,
  "nbformat_minor": 0,
  "metadata": {
    "colab": {
      "provenance": [],
      "authorship_tag": "ABX9TyM/RoyOKb02+XQ5EvZTboXE",
      "include_colab_link": true
    },
    "kernelspec": {
      "name": "python3",
      "display_name": "Python 3"
    },
    "language_info": {
      "name": "python"
    }
  },
  "cells": [
    {
      "cell_type": "markdown",
      "metadata": {
        "id": "view-in-github",
        "colab_type": "text"
      },
      "source": [
        "<a href=\"https://colab.research.google.com/github/mosaseka/AtCoder/blob/main/B_%E3%83%90%E3%82%A4%E3%83%8A%E3%83%AA%E3%83%8F%E3%83%83%E3%82%AF%E3%82%A4%E3%83%BC%E3%82%B8%E3%83%BC.ipynb\" target=\"_parent\"><img src=\"https://colab.research.google.com/assets/colab-badge.svg\" alt=\"Open In Colab\"/></a>"
      ]
    },
    {
      "cell_type": "code",
      "execution_count": null,
      "metadata": {
        "colab": {
          "base_uri": "https://localhost:8080/"
        },
        "id": "_QxREfqNUT0l",
        "outputId": "7af419c0-1561-4b45-9437-df135c3a7d0f"
      },
      "outputs": [
        {
          "output_type": "stream",
          "name": "stdout",
          "text": [
            "0BB1\n",
            "1\n"
          ]
        }
      ],
      "source": [
        "S = str(input())\n",
        "ANSWER = \"\"\n",
        "\n",
        "for i in range(len(S)):\n",
        "  if S[i] == \"0\":\n",
        "    ANSWER += \"0\"\n",
        "  elif S[i] == \"1\":\n",
        "    ANSWER += \"1\"\n",
        "  elif S[i] == \"B\":\n",
        "    ANSWER = ANSWER[:-1]\n",
        "\n",
        "print(ANSWER)"
      ]
    }
  ]
}