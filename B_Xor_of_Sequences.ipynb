{
  "nbformat": 4,
  "nbformat_minor": 0,
  "metadata": {
    "colab": {
      "provenance": [],
      "authorship_tag": "ABX9TyMqsP5S7SE5AdlzW5+4fhnq",
      "include_colab_link": true
    },
    "kernelspec": {
      "name": "python3",
      "display_name": "Python 3"
    },
    "language_info": {
      "name": "python"
    }
  },
  "cells": [
    {
      "cell_type": "markdown",
      "metadata": {
        "id": "view-in-github",
        "colab_type": "text"
      },
      "source": [
        "<a href=\"https://colab.research.google.com/github/mosaseka/AtCoder/blob/main/B_Xor_of_Sequences.ipynb\" target=\"_parent\"><img src=\"https://colab.research.google.com/assets/colab-badge.svg\" alt=\"Open In Colab\"/></a>"
      ]
    },
    {
      "cell_type": "code",
      "execution_count": null,
      "metadata": {
        "id": "Imt2TNB54GdP"
      },
      "outputs": [],
      "source": [
        "N,M = map(int,input().split())\n",
        "A_LIST = list(map(int,input().split()))\n",
        "B_LIST = list(map(int,input().split()))\n",
        "CHECK = set(A_LIST)\n",
        "\n",
        "for i in range(M):\n",
        "  if B_LIST[i] in CHECK:\n",
        "    CHECK.remove(B_LIST[i])\n",
        "  else:\n",
        "    CHECK.add(B_LIST[i])\n",
        "\n",
        "CHECK = list(CHECK)\n",
        "\n",
        "print(*CHECK)"
      ]
    }
  ]
}