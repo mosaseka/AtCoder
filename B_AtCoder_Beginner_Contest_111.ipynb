{
  "nbformat": 4,
  "nbformat_minor": 0,
  "metadata": {
    "colab": {
      "provenance": [],
      "authorship_tag": "ABX9TyOuCsm/eiH17KtHPucUhAlh",
      "include_colab_link": true
    },
    "kernelspec": {
      "name": "python3",
      "display_name": "Python 3"
    },
    "language_info": {
      "name": "python"
    }
  },
  "cells": [
    {
      "cell_type": "markdown",
      "metadata": {
        "id": "view-in-github",
        "colab_type": "text"
      },
      "source": [
        "<a href=\"https://colab.research.google.com/github/mosaseka/AtCoder/blob/main/B_AtCoder_Beginner_Contest_111.ipynb\" target=\"_parent\"><img src=\"https://colab.research.google.com/assets/colab-badge.svg\" alt=\"Open In Colab\"/></a>"
      ]
    },
    {
      "cell_type": "code",
      "execution_count": null,
      "metadata": {
        "id": "K5pi03MsnTIP"
      },
      "outputs": [],
      "source": [
        "import bisect\n",
        "\n",
        "N = int(input())\n",
        "LIST = [111,222,333,444,555,666,777,888,999]\n",
        "\n",
        "if N in LIST:\n",
        "  print(LIST[LIST.index(N)])\n",
        "else:\n",
        "  print(LIST[bisect.bisect(LIST,N)])"
      ]
    }
  ]
}