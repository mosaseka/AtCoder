{
  "nbformat": 4,
  "nbformat_minor": 0,
  "metadata": {
    "colab": {
      "provenance": [],
      "authorship_tag": "ABX9TyOprC2/qVbQXZKpjuTZShqr",
      "include_colab_link": true
    },
    "kernelspec": {
      "name": "python3",
      "display_name": "Python 3"
    },
    "language_info": {
      "name": "python"
    }
  },
  "cells": [
    {
      "cell_type": "markdown",
      "metadata": {
        "id": "view-in-github",
        "colab_type": "text"
      },
      "source": [
        "<a href=\"https://colab.research.google.com/github/mosaseka/AtCoder/blob/main/C_343.ipynb\" target=\"_parent\"><img src=\"https://colab.research.google.com/assets/colab-badge.svg\" alt=\"Open In Colab\"/></a>"
      ]
    },
    {
      "cell_type": "code",
      "execution_count": null,
      "metadata": {
        "id": "jrgdRSLG1UK5"
      },
      "outputs": [],
      "source": [
        "N = int(input())\n",
        "CUBIC_LIST = []\n",
        "COUNT = 1\n",
        "\n",
        "while COUNT**3 <= N:\n",
        "  CUBIC_LIST.append(COUNT**3)\n",
        "  COUNT += 1\n",
        "\n",
        "CUBIC_LIST.sort(reverse=True)\n",
        "\n",
        "for i in range(len(CUBIC_LIST)):\n",
        "  if str(CUBIC_LIST[i]) == str(CUBIC_LIST[i])[::-1]:\n",
        "    print(CUBIC_LIST[i])\n",
        "    break"
      ]
    }
  ]
}