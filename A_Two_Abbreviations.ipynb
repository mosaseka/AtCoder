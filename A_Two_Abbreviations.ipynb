{
  "nbformat": 4,
  "nbformat_minor": 0,
  "metadata": {
    "colab": {
      "provenance": [],
      "authorship_tag": "ABX9TyMPVicSbTExbBZtewlNauIy",
      "include_colab_link": true
    },
    "kernelspec": {
      "name": "python3",
      "display_name": "Python 3"
    },
    "language_info": {
      "name": "python"
    }
  },
  "cells": [
    {
      "cell_type": "markdown",
      "metadata": {
        "id": "view-in-github",
        "colab_type": "text"
      },
      "source": [
        "<a href=\"https://colab.research.google.com/github/mosaseka/AtCoder/blob/main/A_Two_Abbreviations.ipynb\" target=\"_parent\"><img src=\"https://colab.research.google.com/assets/colab-badge.svg\" alt=\"Open In Colab\"/></a>"
      ]
    },
    {
      "cell_type": "code",
      "execution_count": null,
      "metadata": {
        "id": "JxK-SH_HPiHd"
      },
      "outputs": [],
      "source": [
        "import math\n",
        "\n",
        "def my_lcm(x, y):\n",
        "    return (x * y) // math.gcd(x, y)\n",
        "\n",
        "N,M = map(int,input().split())\n",
        "S = str(input())\n",
        "T = str(input())\n",
        "LCM = my_lcm(N,M)\n",
        "NUM = (LCM//N) * (LCM//M)\n",
        "\n",
        "for i in range(LCM//NUM):\n",
        "  if S[i*(LCM//M)] != T[i*(LCM//N)]:\n",
        "    print(-1)\n",
        "    exit()\n",
        "\n",
        "print(LCM)"
      ]
    }
  ]
}