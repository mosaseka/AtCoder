{
  "nbformat": 4,
  "nbformat_minor": 0,
  "metadata": {
    "colab": {
      "provenance": [],
      "authorship_tag": "ABX9TyOTvhYD/zDPAzPW06MzN1YO",
      "include_colab_link": true
    },
    "kernelspec": {
      "name": "python3",
      "display_name": "Python 3"
    },
    "language_info": {
      "name": "python"
    }
  },
  "cells": [
    {
      "cell_type": "markdown",
      "metadata": {
        "id": "view-in-github",
        "colab_type": "text"
      },
      "source": [
        "<a href=\"https://colab.research.google.com/github/mosaseka/AtCoder/blob/main/A_Three_Dice.ipynb\" target=\"_parent\"><img src=\"https://colab.research.google.com/assets/colab-badge.svg\" alt=\"Open In Colab\"/></a>"
      ]
    },
    {
      "cell_type": "code",
      "execution_count": null,
      "metadata": {
        "id": "1ADrjyUdYYyb"
      },
      "outputs": [],
      "source": [
        "A,B,C = map(int,input().split())\n",
        "ANSWER = 0\n",
        "\n",
        "ANSWER += 7-A\n",
        "ANSWER += 7-B\n",
        "ANSWER += 7-C\n",
        "\n",
        "print(ANSWER)"
      ]
    }
  ]
}