{
  "nbformat": 4,
  "nbformat_minor": 0,
  "metadata": {
    "colab": {
      "provenance": [],
      "authorship_tag": "ABX9TyMOE+HPB9aBMg5pmNg7fnul",
      "include_colab_link": true
    },
    "kernelspec": {
      "name": "python3",
      "display_name": "Python 3"
    },
    "language_info": {
      "name": "python"
    }
  },
  "cells": [
    {
      "cell_type": "markdown",
      "metadata": {
        "id": "view-in-github",
        "colab_type": "text"
      },
      "source": [
        "<a href=\"https://colab.research.google.com/github/mosaseka/AtCoder/blob/main/002_Encyclopedia_of_Parentheses%EF%BC%88%E2%98%853%EF%BC%89.ipynb\" target=\"_parent\"><img src=\"https://colab.research.google.com/assets/colab-badge.svg\" alt=\"Open In Colab\"/></a>"
      ]
    },
    {
      "cell_type": "code",
      "execution_count": null,
      "metadata": {
        "colab": {
          "base_uri": "https://localhost:8080/"
        },
        "id": "Bi_pQR5Z7fZb",
        "outputId": "eb762a0d-de59-4366-d5e2-d5572003cf41"
      },
      "outputs": [
        {
          "output_type": "stream",
          "name": "stdout",
          "text": [
            "2\n",
            "[(1, -1), (-1, 1)]\n",
            "()\n"
          ]
        }
      ],
      "source": [
        "from itertools import product\n",
        "\n",
        "N = int(input())\n",
        "CHECK_LIST = []\n",
        "CHECK_SUM = 0\n",
        "ANSWER = \"\"\n",
        "\n",
        "for i in product((1,-1),repeat = N):\n",
        "  if sum(i) == 0:\n",
        "    CHECK_LIST.append(i)\n",
        "  else:\n",
        "    pass\n",
        "\n",
        "for i in range(len(CHECK_LIST)):\n",
        "  for j in range(N):\n",
        "    if CHECK_LIST[i][j] == 1:\n",
        "      ANSWER += \"(\"\n",
        "      CHECK_SUM += 1\n",
        "      if CHECK_SUM < 0:\n",
        "        break\n",
        "    else:\n",
        "      ANSWER += \")\"\n",
        "      CHECK_SUM += -1\n",
        "      if CHECK_SUM < 0:\n",
        "        break\n",
        "  if CHECK_SUM < 0:\n",
        "    pass\n",
        "  else:\n",
        "    print(ANSWER)\n",
        "  CHECK_SUM = 0\n",
        "  ANSWER = \"\""
      ]
    }
  ]
}