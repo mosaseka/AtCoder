{
  "nbformat": 4,
  "nbformat_minor": 0,
  "metadata": {
    "colab": {
      "provenance": [],
      "authorship_tag": "ABX9TyM4ecV1NhWfERqUZRkm0mWv",
      "include_colab_link": true
    },
    "kernelspec": {
      "name": "python3",
      "display_name": "Python 3"
    },
    "language_info": {
      "name": "python"
    }
  },
  "cells": [
    {
      "cell_type": "markdown",
      "metadata": {
        "id": "view-in-github",
        "colab_type": "text"
      },
      "source": [
        "<a href=\"https://colab.research.google.com/github/mosaseka/AtCoder/blob/main/B_Measure.ipynb\" target=\"_parent\"><img src=\"https://colab.research.google.com/assets/colab-badge.svg\" alt=\"Open In Colab\"/></a>"
      ]
    },
    {
      "cell_type": "code",
      "execution_count": null,
      "metadata": {
        "id": "HHC52uLK-VQj"
      },
      "outputs": [],
      "source": [
        "N = int(input())\n",
        "ANSWER = \"\"\n",
        "DIV_LIST = []\n",
        "DIV_LEN = 0\n",
        "\n",
        "for i in range(9):\n",
        "  if N%(i+1) == 0:\n",
        "    DIV_LIST.append(i+1)\n",
        "\n",
        "#print(DIV_LIST)\n",
        "DIV_LEN = len(DIV_LIST)\n",
        "\n",
        "for i in range(N+1):\n",
        "  for j in range(DIV_LEN+1):\n",
        "    if j == DIV_LEN:\n",
        "      ANSWER += \"-\"\n",
        "    elif i%(N//DIV_LIST[j]) == 0:\n",
        "      ANSWER += str(DIV_LIST[j])\n",
        "      break\n",
        "\n",
        "print(ANSWER)"
      ]
    }
  ]
}