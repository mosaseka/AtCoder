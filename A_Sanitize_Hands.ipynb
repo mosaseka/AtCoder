{
  "nbformat": 4,
  "nbformat_minor": 0,
  "metadata": {
    "colab": {
      "provenance": [],
      "authorship_tag": "ABX9TyP398Kl+ikopWZlr6kTyXMd",
      "include_colab_link": true
    },
    "kernelspec": {
      "name": "python3",
      "display_name": "Python 3"
    },
    "language_info": {
      "name": "python"
    }
  },
  "cells": [
    {
      "cell_type": "markdown",
      "metadata": {
        "id": "view-in-github",
        "colab_type": "text"
      },
      "source": [
        "<a href=\"https://colab.research.google.com/github/mosaseka/AtCoder/blob/main/A_Sanitize_Hands.ipynb\" target=\"_parent\"><img src=\"https://colab.research.google.com/assets/colab-badge.svg\" alt=\"Open In Colab\"/></a>"
      ]
    },
    {
      "cell_type": "code",
      "execution_count": null,
      "metadata": {
        "id": "y0JaQuJ1q4g-"
      },
      "outputs": [],
      "source": [
        "N,M = map(int,input().split())\n",
        "H_LIST = list(map(int,input().split()))\n",
        "COUNT = 0\n",
        "\n",
        "for i in range(N):\n",
        "  M -= H_LIST[i]\n",
        "  if M < 0:\n",
        "    print(COUNT)\n",
        "    exit()\n",
        "  else:\n",
        "    COUNT += 1\n",
        "\n",
        "print(COUNT)"
      ]
    }
  ]
}