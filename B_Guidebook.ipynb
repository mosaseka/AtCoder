{
  "nbformat": 4,
  "nbformat_minor": 0,
  "metadata": {
    "colab": {
      "provenance": [],
      "authorship_tag": "ABX9TyMXggtanPAlGrJQhalLE5Kf",
      "include_colab_link": true
    },
    "kernelspec": {
      "name": "python3",
      "display_name": "Python 3"
    },
    "language_info": {
      "name": "python"
    }
  },
  "cells": [
    {
      "cell_type": "markdown",
      "metadata": {
        "id": "view-in-github",
        "colab_type": "text"
      },
      "source": [
        "<a href=\"https://colab.research.google.com/github/mosaseka/AtCoder/blob/main/B_Guidebook.ipynb\" target=\"_parent\"><img src=\"https://colab.research.google.com/assets/colab-badge.svg\" alt=\"Open In Colab\"/></a>"
      ]
    },
    {
      "cell_type": "code",
      "execution_count": null,
      "metadata": {
        "id": "HnH401bPrwVa"
      },
      "outputs": [],
      "source": [
        "N = int(input())\n",
        "BOOK_LIST = []\n",
        "\n",
        "for i in range(N):\n",
        "  S,P = map(str,input().split())\n",
        "  P = int(P)\n",
        "  BOOK_LIST.append([S,P,i+1])\n",
        "\n",
        "BOOK_LIST = sorted(BOOK_LIST, key=lambda x:(x[0],-x[1]), reverse=False)\n",
        "#print(BOOK_LIST)\n",
        "\n",
        "for i in range(len(BOOK_LIST)):\n",
        "  print(BOOK_LIST[i][2])"
      ]
    }
  ]
}