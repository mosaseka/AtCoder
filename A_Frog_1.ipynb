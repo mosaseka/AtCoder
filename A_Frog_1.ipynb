{
  "nbformat": 4,
  "nbformat_minor": 0,
  "metadata": {
    "colab": {
      "provenance": [],
      "authorship_tag": "ABX9TyP3cY7rtY12gpkkgptkk/a/",
      "include_colab_link": true
    },
    "kernelspec": {
      "name": "python3",
      "display_name": "Python 3"
    },
    "language_info": {
      "name": "python"
    }
  },
  "cells": [
    {
      "cell_type": "markdown",
      "metadata": {
        "id": "view-in-github",
        "colab_type": "text"
      },
      "source": [
        "<a href=\"https://colab.research.google.com/github/mosaseka/AtCoder/blob/main/A_Frog_1.ipynb\" target=\"_parent\"><img src=\"https://colab.research.google.com/assets/colab-badge.svg\" alt=\"Open In Colab\"/></a>"
      ]
    },
    {
      "cell_type": "code",
      "execution_count": null,
      "metadata": {
        "id": "Oq6qTNYFCgD2"
      },
      "outputs": [],
      "source": [
        "N = int(input())\n",
        "H_LIST = list(map(int,input().split()))\n",
        "DP = [10**5+1] * N\n",
        "\n",
        "DP[0] = 0\n",
        "DP[1] = abs(H_LIST[0] - H_LIST[1])\n",
        "\n",
        "for i in range(2,N):\n",
        "  DP[i] = min(abs(H_LIST[i-1]-H_LIST[i])+DP[i-1], abs(H_LIST[i-2]-H_LIST[i])+DP[i-2])\n",
        "\n",
        "print(DP[-1])"
      ]
    }
  ]
}