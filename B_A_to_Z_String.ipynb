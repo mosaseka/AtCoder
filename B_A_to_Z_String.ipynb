{
  "nbformat": 4,
  "nbformat_minor": 0,
  "metadata": {
    "colab": {
      "provenance": [],
      "authorship_tag": "ABX9TyMQmR15+ojwZR6cpOtYmeAF",
      "include_colab_link": true
    },
    "kernelspec": {
      "name": "python3",
      "display_name": "Python 3"
    },
    "language_info": {
      "name": "python"
    }
  },
  "cells": [
    {
      "cell_type": "markdown",
      "metadata": {
        "id": "view-in-github",
        "colab_type": "text"
      },
      "source": [
        "<a href=\"https://colab.research.google.com/github/mosaseka/AtCoder/blob/main/B_A_to_Z_String.ipynb\" target=\"_parent\"><img src=\"https://colab.research.google.com/assets/colab-badge.svg\" alt=\"Open In Colab\"/></a>"
      ]
    },
    {
      "cell_type": "code",
      "execution_count": null,
      "metadata": {
        "colab": {
          "base_uri": "https://localhost:8080/"
        },
        "id": "OG2_7Lm5nD8T",
        "outputId": "ff2db373-2106-46f4-89ea-251716d32b0f"
      },
      "outputs": [
        {
          "output_type": "stream",
          "name": "stdout",
          "text": [
            "QWERTYASDFZXCV\n",
            "5\n"
          ]
        }
      ],
      "source": [
        "S_LIST = list(map(str,input()))\n",
        "A_INDEX = 0\n",
        "Z_INDEX = 0\n",
        "Z_LIST = []\n",
        "\n",
        "A_INDEX = S_LIST.index(\"A\")\n",
        "\n",
        "Z_LIST = [i for i, x in enumerate(S_LIST) if x == \"Z\"]\n",
        "\n",
        "Z_INDEX = Z_LIST[-1]\n",
        "\n",
        "#print(A_INDEX)\n",
        "#print(Z_INDEX)\n",
        "\n",
        "print(Z_INDEX - A_INDEX+1)"
      ]
    }
  ]
}