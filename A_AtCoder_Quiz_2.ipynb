{
  "nbformat": 4,
  "nbformat_minor": 0,
  "metadata": {
    "colab": {
      "provenance": [],
      "authorship_tag": "ABX9TyPvOpE+D09CscoxfDLitGIt",
      "include_colab_link": true
    },
    "kernelspec": {
      "name": "python3",
      "display_name": "Python 3"
    },
    "language_info": {
      "name": "python"
    }
  },
  "cells": [
    {
      "cell_type": "markdown",
      "metadata": {
        "id": "view-in-github",
        "colab_type": "text"
      },
      "source": [
        "<a href=\"https://colab.research.google.com/github/mosaseka/AtCoder/blob/main/A_AtCoder_Quiz_2.ipynb\" target=\"_parent\"><img src=\"https://colab.research.google.com/assets/colab-badge.svg\" alt=\"Open In Colab\"/></a>"
      ]
    },
    {
      "cell_type": "code",
      "execution_count": null,
      "metadata": {
        "id": "PJiFnU-tq7eB"
      },
      "outputs": [],
      "source": [
        "X = int(input())\n",
        "\n",
        "if 0 <= X and X < 40:\n",
        "  print(40-X)\n",
        "elif 40 <= X and X < 70:\n",
        "  print(70-X)\n",
        "elif 70 <= X and X < 90:\n",
        "  print(90-X)\n",
        "else:\n",
        "  print(\"expert\")"
      ]
    }
  ]
}