{
  "nbformat": 4,
  "nbformat_minor": 0,
  "metadata": {
    "colab": {
      "provenance": [],
      "authorship_tag": "ABX9TyNL9/fXUlIcK8FiDLVu7ojw",
      "include_colab_link": true
    },
    "kernelspec": {
      "name": "python3",
      "display_name": "Python 3"
    },
    "language_info": {
      "name": "python"
    }
  },
  "cells": [
    {
      "cell_type": "markdown",
      "metadata": {
        "id": "view-in-github",
        "colab_type": "text"
      },
      "source": [
        "<a href=\"https://colab.research.google.com/github/mosaseka/AtCoder/blob/main/C_LRUD_Instructions_2.ipynb\" target=\"_parent\"><img src=\"https://colab.research.google.com/assets/colab-badge.svg\" alt=\"Open In Colab\"/></a>"
      ]
    },
    {
      "cell_type": "code",
      "execution_count": null,
      "metadata": {
        "colab": {
          "base_uri": "https://localhost:8080/"
        },
        "id": "Zsn5ufa-olDh",
        "outputId": "05419553-031b-4fa0-f8db-6ba6a44e47d9"
      },
      "outputs": [
        {
          "output_type": "stream",
          "name": "stdout",
          "text": [
            "20\n",
            "URDDLLUUURRRDDDDLLLL\n",
            "No\n"
          ]
        }
      ],
      "source": [
        "N = int(input())\n",
        "S_LIST = list(map(str,input()))\n",
        "NUM_LIST = [[0,0]]\n",
        "X = 0\n",
        "Y = 0\n",
        "FLAG = False\n",
        "\n",
        "for i in range(N):\n",
        "  if S_LIST[i] == \"R\":\n",
        "    X += 1\n",
        "    NUM_LIST.append([X,Y])\n",
        "  elif S_LIST[i] == \"L\":\n",
        "    X -= 1\n",
        "    NUM_LIST.append([X,Y])\n",
        "  elif S_LIST[i] == \"U\":\n",
        "    Y += 1\n",
        "    NUM_LIST.append([X,Y])\n",
        "  elif S_LIST[i] == \"D\":\n",
        "    Y -= 1\n",
        "    NUM_LIST.append([X,Y])\n",
        "\n",
        "#print(NUM_LIST)\n",
        "\n",
        "for i in range(len(NUM_LIST)):\n",
        "  if NUM_LIST[i] in NUM_LIST[:i]:\n",
        "    FLAG = True\n",
        "    break\n",
        "\n",
        "if FLAG:\n",
        "  print(\"Yes\")\n",
        "else:\n",
        "  print(\"No\")"
      ]
    },
    {
      "cell_type": "code",
      "source": [
        "N = int(input())\n",
        "S_LIST = list(map(str,input()))\n",
        "NUM_LIST = [[0,0]]\n",
        "X = 0\n",
        "Y = 0\n",
        "CHECK_LIST = []\n",
        "\n",
        "for i in range(N):\n",
        "  if S_LIST[i] == \"R\":\n",
        "    X += 1\n",
        "    NUM_LIST.append([X,Y])\n",
        "  elif S_LIST[i] == \"L\":\n",
        "    X -= 1\n",
        "    NUM_LIST.append([X,Y])\n",
        "  elif S_LIST[i] == \"U\":\n",
        "    Y += 1\n",
        "    NUM_LIST.append([X,Y])\n",
        "  elif S_LIST[i] == \"D\":\n",
        "    Y -= 1\n",
        "    NUM_LIST.append([X,Y])\n",
        "\n",
        "#print(NUM_LIST)\n",
        "\n",
        "CHECK_LIST = list(map(list,set(map(tuple,NUM_LIST))))\n",
        "\n",
        "if len(NUM_LIST) != len(CHECK_LIST):\n",
        "  print(\"Yes\")\n",
        "else:\n",
        "  print(\"No\")"
      ],
      "metadata": {
        "colab": {
          "base_uri": "https://localhost:8080/"
        },
        "id": "gyB-4frjuzzX",
        "outputId": "a5fee692-bcfd-4e3c-855a-56e39de9d0fc"
      },
      "execution_count": null,
      "outputs": [
        {
          "output_type": "stream",
          "name": "stdout",
          "text": [
            "20\n",
            "URDDLLUUURRRDDDDLLLL\n",
            "No\n"
          ]
        }
      ]
    }
  ]
}