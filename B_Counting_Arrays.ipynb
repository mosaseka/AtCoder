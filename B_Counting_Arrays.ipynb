{
  "nbformat": 4,
  "nbformat_minor": 0,
  "metadata": {
    "colab": {
      "provenance": [],
      "authorship_tag": "ABX9TyNsnyAmIOBjWSelL0rJtfNK",
      "include_colab_link": true
    },
    "kernelspec": {
      "name": "python3",
      "display_name": "Python 3"
    },
    "language_info": {
      "name": "python"
    }
  },
  "cells": [
    {
      "cell_type": "markdown",
      "metadata": {
        "id": "view-in-github",
        "colab_type": "text"
      },
      "source": [
        "<a href=\"https://colab.research.google.com/github/mosaseka/AtCoder/blob/main/B_Counting_Arrays.ipynb\" target=\"_parent\"><img src=\"https://colab.research.google.com/assets/colab-badge.svg\" alt=\"Open In Colab\"/></a>"
      ]
    },
    {
      "cell_type": "code",
      "execution_count": null,
      "metadata": {
        "id": "CAS_1U1EAcG7"
      },
      "outputs": [],
      "source": [
        "N = int(input())\n",
        "L = 0\n",
        "A_TUPLE = tuple()\n",
        "A_SET = set()\n",
        "LIST = []\n",
        "\n",
        "for i in range(N):\n",
        "  LIST = list(map(int,input().split()))\n",
        "  L = LIST[0]\n",
        "  A_TUPLE = tuple(LIST[1:])\n",
        "  if A_TUPLE not in A_SET:\n",
        "    A_SET.add(A_TUPLE)\n",
        "\n",
        "print(len(A_SET))"
      ]
    }
  ]
}