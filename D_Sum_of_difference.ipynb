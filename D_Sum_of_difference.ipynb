{
  "nbformat": 4,
  "nbformat_minor": 0,
  "metadata": {
    "colab": {
      "provenance": [],
      "authorship_tag": "ABX9TyMd/jBXQ2VhiBb04b1ehIZx",
      "include_colab_link": true
    },
    "kernelspec": {
      "name": "python3",
      "display_name": "Python 3"
    },
    "language_info": {
      "name": "python"
    }
  },
  "cells": [
    {
      "cell_type": "markdown",
      "metadata": {
        "id": "view-in-github",
        "colab_type": "text"
      },
      "source": [
        "<a href=\"https://colab.research.google.com/github/mosaseka/AtCoder/blob/main/D_Sum_of_difference.ipynb\" target=\"_parent\"><img src=\"https://colab.research.google.com/assets/colab-badge.svg\" alt=\"Open In Colab\"/></a>"
      ]
    },
    {
      "cell_type": "code",
      "execution_count": null,
      "metadata": {
        "id": "eCzhjfvRayQ3"
      },
      "outputs": [],
      "source": [
        "from collections import deque\n",
        "import itertools\n",
        "\n",
        "N = int(input())\n",
        "A_LIST = list(map(int,input().split()))\n",
        "A_COMB = list(itertools.combinations(A_LIST,2))\n",
        "ANSWER_DEQ = deque()\n",
        "\n",
        "for i in range(len(A_COMB)):\n",
        "  ANSWER_DEQ.append(abs(A_COMB[i][0] - A_COMB[i][1]))\n",
        "\n",
        "print(sum(ANSWER_DEQ))"
      ]
    },
    {
      "cell_type": "code",
      "source": [
        "N = int(input())\n",
        "A_LIST = list(map(int,input().split()))\n",
        "ANSWER = 0\n",
        "\n",
        "A_LIST.sort(reverse=True)\n",
        "\n",
        "for i in range(N):\n",
        "  ANSWER += A_LIST[i] * (N-1-2*i)\n",
        "\n",
        "print(ANSWER)"
      ],
      "metadata": {
        "id": "G5S2cQkvcrdb"
      },
      "execution_count": null,
      "outputs": []
    }
  ]
}