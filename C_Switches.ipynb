{
  "nbformat": 4,
  "nbformat_minor": 0,
  "metadata": {
    "colab": {
      "provenance": [],
      "authorship_tag": "ABX9TyPNOrECCOJuLoZQMaTHUdOm",
      "include_colab_link": true
    },
    "kernelspec": {
      "name": "python3",
      "display_name": "Python 3"
    },
    "language_info": {
      "name": "python"
    }
  },
  "cells": [
    {
      "cell_type": "markdown",
      "metadata": {
        "id": "view-in-github",
        "colab_type": "text"
      },
      "source": [
        "<a href=\"https://colab.research.google.com/github/mosaseka/AtCoder/blob/main/C_Switches.ipynb\" target=\"_parent\"><img src=\"https://colab.research.google.com/assets/colab-badge.svg\" alt=\"Open In Colab\"/></a>"
      ]
    },
    {
      "cell_type": "code",
      "execution_count": null,
      "metadata": {
        "colab": {
          "base_uri": "https://localhost:8080/"
        },
        "id": "I6LsTIcD6azz",
        "outputId": "5051148d-1fd2-43c9-a870-8192ada9983e"
      },
      "outputs": [
        {
          "output_type": "stream",
          "name": "stdout",
          "text": [
            "2 2\n",
            "2 1 2\n",
            "1 2\n",
            "[[0, 1], [1]]\n"
          ]
        }
      ],
      "source": [
        "N,M = map(int,input().split())\n",
        "S_LIST = [list(map(lambda x:int(x)-1, input().split()))[1:] for i in range(M)]\n",
        "P_LIST = list(map(int,input().split()))\n",
        "ANSWER = 0\n",
        "CHECK = 0\n",
        "\n",
        "for i in range(1 << N):\n",
        "  for j in range(M):\n",
        "    CHECK = 0\n",
        "    for k in range(N):\n",
        "      if i >> k & 1 and k in S_LIST[j]:\n",
        "        CHECK += 1\n",
        "    if CHECK % 2 != P_LIST[j]:\n",
        "      break\n",
        "    ANSWER += 1\n",
        "\n",
        "print(ANSWER)"
      ]
    }
  ]
}