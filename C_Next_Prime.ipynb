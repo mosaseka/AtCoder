{
  "nbformat": 4,
  "nbformat_minor": 0,
  "metadata": {
    "colab": {
      "provenance": [],
      "authorship_tag": "ABX9TyMNW5g4ypqTVIJmA+5zIo1A",
      "include_colab_link": true
    },
    "kernelspec": {
      "name": "python3",
      "display_name": "Python 3"
    },
    "language_info": {
      "name": "python"
    }
  },
  "cells": [
    {
      "cell_type": "markdown",
      "metadata": {
        "id": "view-in-github",
        "colab_type": "text"
      },
      "source": [
        "<a href=\"https://colab.research.google.com/github/mosaseka/AtCoder/blob/main/C_Next_Prime.ipynb\" target=\"_parent\"><img src=\"https://colab.research.google.com/assets/colab-badge.svg\" alt=\"Open In Colab\"/></a>"
      ]
    },
    {
      "cell_type": "code",
      "execution_count": null,
      "metadata": {
        "id": "GfOdfOENhBKS"
      },
      "outputs": [],
      "source": [
        "X = int(input())\n",
        "PRIME_LIST = []\n",
        "\n",
        "PRIME_LIST.append(2)\n",
        "for i in range(3,100004):\n",
        "  FLAG = True\n",
        "  for j in PRIME_LIST:\n",
        "    if i % j == 0:\n",
        "      FLAG = False\n",
        "      break\n",
        "  if PRIME_LIST[-1] >= X:\n",
        "    break\n",
        "  elif FLAG:\n",
        "    PRIME_LIST.append(i)\n",
        "\n",
        "print(PRIME_LIST[-1])"
      ]
    },
    {
      "cell_type": "code",
      "source": [
        "X = int(input())\n",
        "\n",
        "def FUNCTION(A):\n",
        "  for i in range(2,A):\n",
        "    if A % i == 0:\n",
        "      return False\n",
        "  return True\n",
        "\n",
        "while not FUNCTION(X):\n",
        "  X += 1\n",
        "print(X)"
      ],
      "metadata": {
        "colab": {
          "base_uri": "https://localhost:8080/"
        },
        "id": "s4tJFdQqz81r",
        "outputId": "d3c154bb-e378-468c-f299-40330b0c1c9c"
      },
      "execution_count": null,
      "outputs": [
        {
          "output_type": "stream",
          "name": "stdout",
          "text": [
            "99992\n",
            "100003\n"
          ]
        }
      ]
    }
  ]
}