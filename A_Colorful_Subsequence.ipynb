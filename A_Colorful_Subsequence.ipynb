{
  "nbformat": 4,
  "nbformat_minor": 0,
  "metadata": {
    "colab": {
      "provenance": [],
      "authorship_tag": "ABX9TyNsmTZW7cTwsPRsf4EFBgYt",
      "include_colab_link": true
    },
    "kernelspec": {
      "name": "python3",
      "display_name": "Python 3"
    },
    "language_info": {
      "name": "python"
    }
  },
  "cells": [
    {
      "cell_type": "markdown",
      "metadata": {
        "id": "view-in-github",
        "colab_type": "text"
      },
      "source": [
        "<a href=\"https://colab.research.google.com/github/mosaseka/AtCoder/blob/main/A_Colorful_Subsequence.ipynb\" target=\"_parent\"><img src=\"https://colab.research.google.com/assets/colab-badge.svg\" alt=\"Open In Colab\"/></a>"
      ]
    },
    {
      "cell_type": "code",
      "execution_count": null,
      "metadata": {
        "colab": {
          "base_uri": "https://localhost:8080/"
        },
        "id": "6AaT8yeg3Mw4",
        "outputId": "1565ffed-e9b0-4ab8-e42d-6578a33008e1"
      },
      "outputs": [
        {
          "output_type": "stream",
          "name": "stdout",
          "text": [
            "3\n",
            "aaa\n",
            "3\n"
          ]
        }
      ],
      "source": [
        "import collections\n",
        "\n",
        "N = int(input())\n",
        "S_LIST = list(map(str,input()))\n",
        "S_COUNT = list(collections.Counter(S_LIST).items())\n",
        "ANSWER = 1\n",
        "\n",
        "#print(S_COUNT)\n",
        "\n",
        "for i in range(len(S_COUNT)):\n",
        "  ANSWER *= (S_COUNT[i][1]+1)\n",
        "\n",
        "ANSWER -= 1\n",
        "\n",
        "print(ANSWER % ((10**9)+7))"
      ]
    }
  ]
}