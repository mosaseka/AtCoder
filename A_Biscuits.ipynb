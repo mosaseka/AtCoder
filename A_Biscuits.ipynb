{
  "nbformat": 4,
  "nbformat_minor": 0,
  "metadata": {
    "colab": {
      "provenance": [],
      "authorship_tag": "ABX9TyPmc3oR0ancckt1KfgxrRQC",
      "include_colab_link": true
    },
    "kernelspec": {
      "name": "python3",
      "display_name": "Python 3"
    },
    "language_info": {
      "name": "python"
    }
  },
  "cells": [
    {
      "cell_type": "markdown",
      "metadata": {
        "id": "view-in-github",
        "colab_type": "text"
      },
      "source": [
        "<a href=\"https://colab.research.google.com/github/mosaseka/AtCoder/blob/main/A_Biscuits.ipynb\" target=\"_parent\"><img src=\"https://colab.research.google.com/assets/colab-badge.svg\" alt=\"Open In Colab\"/></a>"
      ]
    },
    {
      "cell_type": "code",
      "execution_count": null,
      "metadata": {
        "colab": {
          "base_uri": "https://localhost:8080/"
        },
        "id": "BcOoDKmLfBPQ",
        "outputId": "0b00840a-ab44-476c-be91-76189f7d4a5b"
      },
      "outputs": [
        {
          "output_type": "stream",
          "name": "stdout",
          "text": [
            "2 0\n",
            "1 3\n",
            "2\n"
          ]
        }
      ],
      "source": [
        "N,P = map(int,input().split())\n",
        "A_LIST = list(map(int,input().split()))\n",
        "ODD_FLAG = False\n",
        "\n",
        "for i in range(N):\n",
        "  if A_LIST[i]%2 == 1:\n",
        "    ODD_FLAG = True\n",
        "    break\n",
        "\n",
        "if not ODD_FLAG:\n",
        "  if P == 0:\n",
        "    print(2**N)\n",
        "  else:\n",
        "    print(0)\n",
        "else:\n",
        "  print(2**(N-1))"
      ]
    }
  ]
}