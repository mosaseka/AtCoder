{
  "nbformat": 4,
  "nbformat_minor": 0,
  "metadata": {
    "colab": {
      "provenance": [],
      "authorship_tag": "ABX9TyPbsK40UcXSvb0kUoU5yuWs",
      "include_colab_link": true
    },
    "kernelspec": {
      "name": "python3",
      "display_name": "Python 3"
    },
    "language_info": {
      "name": "python"
    }
  },
  "cells": [
    {
      "cell_type": "markdown",
      "metadata": {
        "id": "view-in-github",
        "colab_type": "text"
      },
      "source": [
        "<a href=\"https://colab.research.google.com/github/mosaseka/AtCoder/blob/main/B_Base_K.ipynb\" target=\"_parent\"><img src=\"https://colab.research.google.com/assets/colab-badge.svg\" alt=\"Open In Colab\"/></a>"
      ]
    },
    {
      "cell_type": "code",
      "execution_count": null,
      "metadata": {
        "id": "CZfK0k1X4qcw"
      },
      "outputs": [],
      "source": [
        "def base_10(num_n,n):\n",
        "    num_10 = 0\n",
        "    for s in str(num_n):\n",
        "        num_10 *= n\n",
        "        num_10 += int(s)\n",
        "    return num_10\n",
        "\n",
        "K = int(input())\n",
        "A,B = map(str,input().split())\n",
        "\n",
        "A = base_10(A,K)\n",
        "B = base_10(B,K)\n",
        "\n",
        "print(A*B)"
      ]
    }
  ]
}