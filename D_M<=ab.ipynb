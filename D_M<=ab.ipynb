{
  "nbformat": 4,
  "nbformat_minor": 0,
  "metadata": {
    "colab": {
      "provenance": [],
      "authorship_tag": "ABX9TyNQWMOJFqYgyZ64Cp37i3IE",
      "include_colab_link": true
    },
    "kernelspec": {
      "name": "python3",
      "display_name": "Python 3"
    },
    "language_info": {
      "name": "python"
    }
  },
  "cells": [
    {
      "cell_type": "markdown",
      "metadata": {
        "id": "view-in-github",
        "colab_type": "text"
      },
      "source": [
        "<a href=\"https://colab.research.google.com/github/mosaseka/AtCoder/blob/main/D_M%3C%3Dab.ipynb\" target=\"_parent\"><img src=\"https://colab.research.google.com/assets/colab-badge.svg\" alt=\"Open In Colab\"/></a>"
      ]
    },
    {
      "cell_type": "code",
      "execution_count": null,
      "metadata": {
        "id": "C1B5RIY11FOW"
      },
      "outputs": [],
      "source": [
        "def DIV(X,N):\n",
        "  FLAG = False\n",
        "  for i in range(1,N+1):\n",
        "    if X % i == 0 and X// i <= N:\n",
        "      FLAG = True\n",
        "      break\n",
        "  return FLAG\n",
        "\n",
        "N,M = map(int,input().split())\n",
        "ANSWER = -1\n",
        "X = 0\n",
        "\n",
        "X = M\n",
        "\n",
        "while X <= N**2:\n",
        "  if DIV(X,N):\n",
        "    ANSWER = X\n",
        "    break\n",
        "  else:\n",
        "    X += 1\n",
        "\n",
        "print(ANSWER)"
      ]
    }
  ]
}