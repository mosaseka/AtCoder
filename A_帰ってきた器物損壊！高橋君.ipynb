{
  "nbformat": 4,
  "nbformat_minor": 0,
  "metadata": {
    "colab": {
      "provenance": [],
      "authorship_tag": "ABX9TyONE+oNsEX5EjgnQNF8O+zs",
      "include_colab_link": true
    },
    "kernelspec": {
      "name": "python3",
      "display_name": "Python 3"
    },
    "language_info": {
      "name": "python"
    }
  },
  "cells": [
    {
      "cell_type": "markdown",
      "metadata": {
        "id": "view-in-github",
        "colab_type": "text"
      },
      "source": [
        "<a href=\"https://colab.research.google.com/github/mosaseka/AtCoder/blob/main/A_%E5%B8%B0%E3%81%A3%E3%81%A6%E3%81%8D%E3%81%9F%E5%99%A8%E7%89%A9%E6%90%8D%E5%A3%8A%EF%BC%81%E9%AB%98%E6%A9%8B%E5%90%9B.ipynb\" target=\"_parent\"><img src=\"https://colab.research.google.com/assets/colab-badge.svg\" alt=\"Open In Colab\"/></a>"
      ]
    },
    {
      "cell_type": "code",
      "execution_count": null,
      "metadata": {
        "id": "c8J95fV25647"
      },
      "outputs": [],
      "source": [
        "X = str(input())\n",
        "S = str(input())\n",
        "ANSWER = \"\"\n",
        "\n",
        "for i in range(len(S)):\n",
        "  if S[i] != X:\n",
        "    ANSWER += S[i]\n",
        "\n",
        "print(ANSWER)"
      ]
    }
  ]
}