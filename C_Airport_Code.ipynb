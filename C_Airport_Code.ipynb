{
  "nbformat": 4,
  "nbformat_minor": 0,
  "metadata": {
    "colab": {
      "provenance": [],
      "authorship_tag": "ABX9TyM4rx6qdg7p91pjpH/jKbkL",
      "include_colab_link": true
    },
    "kernelspec": {
      "name": "python3",
      "display_name": "Python 3"
    },
    "language_info": {
      "name": "python"
    }
  },
  "cells": [
    {
      "cell_type": "markdown",
      "metadata": {
        "id": "view-in-github",
        "colab_type": "text"
      },
      "source": [
        "<a href=\"https://colab.research.google.com/github/mosaseka/AtCoder/blob/main/C_Airport_Code.ipynb\" target=\"_parent\"><img src=\"https://colab.research.google.com/assets/colab-badge.svg\" alt=\"Open In Colab\"/></a>"
      ]
    },
    {
      "cell_type": "code",
      "execution_count": null,
      "metadata": {
        "id": "fOo-HG2iB3va"
      },
      "outputs": [],
      "source": [
        "from itertools import combinations\n",
        "\n",
        "def remove_duplicates(input_str):\n",
        "    unique_chars = set()\n",
        "    result = []\n",
        "    for char in input_str:\n",
        "        if char not in unique_chars:\n",
        "            result.append(char)\n",
        "            unique_chars.add(char)\n",
        "    return result\n",
        "\n",
        "S = str(input())\n",
        "T = str(input())\n",
        "CHECK = remove_duplicates(S)\n",
        "STR = \"\"\n",
        "A = set()\n",
        "B = set()\n",
        "\n",
        "for i in combinations(CHECK,3):\n",
        "  A.add((i[0] + i[1] + i[2]).upper())\n",
        "\n",
        "for i in combinations(CHECK,2):\n",
        "  B.add((i[0] + i[1] + \"x\").upper())\n",
        "\n",
        "if T in A or T in B:\n",
        "  print(\"Yes\")\n",
        "else:\n",
        "  print(\"No\")"
      ]
    },
    {
      "cell_type": "code",
      "source": [
        "from collections import Counter\n",
        "\n",
        "S = str(input()) + \"qwertyuiopasdfghjklzxcvbnm\"\n",
        "T = str(input())\n",
        "T = T.lower()\n",
        "S_COUNT = list(Counter(S).items())\n",
        "T_COUNT = list(Counter(T).items())\n",
        "A = True\n",
        "B = True\n",
        "\n",
        "S_COUNT.sort()\n",
        "#print(S_COUNT)\n",
        "\n",
        "for i in range(len(T_COUNT)):\n",
        "  if S_COUNT[ord(T_COUNT[i][0])-97][1] - 1 >= T_COUNT[i][1]:\n",
        "    pass\n",
        "  else:\n",
        "    A = False\n",
        "    break\n",
        "\n",
        "if T[-1] == \"x\":\n",
        "  T_COUNT = list(Counter(T[:2]).items())\n",
        "  for i in range(len(T_COUNT)):\n",
        "    if S_COUNT[ord(T_COUNT[i][0])-97][1] - 1 >= T_COUNT[i][1]:\n",
        "      pass\n",
        "    else:\n",
        "      B = False\n",
        "      break\n",
        "else:\n",
        "  B = False\n",
        "\n",
        "#print(A)\n",
        "#print(B)\n",
        "\n",
        "if A or B:\n",
        "  print(\"Yes\")\n",
        "else:\n",
        "  print(\"No\")"
      ],
      "metadata": {
        "id": "tgkZ3wZRZVpR"
      },
      "execution_count": null,
      "outputs": []
    },
    {
      "cell_type": "code",
      "source": [
        "S = str(input())\n",
        "T = str(input())\n",
        "T = T.lower()\n",
        "COUNT = 0\n",
        "FLAG = False\n",
        "\n",
        "if T[-1] == \"x\":\n",
        "  FLAG = True\n",
        "\n",
        "for i in range(len(S)):\n",
        "  if T[COUNT] == S[i]:\n",
        "    COUNT += 1\n",
        "    if FLAG:\n",
        "      if COUNT >= 2:\n",
        "        print(\"Yes\")\n",
        "        exit()\n",
        "    else:\n",
        "      if COUNT >= 3:\n",
        "        print(\"Yes\")\n",
        "        exit()\n",
        "\n",
        "print(\"No\")"
      ],
      "metadata": {
        "id": "39cfjHbDhR8h"
      },
      "execution_count": null,
      "outputs": []
    }
  ]
}