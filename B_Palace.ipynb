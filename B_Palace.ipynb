{
  "nbformat": 4,
  "nbformat_minor": 0,
  "metadata": {
    "colab": {
      "provenance": [],
      "authorship_tag": "ABX9TyMxTlcfirZyzSSv42JTeiMA",
      "include_colab_link": true
    },
    "kernelspec": {
      "name": "python3",
      "display_name": "Python 3"
    },
    "language_info": {
      "name": "python"
    }
  },
  "cells": [
    {
      "cell_type": "markdown",
      "metadata": {
        "id": "view-in-github",
        "colab_type": "text"
      },
      "source": [
        "<a href=\"https://colab.research.google.com/github/mosaseka/AtCoder/blob/main/B_Palace.ipynb\" target=\"_parent\"><img src=\"https://colab.research.google.com/assets/colab-badge.svg\" alt=\"Open In Colab\"/></a>"
      ]
    },
    {
      "cell_type": "code",
      "execution_count": null,
      "metadata": {
        "id": "uv7rf766clX2"
      },
      "outputs": [],
      "source": [
        "import numpy as np\n",
        "\n",
        "def idx_of_the_nearest(data, value):\n",
        "    idx = np.argmin(np.abs(np.array(data) - value))\n",
        "    return idx\n",
        "\n",
        "N = int(input())\n",
        "T,A = map(int,input().split())\n",
        "H_LIST = list(map(int,input().split()))\n",
        "TEMP = 0\n",
        "TEMP_LIST = []\n",
        "ANSWER = 0\n",
        "\n",
        "for i in range(N):\n",
        "  TEMP_LIST.append(T - H_LIST[i] * 0.006)\n",
        "\n",
        "ANSWER = idx_of_the_nearest(TEMP_LIST,A)\n",
        "print(ANSWER+1)"
      ]
    }
  ]
}