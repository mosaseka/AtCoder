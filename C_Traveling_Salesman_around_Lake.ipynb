{
  "nbformat": 4,
  "nbformat_minor": 0,
  "metadata": {
    "colab": {
      "provenance": [],
      "authorship_tag": "ABX9TyMybulbGgEf8P54Gk1cMRoQ",
      "include_colab_link": true
    },
    "kernelspec": {
      "name": "python3",
      "display_name": "Python 3"
    },
    "language_info": {
      "name": "python"
    }
  },
  "cells": [
    {
      "cell_type": "markdown",
      "metadata": {
        "id": "view-in-github",
        "colab_type": "text"
      },
      "source": [
        "<a href=\"https://colab.research.google.com/github/mosaseka/AtCoder/blob/main/C_Traveling_Salesman_around_Lake.ipynb\" target=\"_parent\"><img src=\"https://colab.research.google.com/assets/colab-badge.svg\" alt=\"Open In Colab\"/></a>"
      ]
    },
    {
      "cell_type": "code",
      "execution_count": null,
      "metadata": {
        "colab": {
          "base_uri": "https://localhost:8080/"
        },
        "id": "t7Ku0ggEDwA1",
        "outputId": "f41929bb-7f3c-490e-b017-f246a13861b9"
      },
      "outputs": [
        {
          "output_type": "stream",
          "name": "stdout",
          "text": [
            "20 3\n",
            "0 5 15\n",
            "[5, 10, 5]\n",
            "10\n"
          ]
        }
      ],
      "source": [
        "K,N = map(int,input().split())\n",
        "A_LIST = list(map(int,input().split()))\n",
        "DISTANCE_LIST = []\n",
        "\n",
        "for i in range(N-1):\n",
        "  DISTANCE_LIST.append(abs(A_LIST[i] - A_LIST[i+1]))\n",
        "\n",
        "DISTANCE_LIST.append(K - abs(A_LIST[0] - A_LIST[-1]))\n",
        "\n",
        "#print(DISTANCE_LIST)\n",
        "\n",
        "print(sum(DISTANCE_LIST) - max(DISTANCE_LIST))"
      ]
    }
  ]
}