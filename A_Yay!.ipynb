{
  "nbformat": 4,
  "nbformat_minor": 0,
  "metadata": {
    "colab": {
      "provenance": [],
      "authorship_tag": "ABX9TyONjJzwEwppvoZ+7gDtbvqi",
      "include_colab_link": true
    },
    "kernelspec": {
      "name": "python3",
      "display_name": "Python 3"
    },
    "language_info": {
      "name": "python"
    }
  },
  "cells": [
    {
      "cell_type": "markdown",
      "metadata": {
        "id": "view-in-github",
        "colab_type": "text"
      },
      "source": [
        "<a href=\"https://colab.research.google.com/github/mosaseka/AtCoder/blob/main/A_Yay!.ipynb\" target=\"_parent\"><img src=\"https://colab.research.google.com/assets/colab-badge.svg\" alt=\"Open In Colab\"/></a>"
      ]
    },
    {
      "cell_type": "code",
      "execution_count": null,
      "metadata": {
        "id": "kgKnqnJN_MHZ"
      },
      "outputs": [],
      "source": [
        "from collections import Counter\n",
        "\n",
        "S_LIST = list(map(str,input()))\n",
        "S_COUNT = list(Counter(S_LIST).items())\n",
        "#print(S_COUNT)\n",
        "\n",
        "S_COUNT.sort(key=lambda x:x[1])\n",
        "#print(S_COUNT)\n",
        "\n",
        "print(S_LIST.index(S_COUNT[0][0]) + 1)"
      ]
    }
  ]
}