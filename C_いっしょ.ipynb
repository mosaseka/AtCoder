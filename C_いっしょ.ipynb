{
  "nbformat": 4,
  "nbformat_minor": 0,
  "metadata": {
    "colab": {
      "provenance": [],
      "authorship_tag": "ABX9TyPIoIlI5IMLqxn4xqaqZWpM",
      "include_colab_link": true
    },
    "kernelspec": {
      "name": "python3",
      "display_name": "Python 3"
    },
    "language_info": {
      "name": "python"
    }
  },
  "cells": [
    {
      "cell_type": "markdown",
      "metadata": {
        "id": "view-in-github",
        "colab_type": "text"
      },
      "source": [
        "<a href=\"https://colab.research.google.com/github/mosaseka/AtCoder/blob/main/C_%E3%81%84%E3%81%A3%E3%81%97%E3%82%87.ipynb\" target=\"_parent\"><img src=\"https://colab.research.google.com/assets/colab-badge.svg\" alt=\"Open In Colab\"/></a>"
      ]
    },
    {
      "cell_type": "code",
      "execution_count": null,
      "metadata": {
        "id": "1HIZSpIJ3EJe"
      },
      "outputs": [],
      "source": [
        "import math\n",
        "import statistics\n",
        "\n",
        "N = int(input())\n",
        "A_LIST = list(map(int,input().split()))\n",
        "TARGET = math.ceil(statistics.mean(A_LIST))\n",
        "ANSWER = 0\n",
        "\n",
        "for i in range(N):\n",
        "  ANSWER += (A_LIST[i] - TARGET)**2\n",
        "\n",
        "print(ANSWER)"
      ]
    },
    {
      "cell_type": "code",
      "source": [
        "from collections import deque\n",
        "\n",
        "N = int(input())\n",
        "A_LIST = list(map(int,input().split()))\n",
        "ANSWER_LIST = deque()\n",
        "CHECK = 0\n",
        "\n",
        "for i in range(-100,101):\n",
        "  #print(i)\n",
        "  CHECK = 0\n",
        "  for j in range(N):\n",
        "    CHECK +=  (A_LIST[j] - i)**2\n",
        "  ANSWER_LIST.append(CHECK)\n",
        "print(min(ANSWER_LIST))"
      ],
      "metadata": {
        "id": "wZOQ2yTg4u8v"
      },
      "execution_count": null,
      "outputs": []
    }
  ]
}