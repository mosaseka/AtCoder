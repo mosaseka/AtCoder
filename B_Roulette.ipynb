{
  "nbformat": 4,
  "nbformat_minor": 0,
  "metadata": {
    "colab": {
      "provenance": [],
      "authorship_tag": "ABX9TyNI5sy/ws7DIcjbiXUMM2NU",
      "include_colab_link": true
    },
    "kernelspec": {
      "name": "python3",
      "display_name": "Python 3"
    },
    "language_info": {
      "name": "python"
    }
  },
  "cells": [
    {
      "cell_type": "markdown",
      "metadata": {
        "id": "view-in-github",
        "colab_type": "text"
      },
      "source": [
        "<a href=\"https://colab.research.google.com/github/mosaseka/AtCoder/blob/main/B_Roulette.ipynb\" target=\"_parent\"><img src=\"https://colab.research.google.com/assets/colab-badge.svg\" alt=\"Open In Colab\"/></a>"
      ]
    },
    {
      "cell_type": "code",
      "execution_count": null,
      "metadata": {
        "id": "oFqmjI5w812t"
      },
      "outputs": [],
      "source": [
        "N = int(input())\n",
        "ROULETTE = [[] for i in range(37)]\n",
        "C = 0\n",
        "A_LIST = []\n",
        "CHECK = []\n",
        "X = 0\n",
        "ANSWER = []\n",
        "MIN = 0\n",
        "\n",
        "for i in range(N):\n",
        "  C = int(input())\n",
        "  A_LIST = list(map(int,input().split()))\n",
        "  for j in range(C):\n",
        "    ROULETTE[A_LIST[j]-1].append([i+1,C])\n",
        "\n",
        "X = int(input())\n",
        "CHECK = ROULETTE[X-1]\n",
        "\n",
        "if CHECK == []:\n",
        "  print(0)\n",
        "  print(*[])\n",
        "  exit()\n",
        "\n",
        "CHECK.sort(key=lambda x:x[1])\n",
        "MIN = CHECK[0][1]\n",
        "\n",
        "for i in range(len(CHECK)):\n",
        "  if CHECK[i][1] == MIN:\n",
        "    ANSWER.append(CHECK[i][0])\n",
        "  else:\n",
        "    break\n",
        "\n",
        "print(len(ANSWER))\n",
        "print(*ANSWER)"
      ]
    }
  ]
}