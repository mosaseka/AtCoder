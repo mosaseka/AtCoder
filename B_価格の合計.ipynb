{
  "nbformat": 4,
  "nbformat_minor": 0,
  "metadata": {
    "colab": {
      "provenance": [],
      "authorship_tag": "ABX9TyNQUY8a7JRWjrFFA7bvD1qR",
      "include_colab_link": true
    },
    "kernelspec": {
      "name": "python3",
      "display_name": "Python 3"
    },
    "language_info": {
      "name": "python"
    }
  },
  "cells": [
    {
      "cell_type": "markdown",
      "metadata": {
        "id": "view-in-github",
        "colab_type": "text"
      },
      "source": [
        "<a href=\"https://colab.research.google.com/github/mosaseka/AtCoder/blob/main/B_%E4%BE%A1%E6%A0%BC%E3%81%AE%E5%90%88%E8%A8%88.ipynb\" target=\"_parent\"><img src=\"https://colab.research.google.com/assets/colab-badge.svg\" alt=\"Open In Colab\"/></a>"
      ]
    },
    {
      "cell_type": "code",
      "execution_count": null,
      "metadata": {
        "colab": {
          "base_uri": "https://localhost:8080/"
        },
        "id": "XQZbFDWRnzvn",
        "outputId": "f98059f3-9929-46b7-b072-54190705b95f"
      },
      "outputs": [
        {
          "output_type": "stream",
          "name": "stdout",
          "text": [
            "4 5\n",
            "1 10 100 1000\n",
            "101\n"
          ]
        }
      ],
      "source": [
        "N,X = map(int,input().split())\n",
        "A_LIST = list(map(int,input().split()))\n",
        "ANSWER = 0\n",
        "\n",
        "X_BIN = format(X,\"b\")\n",
        "X_BIN_LIST = [int(i) for i in list(str(X_BIN))]\n",
        "X_BIN_LIST.reverse()\n",
        "\n",
        "for i in range(len(X_BIN_LIST)):\n",
        "  if X_BIN_LIST[i] == 1:\n",
        "    ANSWER = ANSWER + A_LIST[i]\n",
        "  else:\n",
        "    pass\n",
        "\n",
        "print(ANSWER)"
      ]
    }
  ]
}