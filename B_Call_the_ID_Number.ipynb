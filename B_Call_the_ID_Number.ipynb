{
  "nbformat": 4,
  "nbformat_minor": 0,
  "metadata": {
    "colab": {
      "provenance": [],
      "authorship_tag": "ABX9TyOFb7fouepAzyJisD4c1yQF",
      "include_colab_link": true
    },
    "kernelspec": {
      "name": "python3",
      "display_name": "Python 3"
    },
    "language_info": {
      "name": "python"
    }
  },
  "cells": [
    {
      "cell_type": "markdown",
      "metadata": {
        "id": "view-in-github",
        "colab_type": "text"
      },
      "source": [
        "<a href=\"https://colab.research.google.com/github/mosaseka/AtCoder/blob/main/B_Call_the_ID_Number.ipynb\" target=\"_parent\"><img src=\"https://colab.research.google.com/assets/colab-badge.svg\" alt=\"Open In Colab\"/></a>"
      ]
    },
    {
      "cell_type": "code",
      "execution_count": null,
      "metadata": {
        "id": "go6wbP0zjvrh"
      },
      "outputs": [],
      "source": [
        "N = int(input())\n",
        "A_LIST = list(map(int,input().split()))\n",
        "ANSWER_LIST = []\n",
        "\n",
        "for i in range(N):\n",
        "  if A_LIST[i] != 0:\n",
        "    A_LIST[A_LIST[i] - 1] = 0\n",
        "  else:\n",
        "    pass\n",
        "\n",
        "for i in range(N):\n",
        "  if A_LIST[i] == 0:\n",
        "    pass\n",
        "  else:\n",
        "    ANSWER_LIST.append(i+1)\n",
        "\n",
        "print(len(ANSWER_LIST))\n",
        "print(*ANSWER_LIST)"
      ]
    }
  ]
}