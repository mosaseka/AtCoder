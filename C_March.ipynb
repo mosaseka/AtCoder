{
  "nbformat": 4,
  "nbformat_minor": 0,
  "metadata": {
    "colab": {
      "provenance": [],
      "authorship_tag": "ABX9TyOAU2WshZ+7StLpOjy4TCcY",
      "include_colab_link": true
    },
    "kernelspec": {
      "name": "python3",
      "display_name": "Python 3"
    },
    "language_info": {
      "name": "python"
    }
  },
  "cells": [
    {
      "cell_type": "markdown",
      "metadata": {
        "id": "view-in-github",
        "colab_type": "text"
      },
      "source": [
        "<a href=\"https://colab.research.google.com/github/mosaseka/AtCoder/blob/main/C_March.ipynb\" target=\"_parent\"><img src=\"https://colab.research.google.com/assets/colab-badge.svg\" alt=\"Open In Colab\"/></a>"
      ]
    },
    {
      "cell_type": "code",
      "execution_count": null,
      "metadata": {
        "id": "Jmq8rAiM3gd_"
      },
      "outputs": [],
      "source": [
        "import itertools\n",
        "\n",
        "N = int(input())\n",
        "S_LIST = []\n",
        "S = \"\"\n",
        "MARCH_SET = {\"M\",\"A\",\"R\",\"C\",\"H\"}\n",
        "COMB_LIST = []\n",
        "M = 0\n",
        "A = 0\n",
        "R = 0\n",
        "C = 0\n",
        "H = 0\n",
        "COUNT = 0\n",
        "\n",
        "for i in range(N):\n",
        "  S = str(input())\n",
        "  if S[0] == \"M\":\n",
        "    M += 1\n",
        "  elif S[0] == \"A\":\n",
        "    A += 1\n",
        "  elif S[0] == \"R\":\n",
        "    R += 1\n",
        "  elif S[0] == \"C\":\n",
        "    C += 1\n",
        "  elif S[0] == \"H\":\n",
        "    H += 1\n",
        "\n",
        "COUNT += M*A*R\n",
        "COUNT += M*A*C\n",
        "COUNT += M*A*H\n",
        "COUNT += M*R*C\n",
        "COUNT += M*R*H\n",
        "COUNT += M*C*H\n",
        "COUNT += A*R*C\n",
        "COUNT += A*R*H\n",
        "COUNT += A*C*H\n",
        "COUNT += R*C*H\n",
        "\n",
        "print(COUNT)"
      ]
    }
  ]
}