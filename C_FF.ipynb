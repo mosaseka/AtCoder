{
  "nbformat": 4,
  "nbformat_minor": 0,
  "metadata": {
    "colab": {
      "provenance": [],
      "authorship_tag": "ABX9TyP4Lrmg0wZr3phmgiwfYb9q",
      "include_colab_link": true
    },
    "kernelspec": {
      "name": "python3",
      "display_name": "Python 3"
    },
    "language_info": {
      "name": "python"
    }
  },
  "cells": [
    {
      "cell_type": "markdown",
      "metadata": {
        "id": "view-in-github",
        "colab_type": "text"
      },
      "source": [
        "<a href=\"https://colab.research.google.com/github/mosaseka/AtCoder/blob/main/C_FF.ipynb\" target=\"_parent\"><img src=\"https://colab.research.google.com/assets/colab-badge.svg\" alt=\"Open In Colab\"/></a>"
      ]
    },
    {
      "cell_type": "code",
      "execution_count": null,
      "metadata": {
        "id": "rIEabbK7If6V"
      },
      "outputs": [],
      "source": [
        "N,Q = map(int,input().split())\n",
        "CHECK = set()\n",
        "QUERY = []\n",
        "T = 0\n",
        "AB_TUPLE = tuple()\n",
        "\n",
        "for i in range(Q):\n",
        "  QUERY = list(map(int,input().split()))\n",
        "  T = QUERY[0]\n",
        "  AB_TUPLE = (QUERY[1],QUERY[2])\n",
        "  if T == 1:\n",
        "    CHECK.add(AB_TUPLE)\n",
        "  elif T == 2:\n",
        "    if AB_TUPLE in CHECK:\n",
        "      CHECK.remove(AB_TUPLE)\n",
        "  elif T == 3:\n",
        "    if AB_TUPLE in CHECK and tuple(reversed(AB_TUPLE)) in CHECK:\n",
        "      print(\"Yes\")\n",
        "    else:\n",
        "      print(\"No\")"
      ]
    }
  ]
}