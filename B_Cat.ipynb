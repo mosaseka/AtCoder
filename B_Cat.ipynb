{
  "nbformat": 4,
  "nbformat_minor": 0,
  "metadata": {
    "colab": {
      "provenance": [],
      "authorship_tag": "ABX9TyOYaoCQe141q0T2HRBz4LVv",
      "include_colab_link": true
    },
    "kernelspec": {
      "name": "python3",
      "display_name": "Python 3"
    },
    "language_info": {
      "name": "python"
    }
  },
  "cells": [
    {
      "cell_type": "markdown",
      "metadata": {
        "id": "view-in-github",
        "colab_type": "text"
      },
      "source": [
        "<a href=\"https://colab.research.google.com/github/mosaseka/AtCoder/blob/main/B_Cat.ipynb\" target=\"_parent\"><img src=\"https://colab.research.google.com/assets/colab-badge.svg\" alt=\"Open In Colab\"/></a>"
      ]
    },
    {
      "cell_type": "code",
      "execution_count": null,
      "metadata": {
        "colab": {
          "base_uri": "https://localhost:8080/"
        },
        "id": "bh98-g5w5qJJ",
        "outputId": "2d4066c6-524d-4610-ca74-3065c8ef70d4"
      },
      "outputs": [
        {
          "output_type": "stream",
          "name": "stdout",
          "text": [
            "4\n",
            "naan\n",
            "nyaan\n"
          ]
        }
      ],
      "source": [
        "N = int(input())\n",
        "S = str(input())\n",
        "\n",
        "ANSWER = S.replace(\"na\",\"nya\")\n",
        "\n",
        "print(ANSWER)"
      ]
    }
  ]
}