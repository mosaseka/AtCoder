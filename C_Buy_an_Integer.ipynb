{
  "nbformat": 4,
  "nbformat_minor": 0,
  "metadata": {
    "colab": {
      "provenance": [],
      "authorship_tag": "ABX9TyNKVusjMk2RgZxH1v+ILJjw",
      "include_colab_link": true
    },
    "kernelspec": {
      "name": "python3",
      "display_name": "Python 3"
    },
    "language_info": {
      "name": "python"
    }
  },
  "cells": [
    {
      "cell_type": "markdown",
      "metadata": {
        "id": "view-in-github",
        "colab_type": "text"
      },
      "source": [
        "<a href=\"https://colab.research.google.com/github/mosaseka/AtCoder/blob/main/C_Buy_an_Integer.ipynb\" target=\"_parent\"><img src=\"https://colab.research.google.com/assets/colab-badge.svg\" alt=\"Open In Colab\"/></a>"
      ]
    },
    {
      "cell_type": "code",
      "execution_count": null,
      "metadata": {
        "id": "V_LCTpaw9COY"
      },
      "outputs": [],
      "source": [
        "A,B,X = map(int,input().split())\n",
        "MAX = 0\n",
        "COST = 0\n",
        "\n",
        "for i in range(10**18+1):\n",
        "  COST = A*(i+1) + B*len(str(i+1))\n",
        "  if COST > X:\n",
        "    break\n",
        "  else:\n",
        "    MAX = i+1\n",
        "\n",
        "print(MAX)"
      ]
    },
    {
      "cell_type": "code",
      "source": [
        "A,B,X = map(int,input().split())\n",
        "MIN = 0\n",
        "MAX = 10**9 + 1\n",
        "CENTER = 0\n",
        "\n",
        "while MAX-MIN > 1:\n",
        "  CENTER = (MIN+MAX) // 2\n",
        "  if A*CENTER + B*len(str(CENTER)) > X:\n",
        "    MAX = CENTER\n",
        "  else:\n",
        "    MIN = CENTER\n",
        "\n",
        "print(MIN)"
      ],
      "metadata": {
        "id": "Ny9i8iNj-czN"
      },
      "execution_count": null,
      "outputs": []
    }
  ]
}