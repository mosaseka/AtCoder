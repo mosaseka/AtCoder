{
  "nbformat": 4,
  "nbformat_minor": 0,
  "metadata": {
    "colab": {
      "provenance": [],
      "authorship_tag": "ABX9TyM+2t+LEoJVf9OsLBtmxzqb",
      "include_colab_link": true
    },
    "kernelspec": {
      "name": "python3",
      "display_name": "Python 3"
    },
    "language_info": {
      "name": "python"
    }
  },
  "cells": [
    {
      "cell_type": "markdown",
      "metadata": {
        "id": "view-in-github",
        "colab_type": "text"
      },
      "source": [
        "<a href=\"https://colab.research.google.com/github/mosaseka/AtCoder/blob/main/B_Hammer.ipynb\" target=\"_parent\"><img src=\"https://colab.research.google.com/assets/colab-badge.svg\" alt=\"Open In Colab\"/></a>"
      ]
    },
    {
      "cell_type": "code",
      "execution_count": null,
      "metadata": {
        "id": "2afEVJU3TxGf"
      },
      "outputs": [],
      "source": [
        "X,Y,Z = map(int,input().split())\n",
        "\n",
        "if Y < 0:\n",
        "  X,Y,Z = X*-1,Y*-1,Z*-1\n",
        "\n",
        "if X < Y:\n",
        "  print(abs(X))\n",
        "else:\n",
        "  if Z < Y:\n",
        "    print(abs(Z) + abs(Z-X))\n",
        "  else:\n",
        "    print(-1)"
      ]
    }
  ]
}