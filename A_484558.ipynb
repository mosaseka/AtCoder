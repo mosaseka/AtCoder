{
  "nbformat": 4,
  "nbformat_minor": 0,
  "metadata": {
    "colab": {
      "provenance": [],
      "authorship_tag": "ABX9TyPlmJIZrhl+KH6jYG1jNX3/",
      "include_colab_link": true
    },
    "kernelspec": {
      "name": "python3",
      "display_name": "Python 3"
    },
    "language_info": {
      "name": "python"
    }
  },
  "cells": [
    {
      "cell_type": "markdown",
      "metadata": {
        "id": "view-in-github",
        "colab_type": "text"
      },
      "source": [
        "<a href=\"https://colab.research.google.com/github/mosaseka/AtCoder/blob/main/A_484558.ipynb\" target=\"_parent\"><img src=\"https://colab.research.google.com/assets/colab-badge.svg\" alt=\"Open In Colab\"/></a>"
      ]
    },
    {
      "cell_type": "code",
      "execution_count": null,
      "metadata": {
        "id": "oF2yKL5sdCx3"
      },
      "outputs": [],
      "source": [
        "N = int(input())\n",
        "ANSWER = \"\"\n",
        "SET = set(chr(i) for i in range(97,123))\n",
        "\n",
        "N = str(format(N,\"x\"))\n",
        "\n",
        "for i in range(len(N)):\n",
        "  if N[i] in SET:\n",
        "    ANSWER += N[i].upper()\n",
        "  else:\n",
        "    ANSWER += N[i]\n",
        "\n",
        "if len(ANSWER) == 1:\n",
        "  ANSWER = \"0\" + ANSWER\n",
        "\n",
        "print(ANSWER)"
      ]
    }
  ]
}