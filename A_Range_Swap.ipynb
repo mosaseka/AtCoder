{
  "nbformat": 4,
  "nbformat_minor": 0,
  "metadata": {
    "colab": {
      "provenance": [],
      "authorship_tag": "ABX9TyNMfLZ5ZzlOMIiRnEunkDZb",
      "include_colab_link": true
    },
    "kernelspec": {
      "name": "python3",
      "display_name": "Python 3"
    },
    "language_info": {
      "name": "python"
    }
  },
  "cells": [
    {
      "cell_type": "markdown",
      "metadata": {
        "id": "view-in-github",
        "colab_type": "text"
      },
      "source": [
        "<a href=\"https://colab.research.google.com/github/mosaseka/AtCoder/blob/main/A_Range_Swap.ipynb\" target=\"_parent\"><img src=\"https://colab.research.google.com/assets/colab-badge.svg\" alt=\"Open In Colab\"/></a>"
      ]
    },
    {
      "cell_type": "code",
      "execution_count": null,
      "metadata": {
        "colab": {
          "base_uri": "https://localhost:8080/"
        },
        "id": "nSmmjoeBg9gz",
        "outputId": "e8d066da-28e1-472c-b05c-1aa7456fc98c"
      },
      "outputs": [
        {
          "output_type": "stream",
          "name": "stdout",
          "text": [
            "8 1 3 5 7\n",
            "1 2 3 4 5 6 7 8\n",
            "5 6 7 4 1 2 3 8\n"
          ]
        }
      ],
      "source": [
        "N,P,Q,R,S = map(int,input().split())\n",
        "A_LIST = list(map(int,input().split()))\n",
        "\n",
        "A_LIST[P-1:Q],A_LIST[R-1:S] = A_LIST[R-1:S],A_LIST[P-1:Q]\n",
        "\n",
        "print(*A_LIST)"
      ]
    }
  ]
}