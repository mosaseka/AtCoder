{
  "nbformat": 4,
  "nbformat_minor": 0,
  "metadata": {
    "colab": {
      "provenance": [],
      "authorship_tag": "ABX9TyMTedOZxbHLfzUy7r/GureJ",
      "include_colab_link": true
    },
    "kernelspec": {
      "name": "python3",
      "display_name": "Python 3"
    },
    "language_info": {
      "name": "python"
    }
  },
  "cells": [
    {
      "cell_type": "markdown",
      "metadata": {
        "id": "view-in-github",
        "colab_type": "text"
      },
      "source": [
        "<a href=\"https://colab.research.google.com/github/mosaseka/AtCoder/blob/main/C_Christmas_Eve.ipynb\" target=\"_parent\"><img src=\"https://colab.research.google.com/assets/colab-badge.svg\" alt=\"Open In Colab\"/></a>"
      ]
    },
    {
      "cell_type": "code",
      "execution_count": null,
      "metadata": {
        "colab": {
          "base_uri": "https://localhost:8080/"
        },
        "id": "u_Z6VmF-t7Gc",
        "outputId": "5201232c-1b02-40e8-bb45-729824c075bb"
      },
      "outputs": [
        {
          "output_type": "stream",
          "name": "stdout",
          "text": [
            "5 3\n",
            "10\n",
            "15\n",
            "11\n",
            "14\n",
            "12\n",
            "2\n"
          ]
        }
      ],
      "source": [
        "import itertools\n",
        "\n",
        "N,K = map(int,input().split())\n",
        "H_LIST = []\n",
        "DELTA_LIST = []\n",
        "COMB_LIST = []\n",
        "\n",
        "for i in range(N):\n",
        "  H_LIST.append(int(input()))\n",
        "\n",
        "COMB_LIST = list(itertools.combinations(H_LIST,K))\n",
        "\n",
        "for i in range(len(COMB_LIST)):\n",
        "  DELTA_LIST.append(max(COMB_LIST[i]) - min(COMB_LIST[i]))\n",
        "\n",
        "print(min(DELTA_LIST))"
      ]
    },
    {
      "cell_type": "code",
      "source": [
        "N,K = map(int,input().split())\n",
        "H_LIST = []\n",
        "DELTA_LIST = []\n",
        "\n",
        "for i in range(N):\n",
        "  H_LIST.append(int(input()))\n",
        "\n",
        "H_LIST.sort()\n",
        "\n",
        "for i in range(N-K+1):\n",
        "  DELTA_LIST.append(H_LIST[i+K-1] - H_LIST[i])\n",
        "\n",
        "print(min(DELTA_LIST))"
      ],
      "metadata": {
        "id": "5wsanPB6xSkq"
      },
      "execution_count": null,
      "outputs": []
    }
  ]
}