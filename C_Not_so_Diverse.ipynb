{
  "nbformat": 4,
  "nbformat_minor": 0,
  "metadata": {
    "colab": {
      "provenance": [],
      "authorship_tag": "ABX9TyN7gq+HS5J+c2FoxVvV3LkC",
      "include_colab_link": true
    },
    "kernelspec": {
      "name": "python3",
      "display_name": "Python 3"
    },
    "language_info": {
      "name": "python"
    }
  },
  "cells": [
    {
      "cell_type": "markdown",
      "metadata": {
        "id": "view-in-github",
        "colab_type": "text"
      },
      "source": [
        "<a href=\"https://colab.research.google.com/github/mosaseka/AtCoder/blob/main/C_Not_so_Diverse.ipynb\" target=\"_parent\"><img src=\"https://colab.research.google.com/assets/colab-badge.svg\" alt=\"Open In Colab\"/></a>"
      ]
    },
    {
      "cell_type": "code",
      "execution_count": null,
      "metadata": {
        "colab": {
          "base_uri": "https://localhost:8080/"
        },
        "id": "ijNTPDsG7GRD",
        "outputId": "e5e608fe-d750-4800-8e29-0a89f035d263"
      },
      "outputs": [
        {
          "output_type": "stream",
          "name": "stdout",
          "text": [
            "5 2\n",
            "1 1 2 2 5\n",
            "{1, 2, 5}\n"
          ]
        }
      ],
      "source": [
        "N,K = map(int,input().split())\n",
        "A_LIST = list(map(int,input().split()))\n",
        "A_SET = set(A_LIST)\n",
        "DELTA = 0\n",
        "\n",
        "#print(A_SET)\n",
        "\n",
        "DELTA = len(A_LIST) - len(A_SET)\n",
        "\n",
        "if len(A_SET) >= K:\n",
        "  print(len(A_SET) - K)\n",
        "else:\n",
        "  print(0)"
      ]
    },
    {
      "cell_type": "code",
      "source": [
        "import collections\n",
        "\n",
        "N,K = map(int,input().split())\n",
        "A_LIST = list(map(int,input().split()))\n",
        "COLLECTION_LIST = list((collections.Counter(A_LIST)).items())\n",
        "ANSWER = 0\n",
        "\n",
        "COLLECTION_LIST = sorted(COLLECTION_LIST, key=lambda x: x[1])\n",
        "\n",
        "while len(COLLECTION_LIST) > K:\n",
        "  ANSWER += COLLECTION_LIST[0][1]\n",
        "  COLLECTION_LIST.pop(0)\n",
        "\n",
        "print(ANSWER)"
      ],
      "metadata": {
        "id": "ONHGKKClBZzP"
      },
      "execution_count": null,
      "outputs": []
    },
    {
      "cell_type": "code",
      "source": [
        "import collections\n",
        "\n",
        "N,K = map(int,input().split())\n",
        "A_LIST = list(map(int,input().split()))\n",
        "COLLECTION_LIST = list((collections.Counter(A_LIST)).items())\n",
        "KEEP = 0\n",
        "\n",
        "COLLECTION_LIST = sorted(COLLECTION_LIST, key=lambda x: x[1], reverse=True)\n",
        "\n",
        "if len(COLLECTION_LIST) <= K:\n",
        "  print(0)\n",
        "  exit()\n",
        "\n",
        "for i in range(K):\n",
        "  KEEP += COLLECTION_LIST[i][1]\n",
        "\n",
        "print(N-KEEP)"
      ],
      "metadata": {
        "id": "ljIvK4FhDolj"
      },
      "execution_count": null,
      "outputs": []
    }
  ]
}