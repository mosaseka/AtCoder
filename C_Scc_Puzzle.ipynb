{
  "nbformat": 4,
  "nbformat_minor": 0,
  "metadata": {
    "colab": {
      "provenance": [],
      "authorship_tag": "ABX9TyO7ssDrp71SN7xqllgfGlf6",
      "include_colab_link": true
    },
    "kernelspec": {
      "name": "python3",
      "display_name": "Python 3"
    },
    "language_info": {
      "name": "python"
    }
  },
  "cells": [
    {
      "cell_type": "markdown",
      "metadata": {
        "id": "view-in-github",
        "colab_type": "text"
      },
      "source": [
        "<a href=\"https://colab.research.google.com/github/mosaseka/AtCoder/blob/main/C_Scc_Puzzle.ipynb\" target=\"_parent\"><img src=\"https://colab.research.google.com/assets/colab-badge.svg\" alt=\"Open In Colab\"/></a>"
      ]
    },
    {
      "cell_type": "code",
      "execution_count": null,
      "metadata": {
        "colab": {
          "base_uri": "https://localhost:8080/"
        },
        "id": "JDkVWAXPPRek",
        "outputId": "015730a8-317f-4937-b2e8-96599c3c4364"
      },
      "outputs": [
        {
          "output_type": "stream",
          "name": "stdout",
          "text": [
            "1 6\n",
            "3\n"
          ]
        }
      ],
      "source": [
        "N,M = map(int,input().split())\n",
        "COUNT = 0\n",
        "\n",
        "while N > 0 or M >= 0:\n",
        "  if N != 0:\n",
        "    N -= 1\n",
        "    M -= 2\n",
        "    COUNT += 1\n",
        "  else:\n",
        "    M -= 4\n",
        "    COUNT += 1\n",
        "\n",
        "print(COUNT-1)"
      ]
    },
    {
      "cell_type": "code",
      "source": [
        "N,M = map(int,input().split())\n",
        "COUNT = 0\n",
        "\n",
        "if N <= M//2:\n",
        "  COUNT += N\n",
        "  M -= 2*N\n",
        "  COUNT += M//4\n",
        "else:\n",
        "  COUNT += M//2\n",
        "\n",
        "print(COUNT)"
      ],
      "metadata": {
        "colab": {
          "base_uri": "https://localhost:8080/"
        },
        "id": "8TicSdRwRATv",
        "outputId": "8500436f-2844-4e43-a865-54bcd90b440b"
      },
      "execution_count": null,
      "outputs": [
        {
          "output_type": "stream",
          "name": "stdout",
          "text": [
            "12345 678901\n",
            "175897\n"
          ]
        }
      ]
    }
  ]
}