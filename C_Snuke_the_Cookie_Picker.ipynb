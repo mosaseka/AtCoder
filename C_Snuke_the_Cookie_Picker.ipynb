{
  "nbformat": 4,
  "nbformat_minor": 0,
  "metadata": {
    "colab": {
      "provenance": [],
      "authorship_tag": "ABX9TyPFl2Mk4q+i1Bbo1aSdC11E",
      "include_colab_link": true
    },
    "kernelspec": {
      "name": "python3",
      "display_name": "Python 3"
    },
    "language_info": {
      "name": "python"
    }
  },
  "cells": [
    {
      "cell_type": "markdown",
      "metadata": {
        "id": "view-in-github",
        "colab_type": "text"
      },
      "source": [
        "<a href=\"https://colab.research.google.com/github/mosaseka/AtCoder/blob/main/C_Snuke_the_Cookie_Picker.ipynb\" target=\"_parent\"><img src=\"https://colab.research.google.com/assets/colab-badge.svg\" alt=\"Open In Colab\"/></a>"
      ]
    },
    {
      "cell_type": "code",
      "execution_count": null,
      "metadata": {
        "colab": {
          "base_uri": "https://localhost:8080/"
        },
        "id": "wbLK9olqOK08",
        "outputId": "9daf348a-6039-4c03-a7e4-0127e9c43785"
      },
      "outputs": [
        {
          "output_type": "stream",
          "name": "stdout",
          "text": [
            "2 4\n",
            ".##.\n",
            "..#.\n",
            "1 4\n",
            "2 2\n",
            "2 4\n"
          ]
        }
      ],
      "source": [
        "H,W = map(int,input().split())\n",
        "VECTOR = [list(map(str,input())) for i in range(H)]\n",
        "FLAG = False\n",
        "START = []\n",
        "END = []\n",
        "\n",
        "\n",
        "for i in range(H):\n",
        "  for j in range(W):\n",
        "    if VECTOR[i][j] == \"#\" and not FLAG:\n",
        "      FLAG = True\n",
        "      START = [i,j]\n",
        "    if FLAG:\n",
        "      if VECTOR[i][j] == \".\" and i >= START[0] and j >= START[1]:\n",
        "        print(i+1,j+1)\n",
        "        exit()"
      ]
    },
    {
      "cell_type": "code",
      "source": [
        "#ChatGPT使用#\n",
        "\n",
        "H,W = map(int,input().split())\n",
        "VECTOR = [list(map(str,input())) for i in range(H)]\n",
        "A,B,C,D = 0,0,0,0\n",
        "\n",
        "for i in range(H):\n",
        "  for j in range(W):\n",
        "    if VECTOR[i][j] == \"#\":\n",
        "      if A == 0:\n",
        "        A = i+1\n",
        "      B = i+1\n",
        "      if C == 0 or j+1 < C:\n",
        "        C = j+1\n",
        "      if j+1 > D:\n",
        "        D = j+1\n",
        "\n",
        "for i in range(A,B+1):\n",
        "  for j in range(C,D+1):\n",
        "    if VECTOR[i-1][j-1] == \".\":\n",
        "      print(i,j)\n",
        "      exit()"
      ],
      "metadata": {
        "id": "dcWII7q5WgVP"
      },
      "execution_count": null,
      "outputs": []
    },
    {
      "cell_type": "markdown",
      "source": [
        "次の問題をPythonで解いてください。\n",
        "\n",
        "縦\n",
        "H マス, 横\n",
        "W マスのグリッドがあります。上から\n",
        "i 行目、左から\n",
        "j 列目のマスを\n",
        "(i,j) と呼びます。\n",
        "はじめ、グリッド上には、ある 縦横\n",
        "2 マス以上 の部分長方形の内部にあるマスにクッキーが 1 枚ずつ置かれていて、それ以外のマスにはクッキーが置かれていません。\n",
        "形式的に説明すると、以下の条件を全て満たす 4 つの整数の組\n",
        "(a,b,c,d) がただ 1 つ存在します。\n",
        "\n",
        "1≤a<b≤H\n",
        "1≤c<d≤W\n",
        "グリッド上のマスのうち、\n",
        "a≤i≤b,c≤j≤d を満たす全てのマス\n",
        "(i,j) にはクッキーが 1 枚ずつ置かれていて、それ以外のマスにはクッキーが置かれていない。\n",
        "ところが、すぬけ君がグリッド上のクッキーのどれか 1 枚を取って食べてしまいました。\n",
        "すぬけ君がクッキーを取ったマスは、クッキーが置かれていない状態に変わります。\n",
        "\n",
        "すぬけ君がクッキーを食べた後のグリッドの状態が入力として与えられます。\n",
        "マス\n",
        "(i,j) の状態は文字\n",
        "S\n",
        "i,j\n",
        "​\n",
        "  として与えられて、# はクッキーが置かれているマスを, . はクッキーが置かれていないマスを意味します。\n",
        "すぬけ君が食べたクッキーが元々置かれていたマスを答えてください。(答えは一意に定まります。)"
      ],
      "metadata": {
        "id": "fhinhYL8WJfC"
      }
    },
    {
      "cell_type": "code",
      "source": [
        "#ChatGPT使用#\n",
        "\n",
        "def find_cookie_position(grid):\n",
        "    H = len(grid)\n",
        "    W = len(grid[0])\n",
        "\n",
        "    # クッキーが置かれている部分長方形の範囲を求める\n",
        "    a, b, c, d = 0, 0, 0, 0\n",
        "    for i in range(H):\n",
        "        for j in range(W):\n",
        "            if grid[i][j] == '#':\n",
        "                if a == 0:\n",
        "                    a = i + 1\n",
        "                b = i + 1\n",
        "                if c == 0 or j + 1 < c:\n",
        "                    c = j + 1\n",
        "                if j + 1 > d:\n",
        "                    d = j + 1\n",
        "\n",
        "    # クッキーを食べたマスの位置を求める\n",
        "    eaten_position = ()\n",
        "    for i in range(a, b + 1):\n",
        "        for j in range(c, d + 1):\n",
        "            if grid[i-1][j-1] == '.':\n",
        "                eaten_position = (i, j)\n",
        "                break\n",
        "\n",
        "    return eaten_position\n",
        "\n",
        "\n",
        "# グリッドの状態を入力として受け取る\n",
        "H, W = map(int, input().split())\n",
        "grid = []\n",
        "for _ in range(H):\n",
        "    row = input().strip()\n",
        "    grid.append(row)\n",
        "\n",
        "# クッキーを食べたマスの位置を求める\n",
        "eaten_position = find_cookie_position(grid)\n",
        "\n",
        "# 結果を出力する\n",
        "print(eaten_position[0], eaten_position[1])"
      ],
      "metadata": {
        "id": "t5xBStVBWN-h"
      },
      "execution_count": null,
      "outputs": []
    },
    {
      "cell_type": "code",
      "source": [
        "H,W = map(int,input().split())\n",
        "VECTOR = [list(map(str,input())) for i in range(H)]\n",
        "COUNT = 0\n",
        "\n",
        "for i in range(H):\n",
        "  for j in range(W):\n",
        "    COUNT = 0\n",
        "    if VECTOR[i][j] == \".\":\n",
        "      if i != 0:\n",
        "        if VECTOR[i-1][j] == \"#\":\n",
        "          COUNT += 1\n",
        "      if i != H-1:\n",
        "        if VECTOR[i+1][j] == \"#\":\n",
        "          COUNT += 1\n",
        "      if j != 0:\n",
        "        if VECTOR[i][j-1] == \"#\":\n",
        "          COUNT += 1\n",
        "      if j != W-1:\n",
        "        if VECTOR[i][j+1] == \"#\":\n",
        "          COUNT += 1\n",
        "    if COUNT > 1:\n",
        "      print(i+1,j+1)\n",
        "      exit()"
      ],
      "metadata": {
        "id": "DG8f85is_yD6"
      },
      "execution_count": null,
      "outputs": []
    }
  ]
}