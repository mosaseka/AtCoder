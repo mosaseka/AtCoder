{
  "nbformat": 4,
  "nbformat_minor": 0,
  "metadata": {
    "colab": {
      "provenance": [],
      "authorship_tag": "ABX9TyN4sqsV2ecC3r4AexvD6kfl",
      "include_colab_link": true
    },
    "kernelspec": {
      "name": "python3",
      "display_name": "Python 3"
    },
    "language_info": {
      "name": "python"
    }
  },
  "cells": [
    {
      "cell_type": "markdown",
      "metadata": {
        "id": "view-in-github",
        "colab_type": "text"
      },
      "source": [
        "<a href=\"https://colab.research.google.com/github/mosaseka/AtCoder/blob/main/C_Doubled.ipynb\" target=\"_parent\"><img src=\"https://colab.research.google.com/assets/colab-badge.svg\" alt=\"Open In Colab\"/></a>"
      ]
    },
    {
      "cell_type": "code",
      "execution_count": null,
      "metadata": {
        "id": "kM9_rcm7bwZj"
      },
      "outputs": [],
      "source": [
        "N = int(input())\n",
        "COUNT = 0\n",
        "\n",
        "for i in range(10**6):\n",
        "  if int(str(i+1) + str(i+1)) <= N:\n",
        "    COUNT += 1\n",
        "\n",
        "print(COUNT)"
      ]
    }
  ]
}