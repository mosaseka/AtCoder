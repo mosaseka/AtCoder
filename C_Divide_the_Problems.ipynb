{
  "nbformat": 4,
  "nbformat_minor": 0,
  "metadata": {
    "colab": {
      "provenance": [],
      "authorship_tag": "ABX9TyMWzZO1x4zLcRYebhKZIle1",
      "include_colab_link": true
    },
    "kernelspec": {
      "name": "python3",
      "display_name": "Python 3"
    },
    "language_info": {
      "name": "python"
    }
  },
  "cells": [
    {
      "cell_type": "markdown",
      "metadata": {
        "id": "view-in-github",
        "colab_type": "text"
      },
      "source": [
        "<a href=\"https://colab.research.google.com/github/mosaseka/AtCoder/blob/main/C_Divide_the_Problems.ipynb\" target=\"_parent\"><img src=\"https://colab.research.google.com/assets/colab-badge.svg\" alt=\"Open In Colab\"/></a>"
      ]
    },
    {
      "cell_type": "code",
      "execution_count": null,
      "metadata": {
        "colab": {
          "base_uri": "https://localhost:8080/"
        },
        "id": "stUzcSNYGfoh",
        "outputId": "985cd757-0639-4573-f5de-50751efe061a"
      },
      "outputs": [
        {
          "output_type": "stream",
          "name": "stdout",
          "text": [
            "8\n",
            "9 1 14 5 5 4 4 14\n",
            "0\n"
          ]
        }
      ],
      "source": [
        "N = int(input())\n",
        "D_LIST = list(map(int,input().split()))\n",
        "\n",
        "D_LIST.sort()\n",
        "\n",
        "if N % 2 == 0:\n",
        "  print(D_LIST[N//2] - D_LIST[N//2 - 1])\n",
        "else:\n",
        "  print(0)"
      ]
    }
  ]
}