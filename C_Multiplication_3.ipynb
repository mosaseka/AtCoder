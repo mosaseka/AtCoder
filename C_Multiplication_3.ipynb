{
  "nbformat": 4,
  "nbformat_minor": 0,
  "metadata": {
    "colab": {
      "provenance": [],
      "authorship_tag": "ABX9TyN01fJSd6kuJzDN8SZeRvhH",
      "include_colab_link": true
    },
    "kernelspec": {
      "name": "python3",
      "display_name": "Python 3"
    },
    "language_info": {
      "name": "python"
    }
  },
  "cells": [
    {
      "cell_type": "markdown",
      "metadata": {
        "id": "view-in-github",
        "colab_type": "text"
      },
      "source": [
        "<a href=\"https://colab.research.google.com/github/mosaseka/AtCoder/blob/main/C_Multiplication_3.ipynb\" target=\"_parent\"><img src=\"https://colab.research.google.com/assets/colab-badge.svg\" alt=\"Open In Colab\"/></a>"
      ]
    },
    {
      "cell_type": "code",
      "execution_count": null,
      "metadata": {
        "id": "Wi5xoQ7fCKcw"
      },
      "outputs": [],
      "source": [
        "import math\n",
        "\n",
        "A,B = map(float,input().split())\n",
        "\n",
        "print(math.floor(A*B))"
      ]
    },
    {
      "cell_type": "code",
      "source": [
        "from decimal import Decimal\n",
        "import math\n",
        "\n",
        "A,B = map(float,input().split())\n",
        "ANSWER = 0\n",
        "\n",
        "ANSWER = math.floor(Decimal(A) * Decimal(B))\n",
        "\n",
        "print(ANSWER)"
      ],
      "metadata": {
        "id": "c0dcQ-K2DGv7"
      },
      "execution_count": null,
      "outputs": []
    },
    {
      "cell_type": "code",
      "source": [
        "A,B = map(str,input().split())\n",
        "\n",
        "A = int(A)\n",
        "B = int(B[0] + B[2:])\n",
        "\n",
        "print((A*B)//100)"
      ],
      "metadata": {
        "id": "1W_JMNqWE9hD"
      },
      "execution_count": null,
      "outputs": []
    }
  ]
}