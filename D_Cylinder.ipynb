{
  "nbformat": 4,
  "nbformat_minor": 0,
  "metadata": {
    "colab": {
      "provenance": [],
      "authorship_tag": "ABX9TyMoblD7E3FHBCm1S04rp3Rb",
      "include_colab_link": true
    },
    "kernelspec": {
      "name": "python3",
      "display_name": "Python 3"
    },
    "language_info": {
      "name": "python"
    }
  },
  "cells": [
    {
      "cell_type": "markdown",
      "metadata": {
        "id": "view-in-github",
        "colab_type": "text"
      },
      "source": [
        "<a href=\"https://colab.research.google.com/github/mosaseka/AtCoder/blob/main/D_Cylinder.ipynb\" target=\"_parent\"><img src=\"https://colab.research.google.com/assets/colab-badge.svg\" alt=\"Open In Colab\"/></a>"
      ]
    },
    {
      "cell_type": "code",
      "execution_count": null,
      "metadata": {
        "id": "S6hN6pBl54KW"
      },
      "outputs": [],
      "source": [
        "from collections import deque\n",
        "\n",
        "Q = int(input())\n",
        "DEQ = deque()\n",
        "QUERY = []\n",
        "COUNT = 0\n",
        "ALPHA = 0\n",
        "BETA = 0\n",
        "ANSWER = 0\n",
        "\n",
        "for i in range(Q):\n",
        "  QUERY = list(map(int,input().split()))\n",
        "  if QUERY[0] == 1:\n",
        "    DEQ.append((QUERY[1],QUERY[2]))\n",
        "  else:\n",
        "    COUNT = 0\n",
        "    ANSWER = 0\n",
        "    while COUNT < QUERY[1]:\n",
        "      ALPHA,BETA = DEQ.popleft()\n",
        "      COUNT += BETA\n",
        "      ANSWER += BETA*ALPHA\n",
        "      if COUNT-QUERY[1] > 0:\n",
        "        DEQ.appendleft((ALPHA,COUNT-QUERY[1]))\n",
        "        ANSWER -= (COUNT-QUERY[1])*ALPHA\n",
        "    print(ANSWER)"
      ]
    }
  ]
}