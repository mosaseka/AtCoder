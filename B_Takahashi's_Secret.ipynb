{
  "nbformat": 4,
  "nbformat_minor": 0,
  "metadata": {
    "colab": {
      "provenance": [],
      "authorship_tag": "ABX9TyPNrjGcDu2ipZT7jGNg3ih2",
      "include_colab_link": true
    },
    "kernelspec": {
      "name": "python3",
      "display_name": "Python 3"
    },
    "language_info": {
      "name": "python"
    }
  },
  "cells": [
    {
      "cell_type": "markdown",
      "metadata": {
        "id": "view-in-github",
        "colab_type": "text"
      },
      "source": [
        "<a href=\"https://colab.research.google.com/github/mosaseka/AtCoder/blob/main/B_Takahashi's_Secret.ipynb\" target=\"_parent\"><img src=\"https://colab.research.google.com/assets/colab-badge.svg\" alt=\"Open In Colab\"/></a>"
      ]
    },
    {
      "cell_type": "code",
      "execution_count": null,
      "metadata": {
        "id": "kxgUgfFCFhHC"
      },
      "outputs": [],
      "source": [
        "N,X = map(int,input().split())\n",
        "A_LIST = list(map(int,input().split()))\n",
        "CHECK = [False for i in range(N)]\n",
        "\n",
        "while True:\n",
        "  if CHECK[X-1]:\n",
        "    break\n",
        "  else:\n",
        "    CHECK[X-1] = True\n",
        "    X = A_LIST[X-1]\n",
        "\n",
        "print(CHECK.count(True))"
      ]
    }
  ]
}