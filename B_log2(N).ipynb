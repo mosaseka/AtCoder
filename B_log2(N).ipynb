{
  "nbformat": 4,
  "nbformat_minor": 0,
  "metadata": {
    "colab": {
      "provenance": [],
      "authorship_tag": "ABX9TyOCOdbvttv7oG9tB1aFqYC7",
      "include_colab_link": true
    },
    "kernelspec": {
      "name": "python3",
      "display_name": "Python 3"
    },
    "language_info": {
      "name": "python"
    }
  },
  "cells": [
    {
      "cell_type": "markdown",
      "metadata": {
        "id": "view-in-github",
        "colab_type": "text"
      },
      "source": [
        "<a href=\"https://colab.research.google.com/github/mosaseka/AtCoder/blob/main/B_log2(N).ipynb\" target=\"_parent\"><img src=\"https://colab.research.google.com/assets/colab-badge.svg\" alt=\"Open In Colab\"/></a>"
      ]
    },
    {
      "cell_type": "code",
      "execution_count": null,
      "metadata": {
        "id": "fSLKJxdOrMtR"
      },
      "outputs": [],
      "source": [
        "import math\n",
        "\n",
        "N = int(input())\n",
        "\n",
        "print(int(math.log2(N)))"
      ]
    },
    {
      "cell_type": "code",
      "source": [
        "N = int(input())\n",
        "COUNT = 0\n",
        "\n",
        "while 2**COUNT <= N:\n",
        "  COUNT += 1\n",
        "\n",
        "print(COUNT-1)"
      ],
      "metadata": {
        "id": "OnuloZkosKaI"
      },
      "execution_count": null,
      "outputs": []
    }
  ]
}