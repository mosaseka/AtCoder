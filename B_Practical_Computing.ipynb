{
  "nbformat": 4,
  "nbformat_minor": 0,
  "metadata": {
    "colab": {
      "provenance": [],
      "authorship_tag": "ABX9TyP3OxOEG+fPO8/MQf5Lw5Az",
      "include_colab_link": true
    },
    "kernelspec": {
      "name": "python3",
      "display_name": "Python 3"
    },
    "language_info": {
      "name": "python"
    }
  },
  "cells": [
    {
      "cell_type": "markdown",
      "metadata": {
        "id": "view-in-github",
        "colab_type": "text"
      },
      "source": [
        "<a href=\"https://colab.research.google.com/github/mosaseka/AtCoder/blob/main/B_Practical_Computing.ipynb\" target=\"_parent\"><img src=\"https://colab.research.google.com/assets/colab-badge.svg\" alt=\"Open In Colab\"/></a>"
      ]
    },
    {
      "cell_type": "code",
      "execution_count": null,
      "metadata": {
        "id": "jlffTHOBYOko"
      },
      "outputs": [],
      "source": [
        "N = int(input())\n",
        "ANSWER = []\n",
        "CHECK = []\n",
        "\n",
        "for i in range(N-1):\n",
        "  CHECK = []\n",
        "  for j in range(i):\n",
        "    if j == 0:\n",
        "      CHECK.append(1)\n",
        "    elif j == i:\n",
        "      CHECK.append(1)\n",
        "    else:\n",
        "      CHECK.append(ANSWER[i-1][j-1] + ANSWER[i-1][j-1])\n",
        "  ANSWER.append(CHECK)\n",
        "\n",
        "for i in range(len(ANSWER)):\n",
        "  print(*ANSWER[i])"
      ]
    },
    {
      "cell_type": "code",
      "source": [
        "N=int(input())\n",
        "a=[[1]]\n",
        "for i in range(1,N):\n",
        "    tmp=[1]\n",
        "    if i >1:\n",
        "        for j in range(1,i):\n",
        "            tmp.append(a[i-1][j-1]+a[i-1][j])\n",
        "    tmp.append(1)\n",
        "    a.append(tmp)\n",
        "for i in a:\n",
        "    print(*i)"
      ],
      "metadata": {
        "id": "LiOvB8dkadh6"
      },
      "execution_count": null,
      "outputs": []
    }
  ]
}