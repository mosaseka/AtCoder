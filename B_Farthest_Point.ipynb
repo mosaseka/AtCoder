{
  "nbformat": 4,
  "nbformat_minor": 0,
  "metadata": {
    "colab": {
      "provenance": [],
      "authorship_tag": "ABX9TyN1EOe73C0pHSvl14gLgBXV",
      "include_colab_link": true
    },
    "kernelspec": {
      "name": "python3",
      "display_name": "Python 3"
    },
    "language_info": {
      "name": "python"
    }
  },
  "cells": [
    {
      "cell_type": "markdown",
      "metadata": {
        "id": "view-in-github",
        "colab_type": "text"
      },
      "source": [
        "<a href=\"https://colab.research.google.com/github/mosaseka/AtCoder/blob/main/B_Farthest_Point.ipynb\" target=\"_parent\"><img src=\"https://colab.research.google.com/assets/colab-badge.svg\" alt=\"Open In Colab\"/></a>"
      ]
    },
    {
      "cell_type": "code",
      "execution_count": null,
      "metadata": {
        "id": "lp2Kb7h1aViK"
      },
      "outputs": [],
      "source": [
        "N = int(input())\n",
        "X_LIST = []\n",
        "Y_LIST = []\n",
        "CHECK = []\n",
        "\n",
        "for i in range(N):\n",
        "  X,Y = map(int,input().split())\n",
        "  X_LIST.append(X)\n",
        "  Y_LIST.append(Y)\n",
        "\n",
        "for i in range(N):\n",
        "  CHECK = []\n",
        "  for j in range(N):\n",
        "    CHECK.append((X_LIST[i] - X_LIST[j])**2 + (Y_LIST[i] - Y_LIST[j])**2)\n",
        "  print(CHECK.index(max(CHECK)) + 1)"
      ]
    }
  ]
}