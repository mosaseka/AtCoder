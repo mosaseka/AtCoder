{
  "nbformat": 4,
  "nbformat_minor": 0,
  "metadata": {
    "colab": {
      "provenance": [],
      "authorship_tag": "ABX9TyOtR7y4mYoQa6018Z4sN19V",
      "include_colab_link": true
    },
    "kernelspec": {
      "name": "python3",
      "display_name": "Python 3"
    },
    "language_info": {
      "name": "python"
    }
  },
  "cells": [
    {
      "cell_type": "markdown",
      "metadata": {
        "id": "view-in-github",
        "colab_type": "text"
      },
      "source": [
        "<a href=\"https://colab.research.google.com/github/mosaseka/AtCoder/blob/main/A_Penalty_Kick.ipynb\" target=\"_parent\"><img src=\"https://colab.research.google.com/assets/colab-badge.svg\" alt=\"Open In Colab\"/></a>"
      ]
    },
    {
      "cell_type": "code",
      "execution_count": null,
      "metadata": {
        "id": "-VWtWgtdaQXg"
      },
      "outputs": [],
      "source": [
        "N = int(input())\n",
        "ANSWER = \"\"\n",
        "\n",
        "for i in range(N):\n",
        "  if (i+1)%3 != 0:\n",
        "    ANSWER += \"o\"\n",
        "  else:\n",
        "    ANSWER += \"x\"\n",
        "\n",
        "print(ANSWER)"
      ]
    }
  ]
}