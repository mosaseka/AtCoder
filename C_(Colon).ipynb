{
  "nbformat": 4,
  "nbformat_minor": 0,
  "metadata": {
    "colab": {
      "provenance": [],
      "authorship_tag": "ABX9TyOviHqnPpEXuA8Wp0Os86x0",
      "include_colab_link": true
    },
    "kernelspec": {
      "name": "python3",
      "display_name": "Python 3"
    },
    "language_info": {
      "name": "python"
    }
  },
  "cells": [
    {
      "cell_type": "markdown",
      "metadata": {
        "id": "view-in-github",
        "colab_type": "text"
      },
      "source": [
        "<a href=\"https://colab.research.google.com/github/mosaseka/AtCoder/blob/main/C_(Colon).ipynb\" target=\"_parent\"><img src=\"https://colab.research.google.com/assets/colab-badge.svg\" alt=\"Open In Colab\"/></a>"
      ]
    },
    {
      "cell_type": "code",
      "execution_count": null,
      "metadata": {
        "colab": {
          "base_uri": "https://localhost:8080/"
        },
        "id": "p6y3fTRjAwyn",
        "outputId": "120eb4c0-c74a-4391-b44c-bfb7536845c2"
      },
      "outputs": [
        {
          "output_type": "stream",
          "name": "stdout",
          "text": [
            "3 4 9 0\n",
            "5.0\n"
          ]
        }
      ],
      "source": [
        "import math\n",
        "\n",
        "def YOGENTEIRI(A,B,RADIAN):\n",
        "  return math.sqrt(A**2 + B**2 - 2*A*B*math.cos(RADIAN))\n",
        "\n",
        "A,B,H,M = map(int,input().split())\n",
        "RADIAN = math.radians(H*30 - M*5.5)\n",
        "\n",
        "print(YOGENTEIRI(A,B,RADIAN))"
      ]
    }
  ]
}