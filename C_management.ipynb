{
  "nbformat": 4,
  "nbformat_minor": 0,
  "metadata": {
    "colab": {
      "provenance": [],
      "authorship_tag": "ABX9TyNDGKzkIH41zaUMixaOtqVp",
      "include_colab_link": true
    },
    "kernelspec": {
      "name": "python3",
      "display_name": "Python 3"
    },
    "language_info": {
      "name": "python"
    }
  },
  "cells": [
    {
      "cell_type": "markdown",
      "metadata": {
        "id": "view-in-github",
        "colab_type": "text"
      },
      "source": [
        "<a href=\"https://colab.research.google.com/github/mosaseka/AtCoder/blob/main/C_management.ipynb\" target=\"_parent\"><img src=\"https://colab.research.google.com/assets/colab-badge.svg\" alt=\"Open In Colab\"/></a>"
      ]
    },
    {
      "cell_type": "code",
      "execution_count": null,
      "metadata": {
        "id": "hWV4O05RKvO2"
      },
      "outputs": [],
      "source": [
        "import collections\n",
        "\n",
        "N = int(input())\n",
        "A_LIST = list(map(int,input().split()))\n",
        "A_COUNT = list(collections.Counter(A_LIST).items())\n",
        "PEOPLE_LIST = [0 for i in range(N)]\n",
        "\n",
        "for i in range(len(A_COUNT)):\n",
        "  PEOPLE_LIST[A_COUNT[i][0]-1] = A_COUNT[i][1]\n",
        "\n",
        "for i in range(N):\n",
        "  print(PEOPLE_LIST[i])"
      ]
    }
  ]
}