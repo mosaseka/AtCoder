{
  "nbformat": 4,
  "nbformat_minor": 0,
  "metadata": {
    "colab": {
      "provenance": [],
      "authorship_tag": "ABX9TyOKt/WGbBOIqt5wesAfNh9H",
      "include_colab_link": true
    },
    "kernelspec": {
      "name": "python3",
      "display_name": "Python 3"
    },
    "language_info": {
      "name": "python"
    }
  },
  "cells": [
    {
      "cell_type": "markdown",
      "metadata": {
        "id": "view-in-github",
        "colab_type": "text"
      },
      "source": [
        "<a href=\"https://colab.research.google.com/github/mosaseka/AtCoder/blob/main/B_Job_Assignment.ipynb\" target=\"_parent\"><img src=\"https://colab.research.google.com/assets/colab-badge.svg\" alt=\"Open In Colab\"/></a>"
      ]
    },
    {
      "cell_type": "code",
      "execution_count": null,
      "metadata": {
        "id": "3AnjTuQYinQh"
      },
      "outputs": [],
      "source": [
        "N = int(input())\n",
        "A_LIST = []\n",
        "B_LIST = []\n",
        "ANSWER_LIST = []\n",
        "\n",
        "for i in range(N):\n",
        "  A,B = map(int,input().split())\n",
        "  A_LIST.append(A)\n",
        "  B_LIST.append(B)\n",
        "\n",
        "for i in range(N):\n",
        "  for j in range(N):\n",
        "    if  i == j:\n",
        "      ANSWER_LIST.append(A_LIST[i] + B_LIST[j])\n",
        "    else:\n",
        "      ANSWER_LIST.append(max(A_LIST[i],B_LIST[j]))\n",
        "\n",
        "print(min(ANSWER_LIST))"
      ]
    }
  ]
}