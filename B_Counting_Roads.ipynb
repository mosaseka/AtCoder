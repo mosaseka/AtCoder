{
  "nbformat": 4,
  "nbformat_minor": 0,
  "metadata": {
    "colab": {
      "provenance": [],
      "authorship_tag": "ABX9TyNjzHBbQrV2YXrThHNuCpBD",
      "include_colab_link": true
    },
    "kernelspec": {
      "name": "python3",
      "display_name": "Python 3"
    },
    "language_info": {
      "name": "python"
    }
  },
  "cells": [
    {
      "cell_type": "markdown",
      "metadata": {
        "id": "view-in-github",
        "colab_type": "text"
      },
      "source": [
        "<a href=\"https://colab.research.google.com/github/mosaseka/AtCoder/blob/main/B_Counting_Roads.ipynb\" target=\"_parent\"><img src=\"https://colab.research.google.com/assets/colab-badge.svg\" alt=\"Open In Colab\"/></a>"
      ]
    },
    {
      "cell_type": "code",
      "execution_count": null,
      "metadata": {
        "colab": {
          "base_uri": "https://localhost:8080/"
        },
        "id": "plnC3TbUjYfg",
        "outputId": "00902ec2-b960-4332-a15d-8b96a320a452"
      },
      "outputs": [
        {
          "output_type": "stream",
          "name": "stdout",
          "text": [
            "4 3\n",
            "1 2\n",
            "2 3\n",
            "1 4\n",
            "2\n",
            "2\n",
            "1\n",
            "1\n"
          ]
        }
      ],
      "source": [
        "N,M = map(int,input().split())\n",
        "COUNT_LIST = []\n",
        "A = 0\n",
        "B = 0\n",
        "\n",
        "for i in range(N):\n",
        "  COUNT_LIST.append(0)\n",
        "\n",
        "for i in range(M):\n",
        "  A,B = map(int,input().split())\n",
        "  COUNT_LIST[A-1] += 1\n",
        "  COUNT_LIST[B-1] += 1\n",
        "\n",
        "for i in range(N):\n",
        "  print(COUNT_LIST[i])"
      ]
    }
  ]
}