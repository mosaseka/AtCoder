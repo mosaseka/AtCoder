{
  "nbformat": 4,
  "nbformat_minor": 0,
  "metadata": {
    "colab": {
      "provenance": [],
      "authorship_tag": "ABX9TyP2yRfTgGQSywdURY8fk0ex",
      "include_colab_link": true
    },
    "kernelspec": {
      "name": "python3",
      "display_name": "Python 3"
    },
    "language_info": {
      "name": "python"
    }
  },
  "cells": [
    {
      "cell_type": "markdown",
      "metadata": {
        "id": "view-in-github",
        "colab_type": "text"
      },
      "source": [
        "<a href=\"https://colab.research.google.com/github/mosaseka/AtCoder/blob/main/D_Election_Quick_Report.ipynb\" target=\"_parent\"><img src=\"https://colab.research.google.com/assets/colab-badge.svg\" alt=\"Open In Colab\"/></a>"
      ]
    },
    {
      "cell_type": "code",
      "execution_count": null,
      "metadata": {
        "id": "vng1vA0UTqad"
      },
      "outputs": [],
      "source": [
        "import numpy as np\n",
        "\n",
        "def get_max_index(lst):\n",
        "    arr = np.array(lst)\n",
        "    max_index = np.argmax(arr)\n",
        "    return max_index\n",
        "\n",
        "N,M = map(int,input().split())\n",
        "A_LIST = list(map(int,input().split()))\n",
        "LIST = [0 for i in range(N)]\n",
        "\n",
        "for i in range(M):\n",
        "  LIST[A_LIST[i]-1] += 1\n",
        "  #print(LIST)\n",
        "  print(get_max_index(LIST)+1)"
      ]
    },
    {
      "cell_type": "code",
      "source": [
        "def get_max_index_fast(lst):\n",
        "    max_val = float('-inf')  # 初期値を負の無限大に設定\n",
        "    max_index = -1\n",
        "\n",
        "    for i, val in enumerate(lst):\n",
        "        if val > max_val:\n",
        "            max_val = val\n",
        "            max_index = i\n",
        "\n",
        "    return max_index\n",
        "\n",
        "N,M = map(int,input().split())\n",
        "A_LIST = list(map(int,input().split()))\n",
        "LIST = [0 for i in range(N)]\n",
        "\n",
        "for i in range(M):\n",
        "  LIST[A_LIST[i]-1] += 1\n",
        "  #print(LIST)\n",
        "  print(get_max_index_fast(LIST)+1)"
      ],
      "metadata": {
        "id": "jvCdl7WajTEN"
      },
      "execution_count": null,
      "outputs": []
    },
    {
      "cell_type": "code",
      "source": [
        "import numpy as np\n",
        "\n",
        "def get_max_index(lst):\n",
        "    max_index = 0\n",
        "    max_value = float('-inf')\n",
        "\n",
        "    for i, value in enumerate(lst):\n",
        "        if value > max_value:\n",
        "            max_value = value\n",
        "            max_index = i\n",
        "\n",
        "    return max_index\n",
        "\n",
        "\n",
        "N,M = map(int,input().split())\n",
        "A_LIST = list(map(int,input().split()))\n",
        "LIST = [0 for i in range(N)]\n",
        "\n",
        "for i in range(M):\n",
        "  LIST[A_LIST[i]-1] += 1\n",
        "  #print(LIST)\n",
        "  print(get_max_index(LIST)+1)"
      ],
      "metadata": {
        "id": "G47HNV3hjutf"
      },
      "execution_count": null,
      "outputs": []
    },
    {
      "cell_type": "code",
      "source": [
        "from collections import Counter\n",
        "\n",
        "N,M = map(int,input().split())\n",
        "A_LIST = list(map(int,input().split()))\n",
        "COUNT = []\n",
        "\n",
        "for i in range(M):\n",
        "  COUNT = list(Counter(A_LIST[:i+1]).items())\n",
        "  COUNT.sort()\n",
        "  #print(COUNT)\n",
        "  print((max(COUNT,key=lambda x:x[1]))[0])"
      ],
      "metadata": {
        "id": "Yvted64nkQu9"
      },
      "execution_count": null,
      "outputs": []
    },
    {
      "cell_type": "markdown",
      "source": [
        "次のコードを高速化してください。\n",
        "\n",
        "from collections import Counter\n",
        "\n",
        "N,M = map(int,input().split())\n",
        "A_LIST = list(map(int,input().split()))\n",
        "COUNT = []\n",
        "\n",
        "for i in range(M):\n",
        "  COUNT = list(Counter(A_LIST[:i+1]).items())\n",
        "  COUNT.sort()\n",
        "  #print(COUNT)\n",
        "  print((max(COUNT,key=lambda x:x[1]))[0])"
      ],
      "metadata": {
        "id": "_9EsB7J_mOs9"
      }
    },
    {
      "cell_type": "code",
      "source": [
        "from collections import Counter\n",
        "\n",
        "N,M = map(int, input().split())\n",
        "A_LIST = list(map(int, input().split()))\n",
        "COUNT = Counter()\n",
        "MAX = []\n",
        "\n",
        "for i in range(M):\n",
        "    COUNT[A_LIST[i]] += 1\n",
        "    MAX = max(COUNT.items(), key=lambda x: (x[1], -x[0]))\n",
        "    print(MAX[0])"
      ],
      "metadata": {
        "id": "T4h-79mNmUD5"
      },
      "execution_count": null,
      "outputs": []
    },
    {
      "cell_type": "code",
      "source": [
        "N,M = map(int, input().split())\n",
        "A_LIST = list(map(int, input().split()))\n",
        "LIST = [0] * (N+1)\n",
        "WIN = 0\n",
        "\n",
        "for i in A_LIST:\n",
        "  LIST[i] += 1\n",
        "  if LIST[i] > LIST[WIN] or LIST[i] == LIST[WIN] and i < WIN:\n",
        "    WIN = i\n",
        "  print(WIN)"
      ],
      "metadata": {
        "id": "bNkDXOELpw4q"
      },
      "execution_count": null,
      "outputs": []
    }
  ]
}