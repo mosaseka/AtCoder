{
  "nbformat": 4,
  "nbformat_minor": 0,
  "metadata": {
    "colab": {
      "provenance": [],
      "authorship_tag": "ABX9TyM1uJ72dLUnKAQ3kyQgSQIf",
      "include_colab_link": true
    },
    "kernelspec": {
      "name": "python3",
      "display_name": "Python 3"
    },
    "language_info": {
      "name": "python"
    }
  },
  "cells": [
    {
      "cell_type": "markdown",
      "metadata": {
        "id": "view-in-github",
        "colab_type": "text"
      },
      "source": [
        "<a href=\"https://colab.research.google.com/github/mosaseka/AtCoder/blob/main/C_Previous_Permutation.ipynb\" target=\"_parent\"><img src=\"https://colab.research.google.com/assets/colab-badge.svg\" alt=\"Open In Colab\"/></a>"
      ]
    },
    {
      "cell_type": "code",
      "execution_count": null,
      "metadata": {
        "id": "Vjtu4z44Vty2"
      },
      "outputs": [],
      "source": [
        "from collections import deque\n",
        "\n",
        "N = int(input())\n",
        "P_LIST = list(map(int,input().split()))\n",
        "ANSWER_DEQ = deque()\n",
        "CHECK = 0\n",
        "\n",
        "for i in range(N):\n",
        "  CHECK = P_LIST[-(i+1)]\n",
        "  CHECK -= 1\n",
        "  if CHECK == 0:\n",
        "    CHECK = N\n",
        "  else:\n",
        "    pass\n",
        "  ANSWER_DEQ.appendleft(CHECK)\n",
        "\n",
        "print(*ANSWER_DEQ)"
      ]
    },
    {
      "cell_type": "code",
      "source": [
        "N = int(input())\n",
        "P_LIST = list(map(int,input().split()))\n",
        "NUM_LIST = [i+1 for i in range(N)]\n",
        "ANSWER_LIST = []\n",
        "\n",
        "for i in range(N-1):\n",
        "  if P_LIST[i+1] == 1:\n",
        "    ANSWER_LIST.append(P_LIST[i]-1)\n",
        "    NUM_LIST.remove(P_LIST[i]-1)\n",
        "    while NUM_LIST != []:\n",
        "      ANSWER_LIST.append(NUM_LIST[-1])\n",
        "      NUM_LIST.pop(-1)\n",
        "    print(*ANSWER_LIST)\n",
        "    exit()\n",
        "  else:\n",
        "    ANSWER_LIST.append(P_LIST[i])\n",
        "    NUM_LIST.remove(P_LIST[i])\n",
        "\n",
        "ANSWER_LIST.append(NUM_LIST[0])\n",
        "print(*ANSWER_LIST)"
      ],
      "metadata": {
        "id": "MuovV1GNaQ2E"
      },
      "execution_count": null,
      "outputs": []
    },
    {
      "cell_type": "code",
      "source": [
        "N = int(input())\n",
        "P_LIST = list(map(int,input().split()))\n",
        "NUM_LIST = [i+1 for i in range(N)]\n",
        "ANSWER_LIST = []\n",
        "\n",
        "for i in range(N):\n",
        "  if P_LIST[i] == 1:\n",
        "    ANSWER_LIST.append(NUM_LIST[NUM_LIST.index(P_LIST[i])-1])\n",
        "    NUM_LIST.remove(NUM_LIST[NUM_LIST.index(P_LIST[i])-1])\n",
        "    ANSWER_LIST += sorted(NUM_LIST,reverse=True)\n",
        "    print(*ANSWER_LIST)\n",
        "    exit()\n",
        "  else:\n",
        "    ANSWER_LIST.append(P_LIST[i])\n",
        "    NUM_LIST.remove(P_LIST[i])\n",
        "\n",
        "ANSWER_LIST.append(NUM_LIST[0])\n",
        "print(*ANSWER_LIST)"
      ],
      "metadata": {
        "id": "DrSWwAmgcuhb",
        "outputId": "63955bac-da55-4ec4-bbf9-7e766c0e4ec8",
        "colab": {
          "base_uri": "https://localhost:8080/",
          "height": 308
        }
      },
      "execution_count": null,
      "outputs": [
        {
          "output_type": "stream",
          "name": "stdout",
          "text": [
            "100\n",
            "42 40 69 27 57 92 98 62 13 24 82 83 37 56 16 59 60 30 99 76 55 45 28 79 78 34 50 39 97 19 35 68 6 89 80 85 66 54 36 5 17 22 88 20 1 95 2 71 33 51 4 70 90 73 67 84 25 63 61 15 23 44 7 18 93 87 48 12 52 91 29 94 100 3 14 41 81 21 96 31 32 38 64 47 11 72 74 75 10 53 9 43 49 46 77 86 58 26 8 65\n",
            "42 40 69 27 57 92 98 62 13 24 82 83 37 56 16 59 60 30 99 76 55 45 28 79 78 34 50 39 97 19 35 68 6 89 80 85 66 54 36 5 17 22 88 18 100 96 95 94 93 91 90 87 86 84 81 77 75 74 73 72 71 70 67 65 64 63 61 58 53 52 51 49 48 47 46 44 43 41 38 33 32 31 29 26 25 23 21 20 15 14 12 11 10 9 8 7 4 3 2 1\n"
          ]
        },
        {
          "output_type": "error",
          "ename": "ValueError",
          "evalue": "ignored",
          "traceback": [
            "\u001b[0;31m---------------------------------------------------------------------------\u001b[0m",
            "\u001b[0;31mValueError\u001b[0m                                Traceback (most recent call last)",
            "\u001b[0;32m<ipython-input-2-45fccb7a301f>\u001b[0m in \u001b[0;36m<cell line: 6>\u001b[0;34m()\u001b[0m\n\u001b[1;32m     13\u001b[0m   \u001b[0;32melse\u001b[0m\u001b[0;34m:\u001b[0m\u001b[0;34m\u001b[0m\u001b[0;34m\u001b[0m\u001b[0m\n\u001b[1;32m     14\u001b[0m     \u001b[0mANSWER_LIST\u001b[0m\u001b[0;34m.\u001b[0m\u001b[0mappend\u001b[0m\u001b[0;34m(\u001b[0m\u001b[0mP_LIST\u001b[0m\u001b[0;34m[\u001b[0m\u001b[0mi\u001b[0m\u001b[0;34m]\u001b[0m\u001b[0;34m)\u001b[0m\u001b[0;34m\u001b[0m\u001b[0;34m\u001b[0m\u001b[0m\n\u001b[0;32m---> 15\u001b[0;31m     \u001b[0mNUM_LIST\u001b[0m\u001b[0;34m.\u001b[0m\u001b[0mremove\u001b[0m\u001b[0;34m(\u001b[0m\u001b[0mP_LIST\u001b[0m\u001b[0;34m[\u001b[0m\u001b[0mi\u001b[0m\u001b[0;34m]\u001b[0m\u001b[0;34m)\u001b[0m\u001b[0;34m\u001b[0m\u001b[0;34m\u001b[0m\u001b[0m\n\u001b[0m\u001b[1;32m     16\u001b[0m \u001b[0;34m\u001b[0m\u001b[0m\n\u001b[1;32m     17\u001b[0m \u001b[0mANSWER_LIST\u001b[0m\u001b[0;34m.\u001b[0m\u001b[0mappend\u001b[0m\u001b[0;34m(\u001b[0m\u001b[0mNUM_LIST\u001b[0m\u001b[0;34m[\u001b[0m\u001b[0;36m0\u001b[0m\u001b[0;34m]\u001b[0m\u001b[0;34m)\u001b[0m\u001b[0;34m\u001b[0m\u001b[0;34m\u001b[0m\u001b[0m\n",
            "\u001b[0;31mValueError\u001b[0m: list.remove(x): x not in list"
          ]
        }
      ]
    },
    {
      "cell_type": "code",
      "source": [
        "from math import factorial #x!を計算\n",
        "def index_of_permutation(L):\n",
        "    index = 0  #0-indexed\n",
        "    while len(L)> 1:\n",
        "        a = len([l for l in L if l<L[0]])\n",
        "        index = index + a * factorial(len(L) - 1)\n",
        "        L = L[1:]\n",
        "    return index\n",
        "\n",
        "#実行例\n",
        "#print(index_of_permutation([3,2,4,1])) # 15\n",
        "\n",
        "def kth_perm(n,k):\n",
        "    S = list(range(1,n+1)) #[1,2,...,n]の数字列\n",
        "    rs = []\n",
        "    for i in range(1,n+1):\n",
        "        r = k%i\n",
        "        k //= i\n",
        "        rs.append(r)\n",
        "\n",
        "    ans = []\n",
        "    for r in rs[::-1]:\n",
        "        s = S[r]\n",
        "        ans.append(s)\n",
        "\n",
        "        S = S[:r] + S[r+1:]\n",
        "\n",
        "    return ans\n",
        "\n",
        "N = int(input())\n",
        "P_LIST = list(map(int,input().split()))\n",
        "NUM = index_of_permutation(P_LIST) - 1\n",
        "\n",
        "print(*kth_perm(N,NUM))"
      ],
      "metadata": {
        "id": "sGpRFOxIjqY0"
      },
      "execution_count": null,
      "outputs": []
    }
  ]
}