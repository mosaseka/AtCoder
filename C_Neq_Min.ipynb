{
  "nbformat": 4,
  "nbformat_minor": 0,
  "metadata": {
    "colab": {
      "provenance": [],
      "authorship_tag": "ABX9TyOnubSl7DvKIeNPSgwZUvSs",
      "include_colab_link": true
    },
    "kernelspec": {
      "name": "python3",
      "display_name": "Python 3"
    },
    "language_info": {
      "name": "python"
    }
  },
  "cells": [
    {
      "cell_type": "markdown",
      "metadata": {
        "id": "view-in-github",
        "colab_type": "text"
      },
      "source": [
        "<a href=\"https://colab.research.google.com/github/mosaseka/AtCoder/blob/main/C_Neq_Min.ipynb\" target=\"_parent\"><img src=\"https://colab.research.google.com/assets/colab-badge.svg\" alt=\"Open In Colab\"/></a>"
      ]
    },
    {
      "cell_type": "code",
      "execution_count": null,
      "metadata": {
        "id": "bicZad6XdVET"
      },
      "outputs": [],
      "source": [
        "N = int(input())\n",
        "P_LIST = list(map(int,input().split()))\n",
        "P_SET = set()\n",
        "MIN = 0\n",
        "\n",
        "for i in range(N):\n",
        "  P_SET.add(P_LIST[i])\n",
        "  if MIN not in P_SET:\n",
        "    print(MIN)\n",
        "  else:\n",
        "    MIN = max(P_SET)+1\n",
        "    print(MIN)"
      ]
    },
    {
      "cell_type": "code",
      "source": [
        "N = int(input())\n",
        "P_LIST = list(map(int,input().split()))\n",
        "P_SET = set()\n",
        "MIN = 0\n",
        "\n",
        "for i in range(N):\n",
        "  P_SET.add(P_LIST[i])\n",
        "  if P_LIST[i] == MIN:\n",
        "    for j in range(MIN,N+1):\n",
        "      if j not in P_SET:\n",
        "        MIN = j\n",
        "        break\n",
        "  print(MIN)"
      ],
      "metadata": {
        "id": "WuUkDaOMej_j"
      },
      "execution_count": null,
      "outputs": []
    }
  ]
}