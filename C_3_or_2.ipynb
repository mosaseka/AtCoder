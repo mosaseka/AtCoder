{
  "nbformat": 4,
  "nbformat_minor": 0,
  "metadata": {
    "colab": {
      "provenance": [],
      "authorship_tag": "ABX9TyM1py3r+E3AqzO/zHq8870W",
      "include_colab_link": true
    },
    "kernelspec": {
      "name": "python3",
      "display_name": "Python 3"
    },
    "language_info": {
      "name": "python"
    }
  },
  "cells": [
    {
      "cell_type": "markdown",
      "metadata": {
        "id": "view-in-github",
        "colab_type": "text"
      },
      "source": [
        "<a href=\"https://colab.research.google.com/github/mosaseka/AtCoder/blob/main/C_3_or_2.ipynb\" target=\"_parent\"><img src=\"https://colab.research.google.com/assets/colab-badge.svg\" alt=\"Open In Colab\"/></a>"
      ]
    },
    {
      "cell_type": "code",
      "execution_count": null,
      "metadata": {
        "colab": {
          "base_uri": "https://localhost:8080/"
        },
        "id": "smGi9yclfqfQ",
        "outputId": "ce910519-ef9d-4bbe-c714-ab22efcf7d47"
      },
      "outputs": [
        {
          "output_type": "stream",
          "name": "stdout",
          "text": [
            "3\n",
            "5 2 4\n",
            "[1, 2, 15]\n",
            "[3, 1, 45]\n",
            "[3, 9, 135]\n",
            "2\n"
          ]
        }
      ],
      "source": [
        "N = int(input())\n",
        "A_LIST = list(map(int,input().split()))\n",
        "FLAG = False\n",
        "COUNT = 0\n",
        "\n",
        "while True:\n",
        "  FLAG = False\n",
        "  A_LIST.sort()\n",
        "  for i in range(N):\n",
        "    if A_LIST[-(i+1)] % 2 == 0:\n",
        "      A_LIST[-(i+1)] = A_LIST[-(i+1)] // 2\n",
        "      FLAG = True\n",
        "    else:\n",
        "      A_LIST[-(i+1)] = A_LIST[-(i+1)] * 3\n",
        "  #print(A_LIST)\n",
        "  if FLAG == False:\n",
        "    break\n",
        "  else:\n",
        "    COUNT += 1\n",
        "\n",
        "print(COUNT)"
      ]
    },
    {
      "cell_type": "code",
      "source": [
        "N = int(input())\n",
        "A_LIST = list(map(int,input().split()))\n",
        "ANSWER_LIST = []\n",
        "\n",
        "for i in range(N):\n",
        "  ANSWER_LIST.append(format(A_LIST[i],\"b\")[::-1].find(\"1\"))\n",
        "\n",
        "print(sum(ANSWER_LIST))"
      ],
      "metadata": {
        "colab": {
          "base_uri": "https://localhost:8080/"
        },
        "id": "zZBtDkWyjHf0",
        "outputId": "9d463364-d7a5-4067-8637-43db9a6456fb"
      },
      "execution_count": null,
      "outputs": [
        {
          "output_type": "stream",
          "name": "stdout",
          "text": [
            "3\n",
            "5 2 4\n",
            "3\n"
          ]
        }
      ]
    }
  ]
}