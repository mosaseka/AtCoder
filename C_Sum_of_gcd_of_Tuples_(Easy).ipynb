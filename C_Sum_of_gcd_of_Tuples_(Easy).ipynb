{
  "nbformat": 4,
  "nbformat_minor": 0,
  "metadata": {
    "colab": {
      "provenance": [],
      "authorship_tag": "ABX9TyPOMSqHi5dxxKbDCOlMpZpz",
      "include_colab_link": true
    },
    "kernelspec": {
      "name": "python3",
      "display_name": "Python 3"
    },
    "language_info": {
      "name": "python"
    }
  },
  "cells": [
    {
      "cell_type": "markdown",
      "metadata": {
        "id": "view-in-github",
        "colab_type": "text"
      },
      "source": [
        "<a href=\"https://colab.research.google.com/github/mosaseka/AtCoder/blob/main/C_Sum_of_gcd_of_Tuples_(Easy).ipynb\" target=\"_parent\"><img src=\"https://colab.research.google.com/assets/colab-badge.svg\" alt=\"Open In Colab\"/></a>"
      ]
    },
    {
      "cell_type": "code",
      "execution_count": null,
      "metadata": {
        "id": "y7InbwjjDqF_"
      },
      "outputs": [],
      "source": [
        "import functools\n",
        "import math\n",
        "\n",
        "def my_gcd(*integers):\n",
        "    return functools.reduce(math.gcd, integers)\n",
        "\n",
        "K = int(input())\n",
        "COUNT = 0\n",
        "\n",
        "for i in range(K):\n",
        "  for j in range(K):\n",
        "    for k in range(K):\n",
        "      COUNT += my_gcd(i+1,j+1,k+1)\n",
        "\n",
        "print(COUNT)"
      ]
    },
    {
      "cell_type": "code",
      "source": [],
      "metadata": {
        "id": "_Boezt7dE7d8"
      },
      "execution_count": null,
      "outputs": []
    }
  ]
}