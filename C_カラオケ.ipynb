{
  "nbformat": 4,
  "nbformat_minor": 0,
  "metadata": {
    "colab": {
      "provenance": [],
      "authorship_tag": "ABX9TyO1DDTbQ2/qMjK21ITdSp7N",
      "include_colab_link": true
    },
    "kernelspec": {
      "name": "python3",
      "display_name": "Python 3"
    },
    "language_info": {
      "name": "python"
    }
  },
  "cells": [
    {
      "cell_type": "markdown",
      "metadata": {
        "id": "view-in-github",
        "colab_type": "text"
      },
      "source": [
        "<a href=\"https://colab.research.google.com/github/mosaseka/AtCoder/blob/main/C_%E3%82%AB%E3%83%A9%E3%82%AA%E3%82%B1.ipynb\" target=\"_parent\"><img src=\"https://colab.research.google.com/assets/colab-badge.svg\" alt=\"Open In Colab\"/></a>"
      ]
    },
    {
      "cell_type": "code",
      "execution_count": null,
      "metadata": {
        "id": "HfKNEwAl_5Py"
      },
      "outputs": [],
      "source": [
        "import itertools\n",
        "from collections import deque\n",
        "\n",
        "N,M = map(int,input().split())\n",
        "A_LIST = [list(map(int,input().split())) for i in range(N)]\n",
        "NUM_LIST = [i+1 for i in range(M)]\n",
        "POINT = 0\n",
        "ANSWER_DEQ = deque()\n",
        "\n",
        "#print(A_LIST)\n",
        "\n",
        "for i in itertools.combinations(NUM_LIST,2):\n",
        "  #print(i)\n",
        "  POINT = 0\n",
        "  for j in range(N):\n",
        "    POINT += max(A_LIST[j][i[0]-1],A_LIST[j][i[1]-1])\n",
        "  ANSWER_DEQ.append(POINT)\n",
        "\n",
        "print(max(ANSWER_DEQ))"
      ]
    }
  ]
}