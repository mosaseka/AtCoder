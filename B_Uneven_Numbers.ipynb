{
  "nbformat": 4,
  "nbformat_minor": 0,
  "metadata": {
    "colab": {
      "provenance": [],
      "authorship_tag": "ABX9TyMQm7Dbvbmw2AS39xsubrbm",
      "include_colab_link": true
    },
    "kernelspec": {
      "name": "python3",
      "display_name": "Python 3"
    },
    "language_info": {
      "name": "python"
    }
  },
  "cells": [
    {
      "cell_type": "markdown",
      "metadata": {
        "id": "view-in-github",
        "colab_type": "text"
      },
      "source": [
        "<a href=\"https://colab.research.google.com/github/mosaseka/AtCoder/blob/main/B_Uneven_Numbers.ipynb\" target=\"_parent\"><img src=\"https://colab.research.google.com/assets/colab-badge.svg\" alt=\"Open In Colab\"/></a>"
      ]
    },
    {
      "cell_type": "code",
      "execution_count": null,
      "metadata": {
        "id": "4CWtaL_E3kWP"
      },
      "outputs": [],
      "source": [
        "N = int(input())\n",
        "LIST = []\n",
        "COUNT = 0\n",
        "for i in range(N):\n",
        "  LIST.append(N-i)\n",
        "\n",
        "for i in range(len(LIST)):\n",
        "  if int(len(str(LIST[i]))) % 2 == 1:\n",
        "    COUNT = COUNT + 1\n",
        "  else:\n",
        "    pass\n",
        "\n",
        "print(COUNT)"
      ]
    }
  ]
}