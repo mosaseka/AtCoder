{
  "nbformat": 4,
  "nbformat_minor": 0,
  "metadata": {
    "colab": {
      "provenance": [],
      "authorship_tag": "ABX9TyMzz39DLJMDHrY4zzXhiUuJ",
      "include_colab_link": true
    },
    "kernelspec": {
      "name": "python3",
      "display_name": "Python 3"
    },
    "language_info": {
      "name": "python"
    }
  },
  "cells": [
    {
      "cell_type": "markdown",
      "metadata": {
        "id": "view-in-github",
        "colab_type": "text"
      },
      "source": [
        "<a href=\"https://colab.research.google.com/github/mosaseka/AtCoder/blob/main/B_Savings.ipynb\" target=\"_parent\"><img src=\"https://colab.research.google.com/assets/colab-badge.svg\" alt=\"Open In Colab\"/></a>"
      ]
    },
    {
      "cell_type": "code",
      "execution_count": null,
      "metadata": {
        "id": "k9fLZfGBjIXJ"
      },
      "outputs": [],
      "source": [
        "def SIGMA(K):\n",
        "  return K*(K+1)//2\n",
        "\n",
        "N = int(input())\n",
        "COUNT = 0\n",
        "\n",
        "while SIGMA(COUNT) < N:\n",
        "  COUNT += 1\n",
        "\n",
        "print(COUNT)"
      ]
    }
  ]
}