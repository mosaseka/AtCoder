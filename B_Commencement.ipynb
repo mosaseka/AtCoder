{
  "nbformat": 4,
  "nbformat_minor": 0,
  "metadata": {
    "colab": {
      "provenance": [],
      "authorship_tag": "ABX9TyM7RwAEOoFJ4mnhII0hDtXG",
      "include_colab_link": true
    },
    "kernelspec": {
      "name": "python3",
      "display_name": "Python 3"
    },
    "language_info": {
      "name": "python"
    }
  },
  "cells": [
    {
      "cell_type": "markdown",
      "metadata": {
        "id": "view-in-github",
        "colab_type": "text"
      },
      "source": [
        "<a href=\"https://colab.research.google.com/github/mosaseka/AtCoder/blob/main/B_Commencement.ipynb\" target=\"_parent\"><img src=\"https://colab.research.google.com/assets/colab-badge.svg\" alt=\"Open In Colab\"/></a>"
      ]
    },
    {
      "cell_type": "code",
      "execution_count": null,
      "metadata": {
        "id": "unIs6LB8B5nt"
      },
      "outputs": [],
      "source": [
        "S = str(input())\n",
        "LIST = [0 for i in range(26)]\n",
        "\n",
        "for i in range(len(S)):\n",
        "  LIST[ord(S[i])-97] += 1\n",
        "\n",
        "for i in range(max(LIST)):\n",
        "  COUNT = 0\n",
        "  for j in range(26):\n",
        "    if LIST[j] == i+1:\n",
        "      COUNT += 1\n",
        "  if COUNT == 0 or COUNT == 2:\n",
        "    pass\n",
        "  else:\n",
        "    print(\"No\")\n",
        "    exit()\n",
        "\n",
        "print(\"Yes\")"
      ]
    }
  ]
}