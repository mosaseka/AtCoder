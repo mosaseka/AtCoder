{
  "nbformat": 4,
  "nbformat_minor": 0,
  "metadata": {
    "colab": {
      "provenance": [],
      "authorship_tag": "ABX9TyP6DZfor1u5MRpUT/Sm15zS",
      "include_colab_link": true
    },
    "kernelspec": {
      "name": "python3",
      "display_name": "Python 3"
    },
    "language_info": {
      "name": "python"
    }
  },
  "cells": [
    {
      "cell_type": "markdown",
      "metadata": {
        "id": "view-in-github",
        "colab_type": "text"
      },
      "source": [
        "<a href=\"https://colab.research.google.com/github/mosaseka/AtCoder/blob/main/A_Addition_and_Subtraction_Easy.ipynb\" target=\"_parent\"><img src=\"https://colab.research.google.com/assets/colab-badge.svg\" alt=\"Open In Colab\"/></a>"
      ]
    },
    {
      "cell_type": "code",
      "execution_count": null,
      "metadata": {
        "id": "DdL6HWc6kUal"
      },
      "outputs": [],
      "source": [
        "A,OP,B = map(str,input().split())\n",
        "A = int(A)\n",
        "B = int(B)\n",
        "\n",
        "if OP == \"+\":\n",
        "  print(A+B)\n",
        "else:\n",
        "  print(A-B)"
      ]
    }
  ]
}