{
  "nbformat": 4,
  "nbformat_minor": 0,
  "metadata": {
    "colab": {
      "provenance": [],
      "authorship_tag": "ABX9TyM1xEJrslGdtvAJuTS5xKcx",
      "include_colab_link": true
    },
    "kernelspec": {
      "name": "python3",
      "display_name": "Python 3"
    },
    "language_info": {
      "name": "python"
    }
  },
  "cells": [
    {
      "cell_type": "markdown",
      "metadata": {
        "id": "view-in-github",
        "colab_type": "text"
      },
      "source": [
        "<a href=\"https://colab.research.google.com/github/mosaseka/AtCoder/blob/main/D_Loong_and_Takahashi.ipynb\" target=\"_parent\"><img src=\"https://colab.research.google.com/assets/colab-badge.svg\" alt=\"Open In Colab\"/></a>"
      ]
    },
    {
      "cell_type": "code",
      "execution_count": null,
      "metadata": {
        "id": "_K73rRgvSJcU"
      },
      "outputs": [],
      "source": [
        "N = int(input())\n",
        "ANSWER = [[0 for i in range(N)] for j in range(N)]\n",
        "COUNT = 1\n",
        "\n",
        "for i in range(N):\n",
        "  ANSWER[0][i] = COUNT\n",
        "  COUNT += 1\n",
        "\n",
        "for i in range(N-1):\n",
        "  ANSWER[i+1][-1] = COUNT\n",
        "  COUNT += 1\n",
        "\n",
        "for i in range(N-1):\n",
        "  ANSWER[-1][-(i+1)] = COUNT\n",
        "  COUNT += 1\n",
        "\n",
        "for i in range(N-1):\n",
        ""
      ]
    },
    {
      "cell_type": "code",
      "source": [
        "N = int(input())\n",
        "ANSWER = [[0 for i in range(N)] for j in range(N)]\n",
        "COUNT = 1\n",
        "\n",
        "for i in range(1,(N**2) + 1):\n",
        "  if i <= N:\n",
        "    for j in range(N):\n",
        "      ANSWER[0][j] = i\n",
        "  elif i <= 2*N"
      ],
      "metadata": {
        "id": "vbsQUybz7YoA"
      },
      "execution_count": null,
      "outputs": []
    },
    {
      "cell_type": "code",
      "source": [
        "def create_spiral_matrix(n):\n",
        "    # n x nの行列を作成し、すべての要素を0で初期化\n",
        "    matrix = [[0] * n for _ in range(n)]\n",
        "\n",
        "    # 初期値の設定\n",
        "    num = 1\n",
        "    row, col = 0, 0\n",
        "    directions = [(0, 1), (1, 0), (0, -1), (-1, 0)]  # 右、下、左、上の順\n",
        "\n",
        "    for _ in range(1, n * n + 1):\n",
        "        matrix[row][col] = num\n",
        "        num += 1\n",
        "\n",
        "        # 次に進む方向を確認し、次の座標を計算\n",
        "        next_row, next_col = row + directions[0][0], col + directions[0][1]\n",
        "\n",
        "        # らせんの内側にいるか、行列の境界を越えていないかを確認\n",
        "        if 0 <= next_row < n and 0 <= next_col < n and matrix[next_row][next_col] == 0:\n",
        "            row, col = next_row, next_col\n",
        "        else:\n",
        "            # らせんの内側にいないか、行列の境界を越えている場合は方向を変更\n",
        "            directions.append(directions.pop(0))\n",
        "            row, col = row + directions[0][0], col + directions[0][1]\n",
        "\n",
        "    return matrix\n",
        "\n",
        "N = int(input())\n",
        "spiral_matrix = create_spiral_matrix(N)\n",
        "\n",
        "spiral_matrix[N//2][N//2] = \"T\"\n",
        "\n",
        "for i in spiral_matrix:\n",
        "  print(*i)"
      ],
      "metadata": {
        "colab": {
          "base_uri": "https://localhost:8080/"
        },
        "id": "J-XoNx5M8oh6",
        "outputId": "17c4e523-91b1-4383-f5f3-7a3cfb4b3132"
      },
      "execution_count": 4,
      "outputs": [
        {
          "output_type": "stream",
          "name": "stdout",
          "text": [
            "5\n",
            "[1, 2, 3, 4, 5]\n",
            "[16, 17, 18, 19, 6]\n",
            "[15, 24, 'T', 20, 7]\n",
            "[14, 23, 22, 21, 8]\n",
            "[13, 12, 11, 10, 9]\n"
          ]
        }
      ]
    }
  ]
}