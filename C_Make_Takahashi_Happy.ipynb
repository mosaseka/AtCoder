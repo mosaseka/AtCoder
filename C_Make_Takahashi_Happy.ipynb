{
  "nbformat": 4,
  "nbformat_minor": 0,
  "metadata": {
    "colab": {
      "provenance": [],
      "authorship_tag": "ABX9TyPrEtJsHvqj/TLm4SzMi67G",
      "include_colab_link": true
    },
    "kernelspec": {
      "name": "python3",
      "display_name": "Python 3"
    },
    "language_info": {
      "name": "python"
    }
  },
  "cells": [
    {
      "cell_type": "markdown",
      "metadata": {
        "id": "view-in-github",
        "colab_type": "text"
      },
      "source": [
        "<a href=\"https://colab.research.google.com/github/mosaseka/AtCoder/blob/main/C_Make_Takahashi_Happy.ipynb\" target=\"_parent\"><img src=\"https://colab.research.google.com/assets/colab-badge.svg\" alt=\"Open In Colab\"/></a>"
      ]
    },
    {
      "cell_type": "code",
      "execution_count": null,
      "metadata": {
        "colab": {
          "base_uri": "https://localhost:8080/"
        },
        "id": "eD-FuSbklBPR",
        "outputId": "fcee27b2-4502-4efc-902b-8c45b1ffddac"
      },
      "outputs": [
        {
          "output_type": "stream",
          "name": "stdout",
          "text": [
            "3 3\n",
            "3 2 2\n",
            "2 1 3\n",
            "1 5 4\n",
            "3\n"
          ]
        }
      ],
      "source": [
        "import itertools\n",
        "\n",
        "H,W = map(int,input().split())\n",
        "MOVE_LIST = []\n",
        "CHECK_LIST = []\n",
        "NUM_LIST = []\n",
        "X = 0\n",
        "Y = 0\n",
        "HAPPY_LIST = []\n",
        "COUNT = 0\n",
        "\n",
        "for i in range(H):\n",
        "  NUM_LIST.append(list(map(int,input().split())))\n",
        "\n",
        "#print(NUM_LIST)\n",
        "\n",
        "for i in range(H-1):\n",
        "  MOVE_LIST.append(\"R\")\n",
        "\n",
        "for i in range(W-1):\n",
        "  MOVE_LIST.append(\"D\")\n",
        "\n",
        "for i in itertools.permutations(MOVE_LIST):\n",
        "  CHECK_LIST.append(i)\n",
        "\n",
        "CHECK_LIST = list(set(CHECK_LIST))\n",
        "\n",
        "#print(CHECK_LIST)\n",
        "\n",
        "for i in range(len(CHECK_LIST)):\n",
        "  X = 1\n",
        "  Y = 1\n",
        "  HAPPY_LIST = [NUM_LIST[Y-1][X-1]]\n",
        "  for j in range(len(MOVE_LIST)):\n",
        "    if CHECK_LIST[i][j] == \"D\":\n",
        "      Y += 1\n",
        "      HAPPY_LIST.append(NUM_LIST[Y-1][X-1])\n",
        "    else:\n",
        "      X += 1\n",
        "      HAPPY_LIST.append(NUM_LIST[Y-1][X-1])\n",
        "  #print(HAPPY_LIST)\n",
        "  if len(HAPPY_LIST) == len(set(HAPPY_LIST)):\n",
        "      COUNT += 1\n",
        "\n",
        "print(COUNT)"
      ]
    },
    {
      "cell_type": "code",
      "source": [],
      "metadata": {
        "id": "UQ_47bk-0Qvx"
      },
      "execution_count": null,
      "outputs": []
    },
    {
      "cell_type": "code",
      "source": [
        "#ChatGPTが作成\n",
        "\n",
        "H, W = map(int, input().split())\n",
        "A = [list(map(int, input().split())) for _ in range(H)]\n",
        "\n",
        "# DPテーブルを初期化\n",
        "dp = [[0] * W for _ in range(H)]\n",
        "dp[0][0] = 1\n",
        "\n",
        "# 左端と上端はそれぞれ独立に処理\n",
        "for i in range(1, W):\n",
        "    if A[0][i] != A[0][i-1]:\n",
        "        dp[0][i] = 1\n",
        "for i in range(1, H):\n",
        "    if A[i][0] != A[i-1][0]:\n",
        "        dp[i][0] = 1\n",
        "\n",
        "# 動的計画法による解法\n",
        "for i in range(1, H):\n",
        "    for j in range(1, W):\n",
        "        # 上と左から来た場合を考慮\n",
        "        if A[i][j] != A[i-1][j]:\n",
        "            dp[i][j] += dp[i-1][j]\n",
        "        if A[i][j] != A[i][j-1]:\n",
        "            dp[i][j] += dp[i][j-1]\n",
        "        dp[i][j] %= 10**9 + 7\n",
        "\n",
        "print(dp[-1][-1])"
      ],
      "metadata": {
        "id": "-gyuaps7tnn5"
      },
      "execution_count": null,
      "outputs": []
    }
  ]
}