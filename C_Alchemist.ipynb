{
  "nbformat": 4,
  "nbformat_minor": 0,
  "metadata": {
    "colab": {
      "provenance": [],
      "authorship_tag": "ABX9TyNpthCyJlOEo6FzIZI/0jcl",
      "include_colab_link": true
    },
    "kernelspec": {
      "name": "python3",
      "display_name": "Python 3"
    },
    "language_info": {
      "name": "python"
    }
  },
  "cells": [
    {
      "cell_type": "markdown",
      "metadata": {
        "id": "view-in-github",
        "colab_type": "text"
      },
      "source": [
        "<a href=\"https://colab.research.google.com/github/mosaseka/AtCoder/blob/main/C_Alchemist.ipynb\" target=\"_parent\"><img src=\"https://colab.research.google.com/assets/colab-badge.svg\" alt=\"Open In Colab\"/></a>"
      ]
    },
    {
      "cell_type": "code",
      "execution_count": null,
      "metadata": {
        "colab": {
          "base_uri": "https://localhost:8080/"
        },
        "id": "e3oS7L_tQdj1",
        "outputId": "a5c89955-6bd1-4147-da01-f632bd85ece3"
      },
      "outputs": [
        {
          "output_type": "stream",
          "name": "stdout",
          "text": [
            "3\n",
            "500 300 200\n",
            "375.0\n"
          ]
        }
      ],
      "source": [
        "N = int(input())\n",
        "V_LIST = list(map(int,input().split()))\n",
        "NUM = 0\n",
        "\n",
        "for i in range(N-1):\n",
        "  V_LIST.sort()\n",
        "  V_LIST[1] = (V_LIST[0] + V_LIST[1]) / 2\n",
        "  V_LIST.pop(0)\n",
        "\n",
        "print(*V_LIST)"
      ]
    }
  ]
}