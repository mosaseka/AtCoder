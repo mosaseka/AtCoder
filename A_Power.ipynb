{
  "nbformat": 4,
  "nbformat_minor": 0,
  "metadata": {
    "colab": {
      "provenance": [],
      "authorship_tag": "ABX9TyOYtuHHINSPXT2IiDxTV/2l",
      "include_colab_link": true
    },
    "kernelspec": {
      "name": "python3",
      "display_name": "Python 3"
    },
    "language_info": {
      "name": "python"
    }
  },
  "cells": [
    {
      "cell_type": "markdown",
      "metadata": {
        "id": "view-in-github",
        "colab_type": "text"
      },
      "source": [
        "<a href=\"https://colab.research.google.com/github/mosaseka/AtCoder/blob/main/A_Power.ipynb\" target=\"_parent\"><img src=\"https://colab.research.google.com/assets/colab-badge.svg\" alt=\"Open In Colab\"/></a>"
      ]
    },
    {
      "cell_type": "code",
      "execution_count": null,
      "metadata": {
        "id": "p7FbckN59Ape",
        "colab": {
          "base_uri": "https://localhost:8080/"
        },
        "outputId": "c808fa45-b82b-4c2e-ed2d-288f58780291"
      },
      "outputs": [
        {
          "output_type": "stream",
          "name": "stdout",
          "text": [
            "4 3\n",
            "64\n"
          ]
        }
      ],
      "source": [
        "A,B = map(int,input().split())\n",
        "\n",
        "print(A**B)"
      ]
    }
  ]
}