{
  "nbformat": 4,
  "nbformat_minor": 0,
  "metadata": {
    "colab": {
      "provenance": [],
      "authorship_tag": "ABX9TyMr3coJFhtsupUwGPD0PBjz",
      "include_colab_link": true
    },
    "kernelspec": {
      "name": "python3",
      "display_name": "Python 3"
    },
    "language_info": {
      "name": "python"
    }
  },
  "cells": [
    {
      "cell_type": "markdown",
      "metadata": {
        "id": "view-in-github",
        "colab_type": "text"
      },
      "source": [
        "<a href=\"https://colab.research.google.com/github/mosaseka/AtCoder/blob/main/C_Fair_Candy_Distribution.ipynb\" target=\"_parent\"><img src=\"https://colab.research.google.com/assets/colab-badge.svg\" alt=\"Open In Colab\"/></a>"
      ]
    },
    {
      "cell_type": "code",
      "execution_count": null,
      "metadata": {
        "id": "DGEME4JirM1d"
      },
      "outputs": [],
      "source": [
        "N,K = map(int,input().split())\n",
        "A_LIST = list(map(int,input().split()))\n",
        "LIST = [[0,A_LIST[i],i] for i in range(N)]\n",
        "ALL = 0\n",
        "\n",
        "LIST.sort(key=lambda x:x[1])\n",
        "\n",
        "ALL,K = K//N,K%N\n",
        "\n",
        "for i in range(K):\n",
        "  LIST[i][0] += 1\n",
        "\n",
        "LIST.sort(key=lambda x:x[2])\n",
        "\n",
        "for i in range(N):\n",
        "  print(LIST[i][0] + ALL)"
      ]
    }
  ]
}