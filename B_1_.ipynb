{
  "nbformat": 4,
  "nbformat_minor": 0,
  "metadata": {
    "colab": {
      "provenance": [],
      "authorship_tag": "ABX9TyPcD+vDg0Wpyoru8cnnpqdc",
      "include_colab_link": true
    },
    "kernelspec": {
      "name": "python3",
      "display_name": "Python 3"
    },
    "language_info": {
      "name": "python"
    }
  },
  "cells": [
    {
      "cell_type": "markdown",
      "metadata": {
        "id": "view-in-github",
        "colab_type": "text"
      },
      "source": [
        "<a href=\"https://colab.research.google.com/github/mosaseka/AtCoder/blob/main/B_1_.ipynb\" target=\"_parent\"><img src=\"https://colab.research.google.com/assets/colab-badge.svg\" alt=\"Open In Colab\"/></a>"
      ]
    },
    {
      "cell_type": "code",
      "execution_count": null,
      "metadata": {
        "id": "850ZRW38-XlD"
      },
      "outputs": [],
      "source": [
        "X = int(input())\n",
        "BANK = 100\n",
        "YEAR = 0\n",
        "\n",
        "while True:\n",
        "  if BANK >= X:\n",
        "    print(YEAR)\n",
        "    exit()\n",
        "  else:\n",
        "    BANK += BANK // 100\n",
        "    YEAR += 1"
      ]
    }
  ]
}