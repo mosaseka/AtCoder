{
  "nbformat": 4,
  "nbformat_minor": 0,
  "metadata": {
    "colab": {
      "provenance": [],
      "authorship_tag": "ABX9TyN143/E/Ezgtrxig8g0fPPH",
      "include_colab_link": true
    },
    "kernelspec": {
      "name": "python3",
      "display_name": "Python 3"
    },
    "language_info": {
      "name": "python"
    }
  },
  "cells": [
    {
      "cell_type": "markdown",
      "metadata": {
        "id": "view-in-github",
        "colab_type": "text"
      },
      "source": [
        "<a href=\"https://colab.research.google.com/github/mosaseka/AtCoder/blob/main/B_Resale.ipynb\" target=\"_parent\"><img src=\"https://colab.research.google.com/assets/colab-badge.svg\" alt=\"Open In Colab\"/></a>"
      ]
    },
    {
      "cell_type": "code",
      "execution_count": null,
      "metadata": {
        "id": "v-TjYbsFfIs6"
      },
      "outputs": [],
      "source": [
        "N = int(input())\n",
        "V_LIST = list(map(int,input().split()))\n",
        "C_LIST = list(map(int,input().split()))\n",
        "ANSWER = 0\n",
        "CHECK = 0\n",
        "\n",
        "for i in range(N):\n",
        "  CHECK = V_LIST[i]-C_LIST[i]\n",
        "  if CHECK > 0:\n",
        "    ANSWER += CHECK\n",
        "\n",
        "print(ANSWER)"
      ]
    }
  ]
}