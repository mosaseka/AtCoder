{
  "nbformat": 4,
  "nbformat_minor": 0,
  "metadata": {
    "colab": {
      "provenance": [],
      "authorship_tag": "ABX9TyPkf4slrD+G6Ku2g/53+yoe",
      "include_colab_link": true
    },
    "kernelspec": {
      "name": "python3",
      "display_name": "Python 3"
    },
    "language_info": {
      "name": "python"
    }
  },
  "cells": [
    {
      "cell_type": "markdown",
      "metadata": {
        "id": "view-in-github",
        "colab_type": "text"
      },
      "source": [
        "<a href=\"https://colab.research.google.com/github/mosaseka/AtCoder/blob/main/B_Vertical_Reading.ipynb\" target=\"_parent\"><img src=\"https://colab.research.google.com/assets/colab-badge.svg\" alt=\"Open In Colab\"/></a>"
      ]
    },
    {
      "cell_type": "code",
      "execution_count": null,
      "metadata": {
        "id": "2qGmPtdHZ2-S"
      },
      "outputs": [],
      "source": [
        "S,T = map(str,input().split())\n",
        "ANSWER = \"No\"\n",
        "STR = \"\"\n",
        "\n",
        "for i in range(1,len(S)):\n",
        "  for j in range(i):\n",
        "    STR = \"\"\n",
        "    for k in range(j,len(S),i):\n",
        "      STR += S[k]\n",
        "      if STR == T:\n",
        "        ANSWER = \"Yes\"\n",
        "\n",
        "print(ANSWER)"
      ]
    },
    {
      "cell_type": "code",
      "source": [
        "S,T = map(str,input().split())\n",
        "\n",
        "for w in range(1,len(S)):\n",
        "  for c in range(w):\n",
        "    LIST = []\n",
        "    for i in range(c,len(S),w):\n",
        "      LIST.append(S[i])\n",
        "    if \"\".join(LIST) == T:\n",
        "      print(\"Yes\")\n",
        "      exit()\n",
        "print(\"No\")"
      ],
      "metadata": {
        "id": "L5XUxQ1cc3Zh"
      },
      "execution_count": null,
      "outputs": []
    }
  ]
}