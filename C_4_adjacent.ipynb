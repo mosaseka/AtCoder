{
  "nbformat": 4,
  "nbformat_minor": 0,
  "metadata": {
    "colab": {
      "provenance": [],
      "authorship_tag": "ABX9TyPPkkTvL3k1ow1a1xlFMCbS",
      "include_colab_link": true
    },
    "kernelspec": {
      "name": "python3",
      "display_name": "Python 3"
    },
    "language_info": {
      "name": "python"
    }
  },
  "cells": [
    {
      "cell_type": "markdown",
      "metadata": {
        "id": "view-in-github",
        "colab_type": "text"
      },
      "source": [
        "<a href=\"https://colab.research.google.com/github/mosaseka/AtCoder/blob/main/C_4_adjacent.ipynb\" target=\"_parent\"><img src=\"https://colab.research.google.com/assets/colab-badge.svg\" alt=\"Open In Colab\"/></a>"
      ]
    },
    {
      "cell_type": "code",
      "execution_count": null,
      "metadata": {
        "id": "U1l2pRK8Nf-p"
      },
      "outputs": [],
      "source": [
        "N = int(input())\n",
        "A_LIST = list(map(int,input().split()))\n",
        "FOUR_COUNT = 0\n",
        "ODD_COUNT = 0\n",
        "EVEN_COUNT = 0\n",
        "\n",
        "for i in range(N):\n",
        "  if A_LIST[i]%4 == 0:\n",
        "    FOUR_COUNT += 1\n",
        "  elif A_LIST[i]%4 != 0 and A_LIST[i]%2 != 0:\n",
        "    ODD_COUNT += 1\n",
        "  elif A_LIST[i]%4 != 0 and A_LIST[i]%2 == 0:\n",
        "    EVEN_COUNT += 1\n",
        "\n",
        "if EVEN_COUNT == 0:\n",
        "  if ODD_COUNT <= FOUR_COUNT+1:\n",
        "    print(\"Yes\")\n",
        "  else:\n",
        "    print(\"No\")\n",
        "else:\n",
        "  if ODD_COUNT <= FOUR_COUNT:\n",
        "    print(\"Yes\")\n",
        "  else:\n",
        "    print(\"No\")"
      ]
    }
  ]
}