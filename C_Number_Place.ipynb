{
  "nbformat": 4,
  "nbformat_minor": 0,
  "metadata": {
    "colab": {
      "provenance": [],
      "authorship_tag": "ABX9TyM4kWpJK5mF5DuVVm2u3rpJ",
      "include_colab_link": true
    },
    "kernelspec": {
      "name": "python3",
      "display_name": "Python 3"
    },
    "language_info": {
      "name": "python"
    }
  },
  "cells": [
    {
      "cell_type": "markdown",
      "metadata": {
        "id": "view-in-github",
        "colab_type": "text"
      },
      "source": [
        "<a href=\"https://colab.research.google.com/github/mosaseka/AtCoder/blob/main/C_Number_Place.ipynb\" target=\"_parent\"><img src=\"https://colab.research.google.com/assets/colab-badge.svg\" alt=\"Open In Colab\"/></a>"
      ]
    },
    {
      "cell_type": "code",
      "execution_count": null,
      "metadata": {
        "id": "tchv0fEiNbTW"
      },
      "outputs": [],
      "source": [
        "import numpy as np\n",
        "\n",
        "A_LIST = [list(map(int,input().split())) for i in range(9)]\n",
        "CHECK = A_LIST.copy()\n",
        "LIST = [[] for i in range(9)]\n",
        "\n",
        "CHECK = np.rot90(CHECK,1)\n",
        "\n",
        "for i in range(9):\n",
        "  if len(set(A_LIST[i])) == 9:\n",
        "    pass\n",
        "  else:\n",
        "    print(\"No\")\n",
        "    exit()\n",
        "\n",
        "for i in range(9):\n",
        "  if len(set(CHECK[i])) == 9:\n",
        "    pass\n",
        "  else:\n",
        "    print(\"No\")\n",
        "    exit()\n",
        "\n",
        "for i in range(9):\n",
        "  for j in range(9):\n",
        "    if (0 <= i and i <= 2) and (0 <= j and j <= 2):\n",
        "      LIST[0].append(A_LIST[i][j])\n",
        "    elif (0 <= i and i <= 2) and (3 <= j and j <= 5):\n",
        "      LIST[1].append(A_LIST[i][j])\n",
        "    elif (0 <= i and i <= 2) and (6 <= j and j <= 8):\n",
        "      LIST[2].append(A_LIST[i][j])\n",
        "    elif (3 <= i and i <= 5) and (0 <= j and j <= 2):\n",
        "      LIST[3].append(A_LIST[i][j])\n",
        "    elif (3 <= i and i <= 5) and (3 <= j and j <= 5):\n",
        "      LIST[4].append(A_LIST[i][j])\n",
        "    elif (3 <= i and i <= 5) and (6 <= j and j <= 8):\n",
        "      LIST[5].append(A_LIST[i][j])\n",
        "    elif (6 <= i and i <= 8) and (0 <= j and j <= 2):\n",
        "      LIST[6].append(A_LIST[i][j])\n",
        "    elif (6 <= i and i <= 8) and (3 <= j and j <= 5):\n",
        "      LIST[7].append(A_LIST[i][j])\n",
        "    elif (6 <= i and i <= 8) and (6 <= j and j <= 8):\n",
        "      LIST[8].append(A_LIST[i][j])\n",
        "\n",
        "#print(A_LIST)\n",
        "\n",
        "for i in range(9):\n",
        "  if len(set(LIST[i])) == 9:\n",
        "    pass\n",
        "  else:\n",
        "    print(\"No\")\n",
        "    exit()\n",
        "\n",
        "print(\"Yes\")"
      ]
    }
  ]
}