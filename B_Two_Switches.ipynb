{
  "nbformat": 4,
  "nbformat_minor": 0,
  "metadata": {
    "colab": {
      "provenance": [],
      "authorship_tag": "ABX9TyP6gt+ZrSycdU74JC6R2NCd",
      "include_colab_link": true
    },
    "kernelspec": {
      "name": "python3",
      "display_name": "Python 3"
    },
    "language_info": {
      "name": "python"
    }
  },
  "cells": [
    {
      "cell_type": "markdown",
      "metadata": {
        "id": "view-in-github",
        "colab_type": "text"
      },
      "source": [
        "<a href=\"https://colab.research.google.com/github/mosaseka/AtCoder/blob/main/B_Two_Switches.ipynb\" target=\"_parent\"><img src=\"https://colab.research.google.com/assets/colab-badge.svg\" alt=\"Open In Colab\"/></a>"
      ]
    },
    {
      "cell_type": "code",
      "execution_count": null,
      "metadata": {
        "id": "HoHtbM3tQBti"
      },
      "outputs": [],
      "source": [
        "A,B,C,D = map(int,input().split())\n",
        "AB_SET = set([i for i in range(A,B)])\n",
        "CD_SET = set([i for i in range(C,D)])\n",
        "COUNT = 0\n",
        "\n",
        "#print(AB_SET)\n",
        "#print(CD_SET)\n",
        "\n",
        "for i in range(101):\n",
        "  if i in AB_SET and i in CD_SET:\n",
        "    COUNT += 1\n",
        "\n",
        "print(COUNT)"
      ]
    }
  ]
}