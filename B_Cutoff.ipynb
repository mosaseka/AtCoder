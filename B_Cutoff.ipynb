{
  "nbformat": 4,
  "nbformat_minor": 0,
  "metadata": {
    "colab": {
      "provenance": [],
      "authorship_tag": "ABX9TyNxP8IErxuIzUBn8UKGUwV4",
      "include_colab_link": true
    },
    "kernelspec": {
      "name": "python3",
      "display_name": "Python 3"
    },
    "language_info": {
      "name": "python"
    }
  },
  "cells": [
    {
      "cell_type": "markdown",
      "metadata": {
        "id": "view-in-github",
        "colab_type": "text"
      },
      "source": [
        "<a href=\"https://colab.research.google.com/github/mosaseka/AtCoder/blob/main/B_Cutoff.ipynb\" target=\"_parent\"><img src=\"https://colab.research.google.com/assets/colab-badge.svg\" alt=\"Open In Colab\"/></a>"
      ]
    },
    {
      "cell_type": "code",
      "execution_count": null,
      "metadata": {
        "id": "yqsRwa0-5dEV"
      },
      "outputs": [],
      "source": [
        "N,X = map(int,input().split())\n",
        "A_LIST = list(map(int,input().split()))\n",
        "CHECK = []\n",
        "\n",
        "for i in range(101):\n",
        "  CHECK = A_LIST + [i]\n",
        "  CHECK.sort()\n",
        "  #print(CHECK)\n",
        "  #print(CHECK[1:-1])\n",
        "  if sum(CHECK[1:-1]) >= X:\n",
        "      print(i)\n",
        "      exit()\n",
        "\n",
        "print(-1)"
      ]
    }
  ]
}