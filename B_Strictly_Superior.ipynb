{
  "nbformat": 4,
  "nbformat_minor": 0,
  "metadata": {
    "colab": {
      "provenance": [],
      "authorship_tag": "ABX9TyMfngRevCu3l7hW/As+FaJN",
      "include_colab_link": true
    },
    "kernelspec": {
      "name": "python3",
      "display_name": "Python 3"
    },
    "language_info": {
      "name": "python"
    }
  },
  "cells": [
    {
      "cell_type": "markdown",
      "metadata": {
        "id": "view-in-github",
        "colab_type": "text"
      },
      "source": [
        "<a href=\"https://colab.research.google.com/github/mosaseka/AtCoder/blob/main/B_Strictly_Superior.ipynb\" target=\"_parent\"><img src=\"https://colab.research.google.com/assets/colab-badge.svg\" alt=\"Open In Colab\"/></a>"
      ]
    },
    {
      "cell_type": "code",
      "execution_count": null,
      "metadata": {
        "id": "6wOjHsjGa25A"
      },
      "outputs": [],
      "source": [
        "N,M = map(int,input().split())\n",
        "P_LIST = []\n",
        "C_LIST = []\n",
        "F_LIST = []\n",
        "LIST = []\n",
        "ALPHA = True\n",
        "BETA = True\n",
        "\n",
        "for i in range(N):\n",
        "  LIST = list(map(int,input().split()))\n",
        "  P_LIST.append(LIST[0])\n",
        "  C_LIST.append(LIST[1])\n",
        "  F_LIST.append(LIST[2:])\n",
        "\n",
        "#print(F_LIST)\n",
        "\n",
        "for i in range(N):\n",
        "  for j in range(N):\n",
        "    if i == j:\n",
        "      continue\n",
        "    ALPHA = True\n",
        "    BETA = True\n",
        "    if P_LIST[i] >= P_LIST[j]:\n",
        "      for k in range(len(F_LIST[i])):\n",
        "        if F_LIST[i][k] not in set(F_LIST[j]):\n",
        "          ALPHA = False\n",
        "          break\n",
        "      if P_LIST[i] > P_LIST[j] or len(F_LIST[j]) > len(F_LIST[i]):\n",
        "        pass\n",
        "      else:\n",
        "        BETA = False\n",
        "      if ALPHA and BETA:\n",
        "        print(\"Yes\")\n",
        "        exit()\n",
        "\n",
        "print(\"No\")"
      ]
    }
  ]
}