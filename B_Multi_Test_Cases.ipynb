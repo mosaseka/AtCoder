{
  "nbformat": 4,
  "nbformat_minor": 0,
  "metadata": {
    "colab": {
      "provenance": [],
      "authorship_tag": "ABX9TyMVvhyNt7Xq3rUa2MO9JrWu",
      "include_colab_link": true
    },
    "kernelspec": {
      "name": "python3",
      "display_name": "Python 3"
    },
    "language_info": {
      "name": "python"
    }
  },
  "cells": [
    {
      "cell_type": "markdown",
      "metadata": {
        "id": "view-in-github",
        "colab_type": "text"
      },
      "source": [
        "<a href=\"https://colab.research.google.com/github/mosaseka/AtCoder/blob/main/B_Multi_Test_Cases.ipynb\" target=\"_parent\"><img src=\"https://colab.research.google.com/assets/colab-badge.svg\" alt=\"Open In Colab\"/></a>"
      ]
    },
    {
      "cell_type": "code",
      "execution_count": null,
      "metadata": {
        "colab": {
          "base_uri": "https://localhost:8080/"
        },
        "id": "3d7KLFcjNJf9",
        "outputId": "4d3278a7-85bf-4a6f-f967-f7a7eba3dadc"
      },
      "outputs": [
        {
          "output_type": "stream",
          "name": "stdout",
          "text": [
            "4\n",
            "3\n",
            "1 2 3\n",
            "2\n",
            "2\n",
            "20 23\n",
            "1\n",
            "10\n",
            "6 10 4 1 5 9 8 6 5 1\n",
            "5\n",
            "1\n",
            "1000000000\n",
            "0\n"
          ]
        }
      ],
      "source": [
        "T = int(input())\n",
        "for i in range(T):\n",
        "  N = int(input())\n",
        "  COUNT = 0\n",
        "  A_LIST = []\n",
        "  A_LIST = list(map(int,input().split()))\n",
        "  for j in range(N):\n",
        "    if A_LIST[j] % 2 != 0:\n",
        "      COUNT = COUNT + 1\n",
        "    else:\n",
        "      pass\n",
        "  print(COUNT)"
      ]
    }
  ]
}