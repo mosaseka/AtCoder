{
  "nbformat": 4,
  "nbformat_minor": 0,
  "metadata": {
    "colab": {
      "provenance": [],
      "authorship_tag": "ABX9TyM0O/dBSNu4HUQ/SXVfWmh7",
      "include_colab_link": true
    },
    "kernelspec": {
      "name": "python3",
      "display_name": "Python 3"
    },
    "language_info": {
      "name": "python"
    }
  },
  "cells": [
    {
      "cell_type": "markdown",
      "metadata": {
        "id": "view-in-github",
        "colab_type": "text"
      },
      "source": [
        "<a href=\"https://colab.research.google.com/github/mosaseka/AtCoder/blob/main/B_N%E9%87%8D%E4%B8%B8.ipynb\" target=\"_parent\"><img src=\"https://colab.research.google.com/assets/colab-badge.svg\" alt=\"Open In Colab\"/></a>"
      ]
    },
    {
      "cell_type": "code",
      "execution_count": null,
      "metadata": {
        "colab": {
          "base_uri": "https://localhost:8080/"
        },
        "id": "WmAFoiTP9wnD",
        "outputId": "548a084a-2ab5-4fc7-8356-574a165feb6c"
      },
      "outputs": [
        {
          "output_type": "stream",
          "name": "stdout",
          "text": [
            "6\n",
            "15\n",
            "2\n",
            "3\n",
            "7\n",
            "6\n",
            "9\n",
            "508.93800988154646\n"
          ]
        }
      ],
      "source": [
        "import math\n",
        "\n",
        "N = int(input())\n",
        "RADIUS_LIST = []\n",
        "SUM = 0\n",
        "\n",
        "for i in range(N):\n",
        "  RADIUS_LIST.append(int(input()))\n",
        "\n",
        "RADIUS_LIST.sort()\n",
        "RADIUS_LIST.reverse()\n",
        "\n",
        "for i in range(N):\n",
        "  if i % 2 == 0:\n",
        "    SUM = SUM + RADIUS_LIST[i]**2\n",
        "  else:\n",
        "    SUM = SUM - RADIUS_LIST[i]**2\n",
        "\n",
        "print(SUM * math.pi)"
      ]
    }
  ]
}