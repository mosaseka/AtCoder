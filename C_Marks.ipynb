{
  "nbformat": 4,
  "nbformat_minor": 0,
  "metadata": {
    "colab": {
      "provenance": [],
      "authorship_tag": "ABX9TyNoEtnwampiKHEEATAUZBA6",
      "include_colab_link": true
    },
    "kernelspec": {
      "name": "python3",
      "display_name": "Python 3"
    },
    "language_info": {
      "name": "python"
    }
  },
  "cells": [
    {
      "cell_type": "markdown",
      "metadata": {
        "id": "view-in-github",
        "colab_type": "text"
      },
      "source": [
        "<a href=\"https://colab.research.google.com/github/mosaseka/AtCoder/blob/main/C_Marks.ipynb\" target=\"_parent\"><img src=\"https://colab.research.google.com/assets/colab-badge.svg\" alt=\"Open In Colab\"/></a>"
      ]
    },
    {
      "cell_type": "code",
      "execution_count": null,
      "metadata": {
        "id": "vCXrOi8uaDRG"
      },
      "outputs": [],
      "source": [
        "from collections import deque\n",
        "import numpy as np\n",
        "\n",
        "N,K = map(int,input().split())\n",
        "A_LIST = list(map(int,input().split()))\n",
        "SCORE_DEQ = deque()\n",
        "CHECK = []\n",
        "\n",
        "for i in range(N):\n",
        "  CHECK = A_LIST[i:K+i]\n",
        "  if len(CHECK) == K:\n",
        "    SCORE_DEQ.append(np.prod(CHECK))\n",
        "  else:\n",
        "    break\n",
        "\n",
        "#print(SCORE_DEQ)\n",
        "\n",
        "for i in range(len(SCORE_DEQ)):\n",
        "  if i == 0:\n",
        "    continue\n",
        "  else:\n",
        "    if SCORE_DEQ[i] > SCORE_DEQ[i-1]:\n",
        "      print(\"Yes\")\n",
        "    else:\n",
        "      print(\"No\")"
      ]
    },
    {
      "cell_type": "code",
      "source": [
        "N,K = map(int,input().split())\n",
        "A_LIST = list(map(int,input().split()))\n",
        "\n",
        "for i in range(N-K):\n",
        "  if A_LIST[K+i] > A_LIST[i]:\n",
        "    print(\"Yes\")\n",
        "  else:\n",
        "    print(\"No\")"
      ],
      "metadata": {
        "id": "gFj7_HquWyp8"
      },
      "execution_count": null,
      "outputs": []
    }
  ]
}