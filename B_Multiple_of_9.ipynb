{
  "nbformat": 4,
  "nbformat_minor": 0,
  "metadata": {
    "colab": {
      "provenance": [],
      "authorship_tag": "ABX9TyOLnR88pmOiA8csTSfOKm8L",
      "include_colab_link": true
    },
    "kernelspec": {
      "name": "python3",
      "display_name": "Python 3"
    },
    "language_info": {
      "name": "python"
    }
  },
  "cells": [
    {
      "cell_type": "markdown",
      "metadata": {
        "id": "view-in-github",
        "colab_type": "text"
      },
      "source": [
        "<a href=\"https://colab.research.google.com/github/mosaseka/AtCoder/blob/main/B_Multiple_of_9.ipynb\" target=\"_parent\"><img src=\"https://colab.research.google.com/assets/colab-badge.svg\" alt=\"Open In Colab\"/></a>"
      ]
    },
    {
      "cell_type": "code",
      "execution_count": null,
      "metadata": {
        "id": "1rZvDxPe3cXs"
      },
      "outputs": [],
      "source": [
        "N = str(input())\n",
        "CHECK = 0\n",
        "\n",
        "for i in range(len(N)):\n",
        "  CHECK += int(N[i])\n",
        "\n",
        "if CHECK % 9 == 0:\n",
        "  print(\"Yes\")\n",
        "else:\n",
        "  print(\"No\")"
      ]
    }
  ]
}