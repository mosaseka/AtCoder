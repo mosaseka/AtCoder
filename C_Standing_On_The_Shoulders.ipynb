{
  "nbformat": 4,
  "nbformat_minor": 0,
  "metadata": {
    "colab": {
      "provenance": [],
      "authorship_tag": "ABX9TyPtDLXnQ8ccUhKsd1Rg8O/P",
      "include_colab_link": true
    },
    "kernelspec": {
      "name": "python3",
      "display_name": "Python 3"
    },
    "language_info": {
      "name": "python"
    }
  },
  "cells": [
    {
      "cell_type": "markdown",
      "metadata": {
        "id": "view-in-github",
        "colab_type": "text"
      },
      "source": [
        "<a href=\"https://colab.research.google.com/github/mosaseka/AtCoder/blob/main/C_Standing_On_The_Shoulders.ipynb\" target=\"_parent\"><img src=\"https://colab.research.google.com/assets/colab-badge.svg\" alt=\"Open In Colab\"/></a>"
      ]
    },
    {
      "cell_type": "code",
      "execution_count": null,
      "metadata": {
        "id": "IyYSwSfd7Q8N"
      },
      "outputs": [],
      "source": [
        "N = int(input())\n",
        "LIST = [list(map(int,input().split())) for i in range(N)]\n",
        "ANSWER = 0\n",
        "\n",
        "LIST.sort(key=lambda x:x[0],reverse=True)\n",
        "\n",
        "for i in range(N):\n",
        "  if i != N-1:\n",
        "    ANSWER += LIST[i][0]\n",
        "  else:\n",
        "    ANSWER += LIST[i][1]\n",
        "\n",
        "print(ANSWER)"
      ]
    },
    {
      "cell_type": "code",
      "source": [
        "N = int(input())\n",
        "LIST = [list(map(int,input().split())) for i in range(N)]\n",
        "ANSWER = 0\n",
        "\n",
        "LIST.sort(key=lambda x:(x[0],x[1]),reverse=True)\n",
        "#print(LIST)\n",
        "\n",
        "for i in range(N):\n",
        "  if i != N-1:\n",
        "    ANSWER += LIST[i][0]\n",
        "  else:\n",
        "    ANSWER += LIST[i][1]\n",
        "\n",
        "print(ANSWER)"
      ],
      "metadata": {
        "id": "4BqRgc94hVRQ"
      },
      "execution_count": null,
      "outputs": []
    },
    {
      "cell_type": "code",
      "source": [
        "N = int(input())\n",
        "LIST = [list(map(int,input().split())) for i in range(N)]\n",
        "ANSWER = 0\n",
        "\n",
        "for i in range(N):\n",
        "  LIST[i] += [LIST[i][1] - LIST[i][0]]\n",
        "\n",
        "LIST.sort(key=lambda x:x[2])\n",
        "\n",
        "for i in range(N):\n",
        "  if i != N-1:\n",
        "    ANSWER += LIST[i][0]\n",
        "  else:\n",
        "    ANSWER += LIST[i][1]\n",
        "\n",
        "print(ANSWER)"
      ],
      "metadata": {
        "id": "MhHif64QiyMe"
      },
      "execution_count": null,
      "outputs": []
    }
  ]
}