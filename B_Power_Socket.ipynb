{
  "nbformat": 4,
  "nbformat_minor": 0,
  "metadata": {
    "colab": {
      "provenance": [],
      "authorship_tag": "ABX9TyPYk6/CJjh16DVFh8mOCRUF",
      "include_colab_link": true
    },
    "kernelspec": {
      "name": "python3",
      "display_name": "Python 3"
    },
    "language_info": {
      "name": "python"
    }
  },
  "cells": [
    {
      "cell_type": "markdown",
      "metadata": {
        "id": "view-in-github",
        "colab_type": "text"
      },
      "source": [
        "<a href=\"https://colab.research.google.com/github/mosaseka/AtCoder/blob/main/B_Power_Socket.ipynb\" target=\"_parent\"><img src=\"https://colab.research.google.com/assets/colab-badge.svg\" alt=\"Open In Colab\"/></a>"
      ]
    },
    {
      "cell_type": "code",
      "execution_count": null,
      "metadata": {
        "colab": {
          "base_uri": "https://localhost:8080/"
        },
        "id": "ef2QLNEzYymt",
        "outputId": "c5ab4105-a1b8-4f7c-d41c-e414075c5d3c"
      },
      "outputs": [
        {
          "output_type": "stream",
          "name": "stdout",
          "text": [
            "4 10\n",
            "3\n"
          ]
        }
      ],
      "source": [
        "A,B = map(int,input().split())\n",
        "OUTLET_COUNT = 1\n",
        "NUM_COUNT = 0\n",
        "\n",
        "while OUTLET_COUNT < B:\n",
        "  OUTLET_COUNT = OUTLET_COUNT - 1 + A\n",
        "  NUM_COUNT += 1\n",
        "\n",
        "print(NUM_COUNT)"
      ]
    }
  ]
}