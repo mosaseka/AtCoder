{
  "nbformat": 4,
  "nbformat_minor": 0,
  "metadata": {
    "colab": {
      "provenance": [],
      "authorship_tag": "ABX9TyOX08BswBVJTVaYMj4A4YQZ",
      "include_colab_link": true
    },
    "kernelspec": {
      "name": "python3",
      "display_name": "Python 3"
    },
    "language_info": {
      "name": "python"
    }
  },
  "cells": [
    {
      "cell_type": "markdown",
      "metadata": {
        "id": "view-in-github",
        "colab_type": "text"
      },
      "source": [
        "<a href=\"https://colab.research.google.com/github/mosaseka/AtCoder/blob/main/B_Digital_Gifts.ipynb\" target=\"_parent\"><img src=\"https://colab.research.google.com/assets/colab-badge.svg\" alt=\"Open In Colab\"/></a>"
      ]
    },
    {
      "cell_type": "code",
      "execution_count": null,
      "metadata": {
        "id": "lsmlEiOUbfs7"
      },
      "outputs": [],
      "source": [
        "N = int(input())\n",
        "ANSWER = 0\n",
        "X = \"\"\n",
        "U = \"\"\n",
        "\n",
        "for i in range(N):\n",
        "  X,U = map(str,input().split())\n",
        "  if U == \"JPY\":\n",
        "    ANSWER += float(X)\n",
        "  else:\n",
        "    ANSWER += float(X) * 380000\n",
        "\n",
        "print(ANSWER)"
      ]
    }
  ]
}