{
  "nbformat": 4,
  "nbformat_minor": 0,
  "metadata": {
    "colab": {
      "provenance": [],
      "authorship_tag": "ABX9TyPGMueC9Gc2wCvFWUYSnEsz",
      "include_colab_link": true
    },
    "kernelspec": {
      "name": "python3",
      "display_name": "Python 3"
    },
    "language_info": {
      "name": "python"
    }
  },
  "cells": [
    {
      "cell_type": "markdown",
      "metadata": {
        "id": "view-in-github",
        "colab_type": "text"
      },
      "source": [
        "<a href=\"https://colab.research.google.com/github/mosaseka/AtCoder/blob/main/B_Buffet.ipynb\" target=\"_parent\"><img src=\"https://colab.research.google.com/assets/colab-badge.svg\" alt=\"Open In Colab\"/></a>"
      ]
    },
    {
      "cell_type": "code",
      "execution_count": null,
      "metadata": {
        "id": "JZfo12aEByUH"
      },
      "outputs": [],
      "source": [
        "N = int(input())\n",
        "A_LIST = list(map(int,input().split()))\n",
        "B_LIST = list(map(int,input().split()))\n",
        "C_LIST = list(map(int,input().split()))\n",
        "ANSWER = 0\n",
        "\n",
        "for i in range(N):\n",
        "  ANSWER += B_LIST[A_LIST[i]-1]\n",
        "  if i != 0:\n",
        "    if A_LIST[i-1] + 1 == A_LIST[i]:\n",
        "      ANSWER += C_LIST[A_LIST[i-1]-1]\n",
        "\n",
        "print(ANSWER)"
      ]
    }
  ]
}