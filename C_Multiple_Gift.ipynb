{
  "nbformat": 4,
  "nbformat_minor": 0,
  "metadata": {
    "colab": {
      "provenance": [],
      "authorship_tag": "ABX9TyMz8T2A6y7uHGkNQh6fLlC1",
      "include_colab_link": true
    },
    "kernelspec": {
      "name": "python3",
      "display_name": "Python 3"
    },
    "language_info": {
      "name": "python"
    }
  },
  "cells": [
    {
      "cell_type": "markdown",
      "metadata": {
        "id": "view-in-github",
        "colab_type": "text"
      },
      "source": [
        "<a href=\"https://colab.research.google.com/github/mosaseka/AtCoder/blob/main/C_Multiple_Gift.ipynb\" target=\"_parent\"><img src=\"https://colab.research.google.com/assets/colab-badge.svg\" alt=\"Open In Colab\"/></a>"
      ]
    },
    {
      "cell_type": "code",
      "execution_count": null,
      "metadata": {
        "colab": {
          "base_uri": "https://localhost:8080/"
        },
        "id": "pL2FLlTHzd3n",
        "outputId": "d31809a3-9d03-4a70-ed3e-b69225e72754"
      },
      "outputs": [
        {
          "output_type": "stream",
          "name": "stdout",
          "text": [
            "314159265 358979323846264338\n",
            "31\n"
          ]
        }
      ],
      "source": [
        "X,Y = map(int,input().split())\n",
        "ANSWER = 0\n",
        "\n",
        "while X <= Y:\n",
        "  ANSWER += 1\n",
        "  X *= 2\n",
        "\n",
        "print(ANSWER)"
      ]
    }
  ]
}