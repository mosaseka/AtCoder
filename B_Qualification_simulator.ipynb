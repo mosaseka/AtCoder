{
  "nbformat": 4,
  "nbformat_minor": 0,
  "metadata": {
    "colab": {
      "provenance": [],
      "authorship_tag": "ABX9TyN7au6r87uu8B2ZSgoWApRX",
      "include_colab_link": true
    },
    "kernelspec": {
      "name": "python3",
      "display_name": "Python 3"
    },
    "language_info": {
      "name": "python"
    }
  },
  "cells": [
    {
      "cell_type": "markdown",
      "metadata": {
        "id": "view-in-github",
        "colab_type": "text"
      },
      "source": [
        "<a href=\"https://colab.research.google.com/github/mosaseka/AtCoder/blob/main/B_Qualification_simulator.ipynb\" target=\"_parent\"><img src=\"https://colab.research.google.com/assets/colab-badge.svg\" alt=\"Open In Colab\"/></a>"
      ]
    },
    {
      "cell_type": "code",
      "execution_count": null,
      "metadata": {
        "colab": {
          "base_uri": "https://localhost:8080/"
        },
        "id": "ndQJTlnWWRvF",
        "outputId": "be478d70-f679-462a-8950-ee145b0b73fe"
      },
      "outputs": [
        {
          "output_type": "stream",
          "name": "stdout",
          "text": [
            "10 2 3\n",
            "abccabaabb\n",
            "Yes\n",
            "Yes\n",
            "No\n",
            "No\n",
            "Yes\n",
            "Yes\n",
            "Yes\n",
            "No\n",
            "No\n",
            "No\n"
          ]
        }
      ],
      "source": [
        "N,A,B = map(int,input().split())\n",
        "S_LIST = list(map(str,input()))\n",
        "INTERNAL = 0\n",
        "OVERSEA = 0\n",
        "\n",
        "\n",
        "for i in range(N):\n",
        "  if S_LIST[i] == \"a\" and INTERNAL+OVERSEA < A+B:\n",
        "    INTERNAL += 1\n",
        "    print(\"Yes\")\n",
        "  elif S_LIST[i] == \"b\" and INTERNAL+OVERSEA < A+B and OVERSEA < B:\n",
        "    OVERSEA += 1\n",
        "    print(\"Yes\")\n",
        "  else:\n",
        "    print(\"No\")"
      ]
    }
  ]
}