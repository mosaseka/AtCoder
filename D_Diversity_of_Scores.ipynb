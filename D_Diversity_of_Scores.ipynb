{
  "nbformat": 4,
  "nbformat_minor": 0,
  "metadata": {
    "colab": {
      "provenance": [],
      "authorship_tag": "ABX9TyPRlfDSOfK0wBeBSWfoDHBh",
      "include_colab_link": true
    },
    "kernelspec": {
      "name": "python3",
      "display_name": "Python 3"
    },
    "language_info": {
      "name": "python"
    }
  },
  "cells": [
    {
      "cell_type": "markdown",
      "metadata": {
        "id": "view-in-github",
        "colab_type": "text"
      },
      "source": [
        "<a href=\"https://colab.research.google.com/github/mosaseka/AtCoder/blob/main/D_Diversity_of_Scores.ipynb\" target=\"_parent\"><img src=\"https://colab.research.google.com/assets/colab-badge.svg\" alt=\"Open In Colab\"/></a>"
      ]
    },
    {
      "cell_type": "code",
      "execution_count": null,
      "metadata": {
        "id": "co4xTuxZ1T5g"
      },
      "outputs": [],
      "source": [
        "N,T = map(int,input().split())\n",
        "A = 0\n",
        "B = 0\n",
        "LIST = [0]*N\n",
        "\n",
        "for i in range(T):\n",
        "  A,B = map(int,input().split())\n",
        "  LIST[A-1] += B\n",
        "  print(len(set(LIST)))"
      ]
    },
    {
      "cell_type": "code",
      "source": [
        "from collections import Counter\n",
        "\n",
        "N,T = map(int,input().split())\n",
        "A = 0\n",
        "B = 0\n",
        "LIST = [0]*N\n",
        "\n",
        "for i in range(T):\n",
        "  A,B = map(int,input().split())\n",
        "  LIST[A-1] += B\n",
        "  print(len(Counter(LIST)))"
      ],
      "metadata": {
        "id": "5MqIPzigFTTd"
      },
      "execution_count": null,
      "outputs": []
    },
    {
      "cell_type": "code",
      "source": [
        "from collections import defaultdict\n",
        "\n",
        "N,T = map(int,input().split())\n",
        "A = 0\n",
        "B = 0\n",
        "LIST = [0]*(N+1)\n",
        "DICT = defaultdict(int)\n",
        "ANSWER = 1\n",
        "\n",
        "DICT[0] = N\n",
        "\n",
        "for i in range(T):\n",
        "  A,B = map(int,input().split())\n",
        "  if DICT[LIST[A]] == 1:\n",
        "    ANSWER -= 1\n",
        "  DICT[LIST[A]] -= 1\n",
        "  LIST[A] += B\n",
        "  if DICT[LIST[A]] == 0:\n",
        "    ANSWER += 1\n",
        "  DICT[LIST[A]] += 1\n",
        "  print(ANSWER)"
      ],
      "metadata": {
        "id": "-9xWYs6QZg0W"
      },
      "execution_count": null,
      "outputs": []
    }
  ]
}