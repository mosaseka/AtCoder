{
  "nbformat": 4,
  "nbformat_minor": 0,
  "metadata": {
    "colab": {
      "provenance": [],
      "authorship_tag": "ABX9TyPBeDQu51L8HyMJBL5Kgk6e",
      "include_colab_link": true
    },
    "kernelspec": {
      "name": "python3",
      "display_name": "Python 3"
    },
    "language_info": {
      "name": "python"
    }
  },
  "cells": [
    {
      "cell_type": "markdown",
      "metadata": {
        "id": "view-in-github",
        "colab_type": "text"
      },
      "source": [
        "<a href=\"https://colab.research.google.com/github/mosaseka/AtCoder/blob/main/B_Minimize_Abs_1.ipynb\" target=\"_parent\"><img src=\"https://colab.research.google.com/assets/colab-badge.svg\" alt=\"Open In Colab\"/></a>"
      ]
    },
    {
      "cell_type": "code",
      "execution_count": null,
      "metadata": {
        "id": "0CNFGtgLT5zs"
      },
      "outputs": [],
      "source": [
        "from collections import deque\n",
        "\n",
        "N,L,R = map(int,input().split())\n",
        "A_LIST = list(map(int,input().split()))\n",
        "ANSWER = deque()\n",
        "\n",
        "for i in range(N):\n",
        "  if A_LIST[i] <= L:\n",
        "    ANSWER.append(L)\n",
        "  else:\n",
        "    ANSWER.append(R)\n",
        "\n",
        "ANSWER = list(ANSWER)\n",
        "\n",
        "print(*ANSWER)"
      ]
    },
    {
      "cell_type": "code",
      "source": [
        "from collections import deque\n",
        "\n",
        "N,L,R = map(int,input().split())\n",
        "A_LIST = list(map(int,input().split()))\n",
        "ANSWER = deque()\n",
        "\n",
        "for i in range(N):\n",
        "  if A_LIST[i] < L:\n",
        "    ANSWER.append(L)\n",
        "  elif A_LIST[i] > R:\n",
        "    ANSWER.append(R)\n",
        "  else:\n",
        "    ANSWER.append(A_LIST[i])\n",
        "\n",
        "ANSWER = list(ANSWER)\n",
        "\n",
        "print(*ANSWER)"
      ],
      "metadata": {
        "id": "srzwcQj7lJ6F"
      },
      "execution_count": null,
      "outputs": []
    }
  ]
}