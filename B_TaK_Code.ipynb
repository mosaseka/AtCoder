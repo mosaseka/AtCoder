{
  "nbformat": 4,
  "nbformat_minor": 0,
  "metadata": {
    "colab": {
      "provenance": [],
      "authorship_tag": "ABX9TyP9yvM0g3GokLRAmWxl/G8g",
      "include_colab_link": true
    },
    "kernelspec": {
      "name": "python3",
      "display_name": "Python 3"
    },
    "language_info": {
      "name": "python"
    }
  },
  "cells": [
    {
      "cell_type": "markdown",
      "metadata": {
        "id": "view-in-github",
        "colab_type": "text"
      },
      "source": [
        "<a href=\"https://colab.research.google.com/github/mosaseka/AtCoder/blob/main/B_TaK_Code.ipynb\" target=\"_parent\"><img src=\"https://colab.research.google.com/assets/colab-badge.svg\" alt=\"Open In Colab\"/></a>"
      ]
    },
    {
      "cell_type": "code",
      "execution_count": null,
      "metadata": {
        "id": "JG_h7U1zOEDJ"
      },
      "outputs": [],
      "source": [
        "N,M = map(int,input().split())\n",
        "S_LIST = [list(map(str,input())) for i in range(N)]\n",
        "CHECK = []\n",
        "FLAG = True\n",
        "\n",
        "#print(S_LIST)\n",
        "\n",
        "for i in range(N-9+1):\n",
        "  for j in range(M-9+1):\n",
        "    CHECK = S_LIST[i:i+9]\n",
        "    FLAG = True\n",
        "    #print(CHECK)\n",
        "    for k in range(len(CHECK)):\n",
        "      CHECK[k] = CHECK[k][j:j+9]\n",
        "    #print(CHECK)\n",
        "    #print(CHECK[0][0:4])\n",
        "    #print(CHECK[5][5:])\n",
        "    if CHECK[0][0:4] == [\"#\",\"#\",\"#\",\".\"]:\n",
        "      if CHECK[1][0:4] == [\"#\",\"#\",\"#\",\".\"]:\n",
        "        if CHECK[2][0:4] == [\"#\",\"#\",\"#\",\".\"]:\n",
        "          if CHECK[3][0:4] == [\".\",\".\",\".\",\".\"]:\n",
        "            if CHECK[5][5:] == [\".\",\".\",\".\",\".\"]:\n",
        "              if CHECK[6][5:] == [\".\",\"#\",\"#\",\"#\"]:\n",
        "                if CHECK[7][5:] == [\".\",\"#\",\"#\",\"#\"]:\n",
        "                  if CHECK[8][5:] == [\".\",\"#\",\"#\",\"#\"]:\n",
        "                    print(i+1,j+1)"
      ]
    },
    {
      "cell_type": "markdown",
      "source": [
        "N-9+1"
      ],
      "metadata": {
        "id": "92QZgFZDpKxz"
      }
    }
  ]
}