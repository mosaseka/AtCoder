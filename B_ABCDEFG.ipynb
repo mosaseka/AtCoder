{
  "nbformat": 4,
  "nbformat_minor": 0,
  "metadata": {
    "colab": {
      "provenance": [],
      "authorship_tag": "ABX9TyPX67KLuRFoyhvn9n8k2eb2",
      "include_colab_link": true
    },
    "kernelspec": {
      "name": "python3",
      "display_name": "Python 3"
    },
    "language_info": {
      "name": "python"
    }
  },
  "cells": [
    {
      "cell_type": "markdown",
      "metadata": {
        "id": "view-in-github",
        "colab_type": "text"
      },
      "source": [
        "<a href=\"https://colab.research.google.com/github/mosaseka/AtCoder/blob/main/B_ABCDEFG.ipynb\" target=\"_parent\"><img src=\"https://colab.research.google.com/assets/colab-badge.svg\" alt=\"Open In Colab\"/></a>"
      ]
    },
    {
      "cell_type": "code",
      "execution_count": null,
      "metadata": {
        "id": "YXKQvVD1Ms7e"
      },
      "outputs": [],
      "source": [
        "P,Q = map(str,input().split())\n",
        "A = 0\n",
        "B = 3\n",
        "C = 4\n",
        "D = 8\n",
        "E = 9\n",
        "F = 14\n",
        "G = 23\n",
        "ALPHA = 0\n",
        "BETA = 0\n",
        "\n",
        "if P == \"A\":\n",
        "  ALPHA = A\n",
        "elif P == \"B\":\n",
        "  ALPHA = B\n",
        "elif P == \"C\":\n",
        "  ALPHA = C\n",
        "elif P == \"D\":\n",
        "  ALPHA = D\n",
        "elif P == \"E\":\n",
        "  ALPHA = E\n",
        "elif P == \"F\":\n",
        "  ALPHA = F\n",
        "elif P == \"G\":\n",
        "  ALPHA = G\n",
        "\n",
        "if Q == \"A\":\n",
        "  BETA = A\n",
        "elif Q == \"B\":\n",
        "  BETA = B\n",
        "elif Q == \"C\":\n",
        "  BETA = C\n",
        "elif Q == \"D\":\n",
        "  BETA = D\n",
        "elif Q == \"E\":\n",
        "  BETA = E\n",
        "elif Q == \"F\":\n",
        "  BETA = F\n",
        "elif Q == \"G\":\n",
        "  BETA = G\n",
        "\n",
        "print(abs(ALPHA-BETA))"
      ]
    }
  ]
}