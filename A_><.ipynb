{
  "nbformat": 4,
  "nbformat_minor": 0,
  "metadata": {
    "colab": {
      "provenance": [],
      "authorship_tag": "ABX9TyNkl9giKW+/NTMr90CPnrTz",
      "include_colab_link": true
    },
    "kernelspec": {
      "name": "python3",
      "display_name": "Python 3"
    },
    "language_info": {
      "name": "python"
    }
  },
  "cells": [
    {
      "cell_type": "markdown",
      "metadata": {
        "id": "view-in-github",
        "colab_type": "text"
      },
      "source": [
        "<a href=\"https://colab.research.google.com/github/mosaseka/AtCoder/blob/main/A_%3E%3C.ipynb\" target=\"_parent\"><img src=\"https://colab.research.google.com/assets/colab-badge.svg\" alt=\"Open In Colab\"/></a>"
      ]
    },
    {
      "cell_type": "code",
      "execution_count": null,
      "metadata": {
        "colab": {
          "base_uri": "https://localhost:8080/"
        },
        "id": "x5LPC7rqdeta",
        "outputId": "2970c8b8-3b1b-4e6c-e8a3-d2dba0398d4c"
      },
      "outputs": [
        {
          "output_type": "stream",
          "name": "stdout",
          "text": [
            "<>>\n",
            "1\n"
          ]
        }
      ],
      "source": [
        "S_LIST = list(str(input()))\n",
        "MIN = 0\n",
        "ANSWER_LIST = []\n",
        "\n",
        "for i in range(len(S_LIST)):\n",
        "  ANSWER_LIST.append(MIN)\n",
        "  if S_LIST[i] == \"<\":\n",
        "    MIN += 1\n",
        "  else:\n",
        "    MIN -= 1\n",
        "    if MIN < 0:\n",
        "      MIN = 0\n",
        "\n",
        "print(sum(ANSWER_LIST))"
      ]
    },
    {
      "cell_type": "code",
      "source": [
        "S_LIST = list(str(input()))\n",
        "ANSWER_LIST = []\n",
        "COUNT = 0\n",
        "\n",
        "for i in range(len(S_LIST)-1):\n",
        "  if S_LIST[i] == S_LIST[i+1]:\n",
        "    COUNT += 1\n",
        "  else:\n",
        "    ANSWER_LIST.append(COUNT+1)\n",
        "    COUNT = 0\n",
        "\n",
        "ANSWER_LIST.append(COUNT+1)\n",
        "\n",
        "print(sum(ANSWER_LIST))"
      ],
      "metadata": {
        "colab": {
          "base_uri": "https://localhost:8080/"
        },
        "id": "W_BxApMlitPv",
        "outputId": "6e8a62a7-1365-4953-b241-46dc043b90dc"
      },
      "execution_count": null,
      "outputs": [
        {
          "output_type": "stream",
          "name": "stdout",
          "text": [
            "<>>><<><<<<<>>><\n",
            "16\n"
          ]
        }
      ]
    },
    {
      "cell_type": "code",
      "source": [
        "S_LIST = list(str(input()))\n",
        "ANSWER_LIST = []\n",
        "COUNT = 0\n",
        "\n",
        "for i in range(len(S_LIST)-1):\n",
        "  if S_LIST[i] == S_LIST[i+1]:\n",
        "    COUNT += 1\n",
        "  else:\n",
        "    ANSWER_LIST.append(COUNT*(COUNT+1)//2)\n",
        "    COUNT = 0\n",
        "\n",
        "if S_LIST[-1] == S_LIST[-2]:\n",
        "  COUNT += 1\n",
        "  ANSWER_LIST.append(COUNT*(COUNT+1)//2)\n",
        "else:\n",
        "  ANSWER_LIST.append(COUNT*(COUNT+1)//2)\n",
        "\n",
        "print(sum(ANSWER_LIST))"
      ],
      "metadata": {
        "colab": {
          "base_uri": "https://localhost:8080/"
        },
        "id": "5VspGxJx_aqX",
        "outputId": "6abe2759-9a9a-492d-8b8e-179980a09ff5"
      },
      "execution_count": null,
      "outputs": [
        {
          "output_type": "stream",
          "name": "stdout",
          "text": [
            "<>>><<><<<<<>>><\n",
            "17\n"
          ]
        }
      ]
    },
    {
      "cell_type": "code",
      "source": [
        "S_LIST = list(str(input()))\n",
        "COUNT = 0\n",
        "ANSWER_LIST = []\n",
        "\n",
        "for i in range(len(S_LIST)-1):\n",
        "  if S_LIST[i] == S_LIST[i+1]:\n",
        "    COUNT += 1\n",
        "  else:\n",
        "    COUNT += 1\n",
        "    ANSWER_LIST.append(COUNT*(COUNT+1)//2)\n",
        "    COUNT = 0\n",
        "\n",
        "if S_LIST[-1] == S_LIST[-2]:\n",
        "  COUNT += 1\n",
        "  ANSWER_LIST.append(COUNT*(COUNT+1)//2)\n",
        "else:\n",
        "  ANSWER_LIST.append(1)\n",
        "\n",
        "print(ANSWER_LIST)\n",
        "\n",
        "print(sum(ANSWER_LIST))"
      ],
      "metadata": {
        "colab": {
          "base_uri": "https://localhost:8080/"
        },
        "id": "by-JptmNLUha",
        "outputId": "d4d40261-c614-4401-fcb6-366c3fe0a872"
      },
      "execution_count": null,
      "outputs": [
        {
          "output_type": "stream",
          "name": "stdout",
          "text": [
            "<>>><<><<<<<>>><\n",
            "[1, 6, 3, 1, 15, 6, 1]\n",
            "33\n"
          ]
        }
      ]
    },
    {
      "cell_type": "code",
      "source": [
        "S_LIST = list(str(input()))\n",
        "ANSWER_LIST = [0 for i in range(len(S_LIST)+1)]\n",
        "\n",
        "for i in range(len(S_LIST)):\n",
        "  if S_LIST[i] == \"<\":\n",
        "    ANSWER_LIST[i+1] = ANSWER_LIST[i]+1\n",
        "\n",
        "for i in range(len(S_LIST)-1,-1,-1):\n",
        "  if S_LIST[i] == \">\":\n",
        "    ANSWER_LIST[i] = max(ANSWER_LIST[i],ANSWER_LIST[i+1]+1)\n",
        "\n",
        "print(sum(ANSWER_LIST))"
      ],
      "metadata": {
        "colab": {
          "base_uri": "https://localhost:8080/"
        },
        "id": "530UbuYnadZQ",
        "outputId": "5a3e5568-3f22-4f39-92eb-5288b899436c"
      },
      "execution_count": null,
      "outputs": [
        {
          "output_type": "stream",
          "name": "stdout",
          "text": [
            "<>>><<><<<<<>>><\n",
            "28\n"
          ]
        }
      ]
    }
  ]
}