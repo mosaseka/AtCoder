{
  "nbformat": 4,
  "nbformat_minor": 0,
  "metadata": {
    "colab": {
      "provenance": [],
      "authorship_tag": "ABX9TyPhda4kiE8OSVMTgqvJvhZo",
      "include_colab_link": true
    },
    "kernelspec": {
      "name": "python3",
      "display_name": "Python 3"
    },
    "language_info": {
      "name": "python"
    }
  },
  "cells": [
    {
      "cell_type": "markdown",
      "metadata": {
        "id": "view-in-github",
        "colab_type": "text"
      },
      "source": [
        "<a href=\"https://colab.research.google.com/github/mosaseka/AtCoder/blob/main/B_Nice_Grid.ipynb\" target=\"_parent\"><img src=\"https://colab.research.google.com/assets/colab-badge.svg\" alt=\"Open In Colab\"/></a>"
      ]
    },
    {
      "cell_type": "code",
      "execution_count": null,
      "metadata": {
        "id": "ImTDtygReVct"
      },
      "outputs": [],
      "source": [
        "R,C = map(int,input().split())\n",
        "GRID = [\"111111111111111\",\n",
        "        \"100000000000001\",\n",
        "        \"101111111111101\",\n",
        "        \"101000000000101\",\n",
        "        \"101011111110101\",\n",
        "        \"101010000010101\",\n",
        "        \"101010111010101\",\n",
        "        \"101010101010101\"]\n",
        "GRID += GRID[::-1]\n",
        "\n",
        "if GRID[C-1][R-1] == \"1\":\n",
        "  print(\"black\")\n",
        "else:\n",
        "  print(\"white\")"
      ]
    },
    {
      "cell_type": "code",
      "source": [
        "R,C = map(int,input().split())\n",
        "GRID = [\"111111111111111\",#1\n",
        "        \"100000000000001\",#2\n",
        "        \"101111111111101\",#3\n",
        "        \"101000000000101\",#4\n",
        "        \"101011111110101\",#5\n",
        "        \"101010000010101\",#6\n",
        "        \"101010111010101\",#7\n",
        "        \"101010101010101\",#8\n",
        "        \"101010111010101\",\n",
        "        \"101010000010101\",\n",
        "        \"101011111110101\",\n",
        "        \"101000000000101\",\n",
        "        \"101111111111101\",\n",
        "        \"100000000000001\",\n",
        "        \"111111111111111\"]\n",
        "\n",
        "if GRID[C-1][R-1] == \"1\":\n",
        "  print(\"black\")\n",
        "else:\n",
        "  print(\"white\")"
      ],
      "metadata": {
        "id": "qORsQ0-JJMbK"
      },
      "execution_count": null,
      "outputs": []
    }
  ]
}