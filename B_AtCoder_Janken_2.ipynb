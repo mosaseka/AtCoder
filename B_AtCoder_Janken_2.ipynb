{
  "nbformat": 4,
  "nbformat_minor": 0,
  "metadata": {
    "colab": {
      "provenance": [],
      "authorship_tag": "ABX9TyNqOudtS+I0P04HhO0ypIwH",
      "include_colab_link": true
    },
    "kernelspec": {
      "name": "python3",
      "display_name": "Python 3"
    },
    "language_info": {
      "name": "python"
    }
  },
  "cells": [
    {
      "cell_type": "markdown",
      "metadata": {
        "id": "view-in-github",
        "colab_type": "text"
      },
      "source": [
        "<a href=\"https://colab.research.google.com/github/mosaseka/AtCoder/blob/main/B_AtCoder_Janken_2.ipynb\" target=\"_parent\"><img src=\"https://colab.research.google.com/assets/colab-badge.svg\" alt=\"Open In Colab\"/></a>"
      ]
    },
    {
      "cell_type": "code",
      "execution_count": null,
      "metadata": {
        "id": "g9QbOZEM9PzW"
      },
      "outputs": [],
      "source": [
        "N = int(input())\n",
        "LIST = []\n",
        "SUM = 0\n",
        "\n",
        "for i in range(N):\n",
        "  S,C = map(str,input().split())\n",
        "  C = int(C)\n",
        "  LIST.append([S,C])\n",
        "  SUM += C\n",
        "\n",
        "LIST.sort()\n",
        "\n",
        "print(LIST[SUM%N][0])"
      ]
    }
  ]
}