{
  "nbformat": 4,
  "nbformat_minor": 0,
  "metadata": {
    "colab": {
      "provenance": [],
      "authorship_tag": "ABX9TyPIfh/O2gjzo3+ct9cGfdA0",
      "include_colab_link": true
    },
    "kernelspec": {
      "name": "python3",
      "display_name": "Python 3"
    },
    "language_info": {
      "name": "python"
    }
  },
  "cells": [
    {
      "cell_type": "markdown",
      "metadata": {
        "id": "view-in-github",
        "colab_type": "text"
      },
      "source": [
        "<a href=\"https://colab.research.google.com/github/mosaseka/AtCoder/blob/main/B_Broken_Rounding.ipynb\" target=\"_parent\"><img src=\"https://colab.research.google.com/assets/colab-badge.svg\" alt=\"Open In Colab\"/></a>"
      ]
    },
    {
      "cell_type": "code",
      "execution_count": null,
      "metadata": {
        "id": "MofdKmehqAzG"
      },
      "outputs": [],
      "source": [
        "X,K = map(int,input().split())\n",
        "\n",
        "for i in range(K):\n",
        "  X = round(X,-(i+1))\n",
        "  print(X)\n",
        "\n",
        "print(X)"
      ]
    },
    {
      "cell_type": "code",
      "source": [
        "X,K = map(int,input().split())\n",
        "CHECK = []\n",
        "ANSWER = \"\"\n",
        "INDEX = []\n",
        "\n",
        "X = str(X)\n",
        "for i in range(len(X)):\n",
        "  CHECK.append(X[i])\n",
        "\n",
        "if len(CHECK) < K:\n",
        "  print(0)\n",
        "  exit()\n",
        "\n",
        "CHECK.reverse()\n",
        "CHECK.append(\"0\")\n",
        "#print(CHECK)\n",
        "\n",
        "for i in range(K):\n",
        "  if int(CHECK[i]) >= 5:\n",
        "    CHECK[i+1] = str(int(CHECK[i+1])+1)\n",
        "    CHECK[i] = \"0\"\n",
        "  else:\n",
        "    CHECK[i] = \"0\"\n",
        "  #print(CHECK)\n",
        "  while \"10\" in set(CHECK):\n",
        "    INDEX = CHECK.index(\"10\")\n",
        "    CHECK[INDEX] = \"0\"\n",
        "    CHECK[INDEX+1] = str(int(CHECK[INDEX+1])+1)\n",
        "\n",
        "CHECK.reverse()\n",
        "\n",
        "for i in range(len(CHECK)):\n",
        "  ANSWER += CHECK[i]\n",
        "\n",
        "print(int(ANSWER))"
      ],
      "metadata": {
        "id": "f2Ue9WDakMgX"
      },
      "execution_count": null,
      "outputs": []
    }
  ]
}