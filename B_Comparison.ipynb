{
  "nbformat": 4,
  "nbformat_minor": 0,
  "metadata": {
    "colab": {
      "provenance": [],
      "authorship_tag": "ABX9TyMkGE/kZOc3cVFw5ZR38tAX",
      "include_colab_link": true
    },
    "kernelspec": {
      "name": "python3",
      "display_name": "Python 3"
    },
    "language_info": {
      "name": "python"
    }
  },
  "cells": [
    {
      "cell_type": "markdown",
      "metadata": {
        "id": "view-in-github",
        "colab_type": "text"
      },
      "source": [
        "<a href=\"https://colab.research.google.com/github/mosaseka/AtCoder/blob/main/B_Comparison.ipynb\" target=\"_parent\"><img src=\"https://colab.research.google.com/assets/colab-badge.svg\" alt=\"Open In Colab\"/></a>"
      ]
    },
    {
      "cell_type": "code",
      "execution_count": null,
      "metadata": {
        "id": "pfJWzbyYeqSa"
      },
      "outputs": [],
      "source": [
        "A = int(input())\n",
        "B = int(input())\n",
        "\n",
        "if A > B:\n",
        "  print(\"GREATER\")\n",
        "elif A < B:\n",
        "  print(\"LESS\")\n",
        "else:\n",
        "  print(\"EQUAL\")"
      ]
    }
  ]
}