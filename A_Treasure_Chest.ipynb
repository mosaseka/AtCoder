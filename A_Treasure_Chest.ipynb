{
  "nbformat": 4,
  "nbformat_minor": 0,
  "metadata": {
    "colab": {
      "provenance": [],
      "authorship_tag": "ABX9TyO3J0rSS9AakkF21dOj8a3y",
      "include_colab_link": true
    },
    "kernelspec": {
      "name": "python3",
      "display_name": "Python 3"
    },
    "language_info": {
      "name": "python"
    }
  },
  "cells": [
    {
      "cell_type": "markdown",
      "metadata": {
        "id": "view-in-github",
        "colab_type": "text"
      },
      "source": [
        "<a href=\"https://colab.research.google.com/github/mosaseka/AtCoder/blob/main/A_Treasure_Chest.ipynb\" target=\"_parent\"><img src=\"https://colab.research.google.com/assets/colab-badge.svg\" alt=\"Open In Colab\"/></a>"
      ]
    },
    {
      "cell_type": "code",
      "execution_count": null,
      "metadata": {
        "colab": {
          "base_uri": "https://localhost:8080/"
        },
        "id": "OmusBYM3t0Yp",
        "outputId": "dcfaa20a-0b99-44f3-e080-b979abcadd6a"
      },
      "outputs": [
        {
          "output_type": "stream",
          "name": "stdout",
          "text": [
            "10\n",
            ".|..*...|.\n",
            "out\n"
          ]
        }
      ],
      "source": [
        "N = int(input())\n",
        "S_LIST = list(map(str,input()))\n",
        "FLAG = False\n",
        "INDEX = 0\n",
        "\n",
        "for i in range(N):\n",
        "  if S_LIST[i] == \"|\":\n",
        "    FLAG = True\n",
        "    INDEX = S_LIST.index(\"|\")\n",
        "  elif FLAG == True and S_LIST[i] == \"*\":\n",
        "    print(\"in\")\n",
        "    exit()\n",
        "  elif FLAG == True and INDEX <= i:\n",
        "    FLAG = False\n",
        "  else:\n",
        "    pass\n",
        "\n",
        "print(\"out\")"
      ]
    },
    {
      "cell_type": "code",
      "source": [
        "N = int(input())\n",
        "S_LIST = list(map(str,input()))\n",
        "CHECK_LIST = []\n",
        "\n",
        "for i in range(N):\n",
        "  if S_LIST[i] != \".\":\n",
        "    CHECK_LIST.append(S_LIST[i])\n",
        "\n",
        "for i in range(len(CHECK_LIST)-1):\n",
        "  if CHECK_LIST[i] == \"|\" and CHECK_LIST[i+1] == \"*\":\n",
        "    print(\"in\")\n",
        "    exit()\n",
        "  else:\n",
        "    print(\"out\")\n",
        "    exit()"
      ],
      "metadata": {
        "colab": {
          "base_uri": "https://localhost:8080/"
        },
        "id": "1Fpo06U9537J",
        "outputId": "1f00fa72-50ca-47b0-8287-2426cd3d2c40"
      },
      "execution_count": null,
      "outputs": [
        {
          "output_type": "stream",
          "name": "stdout",
          "text": [
            "10\n",
            ".|..|.*...\n",
            "out\n",
            "in\n"
          ]
        }
      ]
    }
  ]
}