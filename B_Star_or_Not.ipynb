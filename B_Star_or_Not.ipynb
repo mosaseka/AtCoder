{
  "nbformat": 4,
  "nbformat_minor": 0,
  "metadata": {
    "colab": {
      "provenance": [],
      "authorship_tag": "ABX9TyNL9L8dTxvwYkUDedlVonRO",
      "include_colab_link": true
    },
    "kernelspec": {
      "name": "python3",
      "display_name": "Python 3"
    },
    "language_info": {
      "name": "python"
    }
  },
  "cells": [
    {
      "cell_type": "markdown",
      "metadata": {
        "id": "view-in-github",
        "colab_type": "text"
      },
      "source": [
        "<a href=\"https://colab.research.google.com/github/mosaseka/AtCoder/blob/main/B_Star_or_Not.ipynb\" target=\"_parent\"><img src=\"https://colab.research.google.com/assets/colab-badge.svg\" alt=\"Open In Colab\"/></a>"
      ]
    },
    {
      "cell_type": "code",
      "execution_count": null,
      "metadata": {
        "id": "T8JIBg1XIJkU"
      },
      "outputs": [],
      "source": [
        "N = int(input())\n",
        "LIST = [[] for i in range(N)]\n",
        "A = 0\n",
        "B = 0\n",
        "\n",
        "for i in range(N-1):\n",
        "  A,B = map(int,input().split())\n",
        "  LIST[A-1].append(B)\n",
        "  LIST[B-1].append(A)\n",
        "\n",
        "for i in range(N-1):\n",
        "  if len(LIST[i]) != 1 and len(LIST[i]) != N-1:\n",
        "    print(\"No\")\n",
        "    exit()\n",
        "\n",
        "print(\"Yes\")"
      ]
    }
  ]
}