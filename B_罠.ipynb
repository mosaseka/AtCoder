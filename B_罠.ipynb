{
  "nbformat": 4,
  "nbformat_minor": 0,
  "metadata": {
    "colab": {
      "provenance": [],
      "authorship_tag": "ABX9TyOYQKi3xiEDjx+5BLA+6mHx",
      "include_colab_link": true
    },
    "kernelspec": {
      "name": "python3",
      "display_name": "Python 3"
    },
    "language_info": {
      "name": "python"
    }
  },
  "cells": [
    {
      "cell_type": "markdown",
      "metadata": {
        "id": "view-in-github",
        "colab_type": "text"
      },
      "source": [
        "<a href=\"https://colab.research.google.com/github/mosaseka/AtCoder/blob/main/B_%E7%BD%A0.ipynb\" target=\"_parent\"><img src=\"https://colab.research.google.com/assets/colab-badge.svg\" alt=\"Open In Colab\"/></a>"
      ]
    },
    {
      "cell_type": "code",
      "execution_count": null,
      "metadata": {
        "id": "tnMFxmQvmqmR"
      },
      "outputs": [],
      "source": [
        "W = str(input())\n",
        "SET = {\"a\",\"i\",\"u\",\"e\",\"o\"}\n",
        "ANSWER = \"\"\n",
        "\n",
        "for i in range(len(W)):\n",
        "  if W[i] in SET:\n",
        "    pass\n",
        "  else:\n",
        "    ANSWER += W[i]\n",
        "\n",
        "print(ANSWER)"
      ]
    }
  ]
}