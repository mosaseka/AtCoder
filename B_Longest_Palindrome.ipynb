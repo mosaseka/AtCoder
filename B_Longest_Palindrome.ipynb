{
  "nbformat": 4,
  "nbformat_minor": 0,
  "metadata": {
    "colab": {
      "provenance": [],
      "authorship_tag": "ABX9TyO2qhPgtSXU/1QDZJtBUVN+",
      "include_colab_link": true
    },
    "kernelspec": {
      "name": "python3",
      "display_name": "Python 3"
    },
    "language_info": {
      "name": "python"
    }
  },
  "cells": [
    {
      "cell_type": "markdown",
      "metadata": {
        "id": "view-in-github",
        "colab_type": "text"
      },
      "source": [
        "<a href=\"https://colab.research.google.com/github/mosaseka/AtCoder/blob/main/B_Longest_Palindrome.ipynb\" target=\"_parent\"><img src=\"https://colab.research.google.com/assets/colab-badge.svg\" alt=\"Open In Colab\"/></a>"
      ]
    },
    {
      "cell_type": "code",
      "execution_count": null,
      "metadata": {
        "id": "2nVBdvdR3GMh"
      },
      "outputs": [],
      "source": [
        "S = str(input())\n",
        "CHECK = \"\"\n",
        "S_LEN = len(S)\n",
        "\n",
        "for i in range(S_LEN):\n",
        "  CHECK = S[:S_LEN-i]\n",
        "  if CHECK == CHECK[::-1]:\n",
        "    print(len(CHECK))\n",
        "    exit()"
      ]
    },
    {
      "cell_type": "code",
      "source": [
        "S = str(input())\n",
        "CHECK = \"\"\n",
        "ANSWER = 0\n",
        "\n",
        "for i in range(len(S)):\n",
        "  CHECK = S[:i+1]\n",
        "  if CHECK == CHECK[::-1]:\n",
        "    ANSWER = len(CHECK)\n",
        "\n",
        "print(ANSWER)"
      ],
      "metadata": {
        "id": "mBODtV5R4QIZ"
      },
      "execution_count": null,
      "outputs": []
    },
    {
      "cell_type": "code",
      "source": [
        "from collections import deque\n",
        "\n",
        "S = str(input())\n",
        "ANSWER = deque()\n",
        "CHECK = \"\"\n",
        "\n",
        "for i in range(len(S)):\n",
        "  for j in range(len(S)):\n",
        "    CHECK = S[i:i+j+1]\n",
        "    if CHECK == CHECK[::-1]:\n",
        "      ANSWER.append(len(CHECK))\n",
        "\n",
        "print(max(ANSWER))"
      ],
      "metadata": {
        "id": "N0mZDtYj4n3X"
      },
      "execution_count": null,
      "outputs": []
    }
  ]
}