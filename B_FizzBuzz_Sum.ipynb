{
  "nbformat": 4,
  "nbformat_minor": 0,
  "metadata": {
    "colab": {
      "provenance": [],
      "authorship_tag": "ABX9TyNHlqVQPCAxOSvEstrKUrZ+",
      "include_colab_link": true
    },
    "kernelspec": {
      "name": "python3",
      "display_name": "Python 3"
    },
    "language_info": {
      "name": "python"
    }
  },
  "cells": [
    {
      "cell_type": "markdown",
      "metadata": {
        "id": "view-in-github",
        "colab_type": "text"
      },
      "source": [
        "<a href=\"https://colab.research.google.com/github/mosaseka/AtCoder/blob/main/B_FizzBuzz_Sum.ipynb\" target=\"_parent\"><img src=\"https://colab.research.google.com/assets/colab-badge.svg\" alt=\"Open In Colab\"/></a>"
      ]
    },
    {
      "cell_type": "code",
      "execution_count": null,
      "metadata": {
        "colab": {
          "base_uri": "https://localhost:8080/"
        },
        "id": "5sqMih73AB9R",
        "outputId": "8752d8ec-78d6-4123-8a20-6b9715deeeab"
      },
      "outputs": [
        {
          "output_type": "stream",
          "name": "stdout",
          "text": [
            "1000000\n",
            "266666333332\n"
          ]
        }
      ],
      "source": [
        "N = int(input())\n",
        "ANSWER = 0\n",
        "\n",
        "for i in range(N):\n",
        "  if (i+1) % 3 == 0 or (i+1) % 5 == 0:\n",
        "    pass\n",
        "  else:\n",
        "    ANSWER = ANSWER + (i+1)\n",
        "\n",
        "print(ANSWER)"
      ]
    }
  ]
}