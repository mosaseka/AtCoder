{
  "nbformat": 4,
  "nbformat_minor": 0,
  "metadata": {
    "colab": {
      "provenance": [],
      "authorship_tag": "ABX9TyOibAosm5h9K93sHbW8NbD0",
      "include_colab_link": true
    },
    "kernelspec": {
      "name": "python3",
      "display_name": "Python 3"
    },
    "language_info": {
      "name": "python"
    }
  },
  "cells": [
    {
      "cell_type": "markdown",
      "metadata": {
        "id": "view-in-github",
        "colab_type": "text"
      },
      "source": [
        "<a href=\"https://colab.research.google.com/github/mosaseka/AtCoder/blob/main/A_Task_Scheduling_Problem.ipynb\" target=\"_parent\"><img src=\"https://colab.research.google.com/assets/colab-badge.svg\" alt=\"Open In Colab\"/></a>"
      ]
    },
    {
      "cell_type": "code",
      "execution_count": null,
      "metadata": {
        "id": "7G6sX7LPeLTG"
      },
      "outputs": [],
      "source": [
        "import itertools\n",
        "\n",
        "A_LIST = list(map(int,input().split()))\n",
        "CHECK = list(itertools.permutations(A_LIST,3))\n",
        "COUNT = 0\n",
        "ANSWER = []\n",
        "\n",
        "for i in range(len(CHECK)):\n",
        "  COUNT = 0\n",
        "  for j in range(3):\n",
        "    if j == 0:\n",
        "      pass\n",
        "    else:\n",
        "      COUNT += abs(CHECK[i][j-1] - CHECK[i][j])\n",
        "  ANSWER.append(COUNT)\n",
        "\n",
        "print(min(ANSWER))"
      ]
    }
  ]
}