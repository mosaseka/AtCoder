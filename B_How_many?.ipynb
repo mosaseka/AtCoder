{
  "nbformat": 4,
  "nbformat_minor": 0,
  "metadata": {
    "colab": {
      "provenance": [],
      "authorship_tag": "ABX9TyOpWEnIX2Q1ql9pvUi2+Dx1",
      "include_colab_link": true
    },
    "kernelspec": {
      "name": "python3",
      "display_name": "Python 3"
    },
    "language_info": {
      "name": "python"
    }
  },
  "cells": [
    {
      "cell_type": "markdown",
      "metadata": {
        "id": "view-in-github",
        "colab_type": "text"
      },
      "source": [
        "<a href=\"https://colab.research.google.com/github/mosaseka/AtCoder/blob/main/B_How_many%3F.ipynb\" target=\"_parent\"><img src=\"https://colab.research.google.com/assets/colab-badge.svg\" alt=\"Open In Colab\"/></a>"
      ]
    },
    {
      "cell_type": "code",
      "execution_count": null,
      "metadata": {
        "id": "AHDakUnJ_T7a"
      },
      "outputs": [],
      "source": [
        "S,T = map(int,input().split())\n",
        "COUNT = 0\n",
        "\n",
        "for i in range(101):\n",
        "  for j in range(101):\n",
        "    for k in range(101):\n",
        "      if i+j+k <= S and i*j*k <= T:\n",
        "        COUNT += 1\n",
        "\n",
        "print(COUNT)"
      ]
    }
  ]
}