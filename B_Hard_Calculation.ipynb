{
  "nbformat": 4,
  "nbformat_minor": 0,
  "metadata": {
    "colab": {
      "provenance": [],
      "authorship_tag": "ABX9TyPPpu+ltB9RzCfxzQp5EpxK",
      "include_colab_link": true
    },
    "kernelspec": {
      "name": "python3",
      "display_name": "Python 3"
    },
    "language_info": {
      "name": "python"
    }
  },
  "cells": [
    {
      "cell_type": "markdown",
      "metadata": {
        "id": "view-in-github",
        "colab_type": "text"
      },
      "source": [
        "<a href=\"https://colab.research.google.com/github/mosaseka/AtCoder/blob/main/B_Hard_Calculation.ipynb\" target=\"_parent\"><img src=\"https://colab.research.google.com/assets/colab-badge.svg\" alt=\"Open In Colab\"/></a>"
      ]
    },
    {
      "cell_type": "code",
      "execution_count": null,
      "metadata": {
        "id": "6JrcxX-L6mAu"
      },
      "outputs": [],
      "source": [
        "A,B = map(str,input().split())\n",
        "A_LEN = len(A)\n",
        "B_LEN = len(B)\n",
        "\n",
        "for i in range(min(A_LEN,B_LEN)):\n",
        "  if int(A[-(i+1)]) + int(B[-(i+1)]) >= 10:\n",
        "    print(\"Hard\")\n",
        "    exit()\n",
        "\n",
        "print(\"Easy\")"
      ]
    }
  ]
}