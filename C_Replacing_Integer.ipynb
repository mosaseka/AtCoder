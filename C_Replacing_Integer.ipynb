{
  "nbformat": 4,
  "nbformat_minor": 0,
  "metadata": {
    "colab": {
      "provenance": [],
      "authorship_tag": "ABX9TyNMjZ69uN+8pXLh1cutVPZN",
      "include_colab_link": true
    },
    "kernelspec": {
      "name": "python3",
      "display_name": "Python 3"
    },
    "language_info": {
      "name": "python"
    }
  },
  "cells": [
    {
      "cell_type": "markdown",
      "metadata": {
        "id": "view-in-github",
        "colab_type": "text"
      },
      "source": [
        "<a href=\"https://colab.research.google.com/github/mosaseka/AtCoder/blob/main/C_Replacing_Integer.ipynb\" target=\"_parent\"><img src=\"https://colab.research.google.com/assets/colab-badge.svg\" alt=\"Open In Colab\"/></a>"
      ]
    },
    {
      "cell_type": "code",
      "source": [
        "N,K = map(int,input().split())\n",
        "CHECK_NUM = 0\n",
        "CHECK_LIST = []\n",
        "\n",
        "CHECK_NUM = N % K\n",
        "\n",
        "CHECK_LIST.append(abs(K - CHECK_NUM))\n",
        "CHECK_LIST.append(CHECK_NUM)\n",
        "\n",
        "print(min(CHECK_LIST))"
      ],
      "metadata": {
        "colab": {
          "base_uri": "https://localhost:8080/"
        },
        "id": "RckzRpzUf4h_",
        "outputId": "85101c95-1232-41a1-8dd2-2e25c19cf3eb"
      },
      "execution_count": null,
      "outputs": [
        {
          "output_type": "stream",
          "name": "stdout",
          "text": [
            "1000000000000000000 1\n",
            "0\n"
          ]
        }
      ]
    }
  ]
}