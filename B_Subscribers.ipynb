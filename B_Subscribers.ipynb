{
  "nbformat": 4,
  "nbformat_minor": 0,
  "metadata": {
    "colab": {
      "provenance": [],
      "authorship_tag": "ABX9TyNdGqGFgAax1NBVFaov1LkQ",
      "include_colab_link": true
    },
    "kernelspec": {
      "name": "python3",
      "display_name": "Python 3"
    },
    "language_info": {
      "name": "python"
    }
  },
  "cells": [
    {
      "cell_type": "markdown",
      "metadata": {
        "id": "view-in-github",
        "colab_type": "text"
      },
      "source": [
        "<a href=\"https://colab.research.google.com/github/mosaseka/AtCoder/blob/main/B_Subscribers.ipynb\" target=\"_parent\"><img src=\"https://colab.research.google.com/assets/colab-badge.svg\" alt=\"Open In Colab\"/></a>"
      ]
    },
    {
      "cell_type": "code",
      "execution_count": null,
      "metadata": {
        "id": "fH3AZZYULtqj"
      },
      "outputs": [],
      "source": [
        "N = str(input())\n",
        "ANSWER = 0\n",
        "\n",
        "if int(N) <= (10**3) - 1:\n",
        "  ANSWER = int(N)\n",
        "elif int(N) <= (10**4) - 1:\n",
        "  ANSWER = int(N[:-1] + \"0\"*1)\n",
        "elif int(N) <= (10**5) - 1:\n",
        "  ANSWER = int(N[:-2] + \"0\"*2)\n",
        "elif int(N) <= (10**6) - 1:\n",
        "  ANSWER = int(N[:-3] + \"0\"*3)\n",
        "elif int(N) <= (10**7) - 1:\n",
        "  ANSWER = int(N[:-4] + \"0\"*4)\n",
        "elif int(N) <= (10**8) - 1:\n",
        "  ANSWER = int(N[:-5] + \"0\"*5)\n",
        "elif int(N) <= (10**9) - 1:\n",
        "  ANSWER = int(N[:-6] + \"0\"*6)\n",
        "\n",
        "print(ANSWER)"
      ]
    }
  ]
}