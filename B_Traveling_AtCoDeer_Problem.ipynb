{
  "nbformat": 4,
  "nbformat_minor": 0,
  "metadata": {
    "colab": {
      "provenance": [],
      "authorship_tag": "ABX9TyMQ4wYRNqJeo/9uxPUHW4CE",
      "include_colab_link": true
    },
    "kernelspec": {
      "name": "python3",
      "display_name": "Python 3"
    },
    "language_info": {
      "name": "python"
    }
  },
  "cells": [
    {
      "cell_type": "markdown",
      "metadata": {
        "id": "view-in-github",
        "colab_type": "text"
      },
      "source": [
        "<a href=\"https://colab.research.google.com/github/mosaseka/AtCoder/blob/main/B_Traveling_AtCoDeer_Problem.ipynb\" target=\"_parent\"><img src=\"https://colab.research.google.com/assets/colab-badge.svg\" alt=\"Open In Colab\"/></a>"
      ]
    },
    {
      "cell_type": "code",
      "execution_count": null,
      "metadata": {
        "id": "5yV7cG-bocCD"
      },
      "outputs": [],
      "source": [
        "import itertools\n",
        "from collections import deque\n",
        "\n",
        "N = int(input())\n",
        "A_LIST = list(map(int,input().split()))\n",
        "ANSWER = deque()\n",
        "CHECK = 0\n",
        "\n",
        "for i in itertools.permutations(A_LIST,N):\n",
        "  CHECK = 0\n",
        "  for j in range(len(i)-1):\n",
        "    CHECK += abs(i[j]-i[j+1])\n",
        "  ANSWER.append(CHECK)\n",
        "\n",
        "print(min(ANSWER))"
      ]
    },
    {
      "cell_type": "code",
      "source": [
        "N = int(input())\n",
        "A_LIST = list(map(int,input().split()))\n",
        "\n",
        "print(abs(max(A_LIST) - min(A_LIST)))"
      ],
      "metadata": {
        "id": "vBwN_tx-p2xs"
      },
      "execution_count": null,
      "outputs": []
    }
  ]
}