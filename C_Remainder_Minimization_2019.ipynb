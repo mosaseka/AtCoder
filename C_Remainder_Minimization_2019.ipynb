{
  "nbformat": 4,
  "nbformat_minor": 0,
  "metadata": {
    "colab": {
      "provenance": [],
      "authorship_tag": "ABX9TyNd6VDiGABzVkbbnfo+Z8xB",
      "include_colab_link": true
    },
    "kernelspec": {
      "name": "python3",
      "display_name": "Python 3"
    },
    "language_info": {
      "name": "python"
    }
  },
  "cells": [
    {
      "cell_type": "markdown",
      "metadata": {
        "id": "view-in-github",
        "colab_type": "text"
      },
      "source": [
        "<a href=\"https://colab.research.google.com/github/mosaseka/AtCoder/blob/main/C_Remainder_Minimization_2019.ipynb\" target=\"_parent\"><img src=\"https://colab.research.google.com/assets/colab-badge.svg\" alt=\"Open In Colab\"/></a>"
      ]
    },
    {
      "cell_type": "code",
      "execution_count": null,
      "metadata": {
        "colab": {
          "base_uri": "https://localhost:8080/"
        },
        "id": "mtRSraDVqfpi",
        "outputId": "fcdd8ec6-f61d-4f8f-dc05-c6bd03208caf"
      },
      "outputs": [
        {
          "output_type": "stream",
          "name": "stdout",
          "text": [
            "1999999264 1999999270\n",
            "26\n"
          ]
        }
      ],
      "source": [
        "L,R = map(int,input().split())\n",
        "MIN = (L*R) % 2019\n",
        "\n",
        "for i in range(L,R+1):\n",
        "  for j in range(L,R+1):\n",
        "    if i == j:\n",
        "      pass\n",
        "    elif i > j:\n",
        "      pass\n",
        "    else:\n",
        "      CHECK = ((i*j) % 2019)\n",
        "      if CHECK == 0:\n",
        "        print(0)\n",
        "        exit()\n",
        "      elif CHECK < MIN:\n",
        "        MIN = CHECK\n",
        "\n",
        "print(MIN)"
      ]
    }
  ]
}