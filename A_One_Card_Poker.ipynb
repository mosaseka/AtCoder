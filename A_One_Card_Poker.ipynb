{
  "nbformat": 4,
  "nbformat_minor": 0,
  "metadata": {
    "colab": {
      "provenance": [],
      "authorship_tag": "ABX9TyPlxToxg9PoL5O3lxZE8r4A",
      "include_colab_link": true
    },
    "kernelspec": {
      "name": "python3",
      "display_name": "Python 3"
    },
    "language_info": {
      "name": "python"
    }
  },
  "cells": [
    {
      "cell_type": "markdown",
      "metadata": {
        "id": "view-in-github",
        "colab_type": "text"
      },
      "source": [
        "<a href=\"https://colab.research.google.com/github/mosaseka/AtCoder/blob/main/A_One_Card_Poker.ipynb\" target=\"_parent\"><img src=\"https://colab.research.google.com/assets/colab-badge.svg\" alt=\"Open In Colab\"/></a>"
      ]
    },
    {
      "cell_type": "code",
      "execution_count": null,
      "metadata": {
        "id": "aTtWh9WUZoDy"
      },
      "outputs": [],
      "source": [
        "A,B = map(int,input().split())\n",
        "LIST = [2,3,4,5,6,7,8,9,10,11,12,13,1]\n",
        "ALICE = LIST.index(A)\n",
        "BOB = LIST.index(B)\n",
        "\n",
        "if ALICE > BOB:\n",
        "  print(\"Alice\")\n",
        "elif ALICE < BOB:\n",
        "  print(\"Bob\")\n",
        "else:\n",
        "  print(\"Draw\")"
      ]
    }
  ]
}