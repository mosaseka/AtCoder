{
  "nbformat": 4,
  "nbformat_minor": 0,
  "metadata": {
    "colab": {
      "provenance": [],
      "authorship_tag": "ABX9TyOyBXFx7uw5MIbyM/xTavH+",
      "include_colab_link": true
    },
    "kernelspec": {
      "name": "python3",
      "display_name": "Python 3"
    },
    "language_info": {
      "name": "python"
    }
  },
  "cells": [
    {
      "cell_type": "markdown",
      "metadata": {
        "id": "view-in-github",
        "colab_type": "text"
      },
      "source": [
        "<a href=\"https://colab.research.google.com/github/mosaseka/AtCoder/blob/main/C_Sentou.ipynb\" target=\"_parent\"><img src=\"https://colab.research.google.com/assets/colab-badge.svg\" alt=\"Open In Colab\"/></a>"
      ]
    },
    {
      "cell_type": "code",
      "execution_count": null,
      "metadata": {
        "id": "QAmpMOblBn3o"
      },
      "outputs": [],
      "source": [
        "N,T = map(int,input().split())\n",
        "T_LIST = list(map(int,input().split()))\n",
        "TIME = 0\n",
        "\n",
        "for i in range(N-1):\n",
        "  TIME += min(T,abs(T_LIST[i] - T_LIST[i+1]))\n",
        "\n",
        "TIME += T\n",
        "\n",
        "print(TIME)"
      ]
    }
  ]
}