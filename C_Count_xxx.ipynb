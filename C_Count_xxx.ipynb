{
  "nbformat": 4,
  "nbformat_minor": 0,
  "metadata": {
    "colab": {
      "provenance": [],
      "authorship_tag": "ABX9TyPImkHdrQkq+MeomCJvi3gn",
      "include_colab_link": true
    },
    "kernelspec": {
      "name": "python3",
      "display_name": "Python 3"
    },
    "language_info": {
      "name": "python"
    }
  },
  "cells": [
    {
      "cell_type": "markdown",
      "metadata": {
        "id": "view-in-github",
        "colab_type": "text"
      },
      "source": [
        "<a href=\"https://colab.research.google.com/github/mosaseka/AtCoder/blob/main/C_Count_xxx.ipynb\" target=\"_parent\"><img src=\"https://colab.research.google.com/assets/colab-badge.svg\" alt=\"Open In Colab\"/></a>"
      ]
    },
    {
      "cell_type": "code",
      "execution_count": null,
      "metadata": {
        "id": "1ORsFtC9TqnJ"
      },
      "outputs": [],
      "source": [
        "def getCharNGram(n,s):\n",
        "    charGram = [''.join(s[i:i+n]) for i in range(len(s)-n+1)]\n",
        "    return charGram\n",
        "\n",
        "N = int(input())\n",
        "S = str(input())\n",
        "LIST = []\n",
        "COUNT = 0\n",
        "\n",
        "for i in range(1,N+1):\n",
        "  #print(getCharNGram(i,S))\n",
        "  LIST += getCharNGram(i,S)\n",
        "\n",
        "LIST = list(set(LIST))\n",
        "\n",
        "for i in range(len(LIST)):\n",
        "  if len(set(LIST[i])) == 1:\n",
        "    COUNT += 1\n",
        "\n",
        "print(COUNT)"
      ]
    },
    {
      "cell_type": "code",
      "source": [
        "import string\n",
        "from collections import deque\n",
        "\n",
        "N = int(input())\n",
        "S = str(input())\n",
        "COUNT = 1\n",
        "INDEX = 0\n",
        "SET = set()\n",
        "LIST = [deque([0]) for i in range(26)]\n",
        "ALPHABET = string.ascii_lowercase\n",
        "ANSWER = 0\n",
        "\n",
        "if N == 1:\n",
        "  print(1)\n",
        "  exit()\n",
        "\n",
        "for i in range(N-1):\n",
        "  if S[i] == S[i+1]:\n",
        "    COUNT += 1\n",
        "  else:\n",
        "    INDEX = ALPHABET.index(S[i])\n",
        "    LIST[INDEX].append(COUNT)\n",
        "    COUNT = 1\n",
        "\n",
        "for i in range(26):\n",
        "  ANSWER += max(LIST[i])\n",
        "\n",
        "print(ANSWER)"
      ],
      "metadata": {
        "id": "Q3FIqvcaV3Gl"
      },
      "execution_count": null,
      "outputs": []
    },
    {
      "cell_type": "code",
      "source": [
        "import string\n",
        "from collections import deque\n",
        "\n",
        "N = int(input())\n",
        "S = str(input())\n",
        "COUNT = 1\n",
        "INDEX = 0\n",
        "SET = set()\n",
        "LIST = [deque([0]) for i in range(26)]\n",
        "ALPHABET = string.ascii_lowercase\n",
        "ANSWER = 0\n",
        "\n",
        "if N == 1:\n",
        "  print(1)\n",
        "  exit()\n",
        "\n",
        "for i in range(N-1):\n",
        "  if S[i] == S[i+1]:\n",
        "    COUNT += 1\n",
        "  else:\n",
        "    INDEX = ALPHABET.index(S[i])\n",
        "    LIST[INDEX].append(COUNT)\n",
        "    COUNT = 1\n",
        "\n",
        "INDEX = ALPHABET.index(S[-1])\n",
        "LIST[INDEX].append(COUNT)\n",
        "\n",
        "#print(LIST)\n",
        "\n",
        "for i in range(26):\n",
        "  ANSWER += max(LIST[i])\n",
        "\n",
        "print(ANSWER)"
      ],
      "metadata": {
        "id": "Ns8m7xHPc87P"
      },
      "execution_count": null,
      "outputs": []
    }
  ]
}