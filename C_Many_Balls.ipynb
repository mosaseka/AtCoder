{
  "nbformat": 4,
  "nbformat_minor": 0,
  "metadata": {
    "colab": {
      "provenance": [],
      "authorship_tag": "ABX9TyMrEL0WpCnKJK8ZtHTkhsfj",
      "include_colab_link": true
    },
    "kernelspec": {
      "name": "python3",
      "display_name": "Python 3"
    },
    "language_info": {
      "name": "python"
    }
  },
  "cells": [
    {
      "cell_type": "markdown",
      "metadata": {
        "id": "view-in-github",
        "colab_type": "text"
      },
      "source": [
        "<a href=\"https://colab.research.google.com/github/mosaseka/AtCoder/blob/main/C_Many_Balls.ipynb\" target=\"_parent\"><img src=\"https://colab.research.google.com/assets/colab-badge.svg\" alt=\"Open In Colab\"/></a>"
      ]
    },
    {
      "cell_type": "code",
      "execution_count": null,
      "metadata": {
        "id": "gzPcnm8r_LIA"
      },
      "outputs": [],
      "source": [
        "N = int(input())\n",
        "MAGIC = \"A\"\n",
        "COUNT = 1\n",
        "\n",
        "while True:\n",
        "  if COUNT * 2 < N:\n",
        "    COUNT *= 2\n",
        "    MAGIC += \"B\"\n",
        "  else:\n",
        "    break\n",
        "\n",
        "for i in range(N-COUNT):\n",
        "  MAGIC += \"A\"\n",
        "\n",
        "print(MAGIC)"
      ]
    },
    {
      "cell_type": "code",
      "source": [
        "N = int(input())\n",
        "MAGIC = \"\"\n",
        "\n",
        "while N != 0:\n",
        "  if N%2 == 0:\n",
        "    N //= 2\n",
        "    MAGIC += \"B\"\n",
        "  else:\n",
        "    N -= 1\n",
        "    MAGIC += \"A\"\n",
        "\n",
        "print(MAGIC[::-1])"
      ],
      "metadata": {
        "id": "1D6d2L1HAhvi"
      },
      "execution_count": null,
      "outputs": []
    }
  ]
}