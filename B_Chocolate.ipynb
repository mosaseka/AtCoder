{
  "nbformat": 4,
  "nbformat_minor": 0,
  "metadata": {
    "colab": {
      "provenance": [],
      "authorship_tag": "ABX9TyNU+i+ZepO3vNzAauDcnjFC",
      "include_colab_link": true
    },
    "kernelspec": {
      "name": "python3",
      "display_name": "Python 3"
    },
    "language_info": {
      "name": "python"
    }
  },
  "cells": [
    {
      "cell_type": "markdown",
      "metadata": {
        "id": "view-in-github",
        "colab_type": "text"
      },
      "source": [
        "<a href=\"https://colab.research.google.com/github/mosaseka/AtCoder/blob/main/B_Chocolate.ipynb\" target=\"_parent\"><img src=\"https://colab.research.google.com/assets/colab-badge.svg\" alt=\"Open In Colab\"/></a>"
      ]
    },
    {
      "cell_type": "code",
      "execution_count": null,
      "metadata": {
        "colab": {
          "base_uri": "https://localhost:8080/"
        },
        "id": "vHhAemqLiaHa",
        "outputId": "489bf453-da19-4768-84d9-dd3c228ebfa6"
      },
      "outputs": [
        {
          "output_type": "stream",
          "name": "stdout",
          "text": [
            "5\n",
            "30 44\n",
            "26\n",
            "18\n",
            "81\n",
            "18\n",
            "6\n",
            "56\n"
          ]
        }
      ],
      "source": [
        "N = int(input())\n",
        "D,X = map(int,input().split())\n",
        "A_LIST = []\n",
        "COUNT_LIST = []\n",
        "CHOCOLATE_COUNT = X + N\n",
        "\n",
        "for i in range(N):\n",
        "  A_LIST.append(int(input()))\n",
        "  COUNT_LIST.append(0)\n",
        "\n",
        "for i in range(D-1):\n",
        "  for j in range(N):\n",
        "    COUNT_LIST[j] += 1\n",
        "    if COUNT_LIST[j] == A_LIST[j]:\n",
        "      CHOCOLATE_COUNT += 1\n",
        "      COUNT_LIST[j] = 0\n",
        "\n",
        "print(CHOCOLATE_COUNT)"
      ]
    }
  ]
}