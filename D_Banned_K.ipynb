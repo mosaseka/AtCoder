{
  "nbformat": 4,
  "nbformat_minor": 0,
  "metadata": {
    "colab": {
      "provenance": [],
      "authorship_tag": "ABX9TyOucVAzk//FWO47gBTQt5wt",
      "include_colab_link": true
    },
    "kernelspec": {
      "name": "python3",
      "display_name": "Python 3"
    },
    "language_info": {
      "name": "python"
    }
  },
  "cells": [
    {
      "cell_type": "markdown",
      "metadata": {
        "id": "view-in-github",
        "colab_type": "text"
      },
      "source": [
        "<a href=\"https://colab.research.google.com/github/mosaseka/AtCoder/blob/main/D_Banned_K.ipynb\" target=\"_parent\"><img src=\"https://colab.research.google.com/assets/colab-badge.svg\" alt=\"Open In Colab\"/></a>"
      ]
    },
    {
      "cell_type": "code",
      "execution_count": null,
      "metadata": {
        "id": "BIEZpYfzpelc"
      },
      "outputs": [],
      "source": [
        "import itertools\n",
        "\n",
        "N = int(input())\n",
        "A_LIST = list(map(int,input().split()))\n",
        "TOTAL = 0\n",
        "OTHER = 0\n",
        "CHECK_LIST = []\n",
        "NUM = 0\n",
        "\n",
        "TOTAL = len([i for i in itertools.combinations(A_LIST,2) if i[0] == i[1]])\n",
        "\n",
        "#余事象\n",
        "for i in range(N):\n",
        "  OTHER = 0\n",
        "  CHECK_LIST = []\n",
        "  CHECK_LIST += A_LIST\n",
        "  NUM = CHECK_LIST[i]\n",
        "  CHECK_LIST.pop(i)\n",
        "  OTHER += sum([j == NUM for j in CHECK_LIST])\n",
        "  print(TOTAL - OTHER)"
      ]
    },
    {
      "cell_type": "code",
      "source": [
        "from collections import Counter\n",
        "\n",
        "N = int(input())\n",
        "A_LIST = list(map(int,input().split()))\n",
        "TOTAL = 0\n",
        "NUM = 0\n",
        "ANSWER = 0\n",
        "\n",
        "COUNT_DICT = Counter(A_LIST)\n",
        "\n",
        "for i in COUNT_DICT.values():\n",
        "  TOTAL += (i-1)*i//2\n",
        "\n",
        "for i in range(N):\n",
        "  ANSWER = TOTAL - COUNT_DICT[A_LIST[i]]\n",
        "  print(ANSWER+1)"
      ],
      "metadata": {
        "id": "J5QX0sWNwTmF"
      },
      "execution_count": null,
      "outputs": []
    }
  ]
}