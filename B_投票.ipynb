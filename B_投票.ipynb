{
  "nbformat": 4,
  "nbformat_minor": 0,
  "metadata": {
    "colab": {
      "provenance": [],
      "authorship_tag": "ABX9TyONsuC+d6Toc3eaE34euMc0",
      "include_colab_link": true
    },
    "kernelspec": {
      "name": "python3",
      "display_name": "Python 3"
    },
    "language_info": {
      "name": "python"
    }
  },
  "cells": [
    {
      "cell_type": "markdown",
      "metadata": {
        "id": "view-in-github",
        "colab_type": "text"
      },
      "source": [
        "<a href=\"https://colab.research.google.com/github/mosaseka/AtCoder/blob/main/B_%E6%8A%95%E7%A5%A8.ipynb\" target=\"_parent\"><img src=\"https://colab.research.google.com/assets/colab-badge.svg\" alt=\"Open In Colab\"/></a>"
      ]
    },
    {
      "cell_type": "code",
      "execution_count": null,
      "metadata": {
        "colab": {
          "base_uri": "https://localhost:8080/"
        },
        "id": "luKJZVOEBuIG",
        "outputId": "98212961-6bc3-46e0-ae43-dc8942730257"
      },
      "outputs": [
        {
          "output_type": "stream",
          "name": "stdout",
          "text": [
            "4\n",
            "taro\n",
            "jiro\n",
            "saburo\n",
            "taro\n",
            "taro\n"
          ]
        }
      ],
      "source": [
        "from statistics import mode\n",
        "\n",
        "N = int(input())\n",
        "LIST = []\n",
        "\n",
        "for i in range(N):\n",
        "  LIST.append(str(input()))\n",
        "\n",
        "print(mode(LIST))"
      ]
    }
  ]
}