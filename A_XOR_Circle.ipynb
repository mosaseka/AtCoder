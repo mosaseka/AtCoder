{
  "nbformat": 4,
  "nbformat_minor": 0,
  "metadata": {
    "colab": {
      "provenance": [],
      "authorship_tag": "ABX9TyPDHGWgNJvS+aIUjMFdOI9U",
      "include_colab_link": true
    },
    "kernelspec": {
      "name": "python3",
      "display_name": "Python 3"
    },
    "language_info": {
      "name": "python"
    }
  },
  "cells": [
    {
      "cell_type": "markdown",
      "metadata": {
        "id": "view-in-github",
        "colab_type": "text"
      },
      "source": [
        "<a href=\"https://colab.research.google.com/github/mosaseka/AtCoder/blob/main/A_XOR_Circle.ipynb\" target=\"_parent\"><img src=\"https://colab.research.google.com/assets/colab-badge.svg\" alt=\"Open In Colab\"/></a>"
      ]
    },
    {
      "cell_type": "code",
      "execution_count": null,
      "metadata": {
        "colab": {
          "base_uri": "https://localhost:8080/"
        },
        "id": "69p8MTlkQ4YF",
        "outputId": "53eb31a3-0ea6-440e-8321-d1f11b9ce45d"
      },
      "outputs": [
        {
          "output_type": "stream",
          "name": "stdout",
          "text": [
            "3\n",
            "1 2 3\n",
            "Yes\n"
          ]
        }
      ],
      "source": [
        "from sys import stdin\n",
        "\n",
        "N = int(input())\n",
        "A_LIST = [int(i) for i in stdin.readline().rstrip().split()]\n",
        "NUM = 0\n",
        "\n",
        "for i in A_LIST:\n",
        "  NUM = NUM ^ i\n",
        "\n",
        "if NUM == 0:\n",
        "  print(\"Yes\")\n",
        "else:\n",
        "  print(\"No\")"
      ]
    },
    {
      "cell_type": "code",
      "source": [
        "from sys import stdin\n",
        "\n",
        "N = int(input())\n",
        "A_LIST = [int(i) for i in stdin.readline().rstrip().split()]\n",
        "NUM = 0\n",
        "A_SET = set(A_LIST)\n",
        "ALPHA = 0\n",
        "BETA = 0\n",
        "GANMA = 0\n",
        "\n",
        "if len(A_SET) == 1:\n",
        "  if sum(A_SET) == 0:\n",
        "    print(\"Yes\")\n",
        "  else:\n",
        "    print(\"No\")\n",
        "elif len(A_SET) == 2:\n",
        "  ALPHA,BETA = sorted(A_SET)\n",
        "  if ALPHA == 0:\n",
        "    if A_LIST.count(ALPHA) * 3 == N:\n",
        "      print(\"Yes\")\n",
        "    else:\n",
        "      print(\"No\")\n",
        "  else:\n",
        "    print(\"No\")\n",
        "elif len(A_SET) == 3:\n",
        "  ALPHA,BETA,GANMA = A_SET\n",
        "  if A_LIST.count(ALPHA) == A_LIST.count(BETA) and A_LIST.count(BETA) == A_LIST.count(GANMA):\n",
        "    if ALPHA ^ BETA == GANMA:\n",
        "      print(\"Yes\")\n",
        "    else:\n",
        "      print(\"No\")\n",
        "  else:\n",
        "    print(\"No\")\n",
        "else:\n",
        "  print(\"No\")"
      ],
      "metadata": {
        "id": "8dcFcgT9SuQQ"
      },
      "execution_count": null,
      "outputs": []
    }
  ]
}