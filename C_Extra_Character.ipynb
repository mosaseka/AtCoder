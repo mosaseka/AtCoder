{
  "nbformat": 4,
  "nbformat_minor": 0,
  "metadata": {
    "colab": {
      "provenance": [],
      "authorship_tag": "ABX9TyO67KQtEPjKME2Nyc5bbuUX",
      "include_colab_link": true
    },
    "kernelspec": {
      "name": "python3",
      "display_name": "Python 3"
    },
    "language_info": {
      "name": "python"
    }
  },
  "cells": [
    {
      "cell_type": "markdown",
      "metadata": {
        "id": "view-in-github",
        "colab_type": "text"
      },
      "source": [
        "<a href=\"https://colab.research.google.com/github/mosaseka/AtCoder/blob/main/C_Extra_Character.ipynb\" target=\"_parent\"><img src=\"https://colab.research.google.com/assets/colab-badge.svg\" alt=\"Open In Colab\"/></a>"
      ]
    },
    {
      "cell_type": "code",
      "execution_count": null,
      "metadata": {
        "colab": {
          "base_uri": "https://localhost:8080/"
        },
        "id": "hn_8hdGi2Iwa",
        "outputId": "f36b3be5-0451-4cfd-efa1-3871eb646c16"
      },
      "outputs": [
        {
          "output_type": "stream",
          "name": "stdout",
          "text": [
            "million\n",
            "milllion\n",
            "5\n"
          ]
        }
      ],
      "source": [
        "S_LIST = list(map(str,input()))\n",
        "T_LIST = list(map(str,input()))\n",
        "S_LIST_LENGTH = len(S_LIST)\n",
        "T_LIST_LENGTH = len(T_LIST)\n",
        "\n",
        "for i in range(S_LIST_LENGTH):\n",
        "  if S_LIST[i] != T_LIST[i]:\n",
        "    print(i+1)\n",
        "    break\n",
        "  elif i+1 == S_LIST_LENGTH:\n",
        "    print(i+2)\n",
        "  else:\n",
        "    pass"
      ]
    }
  ]
}