{
  "nbformat": 4,
  "nbformat_minor": 0,
  "metadata": {
    "colab": {
      "provenance": [],
      "authorship_tag": "ABX9TyMGaKomYtVKChkKihrbvoX4",
      "include_colab_link": true
    },
    "kernelspec": {
      "name": "python3",
      "display_name": "Python 3"
    },
    "language_info": {
      "name": "python"
    }
  },
  "cells": [
    {
      "cell_type": "markdown",
      "metadata": {
        "id": "view-in-github",
        "colab_type": "text"
      },
      "source": [
        "<a href=\"https://colab.research.google.com/github/mosaseka/AtCoder/blob/main/C_Average_Length.ipynb\" target=\"_parent\"><img src=\"https://colab.research.google.com/assets/colab-badge.svg\" alt=\"Open In Colab\"/></a>"
      ]
    },
    {
      "cell_type": "code",
      "execution_count": null,
      "metadata": {
        "colab": {
          "base_uri": "https://localhost:8080/"
        },
        "id": "7dwCdrzF7gEr",
        "outputId": "38f86f04-cc7d-44d6-b3c3-8183456ba28b"
      },
      "outputs": [
        {
          "output_type": "stream",
          "name": "stdout",
          "text": [
            "3\n",
            "0 0\n",
            "1 0\n",
            "0 1\n",
            "[[[0, 0], [1, 0], [0, 1]], [[0, 0], [0, 1], [1, 0]], [[1, 0], [0, 0], [0, 1]], [[1, 0], [0, 1], [0, 0]], [[0, 1], [0, 0], [1, 0]], [[0, 1], [1, 0], [0, 0]]]\n"
          ]
        }
      ],
      "source": [
        "import itertools\n",
        "import math\n",
        "import statistics\n",
        "\n",
        "N = int(input())\n",
        "POINT_LIST = []\n",
        "ANSWER_LIST = []\n",
        "PERMUTATION_LIST = []\n",
        "LENGTH = 0\n",
        "X = 0\n",
        "Y = 0\n",
        "\n",
        "for i in range(N):\n",
        "  POINT_LIST.append(list(map(int,input().split())))\n",
        "\n",
        "for i in itertools.permutations(POINT_LIST,N):\n",
        "  PERMUTATION_LIST.append(list(i))\n",
        "\n",
        "#print(PERMUTATION_LIST)\n",
        "\n",
        "for i in range(len(PERMUTATION_LIST)):\n",
        "  LENGTH = 0\n",
        "  X = 0\n",
        "  Y = 0\n",
        "  for j in range(N-1):\n",
        "    X = (PERMUTATION_LIST[i][j][0] - PERMUTATION_LIST[i][j+1][0])**2\n",
        "    Y = (PERMUTATION_LIST[i][j][1] - PERMUTATION_LIST[i][j+1][1])**2\n",
        "    LENGTH += math.sqrt(X + Y)\n",
        "  ANSWER_LIST.append(LENGTH)\n",
        "\n",
        "print(statistics.mean(ANSWER_LIST))"
      ]
    }
  ]
}