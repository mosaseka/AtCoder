{
  "nbformat": 4,
  "nbformat_minor": 0,
  "metadata": {
    "colab": {
      "provenance": [],
      "authorship_tag": "ABX9TyPKggd0e/OMAOCrJFYhdKU5",
      "include_colab_link": true
    },
    "kernelspec": {
      "name": "python3",
      "display_name": "Python 3"
    },
    "language_info": {
      "name": "python"
    }
  },
  "cells": [
    {
      "cell_type": "markdown",
      "metadata": {
        "id": "view-in-github",
        "colab_type": "text"
      },
      "source": [
        "<a href=\"https://colab.research.google.com/github/mosaseka/AtCoder/blob/main/B_Postal_Card.ipynb\" target=\"_parent\"><img src=\"https://colab.research.google.com/assets/colab-badge.svg\" alt=\"Open In Colab\"/></a>"
      ]
    },
    {
      "cell_type": "code",
      "execution_count": null,
      "metadata": {
        "colab": {
          "base_uri": "https://localhost:8080/"
        },
        "id": "1E7GSZz6d5tz",
        "outputId": "3eb22593-586e-4651-d2ae-fff3cfbcd261"
      },
      "outputs": [
        {
          "output_type": "stream",
          "name": "stdout",
          "text": [
            "4 4\n",
            "000000\n",
            "['000']\n",
            "123456\n",
            "['000', '456']\n",
            "987111\n",
            "['000', '456', '111']\n",
            "000000\n",
            "['000', '456', '111', '000']\n",
            "000\n",
            "111\n",
            "999\n",
            "111\n",
            "3\n"
          ]
        }
      ],
      "source": [
        "N,M = map(int,input().split())\n",
        "S_LIST = []\n",
        "T_LIST = []\n",
        "COUNT = 0\n",
        "\n",
        "for i in range(N):\n",
        "  S_LIST.append(str(input()[-3:]))\n",
        "\n",
        "for i in range(M):\n",
        "  T_LIST.append(str(input()))\n",
        "\n",
        "for i in range(N):\n",
        "  for j in range(M):\n",
        "    if S_LIST[i] == T_LIST[j]:\n",
        "      COUNT = COUNT + 1\n",
        "      break\n",
        "    else:\n",
        "      pass\n",
        "\n",
        "print(COUNT)"
      ]
    }
  ]
}