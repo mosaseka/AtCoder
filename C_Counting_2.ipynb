{
  "nbformat": 4,
  "nbformat_minor": 0,
  "metadata": {
    "colab": {
      "provenance": [],
      "authorship_tag": "ABX9TyM+PMLE22JYSLL92ncpHNQ/",
      "include_colab_link": true
    },
    "kernelspec": {
      "name": "python3",
      "display_name": "Python 3"
    },
    "language_info": {
      "name": "python"
    }
  },
  "cells": [
    {
      "cell_type": "markdown",
      "metadata": {
        "id": "view-in-github",
        "colab_type": "text"
      },
      "source": [
        "<a href=\"https://colab.research.google.com/github/mosaseka/AtCoder/blob/main/C_Counting_2.ipynb\" target=\"_parent\"><img src=\"https://colab.research.google.com/assets/colab-badge.svg\" alt=\"Open In Colab\"/></a>"
      ]
    },
    {
      "cell_type": "code",
      "execution_count": null,
      "metadata": {
        "id": "5XA9BhFRqrB_"
      },
      "outputs": [],
      "source": [
        "import bisect\n",
        "\n",
        "N,Q = map(int,input().split())\n",
        "A_LIST = list(map(int,input().split()))\n",
        "INDEX = 0\n",
        "CHECK = []\n",
        "\n",
        "A_LIST.sort()\n",
        "\n",
        "for i in range(Q):\n",
        "  INDEX = bisect.bisect_left(A_LIST,int(input()))\n",
        "  CHECK = A_LIST[INDEX:]\n",
        "  print(len(CHECK))"
      ]
    },
    {
      "cell_type": "code",
      "source": [
        "import bisect\n",
        "\n",
        "N,Q = map(int,input().split())\n",
        "A_LIST = list(map(int,input().split()))\n",
        "INDEX = 0\n",
        "LEN = len(A_LIST)\n",
        "\n",
        "A_LIST.sort()\n",
        "\n",
        "for i in range(Q):\n",
        "  INDEX = bisect.bisect_left(A_LIST,int(input()))\n",
        "  print(LEN-INDEX)"
      ],
      "metadata": {
        "id": "u62JCicYr8cP"
      },
      "execution_count": null,
      "outputs": []
    }
  ]
}