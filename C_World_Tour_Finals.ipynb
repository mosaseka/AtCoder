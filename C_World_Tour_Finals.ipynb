{
  "nbformat": 4,
  "nbformat_minor": 0,
  "metadata": {
    "colab": {
      "provenance": [],
      "authorship_tag": "ABX9TyObvbCBXEfQY158BwfwCcWB",
      "include_colab_link": true
    },
    "kernelspec": {
      "name": "python3",
      "display_name": "Python 3"
    },
    "language_info": {
      "name": "python"
    }
  },
  "cells": [
    {
      "cell_type": "markdown",
      "metadata": {
        "id": "view-in-github",
        "colab_type": "text"
      },
      "source": [
        "<a href=\"https://colab.research.google.com/github/mosaseka/AtCoder/blob/main/C_World_Tour_Finals.ipynb\" target=\"_parent\"><img src=\"https://colab.research.google.com/assets/colab-badge.svg\" alt=\"Open In Colab\"/></a>"
      ]
    },
    {
      "cell_type": "code",
      "execution_count": null,
      "metadata": {
        "id": "qxV1lvZJAkcH"
      },
      "outputs": [],
      "source": [
        "N,M = map(int,input().split())\n",
        "A_LIST = list(map(int,input().split()))\n",
        "PLAYER = [0 for i in range(N)]\n",
        "S = \"\"\n",
        "MAX = 0\n",
        "COUNT = 0\n",
        "\n",
        "for i in range(N):\n",
        "  S = str(input())\n",
        "  for j in range(M):\n",
        "    if S[j] == \"o\":\n",
        "      PLAYER[i] += A_LIST[j]\n",
        "  PLAYER[i] += (i+1)\n",
        "\n",
        "#print(PLAYER)\n",
        "\n",
        "MAX = max(PLAYER)\n",
        "A_LIST.sort(reverse=True)\n",
        "\n",
        "for i in range(N):\n",
        "  if MAX == PLAYER[i]:\n",
        "    print(0)\n",
        "  else:\n",
        "    COUNT = 0\n",
        "    for j in range(M):\n",
        "      PLAYER[i] += A_LIST[j]\n",
        "      COUNT += 1\n",
        "      if MAX < PLAYER[i]:\n",
        "        print(COUNT)\n",
        "        break"
      ]
    },
    {
      "cell_type": "code",
      "source": [
        "N,M = map(int,input().split())\n",
        "A_LIST = list(map(int,input().split()))\n",
        "PLAYER = [0 for i in range(N)]\n",
        "REMOVE = [[] for i in range(N)]\n",
        "CHECK = []\n",
        "S = \"\"\n",
        "MAX = 0\n",
        "COUNT = 0\n",
        "\n",
        "for i in range(N):\n",
        "  S = str(input())\n",
        "  for j in range(M):\n",
        "    if S[j] == \"o\":\n",
        "      PLAYER[i] += A_LIST[j]\n",
        "      REMOVE[i].append(A_LIST[j])\n",
        "  PLAYER[i] += (i+1)\n",
        "\n",
        "#print(PLAYER)\n",
        "\n",
        "MAX = max(PLAYER)\n",
        "\n",
        "for i in range(N):\n",
        "  if MAX == PLAYER[i]:\n",
        "    print(0)\n",
        "  else:\n",
        "    COUNT = 0\n",
        "    CHECK = A_LIST.copy()\n",
        "    for j in range(len(REMOVE[i])):\n",
        "      CHECK.remove(REMOVE[i][j])\n",
        "    CHECK.sort(reverse=True)\n",
        "    for j in range(len(CHECK)):\n",
        "      PLAYER[i] += CHECK[j]\n",
        "      COUNT += 1\n",
        "      if MAX < PLAYER[i]:\n",
        "        print(COUNT)\n",
        "        break"
      ],
      "metadata": {
        "id": "joMyuIkSKtRt"
      },
      "execution_count": null,
      "outputs": []
    }
  ]
}