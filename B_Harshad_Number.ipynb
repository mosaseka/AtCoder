{
  "nbformat": 4,
  "nbformat_minor": 0,
  "metadata": {
    "colab": {
      "provenance": [],
      "authorship_tag": "ABX9TyMp0g1al/EH52wuoVV3Hncp",
      "include_colab_link": true
    },
    "kernelspec": {
      "name": "python3",
      "display_name": "Python 3"
    },
    "language_info": {
      "name": "python"
    }
  },
  "cells": [
    {
      "cell_type": "markdown",
      "metadata": {
        "id": "view-in-github",
        "colab_type": "text"
      },
      "source": [
        "<a href=\"https://colab.research.google.com/github/mosaseka/AtCoder/blob/main/B_Harshad_Number.ipynb\" target=\"_parent\"><img src=\"https://colab.research.google.com/assets/colab-badge.svg\" alt=\"Open In Colab\"/></a>"
      ]
    },
    {
      "cell_type": "code",
      "execution_count": null,
      "metadata": {
        "id": "Qx-0I2PuCX1B"
      },
      "outputs": [],
      "source": [
        "def F(N):\n",
        "  N = str(N)\n",
        "  VALUE = 0\n",
        "  for i in range(len(N)):\n",
        "    VALUE += int(N[i])\n",
        "  return VALUE\n",
        "\n",
        "N = int(input())\n",
        "\n",
        "#print(F(N))\n",
        "\n",
        "if N % F(N) == 0:\n",
        "  print(\"Yes\")\n",
        "else:\n",
        "  print(\"No\")"
      ]
    }
  ]
}