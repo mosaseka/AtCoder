{
  "nbformat": 4,
  "nbformat_minor": 0,
  "metadata": {
    "colab": {
      "provenance": [],
      "authorship_tag": "ABX9TyMjJ00Q3/maQaNbLAM2JRBh",
      "include_colab_link": true
    },
    "kernelspec": {
      "name": "python3",
      "display_name": "Python 3"
    },
    "language_info": {
      "name": "python"
    }
  },
  "cells": [
    {
      "cell_type": "markdown",
      "metadata": {
        "id": "view-in-github",
        "colab_type": "text"
      },
      "source": [
        "<a href=\"https://colab.research.google.com/github/mosaseka/AtCoder/blob/main/B_Sum_of_Three_Integers.ipynb\" target=\"_parent\"><img src=\"https://colab.research.google.com/assets/colab-badge.svg\" alt=\"Open In Colab\"/></a>"
      ]
    },
    {
      "cell_type": "code",
      "execution_count": null,
      "metadata": {
        "colab": {
          "base_uri": "https://localhost:8080/"
        },
        "id": "t0BBvOfrVJrH",
        "outputId": "72fb38fa-5036-4511-c351-7c581ef84bbf"
      },
      "outputs": [
        {
          "output_type": "stream",
          "name": "stdout",
          "text": [
            "2 2\n",
            "6\n"
          ]
        }
      ],
      "source": [
        "K,S = map(int,input().split())\n",
        "ANSWER = 0\n",
        "\n",
        "for X in range(K+1):\n",
        "  for Y in range(K+1):\n",
        "    if X + Y <= S and X + Y + K >= S:\n",
        "      ANSWER = ANSWER + 1\n",
        "\n",
        "print(ANSWER)"
      ]
    }
  ]
}