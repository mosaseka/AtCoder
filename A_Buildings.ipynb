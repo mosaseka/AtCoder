{
  "nbformat": 4,
  "nbformat_minor": 0,
  "metadata": {
    "colab": {
      "provenance": [],
      "authorship_tag": "ABX9TyPciEPPurdnrPXQTUHhLD+s",
      "include_colab_link": true
    },
    "kernelspec": {
      "name": "python3",
      "display_name": "Python 3"
    },
    "language_info": {
      "name": "python"
    }
  },
  "cells": [
    {
      "cell_type": "markdown",
      "metadata": {
        "id": "view-in-github",
        "colab_type": "text"
      },
      "source": [
        "<a href=\"https://colab.research.google.com/github/mosaseka/AtCoder/blob/main/A_Buildings.ipynb\" target=\"_parent\"><img src=\"https://colab.research.google.com/assets/colab-badge.svg\" alt=\"Open In Colab\"/></a>"
      ]
    },
    {
      "cell_type": "code",
      "execution_count": null,
      "metadata": {
        "id": "oG3zEVZvdvtA"
      },
      "outputs": [],
      "source": [
        "N = int(input())\n",
        "H_LIST = list(map(int,input().split()))\n",
        "INDEX = -1\n",
        "BASE = H_LIST[0]\n",
        "\n",
        "for i in range(N):\n",
        "  if i == 0:\n",
        "    pass\n",
        "  else:\n",
        "    if H_LIST[i] > BASE:\n",
        "      INDEX = i\n",
        "      break\n",
        "\n",
        "if INDEX == -1:\n",
        "  print(INDEX)\n",
        "else:\n",
        "  print(INDEX+1)"
      ]
    }
  ]
}