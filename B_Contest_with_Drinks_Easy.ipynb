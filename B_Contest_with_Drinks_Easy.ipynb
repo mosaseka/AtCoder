{
  "nbformat": 4,
  "nbformat_minor": 0,
  "metadata": {
    "colab": {
      "provenance": [],
      "authorship_tag": "ABX9TyM/om7FxoiWqAWFIG/1k26u",
      "include_colab_link": true
    },
    "kernelspec": {
      "name": "python3",
      "display_name": "Python 3"
    },
    "language_info": {
      "name": "python"
    }
  },
  "cells": [
    {
      "cell_type": "markdown",
      "metadata": {
        "id": "view-in-github",
        "colab_type": "text"
      },
      "source": [
        "<a href=\"https://colab.research.google.com/github/mosaseka/AtCoder/blob/main/B_Contest_with_Drinks_Easy.ipynb\" target=\"_parent\"><img src=\"https://colab.research.google.com/assets/colab-badge.svg\" alt=\"Open In Colab\"/></a>"
      ]
    },
    {
      "cell_type": "code",
      "execution_count": null,
      "metadata": {
        "colab": {
          "base_uri": "https://localhost:8080/"
        },
        "id": "bipkxISjYJqv",
        "outputId": "38aeedd4-125f-4007-d8b7-6f7559390f8f"
      },
      "outputs": [
        {
          "output_type": "stream",
          "name": "stdout",
          "text": [
            "3\n",
            "2 1 4\n",
            "2\n",
            "1 1\n",
            "6\n",
            "2 3\n",
            "9\n"
          ]
        }
      ],
      "source": [
        "N = int(input())\n",
        "T_LIST = list(map(int,input().split()))\n",
        "M = int(input())\n",
        "CHECK_LIST = []\n",
        "P = 0\n",
        "X = 0\n",
        "QUE_LIST = []\n",
        "QUE = 0\n",
        "\n",
        "for i in range(M):\n",
        "  CHECK_LIST.append(T_LIST)\n",
        "\n",
        "#print(CHECK_LIST)\n",
        "\n",
        "for i in range(M):\n",
        "  QUE_LIST = []\n",
        "  QUE = 0\n",
        "  QUE_LIST = CHECK_LIST[i]\n",
        "  #print(QUE_LIST)\n",
        "  #print(T_LIST)\n",
        "  P,X = map(int,input().split())\n",
        "  QUE_LIST[P-1],QUE = X,QUE_LIST[P-1]\n",
        "  #print(CHECK_LIST)\n",
        "  print(sum(QUE_LIST))\n",
        "  QUE_LIST[P-1] = QUE"
      ]
    }
  ]
}