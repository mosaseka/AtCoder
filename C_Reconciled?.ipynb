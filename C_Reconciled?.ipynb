{
  "nbformat": 4,
  "nbformat_minor": 0,
  "metadata": {
    "colab": {
      "provenance": [],
      "authorship_tag": "ABX9TyNruA+Xr/d0w5TEnvUZc52M",
      "include_colab_link": true
    },
    "kernelspec": {
      "name": "python3",
      "display_name": "Python 3"
    },
    "language_info": {
      "name": "python"
    }
  },
  "cells": [
    {
      "cell_type": "markdown",
      "metadata": {
        "id": "view-in-github",
        "colab_type": "text"
      },
      "source": [
        "<a href=\"https://colab.research.google.com/github/mosaseka/AtCoder/blob/main/C_Reconciled%3F.ipynb\" target=\"_parent\"><img src=\"https://colab.research.google.com/assets/colab-badge.svg\" alt=\"Open In Colab\"/></a>"
      ]
    },
    {
      "cell_type": "code",
      "execution_count": null,
      "metadata": {
        "id": "okvsiF-Wvjtv"
      },
      "outputs": [],
      "source": [
        "import math\n",
        "\n",
        "N,M = map(int,input().split())\n",
        "ANSWER = 0\n",
        "\n",
        "if abs(N-M) > 1:\n",
        "  ANSWER = 0\n",
        "elif abs(N-M) == 1:\n",
        "  ANSWER = math.factorial(N) * math.factorial(M)\n",
        "elif abs(N-M) == 0:\n",
        "  ANSWER = math.factorial(N) * math.factorial(M) * 2\n",
        "\n",
        "print(ANSWER % ((10**9)+7))"
      ]
    }
  ]
}