{
  "nbformat": 4,
  "nbformat_minor": 0,
  "metadata": {
    "colab": {
      "provenance": [],
      "authorship_tag": "ABX9TyMiN1rIJjKXtOgBfZZOaeq8",
      "include_colab_link": true
    },
    "kernelspec": {
      "name": "python3",
      "display_name": "Python 3"
    },
    "language_info": {
      "name": "python"
    }
  },
  "cells": [
    {
      "cell_type": "markdown",
      "metadata": {
        "id": "view-in-github",
        "colab_type": "text"
      },
      "source": [
        "<a href=\"https://colab.research.google.com/github/mosaseka/AtCoder/blob/main/C_Compass_Walking.ipynb\" target=\"_parent\"><img src=\"https://colab.research.google.com/assets/colab-badge.svg\" alt=\"Open In Colab\"/></a>"
      ]
    },
    {
      "cell_type": "code",
      "execution_count": null,
      "metadata": {
        "id": "HpJa7c7gpWkq"
      },
      "outputs": [],
      "source": [
        "import math\n",
        "\n",
        "R,X,Y = map(int,input().split())\n",
        "DISTANCE = math.sqrt(X**2 + Y**2)\n",
        "\n",
        "if DISTANCE < R:\n",
        "  print(2)\n",
        "else:\n",
        "  print(math.ceil(DISTANCE/R))"
      ]
    }
  ]
}