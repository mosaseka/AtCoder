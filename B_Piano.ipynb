{
  "nbformat": 4,
  "nbformat_minor": 0,
  "metadata": {
    "colab": {
      "provenance": [],
      "authorship_tag": "ABX9TyOJVsedXWpWtQcvSzeyi3TS",
      "include_colab_link": true
    },
    "kernelspec": {
      "name": "python3",
      "display_name": "Python 3"
    },
    "language_info": {
      "name": "python"
    }
  },
  "cells": [
    {
      "cell_type": "markdown",
      "metadata": {
        "id": "view-in-github",
        "colab_type": "text"
      },
      "source": [
        "<a href=\"https://colab.research.google.com/github/mosaseka/AtCoder/blob/main/B_Piano.ipynb\" target=\"_parent\"><img src=\"https://colab.research.google.com/assets/colab-badge.svg\" alt=\"Open In Colab\"/></a>"
      ]
    },
    {
      "cell_type": "code",
      "execution_count": null,
      "metadata": {
        "id": "yfCpI0YAuSMq"
      },
      "outputs": [],
      "source": [
        "from collections import Counter\n",
        "\n",
        "W,B = map(int,input().split())\n",
        "S = \"wbwbwwbwbwbw\" * 10000\n",
        "COUNT = []\n",
        "#print(S)\n",
        "\n",
        "for i in range(len(S)-(W+B)):\n",
        "  COUNT = list(Counter(S[i:i+(W+B)]).items())\n",
        "  COUNT.sort()\n",
        "  #print(COUNT)\n",
        "  if COUNT[0][1] == B and COUNT[1][1] == W:\n",
        "    print(\"Yes\")\n",
        "    exit()\n",
        "\n",
        "print(\"No\")"
      ]
    },
    {
      "cell_type": "markdown",
      "source": [
        "次の問題をPythonで解いてください。\n",
        "\n",
        "文字列 wbwbwwbwbwbw を無限に繰り返してできる文字列を\n",
        "S とおきます。\n",
        "\n",
        "S の部分文字列であって、\n",
        "W 個の w と\n",
        "B 個の b からなるものは存在しますか？"
      ],
      "metadata": {
        "id": "VNFNAbYsOT-H"
      }
    },
    {
      "cell_type": "code",
      "source": [
        "def extract_substrings(s, n):\n",
        "    substrings = []\n",
        "    for i in range(len(s) - n + 1):\n",
        "        substrings.append(s[i:i+n])\n",
        "    return substrings\n",
        "\n",
        "# 使用例\n",
        "input_string = \"Hello, World!\"\n",
        "substring_length = 3\n",
        "result = extract_substrings(input_string, substring_length)\n",
        "print(result)\n"
      ],
      "metadata": {
        "colab": {
          "base_uri": "https://localhost:8080/"
        },
        "id": "K-nfwovJQrul",
        "outputId": "6776a676-59b1-4f13-abd5-a47ff747d57b"
      },
      "execution_count": 2,
      "outputs": [
        {
          "output_type": "stream",
          "name": "stdout",
          "text": [
            "['Hel', 'ell', 'llo', 'lo,', 'o, ', ', W', ' Wo', 'Wor', 'orl', 'rld', 'ld!']\n"
          ]
        }
      ]
    },
    {
      "cell_type": "code",
      "source": [
        "from collections import Counter\n",
        "\n",
        "def extract_substrings(s, n):\n",
        "    substrings = []\n",
        "    for i in range(len(s) - n + 1):\n",
        "        substrings.append(s[i:i+n])\n",
        "    return substrings\n",
        "\n",
        "W,B = map(int,input().split())\n",
        "S = \"wbwbwwbwbwbw\" * 10000\n",
        "CHECK = extract_substrings(S,W+B)\n",
        "COUNT = []\n",
        "\n",
        "for i in range(len(CHECK)):\n",
        "    COUNT = list(Counter(CHECK[i]).items())\n",
        "    COUNT.sort()\n",
        "    #print(COUNT)\n",
        "    if COUNT[0][1] == B and COUNT[1][1] == W:\n",
        "      print(\"Yes\")\n",
        "      exit()\n",
        "\n",
        "print(\"No\")"
      ],
      "metadata": {
        "id": "4EFbjFP1Q5Ej"
      },
      "execution_count": null,
      "outputs": []
    },
    {
      "cell_type": "code",
      "source": [
        "def check_substring_exists(S, W, B):\n",
        "    # 文字列SからW個のwとB個のbからなる部分文字列が存在するかどうかを判定する関数\n",
        "    # SをWとBに分割して、それぞれの個数を求める\n",
        "    w_count = S.count('w')\n",
        "    b_count = S.count('b')\n",
        "\n",
        "    # Sの中にW個のwとB個のbからなる部分文字列があるかどうかを判定する\n",
        "    for i in range(len(S)):\n",
        "        substring = S[i:i + W + B]\n",
        "        w_in_substring = substring.count('w')\n",
        "        b_in_substring = substring.count('b')\n",
        "        if w_in_substring == W and b_in_substring == B:\n",
        "            return True\n",
        "\n",
        "    # ループを抜けても条件を満たす部分文字列が見つからない場合はFalseを返す\n",
        "    return False\n",
        "\n",
        "# テストケース\n",
        "S = 'wbwbwwbwbwbw' * 10000\n",
        "W,B = map(int,input().split())\n",
        "result = check_substring_exists(S, W, B)\n",
        "\n",
        "if result:\n",
        "  print(\"Yes\")\n",
        "else:\n",
        "  print(\"No\")"
      ],
      "metadata": {
        "id": "21nXneSsXIkK"
      },
      "execution_count": null,
      "outputs": []
    }
  ]
}