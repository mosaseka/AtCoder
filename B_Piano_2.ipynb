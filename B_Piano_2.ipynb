{
  "nbformat": 4,
  "nbformat_minor": 0,
  "metadata": {
    "colab": {
      "provenance": [],
      "authorship_tag": "ABX9TyOrmptrnUyHIy9M+Ir69ARS",
      "include_colab_link": true
    },
    "kernelspec": {
      "name": "python3",
      "display_name": "Python 3"
    },
    "language_info": {
      "name": "python"
    }
  },
  "cells": [
    {
      "cell_type": "markdown",
      "metadata": {
        "id": "view-in-github",
        "colab_type": "text"
      },
      "source": [
        "<a href=\"https://colab.research.google.com/github/mosaseka/AtCoder/blob/main/B_Piano_2.ipynb\" target=\"_parent\"><img src=\"https://colab.research.google.com/assets/colab-badge.svg\" alt=\"Open In Colab\"/></a>"
      ]
    },
    {
      "cell_type": "code",
      "execution_count": null,
      "metadata": {
        "id": "d_DodgXFt3k4"
      },
      "outputs": [],
      "source": [
        "N,M = map(int,input().split())\n",
        "A_LIST = list(map(int,input().split()))\n",
        "B_LIST = list(map(int,input().split()))\n",
        "A_SET = set(A_LIST)\n",
        "LIST = A_LIST + B_LIST\n",
        "A = 0\n",
        "B = 0\n",
        "\n",
        "LIST.sort()\n",
        "\n",
        "if N == 1 and M == 1:\n",
        "  print(\"No\")\n",
        "  exit()\n",
        "\n",
        "for i in range(N-1):\n",
        "  A = LIST.index(A_LIST[i])\n",
        "  B = LIST.index(A_LIST[i+1])\n",
        "  if abs(A-B) == 1:\n",
        "    print(\"Yes\")\n",
        "    exit()\n",
        "\n",
        "print(\"No\")"
      ]
    },
    {
      "cell_type": "code",
      "source": [
        "from itertools import combinations\n",
        "\n",
        "N,M = map(int,input().split())\n",
        "A_LIST = list(map(int,input().split()))\n",
        "B_LIST = list(map(int,input().split()))\n",
        "A_SET = set(A_LIST)\n",
        "LIST = A_LIST + B_LIST\n",
        "A = 0\n",
        "B = 0\n",
        "\n",
        "LIST.sort()\n",
        "\n",
        "if N == 1 and M == 1:\n",
        "  print(\"No\")\n",
        "  exit()\n",
        "\n",
        "for i in combinations(A_LIST,2):\n",
        "  A = LIST.index(i[0])\n",
        "  B = LIST.index(i[1])\n",
        "  if abs(A-B) == 1:\n",
        "    print(\"Yes\")\n",
        "    exit()\n",
        "\n",
        "print(\"No\")"
      ],
      "metadata": {
        "id": "29CDZE66pwEl"
      },
      "execution_count": null,
      "outputs": []
    }
  ]
}