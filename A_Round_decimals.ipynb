{
  "nbformat": 4,
  "nbformat_minor": 0,
  "metadata": {
    "colab": {
      "provenance": [],
      "authorship_tag": "ABX9TyP2cqC/O/dAAOapeXN0d1gd",
      "include_colab_link": true
    },
    "kernelspec": {
      "name": "python3",
      "display_name": "Python 3"
    },
    "language_info": {
      "name": "python"
    }
  },
  "cells": [
    {
      "cell_type": "markdown",
      "metadata": {
        "id": "view-in-github",
        "colab_type": "text"
      },
      "source": [
        "<a href=\"https://colab.research.google.com/github/mosaseka/AtCoder/blob/main/A_Round_decimals.ipynb\" target=\"_parent\"><img src=\"https://colab.research.google.com/assets/colab-badge.svg\" alt=\"Open In Colab\"/></a>"
      ]
    },
    {
      "cell_type": "code",
      "execution_count": null,
      "metadata": {
        "id": "wveY5qIa2sfw"
      },
      "outputs": [],
      "source": [
        "X = float(input())\n",
        "\n",
        "print(round(X))"
      ]
    },
    {
      "cell_type": "code",
      "source": [
        "X = float(input())\n",
        "\n",
        "print(round(X+0.0005))"
      ],
      "metadata": {
        "id": "A5XV_j9u3cHd"
      },
      "execution_count": null,
      "outputs": []
    }
  ]
}