{
  "nbformat": 4,
  "nbformat_minor": 0,
  "metadata": {
    "colab": {
      "provenance": [],
      "authorship_tag": "ABX9TyPBYU6Xn/ySxgmZZRoh22Go",
      "include_colab_link": true
    },
    "kernelspec": {
      "name": "python3",
      "display_name": "Python 3"
    },
    "language_info": {
      "name": "python"
    }
  },
  "cells": [
    {
      "cell_type": "markdown",
      "metadata": {
        "id": "view-in-github",
        "colab_type": "text"
      },
      "source": [
        "<a href=\"https://colab.research.google.com/github/mosaseka/AtCoder/blob/main/C_Gap_Existence.ipynb\" target=\"_parent\"><img src=\"https://colab.research.google.com/assets/colab-badge.svg\" alt=\"Open In Colab\"/></a>"
      ]
    },
    {
      "cell_type": "code",
      "execution_count": null,
      "metadata": {
        "colab": {
          "base_uri": "https://localhost:8080/"
        },
        "id": "QqjhHpGCujst",
        "outputId": "52557363-7cf7-41c6-fb84-4ad6503f81fd"
      },
      "outputs": [
        {
          "output_type": "stream",
          "name": "stdout",
          "text": [
            "6 5\n",
            "3 1 4 1 5 9\n",
            "[(3, 3), (3, 1), (3, 4), (3, 1), (3, 5), (3, 9), (1, 1), (1, 4), (1, 1), (1, 5), (1, 9), (4, 4), (4, 1), (4, 5), (4, 9), (1, 1), (1, 5), (1, 9), (5, 5), (5, 9), (9, 9)]\n",
            "Yes\n"
          ]
        }
      ],
      "source": [
        "import itertools\n",
        "\n",
        "N,X = map(int,input().split())\n",
        "A_LIST = list(map(int,input().split()))\n",
        "COMB_LIST = []\n",
        "FLAG = False\n",
        "\n",
        "COMB_LIST = list(itertools.combinations_with_replacement(A_LIST,2))\n",
        "\n",
        "#print(COMB_LIST)\n",
        "#print(COMB_LIST[0][0])\n",
        "\n",
        "for i in range(len(COMB_LIST)):\n",
        "  if abs(COMB_LIST[i][0] - COMB_LIST[i][1]) == abs(X):\n",
        "    FLAG = True\n",
        "    break\n",
        "\n",
        "if FLAG:\n",
        "  print(\"Yes\")\n",
        "else:\n",
        "  print(\"No\")"
      ]
    },
    {
      "cell_type": "code",
      "source": [
        "import itertools\n",
        "\n",
        "N,X = map(int,input().split())\n",
        "A_LIST = list(map(int,input().split()))\n",
        "FLAG = False\n",
        "\n",
        "for i in itertools.combinations_with_replacement(A_LIST,2):\n",
        "  if abs(i[0] - i[1]) == abs(X):\n",
        "    FLAG = True\n",
        "    break\n",
        "\n",
        "if FLAG:\n",
        "  print(\"Yes\")\n",
        "else:\n",
        "  print(\"No\")"
      ],
      "metadata": {
        "id": "GM_3iFhww83j"
      },
      "execution_count": null,
      "outputs": []
    },
    {
      "cell_type": "code",
      "source": [
        "N,X = map(int,input().split())\n",
        "A_SET = set(map(int,input().split()))\n",
        "FLAG = False\n",
        "\n",
        "for i in A_SET:\n",
        "  if X + i in A_SET:\n",
        "    FLAG = True\n",
        "    break\n",
        "\n",
        "if FLAG:\n",
        "  print(\"Yes\")\n",
        "else:\n",
        "  print(\"No\")"
      ],
      "metadata": {
        "id": "G9ujIAORzBdK"
      },
      "execution_count": null,
      "outputs": []
    }
  ]
}