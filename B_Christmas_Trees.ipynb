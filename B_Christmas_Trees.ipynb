{
  "nbformat": 4,
  "nbformat_minor": 0,
  "metadata": {
    "colab": {
      "provenance": [],
      "authorship_tag": "ABX9TyNqtgU/jfLEkl0HZZI+BJZ0",
      "include_colab_link": true
    },
    "kernelspec": {
      "name": "python3",
      "display_name": "Python 3"
    },
    "language_info": {
      "name": "python"
    }
  },
  "cells": [
    {
      "cell_type": "markdown",
      "metadata": {
        "id": "view-in-github",
        "colab_type": "text"
      },
      "source": [
        "<a href=\"https://colab.research.google.com/github/mosaseka/AtCoder/blob/main/B_Christmas_Trees.ipynb\" target=\"_parent\"><img src=\"https://colab.research.google.com/assets/colab-badge.svg\" alt=\"Open In Colab\"/></a>"
      ]
    },
    {
      "cell_type": "code",
      "execution_count": null,
      "metadata": {
        "id": "S5b2LHMIiyR5"
      },
      "outputs": [],
      "source": [
        "A,M,L,R = map(int,input().split())\n",
        "DISTANCE = abs(L-R)\n",
        "ANSWER = 0\n",
        "\n",
        "ANSWER += DISTANCE // M\n",
        "\n",
        "if L <= M and M <= R:\n",
        "  ANSWER += 1\n",
        "\n",
        "print(ANSWER)"
      ]
    },
    {
      "cell_type": "code",
      "source": [
        "A,M,L,R = map(int,input().split())\n",
        "ANSWER = 0\n",
        "\n",
        "if L <= A and A <= R:\n",
        "  ANSWER += abs(R-A) // M\n",
        "  ANSWER += abs(L-A) // M\n",
        "  ANSWER += 1\n",
        "elif L == R:\n",
        "  pass\n",
        "elif L > A:\n",
        "  ANSWER += abs(R-A) // M\n",
        "  ANSWER -= abs(L-A) // M\n",
        "elif A > R:\n",
        "  ANSWER += abs(L-A) // M\n",
        "  ANSWER -= abs(R-A) // M\n",
        "\n",
        "print(ANSWER)"
      ],
      "metadata": {
        "id": "FVkTemIbl-Il"
      },
      "execution_count": null,
      "outputs": []
    },
    {
      "cell_type": "code",
      "source": [
        "A,M,L,R = map(int,input().split())\n",
        "ANSWER = 0\n",
        "\n",
        "if L <= A and A <= R:\n",
        "  ANSWER += abs(R-A) // M\n",
        "  ANSWER += abs(L-A) // M\n",
        "  ANSWER += 1\n",
        "elif L == R:\n",
        "  pass\n",
        "elif L > A:\n",
        "  ANSWER += abs(R-A) // M\n",
        "  ANSWER -= abs(L-A) // M\n",
        "  if abs(L-A) % M == 0:\n",
        "    ANSWER += 1\n",
        "elif A > R:\n",
        "  ANSWER += abs(L-A) // M\n",
        "  ANSWER -= abs(R-A) // M\n",
        "  if abs(R-A) % M == 0:\n",
        "    ANSWER += 1\n",
        "\n",
        "print(ANSWER)"
      ],
      "metadata": {
        "id": "4AR7G9RjqjK2"
      },
      "execution_count": null,
      "outputs": []
    },
    {
      "cell_type": "code",
      "source": [
        "A,M,L,R = map(int,input().split())\n",
        "ANSWER = 0\n",
        "\n",
        "if L <= A and A <= R:\n",
        "  ANSWER += abs(R-A) // M\n",
        "  ANSWER += abs(L-A) // M\n",
        "  ANSWER += 1\n",
        "elif L == R:\n",
        "  pass\n",
        "elif L > A:\n",
        "  ANSWER += abs(R-A) // M\n",
        "  ANSWER -= abs(L-A) // M\n",
        "  if abs(R-A) % M == 0:\n",
        "    ANSWER -= 1\n",
        "  if abs(L-A) % M == 0:\n",
        "    ANSWER += 1\n",
        "elif A > R:\n",
        "  ANSWER += abs(L-A) // M\n",
        "  ANSWER -= abs(R-A) // M\n",
        "  if abs(L-A) % M == 0:\n",
        "    ANSWER -= 1\n",
        "  if abs(R-A) % M == 0:\n",
        "    ANSWER += 1\n",
        "\n",
        "print(ANSWER)"
      ],
      "metadata": {
        "id": "10Q8PXJNrDCL"
      },
      "execution_count": null,
      "outputs": []
    },
    {
      "cell_type": "code",
      "source": [
        "A,M,L,R = map(int,input().split())\n",
        "ANSWER = 0\n",
        "\n",
        "if L == R:\n",
        "  pass\n",
        "elif L <= A and A <= R:\n",
        "  ANSWER += abs(R-A) // M\n",
        "  ANSWER += abs(L-A) // M\n",
        "  ANSWER += 1\n",
        "elif L > A:\n",
        "  ANSWER += abs(R-A) // M\n",
        "  ANSWER -= abs(L-A) // M\n",
        "  if abs(L-A) % M == 0:\n",
        "    ANSWER += 1\n",
        "elif A > R:\n",
        "  ANSWER += abs(L-A) // M\n",
        "  ANSWER -= abs(R-A) // M\n",
        "  if abs(R-A) % M == 0:\n",
        "    ANSWER += 1\n",
        "\n",
        "print(ANSWER)"
      ],
      "metadata": {
        "id": "XrhW7MEtrk4K"
      },
      "execution_count": null,
      "outputs": []
    },
    {
      "cell_type": "code",
      "source": [
        "A,M,L,R = map(int,input().split())\n",
        "ANSWER = 0\n",
        "\n",
        "if L == R:\n",
        "  pass\n",
        "elif L <= A and A <= R:\n",
        "  ANSWER += abs(R-A) // M\n",
        "  ANSWER += abs(L-A) // M\n",
        "  if abs(R-A) % M == 0 and abs(L-A) % M == 0:\n",
        "    ANSWER -= 1\n",
        "  else:\n",
        "    ANSWER += 1\n",
        "elif L > A:\n",
        "  ANSWER += abs(R-A) // M\n",
        "  ANSWER -= abs(L-A) // M\n",
        "  if abs(L-A) % M == 0:\n",
        "    ANSWER += 1\n",
        "elif A > R:\n",
        "  ANSWER += abs(L-A) // M\n",
        "  ANSWER -= abs(R-A) // M\n",
        "  if abs(R-A) % M == 0:\n",
        "    ANSWER += 1\n",
        "\n",
        "print(ANSWER)"
      ],
      "metadata": {
        "colab": {
          "base_uri": "https://localhost:8080/"
        },
        "id": "ZgwVcWjNsmlE",
        "outputId": "12b2a99c-0cb2-4902-92e0-95a21ff314ed"
      },
      "execution_count": 2,
      "outputs": [
        {
          "output_type": "stream",
          "name": "stdout",
          "text": [
            "0 1 -2 2\n",
            "3\n"
          ]
        }
      ]
    },
    {
      "cell_type": "code",
      "source": [
        "A,M,L,R = map(int,input().split())\n",
        "ANSWER = 0\n",
        "\n",
        "if L == R:\n",
        "  if L == A or R == A:\n",
        "    ANSWER += 1\n",
        "  else:\n",
        "    pass\n",
        "elif L <= A and A <= R:\n",
        "  ANSWER += abs(R-A) // M\n",
        "  ANSWER += abs(L-A) // M\n",
        "  ANSWER += 1\n",
        "elif L > A:\n",
        "  ANSWER += abs(R-A) // M\n",
        "  ANSWER -= abs(L-A) // M\n",
        "  if abs(L-A) % M == 0:\n",
        "    ANSWER += 1\n",
        "elif A > R:\n",
        "  ANSWER += abs(L-A) // M\n",
        "  ANSWER -= abs(R-A) // M\n",
        "  if abs(R-A) % M == 0:\n",
        "    ANSWER += 1\n",
        "\n",
        "print(ANSWER)"
      ],
      "metadata": {
        "id": "3a6jcO3Uu011"
      },
      "execution_count": null,
      "outputs": []
    },
    {
      "cell_type": "code",
      "source": [
        "A,M,L,R = map(int,input().split())\n",
        "\n",
        "L -= A\n",
        "R -= A\n",
        "\n",
        "print(R // M - (L-1) // M)"
      ],
      "metadata": {
        "id": "dPcHSVta44Vt"
      },
      "execution_count": null,
      "outputs": []
    }
  ]
}