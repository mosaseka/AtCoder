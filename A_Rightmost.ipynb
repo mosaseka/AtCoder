{
  "nbformat": 4,
  "nbformat_minor": 0,
  "metadata": {
    "colab": {
      "provenance": [],
      "authorship_tag": "ABX9TyOJUF3l5RAdLBmxfUXM2d7I",
      "include_colab_link": true
    },
    "kernelspec": {
      "name": "python3",
      "display_name": "Python 3"
    },
    "language_info": {
      "name": "python"
    }
  },
  "cells": [
    {
      "cell_type": "markdown",
      "metadata": {
        "id": "view-in-github",
        "colab_type": "text"
      },
      "source": [
        "<a href=\"https://colab.research.google.com/github/mosaseka/AtCoder/blob/main/A_Rightmost.ipynb\" target=\"_parent\"><img src=\"https://colab.research.google.com/assets/colab-badge.svg\" alt=\"Open In Colab\"/></a>"
      ]
    },
    {
      "cell_type": "code",
      "execution_count": null,
      "metadata": {
        "colab": {
          "base_uri": "https://localhost:8080/"
        },
        "id": "vmnPZ4BzgqEv",
        "outputId": "5c4a6bed-9e56-42a2-b858-e2912203870b"
      },
      "outputs": [
        {
          "output_type": "stream",
          "name": "stdout",
          "text": [
            "abcdaxayz\n",
            "7\n"
          ]
        }
      ],
      "source": [
        "S_LIST = list(map(str,input()))\n",
        "S_LENGTH = len(S_LIST)\n",
        "FLAG = -1\n",
        "\n",
        "S_LIST.reverse()\n",
        "\n",
        "for i in range(S_LENGTH):\n",
        "  if str(S_LIST[i]) == \"a\":\n",
        "    FLAG = S_LENGTH - i\n",
        "    break\n",
        "  else:\n",
        "    pass\n",
        "\n",
        "print(FLAG)"
      ]
    }
  ]
}