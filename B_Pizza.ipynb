{
  "nbformat": 4,
  "nbformat_minor": 0,
  "metadata": {
    "colab": {
      "provenance": [],
      "authorship_tag": "ABX9TyMWuwF9Jc7IhMTeFvOR+08N",
      "include_colab_link": true
    },
    "kernelspec": {
      "name": "python3",
      "display_name": "Python 3"
    },
    "language_info": {
      "name": "python"
    }
  },
  "cells": [
    {
      "cell_type": "markdown",
      "metadata": {
        "id": "view-in-github",
        "colab_type": "text"
      },
      "source": [
        "<a href=\"https://colab.research.google.com/github/mosaseka/AtCoder/blob/main/B_Pizza.ipynb\" target=\"_parent\"><img src=\"https://colab.research.google.com/assets/colab-badge.svg\" alt=\"Open In Colab\"/></a>"
      ]
    },
    {
      "cell_type": "code",
      "execution_count": null,
      "metadata": {
        "id": "Yni86MBICLcf"
      },
      "outputs": [],
      "source": [
        "from collections import deque\n",
        "\n",
        "N = int(input())\n",
        "A_LIST = list(map(int,input().split()))\n",
        "CHECK = 0\n",
        "LIST = [0,360]\n",
        "ANSWER_LIST = []\n",
        "\n",
        "for i in A_LIST:\n",
        "  CHECK += i\n",
        "  CHECK %= 360\n",
        "  LIST.append(CHECK)\n",
        "\n",
        "LIST.sort()\n",
        "\n",
        "ANSWER_LIST = [LIST[i+1]-LIST[i] for i in range(len(LIST)-1)]\n",
        "\n",
        "print(max(ANSWER_LIST))"
      ]
    }
  ]
}