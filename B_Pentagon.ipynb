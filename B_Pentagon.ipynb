{
  "nbformat": 4,
  "nbformat_minor": 0,
  "metadata": {
    "colab": {
      "provenance": [],
      "authorship_tag": "ABX9TyNOKQ5A/ZYBBYvYqf9N6hGB",
      "include_colab_link": true
    },
    "kernelspec": {
      "name": "python3",
      "display_name": "Python 3"
    },
    "language_info": {
      "name": "python"
    }
  },
  "cells": [
    {
      "cell_type": "markdown",
      "metadata": {
        "id": "view-in-github",
        "colab_type": "text"
      },
      "source": [
        "<a href=\"https://colab.research.google.com/github/mosaseka/AtCoder/blob/main/B_Pentagon.ipynb\" target=\"_parent\"><img src=\"https://colab.research.google.com/assets/colab-badge.svg\" alt=\"Open In Colab\"/></a>"
      ]
    },
    {
      "cell_type": "code",
      "execution_count": null,
      "metadata": {
        "id": "ySPsTG9OJ8Da"
      },
      "outputs": [],
      "source": [
        "S = str(input())\n",
        "T = str(input())\n",
        "LIST_A = [\"AB\",\"BC\",\"CD\",\"DE\",\"EA\",\"BA\",\"CB\",\"DC\",\"ED\",\"AE\"]\n",
        "LIST_B = [\"AD\",\"DA\",\"AC\",\"CA\",\"CE\",\"EC\",\"DB\",\"BD\",\"BE\",\"EB\"]\n",
        "\n",
        "if S == T:\n",
        "  print(\"Yes\")\n",
        "elif S in LIST_A and T in LIST_A:\n",
        "  print(\"Yes\")\n",
        "elif S in LIST_B and T in LIST_B:\n",
        "  print(\"Yes\")\n",
        "else:\n",
        "  print(\"No\")"
      ]
    }
  ]
}