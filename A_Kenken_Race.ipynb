{
  "nbformat": 4,
  "nbformat_minor": 0,
  "metadata": {
    "colab": {
      "provenance": [],
      "authorship_tag": "ABX9TyOxbkpXY7Jf6+WAD1PSHPcN",
      "include_colab_link": true
    },
    "kernelspec": {
      "name": "python3",
      "display_name": "Python 3"
    },
    "language_info": {
      "name": "python"
    }
  },
  "cells": [
    {
      "cell_type": "markdown",
      "metadata": {
        "id": "view-in-github",
        "colab_type": "text"
      },
      "source": [
        "<a href=\"https://colab.research.google.com/github/mosaseka/AtCoder/blob/main/A_Kenken_Race.ipynb\" target=\"_parent\"><img src=\"https://colab.research.google.com/assets/colab-badge.svg\" alt=\"Open In Colab\"/></a>"
      ]
    },
    {
      "cell_type": "code",
      "execution_count": null,
      "metadata": {
        "id": "_Fto73wjH4yG"
      },
      "outputs": [],
      "source": [
        "N,A,B,C,D = map(int,input().split())\n",
        "S_LIST = list(map(str,input()))\n",
        "CHECK_LIST = []\n",
        "\n",
        "CHECK_LIST = S_LIST.copy()\n",
        "\n",
        "if A > B:\n",
        "  while A < C:\n",
        "    if CHECK_LIST[A+1] != \".\" and CHECK_LIST[A+2] != \".\":\n",
        "      print(\"No\")\n",
        "      exit()\n",
        "    elif CHECK_LIST[A+1] != \".\" and CHECK_LIST[A+2] == \".\":\n",
        "      A += 2\n",
        "    elif CHECK_LIST[A+1] == \".\":\n",
        "      A += 1\n",
        "  CHECK_LIST[C-1] = \"A\"\n",
        "  while B < C:\n",
        "    if CHECK_LIST[B+1] != \".\" and CHECK_LIST[B+2] != \".\":\n",
        "      print(\"No\")\n",
        "      exit()\n",
        "    elif CHECK_LIST[B+1] != \".\" and CHECK_LIST[B+2] == \".\":\n",
        "      B += 2\n",
        "    elif CHECK_LIST[B+1] == \".\":\n",
        "      B += 1\n",
        "\n",
        "print(\"Yes\")"
      ]
    },
    {
      "cell_type": "code",
      "source": [
        "N,A,B,C,D = map(int,input().split())\n",
        "S_LIST = list(map(str,input()))\n",
        "\n",
        "for i in range(N-1):\n",
        "  if S_LIST[i] == \"#\" and S_LIST[i+1] == \"#\":\n",
        "    print(\"No\")\n",
        "    exit()\n",
        "\n",
        "if C < D:\n",
        "  print(\"Yes\")\n",
        "else:\n",
        "  for i in range(B,D-1):\n",
        "    if S_LIST[i] == \".\" and S_LIST[i+1] == \".\" and S_LIST[i+2] == \".\":\n",
        "      print(\"Yes\")\n",
        "      exit()\n",
        "  print(\"No\")"
      ],
      "metadata": {
        "id": "_Otp53QMG8pU"
      },
      "execution_count": null,
      "outputs": []
    },
    {
      "cell_type": "code",
      "source": [
        "N,A,B,C,D = map(int,input().split())\n",
        "S = str(input())\n",
        "\n",
        "if \"##\" in S[A-1:C-1] or \"##\" in S[B-1:D-1]:\n",
        "  print(\"No\")\n",
        "  exit()\n",
        "\n",
        "if C < D:\n",
        "  print(\"Yes\")\n",
        "else:\n",
        "  if \"...\" in S[B-2:D+1]:\n",
        "    print(\"Yes\")\n",
        "  else:\n",
        "    print(\"No\")"
      ],
      "metadata": {
        "id": "ejAxle3JLWum"
      },
      "execution_count": null,
      "outputs": []
    },
    {
      "cell_type": "code",
      "source": [],
      "metadata": {
        "id": "L41BTeFXNRfm"
      },
      "execution_count": null,
      "outputs": []
    }
  ]
}