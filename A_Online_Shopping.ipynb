{
  "nbformat": 4,
  "nbformat_minor": 0,
  "metadata": {
    "colab": {
      "provenance": [],
      "authorship_tag": "ABX9TyOWzcKbvXsSsx78cjYUVMV+",
      "include_colab_link": true
    },
    "kernelspec": {
      "name": "python3",
      "display_name": "Python 3"
    },
    "language_info": {
      "name": "python"
    }
  },
  "cells": [
    {
      "cell_type": "markdown",
      "metadata": {
        "id": "view-in-github",
        "colab_type": "text"
      },
      "source": [
        "<a href=\"https://colab.research.google.com/github/mosaseka/AtCoder/blob/main/A_Online_Shopping.ipynb\" target=\"_parent\"><img src=\"https://colab.research.google.com/assets/colab-badge.svg\" alt=\"Open In Colab\"/></a>"
      ]
    },
    {
      "cell_type": "code",
      "execution_count": null,
      "metadata": {
        "id": "s2II69gTQl61"
      },
      "outputs": [],
      "source": [
        "N,S,K = map(int,input().split())\n",
        "SUM = 0\n",
        "P = 0\n",
        "Q = 0\n",
        "\n",
        "for i in range(N):\n",
        "  P,Q = map(int,input().split())\n",
        "  SUM += P*Q\n",
        "\n",
        "if SUM >= S:\n",
        "  pass\n",
        "else:\n",
        "  SUM += K\n",
        "\n",
        "print(SUM)"
      ]
    }
  ]
}