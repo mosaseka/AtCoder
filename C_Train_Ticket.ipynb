{
  "nbformat": 4,
  "nbformat_minor": 0,
  "metadata": {
    "colab": {
      "provenance": [],
      "authorship_tag": "ABX9TyOboFi1ghpLikxxmFgmWneu",
      "include_colab_link": true
    },
    "kernelspec": {
      "name": "python3",
      "display_name": "Python 3"
    },
    "language_info": {
      "name": "python"
    }
  },
  "cells": [
    {
      "cell_type": "markdown",
      "metadata": {
        "id": "view-in-github",
        "colab_type": "text"
      },
      "source": [
        "<a href=\"https://colab.research.google.com/github/mosaseka/AtCoder/blob/main/C_Train_Ticket.ipynb\" target=\"_parent\"><img src=\"https://colab.research.google.com/assets/colab-badge.svg\" alt=\"Open In Colab\"/></a>"
      ]
    },
    {
      "cell_type": "code",
      "execution_count": null,
      "metadata": {
        "colab": {
          "base_uri": "https://localhost:8080/"
        },
        "id": "QrCRQRNsPUMw",
        "outputId": "2166d021-c582-4b96-fb27-88f7c3b58925"
      },
      "outputs": [
        {
          "output_type": "stream",
          "name": "stdout",
          "text": [
            "3242\n",
            "3-2+4+2=7\n"
          ]
        }
      ],
      "source": [
        "import itertools\n",
        "\n",
        "ABCD_LIST = list(map(int,input()))\n",
        "ANSWER = \"\"\n",
        "OP_ALL = [\"+\",\"+\",\"+\",\"-\",\"-\",\"-\"]\n",
        "OP_PERM = []\n",
        "CHECK = 0\n",
        "\n",
        "OP_PERM = list(set(itertools.permutations(OP_ALL,3)))\n",
        "#print(OP_PERM)\n",
        "\n",
        "for i in range(len(OP_PERM)):\n",
        "  CHECK = 0\n",
        "  CHECK += ABCD_LIST[0]\n",
        "  for j in range(3):\n",
        "    if OP_PERM[i][j] == \"+\":\n",
        "      CHECK += ABCD_LIST[j+1]\n",
        "    else:\n",
        "      CHECK -= ABCD_LIST[j+1]\n",
        "  if CHECK == 7:\n",
        "    ANSWER += str(ABCD_LIST[0])\n",
        "    ANSWER += str(OP_PERM[i][0])\n",
        "    ANSWER += str(ABCD_LIST[1])\n",
        "    ANSWER += str(OP_PERM[i][1])\n",
        "    ANSWER += str(ABCD_LIST[2])\n",
        "    ANSWER += str(OP_PERM[i][2])\n",
        "    ANSWER += str(ABCD_LIST[3])\n",
        "    ANSWER += \"=7\"\n",
        "    break\n",
        "\n",
        "print(ANSWER)"
      ]
    }
  ]
}