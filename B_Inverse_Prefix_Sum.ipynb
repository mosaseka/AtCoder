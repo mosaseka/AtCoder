{
  "nbformat": 4,
  "nbformat_minor": 0,
  "metadata": {
    "colab": {
      "provenance": [],
      "authorship_tag": "ABX9TyO1ioruIxD3q25cZIr9bBLm",
      "include_colab_link": true
    },
    "kernelspec": {
      "name": "python3",
      "display_name": "Python 3"
    },
    "language_info": {
      "name": "python"
    }
  },
  "cells": [
    {
      "cell_type": "markdown",
      "metadata": {
        "id": "view-in-github",
        "colab_type": "text"
      },
      "source": [
        "<a href=\"https://colab.research.google.com/github/mosaseka/AtCoder/blob/main/B_Inverse_Prefix_Sum.ipynb\" target=\"_parent\"><img src=\"https://colab.research.google.com/assets/colab-badge.svg\" alt=\"Open In Colab\"/></a>"
      ]
    },
    {
      "cell_type": "code",
      "execution_count": null,
      "metadata": {
        "colab": {
          "base_uri": "https://localhost:8080/"
        },
        "id": "p6gaXS8NtI3x",
        "outputId": "2386d6e2-c630-43bd-ff0d-5fd80e3c962f"
      },
      "outputs": [
        {
          "output_type": "stream",
          "name": "stdout",
          "text": [
            "3\n",
            "3 4 8\n",
            "3 1 4\n"
          ]
        }
      ],
      "source": [
        "N = int(input())\n",
        "A_LIST = list(map(int,input().split()))\n",
        "ANSWER_LIST = []\n",
        "ANSWER = \"\"\n",
        "\n",
        "ANSWER_LIST.append(A_LIST[0])\n",
        "\n",
        "for i in range(N-1):\n",
        "  ANSWER_LIST.append(A_LIST[i+1]-A_LIST[i])\n",
        "\n",
        "for i in range(N):\n",
        "  ANSWER = ANSWER + str(ANSWER_LIST[i])\n",
        "  if i == N-1:\n",
        "    break\n",
        "  else:\n",
        "    ANSWER = ANSWER + \" \"\n",
        "\n",
        "print(ANSWER)"
      ]
    }
  ]
}