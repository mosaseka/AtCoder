{
  "nbformat": 4,
  "nbformat_minor": 0,
  "metadata": {
    "colab": {
      "provenance": [],
      "authorship_tag": "ABX9TyN3n1GCGOSPMZRQXlQr7EAJ",
      "include_colab_link": true
    },
    "kernelspec": {
      "name": "python3",
      "display_name": "Python 3"
    },
    "language_info": {
      "name": "python"
    }
  },
  "cells": [
    {
      "cell_type": "markdown",
      "metadata": {
        "id": "view-in-github",
        "colab_type": "text"
      },
      "source": [
        "<a href=\"https://colab.research.google.com/github/mosaseka/AtCoder/blob/main/C_Repunit_Trio.ipynb\" target=\"_parent\"><img src=\"https://colab.research.google.com/assets/colab-badge.svg\" alt=\"Open In Colab\"/></a>"
      ]
    },
    {
      "cell_type": "code",
      "execution_count": null,
      "metadata": {
        "id": "EQqZ85udgsEb"
      },
      "outputs": [],
      "source": [
        "from collections import deque\n",
        "\n",
        "N = int(input())\n",
        "LIST = deque()\n",
        "A = 0\n",
        "B = 0\n",
        "C = 0\n",
        "\n",
        "for i in range(20):\n",
        "  for j in range(20):\n",
        "    for k in range(20):\n",
        "      A = int(str(1)*(i+1))\n",
        "      B = int(str(1)*(j+1))\n",
        "      C = int(str(1)*(k+1))\n",
        "      LIST.append(A+B+C)\n",
        "\n",
        "LIST = list(LIST)\n",
        "LIST.sort()\n",
        "LIST = list(dict.fromkeys(LIST))\n",
        "#print(LIST)\n",
        "\n",
        "print(LIST[N-1])"
      ]
    }
  ]
}