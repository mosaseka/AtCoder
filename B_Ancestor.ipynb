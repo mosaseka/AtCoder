{
  "nbformat": 4,
  "nbformat_minor": 0,
  "metadata": {
    "colab": {
      "provenance": [],
      "authorship_tag": "ABX9TyMfOlaNWhAhVBcd9DOFMP0b",
      "include_colab_link": true
    },
    "kernelspec": {
      "name": "python3",
      "display_name": "Python 3"
    },
    "language_info": {
      "name": "python"
    }
  },
  "cells": [
    {
      "cell_type": "markdown",
      "metadata": {
        "id": "view-in-github",
        "colab_type": "text"
      },
      "source": [
        "<a href=\"https://colab.research.google.com/github/mosaseka/AtCoder/blob/main/B_Ancestor.ipynb\" target=\"_parent\"><img src=\"https://colab.research.google.com/assets/colab-badge.svg\" alt=\"Open In Colab\"/></a>"
      ]
    },
    {
      "cell_type": "code",
      "execution_count": null,
      "metadata": {
        "id": "jR4IfzhtLnse"
      },
      "outputs": [],
      "source": [
        "N = int(input())\n",
        "P_LIST = list(map(int,input().split()))\n",
        "\n",
        "print(len(P_LIST))"
      ]
    },
    {
      "cell_type": "code",
      "source": [
        "N = int(input())\n",
        "P_LIST = [0,0] + list(map(int,input().split()))\n",
        "CHECK = N\n",
        "COUNT = 0\n",
        "\n",
        "while CHECK != 1:\n",
        "  COUNT += 1\n",
        "  CHECK = P_LIST[CHECK]\n",
        "\n",
        "print(COUNT)"
      ],
      "metadata": {
        "id": "GgHP7L7IMDQi"
      },
      "execution_count": null,
      "outputs": []
    }
  ]
}