{
  "nbformat": 4,
  "nbformat_minor": 0,
  "metadata": {
    "colab": {
      "provenance": [],
      "authorship_tag": "ABX9TyOKLjrlQmmBJf6rUBK2KkS+",
      "include_colab_link": true
    },
    "kernelspec": {
      "name": "python3",
      "display_name": "Python 3"
    },
    "language_info": {
      "name": "python"
    }
  },
  "cells": [
    {
      "cell_type": "markdown",
      "metadata": {
        "id": "view-in-github",
        "colab_type": "text"
      },
      "source": [
        "<a href=\"https://colab.research.google.com/github/mosaseka/AtCoder/blob/main/C_Cash_Register.ipynb\" target=\"_parent\"><img src=\"https://colab.research.google.com/assets/colab-badge.svg\" alt=\"Open In Colab\"/></a>"
      ]
    },
    {
      "cell_type": "code",
      "execution_count": null,
      "metadata": {
        "colab": {
          "base_uri": "https://localhost:8080/"
        },
        "id": "tPmhNJtCG8Rb",
        "outputId": "974dcfc8-1497-4e45-caf0-fa207de71815"
      },
      "outputs": [
        {
          "output_type": "stream",
          "name": "stdout",
          "text": [
            "200000\n",
            "4\n"
          ]
        }
      ],
      "source": [
        "S_LIST = list(map(int,input()))\n",
        "ANSWER = 0\n",
        "S_LIST_LENGTH = len(S_LIST)\n",
        "\n",
        "while S_LIST != []:\n",
        "  if len(S_LIST) == 1:\n",
        "    ANSWER = ANSWER + 1\n",
        "    break\n",
        "  if S_LIST[0] == 0 and S_LIST[1] == 0:\n",
        "    ANSWER = ANSWER + 1\n",
        "    S_LIST.pop(0)\n",
        "    S_LIST.pop(0)\n",
        "  else:\n",
        "    ANSWER = ANSWER + 1\n",
        "    S_LIST.pop(0)\n",
        "\n",
        "print(ANSWER)"
      ]
    }
  ]
}