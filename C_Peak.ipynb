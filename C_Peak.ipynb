{
  "nbformat": 4,
  "nbformat_minor": 0,
  "metadata": {
    "colab": {
      "provenance": [],
      "authorship_tag": "ABX9TyN3dYt+t/ElUOFjpcaTM+fu",
      "include_colab_link": true
    },
    "kernelspec": {
      "name": "python3",
      "display_name": "Python 3"
    },
    "language_info": {
      "name": "python"
    }
  },
  "cells": [
    {
      "cell_type": "markdown",
      "metadata": {
        "id": "view-in-github",
        "colab_type": "text"
      },
      "source": [
        "<a href=\"https://colab.research.google.com/github/mosaseka/AtCoder/blob/main/C_Peak.ipynb\" target=\"_parent\"><img src=\"https://colab.research.google.com/assets/colab-badge.svg\" alt=\"Open In Colab\"/></a>"
      ]
    },
    {
      "cell_type": "code",
      "execution_count": null,
      "metadata": {
        "id": "wrE1_M5bE9Dg"
      },
      "outputs": [],
      "source": [
        "N,M = map(int,input().split())\n",
        "A_LIST = list(map(int,input().split()))\n",
        "ANSWER = 1\n",
        "\n",
        "A_LIST.sort()\n",
        "\n",
        "for i in range(N):\n",
        "  if i == 0:\n",
        "    pass\n",
        "  else:\n",
        "    if A_LIST[i] - A_LIST[0] <= M-1:\n",
        "      ANSWER += 1\n",
        "    else:\n",
        "      break\n",
        "\n",
        "print(ANSWER)"
      ]
    },
    {
      "cell_type": "code",
      "source": [
        "from collections import deque\n",
        "from collections import Counter\n",
        "\n",
        "N,M = map(int,input().split())\n",
        "A_LIST = list(map(int,input().split()))\n",
        "CHECK = 0\n",
        "A_COUNT = list(Counter(A_LIST).items())\n",
        "COUNT_LEN = len(A_COUNT)\n",
        "ANSWER = 0\n",
        "ANSWER_DEQ = deque()\n",
        "\n",
        "A_LIST.sort()\n",
        "A_COUNT.sort(key=lambda x: x[0])\n",
        "\n",
        "#print(A_COUNT)\n",
        "\n",
        "for i in range(COUNT_LEN):\n",
        "  CHECK = A_COUNT[i][0]\n",
        "  ANSWER = 0\n",
        "  for j in range(COUNT_LEN-i):\n",
        "    if A_COUNT[j+i][0] <= CHECK + M-1:\n",
        "      ANSWER += A_COUNT[j+i][1]\n",
        "    else:\n",
        "      ANSWER_DEQ.append(ANSWER)\n",
        "      break\n",
        "\n",
        "print(max(ANSWER_DEQ))"
      ],
      "metadata": {
        "id": "NBMkzABMPOJT"
      },
      "execution_count": null,
      "outputs": []
    },
    {
      "cell_type": "code",
      "source": [
        "N,M = map(int,input().split())\n",
        "A_LIST = list(map(int,input().split()))\n",
        "CHECK = 0\n",
        "ANSWER = 0\n",
        "\n",
        "A_LIST.sort()\n",
        "A_LIST.append(9000000000000)\n",
        "\n",
        "for i in range(0,N):\n",
        "  while A_LIST[CHECK] < A_LIST[i] + M:\n",
        "    CHECK += 1\n",
        "  ANSWER = max(ANSWER,CHECK-i)\n",
        "\n",
        "print(ANSWER)"
      ],
      "metadata": {
        "id": "Locv2gvXg_He"
      },
      "execution_count": null,
      "outputs": []
    }
  ]
}