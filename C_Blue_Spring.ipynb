{
  "nbformat": 4,
  "nbformat_minor": 0,
  "metadata": {
    "colab": {
      "provenance": [],
      "authorship_tag": "ABX9TyMcLqd9p1jC7G9mVGD68Xas",
      "include_colab_link": true
    },
    "kernelspec": {
      "name": "python3",
      "display_name": "Python 3"
    },
    "language_info": {
      "name": "python"
    }
  },
  "cells": [
    {
      "cell_type": "markdown",
      "metadata": {
        "id": "view-in-github",
        "colab_type": "text"
      },
      "source": [
        "<a href=\"https://colab.research.google.com/github/mosaseka/AtCoder/blob/main/C_Blue_Spring.ipynb\" target=\"_parent\"><img src=\"https://colab.research.google.com/assets/colab-badge.svg\" alt=\"Open In Colab\"/></a>"
      ]
    },
    {
      "cell_type": "code",
      "execution_count": null,
      "metadata": {
        "id": "5pEfSJ-ZEznl"
      },
      "outputs": [],
      "source": [
        "from collections import deque\n",
        "\n",
        "N,D,P = map(int,input().split())\n",
        "F_LIST = list(map(int,input().split()))\n",
        "PASS = 0\n",
        "CHECK = deque()\n",
        "ANSWER = 0\n",
        "COST = 0\n",
        "\n",
        "F_LIST.sort(reverse=True)\n",
        "\n",
        "for i in range(0,N,D):\n",
        "  CHECK.append(F_LIST[i:i+D])\n",
        "\n",
        "#print(CHECK)\n",
        "\n",
        "for i in range(len(CHECK)):\n",
        "  COST = sum((CHECK[i]))\n",
        "  if COST <= P:\n",
        "    ANSWER += COST\n",
        "  else:\n",
        "    ANSWER += P\n",
        "\n",
        "print(ANSWER)"
      ]
    }
  ]
}