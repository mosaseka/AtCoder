{
  "nbformat": 4,
  "nbformat_minor": 0,
  "metadata": {
    "colab": {
      "provenance": [],
      "authorship_tag": "ABX9TyPmn7qu8KctPN2CBcae7dSl",
      "include_colab_link": true
    },
    "kernelspec": {
      "name": "python3",
      "display_name": "Python 3"
    },
    "language_info": {
      "name": "python"
    }
  },
  "cells": [
    {
      "cell_type": "markdown",
      "metadata": {
        "id": "view-in-github",
        "colab_type": "text"
      },
      "source": [
        "<a href=\"https://colab.research.google.com/github/mosaseka/AtCoder/blob/main/B_Postal_Code.ipynb\" target=\"_parent\"><img src=\"https://colab.research.google.com/assets/colab-badge.svg\" alt=\"Open In Colab\"/></a>"
      ]
    },
    {
      "cell_type": "code",
      "execution_count": null,
      "metadata": {
        "colab": {
          "base_uri": "https://localhost:8080/"
        },
        "id": "CfMsNAyudybl",
        "outputId": "d178f9b9-ce44-46dc-a944-1d3ffa485193"
      },
      "outputs": [
        {
          "output_type": "stream",
          "name": "stdout",
          "text": [
            "1 2\n",
            "7444\n",
            "No\n"
          ]
        }
      ],
      "source": [
        "A,B = map(int,input().split())\n",
        "S_LIST = list(map(str,input()))\n",
        "FLAG = True\n",
        "NUM_LIST = []\n",
        "for i in range(10):\n",
        "  NUM_LIST.append(str(i))\n",
        "\n",
        "if S_LIST[A] == \"-\":\n",
        "  S_LIST.pop(A)\n",
        "else:\n",
        "  FLAG = False\n",
        "\n",
        "for i in range(A+B):\n",
        "  if S_LIST[i] in NUM_LIST:\n",
        "    pass\n",
        "  else:\n",
        "    FLAG = False\n",
        "    break\n",
        "\n",
        "if FLAG:\n",
        "  print(\"Yes\")\n",
        "else:\n",
        "  print(\"No\")"
      ]
    }
  ]
}