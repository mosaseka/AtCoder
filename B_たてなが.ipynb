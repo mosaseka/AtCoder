{
  "nbformat": 4,
  "nbformat_minor": 0,
  "metadata": {
    "colab": {
      "provenance": [],
      "authorship_tag": "ABX9TyN7Uk5YVFkaWohe/CL05Nk6",
      "include_colab_link": true
    },
    "kernelspec": {
      "name": "python3",
      "display_name": "Python 3"
    },
    "language_info": {
      "name": "python"
    }
  },
  "cells": [
    {
      "cell_type": "markdown",
      "metadata": {
        "id": "view-in-github",
        "colab_type": "text"
      },
      "source": [
        "<a href=\"https://colab.research.google.com/github/mosaseka/AtCoder/blob/main/B_%E3%81%9F%E3%81%A6%E3%81%AA%E3%81%8C.ipynb\" target=\"_parent\"><img src=\"https://colab.research.google.com/assets/colab-badge.svg\" alt=\"Open In Colab\"/></a>"
      ]
    },
    {
      "cell_type": "code",
      "execution_count": null,
      "metadata": {
        "colab": {
          "base_uri": "https://localhost:8080/"
        },
        "id": "ECMfb03HSmrf",
        "outputId": "8edb388f-a334-43a5-e973-72819e500b20"
      },
      "outputs": [
        {
          "output_type": "stream",
          "name": "stdout",
          "text": [
            "2 2\n",
            "*.\n",
            ".*\n",
            "*.\n",
            "*.\n",
            ".*\n",
            ".*\n"
          ]
        }
      ],
      "source": [
        "H,W = map(int,input().split())\n",
        "C_LIST = []\n",
        "\n",
        "for i in range(H):\n",
        "  C_LIST.append(str(input()))\n",
        "\n",
        "for i in range(H):\n",
        "  print(C_LIST[i])\n",
        "  print(C_LIST[i])"
      ]
    }
  ]
}