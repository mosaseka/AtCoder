{
  "nbformat": 4,
  "nbformat_minor": 0,
  "metadata": {
    "colab": {
      "provenance": [],
      "authorship_tag": "ABX9TyPraKmY465PSyjFTcmIsOst",
      "include_colab_link": true
    },
    "kernelspec": {
      "name": "python3",
      "display_name": "Python 3"
    },
    "language_info": {
      "name": "python"
    }
  },
  "cells": [
    {
      "cell_type": "markdown",
      "metadata": {
        "id": "view-in-github",
        "colab_type": "text"
      },
      "source": [
        "<a href=\"https://colab.research.google.com/github/mosaseka/AtCoder/blob/main/C_RANDOM.ipynb\" target=\"_parent\"><img src=\"https://colab.research.google.com/assets/colab-badge.svg\" alt=\"Open In Colab\"/></a>"
      ]
    },
    {
      "cell_type": "code",
      "execution_count": null,
      "metadata": {
        "colab": {
          "base_uri": "https://localhost:8080/"
        },
        "id": "ZEGfyr26BW8-",
        "outputId": "2f588cd1-8682-4df6-b714-c28c24d4b054"
      },
      "outputs": [
        {
          "output_type": "stream",
          "name": "stdout",
          "text": [
            "3 4\n",
            "##.#\n",
            "##..\n",
            "#...\n",
            ".###\n",
            "..##\n",
            "...#\n",
            "Yes\n"
          ]
        }
      ],
      "source": [
        "H,W = map(int,input().split())\n",
        "S_LIST = []\n",
        "T_LIST =[]\n",
        "\n",
        "for i in range(H):\n",
        "  S_LIST.append(str(input()))\n",
        "S_LIST = sorted(list(zip(*S_LIST)))\n",
        "\n",
        "for i in range(H):\n",
        "  T_LIST.append(str(input()))\n",
        "T_LIST = sorted(list(zip(*T_LIST)))\n",
        "\n",
        "if S_LIST == T_LIST:\n",
        "  print(\"Yes\")\n",
        "else:\n",
        "  print(\"No\")"
      ]
    }
  ]
}