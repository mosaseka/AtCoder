{
  "nbformat": 4,
  "nbformat_minor": 0,
  "metadata": {
    "colab": {
      "provenance": [],
      "authorship_tag": "ABX9TyMTyH5evxAbGJByNOtYzPyZ",
      "include_colab_link": true
    },
    "kernelspec": {
      "name": "python3",
      "display_name": "Python 3"
    },
    "language_info": {
      "name": "python"
    }
  },
  "cells": [
    {
      "cell_type": "markdown",
      "metadata": {
        "id": "view-in-github",
        "colab_type": "text"
      },
      "source": [
        "<a href=\"https://colab.research.google.com/github/mosaseka/AtCoder/blob/main/B_Collatz_Problem.ipynb\" target=\"_parent\"><img src=\"https://colab.research.google.com/assets/colab-badge.svg\" alt=\"Open In Colab\"/></a>"
      ]
    },
    {
      "cell_type": "code",
      "execution_count": null,
      "metadata": {
        "colab": {
          "base_uri": "https://localhost:8080/"
        },
        "id": "FvKnFSdpeAqc",
        "outputId": "65d14126-6a42-486f-e033-09361a5bcf84"
      },
      "outputs": [
        {
          "output_type": "stream",
          "name": "stdout",
          "text": [
            "54\n",
            "114\n"
          ]
        }
      ],
      "source": [
        "A_LIST = []\n",
        "A_LIST.append(int(input()))\n",
        "COUNT = 0\n",
        "\n",
        "while True:\n",
        "  if A_LIST[-1] % 2 == 0:\n",
        "    A_LIST.append(A_LIST[-1]//2)\n",
        "    COUNT += 1\n",
        "  else:\n",
        "    A_LIST.append(3*A_LIST[-1] + 1)\n",
        "    COUNT += 1\n",
        "  if COUNT == 1:\n",
        "    pass\n",
        "  elif A_LIST.count(A_LIST[-1]) == 2:\n",
        "    break\n",
        "\n",
        "#print(A_LIST)\n",
        "\n",
        "print(COUNT+1)"
      ]
    }
  ]
}