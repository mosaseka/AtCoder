{
  "nbformat": 4,
  "nbformat_minor": 0,
  "metadata": {
    "colab": {
      "provenance": [],
      "authorship_tag": "ABX9TyN7Tw2DJeLvyzMy8RzSRomL",
      "include_colab_link": true
    },
    "kernelspec": {
      "name": "python3",
      "display_name": "Python 3"
    },
    "language_info": {
      "name": "python"
    }
  },
  "cells": [
    {
      "cell_type": "markdown",
      "metadata": {
        "id": "view-in-github",
        "colab_type": "text"
      },
      "source": [
        "<a href=\"https://colab.research.google.com/github/mosaseka/AtCoder/blob/main/C_Belt_Conveyor.ipynb\" target=\"_parent\"><img src=\"https://colab.research.google.com/assets/colab-badge.svg\" alt=\"Open In Colab\"/></a>"
      ]
    },
    {
      "cell_type": "code",
      "execution_count": null,
      "metadata": {
        "id": "UrV9wrLvZByu"
      },
      "outputs": [],
      "source": [
        "H,W = map(int,input().split())\n",
        "G_LIST = [list(map(str,input())) for i in range(H)]\n",
        "X = 0\n",
        "Y = 0\n",
        "COUNT = 0\n",
        "\n",
        "while True:\n",
        "  if G_LIST[Y][X] == \"R\":\n",
        "    if X != W-1:\n",
        "      X += 1\n",
        "      COUNT += 1\n",
        "    else:\n",
        "      break\n",
        "  elif G_LIST[Y][X] == \"L\":\n",
        "    if X != 0:\n",
        "      X -= 1\n",
        "      COUNT += 1\n",
        "    else:\n",
        "      break\n",
        "  elif G_LIST[Y][X] == \"D\":\n",
        "    if Y != H-1:\n",
        "      Y += 1\n",
        "      COUNT += 1\n",
        "    else:\n",
        "      break\n",
        "  elif G_LIST[Y][X] == \"U\":\n",
        "    if Y != 0:\n",
        "      Y -= 1\n",
        "      COUNT += 1\n",
        "    else:\n",
        "      break\n",
        "  if COUNT >= 100000:\n",
        "    print(-1)\n",
        "    exit()\n",
        "\n",
        "print(Y+1,X+1)"
      ]
    },
    {
      "cell_type": "code",
      "source": [
        "H,W = map(int,input().split())\n",
        "G_LIST = [list(map(str,input())) for i in range(H)]\n",
        "X = 0\n",
        "Y = 0\n",
        "COUNT = 0\n",
        "XY_SET = set()\n",
        "\n",
        "while True:\n",
        "  if G_LIST[Y][X] == \"R\":\n",
        "    if X != W-1:\n",
        "      X += 1\n",
        "      if (X,Y) in XY_SET:\n",
        "        print(-1)\n",
        "        exit()\n",
        "      else:\n",
        "        XY_SET.add((X,Y))\n",
        "    else:\n",
        "      break\n",
        "  elif G_LIST[Y][X] == \"L\":\n",
        "    if X != 0:\n",
        "      X -= 1\n",
        "      if (X,Y) in XY_SET:\n",
        "        print(-1)\n",
        "        exit()\n",
        "      else:\n",
        "        XY_SET.add((X,Y))\n",
        "    else:\n",
        "      break\n",
        "  elif G_LIST[Y][X] == \"D\":\n",
        "    if Y != H-1:\n",
        "      Y += 1\n",
        "      if (X,Y) in XY_SET:\n",
        "        print(-1)\n",
        "        exit()\n",
        "      else:\n",
        "        XY_SET.add((X,Y))\n",
        "    else:\n",
        "      break\n",
        "  elif G_LIST[Y][X] == \"U\":\n",
        "    if Y != 0:\n",
        "      Y -= 1\n",
        "      if (X,Y) in XY_SET:\n",
        "        print(-1)\n",
        "        exit()\n",
        "      else:\n",
        "        XY_SET.add((X,Y))\n",
        "    else:\n",
        "      break\n",
        "\n",
        "print(Y+1,X+1)"
      ],
      "metadata": {
        "id": "Wp32Ta37bgOE"
      },
      "execution_count": null,
      "outputs": []
    }
  ]
}