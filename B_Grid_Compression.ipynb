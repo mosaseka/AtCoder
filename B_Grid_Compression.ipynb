{
  "nbformat": 4,
  "nbformat_minor": 0,
  "metadata": {
    "colab": {
      "provenance": [],
      "authorship_tag": "ABX9TyP1F1oVKKLoFvuHR2dny8/H",
      "include_colab_link": true
    },
    "kernelspec": {
      "name": "python3",
      "display_name": "Python 3"
    },
    "language_info": {
      "name": "python"
    }
  },
  "cells": [
    {
      "cell_type": "markdown",
      "metadata": {
        "id": "view-in-github",
        "colab_type": "text"
      },
      "source": [
        "<a href=\"https://colab.research.google.com/github/mosaseka/AtCoder/blob/main/B_Grid_Compression.ipynb\" target=\"_parent\"><img src=\"https://colab.research.google.com/assets/colab-badge.svg\" alt=\"Open In Colab\"/></a>"
      ]
    },
    {
      "cell_type": "code",
      "execution_count": null,
      "metadata": {
        "id": "YG_iOiE8yIt2"
      },
      "outputs": [],
      "source": [
        "H,W = map(int,input().split())\n",
        "GRID_LIST = [list(map(str,input())) for i in range(H)]\n",
        "ANSWER = \"\"\n",
        "\n",
        "#print(GRID_LIST)\n",
        "\n",
        "for i in range(H):\n",
        "  ANSWER = \"\"\n",
        "  if \"#\" not in GRID_LIST[i]:\n",
        "    pass\n",
        "  else:\n",
        "    for j in range(W):\n",
        "      if GRID_LIST[i][j] == \"#\":\n",
        "        ANSWER += \"#\"\n",
        "      elif GRID_LIST[i][j] == \".\":\n",
        "        if j == 0 or j == W-1:\n",
        "          ANSWER += \".\"\n",
        "        elif GRID_LIST[i][j-1] == \"#\" and GRID_LIST[i][j+1] == \"#\":\n",
        "          pass\n",
        "        else:\n",
        "          ANSWER += \".\"\n",
        "    print(ANSWER)"
      ]
    },
    {
      "cell_type": "code",
      "source": [
        "import numpy as np\n",
        "\n",
        "H,W = map(int,input().split())\n",
        "GRID_LIST = [list(map(str,input())) for i in range(H)]\n",
        "ANSWER = \"\"\n",
        "ALPHA_LIST = []\n",
        "ANSWER_LIST = []\n",
        "\n",
        "for i in range(H):\n",
        "  if \"#\" not in GRID_LIST[i]:\n",
        "    pass\n",
        "  else:\n",
        "    ALPHA_LIST.append(GRID_LIST[i])\n",
        "\n",
        "ALPHA_LIST = np.rot90(ALPHA_LIST,1)\n",
        "\n",
        "for i in range(W):\n",
        "  if \"#\" not in ALPHA_LIST[i]:\n",
        "    pass\n",
        "  else:\n",
        "    ANSWER_LIST.append(ALPHA_LIST[i])\n",
        "\n",
        "ANSWER_LIST = np.rot90(ANSWER_LIST,3)\n",
        "\n",
        "for i in range(len(ANSWER_LIST)):\n",
        "  ANSWER = \"\"\n",
        "  for j in range(W):\n",
        "    ANSWER += ANSWER_LIST[i][j]\n",
        "  print(ANSWER)"
      ],
      "metadata": {
        "id": "2o3y0mJ15lyv"
      },
      "execution_count": null,
      "outputs": []
    },
    {
      "cell_type": "code",
      "source": [
        "H,W = map(int,input().split())\n",
        "GRID_LIST = [input() for i in range(H)]\n",
        "HEIGHT_LIST = [False for i in range(H)]\n",
        "WIDTH_LIST = [False for i in range(W)]\n",
        "\n",
        "for i in range(H):\n",
        "  for j in range(W):\n",
        "    if GRID_LIST[i][j] == \"#\":\n",
        "      HEIGHT_LIST[i] = True\n",
        "      WIDTH_LIST[j] = True\n",
        "\n",
        "for i in range(H):\n",
        "  if HEIGHT_LIST[i]:\n",
        "    for j in range(W):\n",
        "      if WIDTH_LIST[j]:\n",
        "        print(GRID_LIST[i][j], end=\"\")\n",
        "    print()"
      ],
      "metadata": {
        "id": "CYNoxqJtjIMa"
      },
      "execution_count": null,
      "outputs": []
    }
  ]
}