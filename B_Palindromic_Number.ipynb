{
  "nbformat": 4,
  "nbformat_minor": 0,
  "metadata": {
    "colab": {
      "provenance": [],
      "authorship_tag": "ABX9TyM5THrgh/1vdL0iBj5m7zX0",
      "include_colab_link": true
    },
    "kernelspec": {
      "name": "python3",
      "display_name": "Python 3"
    },
    "language_info": {
      "name": "python"
    }
  },
  "cells": [
    {
      "cell_type": "markdown",
      "metadata": {
        "id": "view-in-github",
        "colab_type": "text"
      },
      "source": [
        "<a href=\"https://colab.research.google.com/github/mosaseka/AtCoder/blob/main/B_Palindromic_Number.ipynb\" target=\"_parent\"><img src=\"https://colab.research.google.com/assets/colab-badge.svg\" alt=\"Open In Colab\"/></a>"
      ]
    },
    {
      "cell_type": "code",
      "execution_count": null,
      "metadata": {
        "colab": {
          "base_uri": "https://localhost:8080/"
        },
        "id": "L93rnqk3G-1B",
        "outputId": "d6f40bd0-f24e-40b1-d0f4-ac0ddf1fa4c8"
      },
      "outputs": [
        {
          "output_type": "stream",
          "name": "stdout",
          "text": [
            "11009 11332\n",
            "4\n"
          ]
        }
      ],
      "source": [
        "A,B = map(int,input().split())\n",
        "COUNT = 0\n",
        "CHECK_LIST = []\n",
        "\n",
        "for i in range(A,B+1):\n",
        "  CHECK_LIST = list(str(i))\n",
        "  if CHECK_LIST == list(reversed(CHECK_LIST)):\n",
        "    COUNT += 1\n",
        "\n",
        "print(COUNT)"
      ]
    }
  ]
}