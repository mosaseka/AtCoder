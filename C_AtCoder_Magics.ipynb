{
  "nbformat": 4,
  "nbformat_minor": 0,
  "metadata": {
    "colab": {
      "provenance": [],
      "authorship_tag": "ABX9TyNY3WfmwwWNNLY0isK+6cyr",
      "include_colab_link": true
    },
    "kernelspec": {
      "name": "python3",
      "display_name": "Python 3"
    },
    "language_info": {
      "name": "python"
    }
  },
  "cells": [
    {
      "cell_type": "markdown",
      "metadata": {
        "id": "view-in-github",
        "colab_type": "text"
      },
      "source": [
        "<a href=\"https://colab.research.google.com/github/mosaseka/AtCoder/blob/main/C_AtCoder_Magics.ipynb\" target=\"_parent\"><img src=\"https://colab.research.google.com/assets/colab-badge.svg\" alt=\"Open In Colab\"/></a>"
      ]
    },
    {
      "cell_type": "code",
      "execution_count": 1,
      "metadata": {
        "id": "LQ7J5nto9O30",
        "colab": {
          "base_uri": "https://localhost:8080/"
        },
        "outputId": "b22b4512-dd9c-4181-8ffd-fda9141c043f"
      },
      "outputs": [
        {
          "output_type": "stream",
          "name": "stdout",
          "text": [
            "[2, 3, 1]\n"
          ]
        }
      ],
      "source": [
        "def discard_cards(A_LIST, C_LIST):\n",
        "    # カードのインデックスと対応するA、Cの値をリストに格納\n",
        "    cards = [(i, A_LIST[i], C_LIST[i]) for i in range(len(A_LIST))]\n",
        "\n",
        "    # A_LISTを降順にソートし、C_LISTも対応する形で並び替える\n",
        "    cards.sort(key=lambda x: -x[1])  # A_LISTの値で降順にソート\n",
        "\n",
        "    # 捨てるカードのインデックスを格納するリスト\n",
        "    discarded_indices = []\n",
        "\n",
        "    # C_LISTの最小値を追跡する変数\n",
        "    min_c = float('inf')\n",
        "\n",
        "    # 降順にソートされたリストを走査\n",
        "    for i, a, c in cards:\n",
        "        if c < min_c:\n",
        "            min_c = c\n",
        "        else:\n",
        "            discarded_indices.append(i+1)\n",
        "\n",
        "    return discarded_indices\n",
        "\n",
        "N = int(input())\n",
        "A_LIST = []\n",
        "C_LIST = []\n",
        "NUM = set(i+1 for i in range(N))\n",
        "RESULT = set()\n",
        "CHECK = set()\n",
        "ANSWER = []\n",
        "\n",
        "for i in range(N):\n",
        "  A,C = map(int,input().split())\n",
        "  A_LIST.append(A)\n",
        "  C_LIST.append(C)\n",
        "\n",
        "RESULT = set(discard_cards(A_LIST, C_LIST))\n",
        "CHECK = NUM & RESULT\n",
        "\n",
        "ANSWER = [i for i in NUM  if i not in CHECK]\n",
        "\n",
        "print(len(ANSWER))\n",
        "print(*ANSWER)"
      ]
    }
  ]
}