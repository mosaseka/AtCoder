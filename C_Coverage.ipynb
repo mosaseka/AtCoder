{
  "nbformat": 4,
  "nbformat_minor": 0,
  "metadata": {
    "colab": {
      "provenance": [],
      "authorship_tag": "ABX9TyPSvMgAzaYopE3tJRhYdQw9",
      "include_colab_link": true
    },
    "kernelspec": {
      "name": "python3",
      "display_name": "Python 3"
    },
    "language_info": {
      "name": "python"
    }
  },
  "cells": [
    {
      "cell_type": "markdown",
      "metadata": {
        "id": "view-in-github",
        "colab_type": "text"
      },
      "source": [
        "<a href=\"https://colab.research.google.com/github/mosaseka/AtCoder/blob/main/C_Coverage.ipynb\" target=\"_parent\"><img src=\"https://colab.research.google.com/assets/colab-badge.svg\" alt=\"Open In Colab\"/></a>"
      ]
    },
    {
      "cell_type": "code",
      "execution_count": null,
      "metadata": {
        "id": "iOOEtFSX3btl"
      },
      "outputs": [],
      "source": [
        "import itertools\n",
        "\n",
        "N,M = map(int,input().split())\n",
        "C = 0\n",
        "SET_LIST = []\n",
        "COUNT = 0\n",
        "CHECK = []\n",
        "FLAG = False\n",
        "FLAG_LIST = [False for i in range(N)]\n",
        "\n",
        "for i in range(M):\n",
        "  C = int(input())\n",
        "  SET_LIST.append(set(map(int,input().split())))\n",
        "\n",
        "for i in range(M):\n",
        "  CHECK = list(itertools.combinations(SET_LIST,i+1))\n",
        "  #print(CHECK)\n",
        "  for j in range(len(CHECK)):\n",
        "    FLAG_LIST = [False] * N\n",
        "    for k in range(len(CHECK[j])):\n",
        "      for l in range(N):\n",
        "        if (l+1) in CHECK[j][k]:\n",
        "          FLAG_LIST[l] = True\n",
        "    #print(FLAG_LIST)\n",
        "    if all(FLAG_LIST):\n",
        "      COUNT += 1\n",
        "\n",
        "print(COUNT)"
      ]
    }
  ]
}