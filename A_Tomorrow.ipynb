{
  "nbformat": 4,
  "nbformat_minor": 0,
  "metadata": {
    "colab": {
      "provenance": [],
      "authorship_tag": "ABX9TyOEB6YeFBv+tUav5m3XB7gm",
      "include_colab_link": true
    },
    "kernelspec": {
      "name": "python3",
      "display_name": "Python 3"
    },
    "language_info": {
      "name": "python"
    }
  },
  "cells": [
    {
      "cell_type": "markdown",
      "metadata": {
        "id": "view-in-github",
        "colab_type": "text"
      },
      "source": [
        "<a href=\"https://colab.research.google.com/github/mosaseka/AtCoder/blob/main/A_Tomorrow.ipynb\" target=\"_parent\"><img src=\"https://colab.research.google.com/assets/colab-badge.svg\" alt=\"Open In Colab\"/></a>"
      ]
    },
    {
      "cell_type": "code",
      "execution_count": null,
      "metadata": {
        "id": "_pOb_tOO-PLm"
      },
      "outputs": [],
      "source": [
        "M,D = map(int,input().split())\n",
        "y,m,d = map(int,input().split())\n",
        "\n",
        "d += 1\n",
        "\n",
        "if d > D:\n",
        "  d = 1\n",
        "  m += 1\n",
        "if m > M:\n",
        "  m = 1\n",
        "  y += 1\n",
        "\n",
        "print(y,m,d)"
      ]
    }
  ]
}