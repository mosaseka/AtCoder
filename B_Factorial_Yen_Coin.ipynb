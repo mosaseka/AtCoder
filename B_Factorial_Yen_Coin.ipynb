{
  "nbformat": 4,
  "nbformat_minor": 0,
  "metadata": {
    "colab": {
      "provenance": [],
      "authorship_tag": "ABX9TyNggiO1io1yBmBzqb8r0/DS",
      "include_colab_link": true
    },
    "kernelspec": {
      "name": "python3",
      "display_name": "Python 3"
    },
    "language_info": {
      "name": "python"
    }
  },
  "cells": [
    {
      "cell_type": "markdown",
      "metadata": {
        "id": "view-in-github",
        "colab_type": "text"
      },
      "source": [
        "<a href=\"https://colab.research.google.com/github/mosaseka/AtCoder/blob/main/B_Factorial_Yen_Coin.ipynb\" target=\"_parent\"><img src=\"https://colab.research.google.com/assets/colab-badge.svg\" alt=\"Open In Colab\"/></a>"
      ]
    },
    {
      "cell_type": "code",
      "execution_count": null,
      "metadata": {
        "id": "4CZ_lC2D4FV0"
      },
      "outputs": [],
      "source": [
        "from math import factorial\n",
        "\n",
        "P = int(input())\n",
        "COUNT = 0\n",
        "A = factorial(1)\n",
        "B = factorial(2)\n",
        "C = factorial(3)\n",
        "D = factorial(4)\n",
        "E = factorial(5)\n",
        "F = factorial(6)\n",
        "G = factorial(7)\n",
        "H = factorial(8)\n",
        "I = factorial(9)\n",
        "J = factorial(10)\n",
        "\n",
        "while J <= P:\n",
        "  COUNT += 1\n",
        "  P -= J\n",
        "\n",
        "while I <= P:\n",
        "  COUNT += 1\n",
        "  P -= I\n",
        "\n",
        "while H <= P:\n",
        "  COUNT += 1\n",
        "  P -= H\n",
        "\n",
        "while G <= P:\n",
        "  COUNT += 1\n",
        "  P -= G\n",
        "\n",
        "while F <= P:\n",
        "  COUNT += 1\n",
        "  P -= F\n",
        "\n",
        "while E <= P:\n",
        "  COUNT += 1\n",
        "  P -= E\n",
        "\n",
        "while D <= P:\n",
        "  COUNT += 1\n",
        "  P -= D\n",
        "\n",
        "while C <= P:\n",
        "  COUNT += 1\n",
        "  P -= C\n",
        "\n",
        "while B <= P:\n",
        "  COUNT += 1\n",
        "  P -= B\n",
        "\n",
        "while A <= P:\n",
        "  COUNT += 1\n",
        "  P -= A\n",
        "\n",
        "print(COUNT)"
      ]
    }
  ]
}