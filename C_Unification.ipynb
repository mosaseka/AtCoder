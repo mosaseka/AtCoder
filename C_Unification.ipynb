{
  "nbformat": 4,
  "nbformat_minor": 0,
  "metadata": {
    "colab": {
      "provenance": [],
      "authorship_tag": "ABX9TyOgNPJZ5G+R5rVPvGNGQgat",
      "include_colab_link": true
    },
    "kernelspec": {
      "name": "python3",
      "display_name": "Python 3"
    },
    "language_info": {
      "name": "python"
    }
  },
  "cells": [
    {
      "cell_type": "markdown",
      "metadata": {
        "id": "view-in-github",
        "colab_type": "text"
      },
      "source": [
        "<a href=\"https://colab.research.google.com/github/mosaseka/AtCoder/blob/main/C_Unification.ipynb\" target=\"_parent\"><img src=\"https://colab.research.google.com/assets/colab-badge.svg\" alt=\"Open In Colab\"/></a>"
      ]
    },
    {
      "cell_type": "code",
      "execution_count": null,
      "metadata": {
        "colab": {
          "base_uri": "https://localhost:8080/"
        },
        "id": "XuCNTJ7v_dBV",
        "outputId": "fd8e15d6-bef7-4c04-f4c8-af7271ed4f93"
      },
      "outputs": [
        {
          "output_type": "stream",
          "name": "stdout",
          "text": [
            "0\n",
            "0\n"
          ]
        }
      ],
      "source": [
        "S_LIST = list(map(str,input()))\n",
        "COUNT = 0\n",
        "\n",
        "while S_LIST.count(\"0\") != len(S_LIST) and S_LIST.count(\"1\") != len(S_LIST):\n",
        "  #print(S_LIST)\n",
        "  if len(S_LIST) == 0:\n",
        "    break\n",
        "  for i in range(len(S_LIST)-1):\n",
        "    if S_LIST[i] != S_LIST[i+1]:\n",
        "      S_LIST.pop(i)\n",
        "      S_LIST.pop(i)\n",
        "      COUNT += 2\n",
        "      break\n",
        "\n",
        "print(COUNT)"
      ]
    },
    {
      "cell_type": "code",
      "source": [
        "S_LIST = list(map(str,input()))\n",
        "ZERO_COUNT = 0\n",
        "ONE_COUNT = 0\n",
        "\n",
        "ZERO_COUNT = S_LIST.count(\"0\")\n",
        "ONE_COUNT = S_LIST.count(\"1\")\n",
        "\n",
        "print(min(ZERO_COUNT,ONE_COUNT) * 2)"
      ],
      "metadata": {
        "id": "7sapwYr7CQyp"
      },
      "execution_count": null,
      "outputs": []
    }
  ]
}