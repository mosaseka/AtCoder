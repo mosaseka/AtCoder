{
  "nbformat": 4,
  "nbformat_minor": 0,
  "metadata": {
    "colab": {
      "provenance": [],
      "authorship_tag": "ABX9TyOkFH8jDf8RsdMeFReeDzIr",
      "include_colab_link": true
    },
    "kernelspec": {
      "name": "python3",
      "display_name": "Python 3"
    },
    "language_info": {
      "name": "python"
    }
  },
  "cells": [
    {
      "cell_type": "markdown",
      "metadata": {
        "id": "view-in-github",
        "colab_type": "text"
      },
      "source": [
        "<a href=\"https://colab.research.google.com/github/mosaseka/AtCoder/blob/main/B_Overlapping_sheets.ipynb\" target=\"_parent\"><img src=\"https://colab.research.google.com/assets/colab-badge.svg\" alt=\"Open In Colab\"/></a>"
      ]
    },
    {
      "cell_type": "code",
      "execution_count": null,
      "metadata": {
        "id": "pjuImi0yE0Ij"
      },
      "outputs": [],
      "source": [
        "N = int(input())\n",
        "LIST = [[False for i in range(100)] for j in range(100)]\n",
        "A = 0\n",
        "B = 0\n",
        "C = 0\n",
        "D = 0\n",
        "ANSWER = 0\n",
        "\n",
        "for i in range(N):\n",
        "  A,B,C,D = map(int,input().split())\n",
        "  for j in range(B-A):\n",
        "    for k in range(D-C):\n",
        "      LIST[A+j][C+k] = True\n",
        "\n",
        "for i in range(100):\n",
        "  ANSWER += LIST[i].count(True)\n",
        "\n",
        "print(ANSWER)"
      ]
    }
  ]
}