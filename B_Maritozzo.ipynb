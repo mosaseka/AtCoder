{
  "nbformat": 4,
  "nbformat_minor": 0,
  "metadata": {
    "colab": {
      "provenance": [],
      "authorship_tag": "ABX9TyPSJARuoVyegp7yaDOoQRPM",
      "include_colab_link": true
    },
    "kernelspec": {
      "name": "python3",
      "display_name": "Python 3"
    },
    "language_info": {
      "name": "python"
    }
  },
  "cells": [
    {
      "cell_type": "markdown",
      "metadata": {
        "id": "view-in-github",
        "colab_type": "text"
      },
      "source": [
        "<a href=\"https://colab.research.google.com/github/mosaseka/AtCoder/blob/main/B_Maritozzo.ipynb\" target=\"_parent\"><img src=\"https://colab.research.google.com/assets/colab-badge.svg\" alt=\"Open In Colab\"/></a>"
      ]
    },
    {
      "cell_type": "code",
      "execution_count": null,
      "metadata": {
        "id": "2bq4ZGrRUhYU"
      },
      "outputs": [],
      "source": [
        "S_LIST = [str(input()) for i in range(3)]\n",
        "T = str(input())\n",
        "ANSWER = \"\"\n",
        "\n",
        "for i in range(len(T)):\n",
        "  ANSWER += S_LIST[int(T[i])-1]\n",
        "\n",
        "print(ANSWER)"
      ]
    }
  ]
}