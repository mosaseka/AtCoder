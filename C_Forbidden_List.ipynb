{
  "nbformat": 4,
  "nbformat_minor": 0,
  "metadata": {
    "colab": {
      "provenance": [],
      "authorship_tag": "ABX9TyMr5Mk6QjOTYCWIlTMiUyZN",
      "include_colab_link": true
    },
    "kernelspec": {
      "name": "python3",
      "display_name": "Python 3"
    },
    "language_info": {
      "name": "python"
    }
  },
  "cells": [
    {
      "cell_type": "markdown",
      "metadata": {
        "id": "view-in-github",
        "colab_type": "text"
      },
      "source": [
        "<a href=\"https://colab.research.google.com/github/mosaseka/AtCoder/blob/main/C_Forbidden_List.ipynb\" target=\"_parent\"><img src=\"https://colab.research.google.com/assets/colab-badge.svg\" alt=\"Open In Colab\"/></a>"
      ]
    },
    {
      "cell_type": "code",
      "execution_count": null,
      "metadata": {
        "id": "1KZzfJ-81yPy"
      },
      "outputs": [],
      "source": [
        "import bisect\n",
        "\n",
        "X,N = map(int,input().split())\n",
        "P_LIST = list(map(int,input().split()))\n",
        "TARGET = 0\n",
        "P_SET = set(P_LIST)\n",
        "LEFT = 0\n",
        "RIGHT = 0\n",
        "\n",
        "if N == 0:\n",
        "  print(X)\n",
        "  exit()\n",
        "\n",
        "P_LIST.sort()\n",
        "TARGET = P_LIST[bisect.bisect_left(P_LIST,X)]\n",
        "#print(TARGET)\n",
        "LEFT,RIGHT = TARGET,TARGET\n",
        "\n",
        "while True:\n",
        "  if RIGHT not in P_SET:\n",
        "    break\n",
        "  else:\n",
        "    RIGHT += 1\n",
        "\n",
        "while True:\n",
        "  if LEFT not in P_SET:\n",
        "    break\n",
        "  else:\n",
        "    LEFT -= 1\n",
        "\n",
        "if abs(X - LEFT) <= abs(X - RIGHT):\n",
        "  print(LEFT)\n",
        "else:\n",
        "  print(RIGHT)"
      ]
    }
  ]
}