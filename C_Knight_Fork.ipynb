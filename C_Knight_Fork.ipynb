{
  "nbformat": 4,
  "nbformat_minor": 0,
  "metadata": {
    "colab": {
      "provenance": [],
      "authorship_tag": "ABX9TyO5UNhjlsOjj2nQic4tA2+K",
      "include_colab_link": true
    },
    "kernelspec": {
      "name": "python3",
      "display_name": "Python 3"
    },
    "language_info": {
      "name": "python"
    }
  },
  "cells": [
    {
      "cell_type": "markdown",
      "metadata": {
        "id": "view-in-github",
        "colab_type": "text"
      },
      "source": [
        "<a href=\"https://colab.research.google.com/github/mosaseka/AtCoder/blob/main/C_Knight_Fork.ipynb\" target=\"_parent\"><img src=\"https://colab.research.google.com/assets/colab-badge.svg\" alt=\"Open In Colab\"/></a>"
      ]
    },
    {
      "cell_type": "code",
      "execution_count": null,
      "metadata": {
        "id": "a9IF_Vxt6q6F"
      },
      "outputs": [],
      "source": [
        "XA,YA,XB,YB = map(int,input().split())\n",
        "DELTA = [[1,2],[2,1],[2,-1],[1,-2],[-1,-2],[-2,-1],[-2,1],[-1,2]]\n",
        "\n",
        "for i in DELTA:\n",
        "  for j in DELTA:\n",
        "    if XA+i[0]+j[0] == XB and YA+i[1]+j[1] == YB:\n",
        "      print(\"Yes\")\n",
        "      exit()\n",
        "\n",
        "print(\"No\")"
      ]
    }
  ]
}