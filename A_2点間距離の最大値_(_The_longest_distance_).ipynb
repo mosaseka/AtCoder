{
  "nbformat": 4,
  "nbformat_minor": 0,
  "metadata": {
    "colab": {
      "provenance": [],
      "authorship_tag": "ABX9TyPB5vNfP0j7GLx2gkT3UJA7",
      "include_colab_link": true
    },
    "kernelspec": {
      "name": "python3",
      "display_name": "Python 3"
    },
    "language_info": {
      "name": "python"
    }
  },
  "cells": [
    {
      "cell_type": "markdown",
      "metadata": {
        "id": "view-in-github",
        "colab_type": "text"
      },
      "source": [
        "<a href=\"https://colab.research.google.com/github/mosaseka/AtCoder/blob/main/A_2%E7%82%B9%E9%96%93%E8%B7%9D%E9%9B%A2%E3%81%AE%E6%9C%80%E5%A4%A7%E5%80%A4_(_The_longest_distance_).ipynb\" target=\"_parent\"><img src=\"https://colab.research.google.com/assets/colab-badge.svg\" alt=\"Open In Colab\"/></a>"
      ]
    },
    {
      "cell_type": "code",
      "execution_count": null,
      "metadata": {
        "colab": {
          "base_uri": "https://localhost:8080/"
        },
        "id": "_fHv5c_E724n",
        "outputId": "0fc237c4-ca45-45c0-e52a-9049601ab53e"
      },
      "outputs": [
        {
          "output_type": "stream",
          "name": "stdout",
          "text": [
            "3\n",
            "1 1\n",
            "2 4\n",
            "4 3\n",
            "3.605551275463989\n"
          ]
        }
      ],
      "source": [
        "import math\n",
        "\n",
        "N = int(input())\n",
        "X_LIST = []\n",
        "Y_LIST = []\n",
        "DISTANCE_LIST = []\n",
        "DISTANCE = 0\n",
        "\n",
        "for i in range(N):\n",
        "  POINT = list(map(int,input().split()))\n",
        "  X_LIST.append(POINT[0])\n",
        "  Y_LIST.append(POINT[1])\n",
        "\n",
        "for i in range(len(X_LIST)):\n",
        "  for j in range(len(X_LIST)):\n",
        "    DISTANCE = math.sqrt((X_LIST[i]-X_LIST[j])**2 +\n",
        "                         (Y_LIST[i]-Y_LIST[j])**2)\n",
        "    DISTANCE_LIST.append(DISTANCE)\n",
        "    DISTANCE = 0\n",
        "\n",
        "print(max(DISTANCE_LIST))"
      ]
    }
  ]
}