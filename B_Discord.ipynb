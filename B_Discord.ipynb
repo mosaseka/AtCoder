{
  "nbformat": 4,
  "nbformat_minor": 0,
  "metadata": {
    "colab": {
      "provenance": [],
      "authorship_tag": "ABX9TyPEKeBu5Ur/sHDU9gTdXWZp",
      "include_colab_link": true
    },
    "kernelspec": {
      "name": "python3",
      "display_name": "Python 3"
    },
    "language_info": {
      "name": "python"
    }
  },
  "cells": [
    {
      "cell_type": "markdown",
      "metadata": {
        "id": "view-in-github",
        "colab_type": "text"
      },
      "source": [
        "<a href=\"https://colab.research.google.com/github/mosaseka/AtCoder/blob/main/B_Discord.ipynb\" target=\"_parent\"><img src=\"https://colab.research.google.com/assets/colab-badge.svg\" alt=\"Open In Colab\"/></a>"
      ]
    },
    {
      "cell_type": "code",
      "execution_count": null,
      "metadata": {
        "id": "lbCuVKxLGEwp"
      },
      "outputs": [],
      "source": [
        "import itertools\n",
        "\n",
        "N,M = map(int,input().split())\n",
        "CHECK_SET = set()\n",
        "A_LIST = []\n",
        "CHECK_LIST = []\n",
        "ANSWER = 0\n",
        "NUM_LIST = [i+1 for i in range(N)]\n",
        "\n",
        "\n",
        "for i in range(M):\n",
        "  A_LIST = list(map(int,input().split()))\n",
        "  for j in range(N-1):\n",
        "    CHECK_LIST = (A_LIST[j],A_LIST[j+1])\n",
        "    CHECK_SET.add(CHECK_LIST)\n",
        "\n",
        "for i in itertools.combinations(NUM_LIST,2):\n",
        "  if i not in CHECK_SET:\n",
        "    ANSWER += 1\n",
        "\n",
        "print(ANSWER//2)"
      ]
    },
    {
      "cell_type": "code",
      "source": [
        "import itertools\n",
        "\n",
        "N,M = map(int,input().split())\n",
        "NUM_LIST = [i+1 for i in range(N)]\n",
        "COMB_SET = set(itertools.combinations(NUM_LIST,2))\n",
        "ANSWER = 0\n",
        "\n",
        "print(COMB_SET)\n",
        "\n",
        "for i in range(M):\n",
        "  A_LIST = list(map(int,input().split()))\n",
        "  for j in range(N-1):\n",
        "    ALPHA = (A_LIST[j],A_LIST[j+1])\n",
        "    BETA = (A_LIST[j+1],A_LIST[j])\n",
        "    #print(ALPHA)\n",
        "    #print(BETA)\n",
        "    #print(ALPHA in COMB_SET)\n",
        "    #print(BETA in COMB_SET)\n",
        "    if ALPHA in COMB_SET or BETA in COMB_SET:\n",
        "      pass\n",
        "    else:\n",
        "      ANSWER += 1\n",
        "\n",
        "print(ANSWER)"
      ],
      "metadata": {
        "id": "ngBUOx-EJoRd"
      },
      "execution_count": null,
      "outputs": []
    },
    {
      "cell_type": "code",
      "source": [
        "import math\n",
        "\n",
        "N,M = map(int,input().split())\n",
        "NUM_LIST = [i+1 for i in range(N)]\n",
        "CHECK_SET = set()\n",
        "\n",
        "for i in range(M):\n",
        "  A_LIST = list(map(int,input().split()))\n",
        "  for j in range(N-1):\n",
        "    ALPHA = (A_LIST[j],A_LIST[j+1])\n",
        "    BETA = (A_LIST[j+1],A_LIST[j])\n",
        "    if ALPHA not in CHECK_SET and BETA not in CHECK_SET:\n",
        "      CHECK_SET.add(ALPHA)\n",
        "\n",
        "print(math.comb(N,2) - len(CHECK_SET))"
      ],
      "metadata": {
        "id": "UuVBe_QrMpx0"
      },
      "execution_count": null,
      "outputs": []
    }
  ]
}