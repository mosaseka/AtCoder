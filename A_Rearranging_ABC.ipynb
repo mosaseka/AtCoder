{
  "nbformat": 4,
  "nbformat_minor": 0,
  "metadata": {
    "colab": {
      "provenance": [],
      "authorship_tag": "ABX9TyPMauGZIKiOdlQwSzA3pfVR",
      "include_colab_link": true
    },
    "kernelspec": {
      "name": "python3",
      "display_name": "Python 3"
    },
    "language_info": {
      "name": "python"
    }
  },
  "cells": [
    {
      "cell_type": "markdown",
      "metadata": {
        "id": "view-in-github",
        "colab_type": "text"
      },
      "source": [
        "<a href=\"https://colab.research.google.com/github/mosaseka/AtCoder/blob/main/A_Rearranging_ABC.ipynb\" target=\"_parent\"><img src=\"https://colab.research.google.com/assets/colab-badge.svg\" alt=\"Open In Colab\"/></a>"
      ]
    },
    {
      "cell_type": "code",
      "execution_count": null,
      "metadata": {
        "id": "4XFG0tcgsbcW"
      },
      "outputs": [],
      "source": [
        "S = str(input())\n",
        "\n",
        "A = S.count(\"A\")\n",
        "B = S.count(\"B\")\n",
        "C = S.count(\"C\")\n",
        "\n",
        "#print(A)\n",
        "#print(B)\n",
        "#print(C)\n",
        "\n",
        "if A == 1 and B == 1 and C == 1:\n",
        "  print(\"Yes\")\n",
        "else:\n",
        "  print(\"No\")"
      ]
    }
  ]
}