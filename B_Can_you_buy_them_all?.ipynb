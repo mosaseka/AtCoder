{
  "nbformat": 4,
  "nbformat_minor": 0,
  "metadata": {
    "colab": {
      "provenance": [],
      "authorship_tag": "ABX9TyMneiATxQU/nHNA9vVpDsds",
      "include_colab_link": true
    },
    "kernelspec": {
      "name": "python3",
      "display_name": "Python 3"
    },
    "language_info": {
      "name": "python"
    }
  },
  "cells": [
    {
      "cell_type": "markdown",
      "metadata": {
        "id": "view-in-github",
        "colab_type": "text"
      },
      "source": [
        "<a href=\"https://colab.research.google.com/github/mosaseka/AtCoder/blob/main/B_Can_you_buy_them_all%3F.ipynb\" target=\"_parent\"><img src=\"https://colab.research.google.com/assets/colab-badge.svg\" alt=\"Open In Colab\"/></a>"
      ]
    },
    {
      "cell_type": "code",
      "execution_count": null,
      "metadata": {
        "id": "i81mfusyD7EV"
      },
      "outputs": [],
      "source": [
        "N,X = map(int,input().split())\n",
        "A_LIST = list(map(int,input().split()))\n",
        "\n",
        "for i in range(N):\n",
        "  if (i+1)%2 == 0:\n",
        "    X -= A_LIST[i]-1\n",
        "  else:\n",
        "    X -= A_LIST[i]\n",
        "\n",
        "if X < 0:\n",
        "  print(\"No\")\n",
        "else:\n",
        "  print(\"Yes\")"
      ]
    }
  ]
}