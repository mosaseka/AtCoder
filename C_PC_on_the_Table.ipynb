{
  "nbformat": 4,
  "nbformat_minor": 0,
  "metadata": {
    "colab": {
      "provenance": [],
      "authorship_tag": "ABX9TyPapvLjKF31JSTOMrfKxghU",
      "include_colab_link": true
    },
    "kernelspec": {
      "name": "python3",
      "display_name": "Python 3"
    },
    "language_info": {
      "name": "python"
    }
  },
  "cells": [
    {
      "cell_type": "markdown",
      "metadata": {
        "id": "view-in-github",
        "colab_type": "text"
      },
      "source": [
        "<a href=\"https://colab.research.google.com/github/mosaseka/AtCoder/blob/main/C_PC_on_the_Table.ipynb\" target=\"_parent\"><img src=\"https://colab.research.google.com/assets/colab-badge.svg\" alt=\"Open In Colab\"/></a>"
      ]
    },
    {
      "cell_type": "code",
      "execution_count": null,
      "metadata": {
        "id": "GGWqbDNM7Ejb"
      },
      "outputs": [],
      "source": [
        "H,W = map(int,input().split())\n",
        "TABLE_LIST = []\n",
        "T_COUNT = 0\n",
        "ANSWER = \"\"\n",
        "FLAG = False\n",
        "\n",
        "for i in range(H):\n",
        "  TABLE_LIST = list(str(input()))\n",
        "  ANSWER = \"\"\n",
        "  for j in range(W-1):\n",
        "    if TABLE_LIST[j] == \"T\" and TABLE_LIST[j+1] == \"T\":\n",
        "      TABLE_LIST[j],TABLE_LIST[j+1] = \"P\",\"C\"\n",
        "  for j in range(W):\n",
        "    ANSWER += TABLE_LIST[j]\n",
        "  print(ANSWER)"
      ]
    }
  ]
}