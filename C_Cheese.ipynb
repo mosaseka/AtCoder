{
  "nbformat": 4,
  "nbformat_minor": 0,
  "metadata": {
    "colab": {
      "provenance": [],
      "authorship_tag": "ABX9TyM7p/zcZR2f2VfEjXKqZP0G",
      "include_colab_link": true
    },
    "kernelspec": {
      "name": "python3",
      "display_name": "Python 3"
    },
    "language_info": {
      "name": "python"
    }
  },
  "cells": [
    {
      "cell_type": "markdown",
      "metadata": {
        "id": "view-in-github",
        "colab_type": "text"
      },
      "source": [
        "<a href=\"https://colab.research.google.com/github/mosaseka/AtCoder/blob/main/C_Cheese.ipynb\" target=\"_parent\"><img src=\"https://colab.research.google.com/assets/colab-badge.svg\" alt=\"Open In Colab\"/></a>"
      ]
    },
    {
      "cell_type": "code",
      "execution_count": null,
      "metadata": {
        "id": "zS4k2YnBE_Hs"
      },
      "outputs": [],
      "source": [
        "N,W = map(int,input().split())\n",
        "AB_LIST = [list(map(int,input().split())) for i in range(N)]\n",
        "ANSWER = 0\n",
        "COUNT = 0\n",
        "\n",
        "AB_LIST.sort(reverse=True)\n",
        "#print(AB_LIST)\n",
        "\n",
        "for i in range(N):\n",
        "  if COUNT <= W:\n",
        "    ANSWER += AB_LIST[i][0] * AB_LIST[i][1]\n",
        "    COUNT += AB_LIST[i][1]\n",
        "  else:\n",
        "    while COUNT > W:\n",
        "      ANSWER -= AB_LIST[i][0]\n",
        "      COUNT -= 1\n",
        "\n",
        "if COUNT > W:\n",
        "  while COUNT > W:\n",
        "    ANSWER -= AB_LIST[i][0]\n",
        "    COUNT -= 1\n",
        "\n",
        "print(ANSWER)"
      ]
    },
    {
      "cell_type": "code",
      "source": [
        "N,W = map(int,input().split())\n",
        "AB_LIST = [list(map(int,input().split())) for i in range(N)]\n",
        "ANSWER = 0\n",
        "\n",
        "AB_LIST.sort(reverse=True)\n",
        "#print(AB_LIST)\n",
        "\n",
        "for i in range(N):\n",
        "  ANSWER += min(W,AB_LIST[i][1]) * AB_LIST[i][0]\n",
        "  W -= min(W,AB_LIST[i][1])\n",
        "\n",
        "print(ANSWER)"
      ],
      "metadata": {
        "id": "--_qNYXFIJvr"
      },
      "execution_count": null,
      "outputs": []
    }
  ]
}