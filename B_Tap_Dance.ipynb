{
  "nbformat": 4,
  "nbformat_minor": 0,
  "metadata": {
    "colab": {
      "provenance": [],
      "authorship_tag": "ABX9TyNhVNoFwZOk7b7Gtq+uQExa",
      "include_colab_link": true
    },
    "kernelspec": {
      "name": "python3",
      "display_name": "Python 3"
    },
    "language_info": {
      "name": "python"
    }
  },
  "cells": [
    {
      "cell_type": "markdown",
      "metadata": {
        "id": "view-in-github",
        "colab_type": "text"
      },
      "source": [
        "<a href=\"https://colab.research.google.com/github/mosaseka/AtCoder/blob/main/B_Tap_Dance.ipynb\" target=\"_parent\"><img src=\"https://colab.research.google.com/assets/colab-badge.svg\" alt=\"Open In Colab\"/></a>"
      ]
    },
    {
      "cell_type": "code",
      "execution_count": null,
      "metadata": {
        "id": "FVEIcJKg0laR"
      },
      "outputs": [],
      "source": [
        "S = str(input())\n",
        "\n",
        "for i in range(len(S)):\n",
        "  if (i+1)%2 == 0:\n",
        "    if S[i] == \"R\":\n",
        "      print(\"No\")\n",
        "      exit()\n",
        "  else:\n",
        "    if S[i] == \"L\":\n",
        "      print(\"No\")\n",
        "      exit()\n",
        "\n",
        "print(\"Yes\")"
      ]
    }
  ]
}