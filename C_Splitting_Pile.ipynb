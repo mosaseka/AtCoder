{
  "nbformat": 4,
  "nbformat_minor": 0,
  "metadata": {
    "colab": {
      "provenance": [],
      "authorship_tag": "ABX9TyPByn0cIDXUI0S4B320iMDk",
      "include_colab_link": true
    },
    "kernelspec": {
      "name": "python3",
      "display_name": "Python 3"
    },
    "language_info": {
      "name": "python"
    }
  },
  "cells": [
    {
      "cell_type": "markdown",
      "metadata": {
        "id": "view-in-github",
        "colab_type": "text"
      },
      "source": [
        "<a href=\"https://colab.research.google.com/github/mosaseka/AtCoder/blob/main/C_Splitting_Pile.ipynb\" target=\"_parent\"><img src=\"https://colab.research.google.com/assets/colab-badge.svg\" alt=\"Open In Colab\"/></a>"
      ]
    },
    {
      "cell_type": "code",
      "execution_count": null,
      "metadata": {
        "id": "VYgvR4PgJFkq"
      },
      "outputs": [],
      "source": [
        "from collections import deque\n",
        "\n",
        "N = int(input())\n",
        "A_LIST = list(map(int,input().split()))\n",
        "ANSWER_DEQ = deque()\n",
        "SNUKE = 0\n",
        "ARAIGUMA = sum(A_LIST)\n",
        "\n",
        "for i in range(N-1):\n",
        "  SNUKE += A_LIST[i]\n",
        "  ARAIGUMA -= A_LIST[i]\n",
        "  ANSWER_DEQ.append(abs(SNUKE - ARAIGUMA))\n",
        "\n",
        "print(min(ANSWER_DEQ))"
      ]
    }
  ]
}