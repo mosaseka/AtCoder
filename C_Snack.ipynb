{
  "nbformat": 4,
  "nbformat_minor": 0,
  "metadata": {
    "colab": {
      "provenance": [],
      "authorship_tag": "ABX9TyOKReqIdL7KtSoV6F8MP86F",
      "include_colab_link": true
    },
    "kernelspec": {
      "name": "python3",
      "display_name": "Python 3"
    },
    "language_info": {
      "name": "python"
    }
  },
  "cells": [
    {
      "cell_type": "markdown",
      "metadata": {
        "id": "view-in-github",
        "colab_type": "text"
      },
      "source": [
        "<a href=\"https://colab.research.google.com/github/mosaseka/AtCoder/blob/main/C_Snack.ipynb\" target=\"_parent\"><img src=\"https://colab.research.google.com/assets/colab-badge.svg\" alt=\"Open In Colab\"/></a>"
      ]
    },
    {
      "cell_type": "code",
      "execution_count": null,
      "metadata": {
        "id": "Zb9khLxZ8GVx"
      },
      "outputs": [],
      "source": [
        "import math\n",
        "\n",
        "def my_lcm(x, y):\n",
        "    return (x * y) // math.gcd(x, y)\n",
        "\n",
        "A,B = map(int,input().split())\n",
        "\n",
        "print(my_lcm(A,B))"
      ]
    }
  ]
}