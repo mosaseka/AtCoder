{
  "nbformat": 4,
  "nbformat_minor": 0,
  "metadata": {
    "colab": {
      "provenance": [],
      "authorship_tag": "ABX9TyP4t9Hz6TFEDS2DB0qlAp7+",
      "include_colab_link": true
    },
    "kernelspec": {
      "name": "python3",
      "display_name": "Python 3"
    },
    "language_info": {
      "name": "python"
    }
  },
  "cells": [
    {
      "cell_type": "markdown",
      "metadata": {
        "id": "view-in-github",
        "colab_type": "text"
      },
      "source": [
        "<a href=\"https://colab.research.google.com/github/mosaseka/AtCoder/blob/main/A_Pawn_on_a_Grid.ipynb\" target=\"_parent\"><img src=\"https://colab.research.google.com/assets/colab-badge.svg\" alt=\"Open In Colab\"/></a>"
      ]
    },
    {
      "cell_type": "code",
      "execution_count": null,
      "metadata": {
        "colab": {
          "base_uri": "https://localhost:8080/"
        },
        "id": "Dmn44XEUqN8D",
        "outputId": "33c335ca-4cd0-42c1-e808-b6fffe687d4e"
      },
      "outputs": [
        {
          "output_type": "stream",
          "name": "stdout",
          "text": [
            "3 5\n",
            "#....\n",
            ".....\n",
            ".##..\n",
            "3\n"
          ]
        }
      ],
      "source": [
        "H,W = map(int,input().split())\n",
        "S_LIST = []\n",
        "COUNT = 0\n",
        "\n",
        "for i in range(H):\n",
        "  S_LIST = list(input())\n",
        "  COUNT = COUNT + S_LIST.count(\"#\")\n",
        "\n",
        "print(COUNT)"
      ]
    }
  ]
}