{
  "nbformat": 4,
  "nbformat_minor": 0,
  "metadata": {
    "colab": {
      "provenance": [],
      "authorship_tag": "ABX9TyPdEUWZbcDnNeL3BZXmjTF9",
      "include_colab_link": true
    },
    "kernelspec": {
      "name": "python3",
      "display_name": "Python 3"
    },
    "language_info": {
      "name": "python"
    }
  },
  "cells": [
    {
      "cell_type": "markdown",
      "metadata": {
        "id": "view-in-github",
        "colab_type": "text"
      },
      "source": [
        "<a href=\"https://colab.research.google.com/github/mosaseka/AtCoder/blob/main/B_180%C2%B0.ipynb\" target=\"_parent\"><img src=\"https://colab.research.google.com/assets/colab-badge.svg\" alt=\"Open In Colab\"/></a>"
      ]
    },
    {
      "cell_type": "code",
      "execution_count": null,
      "metadata": {
        "id": "8N5F8PIJXfyV"
      },
      "outputs": [],
      "source": [
        "S = str(input())\n",
        "ANSWER = \"\"\n",
        "\n",
        "S = S[::-1]\n",
        "\n",
        "for i in range(len(S)):\n",
        "  if S[i] == \"6\":\n",
        "    ANSWER += \"9\"\n",
        "  elif S[i] == \"9\":\n",
        "    ANSWER += \"6\"\n",
        "  else:\n",
        "    ANSWER += S[i]\n",
        "\n",
        "print(ANSWER)"
      ]
    }
  ]
}