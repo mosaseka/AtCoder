{
  "nbformat": 4,
  "nbformat_minor": 0,
  "metadata": {
    "colab": {
      "provenance": [],
      "authorship_tag": "ABX9TyOdxzpCePPnSiz2qFCdGLyS",
      "include_colab_link": true
    },
    "kernelspec": {
      "name": "python3",
      "display_name": "Python 3"
    },
    "language_info": {
      "name": "python"
    }
  },
  "cells": [
    {
      "cell_type": "markdown",
      "metadata": {
        "id": "view-in-github",
        "colab_type": "text"
      },
      "source": [
        "<a href=\"https://colab.research.google.com/github/mosaseka/AtCoder/blob/main/C_%E7%9B%B4%E8%A8%B4.ipynb\" target=\"_parent\"><img src=\"https://colab.research.google.com/assets/colab-badge.svg\" alt=\"Open In Colab\"/></a>"
      ]
    },
    {
      "cell_type": "code",
      "execution_count": null,
      "metadata": {
        "id": "73zgu1ZMnfPj"
      },
      "outputs": [],
      "source": [
        "XA,YA,XB,YB,XC,YC = map(int,input().split())\n",
        "XA,YA,XB,YB,XC,YC = XA-XA,YA-YA,XB-XA,YB-YA,XC-XA,YC-YA\n",
        "\n",
        "print(abs(XB*YC - YB*XC) / 2)"
      ]
    }
  ]
}