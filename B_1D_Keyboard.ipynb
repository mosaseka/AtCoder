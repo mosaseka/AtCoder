{
  "nbformat": 4,
  "nbformat_minor": 0,
  "metadata": {
    "colab": {
      "provenance": [],
      "authorship_tag": "ABX9TyOwoxCCfItF/aJHMIpFfHsy",
      "include_colab_link": true
    },
    "kernelspec": {
      "name": "python3",
      "display_name": "Python 3"
    },
    "language_info": {
      "name": "python"
    }
  },
  "cells": [
    {
      "cell_type": "markdown",
      "metadata": {
        "id": "view-in-github",
        "colab_type": "text"
      },
      "source": [
        "<a href=\"https://colab.research.google.com/github/mosaseka/AtCoder/blob/main/B_1D_Keyboard.ipynb\" target=\"_parent\"><img src=\"https://colab.research.google.com/assets/colab-badge.svg\" alt=\"Open In Colab\"/></a>"
      ]
    },
    {
      "cell_type": "code",
      "execution_count": null,
      "metadata": {
        "id": "axI4craVTx7l"
      },
      "outputs": [],
      "source": [
        "S = list(map(str,input()))\n",
        "ALPHABET = \"ABCDEFGHIJKLMNOPQRSTUVWXYZ\"\n",
        "ANSWER = 0\n",
        "\n",
        "for i in range(len(ALPHABET) - 1):\n",
        "  ANSWER += abs((S.index(ALPHABET[i])+1) - (S.index(ALPHABET[i+1])+1))\n",
        "\n",
        "print(ANSWER)"
      ]
    }
  ]
}