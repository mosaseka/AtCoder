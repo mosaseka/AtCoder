{
  "nbformat": 4,
  "nbformat_minor": 0,
  "metadata": {
    "colab": {
      "provenance": [],
      "authorship_tag": "ABX9TyNjmb5/r5RzWIxfQ/CASDI7",
      "include_colab_link": true
    },
    "kernelspec": {
      "name": "python3",
      "display_name": "Python 3"
    },
    "language_info": {
      "name": "python"
    }
  },
  "cells": [
    {
      "cell_type": "markdown",
      "metadata": {
        "id": "view-in-github",
        "colab_type": "text"
      },
      "source": [
        "<a href=\"https://colab.research.google.com/github/mosaseka/AtCoder/blob/main/C_Standings.ipynb\" target=\"_parent\"><img src=\"https://colab.research.google.com/assets/colab-badge.svg\" alt=\"Open In Colab\"/></a>"
      ]
    },
    {
      "cell_type": "code",
      "execution_count": null,
      "metadata": {
        "id": "6_f1avItSkic"
      },
      "outputs": [],
      "source": [
        "from collections import deque\n",
        "\n",
        "N = int(input())\n",
        "A = 0\n",
        "B = 0\n",
        "CHECK_LIST = deque()\n",
        "ANSWER_LIST = deque()\n",
        "\n",
        "for i in range(N):\n",
        "  A,B = map(int,input().split())\n",
        "  CHECK_LIST.append([A/(A+B),i+1])\n",
        "\n",
        "CHECK_LIST = list(CHECK_LIST)\n",
        "CHECK_LIST.sort(reverse=True,key=lambda x:(x[0],x[1]))\n",
        "\n",
        "for i in range(N):\n",
        "  ANSWER_LIST.append(CHECK_LIST[i][1])\n",
        "\n",
        "ANSWER_LIST = list(ANSWER_LIST)\n",
        "print(*ANSWER_LIST)"
      ]
    },
    {
      "cell_type": "code",
      "source": [
        "from collections import deque\n",
        "\n",
        "N = int(input())\n",
        "A = 0\n",
        "B = 0\n",
        "CHECK_LIST = deque()\n",
        "ANSWER_LIST = deque()\n",
        "\n",
        "for i in range(N):\n",
        "  A,B = map(int,input().split())\n",
        "  CHECK_LIST.append([A/(A+B),i+1])\n",
        "\n",
        "CHECK_LIST = list(CHECK_LIST)\n",
        "CHECK_LIST.sort(key=lambda x:x[1])\n",
        "CHECK_LIST.sort(reverse=True,key=lambda x:x[0])\n",
        "\n",
        "for i in range(N):\n",
        "  ANSWER_LIST.append(CHECK_LIST[i][1])\n",
        "\n",
        "ANSWER_LIST = list(ANSWER_LIST)\n",
        "print(*ANSWER_LIST)"
      ],
      "metadata": {
        "colab": {
          "base_uri": "https://localhost:8080/"
        },
        "id": "rc8b0CKfaClW",
        "outputId": "3ab6f1a1-6d1b-4d95-a49a-947627d91d16"
      },
      "execution_count": null,
      "outputs": [
        {
          "output_type": "stream",
          "name": "stdout",
          "text": [
            "4\n",
            "1 3\n",
            "2 6\n",
            "3 9\n",
            "4 12\n",
            "1 2 3 4\n"
          ]
        }
      ]
    },
    {
      "cell_type": "code",
      "source": [
        "from collections import deque\n",
        "from decimal import Decimal\n",
        "\n",
        "N = int(input())\n",
        "A = 0\n",
        "B = 0\n",
        "CHECK_LIST = deque()\n",
        "ANSWER_LIST = deque()\n",
        "\n",
        "for i in range(N):\n",
        "  A,B = map(int,input().split())\n",
        "  CHECK_LIST.append([Decimal(A)/(Decimal(A)+Decimal(B)),i+1])\n",
        "\n",
        "CHECK_LIST = list(CHECK_LIST)\n",
        "CHECK_LIST.sort(key=lambda x:x[1])\n",
        "CHECK_LIST.sort(reverse=True,key=lambda x:x[0])\n",
        "\n",
        "for i in range(N):\n",
        "  ANSWER_LIST.append(CHECK_LIST[i][1])\n",
        "\n",
        "ANSWER_LIST = list(ANSWER_LIST)\n",
        "print(*ANSWER_LIST)"
      ],
      "metadata": {
        "id": "RR9H8aO_c_RA"
      },
      "execution_count": null,
      "outputs": []
    },
    {
      "cell_type": "markdown",
      "source": [
        "次のコードの問題点を教えてください。ほしい出力が得られません。\n",
        "\n",
        "from collections import deque\n",
        "from decimal import Decimal\n",
        "\n",
        "N = int(input())\n",
        "A = 0\n",
        "B = 0\n",
        "CHECK_LIST = deque()\n",
        "ANSWER_LIST = deque()\n",
        "\n",
        "for i in range(N):\n",
        "  A,B = map(int,input().split())\n",
        "  CHECK_LIST.append([Decimal(A/(A+B)),i+1])\n",
        "\n",
        "CHECK_LIST = list(CHECK_LIST)\n",
        "CHECK_LIST.sort(key=lambda x:x[1])\n",
        "CHECK_LIST.sort(reverse=True,key=lambda x:x[0])\n",
        "\n",
        "for i in range(N):\n",
        "  ANSWER_LIST.append(CHECK_LIST[i][1])\n",
        "\n",
        "ANSWER_LIST = list(ANSWER_LIST)\n",
        "print(*ANSWER_LIST)"
      ],
      "metadata": {
        "id": "SnUKJWHwdmv5"
      }
    }
  ]
}