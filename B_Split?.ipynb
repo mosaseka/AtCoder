{
  "nbformat": 4,
  "nbformat_minor": 0,
  "metadata": {
    "colab": {
      "provenance": [],
      "authorship_tag": "ABX9TyNG6CLgmtzLrYN6UvtfHnln",
      "include_colab_link": true
    },
    "kernelspec": {
      "name": "python3",
      "display_name": "Python 3"
    },
    "language_info": {
      "name": "python"
    }
  },
  "cells": [
    {
      "cell_type": "markdown",
      "metadata": {
        "id": "view-in-github",
        "colab_type": "text"
      },
      "source": [
        "<a href=\"https://colab.research.google.com/github/mosaseka/AtCoder/blob/main/B_Split%3F.ipynb\" target=\"_parent\"><img src=\"https://colab.research.google.com/assets/colab-badge.svg\" alt=\"Open In Colab\"/></a>"
      ]
    },
    {
      "cell_type": "code",
      "execution_count": null,
      "metadata": {
        "id": "BFtTdkTECmFN"
      },
      "outputs": [],
      "source": [
        "S = str(input())\n",
        "ALPHA = False\n",
        "BETA = True\n",
        "GANMA = True\n",
        "PIN = [[S[6]],[S[3]],[S[7],S[1]],[S[4],S[0]],[S[8],S[2]],[S[5]],[S[9]]]\n",
        "INDEX = []\n",
        "\n",
        "if S[0] == \"0\":\n",
        "  ALPHA = True\n",
        "\n",
        "for i in range(7):\n",
        "  if \"1\" in PIN[i]:\n",
        "    INDEX.append(i)\n",
        "  else:\n",
        "    BETA = False\n",
        "    break\n",
        "\n",
        "for i in range(7):\n",
        "  if all(PIN[i]) == 0:\n",
        "    pass\n",
        "  else:\n",
        "    GANMA = False\n",
        "    break\n",
        "\n",
        "if ALPHA and BETA and GANMA:\n",
        "  print(\"Yes\")\n",
        "else:\n",
        "  print(\"No\")"
      ]
    },
    {
      "cell_type": "code",
      "source": [
        "def solve(LIST):\n",
        "  for i in range(7):\n",
        "    for j in range(i):\n",
        "      if CHECK[i] and CHECK[j]:\n",
        "        for k in range(j+1,i):\n",
        "          if not CHECK[k]:\n",
        "            return \"Yes\"\n",
        "  return \"No\"\n",
        "\n",
        "S = \"?\" + input()\n",
        "CHECK = [False for i in range(7)]\n",
        "\n",
        "if S[1] == \"1\":\n",
        "  print(\"No\")\n",
        "  exit()\n",
        "\n",
        "CHECK[0] = (S[7] == \"1\");\n",
        "CHECK[1] = (S[4] == \"1\");\n",
        "CHECK[2] = (S[2] == \"1\") or (S[8] == \"1\");\n",
        "CHECK[3] = (S[1] == \"1\") or (S[5] == \"1\");\n",
        "CHECK[4] = (S[3] == \"1\") or (S[9] == \"1\");\n",
        "CHECK[5] = (S[6] == \"1\");\n",
        "CHECK[6] = (S[10] == \"1\");\n",
        "\n",
        "print(solve(CHECK))"
      ],
      "metadata": {
        "id": "EyrpsHgn9Evi"
      },
      "execution_count": null,
      "outputs": []
    }
  ]
}