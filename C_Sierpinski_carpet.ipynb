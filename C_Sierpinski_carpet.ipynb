{
  "nbformat": 4,
  "nbformat_minor": 0,
  "metadata": {
    "colab": {
      "provenance": [],
      "authorship_tag": "ABX9TyMFHQ16IvDpDPPDTu/5paMW",
      "include_colab_link": true
    },
    "kernelspec": {
      "name": "python3",
      "display_name": "Python 3"
    },
    "language_info": {
      "name": "python"
    }
  },
  "cells": [
    {
      "cell_type": "markdown",
      "metadata": {
        "id": "view-in-github",
        "colab_type": "text"
      },
      "source": [
        "<a href=\"https://colab.research.google.com/github/mosaseka/AtCoder/blob/main/C_Sierpinski_carpet.ipynb\" target=\"_parent\"><img src=\"https://colab.research.google.com/assets/colab-badge.svg\" alt=\"Open In Colab\"/></a>"
      ]
    },
    {
      "cell_type": "code",
      "execution_count": null,
      "metadata": {
        "id": "2BSuVx6_q7Ip"
      },
      "outputs": [],
      "source": [
        "def REMOVE(X,Y,SIZE):\n",
        "  if SIZE == 1:\n",
        "    return\n",
        "  STEP = SIZE // 3\n",
        "  for i in range(X+STEP,X+2*STEP):\n",
        "    for j in range(Y+STEP,Y+2*STEP):\n",
        "      LIST[i][j] = \".\"\n",
        "  for i in range(3):\n",
        "    for j in range(3):\n",
        "      if i != 1 or j != 1:\n",
        "        REMOVE(X+i*STEP,Y+j*STEP,STEP)\n",
        "\n",
        "N = int(input())\n",
        "SIZE = 3 ** N\n",
        "LIST = [[\"#\" for i in range(SIZE)] for j in range(SIZE)]\n",
        "\n",
        "REMOVE(0,0,SIZE)\n",
        "\n",
        "for i  in LIST:\n",
        "  print(\"\".join(i))"
      ]
    }
  ]
}