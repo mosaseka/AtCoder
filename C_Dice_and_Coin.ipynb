{
  "nbformat": 4,
  "nbformat_minor": 0,
  "metadata": {
    "colab": {
      "provenance": [],
      "authorship_tag": "ABX9TyNRr40LFeK0InG6SrWezfhh",
      "include_colab_link": true
    },
    "kernelspec": {
      "name": "python3",
      "display_name": "Python 3"
    },
    "language_info": {
      "name": "python"
    }
  },
  "cells": [
    {
      "cell_type": "markdown",
      "metadata": {
        "id": "view-in-github",
        "colab_type": "text"
      },
      "source": [
        "<a href=\"https://colab.research.google.com/github/mosaseka/AtCoder/blob/main/C_Dice_and_Coin.ipynb\" target=\"_parent\"><img src=\"https://colab.research.google.com/assets/colab-badge.svg\" alt=\"Open In Colab\"/></a>"
      ]
    },
    {
      "cell_type": "code",
      "execution_count": null,
      "metadata": {
        "id": "LvGzUWKF7xf-"
      },
      "outputs": [],
      "source": [
        "N,K = map(int,input().split())\n",
        "ANSWER_LIST = []\n",
        "ANSWER = 0\n",
        "COUNT = 0\n",
        "\n",
        "for i in range(N):\n",
        "  COUNT = (i+1)\n",
        "  ANSWER = (1/N)\n",
        "  #print(ANSWER)\n",
        "  while COUNT < K:\n",
        "    ANSWER *= 0.5\n",
        "    COUNT *= 2\n",
        "    #print(COUNT)\n",
        "  ANSWER_LIST.append(ANSWER)\n",
        "\n",
        "#print(ANSWER_LIST)\n",
        "\n",
        "print(sum(ANSWER_LIST))"
      ]
    }
  ]
}