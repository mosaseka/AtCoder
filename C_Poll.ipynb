{
  "nbformat": 4,
  "nbformat_minor": 0,
  "metadata": {
    "colab": {
      "provenance": [],
      "authorship_tag": "ABX9TyNqSz8ZyLJ6dazPsyfp3fjM",
      "include_colab_link": true
    },
    "kernelspec": {
      "name": "python3",
      "display_name": "Python 3"
    },
    "language_info": {
      "name": "python"
    }
  },
  "cells": [
    {
      "cell_type": "markdown",
      "metadata": {
        "id": "view-in-github",
        "colab_type": "text"
      },
      "source": [
        "<a href=\"https://colab.research.google.com/github/mosaseka/AtCoder/blob/main/C_Poll.ipynb\" target=\"_parent\"><img src=\"https://colab.research.google.com/assets/colab-badge.svg\" alt=\"Open In Colab\"/></a>"
      ]
    },
    {
      "cell_type": "code",
      "execution_count": null,
      "metadata": {
        "colab": {
          "base_uri": "https://localhost:8080/"
        },
        "id": "h5vSkqEP4XzH",
        "outputId": "26a661b6-a88a-4899-86fd-508404109446"
      },
      "outputs": [
        {
          "output_type": "stream",
          "name": "stdout",
          "text": [
            "7\n",
            "beat\n",
            "vet\n",
            "beet\n",
            "bed\n",
            "vet\n",
            "bet\n",
            "beet\n",
            "Counter({'vet': 2, 'beet': 2, 'beat': 1, 'bed': 1, 'bet': 1})\n"
          ]
        }
      ],
      "source": [
        "import collections\n",
        "\n",
        "N = int(input())\n",
        "S_LIST = []\n",
        "COUNT = 0\n",
        "MAX = 0\n",
        "ANSWER_LIST = []\n",
        "\n",
        "for i in range(N):\n",
        "  S_LIST.append(str(input()))\n",
        "\n",
        "COUNT = collections.Counter(S_LIST)\n",
        "#print(COUNT)\n",
        "MAX = max(COUNT.values())\n",
        "\n",
        "for i in COUNT.keys():\n",
        "  if COUNT[i] == MAX:\n",
        "    ANSWER_LIST.append(i)\n",
        "\n",
        "ANSWER_LIST.sort()\n",
        "\n",
        "for i in range(len(ANSWER_LIST)):\n",
        "  print(ANSWER_LIST[i])"
      ]
    }
  ]
}