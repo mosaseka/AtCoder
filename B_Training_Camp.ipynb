{
  "nbformat": 4,
  "nbformat_minor": 0,
  "metadata": {
    "colab": {
      "provenance": [],
      "authorship_tag": "ABX9TyPMvuPvkmZKapToliOzdIed",
      "include_colab_link": true
    },
    "kernelspec": {
      "name": "python3",
      "display_name": "Python 3"
    },
    "language_info": {
      "name": "python"
    }
  },
  "cells": [
    {
      "cell_type": "markdown",
      "metadata": {
        "id": "view-in-github",
        "colab_type": "text"
      },
      "source": [
        "<a href=\"https://colab.research.google.com/github/mosaseka/AtCoder/blob/main/B_Training_Camp.ipynb\" target=\"_parent\"><img src=\"https://colab.research.google.com/assets/colab-badge.svg\" alt=\"Open In Colab\"/></a>"
      ]
    },
    {
      "cell_type": "code",
      "execution_count": null,
      "metadata": {
        "colab": {
          "base_uri": "https://localhost:8080/"
        },
        "id": "tvju3j4n57xy",
        "outputId": "cdfd831a-e862-4786-b4d5-a2702e0834d7"
      },
      "outputs": [
        {
          "output_type": "stream",
          "name": "stdout",
          "text": [
            "100000\n",
            "457992974\n"
          ]
        }
      ],
      "source": [
        "N = int(input())\n",
        "POWER = 1\n",
        "\n",
        "for i in range(N):\n",
        "  POWER *= (i+1)\n",
        "\n",
        "print(POWER % ((10**9) + 7))"
      ]
    },
    {
      "cell_type": "code",
      "source": [
        "N = int(input())\n",
        "POWER = 1\n",
        "\n",
        "for i in range(N):\n",
        "  POWER = POWER * (i+1) % ((10**9) + 7)\n",
        "\n",
        "print(POWER)"
      ],
      "metadata": {
        "colab": {
          "base_uri": "https://localhost:8080/"
        },
        "id": "Cy7ILYow60ea",
        "outputId": "a98c45e7-5f5c-48c0-829b-c37d3a7700e5"
      },
      "execution_count": null,
      "outputs": [
        {
          "output_type": "stream",
          "name": "stdout",
          "text": [
            "100000\n",
            "457992974\n"
          ]
        }
      ]
    }
  ]
}