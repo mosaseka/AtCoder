{
  "nbformat": 4,
  "nbformat_minor": 0,
  "metadata": {
    "colab": {
      "provenance": [],
      "authorship_tag": "ABX9TyMCIu8buoxgAxyDPPAgk88Z",
      "include_colab_link": true
    },
    "kernelspec": {
      "name": "python3",
      "display_name": "Python 3"
    },
    "language_info": {
      "name": "python"
    }
  },
  "cells": [
    {
      "cell_type": "markdown",
      "metadata": {
        "id": "view-in-github",
        "colab_type": "text"
      },
      "source": [
        "<a href=\"https://colab.research.google.com/github/mosaseka/AtCoder/blob/main/A_Irreversible_operation.ipynb\" target=\"_parent\"><img src=\"https://colab.research.google.com/assets/colab-badge.svg\" alt=\"Open In Colab\"/></a>"
      ]
    },
    {
      "cell_type": "code",
      "execution_count": null,
      "metadata": {
        "colab": {
          "base_uri": "https://localhost:8080/"
        },
        "id": "mTZ7_TJUe60E",
        "outputId": "904e2bfb-9eee-45dd-e46c-e389279f229b"
      },
      "outputs": [
        {
          "output_type": "stream",
          "name": "stdout",
          "text": [
            "BWBWBW\n",
            "6\n"
          ]
        }
      ],
      "source": [
        "S_LIST = list(str(input()))\n",
        "BLACK_COUNT = 0\n",
        "TOTAL_COUNT = 0\n",
        "\n",
        "while \"W\" in S_LIST:\n",
        "  for i in range(len(S_LIST)):\n",
        "    if S_LIST[i] == \"B\":\n",
        "      BLACK_COUNT += 1\n",
        "    else:\n",
        "      TOTAL_COUNT += BLACK_COUNT\n",
        "      BLACK_COUNT = 0\n",
        "      S_LIST.pop(i)\n",
        "      break\n",
        "\n",
        "print(TOTAL_COUNT)"
      ]
    },
    {
      "cell_type": "code",
      "source": [
        "S = str(input())\n",
        "BLACK_COUNT = 0\n",
        "TOTAL_COUNT = 0\n",
        "\n",
        "while \"W\" in S:\n",
        "  for i in range(len(S)):\n",
        "    if S[i] == \"B\":\n",
        "      BLACK_COUNT += 1\n",
        "    else:\n",
        "      TOTAL_COUNT += BLACK_COUNT\n",
        "      BLACK_COUNT = 0\n",
        "      S = S[:i] + S[i+1:]\n",
        "      #print(S)\n",
        "      break\n",
        "\n",
        "print(TOTAL_COUNT)"
      ],
      "metadata": {
        "colab": {
          "base_uri": "https://localhost:8080/"
        },
        "id": "9BkINhj6hY31",
        "outputId": "934214c7-53f9-4962-bcc0-132a36d07632"
      },
      "execution_count": null,
      "outputs": [
        {
          "output_type": "stream",
          "name": "stdout",
          "text": [
            "BWBWBW\n",
            "BBWBW\n",
            "BBBW\n",
            "BBB\n",
            "6\n"
          ]
        }
      ]
    },
    {
      "cell_type": "code",
      "source": [
        "S = str(input())\n",
        "CHECK = \"\"\n",
        "BLACK_COUNT = 0\n",
        "WHITE_INDEX = 0\n",
        "COUNT = 0\n",
        "\n",
        "for i in range(S.count(\"W\")):\n",
        "  WHITE_INDEX = S.index(\"W\")\n",
        "  CHECK = S[:WHITE_INDEX]\n",
        "  print(CHECK)\n",
        "  BLACK_COUNT = CHECK.count(\"B\")\n",
        "  COUNT += BLACK_COUNT\n",
        "\n",
        "print(COUNT)"
      ],
      "metadata": {
        "colab": {
          "base_uri": "https://localhost:8080/"
        },
        "id": "W3Rq90JKlR6E",
        "outputId": "aa1038f7-cd9e-4f05-dd47-e01d5b3cd979"
      },
      "execution_count": null,
      "outputs": [
        {
          "output_type": "stream",
          "name": "stdout",
          "text": [
            "BWBWBW\n",
            "BW\n",
            "BW\n",
            "BW\n",
            "3\n"
          ]
        }
      ]
    },
    {
      "cell_type": "code",
      "source": [
        "S_LIST = list(str(input()))\n",
        "BLACK_COUNT = 0\n",
        "TOTAL_COUNT = 0\n",
        "\n",
        "for i in range(len(S_LIST)):\n",
        "  if S_LIST[i] == \"B\":\n",
        "    BLACK_COUNT += 1\n",
        "  else:\n",
        "    TOTAL_COUNT += BLACK_COUNT\n",
        "\n",
        "print(TOTAL_COUNT)"
      ],
      "metadata": {
        "colab": {
          "base_uri": "https://localhost:8080/"
        },
        "id": "j1_0UmZCmeDU",
        "outputId": "ed2ab496-ed60-4b7e-cf74-94d820ab0135"
      },
      "execution_count": null,
      "outputs": [
        {
          "output_type": "stream",
          "name": "stdout",
          "text": [
            "BWBWBW\n",
            "6\n"
          ]
        }
      ]
    }
  ]
}